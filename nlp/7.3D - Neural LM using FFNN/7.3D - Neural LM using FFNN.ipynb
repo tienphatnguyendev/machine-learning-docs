{
 "cells": [
  {
   "cell_type": "markdown",
   "metadata": {},
   "source": [
    "# Introduction\n",
    "\n",
    "We have discussed previously Language Modeling, which is estimating probabilities of sentences.  Language Modeling plays an important role in natural language processing and has numerous practical applications in fields such as machine translation, spelling correction, and text generation. Previously, you have implemented language modeling using statistical methods, but in this assignment you will implement a language model using **Feed Forward Neural Networks (FFNN)** using the IMDB dataset.\n",
    "\n",
    "The IMDB dataset, a popular benchmark dataset in sentiment analysis, consists of a collection of movie reviews labeled with their corresponding sentiment (positive or negative). Each review is preprocessed and represented as a sequence of words, with the task being to predict the sentiment polarity based on this textual input.\n",
    "\n",
    "Feedforward neural networks, also known as multilayer perceptrons (MLPs), are a fundamental architecture in deep learning. These networks consist of an input layer, one or more hidden layers, and an output layer. By learning a series of nonlinear transformations, FFNNs can capture complex patterns in high-dimensional data, making them well-suited for sentiment classification tasks.\n",
    "\n",
    "We're gearing up to implement a FFNN that processes text using word embeddings. Our choice for this task is the GloVe word embedding, a topic we've already explored in detail previously.\n",
    "\n",
    "By the end of this assignment, you will have gained valuable insights into Neural Language Modelling using feedforward neural networks and acquired practical skills in designing, training, and evaluating language models."
   ]
  },
  {
   "cell_type": "code",
   "execution_count": 1,
   "metadata": {},
   "outputs": [],
   "source": [
    "import os\n",
    "import zipfile\n",
    "import numpy as np\n",
    "import matplotlib.pyplot as plt\n",
    "import tensorflow as tf\n",
    "from tensorflow.keras.datasets import imdb\n",
    "from tensorflow.keras import preprocessing, models\n",
    "from tensorflow import keras\n",
    "from tqdm import tqdm\n",
    "import tensorflow.keras.utils as ku \n",
    "import math\n"
   ]
  },
  {
   "cell_type": "markdown",
   "metadata": {},
   "source": [
    "# Data pre-processing\n",
    "\n",
    "\n",
    "Let's first setup the environment for training our feedforward neural network (FFNN) for sentiment classification using the IMDB dataset. We will:\n",
    "\n",
    "- **Define Parameters:**\n",
    "    - `vocab_size`: Specifies the number of words to consider as features.\n",
    "    - `embedding_dim`: Sets the dimensionality of word embeddings.\n",
    "    - `maxlen`: Determines the maximum length of a sentence to be fed into the FFNN.\n",
    "- **Load the IMDB Dataset:**\n",
    "    - Uses the keras.datasets.imdb.load_data function to load the IMDB dataset, which consists of movie reviews labeled with their corresponding sentiment (positive or negative).\n",
    "    - Sets parameters such as `num_words`, `start_char`, `oov_char`, and `index_from` for loading the data.\n",
    "- **Retrie Word Index Mapping:**\n",
    "    - Retrieves the word index file mapping words to indices using `keras.datasets.imdb.get_word_index()`.\n",
    "- **Create Reverse Word Index Mapping:**\n",
    "    - Reverses the word index to obtain a dictionary mapping indices to words (id_to_word).\n",
    "    - Adds special characters `[PAD`], `[START]`, and `[OOV]` to id_to_word to handle padding, start of sequence, and out-of-vocabulary words.\n",
    "- **Updating Vocabulary Size:**\n",
    "    - Updates vocab_size to account for the special characters added (`[PAD]`, `[START]`, and `[OOV]`).\n",
    "\n",
    "\n",
    "These data preprocessing steps are required before training the FFNN for sentiment classification on the IMDB dataset."
   ]
  },
  {
   "cell_type": "code",
   "execution_count": 2,
   "metadata": {
    "colab": {
     "base_uri": "https://localhost:8080/",
     "height": 85
    },
    "colab_type": "code",
    "id": "vVL-fE2suIY5",
    "outputId": "bd4905af-2ac9-486a-f973-2f8f356b31e1"
   },
   "outputs": [],
   "source": [
    "# Number of words to consider as features\n",
    "vocab_size = 10000\n",
    "# Dimensionality of word embeddings\n",
    "embedding_dim = 50\n",
    "# Maximum length of a sentence we will feed to our FFNN\n",
    "maxlen = 250 \n",
    "\n",
    "# Load the data as lists of integers.\n",
    "\n",
    "# Use the default parameters to keras.datasets.imdb.load_data\n",
    "pad_char = 0  # Character used for padding sequences\n",
    "start_char = 1  # Character used to indicate the start of a sequence\n",
    "oov_char = 2  # Character used to indicate out-of-vocabulary words\n",
    "index_from = 2  # Index offset for word indices\n",
    "\n",
    "# Retrieve the training sequences.\n",
    "(x_train, y_train), (x_test, y_test) = keras.datasets.imdb.load_data(\n",
    "    num_words=vocab_size, start_char=start_char, oov_char=oov_char, index_from=index_from\n",
    ")\n",
    "\n",
    "# Retrieve the word index file mapping words to indices\n",
    "word_index = keras.datasets.imdb.get_word_index()\n",
    "\n",
    "# Reverse the word index to obtain a dict mapping indices to words\n",
    "# And add `index_from` to indices to sync with `x_train`\n",
    "id_to_word = dict(\n",
    "    (i + index_from, word) for (word, i) in word_index.items()\n",
    ")\n",
    "\n",
    "# Update `id_to_word` to include special characters: `[PAD]`, `[START]`, and `[OOV]`\n",
    "id_to_word[pad_char] = \"[PAD]\"\n",
    "id_to_word[start_char] = \"[START]\"\n",
    "id_to_word[oov_char] = \"[OOV]\"\n",
    "\n",
    "# Create a word index mapping indices to words\n",
    "word_index = dict(\n",
    "    (i, word) for (word, i) in id_to_word.items()\n",
    ")\n",
    "\n",
    "# Update `vocab_size` to account for special characters: `[PAD]`, `[START]`, and `[OOV]`\n",
    "vocab_size = vocab_size + 3\n"
   ]
  },
  {
   "cell_type": "markdown",
   "metadata": {},
   "source": [
    "## <span style=\"color:red\"><b>Task 1</b></span>\n",
    "\n",
    "Now, you need to generate input sequences for training your model using n-gram sequences extracted from the training data. You should iterates through each instance in the training data, constructs n-gram sequences up to a specified length (15), pads sequences to ensure uniform length, and separates input features from labels. "
   ]
  },
  {
   "cell_type": "code",
   "execution_count": 19,
   "metadata": {
    "colab": {},
    "colab_type": "code",
    "id": "PMgj89tnsL5b"
   },
   "outputs": [],
   "source": [
    "# Set the size of input sequences\n",
    "input_seq_size = 15\n",
    "\n",
    "### START CODE HERE ### \n",
    "import numpy as np\n",
    "from tensorflow.keras.preprocessing.sequence import pad_sequences\n",
    "\n",
    "input_sequences = []\n",
    "for sequence in x_train:\n",
    "    for i in range(1, len(sequence)):\n",
    "        n_gram_sequence = sequence[:i+1]\n",
    "        input_sequences.append(n_gram_sequence)\n",
    "\n",
    "# Pad sequences to ensure uniform length\n",
    "input_sequences = pad_sequences(input_sequences, maxlen=input_seq_size, padding='pre')\n",
    "# Split the input sequences into input features and labels\n",
    "input_to_model, label = input_sequences[:,:-1], np.reshape(input_sequences[:,-1], (-1, 1))\n",
    "### END CODE HERE ### \n"
   ]
  },
  {
   "cell_type": "code",
   "execution_count": 21,
   "metadata": {},
   "outputs": [
    {
     "data": {
      "text/plain": [
       "14"
      ]
     },
     "execution_count": 21,
     "metadata": {},
     "output_type": "execute_result"
    }
   ],
   "source": [
    "len(input_to_model[0])"
   ]
  },
  {
   "cell_type": "code",
   "execution_count": 24,
   "metadata": {},
   "outputs": [
    {
     "data": {
      "text/plain": [
       "(5942841, 5942841)"
      ]
     },
     "execution_count": 24,
     "metadata": {},
     "output_type": "execute_result"
    }
   ],
   "source": [
    "len(input_to_model), len(label)"
   ]
  },
  {
   "cell_type": "markdown",
   "metadata": {},
   "source": [
    "Let's display ene padded training sequence as a comprehensible piece of text, accompanied by its taget **word** label to gain insight into the preprocessed data. This visualization aids in understanding the data structure and ensures the correctness of preprocessing steps before model training."
   ]
  },
  {
   "cell_type": "code",
   "execution_count": 22,
   "metadata": {},
   "outputs": [
    {
     "name": "stdout",
     "output_type": "stream",
     "text": [
      "The entry \"67793\" in \"input_sequences\" is: \n",
      "[   4 1506  261 2708 4377    4    2    2   25 1304  388    4 1463  975\n",
      " 5664]\n",
      "It corresponds to the following input to our model:\n",
      "[   4 1506  261 2708 4377    4    2    2   25 1304  388    4 1463  975] (and actresses especially ron moody and [OOV] [OOV] are equally wonderful and offer powerful)\n",
      " and the following target: [5664] (portrayals)\n"
     ]
    }
   ],
   "source": [
    "sample = 67793\n",
    "\n",
    "print(F'The entry \"{sample}\" in \"input_sequences\" is: ')\n",
    "print(input_sequences[sample])\n",
    "print(\"It corresponds to the following input to our model:\")\n",
    "input_sentence = ' '.join([id_to_word[id_] for id_ in input_to_model[sample]])\n",
    "print(f'{input_to_model[sample]} ({input_sentence})')\n",
    "print(f' and the following target: {label[sample]} ({id_to_word[label[sample][0]]})')\n"
   ]
  },
  {
   "cell_type": "markdown",
   "metadata": {},
   "source": [
    "We will now download and extract the GloVe word embedding file and we will use `glove.6B.50d.txt` in which each word is represented using a 50 dimentional space."
   ]
  },
  {
   "cell_type": "code",
   "execution_count": 14,
   "metadata": {},
   "outputs": [],
   "source": [
    "data_url = \"http://nlp.stanford.edu/data/wordvecs/glove.6B.zip\"\n",
    "data_path = keras.utils.get_file(\"glove.6B.zip\", data_url, extract=True)\n",
    "data_path = os.path.dirname(data_path)+'/glove.6B.50d.txt'\n"
   ]
  },
  {
   "cell_type": "code",
   "execution_count": 25,
   "metadata": {},
   "outputs": [
    {
     "name": "stdout",
     "output_type": "stream",
     "text": [
      "Found 400001 word vectors.\n"
     ]
    }
   ],
   "source": [
    "# Initialize an empty dictionary to store word embeddings\n",
    "embeddings_index = {}\n",
    "\n",
    "# Open the GloVe word embedding file for reading\n",
    "f = open(data_path)\n",
    "\n",
    "# Iterate through each line in the file\n",
    "for line in f:\n",
    "    # Split each line into a list of values (space-separated)\n",
    "    values = line.split()\n",
    "    # Extract the word (the first value in the list)\n",
    "    word = values[0]\n",
    "    # Convert the remaining values to a NumPy array of float32 type,\n",
    "    # representing the word vector (embedding)\n",
    "    coefs = np.asarray(values[1:], dtype='float32')\n",
    "    # Add the word and its corresponding embedding to the dictionary\n",
    "    embeddings_index[word] = coefs\n",
    "\n",
    "# Close the file after processing\n",
    "f.close()\n",
    "\n",
    "# Print the total number of word vectors (embeddings) loaded\n",
    "print('Found %s word vectors.' % len(embeddings_index))\n"
   ]
  },
  {
   "cell_type": "markdown",
   "metadata": {},
   "source": [
    "We now iterate through each word in the vocabulary, retrieves its pre-trained GloVe embedding vector (if available), and assigns it to the corresponding row in the embedding matrix. If no pre-trained embedding is found for a word, the corresponding row in the embedding matrix remains all-zeros.\n"
   ]
  },
  {
   "cell_type": "code",
   "execution_count": 26,
   "metadata": {},
   "outputs": [],
   "source": [
    "# Initialize an empty matrix to store the embedding vectors for each word in the vocabulary\n",
    "embedding_matrix = np.zeros((vocab_size, embedding_dim))\n",
    "\n",
    "# Iterate through each word index in the vocabulary\n",
    "for id_ in range(vocab_size):\n",
    "    # Retrieve the word corresponding to the current index\n",
    "    word = id_to_word[id_]\n",
    "    # Attempt to retrieve the embedding vector for the word from the pre-trained GloVe embeddings\n",
    "    embedding_vector = embeddings_index.get(word)\n",
    "    # Check if an embedding vector is found for the word\n",
    "    if embedding_vector is not None:\n",
    "        # If an embedding vector is found, assign it to the corresponding row in the embedding matrix\n",
    "        embedding_matrix[id_] = embedding_vector\n",
    "    # If no embedding vector is found (i.e., the word is not present in the pre-trained embeddings),\n",
    "    # the corresponding row in the embedding matrix remains all-zeros, indicating that the word has no pre-trained embedding\n"
   ]
  },
  {
   "cell_type": "markdown",
   "metadata": {},
   "source": [
    "# Define the network\n",
    "\n",
    "Let's construct the feedforward neural network based on the following architecture (roughly). \n",
    "\n",
    "![Image Title](architecture.png)\n",
    "\n",
    "## <span style=\"color:red\"><b>Task 2</b></span>\n",
    "Implement this architecture:\n"
   ]
  },
  {
   "cell_type": "code",
   "execution_count": 29,
   "metadata": {},
   "outputs": [
    {
     "data": {
      "text/html": [
       "<pre style=\"white-space:pre;overflow-x:auto;line-height:normal;font-family:Menlo,'DejaVu Sans Mono',consolas,'Courier New',monospace\"><span style=\"font-weight: bold\">Model: \"FFNN_Model\"</span>\n",
       "</pre>\n"
      ],
      "text/plain": [
       "\u001b[1mModel: \"FFNN_Model\"\u001b[0m\n"
      ]
     },
     "metadata": {},
     "output_type": "display_data"
    },
    {
     "data": {
      "text/html": [
       "<pre style=\"white-space:pre;overflow-x:auto;line-height:normal;font-family:Menlo,'DejaVu Sans Mono',consolas,'Courier New',monospace\">┏━━━━━━━━━━━━━━━━━━━━━━━━━━━━━━━━━┳━━━━━━━━━━━━━━━━━━━━━━━━┳━━━━━━━━━━━━━━━┓\n",
       "┃<span style=\"font-weight: bold\"> Layer (type)                    </span>┃<span style=\"font-weight: bold\"> Output Shape           </span>┃<span style=\"font-weight: bold\">       Param # </span>┃\n",
       "┡━━━━━━━━━━━━━━━━━━━━━━━━━━━━━━━━━╇━━━━━━━━━━━━━━━━━━━━━━━━╇━━━━━━━━━━━━━━━┩\n",
       "│ InputLayer (<span style=\"color: #0087ff; text-decoration-color: #0087ff\">InputLayer</span>)         │ (<span style=\"color: #00d7ff; text-decoration-color: #00d7ff\">None</span>, <span style=\"color: #00af00; text-decoration-color: #00af00\">14</span>)             │             <span style=\"color: #00af00; text-decoration-color: #00af00\">0</span> │\n",
       "├─────────────────────────────────┼────────────────────────┼───────────────┤\n",
       "│ Embedding (<span style=\"color: #0087ff; text-decoration-color: #0087ff\">Embedding</span>)           │ (<span style=\"color: #00d7ff; text-decoration-color: #00d7ff\">None</span>, <span style=\"color: #00af00; text-decoration-color: #00af00\">14</span>, <span style=\"color: #00af00; text-decoration-color: #00af00\">50</span>)         │       <span style=\"color: #00af00; text-decoration-color: #00af00\">500,150</span> │\n",
       "├─────────────────────────────────┼────────────────────────┼───────────────┤\n",
       "│ Flatten (<span style=\"color: #0087ff; text-decoration-color: #0087ff\">Flatten</span>)               │ (<span style=\"color: #00d7ff; text-decoration-color: #00d7ff\">None</span>, <span style=\"color: #00af00; text-decoration-color: #00af00\">700</span>)            │             <span style=\"color: #00af00; text-decoration-color: #00af00\">0</span> │\n",
       "├─────────────────────────────────┼────────────────────────┼───────────────┤\n",
       "│ Dense_1 (<span style=\"color: #0087ff; text-decoration-color: #0087ff\">Dense</span>)                 │ (<span style=\"color: #00d7ff; text-decoration-color: #00d7ff\">None</span>, <span style=\"color: #00af00; text-decoration-color: #00af00\">128</span>)            │        <span style=\"color: #00af00; text-decoration-color: #00af00\">89,728</span> │\n",
       "├─────────────────────────────────┼────────────────────────┼───────────────┤\n",
       "│ BatchNormalization_1            │ (<span style=\"color: #00d7ff; text-decoration-color: #00d7ff\">None</span>, <span style=\"color: #00af00; text-decoration-color: #00af00\">128</span>)            │           <span style=\"color: #00af00; text-decoration-color: #00af00\">512</span> │\n",
       "│ (<span style=\"color: #0087ff; text-decoration-color: #0087ff\">BatchNormalization</span>)            │                        │               │\n",
       "├─────────────────────────────────┼────────────────────────┼───────────────┤\n",
       "│ Dense_2 (<span style=\"color: #0087ff; text-decoration-color: #0087ff\">Dense</span>)                 │ (<span style=\"color: #00d7ff; text-decoration-color: #00d7ff\">None</span>, <span style=\"color: #00af00; text-decoration-color: #00af00\">256</span>)            │        <span style=\"color: #00af00; text-decoration-color: #00af00\">33,024</span> │\n",
       "├─────────────────────────────────┼────────────────────────┼───────────────┤\n",
       "│ BatchNormalization_2            │ (<span style=\"color: #00d7ff; text-decoration-color: #00d7ff\">None</span>, <span style=\"color: #00af00; text-decoration-color: #00af00\">256</span>)            │         <span style=\"color: #00af00; text-decoration-color: #00af00\">1,024</span> │\n",
       "│ (<span style=\"color: #0087ff; text-decoration-color: #0087ff\">BatchNormalization</span>)            │                        │               │\n",
       "├─────────────────────────────────┼────────────────────────┼───────────────┤\n",
       "│ Dense_3 (<span style=\"color: #0087ff; text-decoration-color: #0087ff\">Dense</span>)                 │ (<span style=\"color: #00d7ff; text-decoration-color: #00d7ff\">None</span>, <span style=\"color: #00af00; text-decoration-color: #00af00\">10003</span>)          │     <span style=\"color: #00af00; text-decoration-color: #00af00\">2,570,771</span> │\n",
       "└─────────────────────────────────┴────────────────────────┴───────────────┘\n",
       "</pre>\n"
      ],
      "text/plain": [
       "┏━━━━━━━━━━━━━━━━━━━━━━━━━━━━━━━━━┳━━━━━━━━━━━━━━━━━━━━━━━━┳━━━━━━━━━━━━━━━┓\n",
       "┃\u001b[1m \u001b[0m\u001b[1mLayer (type)                   \u001b[0m\u001b[1m \u001b[0m┃\u001b[1m \u001b[0m\u001b[1mOutput Shape          \u001b[0m\u001b[1m \u001b[0m┃\u001b[1m \u001b[0m\u001b[1m      Param #\u001b[0m\u001b[1m \u001b[0m┃\n",
       "┡━━━━━━━━━━━━━━━━━━━━━━━━━━━━━━━━━╇━━━━━━━━━━━━━━━━━━━━━━━━╇━━━━━━━━━━━━━━━┩\n",
       "│ InputLayer (\u001b[38;5;33mInputLayer\u001b[0m)         │ (\u001b[38;5;45mNone\u001b[0m, \u001b[38;5;34m14\u001b[0m)             │             \u001b[38;5;34m0\u001b[0m │\n",
       "├─────────────────────────────────┼────────────────────────┼───────────────┤\n",
       "│ Embedding (\u001b[38;5;33mEmbedding\u001b[0m)           │ (\u001b[38;5;45mNone\u001b[0m, \u001b[38;5;34m14\u001b[0m, \u001b[38;5;34m50\u001b[0m)         │       \u001b[38;5;34m500,150\u001b[0m │\n",
       "├─────────────────────────────────┼────────────────────────┼───────────────┤\n",
       "│ Flatten (\u001b[38;5;33mFlatten\u001b[0m)               │ (\u001b[38;5;45mNone\u001b[0m, \u001b[38;5;34m700\u001b[0m)            │             \u001b[38;5;34m0\u001b[0m │\n",
       "├─────────────────────────────────┼────────────────────────┼───────────────┤\n",
       "│ Dense_1 (\u001b[38;5;33mDense\u001b[0m)                 │ (\u001b[38;5;45mNone\u001b[0m, \u001b[38;5;34m128\u001b[0m)            │        \u001b[38;5;34m89,728\u001b[0m │\n",
       "├─────────────────────────────────┼────────────────────────┼───────────────┤\n",
       "│ BatchNormalization_1            │ (\u001b[38;5;45mNone\u001b[0m, \u001b[38;5;34m128\u001b[0m)            │           \u001b[38;5;34m512\u001b[0m │\n",
       "│ (\u001b[38;5;33mBatchNormalization\u001b[0m)            │                        │               │\n",
       "├─────────────────────────────────┼────────────────────────┼───────────────┤\n",
       "│ Dense_2 (\u001b[38;5;33mDense\u001b[0m)                 │ (\u001b[38;5;45mNone\u001b[0m, \u001b[38;5;34m256\u001b[0m)            │        \u001b[38;5;34m33,024\u001b[0m │\n",
       "├─────────────────────────────────┼────────────────────────┼───────────────┤\n",
       "│ BatchNormalization_2            │ (\u001b[38;5;45mNone\u001b[0m, \u001b[38;5;34m256\u001b[0m)            │         \u001b[38;5;34m1,024\u001b[0m │\n",
       "│ (\u001b[38;5;33mBatchNormalization\u001b[0m)            │                        │               │\n",
       "├─────────────────────────────────┼────────────────────────┼───────────────┤\n",
       "│ Dense_3 (\u001b[38;5;33mDense\u001b[0m)                 │ (\u001b[38;5;45mNone\u001b[0m, \u001b[38;5;34m10003\u001b[0m)          │     \u001b[38;5;34m2,570,771\u001b[0m │\n",
       "└─────────────────────────────────┴────────────────────────┴───────────────┘\n"
      ]
     },
     "metadata": {},
     "output_type": "display_data"
    },
    {
     "data": {
      "text/html": [
       "<pre style=\"white-space:pre;overflow-x:auto;line-height:normal;font-family:Menlo,'DejaVu Sans Mono',consolas,'Courier New',monospace\"><span style=\"font-weight: bold\"> Total params: </span><span style=\"color: #00af00; text-decoration-color: #00af00\">3,195,209</span> (12.19 MB)\n",
       "</pre>\n"
      ],
      "text/plain": [
       "\u001b[1m Total params: \u001b[0m\u001b[38;5;34m3,195,209\u001b[0m (12.19 MB)\n"
      ]
     },
     "metadata": {},
     "output_type": "display_data"
    },
    {
     "data": {
      "text/html": [
       "<pre style=\"white-space:pre;overflow-x:auto;line-height:normal;font-family:Menlo,'DejaVu Sans Mono',consolas,'Courier New',monospace\"><span style=\"font-weight: bold\"> Trainable params: </span><span style=\"color: #00af00; text-decoration-color: #00af00\">2,694,291</span> (10.28 MB)\n",
       "</pre>\n"
      ],
      "text/plain": [
       "\u001b[1m Trainable params: \u001b[0m\u001b[38;5;34m2,694,291\u001b[0m (10.28 MB)\n"
      ]
     },
     "metadata": {},
     "output_type": "display_data"
    },
    {
     "data": {
      "text/html": [
       "<pre style=\"white-space:pre;overflow-x:auto;line-height:normal;font-family:Menlo,'DejaVu Sans Mono',consolas,'Courier New',monospace\"><span style=\"font-weight: bold\"> Non-trainable params: </span><span style=\"color: #00af00; text-decoration-color: #00af00\">500,918</span> (1.91 MB)\n",
       "</pre>\n"
      ],
      "text/plain": [
       "\u001b[1m Non-trainable params: \u001b[0m\u001b[38;5;34m500,918\u001b[0m (1.91 MB)\n"
      ]
     },
     "metadata": {},
     "output_type": "display_data"
    }
   ],
   "source": [
    "import tensorflow as tf\n",
    "from tensorflow.keras.layers import Input, Embedding, Flatten, Dense, BatchNormalization\n",
    "from tensorflow.keras.models import Model\n",
    "from tensorflow.keras.optimizers import Adam\n",
    "import tensorflow.keras as keras\n",
    "### START CODE HERE ###\n",
    "input_shape = (14,)  # Sequence length of 15\n",
    "\n",
    "inputs = Input(shape=input_shape, name='InputLayer')\n",
    "x = Embedding(input_dim=vocab_size, output_dim=embedding_dim, weights=[embedding_matrix], trainable=False, name='Embedding')(inputs)\n",
    "x = Flatten(name='Flatten')(x)\n",
    "x = Dense(units=128, activation='relu', name='Dense_1')(x)\n",
    "x = BatchNormalization(name='BatchNormalization_1')(x)\n",
    "x = Dense(units=256, activation='relu', name='Dense_2')(x)\n",
    "x = BatchNormalization(name='BatchNormalization_2')(x)\n",
    "outputs = Dense(units=10003, activation='softmax', name='Dense_3')(x)\n",
    "\n",
    "model = Model(inputs=inputs, outputs=outputs, name='FFNN_Model')\n",
    "\n",
    "model.compile(optimizer=Adam(learning_rate=0.001),\n",
    "              loss='sparse_categorical_crossentropy', \n",
    "              metrics=['accuracy'])\n",
    "\n",
    "model.summary()\n",
    "### END CODE HERE ###\n"
   ]
  },
  {
   "cell_type": "markdown",
   "metadata": {},
   "source": [
    "Execute the following cell to initiate the training process. It may take some time to complete, but the execution time will be significantly reduced if you utilize a **GPU** or **TPU**.\n"
   ]
  },
  {
   "cell_type": "code",
   "execution_count": 30,
   "metadata": {},
   "outputs": [
    {
     "name": "stdout",
     "output_type": "stream",
     "text": [
      "Epoch 1/10\n",
      "\u001b[1m2902/2902\u001b[0m \u001b[32m━━━━━━━━━━━━━━━━━━━━\u001b[0m\u001b[37m\u001b[0m \u001b[1m228s\u001b[0m 78ms/step - accuracy: 0.1174 - loss: 6.0972\n",
      "Epoch 2/10\n",
      "\u001b[1m2902/2902\u001b[0m \u001b[32m━━━━━━━━━━━━━━━━━━━━\u001b[0m\u001b[37m\u001b[0m \u001b[1m375s\u001b[0m 129ms/step - accuracy: 0.1552 - loss: 5.2026\n",
      "Epoch 3/10\n",
      "\u001b[1m2902/2902\u001b[0m \u001b[32m━━━━━━━━━━━━━━━━━━━━\u001b[0m\u001b[37m\u001b[0m \u001b[1m434s\u001b[0m 149ms/step - accuracy: 0.1613 - loss: 5.0933\n",
      "Epoch 4/10\n",
      "\u001b[1m2902/2902\u001b[0m \u001b[32m━━━━━━━━━━━━━━━━━━━━\u001b[0m\u001b[37m\u001b[0m \u001b[1m431s\u001b[0m 148ms/step - accuracy: 0.1641 - loss: 5.0373\n",
      "Epoch 5/10\n",
      "\u001b[1m2902/2902\u001b[0m \u001b[32m━━━━━━━━━━━━━━━━━━━━\u001b[0m\u001b[37m\u001b[0m \u001b[1m484s\u001b[0m 166ms/step - accuracy: 0.1659 - loss: 4.9964\n",
      "Epoch 6/10\n",
      "\u001b[1m2902/2902\u001b[0m \u001b[32m━━━━━━━━━━━━━━━━━━━━\u001b[0m\u001b[37m\u001b[0m \u001b[1m454s\u001b[0m 156ms/step - accuracy: 0.1672 - loss: 4.9686\n",
      "Epoch 7/10\n",
      "\u001b[1m2902/2902\u001b[0m \u001b[32m━━━━━━━━━━━━━━━━━━━━\u001b[0m\u001b[37m\u001b[0m \u001b[1m372s\u001b[0m 128ms/step - accuracy: 0.1686 - loss: 4.9471\n",
      "Epoch 8/10\n",
      "\u001b[1m2902/2902\u001b[0m \u001b[32m━━━━━━━━━━━━━━━━━━━━\u001b[0m\u001b[37m\u001b[0m \u001b[1m336s\u001b[0m 116ms/step - accuracy: 0.1695 - loss: 4.9273\n",
      "Epoch 9/10\n",
      "\u001b[1m2902/2902\u001b[0m \u001b[32m━━━━━━━━━━━━━━━━━━━━\u001b[0m\u001b[37m\u001b[0m \u001b[1m338s\u001b[0m 116ms/step - accuracy: 0.1697 - loss: 4.9157\n",
      "Epoch 10/10\n",
      "\u001b[1m2902/2902\u001b[0m \u001b[32m━━━━━━━━━━━━━━━━━━━━\u001b[0m\u001b[37m\u001b[0m \u001b[1m346s\u001b[0m 119ms/step - accuracy: 0.1702 - loss: 4.9054\n"
     ]
    }
   ],
   "source": [
    "history = model.fit(input_to_model, \n",
    "                    label,\n",
    "                    epochs=10,\n",
    "                    batch_size=2048)\n"
   ]
  },
  {
   "cell_type": "markdown",
   "metadata": {},
   "source": [
    "Let's plot the learning curves for our network:\n"
   ]
  },
  {
   "cell_type": "code",
   "execution_count": 31,
   "metadata": {},
   "outputs": [
    {
     "data": {
      "image/png": "[encoded data removed]",
      "text/plain": [
       "<Figure size 1200x400 with 2 Axes>"
      ]
     },
     "metadata": {},
     "output_type": "display_data"
    }
   ],
   "source": [
    "plt.figure(figsize=(12, 4))\n",
    "\n",
    "ax1 = plt.subplot(1, 2, 1)\n",
    "x = range(1, len(history.history['loss']) + 1)\n",
    "plt.plot(x, history.history['loss'], label='Loss')\n",
    "plt.title('Loss')\n",
    "plt.xlabel('Epochs')\n",
    "plt.ylabel('Loss')\n",
    "plt.grid(True, linestyle='--', linewidth=0.5, color='gray', alpha=0.5)\n",
    "plt.legend()\n",
    "\n",
    "ax2 = plt.subplot(1, 2, 2)\n",
    "plt.plot(x, history.history['accuracy'], label='Accuracy')\n",
    "plt.title('Accuracy')\n",
    "plt.xlabel('Epochs')\n",
    "plt.ylabel('Accuracy')\n",
    "plt.grid(True, linestyle='--', linewidth=0.5, color='gray', alpha=0.5)\n",
    "plt.legend()\n",
    "\n",
    "plt.tight_layout()\n",
    "plt.show()\n"
   ]
  },
  {
   "cell_type": "markdown",
   "metadata": {},
   "source": [
    "# Text generation\n",
    "\n",
    "## <span style=\"color:red\"><b>Task 3</b></span>\n",
    "\n",
    "Utilize the language model to generate text by following these steps: Begin with a seed sentence, which you feed into the network. Select the word with the highest probability, append it to your initial sentence, and feed it back into your network to generate the following word. Repeat this process 10-20 times to generate a complete sentence.\n",
    "\n"
   ]
  },
  {
   "cell_type": "code",
   "execution_count": 39,
   "metadata": {},
   "outputs": [],
   "source": [
    "def generate(seed_text):\n",
    "    ### START CODE HERE ### \n",
    "    # Tokenize the seed text\n",
    "    num_words = 10\n",
    "    token_list = [word_index[word] for word in seed_text.split() if word in word_index]\n",
    "    # Pad the token list to the required input sequence size\n",
    "    token_list = pad_sequences([token_list], maxlen=input_seq_size-1, padding='pre')\n",
    "    \n",
    "    for _ in range(num_words):\n",
    "        # Predict the next word\n",
    "        predicted = model.predict(token_list, verbose=0)\n",
    "        predicted_index = np.argmax(predicted, axis=-1)\n",
    "        # Convert the index to the word\n",
    "        next_word = id_to_word[predicted_index[0]]\n",
    "        # Append the word to the input sequence\n",
    "        token_list = np.append(token_list, predicted_index)\n",
    "        token_list = token_list[1:].reshape(1, -1)\n",
    "        seed_text += \" \" + next_word\n",
    "\n",
    "    text = seed_text\n",
    "    ### END CODE HERE ### \n",
    "    return text\n",
    "\n"
   ]
  },
  {
   "cell_type": "markdown",
   "metadata": {},
   "source": [
    "Use your Languange Model with the following seed text:"
   ]
  },
  {
   "cell_type": "code",
   "execution_count": 40,
   "metadata": {},
   "outputs": [
    {
     "data": {
      "text/plain": [
       "'the movie is terrible i have seen the movie is a good movie that'"
      ]
     },
     "execution_count": 40,
     "metadata": {},
     "output_type": "execute_result"
    }
   ],
   "source": [
    "seed_text = 'the movie is terrible'\n",
    "generate(seed_text)"
   ]
  },
  {
   "cell_type": "markdown",
   "metadata": {},
   "source": [
    "# Congratulations!\n",
    "\n",
    "\n",
    "Congratulations on completing the assignment! Your dedication and effort are commendable. By successfully working through the coding exercises and written exercises, you have demonstrated a strong understanding of Feedforward Neural Nets.\n",
    "\n",
    "\n",
    "\n",
    "\n",
    "\n",
    "\n",
    "# Acknowledgement\n",
    "\n",
    "## About the Author\n",
    "\n",
    "This notebook was authored by Mohamed Reda Bouadjenek. He is a Senior Lecturer (Assistant Professor) of Applied Artificial Intelligence in the School of Information Technology at Deakin University, Australia.\n",
    "\n",
    "\n",
    "\n",
    "## Disclaimer \n",
    "\n",
    "Even though your code passes all unit test cases, it does not guarantee absolute correctness. The complexity of real-world scenarios can sometimes lead to unforeseen edge cases that may not have been covered by the test suite. As a result, it's essential to exercise caution and conduct thorough testing to ensure the robustness and reliability of the code in all possible cases.\n",
    "\n",
    "## Version History\n",
    "- Version 1.0 (Initial Release): Released on 19/04/2024.\n",
    "\n",
    "## Contact Information\n",
    "\n",
    "- **Email:** reda.bouadjenek@deakin.edu.au\n",
    "- **GitHub:** https://github.com/rbouadjenek/\n",
    "\n",
    "---\n"
   ]
  }
 ],
 "metadata": {
  "accelerator": "GPU",
  "colab": {
   "collapsed_sections": [],
   "machine_shape": "hm",
   "name": "SIT744_prac_11.ipynb",
   "provenance": [],
   "toc_visible": true
  },
  "kernelspec": {
   "display_name": "Python 3 (ipykernel)",
   "language": "python",
   "name": "python3"
  },
  "language_info": {
   "codemirror_mode": {
    "name": "ipython",
    "version": 3
   },
   "file_extension": ".py",
   "mimetype": "text/x-python",
   "name": "python",
   "nbconvert_exporter": "python",
   "pygments_lexer": "ipython3",
   "version": "3.10.14"
  }
 },
 "nbformat": 4,
 "nbformat_minor": 4
}
