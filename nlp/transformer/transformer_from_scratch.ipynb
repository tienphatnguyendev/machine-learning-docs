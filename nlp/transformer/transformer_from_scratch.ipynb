{
  "cells": [
    {
      "cell_type": "markdown",
      "metadata": {
        "id": "0ebG4BaQprx3"
      },
      "source": [
        "### Imports"
      ]
    },
    {
      "cell_type": "markdown",
      "metadata": {
        "id": "J2BdzpwzqRUG"
      },
      "source": [
        "### Multi-Head Self-Attention\n",
        "\n",
        "<center>\n",
        "<img src=\"https://raw.githubusercontent.com/HosseinZaredar/Transformer-from-Scratch/main/SelfAttention.png\" width=\"600\" align=\"center\"/>\n",
        "</center>\n"
      ]
    },
    {
      "cell_type": "code",
      "execution_count": 5,
      "metadata": {
        "id": "9dkLjvIeqdQo"
      },
      "outputs": [],
      "source": [
        "class MHSelfAttention(nn.Module):\n",
        "  def __init__(self, embed_dim, num_heads):\n",
        "    super(MHSelfAttention, self).__init__()\n",
        "    self.embed_dim = embed_dim\n",
        "    self.num_heads = num_heads\n",
        "    self.head_dim = embed_dim // num_heads\n",
        "\n",
        "    assert (self.num_heads*self.head_dim == self.embed_dim), \\\n",
        "    'embed size must be divisible by number of heads'\n",
        "\n",
        "    self.w_queries = nn.Linear(self.embed_dim, self.embed_dim, bias=False)\n",
        "    self.w_keys = nn.Linear(self.embed_dim, self.embed_dim, bias=False)\n",
        "    self.w_values = nn.Linear(self.embed_dim, self.embed_dim, bias=False)\n",
        "\n",
        "    self.fc_out = nn.Linear(self.head_dim*self.num_heads , self.embed_dim)\n",
        "\n",
        "  def forward(self, x):\n",
        "\n",
        "    # shape of x = [batch_size, sentence_length, embedding_dim]\n",
        "    batch_size = x.shape[0]\n",
        "    sentence_len = x.shape[1]\n",
        "\n",
        "    queries = self.w_queries(x).reshape(\n",
        "        batch_size, sentence_len, self.num_heads, self.head_dim).permute(\n",
        "            0, 2, 1, 3)\n",
        "\n",
        "    keys = self.w_keys(x).reshape(\n",
        "        batch_size, sentence_len, self.num_heads, self.head_dim).permute(\n",
        "            0, 2, 3, 1)\n",
        "\n",
        "\n",
        "    values = self.w_values(x).reshape(\n",
        "        batch_size, sentence_len, self.num_heads, self.head_dim).permute(\n",
        "            0, 2, 1, 3)\n",
        "\n",
        "    attention_scores = T.einsum('bijk,bikl->bijl', queries, keys)\n",
        "    attention_dist = T.softmax(attention_scores /\n",
        "                               (self.embed_dim ** (1/2)), dim=-1)\n",
        "    attention_out = T.einsum('bijk,bikl->bijl', attention_dist, values)\n",
        "    concatenated_out = attention_out.permute(0, 2, 1, 3).reshape(\n",
        "        batch_size, sentence_len, self.embed_dim)\n",
        "\n",
        "    return concatenated_out"
      ]
    },
    {
      "cell_type": "markdown",
      "metadata": {
        "id": "tjtKtvrZ4v22"
      },
      "source": [
        "### Transformer Encoder\n",
        "\n",
        "<center>\n",
        "<img src=\"https://raw.githubusercontent.com/HosseinZaredar/Transformer-from-Scratch/main/Encoder.png\" width=\"200\" align=\"center\"/>\n",
        "</center>"
      ]
    },
    {
      "cell_type": "code",
      "execution_count": 6,
      "metadata": {
        "id": "NEIb3HI64vFq"
      },
      "outputs": [],
      "source": [
        "class TransformerEncoder(nn.Module):\n",
        "  def __init__(self, embed_dim, num_heads, forward_expansion, dropout=0.1):\n",
        "    super(TransformerEncoder, self).__init__()\n",
        "\n",
        "    self.attention = MHSelfAttention(embed_dim, num_heads)\n",
        "    self.norm1 = nn.LayerNorm(embed_dim)\n",
        "    self.norm2 = nn.LayerNorm(embed_dim)\n",
        "\n",
        "    self.feed_forward = nn.Sequential(\n",
        "        nn.Linear(embed_dim, forward_expansion*embed_dim),\n",
        "        nn.ReLU(),\n",
        "        nn.Linear(forward_expansion*embed_dim, embed_dim)\n",
        "    )\n",
        "\n",
        "    self.dropout = nn.Dropout(dropout)\n",
        "\n",
        "  def forward(self, x):\n",
        "    attention_out = self.dropout(self.attention(x))\n",
        "    x = self.norm1(x + attention_out)\n",
        "    forward_out = self.dropout(self.feed_forward(x))\n",
        "    out = self.norm2(x + forward_out)\n",
        "\n",
        "    return out"
      ]
    },
    {
      "cell_type": "markdown",
      "metadata": {
        "id": "TJnpDXVjSlhR"
      },
      "source": [
        "### End-to-End Classifier\n",
        "\n",
        "1. An embedding layer\n",
        "2. A single transformer encoder layer\n",
        "3. A fully-connected network as a linear classifier"
      ]
    },
    {
      "cell_type": "code",
      "execution_count": 7,
      "metadata": {
        "id": "x9qLIrNhSsbk"
      },
      "outputs": [],
      "source": [
        "class Classifier(nn.Module):\n",
        "  def __init__(self, vocab_size, max_length, embed_dim,\n",
        "               num_heads, forward_expansion):\n",
        "      super(Classifier, self).__init__()\n",
        "\n",
        "      self.embedder = Embedding(vocab_size, max_length, embed_dim)\n",
        "      self.encoder = TransformerEncoder(embed_dim, num_heads, forward_expansion)\n",
        "      self.fc = nn.Linear(embed_dim, 1)\n",
        "\n",
        "  def forward(self, x):\n",
        "    embedding = self.embedder(x)\n",
        "    encoding = self.encoder(embedding)\n",
        "    compact_encoding = encoding.max(dim=1)[0]\n",
        "    out = self.fc(compact_encoding)\n",
        "    return out"
      ]
    },
    {
      "cell_type": "markdown",
      "metadata": {
        "id": "kN2DGXTsILSb"
      },
      "source": [
        "### Load and Preprocess IMDb Dataset"
      ]
    },
    {
      "cell_type": "code",
      "execution_count": 10,
      "metadata": {
        "id": "iQTSI_VANdHq"
      },
      "outputs": [
        {
          "name": "stderr",
          "output_type": "stream",
          "text": [
            "WARNING:absl:TFDS datasets with text encoding are deprecated and will be removed in a future version. Instead, you should use the plain text version and tokenize the text using `tensorflow_text` (See: https://www.tensorflow.org/tutorials/tensorflow_text/intro#tfdata_example)\n",
            "2024-06-13 15:54:47.286683: W external/local_tsl/tsl/platform/cloud/google_auth_provider.cc:184] All attempts to get a Google authentication bearer token failed, returning an empty token. Retrieving token from files failed with \"NOT_FOUND: Could not locate the credentials file.\". Retrieving token from GCE failed with \"FAILED_PRECONDITION: Error executing an HTTP request: libcurl code 6 meaning 'Couldn't resolve host name', error details: Could not resolve host: metadata.google.internal\".\n"
          ]
        },
        {
          "name": "stdout",
          "output_type": "stream",
          "text": [
            "\u001b[1mDownloading and preparing dataset 80.23 MiB (download: 80.23 MiB, generated: Unknown size, total: 80.23 MiB) to /Users/aaronnguyen/tensorflow_datasets/imdb_reviews/subwords8k/1.0.0...\u001b[0m\n"
          ]
        },
        {
          "name": "stderr",
          "output_type": "stream",
          "text": [
            "/Users/aaronnguyen/Documents/side-projects/machine-learning-docs/.mld-venv/lib/python3.10/site-packages/tqdm/auto.py:21: TqdmWarning: IProgress not found. Please update jupyter and ipywidgets. See https://ipywidgets.readthedocs.io/en/stable/user_install.html\n",
            "  from .autonotebook import tqdm as notebook_tqdm\n",
            "Dl Size...: 100%|██████████| 80/80 [00:37<00:00,  2.11 MiB/s]rl]\n",
            "Dl Completed...: 100%|██████████| 1/1 [00:37<00:00, 37.88s/ url]\n",
            "WARNING:absl:Dataset is using deprecated text encoder API which will be removed soon. Please use the plain_text version of the dataset and migrate to `tensorflow_text`.\n",
            "2024-06-13 15:57:12.647395: I metal_plugin/src/device/metal_device.cc:1154] Metal device set to: Apple M2\n",
            "2024-06-13 15:57:12.647440: I metal_plugin/src/device/metal_device.cc:296] systemMemory: 16.00 GB\n",
            "2024-06-13 15:57:12.647450: I metal_plugin/src/device/metal_device.cc:313] maxCacheSize: 5.33 GB\n",
            "2024-06-13 15:57:12.647483: I tensorflow/core/common_runtime/pluggable_device/pluggable_device_factory.cc:305] Could not identify NUMA node of platform GPU ID 0, defaulting to 0. Your kernel may not have been built with NUMA support.\n",
            "2024-06-13 15:57:12.647495: I tensorflow/core/common_runtime/pluggable_device/pluggable_device_factory.cc:271] Created TensorFlow device (/job:localhost/replica:0/task:0/device:GPU:0 with 0 MB memory) -> physical PluggableDevice (device: 0, name: METAL, pci bus id: <undefined>)\n"
          ]
        },
        {
          "name": "stdout",
          "output_type": "stream",
          "text": [
            "\u001b[1mDataset imdb_reviews downloaded and prepared to /Users/aaronnguyen/tensorflow_datasets/imdb_reviews/subwords8k/1.0.0. Subsequent calls will reuse this data.\u001b[0m\n"
          ]
        }
      ],
      "source": [
        "import tensorflow_datasets as tfds\n",
        "\n",
        "# Load the IMDb dataset\n",
        "(train_data, test_data), info = tfds.load('imdb_reviews/subwords8k', \n",
        "                                          split=(tfds.Split.TRAIN, tfds.Split.TEST),\n",
        "                                          with_info=True, as_supervised=True)\n",
        "\n",
        "tokenizer = info.features['text'].encoder\n",
        "\n",
        "BUFFER_SIZE = 10000\n",
        "BATCH_SIZE = 64\n",
        "\n",
        "train_batches = train_data.shuffle(BUFFER_SIZE).padded_batch(BATCH_SIZE)\n",
        "test_batches = test_data.padded_batch(BATCH_SIZE)\n"
      ]
    },
    {
      "cell_type": "markdown",
      "metadata": {
        "id": "z_K9btG7SB_Q"
      },
      "source": [
        "### Initializing The Model"
      ]
    },
    {
      "cell_type": "code",
      "execution_count": 11,
      "metadata": {
        "colab": {
          "base_uri": "https://localhost:8080/"
        },
        "id": "WWSyihBxN4Sj",
        "outputId": "c68c0d2f-2dce-47e7-f9cc-352db11cebff"
      },
      "outputs": [
        {
          "ename": "NameError",
          "evalue": "name 'TEXT' is not defined",
          "output_type": "error",
          "traceback": [
            "\u001b[0;31m---------------------------------------------------------------------------\u001b[0m",
            "\u001b[0;31mNameError\u001b[0m                                 Traceback (most recent call last)",
            "Cell \u001b[0;32mIn[11], line 5\u001b[0m\n\u001b[1;32m      3\u001b[0m FORWARD_EXPANSION \u001b[38;5;241m=\u001b[39m \u001b[38;5;241m3\u001b[39m\n\u001b[1;32m      4\u001b[0m MAX_LENGTH \u001b[38;5;241m=\u001b[39m \u001b[38;5;241m512\u001b[39m\n\u001b[0;32m----> 5\u001b[0m VOCAB_SIZE \u001b[38;5;241m=\u001b[39m \u001b[38;5;28mlen\u001b[39m(\u001b[43mTEXT\u001b[49m\u001b[38;5;241m.\u001b[39mvocab)\n\u001b[1;32m      7\u001b[0m classifier \u001b[38;5;241m=\u001b[39m Classifier(\n\u001b[1;32m      8\u001b[0m     VOCAB_SIZE, MAX_LENGTH, EMBED_DIM, NUM_HEADS, FORWARD_EXPANSION)\n\u001b[1;32m      9\u001b[0m device \u001b[38;5;241m=\u001b[39m T\u001b[38;5;241m.\u001b[39mdevice(\u001b[38;5;124m'\u001b[39m\u001b[38;5;124mcuda\u001b[39m\u001b[38;5;124m'\u001b[39m \u001b[38;5;28;01mif\u001b[39;00m T\u001b[38;5;241m.\u001b[39mcuda\u001b[38;5;241m.\u001b[39mis_available() \u001b[38;5;28;01melse\u001b[39;00m \u001b[38;5;124m'\u001b[39m\u001b[38;5;124mcpu\u001b[39m\u001b[38;5;124m'\u001b[39m)\n",
            "\u001b[0;31mNameError\u001b[0m: name 'TEXT' is not defined"
          ]
        }
      ],
      "source": [
        "EMBED_DIM = 200\n",
        "NUM_HEADS = 8\n",
        "FORWARD_EXPANSION = 3\n",
        "MAX_LENGTH = 512\n",
        "VOCAB_SIZE = len(TEXT.vocab)\n",
        "\n",
        "classifier = Classifier(\n",
        "    VOCAB_SIZE, MAX_LENGTH, EMBED_DIM, NUM_HEADS, FORWARD_EXPANSION)\n",
        "device = T.device('cuda' if T.cuda.is_available() else 'cpu')\n",
        "classifier.to(device)"
      ]
    },
    {
      "cell_type": "markdown",
      "metadata": {
        "id": "w08nIXt-_OpH"
      },
      "source": [
        "### Training"
      ]
    },
    {
      "cell_type": "code",
      "execution_count": null,
      "metadata": {
        "id": "nmML4fPjSIZk"
      },
      "outputs": [],
      "source": [
        "optimizer = optim.SGD(classifier.parameters(), lr=1e-3)"
      ]
    },
    {
      "cell_type": "code",
      "execution_count": null,
      "metadata": {
        "id": "M8KtZobUYJHA"
      },
      "outputs": [],
      "source": [
        "criterion = nn.BCEWithLogitsLoss()\n",
        "device = T.device('cuda' if T.cuda.is_available() else 'cpu')\n",
        "criterion.to(device);"
      ]
    },
    {
      "cell_type": "code",
      "execution_count": null,
      "metadata": {
        "id": "Jjs2XuaDbs8k"
      },
      "outputs": [],
      "source": [
        "def binary_accuracy(preds, y):\n",
        "    rounded_preds = T.round(T.sigmoid(preds))\n",
        "    correct = (rounded_preds == y).float()\n",
        "    acc = correct.sum() / len(correct)\n",
        "    return acc"
      ]
    },
    {
      "cell_type": "code",
      "execution_count": null,
      "metadata": {
        "id": "uGvO_3PbAq7q"
      },
      "outputs": [],
      "source": [
        "def epoch_time(start_time, end_time):\n",
        "    elapsed_time = end_time - start_time\n",
        "    elapsed_mins = int(elapsed_time / 60)\n",
        "    elapsed_secs = int(elapsed_time - (elapsed_mins * 60))\n",
        "    return elapsed_mins, elapsed_secs"
      ]
    },
    {
      "cell_type": "code",
      "execution_count": null,
      "metadata": {
        "id": "T_0AQJgEYMjL"
      },
      "outputs": [],
      "source": [
        "def train(model, iterator, optimizer, criterion):\n",
        "\n",
        "    epoch_loss = 0\n",
        "    epoch_acc = 0\n",
        "\n",
        "    model.train()\n",
        "\n",
        "    for batch in iterator:\n",
        "\n",
        "        optimizer.zero_grad()\n",
        "\n",
        "        input = batch.text\n",
        "        if input.shape[1] > MAX_LENGTH:\n",
        "          input = input[:, :MAX_LENGTH]\n",
        "\n",
        "        predictions = model(input).squeeze(1)\n",
        "\n",
        "        loss = criterion(predictions, batch.label)\n",
        "\n",
        "        acc = binary_accuracy(predictions, batch.label)\n",
        "\n",
        "        loss.backward()\n",
        "\n",
        "        optimizer.step()\n",
        "\n",
        "        epoch_loss += loss.item()\n",
        "        epoch_acc += acc.item()\n",
        "\n",
        "    return epoch_loss / len(iterator), epoch_acc / len(iterator)"
      ]
    },
    {
      "cell_type": "code",
      "execution_count": null,
      "metadata": {
        "id": "oRV4SusuuGek"
      },
      "outputs": [],
      "source": [
        "def evaluate(model, iterator, criterion):\n",
        "    epoch_loss = 0\n",
        "    epoch_acc = 0\n",
        "    model.eval()\n",
        "\n",
        "    with T.no_grad():\n",
        "        for batch in iterator:\n",
        "\n",
        "            input = batch.text\n",
        "            if input.shape[1] > MAX_LENGTH:\n",
        "              input = input[:, :MAX_LENGTH]\n",
        "\n",
        "            predictions = model(input).squeeze(1)\n",
        "            loss = criterion(predictions, batch.label)\n",
        "            acc = binary_accuracy(predictions, batch.label)\n",
        "            epoch_loss += loss.item()\n",
        "            epoch_acc += acc.item()\n",
        "\n",
        "    return epoch_loss / len(iterator), epoch_acc / len(iterator)"
      ]
    },
    {
      "cell_type": "code",
      "execution_count": null,
      "metadata": {
        "colab": {
          "base_uri": "https://localhost:8080/"
        },
        "id": "eo4Kw1rpb7un",
        "outputId": "98416562-2a45-41ea-e4a9-9444942131f3"
      },
      "outputs": [
        {
          "name": "stdout",
          "output_type": "stream",
          "text": [
            "Epoch: 01 | Epoch Time: 1m 2s\n",
            "\tTrain Loss: 0.730 | Train Acc: 49.83%\n",
            "\t Val. Loss: 0.702 |  Val. Acc: 50.51%\n",
            "Epoch: 02 | Epoch Time: 1m 1s\n",
            "\tTrain Loss: 0.719 | Train Acc: 51.80%\n",
            "\t Val. Loss: 0.688 |  Val. Acc: 53.43%\n",
            "Epoch: 03 | Epoch Time: 1m 1s\n",
            "\tTrain Loss: 0.704 | Train Acc: 53.22%\n",
            "\t Val. Loss: 0.689 |  Val. Acc: 53.61%\n",
            "Epoch: 04 | Epoch Time: 1m 1s\n",
            "\tTrain Loss: 0.695 | Train Acc: 55.47%\n",
            "\t Val. Loss: 0.683 |  Val. Acc: 55.73%\n",
            "Epoch: 05 | Epoch Time: 1m 1s\n",
            "\tTrain Loss: 0.684 | Train Acc: 57.75%\n",
            "\t Val. Loss: 0.684 |  Val. Acc: 56.09%\n",
            "Epoch: 06 | Epoch Time: 1m 1s\n",
            "\tTrain Loss: 0.670 | Train Acc: 59.65%\n",
            "\t Val. Loss: 0.641 |  Val. Acc: 62.57%\n",
            "Epoch: 07 | Epoch Time: 1m 1s\n",
            "\tTrain Loss: 0.648 | Train Acc: 62.01%\n",
            "\t Val. Loss: 0.618 |  Val. Acc: 65.43%\n",
            "Epoch: 08 | Epoch Time: 1m 1s\n",
            "\tTrain Loss: 0.627 | Train Acc: 64.58%\n",
            "\t Val. Loss: 0.595 |  Val. Acc: 67.84%\n",
            "Epoch: 09 | Epoch Time: 1m 1s\n",
            "\tTrain Loss: 0.602 | Train Acc: 67.27%\n",
            "\t Val. Loss: 0.586 |  Val. Acc: 68.76%\n",
            "Epoch: 10 | Epoch Time: 1m 1s\n",
            "\tTrain Loss: 0.579 | Train Acc: 69.30%\n",
            "\t Val. Loss: 0.575 |  Val. Acc: 70.03%\n"
          ]
        }
      ],
      "source": [
        "N_EPOCHS = 10\n",
        "best_valid_loss = float('inf')\n",
        "\n",
        "for epoch in range(N_EPOCHS):\n",
        "\n",
        "    start_time = time.time()\n",
        "\n",
        "    train_loss, train_acc = train(\n",
        "        classifier, train_iterator,optimizer, criterion)\n",
        "    valid_loss, valid_acc = evaluate(classifier, valid_iterator, criterion)\n",
        "\n",
        "    end_time = time.time()\n",
        "    epoch_mins, epoch_secs = epoch_time(start_time, end_time)\n",
        "\n",
        "    if valid_loss < best_valid_loss:\n",
        "        best_valid_loss = valid_loss\n",
        "        T.save(classifier.state_dict(), 'sent-classifier.pt')\n",
        "\n",
        "    print(f'Epoch: {epoch+1:02} | Epoch Time: {epoch_mins}m {epoch_secs}s')\n",
        "    print(f'\\tTrain Loss: {train_loss:.3f} | Train Acc: {train_acc*100:.2f}%')\n",
        "    print(f'\\t Val. Loss: {valid_loss:.3f} |  Val. Acc: {valid_acc*100:.2f}%')"
      ]
    },
    {
      "cell_type": "markdown",
      "metadata": {
        "id": "7_4MS275uFBO"
      },
      "source": [
        "### Evaluation"
      ]
    },
    {
      "cell_type": "code",
      "execution_count": null,
      "metadata": {
        "colab": {
          "base_uri": "https://localhost:8080/"
        },
        "id": "QYM_vp1dA490",
        "outputId": "f54bc069-faa8-4a14-c74b-5b9385dece69"
      },
      "outputs": [
        {
          "data": {
            "text/plain": [
              "<All keys matched successfully>"
            ]
          },
          "execution_count": 45,
          "metadata": {},
          "output_type": "execute_result"
        }
      ],
      "source": [
        "classifier.load_state_dict(T.load('sent-classifier.pt'))"
      ]
    },
    {
      "cell_type": "code",
      "execution_count": null,
      "metadata": {
        "colab": {
          "base_uri": "https://localhost:8080/"
        },
        "id": "N1a03U6Cuc3e",
        "outputId": "e920559a-6652-467a-b9b9-4fd39d40e098"
      },
      "outputs": [
        {
          "name": "stdout",
          "output_type": "stream",
          "text": [
            "Test Loss: 0.578 |  Test Acc: 69.58%\n"
          ]
        }
      ],
      "source": [
        "test_loss, test_acc = evaluate(classifier, test_iterator, criterion)\n",
        "print(f'Test Loss: {test_loss:.3f} |  Test Acc: {test_acc*100:.2f}%')"
      ]
    }
  ],
  "metadata": {
    "accelerator": "GPU",
    "colab": {
      "provenance": []
    },
    "kernelspec": {
      "display_name": "Python 3",
      "name": "python3"
    },
    "language_info": {
      "codemirror_mode": {
        "name": "ipython",
        "version": 3
      },
      "file_extension": ".py",
      "mimetype": "text/x-python",
      "name": "python",
      "nbconvert_exporter": "python",
      "pygments_lexer": "ipython3",
      "version": "3.10.14"
    }
  },
  "nbformat": 4,
  "nbformat_minor": 0
}
