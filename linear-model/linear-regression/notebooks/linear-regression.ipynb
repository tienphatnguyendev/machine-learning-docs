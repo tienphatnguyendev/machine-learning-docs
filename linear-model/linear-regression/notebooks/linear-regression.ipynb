{
 "cells": [
  {
   "cell_type": "code",
   "execution_count": 222,
   "metadata": {},
   "outputs": [],
   "source": [
    "import pandas as pd\n",
    "import re\n",
    "import numpy as np\n",
    "from scipy import stats\n",
    "import matplotlib.pyplot as plt\n",
    "import plotly.express as px\n",
    "import plotly.graph_objects as go\n",
    "from plotly.subplots import make_subplots\n",
    "import seaborn as sns\n",
    "from sklearn.decomposition import PCA\n",
    "from sklearn.manifold import TSNE\n",
    "from sklearn.base import BaseEstimator, TransformerMixin\n",
    "import numpy as np\n",
    "from sklearn.preprocessing import (\n",
    "    FunctionTransformer,\n",
    "    RobustScaler,\n",
    "    OneHotEncoder,\n",
    "    OrdinalEncoder,\n",
    "    LabelEncoder   \n",
    ")\n",
    "from sklearn.pipeline import Pipeline\n",
    "from sklearn.compose import ColumnTransformer\n",
    "from sklearn.impute import SimpleImputer\n",
    "from sklearn.model_selection import (\n",
    "    train_test_split,\n",
    "    RepeatedStratifiedKFold,\n",
    "    cross_val_score\n",
    ")\n",
    "from sklearn.cluster import DBSCAN\n",
    "from xgboost import XGBRegressor\n",
    "from sklearn.ensemble import IsolationForest\n",
    "import optuna\n",
    "import datetime as dt"
   ]
  },
  {
   "cell_type": "code",
   "execution_count": 223,
   "metadata": {},
   "outputs": [],
   "source": [
    "df = pd.read_excel('../data/Real estate valuation data set.xlsx', index_col='No')"
   ]
  },
  {
   "cell_type": "code",
   "execution_count": 224,
   "metadata": {},
   "outputs": [
    {
     "data": {
      "text/plain": [
       "Index(['X1 transaction date', 'X2 house age',\n",
       "       'X3 distance to the nearest MRT station',\n",
       "       'X4 number of convenience stores', 'X5 latitude', 'X6 longitude',\n",
       "       'Y house price of unit area'],\n",
       "      dtype='object')"
      ]
     },
     "execution_count": 224,
     "metadata": {},
     "output_type": "execute_result"
    }
   ],
   "source": [
    "df.columns"
   ]
  },
  {
   "cell_type": "code",
   "execution_count": 225,
   "metadata": {},
   "outputs": [],
   "source": [
    "pattern = re.compile(r'X(\\d+)\\s|Y\\s')\n",
    "df.columns = list(map(lambda x: \n",
    "                            pattern.sub('', x)\n",
    "                            .lower().replace(' ', '_'),\n",
    "                    df.columns.values))\n",
    "\n"
   ]
  },
  {
   "cell_type": "code",
   "execution_count": 226,
   "metadata": {},
   "outputs": [
    {
     "data": {
      "text/html": [
       "<div>\n",
       "<style scoped>\n",
       "    .dataframe tbody tr th:only-of-type {\n",
       "        vertical-align: middle;\n",
       "    }\n",
       "\n",
       "    .dataframe tbody tr th {\n",
       "        vertical-align: top;\n",
       "    }\n",
       "\n",
       "    .dataframe thead th {\n",
       "        text-align: right;\n",
       "    }\n",
       "</style>\n",
       "<table border=\"1\" class=\"dataframe\">\n",
       "  <thead>\n",
       "    <tr style=\"text-align: right;\">\n",
       "      <th></th>\n",
       "      <th>transaction_date</th>\n",
       "      <th>house_age</th>\n",
       "      <th>distance_to_the_nearest_mrt_station</th>\n",
       "      <th>number_of_convenience_stores</th>\n",
       "      <th>latitude</th>\n",
       "      <th>longitude</th>\n",
       "      <th>house_price_of_unit_area</th>\n",
       "    </tr>\n",
       "    <tr>\n",
       "      <th>No</th>\n",
       "      <th></th>\n",
       "      <th></th>\n",
       "      <th></th>\n",
       "      <th></th>\n",
       "      <th></th>\n",
       "      <th></th>\n",
       "      <th></th>\n",
       "    </tr>\n",
       "  </thead>\n",
       "  <tbody>\n",
       "    <tr>\n",
       "      <th>1</th>\n",
       "      <td>2012.916667</td>\n",
       "      <td>32.0</td>\n",
       "      <td>84.87882</td>\n",
       "      <td>10</td>\n",
       "      <td>24.98298</td>\n",
       "      <td>121.54024</td>\n",
       "      <td>37.9</td>\n",
       "    </tr>\n",
       "    <tr>\n",
       "      <th>2</th>\n",
       "      <td>2012.916667</td>\n",
       "      <td>19.5</td>\n",
       "      <td>306.59470</td>\n",
       "      <td>9</td>\n",
       "      <td>24.98034</td>\n",
       "      <td>121.53951</td>\n",
       "      <td>42.2</td>\n",
       "    </tr>\n",
       "    <tr>\n",
       "      <th>3</th>\n",
       "      <td>2013.583333</td>\n",
       "      <td>13.3</td>\n",
       "      <td>561.98450</td>\n",
       "      <td>5</td>\n",
       "      <td>24.98746</td>\n",
       "      <td>121.54391</td>\n",
       "      <td>47.3</td>\n",
       "    </tr>\n",
       "    <tr>\n",
       "      <th>4</th>\n",
       "      <td>2013.500000</td>\n",
       "      <td>13.3</td>\n",
       "      <td>561.98450</td>\n",
       "      <td>5</td>\n",
       "      <td>24.98746</td>\n",
       "      <td>121.54391</td>\n",
       "      <td>54.8</td>\n",
       "    </tr>\n",
       "    <tr>\n",
       "      <th>5</th>\n",
       "      <td>2012.833333</td>\n",
       "      <td>5.0</td>\n",
       "      <td>390.56840</td>\n",
       "      <td>5</td>\n",
       "      <td>24.97937</td>\n",
       "      <td>121.54245</td>\n",
       "      <td>43.1</td>\n",
       "    </tr>\n",
       "  </tbody>\n",
       "</table>\n",
       "</div>"
      ],
      "text/plain": [
       "    transaction_date  house_age  distance_to_the_nearest_mrt_station  \\\n",
       "No                                                                     \n",
       "1        2012.916667       32.0                             84.87882   \n",
       "2        2012.916667       19.5                            306.59470   \n",
       "3        2013.583333       13.3                            561.98450   \n",
       "4        2013.500000       13.3                            561.98450   \n",
       "5        2012.833333        5.0                            390.56840   \n",
       "\n",
       "    number_of_convenience_stores  latitude  longitude  \\\n",
       "No                                                      \n",
       "1                             10  24.98298  121.54024   \n",
       "2                              9  24.98034  121.53951   \n",
       "3                              5  24.98746  121.54391   \n",
       "4                              5  24.98746  121.54391   \n",
       "5                              5  24.97937  121.54245   \n",
       "\n",
       "    house_price_of_unit_area  \n",
       "No                            \n",
       "1                       37.9  \n",
       "2                       42.2  \n",
       "3                       47.3  \n",
       "4                       54.8  \n",
       "5                       43.1  "
      ]
     },
     "execution_count": 226,
     "metadata": {},
     "output_type": "execute_result"
    }
   ],
   "source": [
    "df.head()"
   ]
  },
  {
   "cell_type": "code",
   "execution_count": 227,
   "metadata": {},
   "outputs": [],
   "source": [
    "df.reset_index(inplace=True)\n",
    "df.drop(columns='No', inplace=True)"
   ]
  },
  {
   "cell_type": "code",
   "execution_count": 228,
   "metadata": {},
   "outputs": [],
   "source": [
    "df['transaction_date'] = df['transaction_date'].copy().astype('int').astype('category')"
   ]
  },
  {
   "cell_type": "code",
   "execution_count": 229,
   "metadata": {},
   "outputs": [
    {
     "data": {
      "text/plain": [
       "transaction_date                         2\n",
       "house_age                              236\n",
       "distance_to_the_nearest_mrt_station    259\n",
       "number_of_convenience_stores            11\n",
       "latitude                               234\n",
       "longitude                              232\n",
       "house_price_of_unit_area               270\n",
       "dtype: int64"
      ]
     },
     "execution_count": 229,
     "metadata": {},
     "output_type": "execute_result"
    }
   ],
   "source": [
    "df.nunique()"
   ]
  },
  {
   "cell_type": "code",
   "execution_count": 230,
   "metadata": {},
   "outputs": [
    {
     "data": {
      "text/plain": [
       "{'tgt': 'house_price_of_unit_area',\n",
       " 'num_fts': ['house_age',\n",
       "  'distance_to_the_nearest_mrt_station',\n",
       "  'number_of_convenience_stores',\n",
       "  'latitude',\n",
       "  'longitude',\n",
       "  'house_price_of_unit_area'],\n",
       " 'cat_fts': ['transaction_date'],\n",
       " 'n_cols': 7}"
      ]
     },
     "execution_count": 230,
     "metadata": {},
     "output_type": "execute_result"
    }
   ],
   "source": [
    "metadata = {\n",
    "    'tgt': 'house_price_of_unit_area',\n",
    "    'num_fts': df.select_dtypes(include='number').columns.tolist(),\n",
    "    'cat_fts': df.select_dtypes(include='category').columns.tolist(),   \n",
    "    'n_cols': df.shape[1]\n",
    "}\n",
    "metadata"
   ]
  },
  {
   "cell_type": "code",
   "execution_count": 231,
   "metadata": {},
   "outputs": [],
   "source": [
    "def generate_fig(n_df_cols, fig_cols=3):\n",
    "    fig_rows = (len(n_df_cols) // fig_cols) + 1 if len(n_df_cols) % fig_cols != 0 else len(n_df_cols) // fig_cols\n",
    "    return fig_rows, fig_cols"
   ]
  },
  {
   "cell_type": "code",
   "execution_count": 232,
   "metadata": {},
   "outputs": [],
   "source": [
    "fig_rows, fig_cols = generate_fig(metadata['num_fts'])"
   ]
  },
  {
   "cell_type": "code",
   "execution_count": 233,
   "metadata": {},
   "outputs": [
    {
     "data": {
      "image/png": "[encoded data removed]",
      "text/plain": [
       "<Figure size 1300x700 with 6 Axes>"
      ]
     },
     "metadata": {},
     "output_type": "display_data"
    }
   ],
   "source": [
    "fig, axes = plt.subplots(fig_rows, fig_cols, figsize=(13, 7))\n",
    "\n",
    "for i, col in enumerate(metadata['num_fts']):\n",
    "    subp_col = i % fig_cols \n",
    "    subp_row = i // fig_cols \n",
    "    sns.histplot(df[col], ax=axes[subp_row, subp_col])\n",
    "\n"
   ]
  },
  {
   "cell_type": "code",
   "execution_count": null,
   "metadata": {},
   "outputs": [],
   "source": []
  },
  {
   "cell_type": "code",
   "execution_count": 234,
   "metadata": {},
   "outputs": [
    {
     "data": {
      "text/html": [
       "<div>\n",
       "<style scoped>\n",
       "    .dataframe tbody tr th:only-of-type {\n",
       "        vertical-align: middle;\n",
       "    }\n",
       "\n",
       "    .dataframe tbody tr th {\n",
       "        vertical-align: top;\n",
       "    }\n",
       "\n",
       "    .dataframe thead th {\n",
       "        text-align: right;\n",
       "    }\n",
       "</style>\n",
       "<table border=\"1\" class=\"dataframe\">\n",
       "  <thead>\n",
       "    <tr style=\"text-align: right;\">\n",
       "      <th></th>\n",
       "      <th>tsne0</th>\n",
       "      <th>tsne1</th>\n",
       "      <th>tsne2</th>\n",
       "    </tr>\n",
       "  </thead>\n",
       "  <tbody>\n",
       "    <tr>\n",
       "      <th>0</th>\n",
       "      <td>-17.527323</td>\n",
       "      <td>-4.628499</td>\n",
       "      <td>1.395050</td>\n",
       "    </tr>\n",
       "    <tr>\n",
       "      <th>1</th>\n",
       "      <td>-6.504704</td>\n",
       "      <td>7.019527</td>\n",
       "      <td>-0.360789</td>\n",
       "    </tr>\n",
       "    <tr>\n",
       "      <th>2</th>\n",
       "      <td>-0.588382</td>\n",
       "      <td>-6.289502</td>\n",
       "      <td>3.491259</td>\n",
       "    </tr>\n",
       "    <tr>\n",
       "      <th>3</th>\n",
       "      <td>-0.588657</td>\n",
       "      <td>-6.304324</td>\n",
       "      <td>3.562763</td>\n",
       "    </tr>\n",
       "    <tr>\n",
       "      <th>4</th>\n",
       "      <td>-3.208351</td>\n",
       "      <td>3.865167</td>\n",
       "      <td>3.905588</td>\n",
       "    </tr>\n",
       "  </tbody>\n",
       "</table>\n",
       "</div>"
      ],
      "text/plain": [
       "       tsne0     tsne1     tsne2\n",
       "0 -17.527323 -4.628499  1.395050\n",
       "1  -6.504704  7.019527 -0.360789\n",
       "2  -0.588382 -6.289502  3.491259\n",
       "3  -0.588657 -6.304324  3.562763\n",
       "4  -3.208351  3.865167  3.905588"
      ]
     },
     "execution_count": 234,
     "metadata": {},
     "output_type": "execute_result"
    }
   ],
   "source": [
    "tsne = TSNE(n_components=3)\n",
    "\n",
    "df_tsne = pd.DataFrame(\n",
    "    data=tsne.fit_transform(df[metadata['num_fts']]),\n",
    "    columns=tsne.get_feature_names_out()\n",
    ")"
   ]
  },
  {
   "cell_type": "code",
   "execution_count": 235,
   "metadata": {},
   "outputs": [
    {
     "data": {
      "application/vnd.plotly.v1+json": {
       "config": {
        "plotlyServerURL": "https://plot.ly"
       },
       "data": [
        {
         "hovertemplate": "tsne0=%{x}<br>tsne1=%{y}<br>tsne2=%{z}<extra></extra>",
         "legendgroup": "",
         "marker": {
          "color": "#636efa",
          "opacity": 0.5,
          "symbol": "circle"
         },
         "mode": "markers",
         "name": "",
         "scene": "scene",
         "showlegend": false,
         "type": "scatter3d",
         "x": [
          -17.52732276916504,
          -6.504703521728516,
          -0.5883821249008179,
          -0.5886574387550354,
          -3.2083511352539062,
          10.644671440124512,
          0.8291534781455994,
          -7.450582027435303,
          17.65915298461914,
          8.3213529586792,
          -3.588057041168213,
          -16.573993682861328,
          -2.409125804901123,
          11.838397979736328,
          5.619024276733398,
          -0.20622064173221588,
          -5.972086429595947,
          -4.972418785095215,
          -4.18122673034668,
          -17.563095092773438,
          11.183455467224121,
          -7.323976516723633,
          6.478435516357422,
          -7.502577781677246,
          -2.7150628566741943,
          7.029078006744385,
          -3.7004454135894775,
          -8.138886451721191,
          -0.7092906832695007,
          -3.1720073223114014,
          16.48839569091797,
          3.1028881072998047,
          -2.557762622833252,
          -5.616419315338135,
          -15.814247131347656,
          15.848416328430176,
          9.029029846191406,
          6.6055755615234375,
          -0.18950974941253662,
          -7.324674129486084,
          15.475475311279297,
          15.553966522216797,
          -1.7729252576828003,
          -1.936423420906067,
          -1.209511399269104,
          -2.5571019649505615,
          -2.977105140686035,
          1.167130947113037,
          16.778696060180664,
          16.712989807128906,
          -1.9206688404083252,
          8.061092376708984,
          6.579531669616699,
          -2.40018892288208,
          -7.00976037979126,
          5.59656286239624,
          -4.357966423034668,
          -17.28278160095215,
          16.71433448791504,
          -5.283355712890625,
          9.0091552734375,
          -7.5374908447265625,
          10.392343521118164,
          -1.2069751024246216,
          4.787058353424072,
          -16.722970962524414,
          -15.672687530517578,
          -16.35541343688965,
          -2.955296754837036,
          -0.5863050818443298,
          -16.546875,
          1.172489881515503,
          -3.381330728530884,
          15.76508617401123,
          -3.9266576766967773,
          6.383369445800781,
          0.6530534625053406,
          10.252652168273926,
          -0.8866546154022217,
          6.62506103515625,
          -1.2875444889068604,
          -4.138396739959717,
          -16.164247512817383,
          12.418811798095703,
          -3.785398244857788,
          -5.18379020690918,
          6.979170322418213,
          15.611461639404297,
          6.866607189178467,
          15.2002592086792,
          -7.6632771492004395,
          6.987183094024658,
          11.838539123535156,
          5.5137786865234375,
          -16.286794662475586,
          -16.524160385131836,
          -16.519573211669922,
          0.7968456745147705,
          -7.0604753494262695,
          -16.45945167541504,
          4.5907182693481445,
          -15.704668045043945,
          -15.806915283203125,
          -15.428365707397461,
          -3.6472439765930176,
          -5.95656156539917,
          -15.856146812438965,
          6.328150272369385,
          0.15210843086242676,
          10.215536117553711,
          -16.536218643188477,
          -15.897124290466309,
          9.988790512084961,
          -2.623886823654175,
          -16.46791648864746,
          2.771918296813965,
          17.812835693359375,
          15.726630210876465,
          7.46055793762207,
          -6.657430171966553,
          -2.1926190853118896,
          -2.597651481628418,
          -3.445476531982422,
          -15.584073066711426,
          -7.036151885986328,
          -15.577526092529297,
          3.402193307876587,
          -3.702259063720703,
          -16.748313903808594,
          -15.790959358215332,
          -1.324666142463684,
          10.52851390838623,
          -2.666501045227051,
          -4.035144329071045,
          -16.040361404418945,
          4.8656134605407715,
          -3.599111557006836,
          -5.7297539710998535,
          4.44810152053833,
          -2.4766194820404053,
          -7.030301570892334,
          7.353989601135254,
          1.2649540901184082,
          -2.429852247238159,
          6.664926528930664,
          -3.1583826541900635,
          -15.801129341125488,
          -2.5184922218322754,
          14.908182144165039,
          -16.115819931030273,
          -16.31131362915039,
          -3.2717032432556152,
          6.653928756713867,
          -3.6037278175354004,
          15.772598266601562,
          15.44664478302002,
          6.050172328948975,
          3.4827678203582764,
          -3.300840139389038,
          3.481961727142334,
          -17.34505271911621,
          0.852118194103241,
          15.326872825622559,
          -16.395959854125977,
          -15.887052536010742,
          5.917516231536865,
          -5.917553901672363,
          -5.512794017791748,
          -1.8599830865859985,
          9.185222625732422,
          16.504539489746094,
          -3.77777099609375,
          -16.5850772857666,
          -3.6231513023376465,
          -3.273967742919922,
          -2.8389408588409424,
          16.683990478515625,
          -16.109905242919922,
          5.501044273376465,
          -3.238985300064087,
          16.35019874572754,
          -15.848373413085938,
          10.013291358947754,
          15.623750686645508,
          12.209370613098145,
          6.667962074279785,
          10.268345832824707,
          13.121298789978027,
          -16.063270568847656,
          15.816078186035156,
          0.657804012298584,
          2.9108777046203613,
          -17.82853889465332,
          -3.330103635787964,
          14.894250869750977,
          -3.029120445251465,
          2.4043829441070557,
          -16.665348052978516,
          -16.291431427001953,
          -3.122318983078003,
          4.787025451660156,
          -0.5879599452018738,
          1.1968885660171509,
          -7.313238620758057,
          6.912456035614014,
          7.0403733253479,
          -4.090853691101074,
          1.6033241748809814,
          6.327563285827637,
          -16.169004440307617,
          -3.5722362995147705,
          -7.730312347412109,
          8.426563262939453,
          -16.681076049804688,
          8.311209678649902,
          -4.067953109741211,
          0.08681392669677734,
          -4.261460781097412,
          -2.509655475616455,
          -1.47852623462677,
          -16.93886947631836,
          6.463155746459961,
          -3.330803632736206,
          6.608585834503174,
          -5.635945796966553,
          -15.59626293182373,
          15.50638198852539,
          -8.572688102722168,
          13.269915580749512,
          5.571022033691406,
          10.22733211517334,
          15.830558776855469,
          16.258852005004883,
          -5.478538513183594,
          10.905468940734863,
          -8.55825138092041,
          -3.987837314605713,
          2.726483106613159,
          2.726038932800293,
          3.6746060848236084,
          8.001860618591309,
          -8.538039207458496,
          9.878582954406738,
          -15.932427406311035,
          7.3539652824401855,
          1.3654630184173584,
          -3.5425069332122803,
          5.095526695251465,
          4.864923477172852,
          17.805757522583008,
          -3.390232563018799,
          5.5896382331848145,
          -16.95647430419922,
          8.032660484313965,
          -5.356849670410156,
          17.659154891967773,
          -5.158199310302734,
          -3.2031874656677246,
          -6.12200403213501,
          3.6750032901763916,
          7.038668632507324,
          11.025422096252441,
          -6.93401575088501,
          10.429853439331055,
          -2.4333951473236084,
          3.4817421436309814,
          8.323277473449707,
          -2.6856906414031982,
          -3.532677173614502,
          3.678208589553833,
          -6.3772478103637695,
          -3.1290476322174072,
          -2.4367282390594482,
          -15.646129608154297,
          -3.744823455810547,
          -17.55693244934082,
          -3.0217385292053223,
          10.349760055541992,
          -15.394342422485352,
          7.330075263977051,
          -15.654029846191406,
          -3.269237995147705,
          7.09768009185791,
          9.280311584472656,
          -3.4137439727783203,
          2.524886131286621,
          -16.78040313720703,
          -3.022185802459717,
          -5.617552757263184,
          -7.3574371337890625,
          -2.5193233489990234,
          -17.27263832092285,
          -2.9852683544158936,
          -3.6203088760375977,
          -5.368412971496582,
          10.560750007629395,
          5.501080513000488,
          -0.49691009521484375,
          15.67137622833252,
          -16.702259063720703,
          -15.870047569274902,
          -2.9782934188842773,
          11.083816528320312,
          -3.2633469104766846,
          7.647709846496582,
          -6.846401691436768,
          -16.04206657409668,
          13.1239652633667,
          -6.950897216796875,
          6.050365924835205,
          7.722530841827393,
          -1.2101459503173828,
          -5.739394187927246,
          -16.835847854614258,
          -0.17612490057945251,
          8.305156707763672,
          -8.524004936218262,
          2.936875581741333,
          -3.8086445331573486,
          -8.673130989074707,
          16.159616470336914,
          4.590987205505371,
          -15.356858253479004,
          -15.873644828796387,
          8.00184154510498,
          -2.5562644004821777,
          -17.201873779296875,
          2.9891772270202637,
          7.093777179718018,
          15.899497985839844,
          5.574374675750732,
          16.700958251953125,
          0.6361949443817139,
          -16.918045043945312,
          4.888302326202393,
          -5.330813884735107,
          8.697137832641602,
          0.35269230604171753,
          -8.710907936096191,
          -5.358950138092041,
          -8.401144027709961,
          2.9114255905151367,
          -16.919330596923828,
          -0.5871721506118774,
          13.132177352905273,
          -15.378280639648438,
          8.001482009887695,
          17.820404052734375,
          -7.888428211212158,
          -16.71817398071289,
          -2.475142240524292,
          10.819575309753418,
          12.344061851501465,
          10.031618118286133,
          6.504336357116699,
          -3.8102025985717773,
          -15.505069732666016,
          -5.1677350997924805,
          -15.4380464553833,
          11.625256538391113,
          -17.415241241455078,
          -7.507544994354248,
          4.606865882873535,
          -16.851659774780273,
          0.6030096411705017,
          10.829383850097656,
          8.40846061706543,
          8.526110649108887,
          -4.970416069030762,
          10.36656665802002,
          -7.515407085418701,
          -5.832475185394287,
          -16.302032470703125,
          -7.405884265899658,
          -3.4911906719207764,
          5.579244136810303,
          8.022533416748047,
          -17.35562515258789,
          0.020503314211964607,
          -5.979403972625732,
          -6.882479190826416,
          -16.339921951293945,
          14.354312896728516,
          -2.1074531078338623,
          15.320476531982422,
          -17.276840209960938,
          -15.889650344848633,
          9.987483978271484,
          10.864768028259277,
          -16.779199600219727,
          -4.194318771362305,
          9.056564331054688,
          -3.2277309894561768,
          4.606947898864746,
          16.058446884155273,
          -1.9214831590652466,
          4.293614864349365,
          5.618943691253662,
          8.021576881408691,
          -15.77745246887207,
          -2.66214919090271,
          10.769598007202148,
          -15.24942398071289,
          -16.229822158813477,
          -7.56140661239624,
          -16.4964599609375,
          -3.6448967456817627,
          11.625322341918945,
          10.617349624633789,
          15.389204025268555,
          -17.027742385864258,
          -3.603160858154297,
          -16.494739532470703,
          -16.412120819091797
         ],
         "y": [
          -4.628498554229736,
          7.019526958465576,
          -6.289502143859863,
          -6.304323673248291,
          3.8651669025421143,
          3.6896140575408936,
          -7.470394611358643,
          7.60433292388916,
          3.627358913421631,
          0.7459865808486938,
          1.7681728601455688,
          -5.132151126861572,
          -3.3603568077087402,
          4.3312811851501465,
          -5.184629917144775,
          -6.743541240692139,
          8.597923278808594,
          5.398637294769287,
          4.336559295654297,
          -6.403113842010498,
          3.986363410949707,
          8.436609268188477,
          -3.2672462463378906,
          8.42808723449707,
          -2.5755982398986816,
          -1.966156244277954,
          4.552051544189453,
          8.39887523651123,
          -6.151777267456055,
          -0.549463152885437,
          4.216270446777344,
          -7.562726020812988,
          -2.9789352416992188,
          6.380570888519287,
          1.33530592918396,
          4.676266193389893,
          1.8004612922668457,
          -3.330822467803955,
          -6.6714959144592285,
          7.769034385681152,
          4.080041885375977,
          4.862306118011475,
          -4.5943989753723145,
          -4.298341751098633,
          -5.5645647048950195,
          -3.025386333465576,
          -1.5213050842285156,
          -7.689576148986816,
          4.425572872161865,
          4.577276229858398,
          -4.37532901763916,
          0.6211421489715576,
          -2.3975486755371094,
          -3.3515145778656006,
          7.791068077087402,
          -5.224229335784912,
          3.582340717315674,
          -6.063632488250732,
          4.574873447418213,
          6.034854888916016,
          1.7713173627853394,
          9.195878028869629,
          3.9214327335357666,
          -5.570834636688232,
          -6.3637261390686035,
          -2.906696319580078,
          0.8068020939826965,
          -4.540210247039795,
          -1.6209310293197632,
          -6.2865214347839355,
          -5.144062519073486,
          -7.549952507019043,
          0.6603732109069824,
          4.049890995025635,
          4.589585781097412,
          -3.346374273300171,
          -7.3847856521606445,
          3.963169813156128,
          -5.9217400550842285,
          -2.6329386234283447,
          -5.400583744049072,
          3.3020102977752686,
          -1.7096326351165771,
          4.338859558105469,
          3.7983310222625732,
          6.497828006744385,
          -2.376723289489746,
          4.857137203216553,
          -2.9666855335235596,
          4.392687797546387,
          8.972268104553223,
          -3.0152335166931152,
          4.331298828125,
          -5.367746353149414,
          -0.6000245809555054,
          -4.500270843505859,
          -5.1776227951049805,
          -7.338832855224609,
          7.755195617675781,
          -5.332857608795166,
          -6.569293022155762,
          -0.7234520316123962,
          0.8613144755363464,
          1.3366142511367798,
          2.4351613521575928,
          8.610711097717285,
          0.5866819620132446,
          -3.2547686100006104,
          -7.009253978729248,
          3.275930643081665,
          -4.492724418640137,
          0.7690495848655701,
          3.1018402576446533,
          2.7333695888519287,
          -2.0941498279571533,
          -7.643467426300049,
          3.4467334747314453,
          4.380270481109619,
          -1.009063720703125,
          7.867832660675049,
          -3.2010090351104736,
          -3.517153739929199,
          1.2185912132263184,
          0.2258811891078949,
          8.514334678649902,
          0.7694169878959656,
          -7.460747718811035,
          4.503014087677002,
          -2.8684067726135254,
          1.4402601718902588,
          -5.299820899963379,
          3.186522960662842,
          -2.6940183639526367,
          4.055870056152344,
          0.342898428440094,
          -6.269023895263672,
          3.655338764190674,
          6.5820183753967285,
          -6.695046901702881,
          -3.4182941913604736,
          7.778569221496582,
          -1.267544150352478,
          -7.516995429992676,
          -3.3731305599212646,
          -3.4096126556396484,
          -0.6315974593162537,
          0.35697925090789795,
          -3.313610315322876,
          4.459375381469727,
          -0.05209251120686531,
          -0.4303618371486664,
          4.105626106262207,
          -3.4235894680023193,
          4.4760422706604,
          4.690837860107422,
          4.121679782867432,
          -4.313136100769043,
          -7.3780059814453125,
          3.4817419052124023,
          -7.378654956817627,
          -6.185410022735596,
          -7.3064045906066895,
          4.5844502449035645,
          -4.519200325012207,
          0.41808921098709106,
          -4.5984978675842285,
          8.64809513092041,
          5.774230003356934,
          -4.449467182159424,
          2.0169692039489746,
          4.242274761199951,
          4.587876796722412,
          -5.11642599105835,
          1.8233529329299927,
          0.11264368891716003,
          -2.082002639770508,
          4.433657169342041,
          0.050544679164886475,
          -5.389987945556641,
          -0.17297117412090302,
          4.110883712768555,
          1.233295202255249,
          3.536044120788574,
          3.990769386291504,
          4.3363823890686035,
          -2.298745632171631,
          3.817617654800415,
          4.372622013092041,
          0.5128173232078552,
          4.393801689147949,
          -7.433418273925781,
          -7.61678409576416,
          -5.345599174499512,
          0.5654921531677246,
          4.452645778656006,
          -1.3009954690933228,
          -7.658372402191162,
          -2.876818895339966,
          -1.1188228130340576,
          -0.8950216770172119,
          -6.3638386726379395,
          -6.2883219718933105,
          -7.543334484100342,
          7.820539951324463,
          -2.7493321895599365,
          -2.4071054458618164,
          3.675448179244995,
          -7.6023030281066895,
          -3.255147933959961,
          -0.2369331270456314,
          4.072994709014893,
          8.96045970916748,
          0.9124904274940491,
          -5.296279430389404,
          0.7528513073921204,
          3.6845686435699463,
          -6.992400646209717,
          3.691007137298584,
          -3.4403538703918457,
          -5.074062824249268,
          0.8123077750205994,
          -2.838216543197632,
          0.3124711513519287,
          -2.9228994846343994,
          5.77018928527832,
          0.7767885327339172,
          4.829680919647217,
          7.994499683380127,
          4.381363868713379,
          -5.266292095184326,
          3.602919578552246,
          4.231856346130371,
          4.659738540649414,
          5.342206954956055,
          3.88889217376709,
          8.850573539733887,
          4.972514629364014,
          -7.652687072753906,
          -7.653162002563477,
          -7.2587432861328125,
          0.1531771868467331,
          8.852416038513184,
          2.943721055984497,
          1.1333941221237183,
          -1.267208456993103,
          -7.506623268127441,
          3.3337979316711426,
          -5.970123291015625,
          -6.269532680511475,
          3.455636501312256,
          0.6996291875839233,
          -5.235882759094238,
          -5.150845527648926,
          0.39742764830589294,
          6.639686584472656,
          3.6273584365844727,
          5.61137580871582,
          -0.3983412981033325,
          8.506288528442383,
          -7.258522987365723,
          -2.0051584243774414,
          4.192238807678223,
          7.8177385330200195,
          3.4183380603790283,
          -3.340480327606201,
          -7.378914833068848,
          0.7438175678253174,
          -2.6957931518554688,
          3.249202251434326,
          -7.2571210861206055,
          9.393266677856445,
          -0.9243935346603394,
          -3.382749080657959,
          -0.7484889030456543,
          2.672053098678589,
          -6.404491424560547,
          -1.3383153676986694,
          4.022335052490234,
          1.330329418182373,
          -1.3260051012039185,
          0.21074151992797852,
          4.117120265960693,
          -2.404555320739746,
          2.149200201034546,
          3.592569351196289,
          -7.668083667755127,
          -5.260793209075928,
          -1.3410340547561646,
          6.398828983306885,
          7.919588565826416,
          -3.0953528881073,
          -6.0699543952941895,
          2.745640516281128,
          3.9021847248077393,
          5.624117374420166,
          3.3881266117095947,
          -5.389148235321045,
          -6.401305675506592,
          3.995004177093506,
          -3.079468250274658,
          -1.331507682800293,
          -1.5195709466934204,
          4.1737060546875,
          -0.1004396602511406,
          -0.5695754885673523,
          7.815069198608398,
          -0.6185604333877563,
          4.372790336608887,
          7.772152900695801,
          -4.3127288818359375,
          -0.4071856141090393,
          -5.485392093658447,
          6.241894245147705,
          -4.411328315734863,
          -6.679982662200928,
          0.47454196214675903,
          8.866377830505371,
          -7.608617305755615,
          4.491319179534912,
          7.777511119842529,
          4.6930694580078125,
          -6.569145679473877,
          0.06831847876310349,
          0.8274890184402466,
          0.1529799848794937,
          -3.024132490158081,
          -6.111910820007324,
          -7.604485988616943,
          -1.8801259994506836,
          4.835296154022217,
          -5.263075351715088,
          4.621189594268799,
          -7.428330421447754,
          -4.399439811706543,
          -6.239703178405762,
          5.543790340423584,
          1.3280153274536133,
          -7.163129806518555,
          8.189889907836914,
          6.609848976135254,
          7.761956691741943,
          -7.616786003112793,
          -5.182353973388672,
          -6.317869186401367,
          4.373315811157227,
          0.08823197335004807,
          0.15335345268249512,
          3.435351610183716,
          9.099979400634766,
          -4.4625020027160645,
          -3.41424822807312,
          3.4629247188568115,
          4.337712287902832,
          3.6609320640563965,
          -3.4089999198913574,
          4.626705646514893,
          1.4654972553253174,
          6.40948486328125,
          0.7045676708221436,
          4.3149800300598145,
          -4.570940971374512,
          7.144006252288818,
          -6.554676055908203,
          -3.553506374359131,
          -7.375925540924072,
          4.044846057891846,
          0.8826239705085754,
          1.0718200206756592,
          5.433095455169678,
          3.6429550647735596,
          7.766421318054199,
          7.050144672393799,
          -1.1293036937713623,
          9.011868476867676,
          3.9879636764526367,
          -5.25009298324585,
          0.19044990837574005,
          -6.176170825958252,
          -6.930461883544922,
          8.59224796295166,
          7.996402740478516,
          -3.0260555744171143,
          4.422305107116699,
          -4.00437593460083,
          4.3169779777526855,
          -4.980880260467529,
          0.4199049174785614,
          3.111739158630371,
          4.193903923034668,
          -2.9408106803894043,
          3.2827796936035156,
          1.8365916013717651,
          -0.29659801721572876,
          -6.555112838745117,
          4.241168022155762,
          -4.367361068725586,
          -6.8163909912109375,
          -5.184306621551514,
          0.19208431243896484,
          -0.6947594285011292,
          -2.6772193908691406,
          3.325328826904297,
          -0.015456721186637878,
          -0.9384093880653381,
          7.7352190017700195,
          -2.788370132446289,
          4.780186653137207,
          4.315118312835693,
          3.320363998413086,
          4.611534595489502,
          -5.10265588760376,
          3.183290958404541,
          -4.501621246337891,
          -5.349652290344238
         ],
         "z": [
          1.3950504064559937,
          -0.36078864336013794,
          3.4912590980529785,
          3.562763214111328,
          3.905587911605835,
          -2.859497308731079,
          2.353872299194336,
          -1.2932918071746826,
          2.0835084915161133,
          -3.4508790969848633,
          3.2276628017425537,
          1.0682153701782227,
          4.455235958099365,
          -1.5567253828048706,
          -2.1129684448242188,
          2.869232177734375,
          -1.4646855592727661,
          1.250368356704712,
          2.54936146736145,
          1.7184617519378662,
          -2.269761085510254,
          -1.5160921812057495,
          -2.8626770973205566,
          -1.389485478401184,
          3.3140413761138916,
          -3.377066135406494,
          4.209985256195068,
          -1.2556532621383667,
          3.423027276992798,
          4.625215530395508,
          2.275066614151001,
          0.5950325727462769,
          3.274947166442871,
          0.2848602533340454,
          -1.0373953580856323,
          1.1253794431686401,
          -3.1834144592285156,
          -2.884869337081909,
          3.5072021484375,
          -1.009619116783142,
          1.654246211051941,
          1.4037505388259888,
          3.403712272644043,
          3.4348409175872803,
          4.054959297180176,
          3.3553740978240967,
          4.036396503448486,
          2.0925405025482178,
          2.259310483932495,
          1.9276604652404785,
          3.8966293334960938,
          -3.4443562030792236,
          -3.321202516555786,
          4.438591480255127,
          -1.2399686574935913,
          -2.0873303413391113,
          2.219109058380127,
          1.4606530666351318,
          1.9265183210372925,
          0.7937563061714172,
          -3.1925058364868164,
          -2.239401340484619,
          -2.7578012943267822,
          4.0665283203125,
          -1.162214994430542,
          0.7106091380119324,
          -1.7176728248596191,
          0.7061396837234497,
          3.7099413871765137,
          3.4658846855163574,
          1.0732357501983643,
          2.124818801879883,
          3.4726486206054688,
          1.257752537727356,
          3.8706424236297607,
          -3.186978816986084,
          2.4120078086853027,
          -2.3371775150299072,
          2.9157044887542725,
          -2.9784605503082275,
          3.7609057426452637,
          2.431459903717041,
          -0.3565789461135864,
          -1.1048206090927124,
          3.308835983276367,
          0.9869276285171509,
          -3.522754669189453,
          1.3280881643295288,
          -3.4815163612365723,
          1.1124433279037476,
          -1.4486960172653198,
          -3.26530385017395,
          -1.5567960739135742,
          -1.9914685487747192,
          0.2757849097251892,
          0.5454182028770447,
          1.0434147119522095,
          2.564067840576172,
          -1.229551911354065,
          0.8393052816390991,
          -0.9453501105308533,
          -0.912845253944397,
          -1.7671252489089966,
          -1.621995449066162,
          2.864058494567871,
          -1.4781256914138794,
          -0.8610860705375671,
          -3.011061429977417,
          2.7502870559692383,
          -2.283968925476074,
          0.5477136373519897,
          -0.028641587123274803,
          -2.737722158432007,
          2.7716801166534424,
          0.32483598589897156,
          0.8993449211120605,
          2.0115065574645996,
          2.0220844745635986,
          -3.472867250442505,
          -1.5351067781448364,
          4.4406938552856445,
          4.4885687828063965,
          3.3357906341552734,
          -1.7262094020843506,
          -1.664320707321167,
          -1.6765166521072388,
          0.3123719096183777,
          4.154031753540039,
          0.8483716249465942,
          0.02668478898704052,
          3.3730924129486084,
          -2.6693780422210693,
          3.852910280227661,
          2.666132688522339,
          0.007511992007493973,
          -1.2519662380218506,
          3.902000665664673,
          0.21069295704364777,
          -0.790744960308075,
          4.475132465362549,
          -1.2330600023269653,
          -3.4564015865325928,
          2.2247695922851562,
          4.426846981048584,
          -3.025052070617676,
          4.5562005043029785,
          -1.856431245803833,
          4.86895227432251,
          0.9037039279937744,
          0.10493203997612,
          0.1640337109565735,
          3.798983335494995,
          -3.0736825466156006,
          3.171081304550171,
          1.109588623046875,
          1.6924511194229126,
          -2.5831525325775146,
          0.22174158692359924,
          3.5705058574676514,
          0.22236676514148712,
          1.5426381826400757,
          2.698791980743408,
          1.7060548067092896,
          0.6858989000320435,
          -1.9108818769454956,
          -2.4399473667144775,
          -1.516562581062317,
          0.3608996570110321,
          3.6367547512054443,
          -3.116185188293457,
          2.292788505554199,
          4.292829513549805,
          1.0834696292877197,
          3.0935423374176025,
          4.449791431427002,
          3.694828748703003,
          2.285027027130127,
          0.04225901886820793,
          -1.9767094850540161,
          4.224986553192139,
          2.146881341934204,
          -1.2360410690307617,
          -2.3848814964294434,
          1.4535197019577026,
          -1.2716344594955444,
          -3.21616530418396,
          -2.1549582481384277,
          -0.5437229871749878,
          0.02768002636730671,
          1.0427097082138062,
          2.4473040103912354,
          0.7751146554946899,
          1.7909185886383057,
          4.366334438323975,
          0.8921850919723511,
          4.149118423461914,
          1.2130882740020752,
          0.628970742225647,
          0.15910674631595612,
          4.008203506469727,
          -1.1620824337005615,
          3.483665704727173,
          2.080873966217041,
          -0.9753774404525757,
          -2.97336745262146,
          -3.145042896270752,
          2.873562812805176,
          1.8305343389511108,
          -3.0126874446868896,
          0.1116180494427681,
          4.2712788581848145,
          -1.4134527444839478,
          -3.4148619174957275,
          0.6876398921012878,
          -3.455579996109009,
          3.3583285808563232,
          2.685758590698242,
          2.3705270290374756,
          4.44814920425415,
          3.4744536876678467,
          -0.06690283864736557,
          -3.4176411628723145,
          3.699369430541992,
          -3.5092966556549072,
          0.10336845368146896,
          -1.6837618350982666,
          1.611533761024475,
          -2.114821672439575,
          -0.4254937171936035,
          -2.057664394378662,
          -2.8888165950775146,
          1.1004947423934937,
          2.212357759475708,
          0.39795857667922974,
          -2.6333260536193848,
          -2.285677194595337,
          4.096670150756836,
          0.9423015117645264,
          0.9428077936172485,
          0.02456635795533657,
          -3.4981093406677246,
          -2.2917580604553223,
          -2.8028616905212402,
          -0.1519322246313095,
          -3.45607852935791,
          2.358489751815796,
          3.4286794662475586,
          -1.5144224166870117,
          -1.2511965036392212,
          2.015376329421997,
          3.3262603282928467,
          -2.0794310569763184,
          0.6774287819862366,
          -3.589686155319214,
          0.7149790525436401,
          2.083508253097534,
          0.9637172222137451,
          4.157848358154297,
          -1.3452425003051758,
          0.024166177958250046,
          -3.3875539302825928,
          -2.0528838634490967,
          -1.295865535736084,
          -2.9113616943359375,
          3.4983582496643066,
          0.2226140797138214,
          -3.445227861404419,
          3.481595516204834,
          3.414226531982422,
          0.0209847092628479,
          -2.445469856262207,
          3.9753830432891846,
          4.459402561187744,
          -0.8841861486434937,
          3.158259630203247,
          1.71541428565979,
          4.035675525665283,
          -2.5782313346862793,
          -1.6139034032821655,
          -3.4526193141937256,
          -1.601105809211731,
          3.8079020977020264,
          -3.4142367839813232,
          -3.072810173034668,
          2.976043462753296,
          1.1111068725585938,
          0.6596916317939758,
          4.026891231536865,
          0.25868329405784607,
          -0.8954657912254333,
          3.283094882965088,
          1.4576469659805298,
          3.018204927444458,
          3.322709560394287,
          0.6054940223693848,
          -2.1405694484710693,
          -1.976727843284607,
          2.8073673248291016,
          1.3881710767745972,
          0.6632623672485352,
          -0.9315569996833801,
          3.417447328567505,
          -2.121628999710083,
          3.4269983768463135,
          -3.496570587158203,
          -1.4051975011825562,
          -0.9848726391792297,
          -0.5416052341461182,
          -1.3323613405227661,
          -2.583387613296509,
          -3.5024735927581787,
          3.5422544479370117,
          -0.7880731821060181,
          0.3918553590774536,
          3.468005657196045,
          -3.5652220249176025,
          -2.291581153869629,
          0.7503095269203186,
          3.6467080116271973,
          -1.938489317893982,
          1.4273979663848877,
          -0.9454981088638306,
          -0.9894105195999146,
          -0.22857223451137543,
          -3.4987599849700928,
          3.354764938354492,
          1.4475212097167969,
          0.7062012553215027,
          -3.3947558403015137,
          1.792760968208313,
          -2.0614750385284424,
          2.003687858581543,
          2.3251700401306152,
          0.3029201030731201,
          -1.2774516344070435,
          0.659363329410553,
          -3.316857099533081,
          2.682018995285034,
          -2.2055227756500244,
          0.714760422706604,
          -2.017817974090576,
          0.7746967077255249,
          0.6625534892082214,
          3.0330677032470703,
          -0.5349590182304382,
          -1.588884711265564,
          -3.4987783432006836,
          2.0078747272491455,
          -2.127183437347412,
          0.43023622035980225,
          4.458502769470215,
          -2.670156717300415,
          -1.165343165397644,
          -2.6537845134735107,
          -3.2091376781463623,
          4.345619201660156,
          -1.2167103290557861,
          1.0120941400527954,
          -1.6153414249420166,
          -1.721745491027832,
          1.3634153604507446,
          -2.173051595687866,
          -0.9628861546516418,
          0.8590330481529236,
          2.4608945846557617,
          -1.9787726402282715,
          -3.4198694229125977,
          -3.3798866271972656,
          1.2607911825180054,
          -2.062642812728882,
          -0.9257358312606812,
          0.04096454754471779,
          0.16175992786884308,
          -1.5880707502365112,
          4.171733856201172,
          -2.0671355724334717,
          -3.4974722862243652,
          1.5471755266189575,
          2.7130043506622314,
          -1.4586701393127441,
          -1.1694355010986328,
          -0.007887751795351505,
          0.4457607567310333,
          3.643381118774414,
          1.7117719650268555,
          1.2189005613327026,
          -1.9126479625701904,
          -2.728915214538574,
          -2.339995861053467,
          0.9531514048576355,
          2.405255079269409,
          -3.173518180847168,
          3.31436824798584,
          -0.9627804160118103,
          1.2571178674697876,
          3.896214008331299,
          -0.6251229047775269,
          -2.1127936840057373,
          -3.496878147125244,
          -0.933271050453186,
          3.834016799926758,
          -2.5103814601898193,
          -0.9583736658096313,
          0.05133717879652977,
          -0.9285603761672974,
          0.2690436840057373,
          3.154705047607422,
          -1.721579909324646,
          -2.2281405925750732,
          1.767820119857788,
          0.6664907336235046,
          3.3763253688812256,
          0.577231228351593,
          0.869238555431366
         ]
        }
       ],
       "layout": {
        "legend": {
         "tracegroupgap": 0
        },
        "margin": {
         "t": 60
        },
        "scene": {
         "domain": {
          "x": [
           0,
           1
          ],
          "y": [
           0,
           1
          ]
         },
         "xaxis": {
          "title": {
           "text": "tsne0"
          }
         },
         "yaxis": {
          "title": {
           "text": "tsne1"
          }
         },
         "zaxis": {
          "title": {
           "text": "tsne2"
          }
         }
        },
        "template": {
         "data": {
          "bar": [
           {
            "error_x": {
             "color": "#2a3f5f"
            },
            "error_y": {
             "color": "#2a3f5f"
            },
            "marker": {
             "line": {
              "color": "#E5ECF6",
              "width": 0.5
             },
             "pattern": {
              "fillmode": "overlay",
              "size": 10,
              "solidity": 0.2
             }
            },
            "type": "bar"
           }
          ],
          "barpolar": [
           {
            "marker": {
             "line": {
              "color": "#E5ECF6",
              "width": 0.5
             },
             "pattern": {
              "fillmode": "overlay",
              "size": 10,
              "solidity": 0.2
             }
            },
            "type": "barpolar"
           }
          ],
          "carpet": [
           {
            "aaxis": {
             "endlinecolor": "#2a3f5f",
             "gridcolor": "white",
             "linecolor": "white",
             "minorgridcolor": "white",
             "startlinecolor": "#2a3f5f"
            },
            "baxis": {
             "endlinecolor": "#2a3f5f",
             "gridcolor": "white",
             "linecolor": "white",
             "minorgridcolor": "white",
             "startlinecolor": "#2a3f5f"
            },
            "type": "carpet"
           }
          ],
          "choropleth": [
           {
            "colorbar": {
             "outlinewidth": 0,
             "ticks": ""
            },
            "type": "choropleth"
           }
          ],
          "contour": [
           {
            "colorbar": {
             "outlinewidth": 0,
             "ticks": ""
            },
            "colorscale": [
             [
              0,
              "#0d0887"
             ],
             [
              0.1111111111111111,
              "#46039f"
             ],
             [
              0.2222222222222222,
              "#7201a8"
             ],
             [
              0.3333333333333333,
              "#9c179e"
             ],
             [
              0.4444444444444444,
              "#bd3786"
             ],
             [
              0.5555555555555556,
              "#d8576b"
             ],
             [
              0.6666666666666666,
              "#ed7953"
             ],
             [
              0.7777777777777778,
              "#fb9f3a"
             ],
             [
              0.8888888888888888,
              "#fdca26"
             ],
             [
              1,
              "#f0f921"
             ]
            ],
            "type": "contour"
           }
          ],
          "contourcarpet": [
           {
            "colorbar": {
             "outlinewidth": 0,
             "ticks": ""
            },
            "type": "contourcarpet"
           }
          ],
          "heatmap": [
           {
            "colorbar": {
             "outlinewidth": 0,
             "ticks": ""
            },
            "colorscale": [
             [
              0,
              "#0d0887"
             ],
             [
              0.1111111111111111,
              "#46039f"
             ],
             [
              0.2222222222222222,
              "#7201a8"
             ],
             [
              0.3333333333333333,
              "#9c179e"
             ],
             [
              0.4444444444444444,
              "#bd3786"
             ],
             [
              0.5555555555555556,
              "#d8576b"
             ],
             [
              0.6666666666666666,
              "#ed7953"
             ],
             [
              0.7777777777777778,
              "#fb9f3a"
             ],
             [
              0.8888888888888888,
              "#fdca26"
             ],
             [
              1,
              "#f0f921"
             ]
            ],
            "type": "heatmap"
           }
          ],
          "heatmapgl": [
           {
            "colorbar": {
             "outlinewidth": 0,
             "ticks": ""
            },
            "colorscale": [
             [
              0,
              "#0d0887"
             ],
             [
              0.1111111111111111,
              "#46039f"
             ],
             [
              0.2222222222222222,
              "#7201a8"
             ],
             [
              0.3333333333333333,
              "#9c179e"
             ],
             [
              0.4444444444444444,
              "#bd3786"
             ],
             [
              0.5555555555555556,
              "#d8576b"
             ],
             [
              0.6666666666666666,
              "#ed7953"
             ],
             [
              0.7777777777777778,
              "#fb9f3a"
             ],
             [
              0.8888888888888888,
              "#fdca26"
             ],
             [
              1,
              "#f0f921"
             ]
            ],
            "type": "heatmapgl"
           }
          ],
          "histogram": [
           {
            "marker": {
             "pattern": {
              "fillmode": "overlay",
              "size": 10,
              "solidity": 0.2
             }
            },
            "type": "histogram"
           }
          ],
          "histogram2d": [
           {
            "colorbar": {
             "outlinewidth": 0,
             "ticks": ""
            },
            "colorscale": [
             [
              0,
              "#0d0887"
             ],
             [
              0.1111111111111111,
              "#46039f"
             ],
             [
              0.2222222222222222,
              "#7201a8"
             ],
             [
              0.3333333333333333,
              "#9c179e"
             ],
             [
              0.4444444444444444,
              "#bd3786"
             ],
             [
              0.5555555555555556,
              "#d8576b"
             ],
             [
              0.6666666666666666,
              "#ed7953"
             ],
             [
              0.7777777777777778,
              "#fb9f3a"
             ],
             [
              0.8888888888888888,
              "#fdca26"
             ],
             [
              1,
              "#f0f921"
             ]
            ],
            "type": "histogram2d"
           }
          ],
          "histogram2dcontour": [
           {
            "colorbar": {
             "outlinewidth": 0,
             "ticks": ""
            },
            "colorscale": [
             [
              0,
              "#0d0887"
             ],
             [
              0.1111111111111111,
              "#46039f"
             ],
             [
              0.2222222222222222,
              "#7201a8"
             ],
             [
              0.3333333333333333,
              "#9c179e"
             ],
             [
              0.4444444444444444,
              "#bd3786"
             ],
             [
              0.5555555555555556,
              "#d8576b"
             ],
             [
              0.6666666666666666,
              "#ed7953"
             ],
             [
              0.7777777777777778,
              "#fb9f3a"
             ],
             [
              0.8888888888888888,
              "#fdca26"
             ],
             [
              1,
              "#f0f921"
             ]
            ],
            "type": "histogram2dcontour"
           }
          ],
          "mesh3d": [
           {
            "colorbar": {
             "outlinewidth": 0,
             "ticks": ""
            },
            "type": "mesh3d"
           }
          ],
          "parcoords": [
           {
            "line": {
             "colorbar": {
              "outlinewidth": 0,
              "ticks": ""
             }
            },
            "type": "parcoords"
           }
          ],
          "pie": [
           {
            "automargin": true,
            "type": "pie"
           }
          ],
          "scatter": [
           {
            "fillpattern": {
             "fillmode": "overlay",
             "size": 10,
             "solidity": 0.2
            },
            "type": "scatter"
           }
          ],
          "scatter3d": [
           {
            "line": {
             "colorbar": {
              "outlinewidth": 0,
              "ticks": ""
             }
            },
            "marker": {
             "colorbar": {
              "outlinewidth": 0,
              "ticks": ""
             }
            },
            "type": "scatter3d"
           }
          ],
          "scattercarpet": [
           {
            "marker": {
             "colorbar": {
              "outlinewidth": 0,
              "ticks": ""
             }
            },
            "type": "scattercarpet"
           }
          ],
          "scattergeo": [
           {
            "marker": {
             "colorbar": {
              "outlinewidth": 0,
              "ticks": ""
             }
            },
            "type": "scattergeo"
           }
          ],
          "scattergl": [
           {
            "marker": {
             "colorbar": {
              "outlinewidth": 0,
              "ticks": ""
             }
            },
            "type": "scattergl"
           }
          ],
          "scattermapbox": [
           {
            "marker": {
             "colorbar": {
              "outlinewidth": 0,
              "ticks": ""
             }
            },
            "type": "scattermapbox"
           }
          ],
          "scatterpolar": [
           {
            "marker": {
             "colorbar": {
              "outlinewidth": 0,
              "ticks": ""
             }
            },
            "type": "scatterpolar"
           }
          ],
          "scatterpolargl": [
           {
            "marker": {
             "colorbar": {
              "outlinewidth": 0,
              "ticks": ""
             }
            },
            "type": "scatterpolargl"
           }
          ],
          "scatterternary": [
           {
            "marker": {
             "colorbar": {
              "outlinewidth": 0,
              "ticks": ""
             }
            },
            "type": "scatterternary"
           }
          ],
          "surface": [
           {
            "colorbar": {
             "outlinewidth": 0,
             "ticks": ""
            },
            "colorscale": [
             [
              0,
              "#0d0887"
             ],
             [
              0.1111111111111111,
              "#46039f"
             ],
             [
              0.2222222222222222,
              "#7201a8"
             ],
             [
              0.3333333333333333,
              "#9c179e"
             ],
             [
              0.4444444444444444,
              "#bd3786"
             ],
             [
              0.5555555555555556,
              "#d8576b"
             ],
             [
              0.6666666666666666,
              "#ed7953"
             ],
             [
              0.7777777777777778,
              "#fb9f3a"
             ],
             [
              0.8888888888888888,
              "#fdca26"
             ],
             [
              1,
              "#f0f921"
             ]
            ],
            "type": "surface"
           }
          ],
          "table": [
           {
            "cells": {
             "fill": {
              "color": "#EBF0F8"
             },
             "line": {
              "color": "white"
             }
            },
            "header": {
             "fill": {
              "color": "#C8D4E3"
             },
             "line": {
              "color": "white"
             }
            },
            "type": "table"
           }
          ]
         },
         "layout": {
          "annotationdefaults": {
           "arrowcolor": "#2a3f5f",
           "arrowhead": 0,
           "arrowwidth": 1
          },
          "autotypenumbers": "strict",
          "coloraxis": {
           "colorbar": {
            "outlinewidth": 0,
            "ticks": ""
           }
          },
          "colorscale": {
           "diverging": [
            [
             0,
             "#8e0152"
            ],
            [
             0.1,
             "#c51b7d"
            ],
            [
             0.2,
             "#de77ae"
            ],
            [
             0.3,
             "#f1b6da"
            ],
            [
             0.4,
             "#fde0ef"
            ],
            [
             0.5,
             "#f7f7f7"
            ],
            [
             0.6,
             "#e6f5d0"
            ],
            [
             0.7,
             "#b8e186"
            ],
            [
             0.8,
             "#7fbc41"
            ],
            [
             0.9,
             "#4d9221"
            ],
            [
             1,
             "#276419"
            ]
           ],
           "sequential": [
            [
             0,
             "#0d0887"
            ],
            [
             0.1111111111111111,
             "#46039f"
            ],
            [
             0.2222222222222222,
             "#7201a8"
            ],
            [
             0.3333333333333333,
             "#9c179e"
            ],
            [
             0.4444444444444444,
             "#bd3786"
            ],
            [
             0.5555555555555556,
             "#d8576b"
            ],
            [
             0.6666666666666666,
             "#ed7953"
            ],
            [
             0.7777777777777778,
             "#fb9f3a"
            ],
            [
             0.8888888888888888,
             "#fdca26"
            ],
            [
             1,
             "#f0f921"
            ]
           ],
           "sequentialminus": [
            [
             0,
             "#0d0887"
            ],
            [
             0.1111111111111111,
             "#46039f"
            ],
            [
             0.2222222222222222,
             "#7201a8"
            ],
            [
             0.3333333333333333,
             "#9c179e"
            ],
            [
             0.4444444444444444,
             "#bd3786"
            ],
            [
             0.5555555555555556,
             "#d8576b"
            ],
            [
             0.6666666666666666,
             "#ed7953"
            ],
            [
             0.7777777777777778,
             "#fb9f3a"
            ],
            [
             0.8888888888888888,
             "#fdca26"
            ],
            [
             1,
             "#f0f921"
            ]
           ]
          },
          "colorway": [
           "#636efa",
           "#EF553B",
           "#00cc96",
           "#ab63fa",
           "#FFA15A",
           "#19d3f3",
           "#FF6692",
           "#B6E880",
           "#FF97FF",
           "#FECB52"
          ],
          "font": {
           "color": "#2a3f5f"
          },
          "geo": {
           "bgcolor": "white",
           "lakecolor": "white",
           "landcolor": "#E5ECF6",
           "showlakes": true,
           "showland": true,
           "subunitcolor": "white"
          },
          "hoverlabel": {
           "align": "left"
          },
          "hovermode": "closest",
          "mapbox": {
           "style": "light"
          },
          "paper_bgcolor": "white",
          "plot_bgcolor": "#E5ECF6",
          "polar": {
           "angularaxis": {
            "gridcolor": "white",
            "linecolor": "white",
            "ticks": ""
           },
           "bgcolor": "#E5ECF6",
           "radialaxis": {
            "gridcolor": "white",
            "linecolor": "white",
            "ticks": ""
           }
          },
          "scene": {
           "xaxis": {
            "backgroundcolor": "#E5ECF6",
            "gridcolor": "white",
            "gridwidth": 2,
            "linecolor": "white",
            "showbackground": true,
            "ticks": "",
            "zerolinecolor": "white"
           },
           "yaxis": {
            "backgroundcolor": "#E5ECF6",
            "gridcolor": "white",
            "gridwidth": 2,
            "linecolor": "white",
            "showbackground": true,
            "ticks": "",
            "zerolinecolor": "white"
           },
           "zaxis": {
            "backgroundcolor": "#E5ECF6",
            "gridcolor": "white",
            "gridwidth": 2,
            "linecolor": "white",
            "showbackground": true,
            "ticks": "",
            "zerolinecolor": "white"
           }
          },
          "shapedefaults": {
           "line": {
            "color": "#2a3f5f"
           }
          },
          "ternary": {
           "aaxis": {
            "gridcolor": "white",
            "linecolor": "white",
            "ticks": ""
           },
           "baxis": {
            "gridcolor": "white",
            "linecolor": "white",
            "ticks": ""
           },
           "bgcolor": "#E5ECF6",
           "caxis": {
            "gridcolor": "white",
            "linecolor": "white",
            "ticks": ""
           }
          },
          "title": {
           "x": 0.05
          },
          "xaxis": {
           "automargin": true,
           "gridcolor": "white",
           "linecolor": "white",
           "ticks": "",
           "title": {
            "standoff": 15
           },
           "zerolinecolor": "white",
           "zerolinewidth": 2
          },
          "yaxis": {
           "automargin": true,
           "gridcolor": "white",
           "linecolor": "white",
           "ticks": "",
           "title": {
            "standoff": 15
           },
           "zerolinecolor": "white",
           "zerolinewidth": 2
          }
         }
        }
       }
      }
     },
     "metadata": {},
     "output_type": "display_data"
    }
   ],
   "source": [
    "fig = px.scatter_3d(\n",
    "    data_frame=df_tsne,\n",
    "    x=df_tsne.columns[0],\n",
    "    y=df_tsne.columns[1],\n",
    "    z=df_tsne.columns[2],\n",
    "    opacity=0.5,\n",
    ")\n",
    "fig.show()"
   ]
  },
  {
   "cell_type": "code",
   "execution_count": 236,
   "metadata": {},
   "outputs": [],
   "source": [
    "scaler = RobustScaler()"
   ]
  },
  {
   "cell_type": "code",
   "execution_count": 237,
   "metadata": {},
   "outputs": [
    {
     "data": {
      "text/plain": [
       "array([ 1,  1,  1,  1,  1,  1,  1,  1, -1,  1,  1,  1,  1,  1,  1,  1,  1,\n",
       "        1,  1,  1,  1,  1,  1,  1,  1,  1,  1,  1,  1,  1,  1,  1,  1,  1,\n",
       "        1, -1,  1,  1,  1,  1,  1,  1,  1,  1,  1,  1,  1,  1,  1, -1,  1,\n",
       "        1,  1,  1,  1,  1,  1,  1, -1,  1,  1,  1,  1,  1,  1,  1,  1,  1,\n",
       "        1,  1,  1,  1,  1,  1,  1,  1,  1,  1,  1,  1,  1,  1,  1,  1,  1,\n",
       "        1,  1,  1,  1,  1,  1,  1,  1,  1,  1,  1,  1,  1,  1,  1,  1,  1,\n",
       "        1,  1,  1,  1,  1,  1,  1,  1,  1,  1,  1,  1,  1,  1, -1,  1,  1,\n",
       "        1,  1,  1,  1,  1,  1,  1,  1,  1,  1,  1,  1,  1,  1,  1,  1,  1,\n",
       "        1,  1,  1,  1,  1,  1,  1,  1,  1,  1,  1,  1,  1,  1,  1,  1,  1,\n",
       "        1,  1,  1,  1,  1,  1,  1,  1,  1,  1,  1,  1,  1,  1,  1,  1,  1,\n",
       "        1,  1,  1,  1,  1,  1, -1,  1,  1,  1, -1,  1,  1,  1, -1,  1,  1,\n",
       "       -1,  1,  1,  1,  1,  1,  1,  1,  1,  1,  1,  1,  1,  1,  1,  1,  1,\n",
       "        1,  1,  1,  1,  1,  1,  1,  1,  1,  1,  1,  1,  1,  1,  1,  1,  1,\n",
       "        1,  1,  1,  1,  1,  1,  1, -1,  1,  1,  1, -1,  1,  1,  1,  1,  1,\n",
       "        1,  1,  1,  1,  1,  1,  1,  1,  1,  1,  1, -1,  1,  1,  1,  1,  1,\n",
       "       -1,  1,  1,  1,  1,  1,  1,  1,  1,  1,  1,  1,  1,  1,  1,  1,  1,\n",
       "        1,  1,  1,  1,  1,  1,  1,  1,  1,  1,  1,  1,  1,  1,  1,  1,  1,\n",
       "        1,  1,  1,  1,  1,  1,  1,  1,  1,  1,  1,  1,  1,  1,  1,  1,  1,\n",
       "        1, -1,  1,  1,  1,  1,  1,  1,  1,  1,  1,  1,  1,  1, -1,  1,  1,\n",
       "        1,  1,  1,  1,  1,  1,  1,  1,  1,  1,  1,  1,  1,  1,  1,  1,  1,\n",
       "        1,  1,  1,  1, -1,  1,  1, -1,  1,  1,  1,  1,  1,  1,  1,  1,  1,\n",
       "        1,  1, -1,  1,  1,  1,  1,  1,  1,  1,  1,  1,  1,  1,  1,  1,  1,\n",
       "        1,  1,  1,  1,  1,  1,  1,  1, -1,  1,  1,  1,  1,  1,  1,  1,  1,\n",
       "        1,  1,  1, -1,  1,  1,  1,  1,  1,  1,  1,  1,  1,  1,  1,  1, -1,\n",
       "        1,  1,  1,  1,  1,  1])"
      ]
     },
     "execution_count": 237,
     "metadata": {},
     "output_type": "execute_result"
    }
   ],
   "source": [
    "isf = IsolationForest(contamination=0.05)\n",
    "outliers = isf.fit_predict(scaler.fit_transform(df.drop(columns=metadata['tgt'])))\n",
    "outliers"
   ]
  },
  {
   "cell_type": "code",
   "execution_count": 238,
   "metadata": {},
   "outputs": [
    {
     "data": {
      "application/vnd.plotly.v1+json": {
       "config": {
        "plotlyServerURL": "https://plot.ly"
       },
       "data": [
        {
         "hovertemplate": "outliers=1<br>tsne0=%{x}<br>tsne1=%{y}<br>tsne2=%{z}<extra></extra>",
         "legendgroup": "1",
         "marker": {
          "color": "grey",
          "symbol": "circle"
         },
         "mode": "markers",
         "name": "1",
         "scene": "scene",
         "showlegend": true,
         "type": "scatter3d",
         "x": [
          -17.52732276916504,
          -6.504703521728516,
          -0.5883821249008179,
          -0.5886574387550354,
          -3.2083511352539062,
          10.644671440124512,
          0.8291534781455994,
          -7.450582027435303,
          8.3213529586792,
          -3.588057041168213,
          -16.573993682861328,
          -2.409125804901123,
          11.838397979736328,
          5.619024276733398,
          -0.20622064173221588,
          -5.972086429595947,
          -4.972418785095215,
          -4.18122673034668,
          -17.563095092773438,
          11.183455467224121,
          -7.323976516723633,
          6.478435516357422,
          -7.502577781677246,
          -2.7150628566741943,
          7.029078006744385,
          -3.7004454135894775,
          -8.138886451721191,
          -0.7092906832695007,
          -3.1720073223114014,
          16.48839569091797,
          3.1028881072998047,
          -2.557762622833252,
          -5.616419315338135,
          -15.814247131347656,
          9.029029846191406,
          6.6055755615234375,
          -0.18950974941253662,
          -7.324674129486084,
          15.475475311279297,
          15.553966522216797,
          -1.7729252576828003,
          -1.936423420906067,
          -1.209511399269104,
          -2.5571019649505615,
          -2.977105140686035,
          1.167130947113037,
          16.778696060180664,
          -1.9206688404083252,
          8.061092376708984,
          6.579531669616699,
          -2.40018892288208,
          -7.00976037979126,
          5.59656286239624,
          -4.357966423034668,
          -17.28278160095215,
          -5.283355712890625,
          9.0091552734375,
          -7.5374908447265625,
          10.392343521118164,
          -1.2069751024246216,
          4.787058353424072,
          -16.722970962524414,
          -15.672687530517578,
          -16.35541343688965,
          -2.955296754837036,
          -0.5863050818443298,
          -16.546875,
          1.172489881515503,
          -3.381330728530884,
          15.76508617401123,
          -3.9266576766967773,
          6.383369445800781,
          0.6530534625053406,
          10.252652168273926,
          -0.8866546154022217,
          6.62506103515625,
          -1.2875444889068604,
          -4.138396739959717,
          -16.164247512817383,
          12.418811798095703,
          -3.785398244857788,
          -5.18379020690918,
          6.979170322418213,
          15.611461639404297,
          6.866607189178467,
          15.2002592086792,
          -7.6632771492004395,
          6.987183094024658,
          11.838539123535156,
          5.5137786865234375,
          -16.286794662475586,
          -16.524160385131836,
          -16.519573211669922,
          0.7968456745147705,
          -7.0604753494262695,
          -16.45945167541504,
          4.5907182693481445,
          -15.704668045043945,
          -15.806915283203125,
          -15.428365707397461,
          -3.6472439765930176,
          -5.95656156539917,
          -15.856146812438965,
          6.328150272369385,
          0.15210843086242676,
          10.215536117553711,
          -16.536218643188477,
          -15.897124290466309,
          9.988790512084961,
          -2.623886823654175,
          -16.46791648864746,
          2.771918296813965,
          15.726630210876465,
          7.46055793762207,
          -6.657430171966553,
          -2.1926190853118896,
          -2.597651481628418,
          -3.445476531982422,
          -15.584073066711426,
          -7.036151885986328,
          -15.577526092529297,
          3.402193307876587,
          -3.702259063720703,
          -16.748313903808594,
          -15.790959358215332,
          -1.324666142463684,
          10.52851390838623,
          -2.666501045227051,
          -4.035144329071045,
          -16.040361404418945,
          4.8656134605407715,
          -3.599111557006836,
          -5.7297539710998535,
          4.44810152053833,
          -2.4766194820404053,
          -7.030301570892334,
          7.353989601135254,
          1.2649540901184082,
          -2.429852247238159,
          6.664926528930664,
          -3.1583826541900635,
          -15.801129341125488,
          -2.5184922218322754,
          14.908182144165039,
          -16.115819931030273,
          -16.31131362915039,
          -3.2717032432556152,
          6.653928756713867,
          -3.6037278175354004,
          15.772598266601562,
          15.44664478302002,
          6.050172328948975,
          3.4827678203582764,
          -3.300840139389038,
          3.481961727142334,
          -17.34505271911621,
          0.852118194103241,
          15.326872825622559,
          -16.395959854125977,
          -15.887052536010742,
          5.917516231536865,
          -5.917553901672363,
          -5.512794017791748,
          -1.8599830865859985,
          9.185222625732422,
          16.504539489746094,
          -3.77777099609375,
          -16.5850772857666,
          -3.6231513023376465,
          -3.273967742919922,
          -2.8389408588409424,
          -16.109905242919922,
          5.501044273376465,
          -3.238985300064087,
          -15.848373413085938,
          10.013291358947754,
          15.623750686645508,
          6.667962074279785,
          10.268345832824707,
          -16.063270568847656,
          15.816078186035156,
          0.657804012298584,
          2.9108777046203613,
          -17.82853889465332,
          -3.330103635787964,
          14.894250869750977,
          -3.029120445251465,
          2.4043829441070557,
          -16.665348052978516,
          -16.291431427001953,
          -3.122318983078003,
          4.787025451660156,
          -0.5879599452018738,
          1.1968885660171509,
          -7.313238620758057,
          6.912456035614014,
          7.0403733253479,
          -4.090853691101074,
          1.6033241748809814,
          6.327563285827637,
          -16.169004440307617,
          -3.5722362995147705,
          -7.730312347412109,
          8.426563262939453,
          -16.681076049804688,
          8.311209678649902,
          -4.067953109741211,
          0.08681392669677734,
          -4.261460781097412,
          -2.509655475616455,
          -1.47852623462677,
          -16.93886947631836,
          6.463155746459961,
          -3.330803632736206,
          6.608585834503174,
          -5.635945796966553,
          -15.59626293182373,
          15.50638198852539,
          -8.572688102722168,
          5.571022033691406,
          10.22733211517334,
          15.830558776855469,
          -5.478538513183594,
          10.905468940734863,
          -8.55825138092041,
          -3.987837314605713,
          2.726483106613159,
          2.726038932800293,
          3.6746060848236084,
          8.001860618591309,
          -8.538039207458496,
          9.878582954406738,
          -15.932427406311035,
          7.3539652824401855,
          1.3654630184173584,
          -3.5425069332122803,
          5.095526695251465,
          4.864923477172852,
          -3.390232563018799,
          5.5896382331848145,
          -16.95647430419922,
          8.032660484313965,
          -5.356849670410156,
          -5.158199310302734,
          -3.2031874656677246,
          -6.12200403213501,
          3.6750032901763916,
          7.038668632507324,
          11.025422096252441,
          -6.93401575088501,
          10.429853439331055,
          -2.4333951473236084,
          3.4817421436309814,
          8.323277473449707,
          -2.6856906414031982,
          -3.532677173614502,
          3.678208589553833,
          -6.3772478103637695,
          -3.1290476322174072,
          -2.4367282390594482,
          -15.646129608154297,
          -3.744823455810547,
          -17.55693244934082,
          -3.0217385292053223,
          10.349760055541992,
          -15.394342422485352,
          7.330075263977051,
          -15.654029846191406,
          -3.269237995147705,
          7.09768009185791,
          9.280311584472656,
          -3.4137439727783203,
          2.524886131286621,
          -16.78040313720703,
          -3.022185802459717,
          -5.617552757263184,
          -7.3574371337890625,
          -2.5193233489990234,
          -17.27263832092285,
          -2.9852683544158936,
          -3.6203088760375977,
          -5.368412971496582,
          10.560750007629395,
          5.501080513000488,
          -0.49691009521484375,
          15.67137622833252,
          -16.702259063720703,
          -15.870047569274902,
          -2.9782934188842773,
          11.083816528320312,
          -3.2633469104766846,
          7.647709846496582,
          -6.846401691436768,
          -16.04206657409668,
          -6.950897216796875,
          6.050365924835205,
          7.722530841827393,
          -1.2101459503173828,
          -5.739394187927246,
          -16.835847854614258,
          -0.17612490057945251,
          8.305156707763672,
          -8.524004936218262,
          2.936875581741333,
          -3.8086445331573486,
          -8.673130989074707,
          4.590987205505371,
          -15.356858253479004,
          -15.873644828796387,
          8.00184154510498,
          -2.5562644004821777,
          -17.201873779296875,
          2.9891772270202637,
          7.093777179718018,
          15.899497985839844,
          5.574374675750732,
          16.700958251953125,
          0.6361949443817139,
          -16.918045043945312,
          4.888302326202393,
          -5.330813884735107,
          8.697137832641602,
          0.35269230604171753,
          -8.710907936096191,
          -5.358950138092041,
          -8.401144027709961,
          2.9114255905151367,
          -16.919330596923828,
          -0.5871721506118774,
          -15.378280639648438,
          8.001482009887695,
          -7.888428211212158,
          -16.71817398071289,
          -2.475142240524292,
          10.819575309753418,
          12.344061851501465,
          10.031618118286133,
          6.504336357116699,
          -3.8102025985717773,
          -15.505069732666016,
          -5.1677350997924805,
          -15.4380464553833,
          -17.415241241455078,
          -7.507544994354248,
          4.606865882873535,
          -16.851659774780273,
          0.6030096411705017,
          10.829383850097656,
          8.40846061706543,
          8.526110649108887,
          -4.970416069030762,
          10.36656665802002,
          -7.515407085418701,
          -5.832475185394287,
          -16.302032470703125,
          -7.405884265899658,
          -3.4911906719207764,
          5.579244136810303,
          8.022533416748047,
          -17.35562515258789,
          0.020503314211964607,
          -5.979403972625732,
          -6.882479190826416,
          -16.339921951293945,
          -2.1074531078338623,
          15.320476531982422,
          -17.276840209960938,
          -15.889650344848633,
          9.987483978271484,
          10.864768028259277,
          -16.779199600219727,
          -4.194318771362305,
          9.056564331054688,
          -3.2277309894561768,
          4.606947898864746,
          -1.9214831590652466,
          4.293614864349365,
          5.618943691253662,
          8.021576881408691,
          -15.77745246887207,
          -2.66214919090271,
          10.769598007202148,
          -15.24942398071289,
          -16.229822158813477,
          -7.56140661239624,
          -16.4964599609375,
          -3.6448967456817627,
          10.617349624633789,
          15.389204025268555,
          -17.027742385864258,
          -3.603160858154297,
          -16.494739532470703,
          -16.412120819091797
         ],
         "y": [
          -4.628498554229736,
          7.019526958465576,
          -6.289502143859863,
          -6.304323673248291,
          3.8651669025421143,
          3.6896140575408936,
          -7.470394611358643,
          7.60433292388916,
          0.7459865808486938,
          1.7681728601455688,
          -5.132151126861572,
          -3.3603568077087402,
          4.3312811851501465,
          -5.184629917144775,
          -6.743541240692139,
          8.597923278808594,
          5.398637294769287,
          4.336559295654297,
          -6.403113842010498,
          3.986363410949707,
          8.436609268188477,
          -3.2672462463378906,
          8.42808723449707,
          -2.5755982398986816,
          -1.966156244277954,
          4.552051544189453,
          8.39887523651123,
          -6.151777267456055,
          -0.549463152885437,
          4.216270446777344,
          -7.562726020812988,
          -2.9789352416992188,
          6.380570888519287,
          1.33530592918396,
          1.8004612922668457,
          -3.330822467803955,
          -6.6714959144592285,
          7.769034385681152,
          4.080041885375977,
          4.862306118011475,
          -4.5943989753723145,
          -4.298341751098633,
          -5.5645647048950195,
          -3.025386333465576,
          -1.5213050842285156,
          -7.689576148986816,
          4.425572872161865,
          -4.37532901763916,
          0.6211421489715576,
          -2.3975486755371094,
          -3.3515145778656006,
          7.791068077087402,
          -5.224229335784912,
          3.582340717315674,
          -6.063632488250732,
          6.034854888916016,
          1.7713173627853394,
          9.195878028869629,
          3.9214327335357666,
          -5.570834636688232,
          -6.3637261390686035,
          -2.906696319580078,
          0.8068020939826965,
          -4.540210247039795,
          -1.6209310293197632,
          -6.2865214347839355,
          -5.144062519073486,
          -7.549952507019043,
          0.6603732109069824,
          4.049890995025635,
          4.589585781097412,
          -3.346374273300171,
          -7.3847856521606445,
          3.963169813156128,
          -5.9217400550842285,
          -2.6329386234283447,
          -5.400583744049072,
          3.3020102977752686,
          -1.7096326351165771,
          4.338859558105469,
          3.7983310222625732,
          6.497828006744385,
          -2.376723289489746,
          4.857137203216553,
          -2.9666855335235596,
          4.392687797546387,
          8.972268104553223,
          -3.0152335166931152,
          4.331298828125,
          -5.367746353149414,
          -0.6000245809555054,
          -4.500270843505859,
          -5.1776227951049805,
          -7.338832855224609,
          7.755195617675781,
          -5.332857608795166,
          -6.569293022155762,
          -0.7234520316123962,
          0.8613144755363464,
          1.3366142511367798,
          2.4351613521575928,
          8.610711097717285,
          0.5866819620132446,
          -3.2547686100006104,
          -7.009253978729248,
          3.275930643081665,
          -4.492724418640137,
          0.7690495848655701,
          3.1018402576446533,
          2.7333695888519287,
          -2.0941498279571533,
          -7.643467426300049,
          4.380270481109619,
          -1.009063720703125,
          7.867832660675049,
          -3.2010090351104736,
          -3.517153739929199,
          1.2185912132263184,
          0.2258811891078949,
          8.514334678649902,
          0.7694169878959656,
          -7.460747718811035,
          4.503014087677002,
          -2.8684067726135254,
          1.4402601718902588,
          -5.299820899963379,
          3.186522960662842,
          -2.6940183639526367,
          4.055870056152344,
          0.342898428440094,
          -6.269023895263672,
          3.655338764190674,
          6.5820183753967285,
          -6.695046901702881,
          -3.4182941913604736,
          7.778569221496582,
          -1.267544150352478,
          -7.516995429992676,
          -3.3731305599212646,
          -3.4096126556396484,
          -0.6315974593162537,
          0.35697925090789795,
          -3.313610315322876,
          4.459375381469727,
          -0.05209251120686531,
          -0.4303618371486664,
          4.105626106262207,
          -3.4235894680023193,
          4.4760422706604,
          4.690837860107422,
          4.121679782867432,
          -4.313136100769043,
          -7.3780059814453125,
          3.4817419052124023,
          -7.378654956817627,
          -6.185410022735596,
          -7.3064045906066895,
          4.5844502449035645,
          -4.519200325012207,
          0.41808921098709106,
          -4.5984978675842285,
          8.64809513092041,
          5.774230003356934,
          -4.449467182159424,
          2.0169692039489746,
          4.242274761199951,
          4.587876796722412,
          -5.11642599105835,
          1.8233529329299927,
          0.11264368891716003,
          -2.082002639770508,
          0.050544679164886475,
          -5.389987945556641,
          -0.17297117412090302,
          1.233295202255249,
          3.536044120788574,
          3.990769386291504,
          -2.298745632171631,
          3.817617654800415,
          0.5128173232078552,
          4.393801689147949,
          -7.433418273925781,
          -7.61678409576416,
          -5.345599174499512,
          0.5654921531677246,
          4.452645778656006,
          -1.3009954690933228,
          -7.658372402191162,
          -2.876818895339966,
          -1.1188228130340576,
          -0.8950216770172119,
          -6.3638386726379395,
          -6.2883219718933105,
          -7.543334484100342,
          7.820539951324463,
          -2.7493321895599365,
          -2.4071054458618164,
          3.675448179244995,
          -7.6023030281066895,
          -3.255147933959961,
          -0.2369331270456314,
          4.072994709014893,
          8.96045970916748,
          0.9124904274940491,
          -5.296279430389404,
          0.7528513073921204,
          3.6845686435699463,
          -6.992400646209717,
          3.691007137298584,
          -3.4403538703918457,
          -5.074062824249268,
          0.8123077750205994,
          -2.838216543197632,
          0.3124711513519287,
          -2.9228994846343994,
          5.77018928527832,
          0.7767885327339172,
          4.829680919647217,
          7.994499683380127,
          -5.266292095184326,
          3.602919578552246,
          4.231856346130371,
          5.342206954956055,
          3.88889217376709,
          8.850573539733887,
          4.972514629364014,
          -7.652687072753906,
          -7.653162002563477,
          -7.2587432861328125,
          0.1531771868467331,
          8.852416038513184,
          2.943721055984497,
          1.1333941221237183,
          -1.267208456993103,
          -7.506623268127441,
          3.3337979316711426,
          -5.970123291015625,
          -6.269532680511475,
          0.6996291875839233,
          -5.235882759094238,
          -5.150845527648926,
          0.39742764830589294,
          6.639686584472656,
          5.61137580871582,
          -0.3983412981033325,
          8.506288528442383,
          -7.258522987365723,
          -2.0051584243774414,
          4.192238807678223,
          7.8177385330200195,
          3.4183380603790283,
          -3.340480327606201,
          -7.378914833068848,
          0.7438175678253174,
          -2.6957931518554688,
          3.249202251434326,
          -7.2571210861206055,
          9.393266677856445,
          -0.9243935346603394,
          -3.382749080657959,
          -0.7484889030456543,
          2.672053098678589,
          -6.404491424560547,
          -1.3383153676986694,
          4.022335052490234,
          1.330329418182373,
          -1.3260051012039185,
          0.21074151992797852,
          4.117120265960693,
          -2.404555320739746,
          2.149200201034546,
          3.592569351196289,
          -7.668083667755127,
          -5.260793209075928,
          -1.3410340547561646,
          6.398828983306885,
          7.919588565826416,
          -3.0953528881073,
          -6.0699543952941895,
          2.745640516281128,
          3.9021847248077393,
          5.624117374420166,
          3.3881266117095947,
          -5.389148235321045,
          -6.401305675506592,
          3.995004177093506,
          -3.079468250274658,
          -1.331507682800293,
          -1.5195709466934204,
          4.1737060546875,
          -0.1004396602511406,
          -0.5695754885673523,
          7.815069198608398,
          -0.6185604333877563,
          7.772152900695801,
          -4.3127288818359375,
          -0.4071856141090393,
          -5.485392093658447,
          6.241894245147705,
          -4.411328315734863,
          -6.679982662200928,
          0.47454196214675903,
          8.866377830505371,
          -7.608617305755615,
          4.491319179534912,
          7.777511119842529,
          -6.569145679473877,
          0.06831847876310349,
          0.8274890184402466,
          0.1529799848794937,
          -3.024132490158081,
          -6.111910820007324,
          -7.604485988616943,
          -1.8801259994506836,
          4.835296154022217,
          -5.263075351715088,
          4.621189594268799,
          -7.428330421447754,
          -4.399439811706543,
          -6.239703178405762,
          5.543790340423584,
          1.3280153274536133,
          -7.163129806518555,
          8.189889907836914,
          6.609848976135254,
          7.761956691741943,
          -7.616786003112793,
          -5.182353973388672,
          -6.317869186401367,
          0.08823197335004807,
          0.15335345268249512,
          9.099979400634766,
          -4.4625020027160645,
          -3.41424822807312,
          3.4629247188568115,
          4.337712287902832,
          3.6609320640563965,
          -3.4089999198913574,
          4.626705646514893,
          1.4654972553253174,
          6.40948486328125,
          0.7045676708221436,
          -4.570940971374512,
          7.144006252288818,
          -6.554676055908203,
          -3.553506374359131,
          -7.375925540924072,
          4.044846057891846,
          0.8826239705085754,
          1.0718200206756592,
          5.433095455169678,
          3.6429550647735596,
          7.766421318054199,
          7.050144672393799,
          -1.1293036937713623,
          9.011868476867676,
          3.9879636764526367,
          -5.25009298324585,
          0.19044990837574005,
          -6.176170825958252,
          -6.930461883544922,
          8.59224796295166,
          7.996402740478516,
          -3.0260555744171143,
          -4.00437593460083,
          4.3169779777526855,
          -4.980880260467529,
          0.4199049174785614,
          3.111739158630371,
          4.193903923034668,
          -2.9408106803894043,
          3.2827796936035156,
          1.8365916013717651,
          -0.29659801721572876,
          -6.555112838745117,
          -4.367361068725586,
          -6.8163909912109375,
          -5.184306621551514,
          0.19208431243896484,
          -0.6947594285011292,
          -2.6772193908691406,
          3.325328826904297,
          -0.015456721186637878,
          -0.9384093880653381,
          7.7352190017700195,
          -2.788370132446289,
          4.780186653137207,
          3.320363998413086,
          4.611534595489502,
          -5.10265588760376,
          3.183290958404541,
          -4.501621246337891,
          -5.349652290344238
         ],
         "z": [
          1.3950504064559937,
          -0.36078864336013794,
          3.4912590980529785,
          3.562763214111328,
          3.905587911605835,
          -2.859497308731079,
          2.353872299194336,
          -1.2932918071746826,
          -3.4508790969848633,
          3.2276628017425537,
          1.0682153701782227,
          4.455235958099365,
          -1.5567253828048706,
          -2.1129684448242188,
          2.869232177734375,
          -1.4646855592727661,
          1.250368356704712,
          2.54936146736145,
          1.7184617519378662,
          -2.269761085510254,
          -1.5160921812057495,
          -2.8626770973205566,
          -1.389485478401184,
          3.3140413761138916,
          -3.377066135406494,
          4.209985256195068,
          -1.2556532621383667,
          3.423027276992798,
          4.625215530395508,
          2.275066614151001,
          0.5950325727462769,
          3.274947166442871,
          0.2848602533340454,
          -1.0373953580856323,
          -3.1834144592285156,
          -2.884869337081909,
          3.5072021484375,
          -1.009619116783142,
          1.654246211051941,
          1.4037505388259888,
          3.403712272644043,
          3.4348409175872803,
          4.054959297180176,
          3.3553740978240967,
          4.036396503448486,
          2.0925405025482178,
          2.259310483932495,
          3.8966293334960938,
          -3.4443562030792236,
          -3.321202516555786,
          4.438591480255127,
          -1.2399686574935913,
          -2.0873303413391113,
          2.219109058380127,
          1.4606530666351318,
          0.7937563061714172,
          -3.1925058364868164,
          -2.239401340484619,
          -2.7578012943267822,
          4.0665283203125,
          -1.162214994430542,
          0.7106091380119324,
          -1.7176728248596191,
          0.7061396837234497,
          3.7099413871765137,
          3.4658846855163574,
          1.0732357501983643,
          2.124818801879883,
          3.4726486206054688,
          1.257752537727356,
          3.8706424236297607,
          -3.186978816986084,
          2.4120078086853027,
          -2.3371775150299072,
          2.9157044887542725,
          -2.9784605503082275,
          3.7609057426452637,
          2.431459903717041,
          -0.3565789461135864,
          -1.1048206090927124,
          3.308835983276367,
          0.9869276285171509,
          -3.522754669189453,
          1.3280881643295288,
          -3.4815163612365723,
          1.1124433279037476,
          -1.4486960172653198,
          -3.26530385017395,
          -1.5567960739135742,
          -1.9914685487747192,
          0.2757849097251892,
          0.5454182028770447,
          1.0434147119522095,
          2.564067840576172,
          -1.229551911354065,
          0.8393052816390991,
          -0.9453501105308533,
          -0.912845253944397,
          -1.7671252489089966,
          -1.621995449066162,
          2.864058494567871,
          -1.4781256914138794,
          -0.8610860705375671,
          -3.011061429977417,
          2.7502870559692383,
          -2.283968925476074,
          0.5477136373519897,
          -0.028641587123274803,
          -2.737722158432007,
          2.7716801166534424,
          0.32483598589897156,
          0.8993449211120605,
          2.0220844745635986,
          -3.472867250442505,
          -1.5351067781448364,
          4.4406938552856445,
          4.4885687828063965,
          3.3357906341552734,
          -1.7262094020843506,
          -1.664320707321167,
          -1.6765166521072388,
          0.3123719096183777,
          4.154031753540039,
          0.8483716249465942,
          0.02668478898704052,
          3.3730924129486084,
          -2.6693780422210693,
          3.852910280227661,
          2.666132688522339,
          0.007511992007493973,
          -1.2519662380218506,
          3.902000665664673,
          0.21069295704364777,
          -0.790744960308075,
          4.475132465362549,
          -1.2330600023269653,
          -3.4564015865325928,
          2.2247695922851562,
          4.426846981048584,
          -3.025052070617676,
          4.5562005043029785,
          -1.856431245803833,
          4.86895227432251,
          0.9037039279937744,
          0.10493203997612,
          0.1640337109565735,
          3.798983335494995,
          -3.0736825466156006,
          3.171081304550171,
          1.109588623046875,
          1.6924511194229126,
          -2.5831525325775146,
          0.22174158692359924,
          3.5705058574676514,
          0.22236676514148712,
          1.5426381826400757,
          2.698791980743408,
          1.7060548067092896,
          0.6858989000320435,
          -1.9108818769454956,
          -2.4399473667144775,
          -1.516562581062317,
          0.3608996570110321,
          3.6367547512054443,
          -3.116185188293457,
          2.292788505554199,
          4.292829513549805,
          1.0834696292877197,
          3.0935423374176025,
          4.449791431427002,
          3.694828748703003,
          0.04225901886820793,
          -1.9767094850540161,
          4.224986553192139,
          -1.2360410690307617,
          -2.3848814964294434,
          1.4535197019577026,
          -3.21616530418396,
          -2.1549582481384277,
          0.02768002636730671,
          1.0427097082138062,
          2.4473040103912354,
          0.7751146554946899,
          1.7909185886383057,
          4.366334438323975,
          0.8921850919723511,
          4.149118423461914,
          1.2130882740020752,
          0.628970742225647,
          0.15910674631595612,
          4.008203506469727,
          -1.1620824337005615,
          3.483665704727173,
          2.080873966217041,
          -0.9753774404525757,
          -2.97336745262146,
          -3.145042896270752,
          2.873562812805176,
          1.8305343389511108,
          -3.0126874446868896,
          0.1116180494427681,
          4.2712788581848145,
          -1.4134527444839478,
          -3.4148619174957275,
          0.6876398921012878,
          -3.455579996109009,
          3.3583285808563232,
          2.685758590698242,
          2.3705270290374756,
          4.44814920425415,
          3.4744536876678467,
          -0.06690283864736557,
          -3.4176411628723145,
          3.699369430541992,
          -3.5092966556549072,
          0.10336845368146896,
          -1.6837618350982666,
          1.611533761024475,
          -2.114821672439575,
          -2.057664394378662,
          -2.8888165950775146,
          1.1004947423934937,
          0.39795857667922974,
          -2.6333260536193848,
          -2.285677194595337,
          4.096670150756836,
          0.9423015117645264,
          0.9428077936172485,
          0.02456635795533657,
          -3.4981093406677246,
          -2.2917580604553223,
          -2.8028616905212402,
          -0.1519322246313095,
          -3.45607852935791,
          2.358489751815796,
          3.4286794662475586,
          -1.5144224166870117,
          -1.2511965036392212,
          3.3262603282928467,
          -2.0794310569763184,
          0.6774287819862366,
          -3.589686155319214,
          0.7149790525436401,
          0.9637172222137451,
          4.157848358154297,
          -1.3452425003051758,
          0.024166177958250046,
          -3.3875539302825928,
          -2.0528838634490967,
          -1.295865535736084,
          -2.9113616943359375,
          3.4983582496643066,
          0.2226140797138214,
          -3.445227861404419,
          3.481595516204834,
          3.414226531982422,
          0.0209847092628479,
          -2.445469856262207,
          3.9753830432891846,
          4.459402561187744,
          -0.8841861486434937,
          3.158259630203247,
          1.71541428565979,
          4.035675525665283,
          -2.5782313346862793,
          -1.6139034032821655,
          -3.4526193141937256,
          -1.601105809211731,
          3.8079020977020264,
          -3.4142367839813232,
          -3.072810173034668,
          2.976043462753296,
          1.1111068725585938,
          0.6596916317939758,
          4.026891231536865,
          0.25868329405784607,
          -0.8954657912254333,
          3.283094882965088,
          1.4576469659805298,
          3.018204927444458,
          3.322709560394287,
          0.6054940223693848,
          -2.1405694484710693,
          -1.976727843284607,
          2.8073673248291016,
          1.3881710767745972,
          0.6632623672485352,
          -0.9315569996833801,
          3.417447328567505,
          -2.121628999710083,
          3.4269983768463135,
          -3.496570587158203,
          -1.4051975011825562,
          -0.9848726391792297,
          -1.3323613405227661,
          -2.583387613296509,
          -3.5024735927581787,
          3.5422544479370117,
          -0.7880731821060181,
          0.3918553590774536,
          3.468005657196045,
          -3.5652220249176025,
          -2.291581153869629,
          0.7503095269203186,
          3.6467080116271973,
          -1.938489317893982,
          -0.9454981088638306,
          -0.9894105195999146,
          -0.22857223451137543,
          -3.4987599849700928,
          3.354764938354492,
          1.4475212097167969,
          0.7062012553215027,
          -3.3947558403015137,
          1.792760968208313,
          -2.0614750385284424,
          2.003687858581543,
          2.3251700401306152,
          0.3029201030731201,
          -1.2774516344070435,
          0.659363329410553,
          -3.316857099533081,
          2.682018995285034,
          -2.2055227756500244,
          0.714760422706604,
          -2.017817974090576,
          0.7746967077255249,
          0.6625534892082214,
          3.0330677032470703,
          -1.588884711265564,
          -3.4987783432006836,
          -2.127183437347412,
          0.43023622035980225,
          4.458502769470215,
          -2.670156717300415,
          -1.165343165397644,
          -2.6537845134735107,
          -3.2091376781463623,
          4.345619201660156,
          -1.2167103290557861,
          1.0120941400527954,
          -1.6153414249420166,
          1.3634153604507446,
          -2.173051595687866,
          -0.9628861546516418,
          0.8590330481529236,
          2.4608945846557617,
          -1.9787726402282715,
          -3.4198694229125977,
          -3.3798866271972656,
          1.2607911825180054,
          -2.062642812728882,
          -0.9257358312606812,
          0.04096454754471779,
          0.16175992786884308,
          -1.5880707502365112,
          4.171733856201172,
          -2.0671355724334717,
          -3.4974722862243652,
          1.5471755266189575,
          2.7130043506622314,
          -1.4586701393127441,
          -1.1694355010986328,
          -0.007887751795351505,
          3.643381118774414,
          1.7117719650268555,
          1.2189005613327026,
          -1.9126479625701904,
          -2.728915214538574,
          -2.339995861053467,
          0.9531514048576355,
          2.405255079269409,
          -3.173518180847168,
          3.31436824798584,
          -0.9627804160118103,
          3.896214008331299,
          -0.6251229047775269,
          -2.1127936840057373,
          -3.496878147125244,
          -0.933271050453186,
          3.834016799926758,
          -2.5103814601898193,
          -0.9583736658096313,
          0.05133717879652977,
          -0.9285603761672974,
          0.2690436840057373,
          3.154705047607422,
          -2.2281405925750732,
          1.767820119857788,
          0.6664907336235046,
          3.3763253688812256,
          0.577231228351593,
          0.869238555431366
         ]
        },
        {
         "hovertemplate": "outliers=-1<br>tsne0=%{x}<br>tsne1=%{y}<br>tsne2=%{z}<extra></extra>",
         "legendgroup": "-1",
         "marker": {
          "color": "red",
          "symbol": "circle"
         },
         "mode": "markers",
         "name": "-1",
         "scene": "scene",
         "showlegend": true,
         "type": "scatter3d",
         "x": [
          17.65915298461914,
          15.848416328430176,
          16.712989807128906,
          16.71433448791504,
          17.812835693359375,
          16.683990478515625,
          16.35019874572754,
          12.209370613098145,
          13.121298789978027,
          13.269915580749512,
          16.258852005004883,
          17.805757522583008,
          17.659154891967773,
          13.1239652633667,
          16.159616470336914,
          13.132177352905273,
          17.820404052734375,
          11.625256538391113,
          14.354312896728516,
          16.058446884155273,
          11.625322341918945
         ],
         "y": [
          3.627358913421631,
          4.676266193389893,
          4.577276229858398,
          4.574873447418213,
          3.4467334747314453,
          4.433657169342041,
          4.110883712768555,
          4.3363823890686035,
          4.372622013092041,
          4.381363868713379,
          4.659738540649414,
          3.455636501312256,
          3.6273584365844727,
          4.372790336608887,
          4.6930694580078125,
          4.373315811157227,
          3.435351610183716,
          4.3149800300598145,
          4.422305107116699,
          4.241168022155762,
          4.315118312835693
         ],
         "z": [
          2.0835084915161133,
          1.1253794431686401,
          1.9276604652404785,
          1.9265183210372925,
          2.0115065574645996,
          2.285027027130127,
          2.146881341934204,
          -1.2716344594955444,
          -0.5437229871749878,
          -0.4254937171936035,
          2.212357759475708,
          2.015376329421997,
          2.083508253097534,
          -0.5416052341461182,
          1.4273979663848877,
          -0.5349590182304382,
          2.0078747272491455,
          -1.721745491027832,
          0.4457607567310333,
          1.2571178674697876,
          -1.721579909324646
         ]
        }
       ],
       "layout": {
        "legend": {
         "title": {
          "text": "outliers"
         },
         "tracegroupgap": 0
        },
        "margin": {
         "t": 60
        },
        "scene": {
         "domain": {
          "x": [
           0,
           1
          ],
          "y": [
           0,
           1
          ]
         },
         "xaxis": {
          "title": {
           "text": "tsne0"
          }
         },
         "yaxis": {
          "title": {
           "text": "tsne1"
          }
         },
         "zaxis": {
          "title": {
           "text": "tsne2"
          }
         }
        },
        "template": {
         "data": {
          "bar": [
           {
            "error_x": {
             "color": "#2a3f5f"
            },
            "error_y": {
             "color": "#2a3f5f"
            },
            "marker": {
             "line": {
              "color": "#E5ECF6",
              "width": 0.5
             },
             "pattern": {
              "fillmode": "overlay",
              "size": 10,
              "solidity": 0.2
             }
            },
            "type": "bar"
           }
          ],
          "barpolar": [
           {
            "marker": {
             "line": {
              "color": "#E5ECF6",
              "width": 0.5
             },
             "pattern": {
              "fillmode": "overlay",
              "size": 10,
              "solidity": 0.2
             }
            },
            "type": "barpolar"
           }
          ],
          "carpet": [
           {
            "aaxis": {
             "endlinecolor": "#2a3f5f",
             "gridcolor": "white",
             "linecolor": "white",
             "minorgridcolor": "white",
             "startlinecolor": "#2a3f5f"
            },
            "baxis": {
             "endlinecolor": "#2a3f5f",
             "gridcolor": "white",
             "linecolor": "white",
             "minorgridcolor": "white",
             "startlinecolor": "#2a3f5f"
            },
            "type": "carpet"
           }
          ],
          "choropleth": [
           {
            "colorbar": {
             "outlinewidth": 0,
             "ticks": ""
            },
            "type": "choropleth"
           }
          ],
          "contour": [
           {
            "colorbar": {
             "outlinewidth": 0,
             "ticks": ""
            },
            "colorscale": [
             [
              0,
              "#0d0887"
             ],
             [
              0.1111111111111111,
              "#46039f"
             ],
             [
              0.2222222222222222,
              "#7201a8"
             ],
             [
              0.3333333333333333,
              "#9c179e"
             ],
             [
              0.4444444444444444,
              "#bd3786"
             ],
             [
              0.5555555555555556,
              "#d8576b"
             ],
             [
              0.6666666666666666,
              "#ed7953"
             ],
             [
              0.7777777777777778,
              "#fb9f3a"
             ],
             [
              0.8888888888888888,
              "#fdca26"
             ],
             [
              1,
              "#f0f921"
             ]
            ],
            "type": "contour"
           }
          ],
          "contourcarpet": [
           {
            "colorbar": {
             "outlinewidth": 0,
             "ticks": ""
            },
            "type": "contourcarpet"
           }
          ],
          "heatmap": [
           {
            "colorbar": {
             "outlinewidth": 0,
             "ticks": ""
            },
            "colorscale": [
             [
              0,
              "#0d0887"
             ],
             [
              0.1111111111111111,
              "#46039f"
             ],
             [
              0.2222222222222222,
              "#7201a8"
             ],
             [
              0.3333333333333333,
              "#9c179e"
             ],
             [
              0.4444444444444444,
              "#bd3786"
             ],
             [
              0.5555555555555556,
              "#d8576b"
             ],
             [
              0.6666666666666666,
              "#ed7953"
             ],
             [
              0.7777777777777778,
              "#fb9f3a"
             ],
             [
              0.8888888888888888,
              "#fdca26"
             ],
             [
              1,
              "#f0f921"
             ]
            ],
            "type": "heatmap"
           }
          ],
          "heatmapgl": [
           {
            "colorbar": {
             "outlinewidth": 0,
             "ticks": ""
            },
            "colorscale": [
             [
              0,
              "#0d0887"
             ],
             [
              0.1111111111111111,
              "#46039f"
             ],
             [
              0.2222222222222222,
              "#7201a8"
             ],
             [
              0.3333333333333333,
              "#9c179e"
             ],
             [
              0.4444444444444444,
              "#bd3786"
             ],
             [
              0.5555555555555556,
              "#d8576b"
             ],
             [
              0.6666666666666666,
              "#ed7953"
             ],
             [
              0.7777777777777778,
              "#fb9f3a"
             ],
             [
              0.8888888888888888,
              "#fdca26"
             ],
             [
              1,
              "#f0f921"
             ]
            ],
            "type": "heatmapgl"
           }
          ],
          "histogram": [
           {
            "marker": {
             "pattern": {
              "fillmode": "overlay",
              "size": 10,
              "solidity": 0.2
             }
            },
            "type": "histogram"
           }
          ],
          "histogram2d": [
           {
            "colorbar": {
             "outlinewidth": 0,
             "ticks": ""
            },
            "colorscale": [
             [
              0,
              "#0d0887"
             ],
             [
              0.1111111111111111,
              "#46039f"
             ],
             [
              0.2222222222222222,
              "#7201a8"
             ],
             [
              0.3333333333333333,
              "#9c179e"
             ],
             [
              0.4444444444444444,
              "#bd3786"
             ],
             [
              0.5555555555555556,
              "#d8576b"
             ],
             [
              0.6666666666666666,
              "#ed7953"
             ],
             [
              0.7777777777777778,
              "#fb9f3a"
             ],
             [
              0.8888888888888888,
              "#fdca26"
             ],
             [
              1,
              "#f0f921"
             ]
            ],
            "type": "histogram2d"
           }
          ],
          "histogram2dcontour": [
           {
            "colorbar": {
             "outlinewidth": 0,
             "ticks": ""
            },
            "colorscale": [
             [
              0,
              "#0d0887"
             ],
             [
              0.1111111111111111,
              "#46039f"
             ],
             [
              0.2222222222222222,
              "#7201a8"
             ],
             [
              0.3333333333333333,
              "#9c179e"
             ],
             [
              0.4444444444444444,
              "#bd3786"
             ],
             [
              0.5555555555555556,
              "#d8576b"
             ],
             [
              0.6666666666666666,
              "#ed7953"
             ],
             [
              0.7777777777777778,
              "#fb9f3a"
             ],
             [
              0.8888888888888888,
              "#fdca26"
             ],
             [
              1,
              "#f0f921"
             ]
            ],
            "type": "histogram2dcontour"
           }
          ],
          "mesh3d": [
           {
            "colorbar": {
             "outlinewidth": 0,
             "ticks": ""
            },
            "type": "mesh3d"
           }
          ],
          "parcoords": [
           {
            "line": {
             "colorbar": {
              "outlinewidth": 0,
              "ticks": ""
             }
            },
            "type": "parcoords"
           }
          ],
          "pie": [
           {
            "automargin": true,
            "type": "pie"
           }
          ],
          "scatter": [
           {
            "fillpattern": {
             "fillmode": "overlay",
             "size": 10,
             "solidity": 0.2
            },
            "type": "scatter"
           }
          ],
          "scatter3d": [
           {
            "line": {
             "colorbar": {
              "outlinewidth": 0,
              "ticks": ""
             }
            },
            "marker": {
             "colorbar": {
              "outlinewidth": 0,
              "ticks": ""
             }
            },
            "type": "scatter3d"
           }
          ],
          "scattercarpet": [
           {
            "marker": {
             "colorbar": {
              "outlinewidth": 0,
              "ticks": ""
             }
            },
            "type": "scattercarpet"
           }
          ],
          "scattergeo": [
           {
            "marker": {
             "colorbar": {
              "outlinewidth": 0,
              "ticks": ""
             }
            },
            "type": "scattergeo"
           }
          ],
          "scattergl": [
           {
            "marker": {
             "colorbar": {
              "outlinewidth": 0,
              "ticks": ""
             }
            },
            "type": "scattergl"
           }
          ],
          "scattermapbox": [
           {
            "marker": {
             "colorbar": {
              "outlinewidth": 0,
              "ticks": ""
             }
            },
            "type": "scattermapbox"
           }
          ],
          "scatterpolar": [
           {
            "marker": {
             "colorbar": {
              "outlinewidth": 0,
              "ticks": ""
             }
            },
            "type": "scatterpolar"
           }
          ],
          "scatterpolargl": [
           {
            "marker": {
             "colorbar": {
              "outlinewidth": 0,
              "ticks": ""
             }
            },
            "type": "scatterpolargl"
           }
          ],
          "scatterternary": [
           {
            "marker": {
             "colorbar": {
              "outlinewidth": 0,
              "ticks": ""
             }
            },
            "type": "scatterternary"
           }
          ],
          "surface": [
           {
            "colorbar": {
             "outlinewidth": 0,
             "ticks": ""
            },
            "colorscale": [
             [
              0,
              "#0d0887"
             ],
             [
              0.1111111111111111,
              "#46039f"
             ],
             [
              0.2222222222222222,
              "#7201a8"
             ],
             [
              0.3333333333333333,
              "#9c179e"
             ],
             [
              0.4444444444444444,
              "#bd3786"
             ],
             [
              0.5555555555555556,
              "#d8576b"
             ],
             [
              0.6666666666666666,
              "#ed7953"
             ],
             [
              0.7777777777777778,
              "#fb9f3a"
             ],
             [
              0.8888888888888888,
              "#fdca26"
             ],
             [
              1,
              "#f0f921"
             ]
            ],
            "type": "surface"
           }
          ],
          "table": [
           {
            "cells": {
             "fill": {
              "color": "#EBF0F8"
             },
             "line": {
              "color": "white"
             }
            },
            "header": {
             "fill": {
              "color": "#C8D4E3"
             },
             "line": {
              "color": "white"
             }
            },
            "type": "table"
           }
          ]
         },
         "layout": {
          "annotationdefaults": {
           "arrowcolor": "#2a3f5f",
           "arrowhead": 0,
           "arrowwidth": 1
          },
          "autotypenumbers": "strict",
          "coloraxis": {
           "colorbar": {
            "outlinewidth": 0,
            "ticks": ""
           }
          },
          "colorscale": {
           "diverging": [
            [
             0,
             "#8e0152"
            ],
            [
             0.1,
             "#c51b7d"
            ],
            [
             0.2,
             "#de77ae"
            ],
            [
             0.3,
             "#f1b6da"
            ],
            [
             0.4,
             "#fde0ef"
            ],
            [
             0.5,
             "#f7f7f7"
            ],
            [
             0.6,
             "#e6f5d0"
            ],
            [
             0.7,
             "#b8e186"
            ],
            [
             0.8,
             "#7fbc41"
            ],
            [
             0.9,
             "#4d9221"
            ],
            [
             1,
             "#276419"
            ]
           ],
           "sequential": [
            [
             0,
             "#0d0887"
            ],
            [
             0.1111111111111111,
             "#46039f"
            ],
            [
             0.2222222222222222,
             "#7201a8"
            ],
            [
             0.3333333333333333,
             "#9c179e"
            ],
            [
             0.4444444444444444,
             "#bd3786"
            ],
            [
             0.5555555555555556,
             "#d8576b"
            ],
            [
             0.6666666666666666,
             "#ed7953"
            ],
            [
             0.7777777777777778,
             "#fb9f3a"
            ],
            [
             0.8888888888888888,
             "#fdca26"
            ],
            [
             1,
             "#f0f921"
            ]
           ],
           "sequentialminus": [
            [
             0,
             "#0d0887"
            ],
            [
             0.1111111111111111,
             "#46039f"
            ],
            [
             0.2222222222222222,
             "#7201a8"
            ],
            [
             0.3333333333333333,
             "#9c179e"
            ],
            [
             0.4444444444444444,
             "#bd3786"
            ],
            [
             0.5555555555555556,
             "#d8576b"
            ],
            [
             0.6666666666666666,
             "#ed7953"
            ],
            [
             0.7777777777777778,
             "#fb9f3a"
            ],
            [
             0.8888888888888888,
             "#fdca26"
            ],
            [
             1,
             "#f0f921"
            ]
           ]
          },
          "colorway": [
           "#636efa",
           "#EF553B",
           "#00cc96",
           "#ab63fa",
           "#FFA15A",
           "#19d3f3",
           "#FF6692",
           "#B6E880",
           "#FF97FF",
           "#FECB52"
          ],
          "font": {
           "color": "#2a3f5f"
          },
          "geo": {
           "bgcolor": "white",
           "lakecolor": "white",
           "landcolor": "#E5ECF6",
           "showlakes": true,
           "showland": true,
           "subunitcolor": "white"
          },
          "hoverlabel": {
           "align": "left"
          },
          "hovermode": "closest",
          "mapbox": {
           "style": "light"
          },
          "paper_bgcolor": "white",
          "plot_bgcolor": "#E5ECF6",
          "polar": {
           "angularaxis": {
            "gridcolor": "white",
            "linecolor": "white",
            "ticks": ""
           },
           "bgcolor": "#E5ECF6",
           "radialaxis": {
            "gridcolor": "white",
            "linecolor": "white",
            "ticks": ""
           }
          },
          "scene": {
           "xaxis": {
            "backgroundcolor": "#E5ECF6",
            "gridcolor": "white",
            "gridwidth": 2,
            "linecolor": "white",
            "showbackground": true,
            "ticks": "",
            "zerolinecolor": "white"
           },
           "yaxis": {
            "backgroundcolor": "#E5ECF6",
            "gridcolor": "white",
            "gridwidth": 2,
            "linecolor": "white",
            "showbackground": true,
            "ticks": "",
            "zerolinecolor": "white"
           },
           "zaxis": {
            "backgroundcolor": "#E5ECF6",
            "gridcolor": "white",
            "gridwidth": 2,
            "linecolor": "white",
            "showbackground": true,
            "ticks": "",
            "zerolinecolor": "white"
           }
          },
          "shapedefaults": {
           "line": {
            "color": "#2a3f5f"
           }
          },
          "ternary": {
           "aaxis": {
            "gridcolor": "white",
            "linecolor": "white",
            "ticks": ""
           },
           "baxis": {
            "gridcolor": "white",
            "linecolor": "white",
            "ticks": ""
           },
           "bgcolor": "#E5ECF6",
           "caxis": {
            "gridcolor": "white",
            "linecolor": "white",
            "ticks": ""
           }
          },
          "title": {
           "x": 0.05
          },
          "xaxis": {
           "automargin": true,
           "gridcolor": "white",
           "linecolor": "white",
           "ticks": "",
           "title": {
            "standoff": 15
           },
           "zerolinecolor": "white",
           "zerolinewidth": 2
          },
          "yaxis": {
           "automargin": true,
           "gridcolor": "white",
           "linecolor": "white",
           "ticks": "",
           "title": {
            "standoff": 15
           },
           "zerolinecolor": "white",
           "zerolinewidth": 2
          }
         }
        }
       }
      }
     },
     "metadata": {},
     "output_type": "display_data"
    }
   ],
   "source": [
    "df_tsne['outliers'] = outliers.astype(str)\n",
    "fig = px.scatter_3d(\n",
    "    data_frame=df_tsne,\n",
    "    x=df_tsne.columns[0],\n",
    "    y=df_tsne.columns[1],\n",
    "    z=df_tsne.columns[2],\n",
    "    color='outliers',\n",
    "    color_discrete_map={\n",
    "        '-1': 'red',\n",
    "        '1': 'grey'\n",
    "    }\n",
    ")\n",
    "fig.show()"
   ]
  },
  {
   "cell_type": "code",
   "execution_count": null,
   "metadata": {},
   "outputs": [
    {
     "data": {
      "text/plain": [
       "True"
      ]
     },
     "execution_count": 202,
     "metadata": {},
     "output_type": "execute_result"
    }
   ],
   "source": [
    "metadata['num_fts'] != metadata['tgt']"
   ]
  }
 ],
 "metadata": {
  "kernelspec": {
   "display_name": ".mld-venv",
   "language": "python",
   "name": "python3"
  },
  "language_info": {
   "codemirror_mode": {
    "name": "ipython",
    "version": 3
   },
   "file_extension": ".py",
   "mimetype": "text/x-python",
   "name": "python",
   "nbconvert_exporter": "python",
   "pygments_lexer": "ipython3",
   "version": "3.9.6"
  }
 },
 "nbformat": 4,
 "nbformat_minor": 2
}
