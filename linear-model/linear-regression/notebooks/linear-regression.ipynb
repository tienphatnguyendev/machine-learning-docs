{
 "cells": [
  {
   "cell_type": "code",
   "execution_count": 271,
   "metadata": {},
   "outputs": [],
   "source": [
    "import pandas as pd\n",
    "import re\n",
    "import numpy as np\n",
    "from scipy import stats\n",
    "import matplotlib.pyplot as plt\n",
    "import plotly.express as px\n",
    "import plotly.graph_objects as go\n",
    "from plotly.subplots import make_subplots\n",
    "import seaborn as sns\n",
    "from sklearn.decomposition import PCA\n",
    "from sklearn.manifold import TSNE\n",
    "from sklearn.base import BaseEstimator, TransformerMixin\n",
    "from sklearn.metrics.pairwise import rbf_kernel, cosine_similarity\n",
    "import numpy as np\n",
    "from sklearn.datasets import load_iris\n",
    "from sklearn.preprocessing import (\n",
    "    FunctionTransformer,\n",
    "    RobustScaler,\n",
    "    MinMaxScaler,\n",
    "    OneHotEncoder,\n",
    "    OrdinalEncoder,\n",
    "    LabelEncoder   \n",
    ")\n",
    "from sklearn.pipeline import Pipeline\n",
    "from sklearn.compose import ColumnTransformer\n",
    "from sklearn.impute import SimpleImputer\n",
    "from sklearn.model_selection import (\n",
    "    train_test_split,\n",
    "    KFold,\n",
    "    cross_val_score\n",
    ")\n",
    "from sklearn.metrics import (\n",
    "    r2_score,\n",
    "    mean_squared_error,\n",
    "    mean_absolute_error,\n",
    "    classification_report,\n",
    "    confusion_matrix,\n",
    "    ConfusionMatrixDisplay\n",
    ")\n",
    "from sklearn.svm import SVR\n",
    "from sklearn.cluster import DBSCAN\n",
    "from xgboost import XGBRegressor\n",
    "from sklearn.ensemble import IsolationForest, RandomForestRegressor\n",
    "import optuna\n",
    "import datetime as dt\n",
    "from sklearn.linear_model import LinearRegression, Lasso, Ridge, LogisticRegression"
   ]
  },
  {
   "cell_type": "code",
   "execution_count": 272,
   "metadata": {},
   "outputs": [],
   "source": [
    "\n",
    "colors = ['#2752ee',\n",
    "          '#024b6f', \n",
    "          '#1bb4fa', \n",
    "          '#01295f',\n",
    "          '#1bb4fa',\n",
    "          '#b2eef2',\n",
    "          '#e44c03']\n",
    "px.imshow(colors)"
   ]
  },
  {
   "cell_type": "code",
   "execution_count": 331,
   "metadata": {},
   "outputs": [
    {
     "ename": "TypeError",
     "evalue": "ufunc 'isfinite' not supported for the input types, and the inputs could not be safely coerced to any supported types according to the casting rule ''safe''",
     "output_type": "error",
     "traceback": [
      "\u001b[0;31m---------------------------------------------------------------------------\u001b[0m",
      "\u001b[0;31mTypeError\u001b[0m                                 Traceback (most recent call last)",
      "Cell \u001b[0;32mIn[331], line 1\u001b[0m\n\u001b[0;32m----> 1\u001b[0m \u001b[43mpx\u001b[49m\u001b[38;5;241;43m.\u001b[39;49m\u001b[43mimshow\u001b[49m\u001b[43m(\u001b[49m\u001b[43mcolors\u001b[49m\u001b[43m)\u001b[49m\n",
      "File \u001b[0;32m~/Documents/machine-learning-docs/.mld-venv/lib/python3.9/site-packages/plotly/express/_imshow.py:379\u001b[0m, in \u001b[0;36mimshow\u001b[0;34m(img, zmin, zmax, origin, labels, x, y, animation_frame, facet_col, facet_col_wrap, facet_col_spacing, facet_row_spacing, color_continuous_scale, color_continuous_midpoint, range_color, title, template, width, height, aspect, contrast_rescaling, binary_string, binary_backend, binary_compression_level, binary_format, text_auto)\u001b[0m\n\u001b[1;32m    376\u001b[0m \u001b[38;5;28;01melse\u001b[39;00m:\n\u001b[1;32m    377\u001b[0m     \u001b[38;5;66;03m# For uint8 data and infer we let zmin and zmax to be None if passed as None\u001b[39;00m\n\u001b[1;32m    378\u001b[0m     \u001b[38;5;28;01mif\u001b[39;00m zmax \u001b[38;5;129;01mis\u001b[39;00m \u001b[38;5;28;01mNone\u001b[39;00m \u001b[38;5;129;01mand\u001b[39;00m img\u001b[38;5;241m.\u001b[39mdtype \u001b[38;5;241m!=\u001b[39m np\u001b[38;5;241m.\u001b[39muint8:\n\u001b[0;32m--> 379\u001b[0m         zmax \u001b[38;5;241m=\u001b[39m \u001b[43m_infer_zmax_from_type\u001b[49m\u001b[43m(\u001b[49m\u001b[43mimg\u001b[49m\u001b[43m)\u001b[49m\n\u001b[1;32m    380\u001b[0m     \u001b[38;5;28;01mif\u001b[39;00m zmin \u001b[38;5;129;01mis\u001b[39;00m \u001b[38;5;28;01mNone\u001b[39;00m \u001b[38;5;129;01mand\u001b[39;00m zmax \u001b[38;5;129;01mis\u001b[39;00m \u001b[38;5;129;01mnot\u001b[39;00m \u001b[38;5;28;01mNone\u001b[39;00m:\n\u001b[1;32m    381\u001b[0m         zmin \u001b[38;5;241m=\u001b[39m \u001b[38;5;241m0\u001b[39m\n",
      "File \u001b[0;32m~/Documents/machine-learning-docs/.mld-venv/lib/python3.9/site-packages/plotly/express/_imshow.py:45\u001b[0m, in \u001b[0;36m_infer_zmax_from_type\u001b[0;34m(img)\u001b[0m\n\u001b[1;32m     43\u001b[0m     \u001b[38;5;28;01mreturn\u001b[39;00m _integer_ranges[dt][\u001b[38;5;241m1\u001b[39m]\n\u001b[1;32m     44\u001b[0m \u001b[38;5;28;01melse\u001b[39;00m:\n\u001b[0;32m---> 45\u001b[0m     im_max \u001b[38;5;241m=\u001b[39m img[\u001b[43mnp\u001b[49m\u001b[38;5;241;43m.\u001b[39;49m\u001b[43misfinite\u001b[49m\u001b[43m(\u001b[49m\u001b[43mimg\u001b[49m\u001b[43m)\u001b[49m]\u001b[38;5;241m.\u001b[39mmax()\n\u001b[1;32m     46\u001b[0m     \u001b[38;5;28;01mif\u001b[39;00m im_max \u001b[38;5;241m<\u001b[39m\u001b[38;5;241m=\u001b[39m \u001b[38;5;241m1\u001b[39m \u001b[38;5;241m*\u001b[39m rtol:\n\u001b[1;32m     47\u001b[0m         \u001b[38;5;28;01mreturn\u001b[39;00m \u001b[38;5;241m1\u001b[39m\n",
      "\u001b[0;31mTypeError\u001b[0m: ufunc 'isfinite' not supported for the input types, and the inputs could not be safely coerced to any supported types according to the casting rule ''safe''"
     ]
    }
   ],
   "source": []
  },
  {
   "cell_type": "code",
   "execution_count": 273,
   "metadata": {},
   "outputs": [],
   "source": [
    "df = pd.read_excel('../data/Real estate valuation data set.xlsx', index_col='No')"
   ]
  },
  {
   "cell_type": "code",
   "execution_count": 274,
   "metadata": {},
   "outputs": [
    {
     "data": {
      "text/plain": [
       "Index(['X1 transaction date', 'X2 house age',\n",
       "       'X3 distance to the nearest MRT station',\n",
       "       'X4 number of convenience stores', 'X5 latitude', 'X6 longitude',\n",
       "       'Y house price of unit area'],\n",
       "      dtype='object')"
      ]
     },
     "execution_count": 274,
     "metadata": {},
     "output_type": "execute_result"
    }
   ],
   "source": [
    "df.columns"
   ]
  },
  {
   "cell_type": "code",
   "execution_count": 275,
   "metadata": {},
   "outputs": [],
   "source": [
    "pattern = re.compile(r'X(\\d+)\\s|Y\\s')\n",
    "df.columns = list(map(lambda x: \n",
    "                            pattern.sub('', x)\n",
    "                            .lower().replace(' ', '_'),\n",
    "                    df.columns.values))\n",
    "\n"
   ]
  },
  {
   "cell_type": "code",
   "execution_count": 276,
   "metadata": {},
   "outputs": [
    {
     "name": "stdout",
     "output_type": "stream",
     "text": [
      "<class 'pandas.core.frame.DataFrame'>\n",
      "Index: 414 entries, 1 to 414\n",
      "Data columns (total 7 columns):\n",
      " #   Column                               Non-Null Count  Dtype  \n",
      "---  ------                               --------------  -----  \n",
      " 0   transaction_date                     414 non-null    float64\n",
      " 1   house_age                            414 non-null    float64\n",
      " 2   distance_to_the_nearest_mrt_station  414 non-null    float64\n",
      " 3   number_of_convenience_stores         414 non-null    int64  \n",
      " 4   latitude                             414 non-null    float64\n",
      " 5   longitude                            414 non-null    float64\n",
      " 6   house_price_of_unit_area             414 non-null    float64\n",
      "dtypes: float64(6), int64(1)\n",
      "memory usage: 25.9 KB\n"
     ]
    }
   ],
   "source": [
    "df.info()"
   ]
  },
  {
   "cell_type": "code",
   "execution_count": 277,
   "metadata": {},
   "outputs": [],
   "source": [
    "df.reset_index(inplace=True)\n",
    "df.drop(columns='No', inplace=True)"
   ]
  },
  {
   "cell_type": "code",
   "execution_count": 278,
   "metadata": {},
   "outputs": [],
   "source": [
    "df['transaction_date'] = df['transaction_date'].copy().astype('int')"
   ]
  },
  {
   "cell_type": "code",
   "execution_count": 279,
   "metadata": {},
   "outputs": [
    {
     "data": {
      "text/plain": [
       "transaction_date                         2\n",
       "house_age                              236\n",
       "distance_to_the_nearest_mrt_station    259\n",
       "number_of_convenience_stores            11\n",
       "latitude                               234\n",
       "longitude                              232\n",
       "house_price_of_unit_area               270\n",
       "dtype: int64"
      ]
     },
     "execution_count": 279,
     "metadata": {},
     "output_type": "execute_result"
    }
   ],
   "source": [
    "df.nunique()"
   ]
  },
  {
   "cell_type": "code",
   "execution_count": 280,
   "metadata": {},
   "outputs": [
    {
     "data": {
      "text/plain": [
       "{'tgt': {'house_price_of_unit_area'},\n",
       " 'num_fts': {'distance_to_the_nearest_mrt_station',\n",
       "  'house_age',\n",
       "  'house_price_of_unit_area',\n",
       "  'latitude',\n",
       "  'longitude',\n",
       "  'number_of_convenience_stores',\n",
       "  'transaction_date'}}"
      ]
     },
     "execution_count": 280,
     "metadata": {},
     "output_type": "execute_result"
    }
   ],
   "source": [
    "metadata = {\n",
    "    'tgt': set(['house_price_of_unit_area']),\n",
    "    'num_fts': set(df.select_dtypes(include='number').columns.tolist()),\n",
    "}\n",
    "metadata"
   ]
  },
  {
   "cell_type": "code",
   "execution_count": 281,
   "metadata": {},
   "outputs": [
    {
     "data": {
      "text/plain": [
       "{'distance_to_the_nearest_mrt_station',\n",
       " 'house_age',\n",
       " 'latitude',\n",
       " 'longitude',\n",
       " 'number_of_convenience_stores',\n",
       " 'transaction_date'}"
      ]
     },
     "execution_count": 281,
     "metadata": {},
     "output_type": "execute_result"
    }
   ],
   "source": [
    "metadata['num_fts'] - metadata['tgt']"
   ]
  },
  {
   "cell_type": "code",
   "execution_count": 282,
   "metadata": {},
   "outputs": [],
   "source": [
    "X_train, X_test, y_train, y_test = train_test_split(\n",
    "    df[list(metadata['num_fts'] - metadata['tgt'])],\n",
    "    df[list(metadata['tgt'])],\n",
    "    test_size=0.2,\n",
    "    random_state=42,\n",
    "    shuffle=True\n",
    ")"
   ]
  },
  {
   "cell_type": "code",
   "execution_count": 283,
   "metadata": {},
   "outputs": [
    {
     "name": "stdout",
     "output_type": "stream",
     "text": [
      "Training data shape: (331, 6) (331, 1) \n",
      "Testing data shape: (83, 6) (83, 1)\n"
     ]
    }
   ],
   "source": [
    "print(\n",
    "    'Training data shape:', X_train.shape, y_train.shape,\n",
    "    '\\nTesting data shape:', X_test.shape, y_test.shape\n",
    ")"
   ]
  },
  {
   "cell_type": "code",
   "execution_count": 284,
   "metadata": {},
   "outputs": [],
   "source": [
    "scaler = RobustScaler()\n",
    "\n",
    "num_pl = Pipeline(steps=[\n",
    "    ('scaler', RobustScaler())\n",
    "])\n",
    "\n",
    "preprocessor = ColumnTransformer(transformers=[\n",
    "    ('num', num_pl, list(metadata['num_fts']-metadata['tgt']))\n",
    "])\n",
    "\n",
    "baseline_trainer = Pipeline(steps=[\n",
    "    ('preprocessor', preprocessor),\n",
    "    ('model', LinearRegression())\n",
    "])\n"
   ]
  },
  {
   "cell_type": "code",
   "execution_count": 285,
   "metadata": {},
   "outputs": [
    {
     "data": {
      "text/html": [
       "<style>#sk-container-id-21 {\n",
       "  /* Definition of color scheme common for light and dark mode */\n",
       "  --sklearn-color-text: black;\n",
       "  --sklearn-color-line: gray;\n",
       "  /* Definition of color scheme for unfitted estimators */\n",
       "  --sklearn-color-unfitted-level-0: #fff5e6;\n",
       "  --sklearn-color-unfitted-level-1: #f6e4d2;\n",
       "  --sklearn-color-unfitted-level-2: #ffe0b3;\n",
       "  --sklearn-color-unfitted-level-3: chocolate;\n",
       "  /* Definition of color scheme for fitted estimators */\n",
       "  --sklearn-color-fitted-level-0: #f0f8ff;\n",
       "  --sklearn-color-fitted-level-1: #d4ebff;\n",
       "  --sklearn-color-fitted-level-2: #b3dbfd;\n",
       "  --sklearn-color-fitted-level-3: cornflowerblue;\n",
       "\n",
       "  /* Specific color for light theme */\n",
       "  --sklearn-color-text-on-default-background: var(--sg-text-color, var(--theme-code-foreground, var(--jp-content-font-color1, black)));\n",
       "  --sklearn-color-background: var(--sg-background-color, var(--theme-background, var(--jp-layout-color0, white)));\n",
       "  --sklearn-color-border-box: var(--sg-text-color, var(--theme-code-foreground, var(--jp-content-font-color1, black)));\n",
       "  --sklearn-color-icon: #696969;\n",
       "\n",
       "  @media (prefers-color-scheme: dark) {\n",
       "    /* Redefinition of color scheme for dark theme */\n",
       "    --sklearn-color-text-on-default-background: var(--sg-text-color, var(--theme-code-foreground, var(--jp-content-font-color1, white)));\n",
       "    --sklearn-color-background: var(--sg-background-color, var(--theme-background, var(--jp-layout-color0, #111)));\n",
       "    --sklearn-color-border-box: var(--sg-text-color, var(--theme-code-foreground, var(--jp-content-font-color1, white)));\n",
       "    --sklearn-color-icon: #878787;\n",
       "  }\n",
       "}\n",
       "\n",
       "#sk-container-id-21 {\n",
       "  color: var(--sklearn-color-text);\n",
       "}\n",
       "\n",
       "#sk-container-id-21 pre {\n",
       "  padding: 0;\n",
       "}\n",
       "\n",
       "#sk-container-id-21 input.sk-hidden--visually {\n",
       "  border: 0;\n",
       "  clip: rect(1px 1px 1px 1px);\n",
       "  clip: rect(1px, 1px, 1px, 1px);\n",
       "  height: 1px;\n",
       "  margin: -1px;\n",
       "  overflow: hidden;\n",
       "  padding: 0;\n",
       "  position: absolute;\n",
       "  width: 1px;\n",
       "}\n",
       "\n",
       "#sk-container-id-21 div.sk-dashed-wrapped {\n",
       "  border: 1px dashed var(--sklearn-color-line);\n",
       "  margin: 0 0.4em 0.5em 0.4em;\n",
       "  box-sizing: border-box;\n",
       "  padding-bottom: 0.4em;\n",
       "  background-color: var(--sklearn-color-background);\n",
       "}\n",
       "\n",
       "#sk-container-id-21 div.sk-container {\n",
       "  /* jupyter's `normalize.less` sets `[hidden] { display: none; }`\n",
       "     but bootstrap.min.css set `[hidden] { display: none !important; }`\n",
       "     so we also need the `!important` here to be able to override the\n",
       "     default hidden behavior on the sphinx rendered scikit-learn.org.\n",
       "     See: https://github.com/scikit-learn/scikit-learn/issues/21755 */\n",
       "  display: inline-block !important;\n",
       "  position: relative;\n",
       "}\n",
       "\n",
       "#sk-container-id-21 div.sk-text-repr-fallback {\n",
       "  display: none;\n",
       "}\n",
       "\n",
       "div.sk-parallel-item,\n",
       "div.sk-serial,\n",
       "div.sk-item {\n",
       "  /* draw centered vertical line to link estimators */\n",
       "  background-image: linear-gradient(var(--sklearn-color-text-on-default-background), var(--sklearn-color-text-on-default-background));\n",
       "  background-size: 2px 100%;\n",
       "  background-repeat: no-repeat;\n",
       "  background-position: center center;\n",
       "}\n",
       "\n",
       "/* Parallel-specific style estimator block */\n",
       "\n",
       "#sk-container-id-21 div.sk-parallel-item::after {\n",
       "  content: \"\";\n",
       "  width: 100%;\n",
       "  border-bottom: 2px solid var(--sklearn-color-text-on-default-background);\n",
       "  flex-grow: 1;\n",
       "}\n",
       "\n",
       "#sk-container-id-21 div.sk-parallel {\n",
       "  display: flex;\n",
       "  align-items: stretch;\n",
       "  justify-content: center;\n",
       "  background-color: var(--sklearn-color-background);\n",
       "  position: relative;\n",
       "}\n",
       "\n",
       "#sk-container-id-21 div.sk-parallel-item {\n",
       "  display: flex;\n",
       "  flex-direction: column;\n",
       "}\n",
       "\n",
       "#sk-container-id-21 div.sk-parallel-item:first-child::after {\n",
       "  align-self: flex-end;\n",
       "  width: 50%;\n",
       "}\n",
       "\n",
       "#sk-container-id-21 div.sk-parallel-item:last-child::after {\n",
       "  align-self: flex-start;\n",
       "  width: 50%;\n",
       "}\n",
       "\n",
       "#sk-container-id-21 div.sk-parallel-item:only-child::after {\n",
       "  width: 0;\n",
       "}\n",
       "\n",
       "/* Serial-specific style estimator block */\n",
       "\n",
       "#sk-container-id-21 div.sk-serial {\n",
       "  display: flex;\n",
       "  flex-direction: column;\n",
       "  align-items: center;\n",
       "  background-color: var(--sklearn-color-background);\n",
       "  padding-right: 1em;\n",
       "  padding-left: 1em;\n",
       "}\n",
       "\n",
       "\n",
       "/* Toggleable style: style used for estimator/Pipeline/ColumnTransformer box that is\n",
       "clickable and can be expanded/collapsed.\n",
       "- Pipeline and ColumnTransformer use this feature and define the default style\n",
       "- Estimators will overwrite some part of the style using the `sk-estimator` class\n",
       "*/\n",
       "\n",
       "/* Pipeline and ColumnTransformer style (default) */\n",
       "\n",
       "#sk-container-id-21 div.sk-toggleable {\n",
       "  /* Default theme specific background. It is overwritten whether we have a\n",
       "  specific estimator or a Pipeline/ColumnTransformer */\n",
       "  background-color: var(--sklearn-color-background);\n",
       "}\n",
       "\n",
       "/* Toggleable label */\n",
       "#sk-container-id-21 label.sk-toggleable__label {\n",
       "  cursor: pointer;\n",
       "  display: block;\n",
       "  width: 100%;\n",
       "  margin-bottom: 0;\n",
       "  padding: 0.5em;\n",
       "  box-sizing: border-box;\n",
       "  text-align: center;\n",
       "}\n",
       "\n",
       "#sk-container-id-21 label.sk-toggleable__label-arrow:before {\n",
       "  /* Arrow on the left of the label */\n",
       "  content: \"▸\";\n",
       "  float: left;\n",
       "  margin-right: 0.25em;\n",
       "  color: var(--sklearn-color-icon);\n",
       "}\n",
       "\n",
       "#sk-container-id-21 label.sk-toggleable__label-arrow:hover:before {\n",
       "  color: var(--sklearn-color-text);\n",
       "}\n",
       "\n",
       "/* Toggleable content - dropdown */\n",
       "\n",
       "#sk-container-id-21 div.sk-toggleable__content {\n",
       "  max-height: 0;\n",
       "  max-width: 0;\n",
       "  overflow: hidden;\n",
       "  text-align: left;\n",
       "  /* unfitted */\n",
       "  background-color: var(--sklearn-color-unfitted-level-0);\n",
       "}\n",
       "\n",
       "#sk-container-id-21 div.sk-toggleable__content.fitted {\n",
       "  /* fitted */\n",
       "  background-color: var(--sklearn-color-fitted-level-0);\n",
       "}\n",
       "\n",
       "#sk-container-id-21 div.sk-toggleable__content pre {\n",
       "  margin: 0.2em;\n",
       "  border-radius: 0.25em;\n",
       "  color: var(--sklearn-color-text);\n",
       "  /* unfitted */\n",
       "  background-color: var(--sklearn-color-unfitted-level-0);\n",
       "}\n",
       "\n",
       "#sk-container-id-21 div.sk-toggleable__content.fitted pre {\n",
       "  /* unfitted */\n",
       "  background-color: var(--sklearn-color-fitted-level-0);\n",
       "}\n",
       "\n",
       "#sk-container-id-21 input.sk-toggleable__control:checked~div.sk-toggleable__content {\n",
       "  /* Expand drop-down */\n",
       "  max-height: 200px;\n",
       "  max-width: 100%;\n",
       "  overflow: auto;\n",
       "}\n",
       "\n",
       "#sk-container-id-21 input.sk-toggleable__control:checked~label.sk-toggleable__label-arrow:before {\n",
       "  content: \"▾\";\n",
       "}\n",
       "\n",
       "/* Pipeline/ColumnTransformer-specific style */\n",
       "\n",
       "#sk-container-id-21 div.sk-label input.sk-toggleable__control:checked~label.sk-toggleable__label {\n",
       "  color: var(--sklearn-color-text);\n",
       "  background-color: var(--sklearn-color-unfitted-level-2);\n",
       "}\n",
       "\n",
       "#sk-container-id-21 div.sk-label.fitted input.sk-toggleable__control:checked~label.sk-toggleable__label {\n",
       "  background-color: var(--sklearn-color-fitted-level-2);\n",
       "}\n",
       "\n",
       "/* Estimator-specific style */\n",
       "\n",
       "/* Colorize estimator box */\n",
       "#sk-container-id-21 div.sk-estimator input.sk-toggleable__control:checked~label.sk-toggleable__label {\n",
       "  /* unfitted */\n",
       "  background-color: var(--sklearn-color-unfitted-level-2);\n",
       "}\n",
       "\n",
       "#sk-container-id-21 div.sk-estimator.fitted input.sk-toggleable__control:checked~label.sk-toggleable__label {\n",
       "  /* fitted */\n",
       "  background-color: var(--sklearn-color-fitted-level-2);\n",
       "}\n",
       "\n",
       "#sk-container-id-21 div.sk-label label.sk-toggleable__label,\n",
       "#sk-container-id-21 div.sk-label label {\n",
       "  /* The background is the default theme color */\n",
       "  color: var(--sklearn-color-text-on-default-background);\n",
       "}\n",
       "\n",
       "/* On hover, darken the color of the background */\n",
       "#sk-container-id-21 div.sk-label:hover label.sk-toggleable__label {\n",
       "  color: var(--sklearn-color-text);\n",
       "  background-color: var(--sklearn-color-unfitted-level-2);\n",
       "}\n",
       "\n",
       "/* Label box, darken color on hover, fitted */\n",
       "#sk-container-id-21 div.sk-label.fitted:hover label.sk-toggleable__label.fitted {\n",
       "  color: var(--sklearn-color-text);\n",
       "  background-color: var(--sklearn-color-fitted-level-2);\n",
       "}\n",
       "\n",
       "/* Estimator label */\n",
       "\n",
       "#sk-container-id-21 div.sk-label label {\n",
       "  font-family: monospace;\n",
       "  font-weight: bold;\n",
       "  display: inline-block;\n",
       "  line-height: 1.2em;\n",
       "}\n",
       "\n",
       "#sk-container-id-21 div.sk-label-container {\n",
       "  text-align: center;\n",
       "}\n",
       "\n",
       "/* Estimator-specific */\n",
       "#sk-container-id-21 div.sk-estimator {\n",
       "  font-family: monospace;\n",
       "  border: 1px dotted var(--sklearn-color-border-box);\n",
       "  border-radius: 0.25em;\n",
       "  box-sizing: border-box;\n",
       "  margin-bottom: 0.5em;\n",
       "  /* unfitted */\n",
       "  background-color: var(--sklearn-color-unfitted-level-0);\n",
       "}\n",
       "\n",
       "#sk-container-id-21 div.sk-estimator.fitted {\n",
       "  /* fitted */\n",
       "  background-color: var(--sklearn-color-fitted-level-0);\n",
       "}\n",
       "\n",
       "/* on hover */\n",
       "#sk-container-id-21 div.sk-estimator:hover {\n",
       "  /* unfitted */\n",
       "  background-color: var(--sklearn-color-unfitted-level-2);\n",
       "}\n",
       "\n",
       "#sk-container-id-21 div.sk-estimator.fitted:hover {\n",
       "  /* fitted */\n",
       "  background-color: var(--sklearn-color-fitted-level-2);\n",
       "}\n",
       "\n",
       "/* Specification for estimator info (e.g. \"i\" and \"?\") */\n",
       "\n",
       "/* Common style for \"i\" and \"?\" */\n",
       "\n",
       ".sk-estimator-doc-link,\n",
       "a:link.sk-estimator-doc-link,\n",
       "a:visited.sk-estimator-doc-link {\n",
       "  float: right;\n",
       "  font-size: smaller;\n",
       "  line-height: 1em;\n",
       "  font-family: monospace;\n",
       "  background-color: var(--sklearn-color-background);\n",
       "  border-radius: 1em;\n",
       "  height: 1em;\n",
       "  width: 1em;\n",
       "  text-decoration: none !important;\n",
       "  margin-left: 1ex;\n",
       "  /* unfitted */\n",
       "  border: var(--sklearn-color-unfitted-level-1) 1pt solid;\n",
       "  color: var(--sklearn-color-unfitted-level-1);\n",
       "}\n",
       "\n",
       ".sk-estimator-doc-link.fitted,\n",
       "a:link.sk-estimator-doc-link.fitted,\n",
       "a:visited.sk-estimator-doc-link.fitted {\n",
       "  /* fitted */\n",
       "  border: var(--sklearn-color-fitted-level-1) 1pt solid;\n",
       "  color: var(--sklearn-color-fitted-level-1);\n",
       "}\n",
       "\n",
       "/* On hover */\n",
       "div.sk-estimator:hover .sk-estimator-doc-link:hover,\n",
       ".sk-estimator-doc-link:hover,\n",
       "div.sk-label-container:hover .sk-estimator-doc-link:hover,\n",
       ".sk-estimator-doc-link:hover {\n",
       "  /* unfitted */\n",
       "  background-color: var(--sklearn-color-unfitted-level-3);\n",
       "  color: var(--sklearn-color-background);\n",
       "  text-decoration: none;\n",
       "}\n",
       "\n",
       "div.sk-estimator.fitted:hover .sk-estimator-doc-link.fitted:hover,\n",
       ".sk-estimator-doc-link.fitted:hover,\n",
       "div.sk-label-container:hover .sk-estimator-doc-link.fitted:hover,\n",
       ".sk-estimator-doc-link.fitted:hover {\n",
       "  /* fitted */\n",
       "  background-color: var(--sklearn-color-fitted-level-3);\n",
       "  color: var(--sklearn-color-background);\n",
       "  text-decoration: none;\n",
       "}\n",
       "\n",
       "/* Span, style for the box shown on hovering the info icon */\n",
       ".sk-estimator-doc-link span {\n",
       "  display: none;\n",
       "  z-index: 9999;\n",
       "  position: relative;\n",
       "  font-weight: normal;\n",
       "  right: .2ex;\n",
       "  padding: .5ex;\n",
       "  margin: .5ex;\n",
       "  width: min-content;\n",
       "  min-width: 20ex;\n",
       "  max-width: 50ex;\n",
       "  color: var(--sklearn-color-text);\n",
       "  box-shadow: 2pt 2pt 4pt #999;\n",
       "  /* unfitted */\n",
       "  background: var(--sklearn-color-unfitted-level-0);\n",
       "  border: .5pt solid var(--sklearn-color-unfitted-level-3);\n",
       "}\n",
       "\n",
       ".sk-estimator-doc-link.fitted span {\n",
       "  /* fitted */\n",
       "  background: var(--sklearn-color-fitted-level-0);\n",
       "  border: var(--sklearn-color-fitted-level-3);\n",
       "}\n",
       "\n",
       ".sk-estimator-doc-link:hover span {\n",
       "  display: block;\n",
       "}\n",
       "\n",
       "/* \"?\"-specific style due to the `<a>` HTML tag */\n",
       "\n",
       "#sk-container-id-21 a.estimator_doc_link {\n",
       "  float: right;\n",
       "  font-size: 1rem;\n",
       "  line-height: 1em;\n",
       "  font-family: monospace;\n",
       "  background-color: var(--sklearn-color-background);\n",
       "  border-radius: 1rem;\n",
       "  height: 1rem;\n",
       "  width: 1rem;\n",
       "  text-decoration: none;\n",
       "  /* unfitted */\n",
       "  color: var(--sklearn-color-unfitted-level-1);\n",
       "  border: var(--sklearn-color-unfitted-level-1) 1pt solid;\n",
       "}\n",
       "\n",
       "#sk-container-id-21 a.estimator_doc_link.fitted {\n",
       "  /* fitted */\n",
       "  border: var(--sklearn-color-fitted-level-1) 1pt solid;\n",
       "  color: var(--sklearn-color-fitted-level-1);\n",
       "}\n",
       "\n",
       "/* On hover */\n",
       "#sk-container-id-21 a.estimator_doc_link:hover {\n",
       "  /* unfitted */\n",
       "  background-color: var(--sklearn-color-unfitted-level-3);\n",
       "  color: var(--sklearn-color-background);\n",
       "  text-decoration: none;\n",
       "}\n",
       "\n",
       "#sk-container-id-21 a.estimator_doc_link.fitted:hover {\n",
       "  /* fitted */\n",
       "  background-color: var(--sklearn-color-fitted-level-3);\n",
       "}\n",
       "</style><div id=\"sk-container-id-21\" class=\"sk-top-container\"><div class=\"sk-text-repr-fallback\"><pre>ColumnTransformer(transformers=[(&#x27;num&#x27;,\n",
       "                                 Pipeline(steps=[(&#x27;scaler&#x27;, RobustScaler())]),\n",
       "                                 [&#x27;house_age&#x27;, &#x27;transaction_date&#x27;,\n",
       "                                  &#x27;number_of_convenience_stores&#x27;, &#x27;longitude&#x27;,\n",
       "                                  &#x27;distance_to_the_nearest_mrt_station&#x27;,\n",
       "                                  &#x27;latitude&#x27;])])</pre><b>In a Jupyter environment, please rerun this cell to show the HTML representation or trust the notebook. <br />On GitHub, the HTML representation is unable to render, please try loading this page with nbviewer.org.</b></div><div class=\"sk-container\" hidden><div class=\"sk-item sk-dashed-wrapped\"><div class=\"sk-label-container\"><div class=\"sk-label fitted sk-toggleable\"><input class=\"sk-toggleable__control sk-hidden--visually\" id=\"sk-estimator-id-65\" type=\"checkbox\" ><label for=\"sk-estimator-id-65\" class=\"sk-toggleable__label fitted sk-toggleable__label-arrow fitted\">&nbsp;&nbsp;ColumnTransformer<a class=\"sk-estimator-doc-link fitted\" rel=\"noreferrer\" target=\"_blank\" href=\"https://scikit-learn.org/1.5/modules/generated/sklearn.compose.ColumnTransformer.html\">?<span>Documentation for ColumnTransformer</span></a><span class=\"sk-estimator-doc-link fitted\">i<span>Fitted</span></span></label><div class=\"sk-toggleable__content fitted\"><pre>ColumnTransformer(transformers=[(&#x27;num&#x27;,\n",
       "                                 Pipeline(steps=[(&#x27;scaler&#x27;, RobustScaler())]),\n",
       "                                 [&#x27;house_age&#x27;, &#x27;transaction_date&#x27;,\n",
       "                                  &#x27;number_of_convenience_stores&#x27;, &#x27;longitude&#x27;,\n",
       "                                  &#x27;distance_to_the_nearest_mrt_station&#x27;,\n",
       "                                  &#x27;latitude&#x27;])])</pre></div> </div></div><div class=\"sk-parallel\"><div class=\"sk-parallel-item\"><div class=\"sk-item\"><div class=\"sk-label-container\"><div class=\"sk-label fitted sk-toggleable\"><input class=\"sk-toggleable__control sk-hidden--visually\" id=\"sk-estimator-id-66\" type=\"checkbox\" ><label for=\"sk-estimator-id-66\" class=\"sk-toggleable__label fitted sk-toggleable__label-arrow fitted\">num</label><div class=\"sk-toggleable__content fitted\"><pre>[&#x27;house_age&#x27;, &#x27;transaction_date&#x27;, &#x27;number_of_convenience_stores&#x27;, &#x27;longitude&#x27;, &#x27;distance_to_the_nearest_mrt_station&#x27;, &#x27;latitude&#x27;]</pre></div> </div></div><div class=\"sk-serial\"><div class=\"sk-item\"><div class=\"sk-serial\"><div class=\"sk-item\"><div class=\"sk-estimator fitted sk-toggleable\"><input class=\"sk-toggleable__control sk-hidden--visually\" id=\"sk-estimator-id-67\" type=\"checkbox\" ><label for=\"sk-estimator-id-67\" class=\"sk-toggleable__label fitted sk-toggleable__label-arrow fitted\">&nbsp;RobustScaler<a class=\"sk-estimator-doc-link fitted\" rel=\"noreferrer\" target=\"_blank\" href=\"https://scikit-learn.org/1.5/modules/generated/sklearn.preprocessing.RobustScaler.html\">?<span>Documentation for RobustScaler</span></a></label><div class=\"sk-toggleable__content fitted\"><pre>RobustScaler()</pre></div> </div></div></div></div></div></div></div></div></div></div></div>"
      ],
      "text/plain": [
       "ColumnTransformer(transformers=[('num',\n",
       "                                 Pipeline(steps=[('scaler', RobustScaler())]),\n",
       "                                 ['house_age', 'transaction_date',\n",
       "                                  'number_of_convenience_stores', 'longitude',\n",
       "                                  'distance_to_the_nearest_mrt_station',\n",
       "                                  'latitude'])])"
      ]
     },
     "execution_count": 285,
     "metadata": {},
     "output_type": "execute_result"
    }
   ],
   "source": [
    "preprocessor.fit(X_train)"
   ]
  },
  {
   "cell_type": "code",
   "execution_count": 286,
   "metadata": {},
   "outputs": [
    {
     "data": {
      "text/plain": [
       "array(['num__house_age', 'num__transaction_date',\n",
       "       'num__number_of_convenience_stores', 'num__longitude',\n",
       "       'num__distance_to_the_nearest_mrt_station', 'num__latitude'],\n",
       "      dtype=object)"
      ]
     },
     "execution_count": 286,
     "metadata": {},
     "output_type": "execute_result"
    }
   ],
   "source": [
    "preprocessor.get_feature_names_out()"
   ]
  },
  {
   "cell_type": "code",
   "execution_count": 287,
   "metadata": {},
   "outputs": [
    {
     "data": {
      "text/html": [
       "<style>#sk-container-id-22 {\n",
       "  /* Definition of color scheme common for light and dark mode */\n",
       "  --sklearn-color-text: black;\n",
       "  --sklearn-color-line: gray;\n",
       "  /* Definition of color scheme for unfitted estimators */\n",
       "  --sklearn-color-unfitted-level-0: #fff5e6;\n",
       "  --sklearn-color-unfitted-level-1: #f6e4d2;\n",
       "  --sklearn-color-unfitted-level-2: #ffe0b3;\n",
       "  --sklearn-color-unfitted-level-3: chocolate;\n",
       "  /* Definition of color scheme for fitted estimators */\n",
       "  --sklearn-color-fitted-level-0: #f0f8ff;\n",
       "  --sklearn-color-fitted-level-1: #d4ebff;\n",
       "  --sklearn-color-fitted-level-2: #b3dbfd;\n",
       "  --sklearn-color-fitted-level-3: cornflowerblue;\n",
       "\n",
       "  /* Specific color for light theme */\n",
       "  --sklearn-color-text-on-default-background: var(--sg-text-color, var(--theme-code-foreground, var(--jp-content-font-color1, black)));\n",
       "  --sklearn-color-background: var(--sg-background-color, var(--theme-background, var(--jp-layout-color0, white)));\n",
       "  --sklearn-color-border-box: var(--sg-text-color, var(--theme-code-foreground, var(--jp-content-font-color1, black)));\n",
       "  --sklearn-color-icon: #696969;\n",
       "\n",
       "  @media (prefers-color-scheme: dark) {\n",
       "    /* Redefinition of color scheme for dark theme */\n",
       "    --sklearn-color-text-on-default-background: var(--sg-text-color, var(--theme-code-foreground, var(--jp-content-font-color1, white)));\n",
       "    --sklearn-color-background: var(--sg-background-color, var(--theme-background, var(--jp-layout-color0, #111)));\n",
       "    --sklearn-color-border-box: var(--sg-text-color, var(--theme-code-foreground, var(--jp-content-font-color1, white)));\n",
       "    --sklearn-color-icon: #878787;\n",
       "  }\n",
       "}\n",
       "\n",
       "#sk-container-id-22 {\n",
       "  color: var(--sklearn-color-text);\n",
       "}\n",
       "\n",
       "#sk-container-id-22 pre {\n",
       "  padding: 0;\n",
       "}\n",
       "\n",
       "#sk-container-id-22 input.sk-hidden--visually {\n",
       "  border: 0;\n",
       "  clip: rect(1px 1px 1px 1px);\n",
       "  clip: rect(1px, 1px, 1px, 1px);\n",
       "  height: 1px;\n",
       "  margin: -1px;\n",
       "  overflow: hidden;\n",
       "  padding: 0;\n",
       "  position: absolute;\n",
       "  width: 1px;\n",
       "}\n",
       "\n",
       "#sk-container-id-22 div.sk-dashed-wrapped {\n",
       "  border: 1px dashed var(--sklearn-color-line);\n",
       "  margin: 0 0.4em 0.5em 0.4em;\n",
       "  box-sizing: border-box;\n",
       "  padding-bottom: 0.4em;\n",
       "  background-color: var(--sklearn-color-background);\n",
       "}\n",
       "\n",
       "#sk-container-id-22 div.sk-container {\n",
       "  /* jupyter's `normalize.less` sets `[hidden] { display: none; }`\n",
       "     but bootstrap.min.css set `[hidden] { display: none !important; }`\n",
       "     so we also need the `!important` here to be able to override the\n",
       "     default hidden behavior on the sphinx rendered scikit-learn.org.\n",
       "     See: https://github.com/scikit-learn/scikit-learn/issues/21755 */\n",
       "  display: inline-block !important;\n",
       "  position: relative;\n",
       "}\n",
       "\n",
       "#sk-container-id-22 div.sk-text-repr-fallback {\n",
       "  display: none;\n",
       "}\n",
       "\n",
       "div.sk-parallel-item,\n",
       "div.sk-serial,\n",
       "div.sk-item {\n",
       "  /* draw centered vertical line to link estimators */\n",
       "  background-image: linear-gradient(var(--sklearn-color-text-on-default-background), var(--sklearn-color-text-on-default-background));\n",
       "  background-size: 2px 100%;\n",
       "  background-repeat: no-repeat;\n",
       "  background-position: center center;\n",
       "}\n",
       "\n",
       "/* Parallel-specific style estimator block */\n",
       "\n",
       "#sk-container-id-22 div.sk-parallel-item::after {\n",
       "  content: \"\";\n",
       "  width: 100%;\n",
       "  border-bottom: 2px solid var(--sklearn-color-text-on-default-background);\n",
       "  flex-grow: 1;\n",
       "}\n",
       "\n",
       "#sk-container-id-22 div.sk-parallel {\n",
       "  display: flex;\n",
       "  align-items: stretch;\n",
       "  justify-content: center;\n",
       "  background-color: var(--sklearn-color-background);\n",
       "  position: relative;\n",
       "}\n",
       "\n",
       "#sk-container-id-22 div.sk-parallel-item {\n",
       "  display: flex;\n",
       "  flex-direction: column;\n",
       "}\n",
       "\n",
       "#sk-container-id-22 div.sk-parallel-item:first-child::after {\n",
       "  align-self: flex-end;\n",
       "  width: 50%;\n",
       "}\n",
       "\n",
       "#sk-container-id-22 div.sk-parallel-item:last-child::after {\n",
       "  align-self: flex-start;\n",
       "  width: 50%;\n",
       "}\n",
       "\n",
       "#sk-container-id-22 div.sk-parallel-item:only-child::after {\n",
       "  width: 0;\n",
       "}\n",
       "\n",
       "/* Serial-specific style estimator block */\n",
       "\n",
       "#sk-container-id-22 div.sk-serial {\n",
       "  display: flex;\n",
       "  flex-direction: column;\n",
       "  align-items: center;\n",
       "  background-color: var(--sklearn-color-background);\n",
       "  padding-right: 1em;\n",
       "  padding-left: 1em;\n",
       "}\n",
       "\n",
       "\n",
       "/* Toggleable style: style used for estimator/Pipeline/ColumnTransformer box that is\n",
       "clickable and can be expanded/collapsed.\n",
       "- Pipeline and ColumnTransformer use this feature and define the default style\n",
       "- Estimators will overwrite some part of the style using the `sk-estimator` class\n",
       "*/\n",
       "\n",
       "/* Pipeline and ColumnTransformer style (default) */\n",
       "\n",
       "#sk-container-id-22 div.sk-toggleable {\n",
       "  /* Default theme specific background. It is overwritten whether we have a\n",
       "  specific estimator or a Pipeline/ColumnTransformer */\n",
       "  background-color: var(--sklearn-color-background);\n",
       "}\n",
       "\n",
       "/* Toggleable label */\n",
       "#sk-container-id-22 label.sk-toggleable__label {\n",
       "  cursor: pointer;\n",
       "  display: block;\n",
       "  width: 100%;\n",
       "  margin-bottom: 0;\n",
       "  padding: 0.5em;\n",
       "  box-sizing: border-box;\n",
       "  text-align: center;\n",
       "}\n",
       "\n",
       "#sk-container-id-22 label.sk-toggleable__label-arrow:before {\n",
       "  /* Arrow on the left of the label */\n",
       "  content: \"▸\";\n",
       "  float: left;\n",
       "  margin-right: 0.25em;\n",
       "  color: var(--sklearn-color-icon);\n",
       "}\n",
       "\n",
       "#sk-container-id-22 label.sk-toggleable__label-arrow:hover:before {\n",
       "  color: var(--sklearn-color-text);\n",
       "}\n",
       "\n",
       "/* Toggleable content - dropdown */\n",
       "\n",
       "#sk-container-id-22 div.sk-toggleable__content {\n",
       "  max-height: 0;\n",
       "  max-width: 0;\n",
       "  overflow: hidden;\n",
       "  text-align: left;\n",
       "  /* unfitted */\n",
       "  background-color: var(--sklearn-color-unfitted-level-0);\n",
       "}\n",
       "\n",
       "#sk-container-id-22 div.sk-toggleable__content.fitted {\n",
       "  /* fitted */\n",
       "  background-color: var(--sklearn-color-fitted-level-0);\n",
       "}\n",
       "\n",
       "#sk-container-id-22 div.sk-toggleable__content pre {\n",
       "  margin: 0.2em;\n",
       "  border-radius: 0.25em;\n",
       "  color: var(--sklearn-color-text);\n",
       "  /* unfitted */\n",
       "  background-color: var(--sklearn-color-unfitted-level-0);\n",
       "}\n",
       "\n",
       "#sk-container-id-22 div.sk-toggleable__content.fitted pre {\n",
       "  /* unfitted */\n",
       "  background-color: var(--sklearn-color-fitted-level-0);\n",
       "}\n",
       "\n",
       "#sk-container-id-22 input.sk-toggleable__control:checked~div.sk-toggleable__content {\n",
       "  /* Expand drop-down */\n",
       "  max-height: 200px;\n",
       "  max-width: 100%;\n",
       "  overflow: auto;\n",
       "}\n",
       "\n",
       "#sk-container-id-22 input.sk-toggleable__control:checked~label.sk-toggleable__label-arrow:before {\n",
       "  content: \"▾\";\n",
       "}\n",
       "\n",
       "/* Pipeline/ColumnTransformer-specific style */\n",
       "\n",
       "#sk-container-id-22 div.sk-label input.sk-toggleable__control:checked~label.sk-toggleable__label {\n",
       "  color: var(--sklearn-color-text);\n",
       "  background-color: var(--sklearn-color-unfitted-level-2);\n",
       "}\n",
       "\n",
       "#sk-container-id-22 div.sk-label.fitted input.sk-toggleable__control:checked~label.sk-toggleable__label {\n",
       "  background-color: var(--sklearn-color-fitted-level-2);\n",
       "}\n",
       "\n",
       "/* Estimator-specific style */\n",
       "\n",
       "/* Colorize estimator box */\n",
       "#sk-container-id-22 div.sk-estimator input.sk-toggleable__control:checked~label.sk-toggleable__label {\n",
       "  /* unfitted */\n",
       "  background-color: var(--sklearn-color-unfitted-level-2);\n",
       "}\n",
       "\n",
       "#sk-container-id-22 div.sk-estimator.fitted input.sk-toggleable__control:checked~label.sk-toggleable__label {\n",
       "  /* fitted */\n",
       "  background-color: var(--sklearn-color-fitted-level-2);\n",
       "}\n",
       "\n",
       "#sk-container-id-22 div.sk-label label.sk-toggleable__label,\n",
       "#sk-container-id-22 div.sk-label label {\n",
       "  /* The background is the default theme color */\n",
       "  color: var(--sklearn-color-text-on-default-background);\n",
       "}\n",
       "\n",
       "/* On hover, darken the color of the background */\n",
       "#sk-container-id-22 div.sk-label:hover label.sk-toggleable__label {\n",
       "  color: var(--sklearn-color-text);\n",
       "  background-color: var(--sklearn-color-unfitted-level-2);\n",
       "}\n",
       "\n",
       "/* Label box, darken color on hover, fitted */\n",
       "#sk-container-id-22 div.sk-label.fitted:hover label.sk-toggleable__label.fitted {\n",
       "  color: var(--sklearn-color-text);\n",
       "  background-color: var(--sklearn-color-fitted-level-2);\n",
       "}\n",
       "\n",
       "/* Estimator label */\n",
       "\n",
       "#sk-container-id-22 div.sk-label label {\n",
       "  font-family: monospace;\n",
       "  font-weight: bold;\n",
       "  display: inline-block;\n",
       "  line-height: 1.2em;\n",
       "}\n",
       "\n",
       "#sk-container-id-22 div.sk-label-container {\n",
       "  text-align: center;\n",
       "}\n",
       "\n",
       "/* Estimator-specific */\n",
       "#sk-container-id-22 div.sk-estimator {\n",
       "  font-family: monospace;\n",
       "  border: 1px dotted var(--sklearn-color-border-box);\n",
       "  border-radius: 0.25em;\n",
       "  box-sizing: border-box;\n",
       "  margin-bottom: 0.5em;\n",
       "  /* unfitted */\n",
       "  background-color: var(--sklearn-color-unfitted-level-0);\n",
       "}\n",
       "\n",
       "#sk-container-id-22 div.sk-estimator.fitted {\n",
       "  /* fitted */\n",
       "  background-color: var(--sklearn-color-fitted-level-0);\n",
       "}\n",
       "\n",
       "/* on hover */\n",
       "#sk-container-id-22 div.sk-estimator:hover {\n",
       "  /* unfitted */\n",
       "  background-color: var(--sklearn-color-unfitted-level-2);\n",
       "}\n",
       "\n",
       "#sk-container-id-22 div.sk-estimator.fitted:hover {\n",
       "  /* fitted */\n",
       "  background-color: var(--sklearn-color-fitted-level-2);\n",
       "}\n",
       "\n",
       "/* Specification for estimator info (e.g. \"i\" and \"?\") */\n",
       "\n",
       "/* Common style for \"i\" and \"?\" */\n",
       "\n",
       ".sk-estimator-doc-link,\n",
       "a:link.sk-estimator-doc-link,\n",
       "a:visited.sk-estimator-doc-link {\n",
       "  float: right;\n",
       "  font-size: smaller;\n",
       "  line-height: 1em;\n",
       "  font-family: monospace;\n",
       "  background-color: var(--sklearn-color-background);\n",
       "  border-radius: 1em;\n",
       "  height: 1em;\n",
       "  width: 1em;\n",
       "  text-decoration: none !important;\n",
       "  margin-left: 1ex;\n",
       "  /* unfitted */\n",
       "  border: var(--sklearn-color-unfitted-level-1) 1pt solid;\n",
       "  color: var(--sklearn-color-unfitted-level-1);\n",
       "}\n",
       "\n",
       ".sk-estimator-doc-link.fitted,\n",
       "a:link.sk-estimator-doc-link.fitted,\n",
       "a:visited.sk-estimator-doc-link.fitted {\n",
       "  /* fitted */\n",
       "  border: var(--sklearn-color-fitted-level-1) 1pt solid;\n",
       "  color: var(--sklearn-color-fitted-level-1);\n",
       "}\n",
       "\n",
       "/* On hover */\n",
       "div.sk-estimator:hover .sk-estimator-doc-link:hover,\n",
       ".sk-estimator-doc-link:hover,\n",
       "div.sk-label-container:hover .sk-estimator-doc-link:hover,\n",
       ".sk-estimator-doc-link:hover {\n",
       "  /* unfitted */\n",
       "  background-color: var(--sklearn-color-unfitted-level-3);\n",
       "  color: var(--sklearn-color-background);\n",
       "  text-decoration: none;\n",
       "}\n",
       "\n",
       "div.sk-estimator.fitted:hover .sk-estimator-doc-link.fitted:hover,\n",
       ".sk-estimator-doc-link.fitted:hover,\n",
       "div.sk-label-container:hover .sk-estimator-doc-link.fitted:hover,\n",
       ".sk-estimator-doc-link.fitted:hover {\n",
       "  /* fitted */\n",
       "  background-color: var(--sklearn-color-fitted-level-3);\n",
       "  color: var(--sklearn-color-background);\n",
       "  text-decoration: none;\n",
       "}\n",
       "\n",
       "/* Span, style for the box shown on hovering the info icon */\n",
       ".sk-estimator-doc-link span {\n",
       "  display: none;\n",
       "  z-index: 9999;\n",
       "  position: relative;\n",
       "  font-weight: normal;\n",
       "  right: .2ex;\n",
       "  padding: .5ex;\n",
       "  margin: .5ex;\n",
       "  width: min-content;\n",
       "  min-width: 20ex;\n",
       "  max-width: 50ex;\n",
       "  color: var(--sklearn-color-text);\n",
       "  box-shadow: 2pt 2pt 4pt #999;\n",
       "  /* unfitted */\n",
       "  background: var(--sklearn-color-unfitted-level-0);\n",
       "  border: .5pt solid var(--sklearn-color-unfitted-level-3);\n",
       "}\n",
       "\n",
       ".sk-estimator-doc-link.fitted span {\n",
       "  /* fitted */\n",
       "  background: var(--sklearn-color-fitted-level-0);\n",
       "  border: var(--sklearn-color-fitted-level-3);\n",
       "}\n",
       "\n",
       ".sk-estimator-doc-link:hover span {\n",
       "  display: block;\n",
       "}\n",
       "\n",
       "/* \"?\"-specific style due to the `<a>` HTML tag */\n",
       "\n",
       "#sk-container-id-22 a.estimator_doc_link {\n",
       "  float: right;\n",
       "  font-size: 1rem;\n",
       "  line-height: 1em;\n",
       "  font-family: monospace;\n",
       "  background-color: var(--sklearn-color-background);\n",
       "  border-radius: 1rem;\n",
       "  height: 1rem;\n",
       "  width: 1rem;\n",
       "  text-decoration: none;\n",
       "  /* unfitted */\n",
       "  color: var(--sklearn-color-unfitted-level-1);\n",
       "  border: var(--sklearn-color-unfitted-level-1) 1pt solid;\n",
       "}\n",
       "\n",
       "#sk-container-id-22 a.estimator_doc_link.fitted {\n",
       "  /* fitted */\n",
       "  border: var(--sklearn-color-fitted-level-1) 1pt solid;\n",
       "  color: var(--sklearn-color-fitted-level-1);\n",
       "}\n",
       "\n",
       "/* On hover */\n",
       "#sk-container-id-22 a.estimator_doc_link:hover {\n",
       "  /* unfitted */\n",
       "  background-color: var(--sklearn-color-unfitted-level-3);\n",
       "  color: var(--sklearn-color-background);\n",
       "  text-decoration: none;\n",
       "}\n",
       "\n",
       "#sk-container-id-22 a.estimator_doc_link.fitted:hover {\n",
       "  /* fitted */\n",
       "  background-color: var(--sklearn-color-fitted-level-3);\n",
       "}\n",
       "</style><div id=\"sk-container-id-22\" class=\"sk-top-container\"><div class=\"sk-text-repr-fallback\"><pre>Pipeline(steps=[(&#x27;preprocessor&#x27;,\n",
       "                 ColumnTransformer(transformers=[(&#x27;num&#x27;,\n",
       "                                                  Pipeline(steps=[(&#x27;scaler&#x27;,\n",
       "                                                                   RobustScaler())]),\n",
       "                                                  [&#x27;house_age&#x27;,\n",
       "                                                   &#x27;transaction_date&#x27;,\n",
       "                                                   &#x27;number_of_convenience_stores&#x27;,\n",
       "                                                   &#x27;longitude&#x27;,\n",
       "                                                   &#x27;distance_to_the_nearest_mrt_station&#x27;,\n",
       "                                                   &#x27;latitude&#x27;])])),\n",
       "                (&#x27;model&#x27;, LinearRegression())])</pre><b>In a Jupyter environment, please rerun this cell to show the HTML representation or trust the notebook. <br />On GitHub, the HTML representation is unable to render, please try loading this page with nbviewer.org.</b></div><div class=\"sk-container\" hidden><div class=\"sk-item sk-dashed-wrapped\"><div class=\"sk-label-container\"><div class=\"sk-label fitted sk-toggleable\"><input class=\"sk-toggleable__control sk-hidden--visually\" id=\"sk-estimator-id-68\" type=\"checkbox\" ><label for=\"sk-estimator-id-68\" class=\"sk-toggleable__label fitted sk-toggleable__label-arrow fitted\">&nbsp;&nbsp;Pipeline<a class=\"sk-estimator-doc-link fitted\" rel=\"noreferrer\" target=\"_blank\" href=\"https://scikit-learn.org/1.5/modules/generated/sklearn.pipeline.Pipeline.html\">?<span>Documentation for Pipeline</span></a><span class=\"sk-estimator-doc-link fitted\">i<span>Fitted</span></span></label><div class=\"sk-toggleable__content fitted\"><pre>Pipeline(steps=[(&#x27;preprocessor&#x27;,\n",
       "                 ColumnTransformer(transformers=[(&#x27;num&#x27;,\n",
       "                                                  Pipeline(steps=[(&#x27;scaler&#x27;,\n",
       "                                                                   RobustScaler())]),\n",
       "                                                  [&#x27;house_age&#x27;,\n",
       "                                                   &#x27;transaction_date&#x27;,\n",
       "                                                   &#x27;number_of_convenience_stores&#x27;,\n",
       "                                                   &#x27;longitude&#x27;,\n",
       "                                                   &#x27;distance_to_the_nearest_mrt_station&#x27;,\n",
       "                                                   &#x27;latitude&#x27;])])),\n",
       "                (&#x27;model&#x27;, LinearRegression())])</pre></div> </div></div><div class=\"sk-serial\"><div class=\"sk-item sk-dashed-wrapped\"><div class=\"sk-label-container\"><div class=\"sk-label fitted sk-toggleable\"><input class=\"sk-toggleable__control sk-hidden--visually\" id=\"sk-estimator-id-69\" type=\"checkbox\" ><label for=\"sk-estimator-id-69\" class=\"sk-toggleable__label fitted sk-toggleable__label-arrow fitted\">&nbsp;preprocessor: ColumnTransformer<a class=\"sk-estimator-doc-link fitted\" rel=\"noreferrer\" target=\"_blank\" href=\"https://scikit-learn.org/1.5/modules/generated/sklearn.compose.ColumnTransformer.html\">?<span>Documentation for preprocessor: ColumnTransformer</span></a></label><div class=\"sk-toggleable__content fitted\"><pre>ColumnTransformer(transformers=[(&#x27;num&#x27;,\n",
       "                                 Pipeline(steps=[(&#x27;scaler&#x27;, RobustScaler())]),\n",
       "                                 [&#x27;house_age&#x27;, &#x27;transaction_date&#x27;,\n",
       "                                  &#x27;number_of_convenience_stores&#x27;, &#x27;longitude&#x27;,\n",
       "                                  &#x27;distance_to_the_nearest_mrt_station&#x27;,\n",
       "                                  &#x27;latitude&#x27;])])</pre></div> </div></div><div class=\"sk-parallel\"><div class=\"sk-parallel-item\"><div class=\"sk-item\"><div class=\"sk-label-container\"><div class=\"sk-label fitted sk-toggleable\"><input class=\"sk-toggleable__control sk-hidden--visually\" id=\"sk-estimator-id-70\" type=\"checkbox\" ><label for=\"sk-estimator-id-70\" class=\"sk-toggleable__label fitted sk-toggleable__label-arrow fitted\">num</label><div class=\"sk-toggleable__content fitted\"><pre>[&#x27;house_age&#x27;, &#x27;transaction_date&#x27;, &#x27;number_of_convenience_stores&#x27;, &#x27;longitude&#x27;, &#x27;distance_to_the_nearest_mrt_station&#x27;, &#x27;latitude&#x27;]</pre></div> </div></div><div class=\"sk-serial\"><div class=\"sk-item\"><div class=\"sk-serial\"><div class=\"sk-item\"><div class=\"sk-estimator fitted sk-toggleable\"><input class=\"sk-toggleable__control sk-hidden--visually\" id=\"sk-estimator-id-71\" type=\"checkbox\" ><label for=\"sk-estimator-id-71\" class=\"sk-toggleable__label fitted sk-toggleable__label-arrow fitted\">&nbsp;RobustScaler<a class=\"sk-estimator-doc-link fitted\" rel=\"noreferrer\" target=\"_blank\" href=\"https://scikit-learn.org/1.5/modules/generated/sklearn.preprocessing.RobustScaler.html\">?<span>Documentation for RobustScaler</span></a></label><div class=\"sk-toggleable__content fitted\"><pre>RobustScaler()</pre></div> </div></div></div></div></div></div></div></div></div><div class=\"sk-item\"><div class=\"sk-estimator fitted sk-toggleable\"><input class=\"sk-toggleable__control sk-hidden--visually\" id=\"sk-estimator-id-72\" type=\"checkbox\" ><label for=\"sk-estimator-id-72\" class=\"sk-toggleable__label fitted sk-toggleable__label-arrow fitted\">&nbsp;LinearRegression<a class=\"sk-estimator-doc-link fitted\" rel=\"noreferrer\" target=\"_blank\" href=\"https://scikit-learn.org/1.5/modules/generated/sklearn.linear_model.LinearRegression.html\">?<span>Documentation for LinearRegression</span></a></label><div class=\"sk-toggleable__content fitted\"><pre>LinearRegression()</pre></div> </div></div></div></div></div></div>"
      ],
      "text/plain": [
       "Pipeline(steps=[('preprocessor',\n",
       "                 ColumnTransformer(transformers=[('num',\n",
       "                                                  Pipeline(steps=[('scaler',\n",
       "                                                                   RobustScaler())]),\n",
       "                                                  ['house_age',\n",
       "                                                   'transaction_date',\n",
       "                                                   'number_of_convenience_stores',\n",
       "                                                   'longitude',\n",
       "                                                   'distance_to_the_nearest_mrt_station',\n",
       "                                                   'latitude'])])),\n",
       "                ('model', LinearRegression())])"
      ]
     },
     "execution_count": 287,
     "metadata": {},
     "output_type": "execute_result"
    }
   ],
   "source": [
    "baseline_trainer.fit(X_train, y_train)"
   ]
  },
  {
   "cell_type": "code",
   "execution_count": 288,
   "metadata": {},
   "outputs": [],
   "source": [
    "y_train_pred = baseline_trainer.predict(X_train)\n",
    "y_test_pred = baseline_trainer.predict(X_test)"
   ]
  },
  {
   "cell_type": "code",
   "execution_count": 289,
   "metadata": {},
   "outputs": [
    {
     "name": "stderr",
     "output_type": "stream",
     "text": [
      "/Users/s223171213/Documents/machine-learning-docs/.mld-venv/lib/python3.9/site-packages/sklearn/metrics/_regression.py:492: FutureWarning:\n",
      "\n",
      "'squared' is deprecated in version 1.4 and will be removed in 1.6. To calculate the root mean squared error, use the function'root_mean_squared_error'.\n",
      "\n",
      "/Users/s223171213/Documents/machine-learning-docs/.mld-venv/lib/python3.9/site-packages/sklearn/metrics/_regression.py:492: FutureWarning:\n",
      "\n",
      "'squared' is deprecated in version 1.4 and will be removed in 1.6. To calculate the root mean squared error, use the function'root_mean_squared_error'.\n",
      "\n"
     ]
    }
   ],
   "source": [
    "baseline_results = pd.DataFrame(\n",
    "    data ={\n",
    "        'train': {\n",
    "            'r2': r2_score(y_train, y_train_pred),\n",
    "            'mse': mean_squared_error(y_train, y_train_pred),\n",
    "            'mae': mean_absolute_error(y_train, y_train_pred),\n",
    "            'rmse': mean_squared_error(y_train, y_train_pred, squared=False)\n",
    "        },\n",
    "        'test': {\n",
    "            'r2': r2_score(y_test, y_test_pred),\n",
    "            'mse': mean_squared_error(y_test, y_test_pred),\n",
    "            'mae': mean_absolute_error(y_test, y_test_pred),\n",
    "            'rmse': mean_squared_error(y_test, y_test_pred, squared=False)\n",
    "        }\n",
    "    }\n",
    ")\n",
    "baseline_results = baseline_results.T.reset_index().rename(columns={'index': 'dataset'})"
   ]
  },
  {
   "cell_type": "code",
   "execution_count": 290,
   "metadata": {},
   "outputs": [
    {
     "data": {
      "text/html": [
       "<div>\n",
       "<style scoped>\n",
       "    .dataframe tbody tr th:only-of-type {\n",
       "        vertical-align: middle;\n",
       "    }\n",
       "\n",
       "    .dataframe tbody tr th {\n",
       "        vertical-align: top;\n",
       "    }\n",
       "\n",
       "    .dataframe thead th {\n",
       "        text-align: right;\n",
       "    }\n",
       "</style>\n",
       "<table border=\"1\" class=\"dataframe\">\n",
       "  <thead>\n",
       "    <tr style=\"text-align: right;\">\n",
       "      <th></th>\n",
       "      <th>dataset</th>\n",
       "      <th>r2</th>\n",
       "      <th>mse</th>\n",
       "      <th>mae</th>\n",
       "      <th>rmse</th>\n",
       "    </tr>\n",
       "  </thead>\n",
       "  <tbody>\n",
       "    <tr>\n",
       "      <th>0</th>\n",
       "      <td>train</td>\n",
       "      <td>0.553183</td>\n",
       "      <td>84.042017</td>\n",
       "      <td>6.360268</td>\n",
       "      <td>9.167443</td>\n",
       "    </tr>\n",
       "    <tr>\n",
       "      <th>1</th>\n",
       "      <td>test</td>\n",
       "      <td>0.695270</td>\n",
       "      <td>51.121348</td>\n",
       "      <td>5.133446</td>\n",
       "      <td>7.149919</td>\n",
       "    </tr>\n",
       "  </tbody>\n",
       "</table>\n",
       "</div>"
      ],
      "text/plain": [
       "  dataset        r2        mse       mae      rmse\n",
       "0   train  0.553183  84.042017  6.360268  9.167443\n",
       "1    test  0.695270  51.121348  5.133446  7.149919"
      ]
     },
     "execution_count": 290,
     "metadata": {},
     "output_type": "execute_result"
    }
   ],
   "source": [
    "baseline_results"
   ]
  },
  {
   "cell_type": "code",
   "execution_count": 291,
   "metadata": {},
   "outputs": [
    {
     "data": {
      "text/html": [
       "<div>\n",
       "<style scoped>\n",
       "    .dataframe tbody tr th:only-of-type {\n",
       "        vertical-align: middle;\n",
       "    }\n",
       "\n",
       "    .dataframe tbody tr th {\n",
       "        vertical-align: top;\n",
       "    }\n",
       "\n",
       "    .dataframe thead th {\n",
       "        text-align: right;\n",
       "    }\n",
       "</style>\n",
       "<table border=\"1\" class=\"dataframe\">\n",
       "  <thead>\n",
       "    <tr style=\"text-align: right;\">\n",
       "      <th></th>\n",
       "      <th>dataset</th>\n",
       "      <th>metric</th>\n",
       "      <th>score</th>\n",
       "    </tr>\n",
       "  </thead>\n",
       "  <tbody>\n",
       "    <tr>\n",
       "      <th>0</th>\n",
       "      <td>train</td>\n",
       "      <td>r2</td>\n",
       "      <td>0.553183</td>\n",
       "    </tr>\n",
       "    <tr>\n",
       "      <th>1</th>\n",
       "      <td>test</td>\n",
       "      <td>r2</td>\n",
       "      <td>0.695270</td>\n",
       "    </tr>\n",
       "    <tr>\n",
       "      <th>2</th>\n",
       "      <td>train</td>\n",
       "      <td>mse</td>\n",
       "      <td>84.042017</td>\n",
       "    </tr>\n",
       "    <tr>\n",
       "      <th>3</th>\n",
       "      <td>test</td>\n",
       "      <td>mse</td>\n",
       "      <td>51.121348</td>\n",
       "    </tr>\n",
       "    <tr>\n",
       "      <th>4</th>\n",
       "      <td>train</td>\n",
       "      <td>mae</td>\n",
       "      <td>6.360268</td>\n",
       "    </tr>\n",
       "    <tr>\n",
       "      <th>5</th>\n",
       "      <td>test</td>\n",
       "      <td>mae</td>\n",
       "      <td>5.133446</td>\n",
       "    </tr>\n",
       "    <tr>\n",
       "      <th>6</th>\n",
       "      <td>train</td>\n",
       "      <td>rmse</td>\n",
       "      <td>9.167443</td>\n",
       "    </tr>\n",
       "    <tr>\n",
       "      <th>7</th>\n",
       "      <td>test</td>\n",
       "      <td>rmse</td>\n",
       "      <td>7.149919</td>\n",
       "    </tr>\n",
       "  </tbody>\n",
       "</table>\n",
       "</div>"
      ],
      "text/plain": [
       "  dataset metric      score\n",
       "0   train     r2   0.553183\n",
       "1    test     r2   0.695270\n",
       "2   train    mse  84.042017\n",
       "3    test    mse  51.121348\n",
       "4   train    mae   6.360268\n",
       "5    test    mae   5.133446\n",
       "6   train   rmse   9.167443\n",
       "7    test   rmse   7.149919"
      ]
     },
     "execution_count": 291,
     "metadata": {},
     "output_type": "execute_result"
    }
   ],
   "source": [
    "melted_df = baseline_results.melt(id_vars='dataset', var_name='metric', value_name='score')\n",
    "melted_df"
   ]
  },
  {
   "cell_type": "code",
   "execution_count": 292,
   "metadata": {},
   "outputs": [
    {
     "data": {
      "application/vnd.plotly.v1+json": {
       "config": {
        "plotlyServerURL": "https://plot.ly"
       },
       "data": [
        {
         "alignmentgroup": "True",
         "hovertemplate": "dataset=train<br>score=%{x}<br>y=%{y}<extra></extra>",
         "legendgroup": "train",
         "marker": {
          "color": "#01295f",
          "pattern": {
           "shape": ""
          }
         },
         "name": "train",
         "offsetgroup": "train",
         "orientation": "h",
         "showlegend": true,
         "textposition": "auto",
         "type": "bar",
         "x": [
          0.5531830911778034,
          84.04201688790916,
          6.360268217174866,
          9.167443312500446
         ],
         "xaxis": "x",
         "y": [
          "R2",
          "MSE",
          "MAE",
          "RMSE"
         ],
         "yaxis": "y"
        },
        {
         "alignmentgroup": "True",
         "hovertemplate": "dataset=test<br>score=%{x}<br>y=%{y}<extra></extra>",
         "legendgroup": "test",
         "marker": {
          "color": "#1bb4fa",
          "pattern": {
           "shape": ""
          }
         },
         "name": "test",
         "offsetgroup": "test",
         "orientation": "h",
         "showlegend": true,
         "textposition": "auto",
         "type": "bar",
         "x": [
          0.6952704730978632,
          51.121347580879025,
          5.133446355383936,
          7.149919410796112
         ],
         "xaxis": "x",
         "y": [
          "R2",
          "MSE",
          "MAE",
          "RMSE"
         ],
         "yaxis": "y"
        }
       ],
       "layout": {
        "barmode": "group",
        "font": {
         "color": "black",
         "family": "Georgia",
         "size": 14
        },
        "height": 600,
        "legend": {
         "title": {
          "text": "Dataset"
         },
         "tracegroupgap": 0
        },
        "template": {
         "data": {
          "bar": [
           {
            "error_x": {
             "color": "#2a3f5f"
            },
            "error_y": {
             "color": "#2a3f5f"
            },
            "marker": {
             "line": {
              "color": "white",
              "width": 0.5
             },
             "pattern": {
              "fillmode": "overlay",
              "size": 10,
              "solidity": 0.2
             }
            },
            "type": "bar"
           }
          ],
          "barpolar": [
           {
            "marker": {
             "line": {
              "color": "white",
              "width": 0.5
             },
             "pattern": {
              "fillmode": "overlay",
              "size": 10,
              "solidity": 0.2
             }
            },
            "type": "barpolar"
           }
          ],
          "carpet": [
           {
            "aaxis": {
             "endlinecolor": "#2a3f5f",
             "gridcolor": "#C8D4E3",
             "linecolor": "#C8D4E3",
             "minorgridcolor": "#C8D4E3",
             "startlinecolor": "#2a3f5f"
            },
            "baxis": {
             "endlinecolor": "#2a3f5f",
             "gridcolor": "#C8D4E3",
             "linecolor": "#C8D4E3",
             "minorgridcolor": "#C8D4E3",
             "startlinecolor": "#2a3f5f"
            },
            "type": "carpet"
           }
          ],
          "choropleth": [
           {
            "colorbar": {
             "outlinewidth": 0,
             "ticks": ""
            },
            "type": "choropleth"
           }
          ],
          "contour": [
           {
            "colorbar": {
             "outlinewidth": 0,
             "ticks": ""
            },
            "colorscale": [
             [
              0,
              "#0d0887"
             ],
             [
              0.1111111111111111,
              "#46039f"
             ],
             [
              0.2222222222222222,
              "#7201a8"
             ],
             [
              0.3333333333333333,
              "#9c179e"
             ],
             [
              0.4444444444444444,
              "#bd3786"
             ],
             [
              0.5555555555555556,
              "#d8576b"
             ],
             [
              0.6666666666666666,
              "#ed7953"
             ],
             [
              0.7777777777777778,
              "#fb9f3a"
             ],
             [
              0.8888888888888888,
              "#fdca26"
             ],
             [
              1,
              "#f0f921"
             ]
            ],
            "type": "contour"
           }
          ],
          "contourcarpet": [
           {
            "colorbar": {
             "outlinewidth": 0,
             "ticks": ""
            },
            "type": "contourcarpet"
           }
          ],
          "heatmap": [
           {
            "colorbar": {
             "outlinewidth": 0,
             "ticks": ""
            },
            "colorscale": [
             [
              0,
              "#0d0887"
             ],
             [
              0.1111111111111111,
              "#46039f"
             ],
             [
              0.2222222222222222,
              "#7201a8"
             ],
             [
              0.3333333333333333,
              "#9c179e"
             ],
             [
              0.4444444444444444,
              "#bd3786"
             ],
             [
              0.5555555555555556,
              "#d8576b"
             ],
             [
              0.6666666666666666,
              "#ed7953"
             ],
             [
              0.7777777777777778,
              "#fb9f3a"
             ],
             [
              0.8888888888888888,
              "#fdca26"
             ],
             [
              1,
              "#f0f921"
             ]
            ],
            "type": "heatmap"
           }
          ],
          "heatmapgl": [
           {
            "colorbar": {
             "outlinewidth": 0,
             "ticks": ""
            },
            "colorscale": [
             [
              0,
              "#0d0887"
             ],
             [
              0.1111111111111111,
              "#46039f"
             ],
             [
              0.2222222222222222,
              "#7201a8"
             ],
             [
              0.3333333333333333,
              "#9c179e"
             ],
             [
              0.4444444444444444,
              "#bd3786"
             ],
             [
              0.5555555555555556,
              "#d8576b"
             ],
             [
              0.6666666666666666,
              "#ed7953"
             ],
             [
              0.7777777777777778,
              "#fb9f3a"
             ],
             [
              0.8888888888888888,
              "#fdca26"
             ],
             [
              1,
              "#f0f921"
             ]
            ],
            "type": "heatmapgl"
           }
          ],
          "histogram": [
           {
            "marker": {
             "pattern": {
              "fillmode": "overlay",
              "size": 10,
              "solidity": 0.2
             }
            },
            "type": "histogram"
           }
          ],
          "histogram2d": [
           {
            "colorbar": {
             "outlinewidth": 0,
             "ticks": ""
            },
            "colorscale": [
             [
              0,
              "#0d0887"
             ],
             [
              0.1111111111111111,
              "#46039f"
             ],
             [
              0.2222222222222222,
              "#7201a8"
             ],
             [
              0.3333333333333333,
              "#9c179e"
             ],
             [
              0.4444444444444444,
              "#bd3786"
             ],
             [
              0.5555555555555556,
              "#d8576b"
             ],
             [
              0.6666666666666666,
              "#ed7953"
             ],
             [
              0.7777777777777778,
              "#fb9f3a"
             ],
             [
              0.8888888888888888,
              "#fdca26"
             ],
             [
              1,
              "#f0f921"
             ]
            ],
            "type": "histogram2d"
           }
          ],
          "histogram2dcontour": [
           {
            "colorbar": {
             "outlinewidth": 0,
             "ticks": ""
            },
            "colorscale": [
             [
              0,
              "#0d0887"
             ],
             [
              0.1111111111111111,
              "#46039f"
             ],
             [
              0.2222222222222222,
              "#7201a8"
             ],
             [
              0.3333333333333333,
              "#9c179e"
             ],
             [
              0.4444444444444444,
              "#bd3786"
             ],
             [
              0.5555555555555556,
              "#d8576b"
             ],
             [
              0.6666666666666666,
              "#ed7953"
             ],
             [
              0.7777777777777778,
              "#fb9f3a"
             ],
             [
              0.8888888888888888,
              "#fdca26"
             ],
             [
              1,
              "#f0f921"
             ]
            ],
            "type": "histogram2dcontour"
           }
          ],
          "mesh3d": [
           {
            "colorbar": {
             "outlinewidth": 0,
             "ticks": ""
            },
            "type": "mesh3d"
           }
          ],
          "parcoords": [
           {
            "line": {
             "colorbar": {
              "outlinewidth": 0,
              "ticks": ""
             }
            },
            "type": "parcoords"
           }
          ],
          "pie": [
           {
            "automargin": true,
            "type": "pie"
           }
          ],
          "scatter": [
           {
            "fillpattern": {
             "fillmode": "overlay",
             "size": 10,
             "solidity": 0.2
            },
            "type": "scatter"
           }
          ],
          "scatter3d": [
           {
            "line": {
             "colorbar": {
              "outlinewidth": 0,
              "ticks": ""
             }
            },
            "marker": {
             "colorbar": {
              "outlinewidth": 0,
              "ticks": ""
             }
            },
            "type": "scatter3d"
           }
          ],
          "scattercarpet": [
           {
            "marker": {
             "colorbar": {
              "outlinewidth": 0,
              "ticks": ""
             }
            },
            "type": "scattercarpet"
           }
          ],
          "scattergeo": [
           {
            "marker": {
             "colorbar": {
              "outlinewidth": 0,
              "ticks": ""
             }
            },
            "type": "scattergeo"
           }
          ],
          "scattergl": [
           {
            "marker": {
             "colorbar": {
              "outlinewidth": 0,
              "ticks": ""
             }
            },
            "type": "scattergl"
           }
          ],
          "scattermapbox": [
           {
            "marker": {
             "colorbar": {
              "outlinewidth": 0,
              "ticks": ""
             }
            },
            "type": "scattermapbox"
           }
          ],
          "scatterpolar": [
           {
            "marker": {
             "colorbar": {
              "outlinewidth": 0,
              "ticks": ""
             }
            },
            "type": "scatterpolar"
           }
          ],
          "scatterpolargl": [
           {
            "marker": {
             "colorbar": {
              "outlinewidth": 0,
              "ticks": ""
             }
            },
            "type": "scatterpolargl"
           }
          ],
          "scatterternary": [
           {
            "marker": {
             "colorbar": {
              "outlinewidth": 0,
              "ticks": ""
             }
            },
            "type": "scatterternary"
           }
          ],
          "surface": [
           {
            "colorbar": {
             "outlinewidth": 0,
             "ticks": ""
            },
            "colorscale": [
             [
              0,
              "#0d0887"
             ],
             [
              0.1111111111111111,
              "#46039f"
             ],
             [
              0.2222222222222222,
              "#7201a8"
             ],
             [
              0.3333333333333333,
              "#9c179e"
             ],
             [
              0.4444444444444444,
              "#bd3786"
             ],
             [
              0.5555555555555556,
              "#d8576b"
             ],
             [
              0.6666666666666666,
              "#ed7953"
             ],
             [
              0.7777777777777778,
              "#fb9f3a"
             ],
             [
              0.8888888888888888,
              "#fdca26"
             ],
             [
              1,
              "#f0f921"
             ]
            ],
            "type": "surface"
           }
          ],
          "table": [
           {
            "cells": {
             "fill": {
              "color": "#EBF0F8"
             },
             "line": {
              "color": "white"
             }
            },
            "header": {
             "fill": {
              "color": "#C8D4E3"
             },
             "line": {
              "color": "white"
             }
            },
            "type": "table"
           }
          ]
         },
         "layout": {
          "annotationdefaults": {
           "arrowcolor": "#2a3f5f",
           "arrowhead": 0,
           "arrowwidth": 1
          },
          "autotypenumbers": "strict",
          "coloraxis": {
           "colorbar": {
            "outlinewidth": 0,
            "ticks": ""
           }
          },
          "colorscale": {
           "diverging": [
            [
             0,
             "#8e0152"
            ],
            [
             0.1,
             "#c51b7d"
            ],
            [
             0.2,
             "#de77ae"
            ],
            [
             0.3,
             "#f1b6da"
            ],
            [
             0.4,
             "#fde0ef"
            ],
            [
             0.5,
             "#f7f7f7"
            ],
            [
             0.6,
             "#e6f5d0"
            ],
            [
             0.7,
             "#b8e186"
            ],
            [
             0.8,
             "#7fbc41"
            ],
            [
             0.9,
             "#4d9221"
            ],
            [
             1,
             "#276419"
            ]
           ],
           "sequential": [
            [
             0,
             "#0d0887"
            ],
            [
             0.1111111111111111,
             "#46039f"
            ],
            [
             0.2222222222222222,
             "#7201a8"
            ],
            [
             0.3333333333333333,
             "#9c179e"
            ],
            [
             0.4444444444444444,
             "#bd3786"
            ],
            [
             0.5555555555555556,
             "#d8576b"
            ],
            [
             0.6666666666666666,
             "#ed7953"
            ],
            [
             0.7777777777777778,
             "#fb9f3a"
            ],
            [
             0.8888888888888888,
             "#fdca26"
            ],
            [
             1,
             "#f0f921"
            ]
           ],
           "sequentialminus": [
            [
             0,
             "#0d0887"
            ],
            [
             0.1111111111111111,
             "#46039f"
            ],
            [
             0.2222222222222222,
             "#7201a8"
            ],
            [
             0.3333333333333333,
             "#9c179e"
            ],
            [
             0.4444444444444444,
             "#bd3786"
            ],
            [
             0.5555555555555556,
             "#d8576b"
            ],
            [
             0.6666666666666666,
             "#ed7953"
            ],
            [
             0.7777777777777778,
             "#fb9f3a"
            ],
            [
             0.8888888888888888,
             "#fdca26"
            ],
            [
             1,
             "#f0f921"
            ]
           ]
          },
          "colorway": [
           "#636efa",
           "#EF553B",
           "#00cc96",
           "#ab63fa",
           "#FFA15A",
           "#19d3f3",
           "#FF6692",
           "#B6E880",
           "#FF97FF",
           "#FECB52"
          ],
          "font": {
           "color": "#2a3f5f"
          },
          "geo": {
           "bgcolor": "white",
           "lakecolor": "white",
           "landcolor": "white",
           "showlakes": true,
           "showland": true,
           "subunitcolor": "#C8D4E3"
          },
          "hoverlabel": {
           "align": "left"
          },
          "hovermode": "closest",
          "mapbox": {
           "style": "light"
          },
          "paper_bgcolor": "white",
          "plot_bgcolor": "white",
          "polar": {
           "angularaxis": {
            "gridcolor": "#EBF0F8",
            "linecolor": "#EBF0F8",
            "ticks": ""
           },
           "bgcolor": "white",
           "radialaxis": {
            "gridcolor": "#EBF0F8",
            "linecolor": "#EBF0F8",
            "ticks": ""
           }
          },
          "scene": {
           "xaxis": {
            "backgroundcolor": "white",
            "gridcolor": "#DFE8F3",
            "gridwidth": 2,
            "linecolor": "#EBF0F8",
            "showbackground": true,
            "ticks": "",
            "zerolinecolor": "#EBF0F8"
           },
           "yaxis": {
            "backgroundcolor": "white",
            "gridcolor": "#DFE8F3",
            "gridwidth": 2,
            "linecolor": "#EBF0F8",
            "showbackground": true,
            "ticks": "",
            "zerolinecolor": "#EBF0F8"
           },
           "zaxis": {
            "backgroundcolor": "white",
            "gridcolor": "#DFE8F3",
            "gridwidth": 2,
            "linecolor": "#EBF0F8",
            "showbackground": true,
            "ticks": "",
            "zerolinecolor": "#EBF0F8"
           }
          },
          "shapedefaults": {
           "line": {
            "color": "#2a3f5f"
           }
          },
          "ternary": {
           "aaxis": {
            "gridcolor": "#DFE8F3",
            "linecolor": "#A2B1C6",
            "ticks": ""
           },
           "baxis": {
            "gridcolor": "#DFE8F3",
            "linecolor": "#A2B1C6",
            "ticks": ""
           },
           "bgcolor": "white",
           "caxis": {
            "gridcolor": "#DFE8F3",
            "linecolor": "#A2B1C6",
            "ticks": ""
           }
          },
          "title": {
           "x": 0.05
          },
          "xaxis": {
           "automargin": true,
           "gridcolor": "#EBF0F8",
           "linecolor": "#EBF0F8",
           "ticks": "",
           "title": {
            "standoff": 15
           },
           "zerolinecolor": "#EBF0F8",
           "zerolinewidth": 2
          },
          "yaxis": {
           "automargin": true,
           "gridcolor": "#EBF0F8",
           "linecolor": "#EBF0F8",
           "ticks": "",
           "title": {
            "standoff": 15
           },
           "zerolinecolor": "#EBF0F8",
           "zerolinewidth": 2
          }
         }
        },
        "title": {
         "text": "Baseline Model Performance"
        },
        "width": 1200,
        "xaxis": {
         "anchor": "y",
         "domain": [
          0,
          1
         ],
         "title": {
          "text": "Score"
         }
        },
        "yaxis": {
         "anchor": "x",
         "domain": [
          0,
          1
         ],
         "title": {
          "text": "Metric"
         }
        }
       }
      }
     },
     "metadata": {},
     "output_type": "display_data"
    }
   ],
   "source": [
    "baseline_pfm_fig = px.bar(\n",
    "    melted_df,\n",
    "    y=melted_df[\"metric\"].apply(lambda x: x.upper()),\n",
    "    x=\"score\",\n",
    "    color=\"dataset\",\n",
    "    barmode=\"group\",\n",
    "    color_discrete_map={\"train\": colors[3], \"test\": colors[4]},\n",
    "    title=\"Baseline Model Performance\",\n",
    ")\n",
    "baseline_pfm_fig.update_layout(\n",
    "    template=\"plotly_white\",\n",
    "    xaxis_title=\"Score\",\n",
    "    yaxis_title=\"Metric\",\n",
    "    legend_title=\"Dataset\",\n",
    "    font=dict(family=\"Georgia\", size=14, color=\"black\"),\n",
    "    width=1200,\n",
    "    height=600,\n",
    ")"
   ]
  },
  {
   "cell_type": "code",
   "execution_count": 293,
   "metadata": {},
   "outputs": [
    {
     "data": {
      "text/html": [
       "<div>\n",
       "<style scoped>\n",
       "    .dataframe tbody tr th:only-of-type {\n",
       "        vertical-align: middle;\n",
       "    }\n",
       "\n",
       "    .dataframe tbody tr th {\n",
       "        vertical-align: top;\n",
       "    }\n",
       "\n",
       "    .dataframe thead th {\n",
       "        text-align: right;\n",
       "    }\n",
       "</style>\n",
       "<table border=\"1\" class=\"dataframe\">\n",
       "  <thead>\n",
       "    <tr style=\"text-align: right;\">\n",
       "      <th></th>\n",
       "      <th>transaction_date</th>\n",
       "      <th>house_age</th>\n",
       "      <th>distance_to_the_nearest_mrt_station</th>\n",
       "      <th>number_of_convenience_stores</th>\n",
       "      <th>latitude</th>\n",
       "      <th>longitude</th>\n",
       "    </tr>\n",
       "  </thead>\n",
       "  <tbody>\n",
       "    <tr>\n",
       "      <th>0</th>\n",
       "      <td>2012</td>\n",
       "      <td>32.0</td>\n",
       "      <td>84.87882</td>\n",
       "      <td>10</td>\n",
       "      <td>24.98298</td>\n",
       "      <td>121.54024</td>\n",
       "    </tr>\n",
       "    <tr>\n",
       "      <th>1</th>\n",
       "      <td>2012</td>\n",
       "      <td>19.5</td>\n",
       "      <td>306.59470</td>\n",
       "      <td>9</td>\n",
       "      <td>24.98034</td>\n",
       "      <td>121.53951</td>\n",
       "    </tr>\n",
       "    <tr>\n",
       "      <th>2</th>\n",
       "      <td>2013</td>\n",
       "      <td>13.3</td>\n",
       "      <td>561.98450</td>\n",
       "      <td>5</td>\n",
       "      <td>24.98746</td>\n",
       "      <td>121.54391</td>\n",
       "    </tr>\n",
       "    <tr>\n",
       "      <th>3</th>\n",
       "      <td>2013</td>\n",
       "      <td>13.3</td>\n",
       "      <td>561.98450</td>\n",
       "      <td>5</td>\n",
       "      <td>24.98746</td>\n",
       "      <td>121.54391</td>\n",
       "    </tr>\n",
       "    <tr>\n",
       "      <th>4</th>\n",
       "      <td>2012</td>\n",
       "      <td>5.0</td>\n",
       "      <td>390.56840</td>\n",
       "      <td>5</td>\n",
       "      <td>24.97937</td>\n",
       "      <td>121.54245</td>\n",
       "    </tr>\n",
       "    <tr>\n",
       "      <th>...</th>\n",
       "      <td>...</td>\n",
       "      <td>...</td>\n",
       "      <td>...</td>\n",
       "      <td>...</td>\n",
       "      <td>...</td>\n",
       "      <td>...</td>\n",
       "    </tr>\n",
       "    <tr>\n",
       "      <th>409</th>\n",
       "      <td>2013</td>\n",
       "      <td>13.7</td>\n",
       "      <td>4082.01500</td>\n",
       "      <td>0</td>\n",
       "      <td>24.94155</td>\n",
       "      <td>121.50381</td>\n",
       "    </tr>\n",
       "    <tr>\n",
       "      <th>410</th>\n",
       "      <td>2012</td>\n",
       "      <td>5.6</td>\n",
       "      <td>90.45606</td>\n",
       "      <td>9</td>\n",
       "      <td>24.97433</td>\n",
       "      <td>121.54310</td>\n",
       "    </tr>\n",
       "    <tr>\n",
       "      <th>411</th>\n",
       "      <td>2013</td>\n",
       "      <td>18.8</td>\n",
       "      <td>390.96960</td>\n",
       "      <td>7</td>\n",
       "      <td>24.97923</td>\n",
       "      <td>121.53986</td>\n",
       "    </tr>\n",
       "    <tr>\n",
       "      <th>412</th>\n",
       "      <td>2013</td>\n",
       "      <td>8.1</td>\n",
       "      <td>104.81010</td>\n",
       "      <td>5</td>\n",
       "      <td>24.96674</td>\n",
       "      <td>121.54067</td>\n",
       "    </tr>\n",
       "    <tr>\n",
       "      <th>413</th>\n",
       "      <td>2013</td>\n",
       "      <td>6.5</td>\n",
       "      <td>90.45606</td>\n",
       "      <td>9</td>\n",
       "      <td>24.97433</td>\n",
       "      <td>121.54310</td>\n",
       "    </tr>\n",
       "  </tbody>\n",
       "</table>\n",
       "<p>414 rows × 6 columns</p>\n",
       "</div>"
      ],
      "text/plain": [
       "     transaction_date  house_age  distance_to_the_nearest_mrt_station  \\\n",
       "0                2012       32.0                             84.87882   \n",
       "1                2012       19.5                            306.59470   \n",
       "2                2013       13.3                            561.98450   \n",
       "3                2013       13.3                            561.98450   \n",
       "4                2012        5.0                            390.56840   \n",
       "..                ...        ...                                  ...   \n",
       "409              2013       13.7                           4082.01500   \n",
       "410              2012        5.6                             90.45606   \n",
       "411              2013       18.8                            390.96960   \n",
       "412              2013        8.1                            104.81010   \n",
       "413              2013        6.5                             90.45606   \n",
       "\n",
       "     number_of_convenience_stores  latitude  longitude  \n",
       "0                              10  24.98298  121.54024  \n",
       "1                               9  24.98034  121.53951  \n",
       "2                               5  24.98746  121.54391  \n",
       "3                               5  24.98746  121.54391  \n",
       "4                               5  24.97937  121.54245  \n",
       "..                            ...       ...        ...  \n",
       "409                             0  24.94155  121.50381  \n",
       "410                             9  24.97433  121.54310  \n",
       "411                             7  24.97923  121.53986  \n",
       "412                             5  24.96674  121.54067  \n",
       "413                             9  24.97433  121.54310  \n",
       "\n",
       "[414 rows x 6 columns]"
      ]
     },
     "execution_count": 293,
     "metadata": {},
     "output_type": "execute_result"
    }
   ],
   "source": [
    "df.drop(columns=metadata['tgt'])"
   ]
  },
  {
   "cell_type": "code",
   "execution_count": 294,
   "metadata": {},
   "outputs": [
    {
     "data": {
      "text/html": [
       "<div>\n",
       "<style scoped>\n",
       "    .dataframe tbody tr th:only-of-type {\n",
       "        vertical-align: middle;\n",
       "    }\n",
       "\n",
       "    .dataframe tbody tr th {\n",
       "        vertical-align: top;\n",
       "    }\n",
       "\n",
       "    .dataframe thead th {\n",
       "        text-align: right;\n",
       "    }\n",
       "</style>\n",
       "<table border=\"1\" class=\"dataframe\">\n",
       "  <thead>\n",
       "    <tr style=\"text-align: right;\">\n",
       "      <th></th>\n",
       "      <th>pca0</th>\n",
       "      <th>pca1</th>\n",
       "      <th>pca2</th>\n",
       "    </tr>\n",
       "  </thead>\n",
       "  <tbody>\n",
       "    <tr>\n",
       "      <th>0</th>\n",
       "      <td>-999.010859</td>\n",
       "      <td>14.593938</td>\n",
       "      <td>4.245091</td>\n",
       "    </tr>\n",
       "    <tr>\n",
       "      <th>1</th>\n",
       "      <td>-777.296689</td>\n",
       "      <td>2.032526</td>\n",
       "      <td>3.777447</td>\n",
       "    </tr>\n",
       "    <tr>\n",
       "      <th>2</th>\n",
       "      <td>-521.902952</td>\n",
       "      <td>-4.287548</td>\n",
       "      <td>0.247361</td>\n",
       "    </tr>\n",
       "    <tr>\n",
       "      <th>3</th>\n",
       "      <td>-521.902952</td>\n",
       "      <td>-4.287548</td>\n",
       "      <td>0.247361</td>\n",
       "    </tr>\n",
       "    <tr>\n",
       "      <th>4</th>\n",
       "      <td>-693.320803</td>\n",
       "      <td>-12.552818</td>\n",
       "      <td>0.151182</td>\n",
       "    </tr>\n",
       "    <tr>\n",
       "      <th>...</th>\n",
       "      <td>...</td>\n",
       "      <td>...</td>\n",
       "      <td>...</td>\n",
       "    </tr>\n",
       "    <tr>\n",
       "      <th>409</th>\n",
       "      <td>2998.131098</td>\n",
       "      <td>-4.702575</td>\n",
       "      <td>0.204449</td>\n",
       "    </tr>\n",
       "    <tr>\n",
       "      <th>410</th>\n",
       "      <td>-993.438324</td>\n",
       "      <td>-11.820655</td>\n",
       "      <td>3.716850</td>\n",
       "    </tr>\n",
       "    <tr>\n",
       "      <th>411</th>\n",
       "      <td>-692.919218</td>\n",
       "      <td>1.282050</td>\n",
       "      <td>1.909296</td>\n",
       "    </tr>\n",
       "    <tr>\n",
       "      <th>412</th>\n",
       "      <td>-979.078090</td>\n",
       "      <td>-9.392298</td>\n",
       "      <td>-0.305936</td>\n",
       "    </tr>\n",
       "    <tr>\n",
       "      <th>413</th>\n",
       "      <td>-993.438110</td>\n",
       "      <td>-10.918820</td>\n",
       "      <td>3.701311</td>\n",
       "    </tr>\n",
       "  </tbody>\n",
       "</table>\n",
       "<p>414 rows × 3 columns</p>\n",
       "</div>"
      ],
      "text/plain": [
       "            pca0       pca1      pca2\n",
       "0    -999.010859  14.593938  4.245091\n",
       "1    -777.296689   2.032526  3.777447\n",
       "2    -521.902952  -4.287548  0.247361\n",
       "3    -521.902952  -4.287548  0.247361\n",
       "4    -693.320803 -12.552818  0.151182\n",
       "..           ...        ...       ...\n",
       "409  2998.131098  -4.702575  0.204449\n",
       "410  -993.438324 -11.820655  3.716850\n",
       "411  -692.919218   1.282050  1.909296\n",
       "412  -979.078090  -9.392298 -0.305936\n",
       "413  -993.438110 -10.918820  3.701311\n",
       "\n",
       "[414 rows x 3 columns]"
      ]
     },
     "execution_count": 294,
     "metadata": {},
     "output_type": "execute_result"
    }
   ],
   "source": [
    "dim_reducer = PCA(n_components=3)\n",
    "pca_df = pd.DataFrame(\n",
    "    data=dim_reducer.fit_transform(df.drop(columns=metadata['tgt'])),\n",
    "    columns=dim_reducer.get_feature_names_out()\n",
    ")\n",
    "pca_df"
   ]
  },
  {
   "cell_type": "code",
   "execution_count": 295,
   "metadata": {},
   "outputs": [],
   "source": [
    "X_pca_train, X_pca_test, y_pca_train, y_pca_test = train_test_split(\n",
    "    pca_df,\n",
    "    df[list(metadata['tgt'])],\n",
    "    test_size=0.2,\n",
    "    random_state=42,\n",
    "    shuffle=True\n",
    ")"
   ]
  },
  {
   "cell_type": "code",
   "execution_count": 296,
   "metadata": {},
   "outputs": [
    {
     "name": "stdout",
     "output_type": "stream",
     "text": [
      "Training data shape: (331, 3) (331, 1) \n",
      "Testing data shape: (83, 3) (83, 1)\n"
     ]
    }
   ],
   "source": [
    "print(\n",
    "    'Training data shape:', X_pca_train.shape, y_pca_train.shape,\n",
    "    '\\nTesting data shape:', X_pca_test.shape, y_pca_test.shape\n",
    ")"
   ]
  },
  {
   "cell_type": "code",
   "execution_count": 297,
   "metadata": {},
   "outputs": [
    {
     "data": {
      "text/html": [
       "<style>#sk-container-id-23 {\n",
       "  /* Definition of color scheme common for light and dark mode */\n",
       "  --sklearn-color-text: black;\n",
       "  --sklearn-color-line: gray;\n",
       "  /* Definition of color scheme for unfitted estimators */\n",
       "  --sklearn-color-unfitted-level-0: #fff5e6;\n",
       "  --sklearn-color-unfitted-level-1: #f6e4d2;\n",
       "  --sklearn-color-unfitted-level-2: #ffe0b3;\n",
       "  --sklearn-color-unfitted-level-3: chocolate;\n",
       "  /* Definition of color scheme for fitted estimators */\n",
       "  --sklearn-color-fitted-level-0: #f0f8ff;\n",
       "  --sklearn-color-fitted-level-1: #d4ebff;\n",
       "  --sklearn-color-fitted-level-2: #b3dbfd;\n",
       "  --sklearn-color-fitted-level-3: cornflowerblue;\n",
       "\n",
       "  /* Specific color for light theme */\n",
       "  --sklearn-color-text-on-default-background: var(--sg-text-color, var(--theme-code-foreground, var(--jp-content-font-color1, black)));\n",
       "  --sklearn-color-background: var(--sg-background-color, var(--theme-background, var(--jp-layout-color0, white)));\n",
       "  --sklearn-color-border-box: var(--sg-text-color, var(--theme-code-foreground, var(--jp-content-font-color1, black)));\n",
       "  --sklearn-color-icon: #696969;\n",
       "\n",
       "  @media (prefers-color-scheme: dark) {\n",
       "    /* Redefinition of color scheme for dark theme */\n",
       "    --sklearn-color-text-on-default-background: var(--sg-text-color, var(--theme-code-foreground, var(--jp-content-font-color1, white)));\n",
       "    --sklearn-color-background: var(--sg-background-color, var(--theme-background, var(--jp-layout-color0, #111)));\n",
       "    --sklearn-color-border-box: var(--sg-text-color, var(--theme-code-foreground, var(--jp-content-font-color1, white)));\n",
       "    --sklearn-color-icon: #878787;\n",
       "  }\n",
       "}\n",
       "\n",
       "#sk-container-id-23 {\n",
       "  color: var(--sklearn-color-text);\n",
       "}\n",
       "\n",
       "#sk-container-id-23 pre {\n",
       "  padding: 0;\n",
       "}\n",
       "\n",
       "#sk-container-id-23 input.sk-hidden--visually {\n",
       "  border: 0;\n",
       "  clip: rect(1px 1px 1px 1px);\n",
       "  clip: rect(1px, 1px, 1px, 1px);\n",
       "  height: 1px;\n",
       "  margin: -1px;\n",
       "  overflow: hidden;\n",
       "  padding: 0;\n",
       "  position: absolute;\n",
       "  width: 1px;\n",
       "}\n",
       "\n",
       "#sk-container-id-23 div.sk-dashed-wrapped {\n",
       "  border: 1px dashed var(--sklearn-color-line);\n",
       "  margin: 0 0.4em 0.5em 0.4em;\n",
       "  box-sizing: border-box;\n",
       "  padding-bottom: 0.4em;\n",
       "  background-color: var(--sklearn-color-background);\n",
       "}\n",
       "\n",
       "#sk-container-id-23 div.sk-container {\n",
       "  /* jupyter's `normalize.less` sets `[hidden] { display: none; }`\n",
       "     but bootstrap.min.css set `[hidden] { display: none !important; }`\n",
       "     so we also need the `!important` here to be able to override the\n",
       "     default hidden behavior on the sphinx rendered scikit-learn.org.\n",
       "     See: https://github.com/scikit-learn/scikit-learn/issues/21755 */\n",
       "  display: inline-block !important;\n",
       "  position: relative;\n",
       "}\n",
       "\n",
       "#sk-container-id-23 div.sk-text-repr-fallback {\n",
       "  display: none;\n",
       "}\n",
       "\n",
       "div.sk-parallel-item,\n",
       "div.sk-serial,\n",
       "div.sk-item {\n",
       "  /* draw centered vertical line to link estimators */\n",
       "  background-image: linear-gradient(var(--sklearn-color-text-on-default-background), var(--sklearn-color-text-on-default-background));\n",
       "  background-size: 2px 100%;\n",
       "  background-repeat: no-repeat;\n",
       "  background-position: center center;\n",
       "}\n",
       "\n",
       "/* Parallel-specific style estimator block */\n",
       "\n",
       "#sk-container-id-23 div.sk-parallel-item::after {\n",
       "  content: \"\";\n",
       "  width: 100%;\n",
       "  border-bottom: 2px solid var(--sklearn-color-text-on-default-background);\n",
       "  flex-grow: 1;\n",
       "}\n",
       "\n",
       "#sk-container-id-23 div.sk-parallel {\n",
       "  display: flex;\n",
       "  align-items: stretch;\n",
       "  justify-content: center;\n",
       "  background-color: var(--sklearn-color-background);\n",
       "  position: relative;\n",
       "}\n",
       "\n",
       "#sk-container-id-23 div.sk-parallel-item {\n",
       "  display: flex;\n",
       "  flex-direction: column;\n",
       "}\n",
       "\n",
       "#sk-container-id-23 div.sk-parallel-item:first-child::after {\n",
       "  align-self: flex-end;\n",
       "  width: 50%;\n",
       "}\n",
       "\n",
       "#sk-container-id-23 div.sk-parallel-item:last-child::after {\n",
       "  align-self: flex-start;\n",
       "  width: 50%;\n",
       "}\n",
       "\n",
       "#sk-container-id-23 div.sk-parallel-item:only-child::after {\n",
       "  width: 0;\n",
       "}\n",
       "\n",
       "/* Serial-specific style estimator block */\n",
       "\n",
       "#sk-container-id-23 div.sk-serial {\n",
       "  display: flex;\n",
       "  flex-direction: column;\n",
       "  align-items: center;\n",
       "  background-color: var(--sklearn-color-background);\n",
       "  padding-right: 1em;\n",
       "  padding-left: 1em;\n",
       "}\n",
       "\n",
       "\n",
       "/* Toggleable style: style used for estimator/Pipeline/ColumnTransformer box that is\n",
       "clickable and can be expanded/collapsed.\n",
       "- Pipeline and ColumnTransformer use this feature and define the default style\n",
       "- Estimators will overwrite some part of the style using the `sk-estimator` class\n",
       "*/\n",
       "\n",
       "/* Pipeline and ColumnTransformer style (default) */\n",
       "\n",
       "#sk-container-id-23 div.sk-toggleable {\n",
       "  /* Default theme specific background. It is overwritten whether we have a\n",
       "  specific estimator or a Pipeline/ColumnTransformer */\n",
       "  background-color: var(--sklearn-color-background);\n",
       "}\n",
       "\n",
       "/* Toggleable label */\n",
       "#sk-container-id-23 label.sk-toggleable__label {\n",
       "  cursor: pointer;\n",
       "  display: block;\n",
       "  width: 100%;\n",
       "  margin-bottom: 0;\n",
       "  padding: 0.5em;\n",
       "  box-sizing: border-box;\n",
       "  text-align: center;\n",
       "}\n",
       "\n",
       "#sk-container-id-23 label.sk-toggleable__label-arrow:before {\n",
       "  /* Arrow on the left of the label */\n",
       "  content: \"▸\";\n",
       "  float: left;\n",
       "  margin-right: 0.25em;\n",
       "  color: var(--sklearn-color-icon);\n",
       "}\n",
       "\n",
       "#sk-container-id-23 label.sk-toggleable__label-arrow:hover:before {\n",
       "  color: var(--sklearn-color-text);\n",
       "}\n",
       "\n",
       "/* Toggleable content - dropdown */\n",
       "\n",
       "#sk-container-id-23 div.sk-toggleable__content {\n",
       "  max-height: 0;\n",
       "  max-width: 0;\n",
       "  overflow: hidden;\n",
       "  text-align: left;\n",
       "  /* unfitted */\n",
       "  background-color: var(--sklearn-color-unfitted-level-0);\n",
       "}\n",
       "\n",
       "#sk-container-id-23 div.sk-toggleable__content.fitted {\n",
       "  /* fitted */\n",
       "  background-color: var(--sklearn-color-fitted-level-0);\n",
       "}\n",
       "\n",
       "#sk-container-id-23 div.sk-toggleable__content pre {\n",
       "  margin: 0.2em;\n",
       "  border-radius: 0.25em;\n",
       "  color: var(--sklearn-color-text);\n",
       "  /* unfitted */\n",
       "  background-color: var(--sklearn-color-unfitted-level-0);\n",
       "}\n",
       "\n",
       "#sk-container-id-23 div.sk-toggleable__content.fitted pre {\n",
       "  /* unfitted */\n",
       "  background-color: var(--sklearn-color-fitted-level-0);\n",
       "}\n",
       "\n",
       "#sk-container-id-23 input.sk-toggleable__control:checked~div.sk-toggleable__content {\n",
       "  /* Expand drop-down */\n",
       "  max-height: 200px;\n",
       "  max-width: 100%;\n",
       "  overflow: auto;\n",
       "}\n",
       "\n",
       "#sk-container-id-23 input.sk-toggleable__control:checked~label.sk-toggleable__label-arrow:before {\n",
       "  content: \"▾\";\n",
       "}\n",
       "\n",
       "/* Pipeline/ColumnTransformer-specific style */\n",
       "\n",
       "#sk-container-id-23 div.sk-label input.sk-toggleable__control:checked~label.sk-toggleable__label {\n",
       "  color: var(--sklearn-color-text);\n",
       "  background-color: var(--sklearn-color-unfitted-level-2);\n",
       "}\n",
       "\n",
       "#sk-container-id-23 div.sk-label.fitted input.sk-toggleable__control:checked~label.sk-toggleable__label {\n",
       "  background-color: var(--sklearn-color-fitted-level-2);\n",
       "}\n",
       "\n",
       "/* Estimator-specific style */\n",
       "\n",
       "/* Colorize estimator box */\n",
       "#sk-container-id-23 div.sk-estimator input.sk-toggleable__control:checked~label.sk-toggleable__label {\n",
       "  /* unfitted */\n",
       "  background-color: var(--sklearn-color-unfitted-level-2);\n",
       "}\n",
       "\n",
       "#sk-container-id-23 div.sk-estimator.fitted input.sk-toggleable__control:checked~label.sk-toggleable__label {\n",
       "  /* fitted */\n",
       "  background-color: var(--sklearn-color-fitted-level-2);\n",
       "}\n",
       "\n",
       "#sk-container-id-23 div.sk-label label.sk-toggleable__label,\n",
       "#sk-container-id-23 div.sk-label label {\n",
       "  /* The background is the default theme color */\n",
       "  color: var(--sklearn-color-text-on-default-background);\n",
       "}\n",
       "\n",
       "/* On hover, darken the color of the background */\n",
       "#sk-container-id-23 div.sk-label:hover label.sk-toggleable__label {\n",
       "  color: var(--sklearn-color-text);\n",
       "  background-color: var(--sklearn-color-unfitted-level-2);\n",
       "}\n",
       "\n",
       "/* Label box, darken color on hover, fitted */\n",
       "#sk-container-id-23 div.sk-label.fitted:hover label.sk-toggleable__label.fitted {\n",
       "  color: var(--sklearn-color-text);\n",
       "  background-color: var(--sklearn-color-fitted-level-2);\n",
       "}\n",
       "\n",
       "/* Estimator label */\n",
       "\n",
       "#sk-container-id-23 div.sk-label label {\n",
       "  font-family: monospace;\n",
       "  font-weight: bold;\n",
       "  display: inline-block;\n",
       "  line-height: 1.2em;\n",
       "}\n",
       "\n",
       "#sk-container-id-23 div.sk-label-container {\n",
       "  text-align: center;\n",
       "}\n",
       "\n",
       "/* Estimator-specific */\n",
       "#sk-container-id-23 div.sk-estimator {\n",
       "  font-family: monospace;\n",
       "  border: 1px dotted var(--sklearn-color-border-box);\n",
       "  border-radius: 0.25em;\n",
       "  box-sizing: border-box;\n",
       "  margin-bottom: 0.5em;\n",
       "  /* unfitted */\n",
       "  background-color: var(--sklearn-color-unfitted-level-0);\n",
       "}\n",
       "\n",
       "#sk-container-id-23 div.sk-estimator.fitted {\n",
       "  /* fitted */\n",
       "  background-color: var(--sklearn-color-fitted-level-0);\n",
       "}\n",
       "\n",
       "/* on hover */\n",
       "#sk-container-id-23 div.sk-estimator:hover {\n",
       "  /* unfitted */\n",
       "  background-color: var(--sklearn-color-unfitted-level-2);\n",
       "}\n",
       "\n",
       "#sk-container-id-23 div.sk-estimator.fitted:hover {\n",
       "  /* fitted */\n",
       "  background-color: var(--sklearn-color-fitted-level-2);\n",
       "}\n",
       "\n",
       "/* Specification for estimator info (e.g. \"i\" and \"?\") */\n",
       "\n",
       "/* Common style for \"i\" and \"?\" */\n",
       "\n",
       ".sk-estimator-doc-link,\n",
       "a:link.sk-estimator-doc-link,\n",
       "a:visited.sk-estimator-doc-link {\n",
       "  float: right;\n",
       "  font-size: smaller;\n",
       "  line-height: 1em;\n",
       "  font-family: monospace;\n",
       "  background-color: var(--sklearn-color-background);\n",
       "  border-radius: 1em;\n",
       "  height: 1em;\n",
       "  width: 1em;\n",
       "  text-decoration: none !important;\n",
       "  margin-left: 1ex;\n",
       "  /* unfitted */\n",
       "  border: var(--sklearn-color-unfitted-level-1) 1pt solid;\n",
       "  color: var(--sklearn-color-unfitted-level-1);\n",
       "}\n",
       "\n",
       ".sk-estimator-doc-link.fitted,\n",
       "a:link.sk-estimator-doc-link.fitted,\n",
       "a:visited.sk-estimator-doc-link.fitted {\n",
       "  /* fitted */\n",
       "  border: var(--sklearn-color-fitted-level-1) 1pt solid;\n",
       "  color: var(--sklearn-color-fitted-level-1);\n",
       "}\n",
       "\n",
       "/* On hover */\n",
       "div.sk-estimator:hover .sk-estimator-doc-link:hover,\n",
       ".sk-estimator-doc-link:hover,\n",
       "div.sk-label-container:hover .sk-estimator-doc-link:hover,\n",
       ".sk-estimator-doc-link:hover {\n",
       "  /* unfitted */\n",
       "  background-color: var(--sklearn-color-unfitted-level-3);\n",
       "  color: var(--sklearn-color-background);\n",
       "  text-decoration: none;\n",
       "}\n",
       "\n",
       "div.sk-estimator.fitted:hover .sk-estimator-doc-link.fitted:hover,\n",
       ".sk-estimator-doc-link.fitted:hover,\n",
       "div.sk-label-container:hover .sk-estimator-doc-link.fitted:hover,\n",
       ".sk-estimator-doc-link.fitted:hover {\n",
       "  /* fitted */\n",
       "  background-color: var(--sklearn-color-fitted-level-3);\n",
       "  color: var(--sklearn-color-background);\n",
       "  text-decoration: none;\n",
       "}\n",
       "\n",
       "/* Span, style for the box shown on hovering the info icon */\n",
       ".sk-estimator-doc-link span {\n",
       "  display: none;\n",
       "  z-index: 9999;\n",
       "  position: relative;\n",
       "  font-weight: normal;\n",
       "  right: .2ex;\n",
       "  padding: .5ex;\n",
       "  margin: .5ex;\n",
       "  width: min-content;\n",
       "  min-width: 20ex;\n",
       "  max-width: 50ex;\n",
       "  color: var(--sklearn-color-text);\n",
       "  box-shadow: 2pt 2pt 4pt #999;\n",
       "  /* unfitted */\n",
       "  background: var(--sklearn-color-unfitted-level-0);\n",
       "  border: .5pt solid var(--sklearn-color-unfitted-level-3);\n",
       "}\n",
       "\n",
       ".sk-estimator-doc-link.fitted span {\n",
       "  /* fitted */\n",
       "  background: var(--sklearn-color-fitted-level-0);\n",
       "  border: var(--sklearn-color-fitted-level-3);\n",
       "}\n",
       "\n",
       ".sk-estimator-doc-link:hover span {\n",
       "  display: block;\n",
       "}\n",
       "\n",
       "/* \"?\"-specific style due to the `<a>` HTML tag */\n",
       "\n",
       "#sk-container-id-23 a.estimator_doc_link {\n",
       "  float: right;\n",
       "  font-size: 1rem;\n",
       "  line-height: 1em;\n",
       "  font-family: monospace;\n",
       "  background-color: var(--sklearn-color-background);\n",
       "  border-radius: 1rem;\n",
       "  height: 1rem;\n",
       "  width: 1rem;\n",
       "  text-decoration: none;\n",
       "  /* unfitted */\n",
       "  color: var(--sklearn-color-unfitted-level-1);\n",
       "  border: var(--sklearn-color-unfitted-level-1) 1pt solid;\n",
       "}\n",
       "\n",
       "#sk-container-id-23 a.estimator_doc_link.fitted {\n",
       "  /* fitted */\n",
       "  border: var(--sklearn-color-fitted-level-1) 1pt solid;\n",
       "  color: var(--sklearn-color-fitted-level-1);\n",
       "}\n",
       "\n",
       "/* On hover */\n",
       "#sk-container-id-23 a.estimator_doc_link:hover {\n",
       "  /* unfitted */\n",
       "  background-color: var(--sklearn-color-unfitted-level-3);\n",
       "  color: var(--sklearn-color-background);\n",
       "  text-decoration: none;\n",
       "}\n",
       "\n",
       "#sk-container-id-23 a.estimator_doc_link.fitted:hover {\n",
       "  /* fitted */\n",
       "  background-color: var(--sklearn-color-fitted-level-3);\n",
       "}\n",
       "</style><div id=\"sk-container-id-23\" class=\"sk-top-container\"><div class=\"sk-text-repr-fallback\"><pre>Pipeline(steps=[(&#x27;sclaler&#x27;, RobustScaler()), (&#x27;model&#x27;, LinearRegression())])</pre><b>In a Jupyter environment, please rerun this cell to show the HTML representation or trust the notebook. <br />On GitHub, the HTML representation is unable to render, please try loading this page with nbviewer.org.</b></div><div class=\"sk-container\" hidden><div class=\"sk-item sk-dashed-wrapped\"><div class=\"sk-label-container\"><div class=\"sk-label fitted sk-toggleable\"><input class=\"sk-toggleable__control sk-hidden--visually\" id=\"sk-estimator-id-73\" type=\"checkbox\" ><label for=\"sk-estimator-id-73\" class=\"sk-toggleable__label fitted sk-toggleable__label-arrow fitted\">&nbsp;&nbsp;Pipeline<a class=\"sk-estimator-doc-link fitted\" rel=\"noreferrer\" target=\"_blank\" href=\"https://scikit-learn.org/1.5/modules/generated/sklearn.pipeline.Pipeline.html\">?<span>Documentation for Pipeline</span></a><span class=\"sk-estimator-doc-link fitted\">i<span>Fitted</span></span></label><div class=\"sk-toggleable__content fitted\"><pre>Pipeline(steps=[(&#x27;sclaler&#x27;, RobustScaler()), (&#x27;model&#x27;, LinearRegression())])</pre></div> </div></div><div class=\"sk-serial\"><div class=\"sk-item\"><div class=\"sk-estimator fitted sk-toggleable\"><input class=\"sk-toggleable__control sk-hidden--visually\" id=\"sk-estimator-id-74\" type=\"checkbox\" ><label for=\"sk-estimator-id-74\" class=\"sk-toggleable__label fitted sk-toggleable__label-arrow fitted\">&nbsp;RobustScaler<a class=\"sk-estimator-doc-link fitted\" rel=\"noreferrer\" target=\"_blank\" href=\"https://scikit-learn.org/1.5/modules/generated/sklearn.preprocessing.RobustScaler.html\">?<span>Documentation for RobustScaler</span></a></label><div class=\"sk-toggleable__content fitted\"><pre>RobustScaler()</pre></div> </div></div><div class=\"sk-item\"><div class=\"sk-estimator fitted sk-toggleable\"><input class=\"sk-toggleable__control sk-hidden--visually\" id=\"sk-estimator-id-75\" type=\"checkbox\" ><label for=\"sk-estimator-id-75\" class=\"sk-toggleable__label fitted sk-toggleable__label-arrow fitted\">&nbsp;LinearRegression<a class=\"sk-estimator-doc-link fitted\" rel=\"noreferrer\" target=\"_blank\" href=\"https://scikit-learn.org/1.5/modules/generated/sklearn.linear_model.LinearRegression.html\">?<span>Documentation for LinearRegression</span></a></label><div class=\"sk-toggleable__content fitted\"><pre>LinearRegression()</pre></div> </div></div></div></div></div></div>"
      ],
      "text/plain": [
       "Pipeline(steps=[('sclaler', RobustScaler()), ('model', LinearRegression())])"
      ]
     },
     "execution_count": 297,
     "metadata": {},
     "output_type": "execute_result"
    }
   ],
   "source": [
    "baseline_trainer_pca = Pipeline(steps=[\n",
    "    ('sclaler', RobustScaler()),\n",
    "    ('model', LinearRegression())\n",
    "])\n",
    "baseline_trainer_pca.fit(X_pca_train, y_pca_train)"
   ]
  },
  {
   "cell_type": "code",
   "execution_count": 298,
   "metadata": {},
   "outputs": [],
   "source": [
    "y_pca_train_pred = baseline_trainer_pca.predict(X_pca_train)\n",
    "y_pca_test_pred = baseline_trainer_pca.predict(X_pca_test)"
   ]
  },
  {
   "cell_type": "code",
   "execution_count": 299,
   "metadata": {},
   "outputs": [
    {
     "name": "stderr",
     "output_type": "stream",
     "text": [
      "/Users/s223171213/Documents/machine-learning-docs/.mld-venv/lib/python3.9/site-packages/sklearn/metrics/_regression.py:492: FutureWarning:\n",
      "\n",
      "'squared' is deprecated in version 1.4 and will be removed in 1.6. To calculate the root mean squared error, use the function'root_mean_squared_error'.\n",
      "\n",
      "/Users/s223171213/Documents/machine-learning-docs/.mld-venv/lib/python3.9/site-packages/sklearn/metrics/_regression.py:492: FutureWarning:\n",
      "\n",
      "'squared' is deprecated in version 1.4 and will be removed in 1.6. To calculate the root mean squared error, use the function'root_mean_squared_error'.\n",
      "\n"
     ]
    },
    {
     "data": {
      "text/html": [
       "<div>\n",
       "<style scoped>\n",
       "    .dataframe tbody tr th:only-of-type {\n",
       "        vertical-align: middle;\n",
       "    }\n",
       "\n",
       "    .dataframe tbody tr th {\n",
       "        vertical-align: top;\n",
       "    }\n",
       "\n",
       "    .dataframe thead th {\n",
       "        text-align: right;\n",
       "    }\n",
       "</style>\n",
       "<table border=\"1\" class=\"dataframe\">\n",
       "  <thead>\n",
       "    <tr style=\"text-align: right;\">\n",
       "      <th></th>\n",
       "      <th>dataset</th>\n",
       "      <th>r2</th>\n",
       "      <th>mse</th>\n",
       "      <th>mae</th>\n",
       "      <th>rmse</th>\n",
       "    </tr>\n",
       "  </thead>\n",
       "  <tbody>\n",
       "    <tr>\n",
       "      <th>0</th>\n",
       "      <td>train</td>\n",
       "      <td>0.514643</td>\n",
       "      <td>91.291016</td>\n",
       "      <td>6.721150</td>\n",
       "      <td>9.554633</td>\n",
       "    </tr>\n",
       "    <tr>\n",
       "      <th>1</th>\n",
       "      <td>test</td>\n",
       "      <td>0.648972</td>\n",
       "      <td>58.888405</td>\n",
       "      <td>5.632391</td>\n",
       "      <td>7.673878</td>\n",
       "    </tr>\n",
       "  </tbody>\n",
       "</table>\n",
       "</div>"
      ],
      "text/plain": [
       "  dataset        r2        mse       mae      rmse\n",
       "0   train  0.514643  91.291016  6.721150  9.554633\n",
       "1    test  0.648972  58.888405  5.632391  7.673878"
      ]
     },
     "execution_count": 299,
     "metadata": {},
     "output_type": "execute_result"
    }
   ],
   "source": [
    "baseline_pca_results = pd.DataFrame(\n",
    "    data={\n",
    "        'train': {\n",
    "            'r2': r2_score(y_pca_train, y_pca_train_pred),\n",
    "            'mse': mean_squared_error(y_pca_train, y_pca_train_pred),\n",
    "            'mae': mean_absolute_error(y_pca_train, y_pca_train_pred),\n",
    "            'rmse': mean_squared_error(y_pca_train, y_pca_train_pred, squared=False)\n",
    "        },\n",
    "        'test': {\n",
    "            'r2': r2_score(y_pca_test, y_pca_test_pred),\n",
    "            'mse': mean_squared_error(y_pca_test, y_pca_test_pred),\n",
    "            'mae': mean_absolute_error(y_pca_test, y_pca_test_pred),\n",
    "            'rmse': mean_squared_error(y_pca_test, y_pca_test_pred, squared=False)\n",
    "        }\n",
    "    }\n",
    ")\n",
    "baseline_pca_results = baseline_pca_results.T.reset_index().rename(columns={'index': 'dataset'})\n",
    "baseline_pca_results"
   ]
  },
  {
   "cell_type": "code",
   "execution_count": 300,
   "metadata": {},
   "outputs": [],
   "source": [
    "melted_pca_df = baseline_pca_results.melt(id_vars='dataset', var_name='metric', value_name='score')"
   ]
  },
  {
   "cell_type": "code",
   "execution_count": 301,
   "metadata": {},
   "outputs": [
    {
     "data": {
      "application/vnd.plotly.v1+json": {
       "config": {
        "plotlyServerURL": "https://plot.ly"
       },
       "data": [
        {
         "alignmentgroup": "True",
         "hovertemplate": "dataset=train<br>score=%{x}<br>y=%{y}<extra></extra>",
         "legendgroup": "train",
         "marker": {
          "color": "#01295f",
          "pattern": {
           "shape": ""
          }
         },
         "name": "train",
         "offsetgroup": "train",
         "orientation": "h",
         "showlegend": true,
         "textposition": "auto",
         "type": "bar",
         "x": [
          0.5146431385605031,
          91.29101594047471,
          6.721149935676638,
          9.55463321852151
         ],
         "xaxis": "x",
         "y": [
          "R2",
          "MSE",
          "MAE",
          "RMSE"
         ],
         "yaxis": "y"
        },
        {
         "alignmentgroup": "True",
         "hovertemplate": "dataset=test<br>score=%{x}<br>y=%{y}<extra></extra>",
         "legendgroup": "test",
         "marker": {
          "color": "#1bb4fa",
          "pattern": {
           "shape": ""
          }
         },
         "name": "test",
         "offsetgroup": "test",
         "orientation": "h",
         "showlegend": true,
         "textposition": "auto",
         "type": "bar",
         "x": [
          0.6489717753390258,
          58.88840528852183,
          5.632390959126363,
          7.673878112696463
         ],
         "xaxis": "x",
         "y": [
          "R2",
          "MSE",
          "MAE",
          "RMSE"
         ],
         "yaxis": "y"
        }
       ],
       "layout": {
        "barmode": "group",
        "font": {
         "color": "black",
         "family": "Georgia",
         "size": 14
        },
        "height": 600,
        "legend": {
         "title": {
          "text": "Dataset"
         },
         "tracegroupgap": 0
        },
        "template": {
         "data": {
          "bar": [
           {
            "error_x": {
             "color": "#2a3f5f"
            },
            "error_y": {
             "color": "#2a3f5f"
            },
            "marker": {
             "line": {
              "color": "white",
              "width": 0.5
             },
             "pattern": {
              "fillmode": "overlay",
              "size": 10,
              "solidity": 0.2
             }
            },
            "type": "bar"
           }
          ],
          "barpolar": [
           {
            "marker": {
             "line": {
              "color": "white",
              "width": 0.5
             },
             "pattern": {
              "fillmode": "overlay",
              "size": 10,
              "solidity": 0.2
             }
            },
            "type": "barpolar"
           }
          ],
          "carpet": [
           {
            "aaxis": {
             "endlinecolor": "#2a3f5f",
             "gridcolor": "#C8D4E3",
             "linecolor": "#C8D4E3",
             "minorgridcolor": "#C8D4E3",
             "startlinecolor": "#2a3f5f"
            },
            "baxis": {
             "endlinecolor": "#2a3f5f",
             "gridcolor": "#C8D4E3",
             "linecolor": "#C8D4E3",
             "minorgridcolor": "#C8D4E3",
             "startlinecolor": "#2a3f5f"
            },
            "type": "carpet"
           }
          ],
          "choropleth": [
           {
            "colorbar": {
             "outlinewidth": 0,
             "ticks": ""
            },
            "type": "choropleth"
           }
          ],
          "contour": [
           {
            "colorbar": {
             "outlinewidth": 0,
             "ticks": ""
            },
            "colorscale": [
             [
              0,
              "#0d0887"
             ],
             [
              0.1111111111111111,
              "#46039f"
             ],
             [
              0.2222222222222222,
              "#7201a8"
             ],
             [
              0.3333333333333333,
              "#9c179e"
             ],
             [
              0.4444444444444444,
              "#bd3786"
             ],
             [
              0.5555555555555556,
              "#d8576b"
             ],
             [
              0.6666666666666666,
              "#ed7953"
             ],
             [
              0.7777777777777778,
              "#fb9f3a"
             ],
             [
              0.8888888888888888,
              "#fdca26"
             ],
             [
              1,
              "#f0f921"
             ]
            ],
            "type": "contour"
           }
          ],
          "contourcarpet": [
           {
            "colorbar": {
             "outlinewidth": 0,
             "ticks": ""
            },
            "type": "contourcarpet"
           }
          ],
          "heatmap": [
           {
            "colorbar": {
             "outlinewidth": 0,
             "ticks": ""
            },
            "colorscale": [
             [
              0,
              "#0d0887"
             ],
             [
              0.1111111111111111,
              "#46039f"
             ],
             [
              0.2222222222222222,
              "#7201a8"
             ],
             [
              0.3333333333333333,
              "#9c179e"
             ],
             [
              0.4444444444444444,
              "#bd3786"
             ],
             [
              0.5555555555555556,
              "#d8576b"
             ],
             [
              0.6666666666666666,
              "#ed7953"
             ],
             [
              0.7777777777777778,
              "#fb9f3a"
             ],
             [
              0.8888888888888888,
              "#fdca26"
             ],
             [
              1,
              "#f0f921"
             ]
            ],
            "type": "heatmap"
           }
          ],
          "heatmapgl": [
           {
            "colorbar": {
             "outlinewidth": 0,
             "ticks": ""
            },
            "colorscale": [
             [
              0,
              "#0d0887"
             ],
             [
              0.1111111111111111,
              "#46039f"
             ],
             [
              0.2222222222222222,
              "#7201a8"
             ],
             [
              0.3333333333333333,
              "#9c179e"
             ],
             [
              0.4444444444444444,
              "#bd3786"
             ],
             [
              0.5555555555555556,
              "#d8576b"
             ],
             [
              0.6666666666666666,
              "#ed7953"
             ],
             [
              0.7777777777777778,
              "#fb9f3a"
             ],
             [
              0.8888888888888888,
              "#fdca26"
             ],
             [
              1,
              "#f0f921"
             ]
            ],
            "type": "heatmapgl"
           }
          ],
          "histogram": [
           {
            "marker": {
             "pattern": {
              "fillmode": "overlay",
              "size": 10,
              "solidity": 0.2
             }
            },
            "type": "histogram"
           }
          ],
          "histogram2d": [
           {
            "colorbar": {
             "outlinewidth": 0,
             "ticks": ""
            },
            "colorscale": [
             [
              0,
              "#0d0887"
             ],
             [
              0.1111111111111111,
              "#46039f"
             ],
             [
              0.2222222222222222,
              "#7201a8"
             ],
             [
              0.3333333333333333,
              "#9c179e"
             ],
             [
              0.4444444444444444,
              "#bd3786"
             ],
             [
              0.5555555555555556,
              "#d8576b"
             ],
             [
              0.6666666666666666,
              "#ed7953"
             ],
             [
              0.7777777777777778,
              "#fb9f3a"
             ],
             [
              0.8888888888888888,
              "#fdca26"
             ],
             [
              1,
              "#f0f921"
             ]
            ],
            "type": "histogram2d"
           }
          ],
          "histogram2dcontour": [
           {
            "colorbar": {
             "outlinewidth": 0,
             "ticks": ""
            },
            "colorscale": [
             [
              0,
              "#0d0887"
             ],
             [
              0.1111111111111111,
              "#46039f"
             ],
             [
              0.2222222222222222,
              "#7201a8"
             ],
             [
              0.3333333333333333,
              "#9c179e"
             ],
             [
              0.4444444444444444,
              "#bd3786"
             ],
             [
              0.5555555555555556,
              "#d8576b"
             ],
             [
              0.6666666666666666,
              "#ed7953"
             ],
             [
              0.7777777777777778,
              "#fb9f3a"
             ],
             [
              0.8888888888888888,
              "#fdca26"
             ],
             [
              1,
              "#f0f921"
             ]
            ],
            "type": "histogram2dcontour"
           }
          ],
          "mesh3d": [
           {
            "colorbar": {
             "outlinewidth": 0,
             "ticks": ""
            },
            "type": "mesh3d"
           }
          ],
          "parcoords": [
           {
            "line": {
             "colorbar": {
              "outlinewidth": 0,
              "ticks": ""
             }
            },
            "type": "parcoords"
           }
          ],
          "pie": [
           {
            "automargin": true,
            "type": "pie"
           }
          ],
          "scatter": [
           {
            "fillpattern": {
             "fillmode": "overlay",
             "size": 10,
             "solidity": 0.2
            },
            "type": "scatter"
           }
          ],
          "scatter3d": [
           {
            "line": {
             "colorbar": {
              "outlinewidth": 0,
              "ticks": ""
             }
            },
            "marker": {
             "colorbar": {
              "outlinewidth": 0,
              "ticks": ""
             }
            },
            "type": "scatter3d"
           }
          ],
          "scattercarpet": [
           {
            "marker": {
             "colorbar": {
              "outlinewidth": 0,
              "ticks": ""
             }
            },
            "type": "scattercarpet"
           }
          ],
          "scattergeo": [
           {
            "marker": {
             "colorbar": {
              "outlinewidth": 0,
              "ticks": ""
             }
            },
            "type": "scattergeo"
           }
          ],
          "scattergl": [
           {
            "marker": {
             "colorbar": {
              "outlinewidth": 0,
              "ticks": ""
             }
            },
            "type": "scattergl"
           }
          ],
          "scattermapbox": [
           {
            "marker": {
             "colorbar": {
              "outlinewidth": 0,
              "ticks": ""
             }
            },
            "type": "scattermapbox"
           }
          ],
          "scatterpolar": [
           {
            "marker": {
             "colorbar": {
              "outlinewidth": 0,
              "ticks": ""
             }
            },
            "type": "scatterpolar"
           }
          ],
          "scatterpolargl": [
           {
            "marker": {
             "colorbar": {
              "outlinewidth": 0,
              "ticks": ""
             }
            },
            "type": "scatterpolargl"
           }
          ],
          "scatterternary": [
           {
            "marker": {
             "colorbar": {
              "outlinewidth": 0,
              "ticks": ""
             }
            },
            "type": "scatterternary"
           }
          ],
          "surface": [
           {
            "colorbar": {
             "outlinewidth": 0,
             "ticks": ""
            },
            "colorscale": [
             [
              0,
              "#0d0887"
             ],
             [
              0.1111111111111111,
              "#46039f"
             ],
             [
              0.2222222222222222,
              "#7201a8"
             ],
             [
              0.3333333333333333,
              "#9c179e"
             ],
             [
              0.4444444444444444,
              "#bd3786"
             ],
             [
              0.5555555555555556,
              "#d8576b"
             ],
             [
              0.6666666666666666,
              "#ed7953"
             ],
             [
              0.7777777777777778,
              "#fb9f3a"
             ],
             [
              0.8888888888888888,
              "#fdca26"
             ],
             [
              1,
              "#f0f921"
             ]
            ],
            "type": "surface"
           }
          ],
          "table": [
           {
            "cells": {
             "fill": {
              "color": "#EBF0F8"
             },
             "line": {
              "color": "white"
             }
            },
            "header": {
             "fill": {
              "color": "#C8D4E3"
             },
             "line": {
              "color": "white"
             }
            },
            "type": "table"
           }
          ]
         },
         "layout": {
          "annotationdefaults": {
           "arrowcolor": "#2a3f5f",
           "arrowhead": 0,
           "arrowwidth": 1
          },
          "autotypenumbers": "strict",
          "coloraxis": {
           "colorbar": {
            "outlinewidth": 0,
            "ticks": ""
           }
          },
          "colorscale": {
           "diverging": [
            [
             0,
             "#8e0152"
            ],
            [
             0.1,
             "#c51b7d"
            ],
            [
             0.2,
             "#de77ae"
            ],
            [
             0.3,
             "#f1b6da"
            ],
            [
             0.4,
             "#fde0ef"
            ],
            [
             0.5,
             "#f7f7f7"
            ],
            [
             0.6,
             "#e6f5d0"
            ],
            [
             0.7,
             "#b8e186"
            ],
            [
             0.8,
             "#7fbc41"
            ],
            [
             0.9,
             "#4d9221"
            ],
            [
             1,
             "#276419"
            ]
           ],
           "sequential": [
            [
             0,
             "#0d0887"
            ],
            [
             0.1111111111111111,
             "#46039f"
            ],
            [
             0.2222222222222222,
             "#7201a8"
            ],
            [
             0.3333333333333333,
             "#9c179e"
            ],
            [
             0.4444444444444444,
             "#bd3786"
            ],
            [
             0.5555555555555556,
             "#d8576b"
            ],
            [
             0.6666666666666666,
             "#ed7953"
            ],
            [
             0.7777777777777778,
             "#fb9f3a"
            ],
            [
             0.8888888888888888,
             "#fdca26"
            ],
            [
             1,
             "#f0f921"
            ]
           ],
           "sequentialminus": [
            [
             0,
             "#0d0887"
            ],
            [
             0.1111111111111111,
             "#46039f"
            ],
            [
             0.2222222222222222,
             "#7201a8"
            ],
            [
             0.3333333333333333,
             "#9c179e"
            ],
            [
             0.4444444444444444,
             "#bd3786"
            ],
            [
             0.5555555555555556,
             "#d8576b"
            ],
            [
             0.6666666666666666,
             "#ed7953"
            ],
            [
             0.7777777777777778,
             "#fb9f3a"
            ],
            [
             0.8888888888888888,
             "#fdca26"
            ],
            [
             1,
             "#f0f921"
            ]
           ]
          },
          "colorway": [
           "#636efa",
           "#EF553B",
           "#00cc96",
           "#ab63fa",
           "#FFA15A",
           "#19d3f3",
           "#FF6692",
           "#B6E880",
           "#FF97FF",
           "#FECB52"
          ],
          "font": {
           "color": "#2a3f5f"
          },
          "geo": {
           "bgcolor": "white",
           "lakecolor": "white",
           "landcolor": "white",
           "showlakes": true,
           "showland": true,
           "subunitcolor": "#C8D4E3"
          },
          "hoverlabel": {
           "align": "left"
          },
          "hovermode": "closest",
          "mapbox": {
           "style": "light"
          },
          "paper_bgcolor": "white",
          "plot_bgcolor": "white",
          "polar": {
           "angularaxis": {
            "gridcolor": "#EBF0F8",
            "linecolor": "#EBF0F8",
            "ticks": ""
           },
           "bgcolor": "white",
           "radialaxis": {
            "gridcolor": "#EBF0F8",
            "linecolor": "#EBF0F8",
            "ticks": ""
           }
          },
          "scene": {
           "xaxis": {
            "backgroundcolor": "white",
            "gridcolor": "#DFE8F3",
            "gridwidth": 2,
            "linecolor": "#EBF0F8",
            "showbackground": true,
            "ticks": "",
            "zerolinecolor": "#EBF0F8"
           },
           "yaxis": {
            "backgroundcolor": "white",
            "gridcolor": "#DFE8F3",
            "gridwidth": 2,
            "linecolor": "#EBF0F8",
            "showbackground": true,
            "ticks": "",
            "zerolinecolor": "#EBF0F8"
           },
           "zaxis": {
            "backgroundcolor": "white",
            "gridcolor": "#DFE8F3",
            "gridwidth": 2,
            "linecolor": "#EBF0F8",
            "showbackground": true,
            "ticks": "",
            "zerolinecolor": "#EBF0F8"
           }
          },
          "shapedefaults": {
           "line": {
            "color": "#2a3f5f"
           }
          },
          "ternary": {
           "aaxis": {
            "gridcolor": "#DFE8F3",
            "linecolor": "#A2B1C6",
            "ticks": ""
           },
           "baxis": {
            "gridcolor": "#DFE8F3",
            "linecolor": "#A2B1C6",
            "ticks": ""
           },
           "bgcolor": "white",
           "caxis": {
            "gridcolor": "#DFE8F3",
            "linecolor": "#A2B1C6",
            "ticks": ""
           }
          },
          "title": {
           "x": 0.05
          },
          "xaxis": {
           "automargin": true,
           "gridcolor": "#EBF0F8",
           "linecolor": "#EBF0F8",
           "ticks": "",
           "title": {
            "standoff": 15
           },
           "zerolinecolor": "#EBF0F8",
           "zerolinewidth": 2
          },
          "yaxis": {
           "automargin": true,
           "gridcolor": "#EBF0F8",
           "linecolor": "#EBF0F8",
           "ticks": "",
           "title": {
            "standoff": 15
           },
           "zerolinecolor": "#EBF0F8",
           "zerolinewidth": 2
          }
         }
        },
        "title": {
         "text": "Baseline Model Performance with PCA"
        },
        "width": 1200,
        "xaxis": {
         "anchor": "y",
         "domain": [
          0,
          1
         ],
         "title": {
          "text": "Score"
         }
        },
        "yaxis": {
         "anchor": "x",
         "domain": [
          0,
          1
         ],
         "title": {
          "text": "Metric"
         }
        }
       }
      }
     },
     "metadata": {},
     "output_type": "display_data"
    }
   ],
   "source": [
    "baseline_pca_pfm_fig = px.bar(\n",
    "    melted_pca_df,\n",
    "    y=melted_pca_df[\"metric\"].apply(lambda x: x.upper()),\n",
    "    x=\"score\",\n",
    "    color=\"dataset\",\n",
    "    barmode=\"group\",\n",
    "    color_discrete_map={\"train\": colors[3], \"test\": colors[4]},\n",
    "    title=\"Baseline Model Performance with PCA\",\n",
    ")\n",
    "\n",
    "baseline_pca_pfm_fig.update_layout(\n",
    "    template=\"plotly_white\",\n",
    "    xaxis_title=\"Score\",\n",
    "    yaxis_title=\"Metric\",\n",
    "    legend_title=\"Dataset\",\n",
    "    font=dict(family=\"Georgia\", size=14, color=\"black\"),\n",
    "    width=1200,\n",
    "    height=600,\n",
    ")"
   ]
  },
  {
   "cell_type": "code",
   "execution_count": null,
   "metadata": {},
   "outputs": [],
   "source": []
  },
  {
   "cell_type": "code",
   "execution_count": 302,
   "metadata": {},
   "outputs": [
    {
     "data": {
      "application/vnd.plotly.v1+json": {
       "config": {
        "plotlyServerURL": "https://plot.ly"
       },
       "data": [
        {
         "alignmentgroup": "True",
         "hovertemplate": "dataset=train<br>score=%{x}<br>y=%{y}<extra></extra>",
         "legendgroup": "train",
         "marker": {
          "color": "#01295f",
          "pattern": {
           "shape": ""
          }
         },
         "name": "train",
         "offsetgroup": "train",
         "orientation": "h",
         "showlegend": true,
         "textposition": "auto",
         "type": "bar",
         "x": [
          0.5531830911778034,
          84.04201688790916,
          6.360268217174866,
          9.167443312500446
         ],
         "xaxis": "x",
         "y": [
          "R2",
          "MSE",
          "MAE",
          "RMSE"
         ],
         "yaxis": "y"
        },
        {
         "alignmentgroup": "True",
         "hovertemplate": "dataset=test<br>score=%{x}<br>y=%{y}<extra></extra>",
         "legendgroup": "test",
         "marker": {
          "color": "#1bb4fa",
          "pattern": {
           "shape": ""
          }
         },
         "name": "test",
         "offsetgroup": "test",
         "orientation": "h",
         "showlegend": true,
         "textposition": "auto",
         "type": "bar",
         "x": [
          0.6952704730978632,
          51.121347580879025,
          5.133446355383936,
          7.149919410796112
         ],
         "xaxis": "x",
         "y": [
          "R2",
          "MSE",
          "MAE",
          "RMSE"
         ],
         "yaxis": "y"
        },
        {
         "alignmentgroup": "True",
         "hovertemplate": "dataset=train<br>score=%{x}<br>y=%{y}<extra></extra>",
         "legendgroup": "train",
         "marker": {
          "color": "#01295f",
          "pattern": {
           "shape": ""
          }
         },
         "name": "train",
         "offsetgroup": "train",
         "orientation": "h",
         "showlegend": true,
         "textposition": "auto",
         "type": "bar",
         "x": [
          0.5146431385605031,
          91.29101594047471,
          6.721149935676638,
          9.55463321852151
         ],
         "xaxis": "x2",
         "y": [
          "R2",
          "MSE",
          "MAE",
          "RMSE"
         ],
         "yaxis": "y2"
        },
        {
         "alignmentgroup": "True",
         "hovertemplate": "dataset=test<br>score=%{x}<br>y=%{y}<extra></extra>",
         "legendgroup": "test",
         "marker": {
          "color": "#1bb4fa",
          "pattern": {
           "shape": ""
          }
         },
         "name": "test",
         "offsetgroup": "test",
         "orientation": "h",
         "showlegend": true,
         "textposition": "auto",
         "type": "bar",
         "x": [
          0.6489717753390258,
          58.88840528852183,
          5.632390959126363,
          7.673878112696463
         ],
         "xaxis": "x2",
         "y": [
          "R2",
          "MSE",
          "MAE",
          "RMSE"
         ],
         "yaxis": "y2"
        }
       ],
       "layout": {
        "annotations": [
         {
          "font": {
           "size": 16
          },
          "showarrow": false,
          "text": "Baseline Model Performance",
          "x": 0.5,
          "xanchor": "center",
          "xref": "paper",
          "y": 1,
          "yanchor": "bottom",
          "yref": "paper"
         },
         {
          "font": {
           "size": 16
          },
          "showarrow": false,
          "text": "Baseline Model Performance with PCA",
          "x": 0.5,
          "xanchor": "center",
          "xref": "paper",
          "y": 0.425,
          "yanchor": "bottom",
          "yref": "paper"
         }
        ],
        "font": {
         "color": "black",
         "family": "Georgia",
         "size": 14
        },
        "height": 600,
        "template": {
         "data": {
          "bar": [
           {
            "error_x": {
             "color": "#2a3f5f"
            },
            "error_y": {
             "color": "#2a3f5f"
            },
            "marker": {
             "line": {
              "color": "white",
              "width": 0.5
             },
             "pattern": {
              "fillmode": "overlay",
              "size": 10,
              "solidity": 0.2
             }
            },
            "type": "bar"
           }
          ],
          "barpolar": [
           {
            "marker": {
             "line": {
              "color": "white",
              "width": 0.5
             },
             "pattern": {
              "fillmode": "overlay",
              "size": 10,
              "solidity": 0.2
             }
            },
            "type": "barpolar"
           }
          ],
          "carpet": [
           {
            "aaxis": {
             "endlinecolor": "#2a3f5f",
             "gridcolor": "#C8D4E3",
             "linecolor": "#C8D4E3",
             "minorgridcolor": "#C8D4E3",
             "startlinecolor": "#2a3f5f"
            },
            "baxis": {
             "endlinecolor": "#2a3f5f",
             "gridcolor": "#C8D4E3",
             "linecolor": "#C8D4E3",
             "minorgridcolor": "#C8D4E3",
             "startlinecolor": "#2a3f5f"
            },
            "type": "carpet"
           }
          ],
          "choropleth": [
           {
            "colorbar": {
             "outlinewidth": 0,
             "ticks": ""
            },
            "type": "choropleth"
           }
          ],
          "contour": [
           {
            "colorbar": {
             "outlinewidth": 0,
             "ticks": ""
            },
            "colorscale": [
             [
              0,
              "#0d0887"
             ],
             [
              0.1111111111111111,
              "#46039f"
             ],
             [
              0.2222222222222222,
              "#7201a8"
             ],
             [
              0.3333333333333333,
              "#9c179e"
             ],
             [
              0.4444444444444444,
              "#bd3786"
             ],
             [
              0.5555555555555556,
              "#d8576b"
             ],
             [
              0.6666666666666666,
              "#ed7953"
             ],
             [
              0.7777777777777778,
              "#fb9f3a"
             ],
             [
              0.8888888888888888,
              "#fdca26"
             ],
             [
              1,
              "#f0f921"
             ]
            ],
            "type": "contour"
           }
          ],
          "contourcarpet": [
           {
            "colorbar": {
             "outlinewidth": 0,
             "ticks": ""
            },
            "type": "contourcarpet"
           }
          ],
          "heatmap": [
           {
            "colorbar": {
             "outlinewidth": 0,
             "ticks": ""
            },
            "colorscale": [
             [
              0,
              "#0d0887"
             ],
             [
              0.1111111111111111,
              "#46039f"
             ],
             [
              0.2222222222222222,
              "#7201a8"
             ],
             [
              0.3333333333333333,
              "#9c179e"
             ],
             [
              0.4444444444444444,
              "#bd3786"
             ],
             [
              0.5555555555555556,
              "#d8576b"
             ],
             [
              0.6666666666666666,
              "#ed7953"
             ],
             [
              0.7777777777777778,
              "#fb9f3a"
             ],
             [
              0.8888888888888888,
              "#fdca26"
             ],
             [
              1,
              "#f0f921"
             ]
            ],
            "type": "heatmap"
           }
          ],
          "heatmapgl": [
           {
            "colorbar": {
             "outlinewidth": 0,
             "ticks": ""
            },
            "colorscale": [
             [
              0,
              "#0d0887"
             ],
             [
              0.1111111111111111,
              "#46039f"
             ],
             [
              0.2222222222222222,
              "#7201a8"
             ],
             [
              0.3333333333333333,
              "#9c179e"
             ],
             [
              0.4444444444444444,
              "#bd3786"
             ],
             [
              0.5555555555555556,
              "#d8576b"
             ],
             [
              0.6666666666666666,
              "#ed7953"
             ],
             [
              0.7777777777777778,
              "#fb9f3a"
             ],
             [
              0.8888888888888888,
              "#fdca26"
             ],
             [
              1,
              "#f0f921"
             ]
            ],
            "type": "heatmapgl"
           }
          ],
          "histogram": [
           {
            "marker": {
             "pattern": {
              "fillmode": "overlay",
              "size": 10,
              "solidity": 0.2
             }
            },
            "type": "histogram"
           }
          ],
          "histogram2d": [
           {
            "colorbar": {
             "outlinewidth": 0,
             "ticks": ""
            },
            "colorscale": [
             [
              0,
              "#0d0887"
             ],
             [
              0.1111111111111111,
              "#46039f"
             ],
             [
              0.2222222222222222,
              "#7201a8"
             ],
             [
              0.3333333333333333,
              "#9c179e"
             ],
             [
              0.4444444444444444,
              "#bd3786"
             ],
             [
              0.5555555555555556,
              "#d8576b"
             ],
             [
              0.6666666666666666,
              "#ed7953"
             ],
             [
              0.7777777777777778,
              "#fb9f3a"
             ],
             [
              0.8888888888888888,
              "#fdca26"
             ],
             [
              1,
              "#f0f921"
             ]
            ],
            "type": "histogram2d"
           }
          ],
          "histogram2dcontour": [
           {
            "colorbar": {
             "outlinewidth": 0,
             "ticks": ""
            },
            "colorscale": [
             [
              0,
              "#0d0887"
             ],
             [
              0.1111111111111111,
              "#46039f"
             ],
             [
              0.2222222222222222,
              "#7201a8"
             ],
             [
              0.3333333333333333,
              "#9c179e"
             ],
             [
              0.4444444444444444,
              "#bd3786"
             ],
             [
              0.5555555555555556,
              "#d8576b"
             ],
             [
              0.6666666666666666,
              "#ed7953"
             ],
             [
              0.7777777777777778,
              "#fb9f3a"
             ],
             [
              0.8888888888888888,
              "#fdca26"
             ],
             [
              1,
              "#f0f921"
             ]
            ],
            "type": "histogram2dcontour"
           }
          ],
          "mesh3d": [
           {
            "colorbar": {
             "outlinewidth": 0,
             "ticks": ""
            },
            "type": "mesh3d"
           }
          ],
          "parcoords": [
           {
            "line": {
             "colorbar": {
              "outlinewidth": 0,
              "ticks": ""
             }
            },
            "type": "parcoords"
           }
          ],
          "pie": [
           {
            "automargin": true,
            "type": "pie"
           }
          ],
          "scatter": [
           {
            "fillpattern": {
             "fillmode": "overlay",
             "size": 10,
             "solidity": 0.2
            },
            "type": "scatter"
           }
          ],
          "scatter3d": [
           {
            "line": {
             "colorbar": {
              "outlinewidth": 0,
              "ticks": ""
             }
            },
            "marker": {
             "colorbar": {
              "outlinewidth": 0,
              "ticks": ""
             }
            },
            "type": "scatter3d"
           }
          ],
          "scattercarpet": [
           {
            "marker": {
             "colorbar": {
              "outlinewidth": 0,
              "ticks": ""
             }
            },
            "type": "scattercarpet"
           }
          ],
          "scattergeo": [
           {
            "marker": {
             "colorbar": {
              "outlinewidth": 0,
              "ticks": ""
             }
            },
            "type": "scattergeo"
           }
          ],
          "scattergl": [
           {
            "marker": {
             "colorbar": {
              "outlinewidth": 0,
              "ticks": ""
             }
            },
            "type": "scattergl"
           }
          ],
          "scattermapbox": [
           {
            "marker": {
             "colorbar": {
              "outlinewidth": 0,
              "ticks": ""
             }
            },
            "type": "scattermapbox"
           }
          ],
          "scatterpolar": [
           {
            "marker": {
             "colorbar": {
              "outlinewidth": 0,
              "ticks": ""
             }
            },
            "type": "scatterpolar"
           }
          ],
          "scatterpolargl": [
           {
            "marker": {
             "colorbar": {
              "outlinewidth": 0,
              "ticks": ""
             }
            },
            "type": "scatterpolargl"
           }
          ],
          "scatterternary": [
           {
            "marker": {
             "colorbar": {
              "outlinewidth": 0,
              "ticks": ""
             }
            },
            "type": "scatterternary"
           }
          ],
          "surface": [
           {
            "colorbar": {
             "outlinewidth": 0,
             "ticks": ""
            },
            "colorscale": [
             [
              0,
              "#0d0887"
             ],
             [
              0.1111111111111111,
              "#46039f"
             ],
             [
              0.2222222222222222,
              "#7201a8"
             ],
             [
              0.3333333333333333,
              "#9c179e"
             ],
             [
              0.4444444444444444,
              "#bd3786"
             ],
             [
              0.5555555555555556,
              "#d8576b"
             ],
             [
              0.6666666666666666,
              "#ed7953"
             ],
             [
              0.7777777777777778,
              "#fb9f3a"
             ],
             [
              0.8888888888888888,
              "#fdca26"
             ],
             [
              1,
              "#f0f921"
             ]
            ],
            "type": "surface"
           }
          ],
          "table": [
           {
            "cells": {
             "fill": {
              "color": "#EBF0F8"
             },
             "line": {
              "color": "white"
             }
            },
            "header": {
             "fill": {
              "color": "#C8D4E3"
             },
             "line": {
              "color": "white"
             }
            },
            "type": "table"
           }
          ]
         },
         "layout": {
          "annotationdefaults": {
           "arrowcolor": "#2a3f5f",
           "arrowhead": 0,
           "arrowwidth": 1
          },
          "autotypenumbers": "strict",
          "coloraxis": {
           "colorbar": {
            "outlinewidth": 0,
            "ticks": ""
           }
          },
          "colorscale": {
           "diverging": [
            [
             0,
             "#8e0152"
            ],
            [
             0.1,
             "#c51b7d"
            ],
            [
             0.2,
             "#de77ae"
            ],
            [
             0.3,
             "#f1b6da"
            ],
            [
             0.4,
             "#fde0ef"
            ],
            [
             0.5,
             "#f7f7f7"
            ],
            [
             0.6,
             "#e6f5d0"
            ],
            [
             0.7,
             "#b8e186"
            ],
            [
             0.8,
             "#7fbc41"
            ],
            [
             0.9,
             "#4d9221"
            ],
            [
             1,
             "#276419"
            ]
           ],
           "sequential": [
            [
             0,
             "#0d0887"
            ],
            [
             0.1111111111111111,
             "#46039f"
            ],
            [
             0.2222222222222222,
             "#7201a8"
            ],
            [
             0.3333333333333333,
             "#9c179e"
            ],
            [
             0.4444444444444444,
             "#bd3786"
            ],
            [
             0.5555555555555556,
             "#d8576b"
            ],
            [
             0.6666666666666666,
             "#ed7953"
            ],
            [
             0.7777777777777778,
             "#fb9f3a"
            ],
            [
             0.8888888888888888,
             "#fdca26"
            ],
            [
             1,
             "#f0f921"
            ]
           ],
           "sequentialminus": [
            [
             0,
             "#0d0887"
            ],
            [
             0.1111111111111111,
             "#46039f"
            ],
            [
             0.2222222222222222,
             "#7201a8"
            ],
            [
             0.3333333333333333,
             "#9c179e"
            ],
            [
             0.4444444444444444,
             "#bd3786"
            ],
            [
             0.5555555555555556,
             "#d8576b"
            ],
            [
             0.6666666666666666,
             "#ed7953"
            ],
            [
             0.7777777777777778,
             "#fb9f3a"
            ],
            [
             0.8888888888888888,
             "#fdca26"
            ],
            [
             1,
             "#f0f921"
            ]
           ]
          },
          "colorway": [
           "#636efa",
           "#EF553B",
           "#00cc96",
           "#ab63fa",
           "#FFA15A",
           "#19d3f3",
           "#FF6692",
           "#B6E880",
           "#FF97FF",
           "#FECB52"
          ],
          "font": {
           "color": "#2a3f5f"
          },
          "geo": {
           "bgcolor": "white",
           "lakecolor": "white",
           "landcolor": "white",
           "showlakes": true,
           "showland": true,
           "subunitcolor": "#C8D4E3"
          },
          "hoverlabel": {
           "align": "left"
          },
          "hovermode": "closest",
          "mapbox": {
           "style": "light"
          },
          "paper_bgcolor": "white",
          "plot_bgcolor": "white",
          "polar": {
           "angularaxis": {
            "gridcolor": "#EBF0F8",
            "linecolor": "#EBF0F8",
            "ticks": ""
           },
           "bgcolor": "white",
           "radialaxis": {
            "gridcolor": "#EBF0F8",
            "linecolor": "#EBF0F8",
            "ticks": ""
           }
          },
          "scene": {
           "xaxis": {
            "backgroundcolor": "white",
            "gridcolor": "#DFE8F3",
            "gridwidth": 2,
            "linecolor": "#EBF0F8",
            "showbackground": true,
            "ticks": "",
            "zerolinecolor": "#EBF0F8"
           },
           "yaxis": {
            "backgroundcolor": "white",
            "gridcolor": "#DFE8F3",
            "gridwidth": 2,
            "linecolor": "#EBF0F8",
            "showbackground": true,
            "ticks": "",
            "zerolinecolor": "#EBF0F8"
           },
           "zaxis": {
            "backgroundcolor": "white",
            "gridcolor": "#DFE8F3",
            "gridwidth": 2,
            "linecolor": "#EBF0F8",
            "showbackground": true,
            "ticks": "",
            "zerolinecolor": "#EBF0F8"
           }
          },
          "shapedefaults": {
           "line": {
            "color": "#2a3f5f"
           }
          },
          "ternary": {
           "aaxis": {
            "gridcolor": "#DFE8F3",
            "linecolor": "#A2B1C6",
            "ticks": ""
           },
           "baxis": {
            "gridcolor": "#DFE8F3",
            "linecolor": "#A2B1C6",
            "ticks": ""
           },
           "bgcolor": "white",
           "caxis": {
            "gridcolor": "#DFE8F3",
            "linecolor": "#A2B1C6",
            "ticks": ""
           }
          },
          "title": {
           "x": 0.05
          },
          "xaxis": {
           "automargin": true,
           "gridcolor": "#EBF0F8",
           "linecolor": "#EBF0F8",
           "ticks": "",
           "title": {
            "standoff": 15
           },
           "zerolinecolor": "#EBF0F8",
           "zerolinewidth": 2
          },
          "yaxis": {
           "automargin": true,
           "gridcolor": "#EBF0F8",
           "linecolor": "#EBF0F8",
           "ticks": "",
           "title": {
            "standoff": 15
           },
           "zerolinecolor": "#EBF0F8",
           "zerolinewidth": 2
          }
         }
        },
        "title": {
         "text": "Model Performance Comparison"
        },
        "width": 1200,
        "xaxis": {
         "anchor": "y",
         "domain": [
          0,
          1
         ],
         "matches": "x2",
         "showticklabels": false
        },
        "xaxis2": {
         "anchor": "y2",
         "domain": [
          0,
          1
         ]
        },
        "yaxis": {
         "anchor": "x",
         "domain": [
          0.575,
          1
         ]
        },
        "yaxis2": {
         "anchor": "x2",
         "domain": [
          0,
          0.425
         ]
        }
       }
      }
     },
     "metadata": {},
     "output_type": "display_data"
    }
   ],
   "source": [
    "fig = make_subplots(2, 1, subplot_titles=(\"Baseline Model Performance\", \"Baseline Model Performance with PCA\"), vertical_spacing=0.15, shared_xaxes=True)\n",
    "\n",
    "for trace in baseline_pfm_fig.data:\n",
    "    trace['showlegend'] = True\n",
    "    fig.add_trace(trace, 1, 1)\n",
    "    \n",
    "for trace in baseline_pca_pfm_fig.data:\n",
    "    fig.add_trace(trace, 2, 1)\n",
    "\n",
    "fig.update_layout(\n",
    "    title='Model Performance Comparison',\n",
    "    template=\"plotly_white\",\n",
    "    font=dict(family=\"Georgia\", size=14, color=\"black\"),\n",
    "    width=1200,\n",
    "    height=600,\n",
    ")"
   ]
  },
  {
   "cell_type": "code",
   "execution_count": 303,
   "metadata": {},
   "outputs": [
    {
     "data": {
      "text/html": [
       "<div>\n",
       "<style scoped>\n",
       "    .dataframe tbody tr th:only-of-type {\n",
       "        vertical-align: middle;\n",
       "    }\n",
       "\n",
       "    .dataframe tbody tr th {\n",
       "        vertical-align: top;\n",
       "    }\n",
       "\n",
       "    .dataframe thead th {\n",
       "        text-align: right;\n",
       "    }\n",
       "</style>\n",
       "<table border=\"1\" class=\"dataframe\">\n",
       "  <thead>\n",
       "    <tr style=\"text-align: right;\">\n",
       "      <th></th>\n",
       "      <th>sepal_length</th>\n",
       "      <th>sepal_width</th>\n",
       "      <th>petal_length</th>\n",
       "      <th>petal_width</th>\n",
       "      <th>target</th>\n",
       "    </tr>\n",
       "  </thead>\n",
       "  <tbody>\n",
       "    <tr>\n",
       "      <th>0</th>\n",
       "      <td>5.1</td>\n",
       "      <td>3.5</td>\n",
       "      <td>1.4</td>\n",
       "      <td>0.2</td>\n",
       "      <td>0</td>\n",
       "    </tr>\n",
       "    <tr>\n",
       "      <th>1</th>\n",
       "      <td>4.9</td>\n",
       "      <td>3.0</td>\n",
       "      <td>1.4</td>\n",
       "      <td>0.2</td>\n",
       "      <td>0</td>\n",
       "    </tr>\n",
       "    <tr>\n",
       "      <th>2</th>\n",
       "      <td>4.7</td>\n",
       "      <td>3.2</td>\n",
       "      <td>1.3</td>\n",
       "      <td>0.2</td>\n",
       "      <td>0</td>\n",
       "    </tr>\n",
       "    <tr>\n",
       "      <th>3</th>\n",
       "      <td>4.6</td>\n",
       "      <td>3.1</td>\n",
       "      <td>1.5</td>\n",
       "      <td>0.2</td>\n",
       "      <td>0</td>\n",
       "    </tr>\n",
       "    <tr>\n",
       "      <th>4</th>\n",
       "      <td>5.0</td>\n",
       "      <td>3.6</td>\n",
       "      <td>1.4</td>\n",
       "      <td>0.2</td>\n",
       "      <td>0</td>\n",
       "    </tr>\n",
       "  </tbody>\n",
       "</table>\n",
       "</div>"
      ],
      "text/plain": [
       "   sepal_length  sepal_width  petal_length  petal_width  target\n",
       "0           5.1          3.5           1.4          0.2       0\n",
       "1           4.9          3.0           1.4          0.2       0\n",
       "2           4.7          3.2           1.3          0.2       0\n",
       "3           4.6          3.1           1.5          0.2       0\n",
       "4           5.0          3.6           1.4          0.2       0"
      ]
     },
     "execution_count": 303,
     "metadata": {},
     "output_type": "execute_result"
    }
   ],
   "source": [
    "iris_df = load_iris(as_frame=True).frame\n",
    "iris_df.columns = list(map(lambda x: x.replace(' (cm)', '').replace(' ','_'), iris_df.columns))\n",
    "iris_df.head()"
   ]
  },
  {
   "cell_type": "code",
   "execution_count": 304,
   "metadata": {},
   "outputs": [],
   "source": [
    "iris_X = iris_df.drop(columns='target')\n",
    "iris_y = iris_df['target']\n",
    "\n",
    "iris_X = pd.DataFrame(\n",
    "    data=dim_reducer.fit_transform(iris_X),\n",
    "    columns=dim_reducer.get_feature_names_out()\n",
    ")\n",
    "X_train, X_test, y_train, y_test = train_test_split(\n",
    "    iris_X,\n",
    "    iris_y,\n",
    "    test_size=0.2,\n",
    "    random_state=42,\n",
    "    shuffle=True\n",
    ")"
   ]
  },
  {
   "cell_type": "code",
   "execution_count": 305,
   "metadata": {},
   "outputs": [
    {
     "name": "stdout",
     "output_type": "stream",
     "text": [
      "Training data shape: (120, 3) (120,) \n",
      "Testing data shape: (30, 3) (30,)\n"
     ]
    }
   ],
   "source": [
    "print(\n",
    "    'Training data shape:', X_train.shape, y_train.shape,\n",
    "    '\\nTesting data shape:', X_test.shape, y_test.shape\n",
    ")"
   ]
  },
  {
   "cell_type": "code",
   "execution_count": 306,
   "metadata": {},
   "outputs": [
    {
     "data": {
      "text/html": [
       "<style>#sk-container-id-24 {\n",
       "  /* Definition of color scheme common for light and dark mode */\n",
       "  --sklearn-color-text: black;\n",
       "  --sklearn-color-line: gray;\n",
       "  /* Definition of color scheme for unfitted estimators */\n",
       "  --sklearn-color-unfitted-level-0: #fff5e6;\n",
       "  --sklearn-color-unfitted-level-1: #f6e4d2;\n",
       "  --sklearn-color-unfitted-level-2: #ffe0b3;\n",
       "  --sklearn-color-unfitted-level-3: chocolate;\n",
       "  /* Definition of color scheme for fitted estimators */\n",
       "  --sklearn-color-fitted-level-0: #f0f8ff;\n",
       "  --sklearn-color-fitted-level-1: #d4ebff;\n",
       "  --sklearn-color-fitted-level-2: #b3dbfd;\n",
       "  --sklearn-color-fitted-level-3: cornflowerblue;\n",
       "\n",
       "  /* Specific color for light theme */\n",
       "  --sklearn-color-text-on-default-background: var(--sg-text-color, var(--theme-code-foreground, var(--jp-content-font-color1, black)));\n",
       "  --sklearn-color-background: var(--sg-background-color, var(--theme-background, var(--jp-layout-color0, white)));\n",
       "  --sklearn-color-border-box: var(--sg-text-color, var(--theme-code-foreground, var(--jp-content-font-color1, black)));\n",
       "  --sklearn-color-icon: #696969;\n",
       "\n",
       "  @media (prefers-color-scheme: dark) {\n",
       "    /* Redefinition of color scheme for dark theme */\n",
       "    --sklearn-color-text-on-default-background: var(--sg-text-color, var(--theme-code-foreground, var(--jp-content-font-color1, white)));\n",
       "    --sklearn-color-background: var(--sg-background-color, var(--theme-background, var(--jp-layout-color0, #111)));\n",
       "    --sklearn-color-border-box: var(--sg-text-color, var(--theme-code-foreground, var(--jp-content-font-color1, white)));\n",
       "    --sklearn-color-icon: #878787;\n",
       "  }\n",
       "}\n",
       "\n",
       "#sk-container-id-24 {\n",
       "  color: var(--sklearn-color-text);\n",
       "}\n",
       "\n",
       "#sk-container-id-24 pre {\n",
       "  padding: 0;\n",
       "}\n",
       "\n",
       "#sk-container-id-24 input.sk-hidden--visually {\n",
       "  border: 0;\n",
       "  clip: rect(1px 1px 1px 1px);\n",
       "  clip: rect(1px, 1px, 1px, 1px);\n",
       "  height: 1px;\n",
       "  margin: -1px;\n",
       "  overflow: hidden;\n",
       "  padding: 0;\n",
       "  position: absolute;\n",
       "  width: 1px;\n",
       "}\n",
       "\n",
       "#sk-container-id-24 div.sk-dashed-wrapped {\n",
       "  border: 1px dashed var(--sklearn-color-line);\n",
       "  margin: 0 0.4em 0.5em 0.4em;\n",
       "  box-sizing: border-box;\n",
       "  padding-bottom: 0.4em;\n",
       "  background-color: var(--sklearn-color-background);\n",
       "}\n",
       "\n",
       "#sk-container-id-24 div.sk-container {\n",
       "  /* jupyter's `normalize.less` sets `[hidden] { display: none; }`\n",
       "     but bootstrap.min.css set `[hidden] { display: none !important; }`\n",
       "     so we also need the `!important` here to be able to override the\n",
       "     default hidden behavior on the sphinx rendered scikit-learn.org.\n",
       "     See: https://github.com/scikit-learn/scikit-learn/issues/21755 */\n",
       "  display: inline-block !important;\n",
       "  position: relative;\n",
       "}\n",
       "\n",
       "#sk-container-id-24 div.sk-text-repr-fallback {\n",
       "  display: none;\n",
       "}\n",
       "\n",
       "div.sk-parallel-item,\n",
       "div.sk-serial,\n",
       "div.sk-item {\n",
       "  /* draw centered vertical line to link estimators */\n",
       "  background-image: linear-gradient(var(--sklearn-color-text-on-default-background), var(--sklearn-color-text-on-default-background));\n",
       "  background-size: 2px 100%;\n",
       "  background-repeat: no-repeat;\n",
       "  background-position: center center;\n",
       "}\n",
       "\n",
       "/* Parallel-specific style estimator block */\n",
       "\n",
       "#sk-container-id-24 div.sk-parallel-item::after {\n",
       "  content: \"\";\n",
       "  width: 100%;\n",
       "  border-bottom: 2px solid var(--sklearn-color-text-on-default-background);\n",
       "  flex-grow: 1;\n",
       "}\n",
       "\n",
       "#sk-container-id-24 div.sk-parallel {\n",
       "  display: flex;\n",
       "  align-items: stretch;\n",
       "  justify-content: center;\n",
       "  background-color: var(--sklearn-color-background);\n",
       "  position: relative;\n",
       "}\n",
       "\n",
       "#sk-container-id-24 div.sk-parallel-item {\n",
       "  display: flex;\n",
       "  flex-direction: column;\n",
       "}\n",
       "\n",
       "#sk-container-id-24 div.sk-parallel-item:first-child::after {\n",
       "  align-self: flex-end;\n",
       "  width: 50%;\n",
       "}\n",
       "\n",
       "#sk-container-id-24 div.sk-parallel-item:last-child::after {\n",
       "  align-self: flex-start;\n",
       "  width: 50%;\n",
       "}\n",
       "\n",
       "#sk-container-id-24 div.sk-parallel-item:only-child::after {\n",
       "  width: 0;\n",
       "}\n",
       "\n",
       "/* Serial-specific style estimator block */\n",
       "\n",
       "#sk-container-id-24 div.sk-serial {\n",
       "  display: flex;\n",
       "  flex-direction: column;\n",
       "  align-items: center;\n",
       "  background-color: var(--sklearn-color-background);\n",
       "  padding-right: 1em;\n",
       "  padding-left: 1em;\n",
       "}\n",
       "\n",
       "\n",
       "/* Toggleable style: style used for estimator/Pipeline/ColumnTransformer box that is\n",
       "clickable and can be expanded/collapsed.\n",
       "- Pipeline and ColumnTransformer use this feature and define the default style\n",
       "- Estimators will overwrite some part of the style using the `sk-estimator` class\n",
       "*/\n",
       "\n",
       "/* Pipeline and ColumnTransformer style (default) */\n",
       "\n",
       "#sk-container-id-24 div.sk-toggleable {\n",
       "  /* Default theme specific background. It is overwritten whether we have a\n",
       "  specific estimator or a Pipeline/ColumnTransformer */\n",
       "  background-color: var(--sklearn-color-background);\n",
       "}\n",
       "\n",
       "/* Toggleable label */\n",
       "#sk-container-id-24 label.sk-toggleable__label {\n",
       "  cursor: pointer;\n",
       "  display: block;\n",
       "  width: 100%;\n",
       "  margin-bottom: 0;\n",
       "  padding: 0.5em;\n",
       "  box-sizing: border-box;\n",
       "  text-align: center;\n",
       "}\n",
       "\n",
       "#sk-container-id-24 label.sk-toggleable__label-arrow:before {\n",
       "  /* Arrow on the left of the label */\n",
       "  content: \"▸\";\n",
       "  float: left;\n",
       "  margin-right: 0.25em;\n",
       "  color: var(--sklearn-color-icon);\n",
       "}\n",
       "\n",
       "#sk-container-id-24 label.sk-toggleable__label-arrow:hover:before {\n",
       "  color: var(--sklearn-color-text);\n",
       "}\n",
       "\n",
       "/* Toggleable content - dropdown */\n",
       "\n",
       "#sk-container-id-24 div.sk-toggleable__content {\n",
       "  max-height: 0;\n",
       "  max-width: 0;\n",
       "  overflow: hidden;\n",
       "  text-align: left;\n",
       "  /* unfitted */\n",
       "  background-color: var(--sklearn-color-unfitted-level-0);\n",
       "}\n",
       "\n",
       "#sk-container-id-24 div.sk-toggleable__content.fitted {\n",
       "  /* fitted */\n",
       "  background-color: var(--sklearn-color-fitted-level-0);\n",
       "}\n",
       "\n",
       "#sk-container-id-24 div.sk-toggleable__content pre {\n",
       "  margin: 0.2em;\n",
       "  border-radius: 0.25em;\n",
       "  color: var(--sklearn-color-text);\n",
       "  /* unfitted */\n",
       "  background-color: var(--sklearn-color-unfitted-level-0);\n",
       "}\n",
       "\n",
       "#sk-container-id-24 div.sk-toggleable__content.fitted pre {\n",
       "  /* unfitted */\n",
       "  background-color: var(--sklearn-color-fitted-level-0);\n",
       "}\n",
       "\n",
       "#sk-container-id-24 input.sk-toggleable__control:checked~div.sk-toggleable__content {\n",
       "  /* Expand drop-down */\n",
       "  max-height: 200px;\n",
       "  max-width: 100%;\n",
       "  overflow: auto;\n",
       "}\n",
       "\n",
       "#sk-container-id-24 input.sk-toggleable__control:checked~label.sk-toggleable__label-arrow:before {\n",
       "  content: \"▾\";\n",
       "}\n",
       "\n",
       "/* Pipeline/ColumnTransformer-specific style */\n",
       "\n",
       "#sk-container-id-24 div.sk-label input.sk-toggleable__control:checked~label.sk-toggleable__label {\n",
       "  color: var(--sklearn-color-text);\n",
       "  background-color: var(--sklearn-color-unfitted-level-2);\n",
       "}\n",
       "\n",
       "#sk-container-id-24 div.sk-label.fitted input.sk-toggleable__control:checked~label.sk-toggleable__label {\n",
       "  background-color: var(--sklearn-color-fitted-level-2);\n",
       "}\n",
       "\n",
       "/* Estimator-specific style */\n",
       "\n",
       "/* Colorize estimator box */\n",
       "#sk-container-id-24 div.sk-estimator input.sk-toggleable__control:checked~label.sk-toggleable__label {\n",
       "  /* unfitted */\n",
       "  background-color: var(--sklearn-color-unfitted-level-2);\n",
       "}\n",
       "\n",
       "#sk-container-id-24 div.sk-estimator.fitted input.sk-toggleable__control:checked~label.sk-toggleable__label {\n",
       "  /* fitted */\n",
       "  background-color: var(--sklearn-color-fitted-level-2);\n",
       "}\n",
       "\n",
       "#sk-container-id-24 div.sk-label label.sk-toggleable__label,\n",
       "#sk-container-id-24 div.sk-label label {\n",
       "  /* The background is the default theme color */\n",
       "  color: var(--sklearn-color-text-on-default-background);\n",
       "}\n",
       "\n",
       "/* On hover, darken the color of the background */\n",
       "#sk-container-id-24 div.sk-label:hover label.sk-toggleable__label {\n",
       "  color: var(--sklearn-color-text);\n",
       "  background-color: var(--sklearn-color-unfitted-level-2);\n",
       "}\n",
       "\n",
       "/* Label box, darken color on hover, fitted */\n",
       "#sk-container-id-24 div.sk-label.fitted:hover label.sk-toggleable__label.fitted {\n",
       "  color: var(--sklearn-color-text);\n",
       "  background-color: var(--sklearn-color-fitted-level-2);\n",
       "}\n",
       "\n",
       "/* Estimator label */\n",
       "\n",
       "#sk-container-id-24 div.sk-label label {\n",
       "  font-family: monospace;\n",
       "  font-weight: bold;\n",
       "  display: inline-block;\n",
       "  line-height: 1.2em;\n",
       "}\n",
       "\n",
       "#sk-container-id-24 div.sk-label-container {\n",
       "  text-align: center;\n",
       "}\n",
       "\n",
       "/* Estimator-specific */\n",
       "#sk-container-id-24 div.sk-estimator {\n",
       "  font-family: monospace;\n",
       "  border: 1px dotted var(--sklearn-color-border-box);\n",
       "  border-radius: 0.25em;\n",
       "  box-sizing: border-box;\n",
       "  margin-bottom: 0.5em;\n",
       "  /* unfitted */\n",
       "  background-color: var(--sklearn-color-unfitted-level-0);\n",
       "}\n",
       "\n",
       "#sk-container-id-24 div.sk-estimator.fitted {\n",
       "  /* fitted */\n",
       "  background-color: var(--sklearn-color-fitted-level-0);\n",
       "}\n",
       "\n",
       "/* on hover */\n",
       "#sk-container-id-24 div.sk-estimator:hover {\n",
       "  /* unfitted */\n",
       "  background-color: var(--sklearn-color-unfitted-level-2);\n",
       "}\n",
       "\n",
       "#sk-container-id-24 div.sk-estimator.fitted:hover {\n",
       "  /* fitted */\n",
       "  background-color: var(--sklearn-color-fitted-level-2);\n",
       "}\n",
       "\n",
       "/* Specification for estimator info (e.g. \"i\" and \"?\") */\n",
       "\n",
       "/* Common style for \"i\" and \"?\" */\n",
       "\n",
       ".sk-estimator-doc-link,\n",
       "a:link.sk-estimator-doc-link,\n",
       "a:visited.sk-estimator-doc-link {\n",
       "  float: right;\n",
       "  font-size: smaller;\n",
       "  line-height: 1em;\n",
       "  font-family: monospace;\n",
       "  background-color: var(--sklearn-color-background);\n",
       "  border-radius: 1em;\n",
       "  height: 1em;\n",
       "  width: 1em;\n",
       "  text-decoration: none !important;\n",
       "  margin-left: 1ex;\n",
       "  /* unfitted */\n",
       "  border: var(--sklearn-color-unfitted-level-1) 1pt solid;\n",
       "  color: var(--sklearn-color-unfitted-level-1);\n",
       "}\n",
       "\n",
       ".sk-estimator-doc-link.fitted,\n",
       "a:link.sk-estimator-doc-link.fitted,\n",
       "a:visited.sk-estimator-doc-link.fitted {\n",
       "  /* fitted */\n",
       "  border: var(--sklearn-color-fitted-level-1) 1pt solid;\n",
       "  color: var(--sklearn-color-fitted-level-1);\n",
       "}\n",
       "\n",
       "/* On hover */\n",
       "div.sk-estimator:hover .sk-estimator-doc-link:hover,\n",
       ".sk-estimator-doc-link:hover,\n",
       "div.sk-label-container:hover .sk-estimator-doc-link:hover,\n",
       ".sk-estimator-doc-link:hover {\n",
       "  /* unfitted */\n",
       "  background-color: var(--sklearn-color-unfitted-level-3);\n",
       "  color: var(--sklearn-color-background);\n",
       "  text-decoration: none;\n",
       "}\n",
       "\n",
       "div.sk-estimator.fitted:hover .sk-estimator-doc-link.fitted:hover,\n",
       ".sk-estimator-doc-link.fitted:hover,\n",
       "div.sk-label-container:hover .sk-estimator-doc-link.fitted:hover,\n",
       ".sk-estimator-doc-link.fitted:hover {\n",
       "  /* fitted */\n",
       "  background-color: var(--sklearn-color-fitted-level-3);\n",
       "  color: var(--sklearn-color-background);\n",
       "  text-decoration: none;\n",
       "}\n",
       "\n",
       "/* Span, style for the box shown on hovering the info icon */\n",
       ".sk-estimator-doc-link span {\n",
       "  display: none;\n",
       "  z-index: 9999;\n",
       "  position: relative;\n",
       "  font-weight: normal;\n",
       "  right: .2ex;\n",
       "  padding: .5ex;\n",
       "  margin: .5ex;\n",
       "  width: min-content;\n",
       "  min-width: 20ex;\n",
       "  max-width: 50ex;\n",
       "  color: var(--sklearn-color-text);\n",
       "  box-shadow: 2pt 2pt 4pt #999;\n",
       "  /* unfitted */\n",
       "  background: var(--sklearn-color-unfitted-level-0);\n",
       "  border: .5pt solid var(--sklearn-color-unfitted-level-3);\n",
       "}\n",
       "\n",
       ".sk-estimator-doc-link.fitted span {\n",
       "  /* fitted */\n",
       "  background: var(--sklearn-color-fitted-level-0);\n",
       "  border: var(--sklearn-color-fitted-level-3);\n",
       "}\n",
       "\n",
       ".sk-estimator-doc-link:hover span {\n",
       "  display: block;\n",
       "}\n",
       "\n",
       "/* \"?\"-specific style due to the `<a>` HTML tag */\n",
       "\n",
       "#sk-container-id-24 a.estimator_doc_link {\n",
       "  float: right;\n",
       "  font-size: 1rem;\n",
       "  line-height: 1em;\n",
       "  font-family: monospace;\n",
       "  background-color: var(--sklearn-color-background);\n",
       "  border-radius: 1rem;\n",
       "  height: 1rem;\n",
       "  width: 1rem;\n",
       "  text-decoration: none;\n",
       "  /* unfitted */\n",
       "  color: var(--sklearn-color-unfitted-level-1);\n",
       "  border: var(--sklearn-color-unfitted-level-1) 1pt solid;\n",
       "}\n",
       "\n",
       "#sk-container-id-24 a.estimator_doc_link.fitted {\n",
       "  /* fitted */\n",
       "  border: var(--sklearn-color-fitted-level-1) 1pt solid;\n",
       "  color: var(--sklearn-color-fitted-level-1);\n",
       "}\n",
       "\n",
       "/* On hover */\n",
       "#sk-container-id-24 a.estimator_doc_link:hover {\n",
       "  /* unfitted */\n",
       "  background-color: var(--sklearn-color-unfitted-level-3);\n",
       "  color: var(--sklearn-color-background);\n",
       "  text-decoration: none;\n",
       "}\n",
       "\n",
       "#sk-container-id-24 a.estimator_doc_link.fitted:hover {\n",
       "  /* fitted */\n",
       "  background-color: var(--sklearn-color-fitted-level-3);\n",
       "}\n",
       "</style><div id=\"sk-container-id-24\" class=\"sk-top-container\"><div class=\"sk-text-repr-fallback\"><pre>Pipeline(steps=[(&#x27;scaler&#x27;, RobustScaler()), (&#x27;model&#x27;, LogisticRegression())])</pre><b>In a Jupyter environment, please rerun this cell to show the HTML representation or trust the notebook. <br />On GitHub, the HTML representation is unable to render, please try loading this page with nbviewer.org.</b></div><div class=\"sk-container\" hidden><div class=\"sk-item sk-dashed-wrapped\"><div class=\"sk-label-container\"><div class=\"sk-label fitted sk-toggleable\"><input class=\"sk-toggleable__control sk-hidden--visually\" id=\"sk-estimator-id-76\" type=\"checkbox\" ><label for=\"sk-estimator-id-76\" class=\"sk-toggleable__label fitted sk-toggleable__label-arrow fitted\">&nbsp;&nbsp;Pipeline<a class=\"sk-estimator-doc-link fitted\" rel=\"noreferrer\" target=\"_blank\" href=\"https://scikit-learn.org/1.5/modules/generated/sklearn.pipeline.Pipeline.html\">?<span>Documentation for Pipeline</span></a><span class=\"sk-estimator-doc-link fitted\">i<span>Fitted</span></span></label><div class=\"sk-toggleable__content fitted\"><pre>Pipeline(steps=[(&#x27;scaler&#x27;, RobustScaler()), (&#x27;model&#x27;, LogisticRegression())])</pre></div> </div></div><div class=\"sk-serial\"><div class=\"sk-item\"><div class=\"sk-estimator fitted sk-toggleable\"><input class=\"sk-toggleable__control sk-hidden--visually\" id=\"sk-estimator-id-77\" type=\"checkbox\" ><label for=\"sk-estimator-id-77\" class=\"sk-toggleable__label fitted sk-toggleable__label-arrow fitted\">&nbsp;RobustScaler<a class=\"sk-estimator-doc-link fitted\" rel=\"noreferrer\" target=\"_blank\" href=\"https://scikit-learn.org/1.5/modules/generated/sklearn.preprocessing.RobustScaler.html\">?<span>Documentation for RobustScaler</span></a></label><div class=\"sk-toggleable__content fitted\"><pre>RobustScaler()</pre></div> </div></div><div class=\"sk-item\"><div class=\"sk-estimator fitted sk-toggleable\"><input class=\"sk-toggleable__control sk-hidden--visually\" id=\"sk-estimator-id-78\" type=\"checkbox\" ><label for=\"sk-estimator-id-78\" class=\"sk-toggleable__label fitted sk-toggleable__label-arrow fitted\">&nbsp;LogisticRegression<a class=\"sk-estimator-doc-link fitted\" rel=\"noreferrer\" target=\"_blank\" href=\"https://scikit-learn.org/1.5/modules/generated/sklearn.linear_model.LogisticRegression.html\">?<span>Documentation for LogisticRegression</span></a></label><div class=\"sk-toggleable__content fitted\"><pre>LogisticRegression()</pre></div> </div></div></div></div></div></div>"
      ],
      "text/plain": [
       "Pipeline(steps=[('scaler', RobustScaler()), ('model', LogisticRegression())])"
      ]
     },
     "execution_count": 306,
     "metadata": {},
     "output_type": "execute_result"
    }
   ],
   "source": [
    "baseline_clf = Pipeline(steps=[\n",
    "    ('scaler', RobustScaler()),\n",
    "    ('model', LogisticRegression())\n",
    "])\n",
    "\n",
    "baseline_clf.fit(X_train, y_train)"
   ]
  },
  {
   "cell_type": "code",
   "execution_count": 307,
   "metadata": {},
   "outputs": [],
   "source": [
    "y_train_pred = baseline_clf.predict(X_train)\n",
    "y_test_pred = baseline_clf.predict(X_test)"
   ]
  },
  {
   "cell_type": "code",
   "execution_count": 337,
   "metadata": {},
   "outputs": [
    {
     "name": "stdout",
     "output_type": "stream",
     "text": [
      "Training Classification Report\n",
      "               precision    recall  f1-score   support\n",
      "\n",
      "           0       1.00      0.97      0.99        40\n",
      "           1       0.85      0.83      0.84        41\n",
      "           2       0.83      0.87      0.85        39\n",
      "\n",
      "    accuracy                           0.89       120\n",
      "   macro avg       0.89      0.89      0.89       120\n",
      "weighted avg       0.89      0.89      0.89       120\n",
      "\n"
     ]
    },
    {
     "data": {
      "application/vnd.plotly.v1+json": {
       "config": {
        "plotlyServerURL": "https://plot.ly"
       },
       "data": [
        {
         "coloraxis": "coloraxis",
         "hovertemplate": "x: %{x}<br>y: %{y}<br>color: %{z}<extra></extra>",
         "name": "0",
         "texttemplate": "%{z}",
         "type": "heatmap",
         "xaxis": "x",
         "yaxis": "y",
         "z": [
          [
           39,
           1,
           0
          ],
          [
           0,
           34,
           7
          ],
          [
           0,
           5,
           34
          ]
         ]
        }
       ],
       "layout": {
        "coloraxis": {
         "colorscale": [
          [
           0,
           "white"
          ],
          [
           0.5,
           "#1bb4fa"
          ],
          [
           1,
           "#2752ee"
          ]
         ]
        },
        "font": {
         "color": "black",
         "family": "Georgia",
         "size": 14
        },
        "height": 400,
        "margin": {
         "t": 60
        },
        "template": {
         "data": {
          "bar": [
           {
            "error_x": {
             "color": "#2a3f5f"
            },
            "error_y": {
             "color": "#2a3f5f"
            },
            "marker": {
             "line": {
              "color": "white",
              "width": 0.5
             },
             "pattern": {
              "fillmode": "overlay",
              "size": 10,
              "solidity": 0.2
             }
            },
            "type": "bar"
           }
          ],
          "barpolar": [
           {
            "marker": {
             "line": {
              "color": "white",
              "width": 0.5
             },
             "pattern": {
              "fillmode": "overlay",
              "size": 10,
              "solidity": 0.2
             }
            },
            "type": "barpolar"
           }
          ],
          "carpet": [
           {
            "aaxis": {
             "endlinecolor": "#2a3f5f",
             "gridcolor": "#C8D4E3",
             "linecolor": "#C8D4E3",
             "minorgridcolor": "#C8D4E3",
             "startlinecolor": "#2a3f5f"
            },
            "baxis": {
             "endlinecolor": "#2a3f5f",
             "gridcolor": "#C8D4E3",
             "linecolor": "#C8D4E3",
             "minorgridcolor": "#C8D4E3",
             "startlinecolor": "#2a3f5f"
            },
            "type": "carpet"
           }
          ],
          "choropleth": [
           {
            "colorbar": {
             "outlinewidth": 0,
             "ticks": ""
            },
            "type": "choropleth"
           }
          ],
          "contour": [
           {
            "colorbar": {
             "outlinewidth": 0,
             "ticks": ""
            },
            "colorscale": [
             [
              0,
              "#0d0887"
             ],
             [
              0.1111111111111111,
              "#46039f"
             ],
             [
              0.2222222222222222,
              "#7201a8"
             ],
             [
              0.3333333333333333,
              "#9c179e"
             ],
             [
              0.4444444444444444,
              "#bd3786"
             ],
             [
              0.5555555555555556,
              "#d8576b"
             ],
             [
              0.6666666666666666,
              "#ed7953"
             ],
             [
              0.7777777777777778,
              "#fb9f3a"
             ],
             [
              0.8888888888888888,
              "#fdca26"
             ],
             [
              1,
              "#f0f921"
             ]
            ],
            "type": "contour"
           }
          ],
          "contourcarpet": [
           {
            "colorbar": {
             "outlinewidth": 0,
             "ticks": ""
            },
            "type": "contourcarpet"
           }
          ],
          "heatmap": [
           {
            "colorbar": {
             "outlinewidth": 0,
             "ticks": ""
            },
            "colorscale": [
             [
              0,
              "#0d0887"
             ],
             [
              0.1111111111111111,
              "#46039f"
             ],
             [
              0.2222222222222222,
              "#7201a8"
             ],
             [
              0.3333333333333333,
              "#9c179e"
             ],
             [
              0.4444444444444444,
              "#bd3786"
             ],
             [
              0.5555555555555556,
              "#d8576b"
             ],
             [
              0.6666666666666666,
              "#ed7953"
             ],
             [
              0.7777777777777778,
              "#fb9f3a"
             ],
             [
              0.8888888888888888,
              "#fdca26"
             ],
             [
              1,
              "#f0f921"
             ]
            ],
            "type": "heatmap"
           }
          ],
          "heatmapgl": [
           {
            "colorbar": {
             "outlinewidth": 0,
             "ticks": ""
            },
            "colorscale": [
             [
              0,
              "#0d0887"
             ],
             [
              0.1111111111111111,
              "#46039f"
             ],
             [
              0.2222222222222222,
              "#7201a8"
             ],
             [
              0.3333333333333333,
              "#9c179e"
             ],
             [
              0.4444444444444444,
              "#bd3786"
             ],
             [
              0.5555555555555556,
              "#d8576b"
             ],
             [
              0.6666666666666666,
              "#ed7953"
             ],
             [
              0.7777777777777778,
              "#fb9f3a"
             ],
             [
              0.8888888888888888,
              "#fdca26"
             ],
             [
              1,
              "#f0f921"
             ]
            ],
            "type": "heatmapgl"
           }
          ],
          "histogram": [
           {
            "marker": {
             "pattern": {
              "fillmode": "overlay",
              "size": 10,
              "solidity": 0.2
             }
            },
            "type": "histogram"
           }
          ],
          "histogram2d": [
           {
            "colorbar": {
             "outlinewidth": 0,
             "ticks": ""
            },
            "colorscale": [
             [
              0,
              "#0d0887"
             ],
             [
              0.1111111111111111,
              "#46039f"
             ],
             [
              0.2222222222222222,
              "#7201a8"
             ],
             [
              0.3333333333333333,
              "#9c179e"
             ],
             [
              0.4444444444444444,
              "#bd3786"
             ],
             [
              0.5555555555555556,
              "#d8576b"
             ],
             [
              0.6666666666666666,
              "#ed7953"
             ],
             [
              0.7777777777777778,
              "#fb9f3a"
             ],
             [
              0.8888888888888888,
              "#fdca26"
             ],
             [
              1,
              "#f0f921"
             ]
            ],
            "type": "histogram2d"
           }
          ],
          "histogram2dcontour": [
           {
            "colorbar": {
             "outlinewidth": 0,
             "ticks": ""
            },
            "colorscale": [
             [
              0,
              "#0d0887"
             ],
             [
              0.1111111111111111,
              "#46039f"
             ],
             [
              0.2222222222222222,
              "#7201a8"
             ],
             [
              0.3333333333333333,
              "#9c179e"
             ],
             [
              0.4444444444444444,
              "#bd3786"
             ],
             [
              0.5555555555555556,
              "#d8576b"
             ],
             [
              0.6666666666666666,
              "#ed7953"
             ],
             [
              0.7777777777777778,
              "#fb9f3a"
             ],
             [
              0.8888888888888888,
              "#fdca26"
             ],
             [
              1,
              "#f0f921"
             ]
            ],
            "type": "histogram2dcontour"
           }
          ],
          "mesh3d": [
           {
            "colorbar": {
             "outlinewidth": 0,
             "ticks": ""
            },
            "type": "mesh3d"
           }
          ],
          "parcoords": [
           {
            "line": {
             "colorbar": {
              "outlinewidth": 0,
              "ticks": ""
             }
            },
            "type": "parcoords"
           }
          ],
          "pie": [
           {
            "automargin": true,
            "type": "pie"
           }
          ],
          "scatter": [
           {
            "fillpattern": {
             "fillmode": "overlay",
             "size": 10,
             "solidity": 0.2
            },
            "type": "scatter"
           }
          ],
          "scatter3d": [
           {
            "line": {
             "colorbar": {
              "outlinewidth": 0,
              "ticks": ""
             }
            },
            "marker": {
             "colorbar": {
              "outlinewidth": 0,
              "ticks": ""
             }
            },
            "type": "scatter3d"
           }
          ],
          "scattercarpet": [
           {
            "marker": {
             "colorbar": {
              "outlinewidth": 0,
              "ticks": ""
             }
            },
            "type": "scattercarpet"
           }
          ],
          "scattergeo": [
           {
            "marker": {
             "colorbar": {
              "outlinewidth": 0,
              "ticks": ""
             }
            },
            "type": "scattergeo"
           }
          ],
          "scattergl": [
           {
            "marker": {
             "colorbar": {
              "outlinewidth": 0,
              "ticks": ""
             }
            },
            "type": "scattergl"
           }
          ],
          "scattermapbox": [
           {
            "marker": {
             "colorbar": {
              "outlinewidth": 0,
              "ticks": ""
             }
            },
            "type": "scattermapbox"
           }
          ],
          "scatterpolar": [
           {
            "marker": {
             "colorbar": {
              "outlinewidth": 0,
              "ticks": ""
             }
            },
            "type": "scatterpolar"
           }
          ],
          "scatterpolargl": [
           {
            "marker": {
             "colorbar": {
              "outlinewidth": 0,
              "ticks": ""
             }
            },
            "type": "scatterpolargl"
           }
          ],
          "scatterternary": [
           {
            "marker": {
             "colorbar": {
              "outlinewidth": 0,
              "ticks": ""
             }
            },
            "type": "scatterternary"
           }
          ],
          "surface": [
           {
            "colorbar": {
             "outlinewidth": 0,
             "ticks": ""
            },
            "colorscale": [
             [
              0,
              "#0d0887"
             ],
             [
              0.1111111111111111,
              "#46039f"
             ],
             [
              0.2222222222222222,
              "#7201a8"
             ],
             [
              0.3333333333333333,
              "#9c179e"
             ],
             [
              0.4444444444444444,
              "#bd3786"
             ],
             [
              0.5555555555555556,
              "#d8576b"
             ],
             [
              0.6666666666666666,
              "#ed7953"
             ],
             [
              0.7777777777777778,
              "#fb9f3a"
             ],
             [
              0.8888888888888888,
              "#fdca26"
             ],
             [
              1,
              "#f0f921"
             ]
            ],
            "type": "surface"
           }
          ],
          "table": [
           {
            "cells": {
             "fill": {
              "color": "#EBF0F8"
             },
             "line": {
              "color": "white"
             }
            },
            "header": {
             "fill": {
              "color": "#C8D4E3"
             },
             "line": {
              "color": "white"
             }
            },
            "type": "table"
           }
          ]
         },
         "layout": {
          "annotationdefaults": {
           "arrowcolor": "#2a3f5f",
           "arrowhead": 0,
           "arrowwidth": 1
          },
          "autotypenumbers": "strict",
          "coloraxis": {
           "colorbar": {
            "outlinewidth": 0,
            "ticks": ""
           }
          },
          "colorscale": {
           "diverging": [
            [
             0,
             "#8e0152"
            ],
            [
             0.1,
             "#c51b7d"
            ],
            [
             0.2,
             "#de77ae"
            ],
            [
             0.3,
             "#f1b6da"
            ],
            [
             0.4,
             "#fde0ef"
            ],
            [
             0.5,
             "#f7f7f7"
            ],
            [
             0.6,
             "#e6f5d0"
            ],
            [
             0.7,
             "#b8e186"
            ],
            [
             0.8,
             "#7fbc41"
            ],
            [
             0.9,
             "#4d9221"
            ],
            [
             1,
             "#276419"
            ]
           ],
           "sequential": [
            [
             0,
             "#0d0887"
            ],
            [
             0.1111111111111111,
             "#46039f"
            ],
            [
             0.2222222222222222,
             "#7201a8"
            ],
            [
             0.3333333333333333,
             "#9c179e"
            ],
            [
             0.4444444444444444,
             "#bd3786"
            ],
            [
             0.5555555555555556,
             "#d8576b"
            ],
            [
             0.6666666666666666,
             "#ed7953"
            ],
            [
             0.7777777777777778,
             "#fb9f3a"
            ],
            [
             0.8888888888888888,
             "#fdca26"
            ],
            [
             1,
             "#f0f921"
            ]
           ],
           "sequentialminus": [
            [
             0,
             "#0d0887"
            ],
            [
             0.1111111111111111,
             "#46039f"
            ],
            [
             0.2222222222222222,
             "#7201a8"
            ],
            [
             0.3333333333333333,
             "#9c179e"
            ],
            [
             0.4444444444444444,
             "#bd3786"
            ],
            [
             0.5555555555555556,
             "#d8576b"
            ],
            [
             0.6666666666666666,
             "#ed7953"
            ],
            [
             0.7777777777777778,
             "#fb9f3a"
            ],
            [
             0.8888888888888888,
             "#fdca26"
            ],
            [
             1,
             "#f0f921"
            ]
           ]
          },
          "colorway": [
           "#636efa",
           "#EF553B",
           "#00cc96",
           "#ab63fa",
           "#FFA15A",
           "#19d3f3",
           "#FF6692",
           "#B6E880",
           "#FF97FF",
           "#FECB52"
          ],
          "font": {
           "color": "#2a3f5f"
          },
          "geo": {
           "bgcolor": "white",
           "lakecolor": "white",
           "landcolor": "white",
           "showlakes": true,
           "showland": true,
           "subunitcolor": "#C8D4E3"
          },
          "hoverlabel": {
           "align": "left"
          },
          "hovermode": "closest",
          "mapbox": {
           "style": "light"
          },
          "paper_bgcolor": "white",
          "plot_bgcolor": "white",
          "polar": {
           "angularaxis": {
            "gridcolor": "#EBF0F8",
            "linecolor": "#EBF0F8",
            "ticks": ""
           },
           "bgcolor": "white",
           "radialaxis": {
            "gridcolor": "#EBF0F8",
            "linecolor": "#EBF0F8",
            "ticks": ""
           }
          },
          "scene": {
           "xaxis": {
            "backgroundcolor": "white",
            "gridcolor": "#DFE8F3",
            "gridwidth": 2,
            "linecolor": "#EBF0F8",
            "showbackground": true,
            "ticks": "",
            "zerolinecolor": "#EBF0F8"
           },
           "yaxis": {
            "backgroundcolor": "white",
            "gridcolor": "#DFE8F3",
            "gridwidth": 2,
            "linecolor": "#EBF0F8",
            "showbackground": true,
            "ticks": "",
            "zerolinecolor": "#EBF0F8"
           },
           "zaxis": {
            "backgroundcolor": "white",
            "gridcolor": "#DFE8F3",
            "gridwidth": 2,
            "linecolor": "#EBF0F8",
            "showbackground": true,
            "ticks": "",
            "zerolinecolor": "#EBF0F8"
           }
          },
          "shapedefaults": {
           "line": {
            "color": "#2a3f5f"
           }
          },
          "ternary": {
           "aaxis": {
            "gridcolor": "#DFE8F3",
            "linecolor": "#A2B1C6",
            "ticks": ""
           },
           "baxis": {
            "gridcolor": "#DFE8F3",
            "linecolor": "#A2B1C6",
            "ticks": ""
           },
           "bgcolor": "white",
           "caxis": {
            "gridcolor": "#DFE8F3",
            "linecolor": "#A2B1C6",
            "ticks": ""
           }
          },
          "title": {
           "x": 0.05
          },
          "xaxis": {
           "automargin": true,
           "gridcolor": "#EBF0F8",
           "linecolor": "#EBF0F8",
           "ticks": "",
           "title": {
            "standoff": 15
           },
           "zerolinecolor": "#EBF0F8",
           "zerolinewidth": 2
          },
          "yaxis": {
           "automargin": true,
           "gridcolor": "#EBF0F8",
           "linecolor": "#EBF0F8",
           "ticks": "",
           "title": {
            "standoff": 15
           },
           "zerolinecolor": "#EBF0F8",
           "zerolinewidth": 2
          }
         }
        },
        "title": {
         "text": "Training Confusion Matrix"
        },
        "width": 400,
        "xaxis": {
         "anchor": "y",
         "constrain": "domain",
         "domain": [
          0,
          1
         ],
         "scaleanchor": "y"
        },
        "yaxis": {
         "anchor": "x",
         "autorange": "reversed",
         "constrain": "domain",
         "domain": [
          0,
          1
         ]
        }
       }
      }
     },
     "metadata": {},
     "output_type": "display_data"
    }
   ],
   "source": [
    "print('Training Classification Report\\n', classification_report(y_train, y_train_pred))\n",
    "cm = confusion_matrix(y_train, y_train_pred)\n",
    "cm_train_fig = px.imshow(cm, color_continuous_scale=['white' ,colors[4], colors[0]], text_auto=True)\n",
    "cm_train_fig.update_layout(\n",
    "    template='plotly_white',\n",
    "    title='Training Confusion Matrix',\n",
    "    width=400,\n",
    "    height=400,\n",
    "    font=dict(family='Georgia', size=14, color='black')\n",
    ")"
   ]
  },
  {
   "cell_type": "code",
   "execution_count": 336,
   "metadata": {},
   "outputs": [
    {
     "name": "stdout",
     "output_type": "stream",
     "text": [
      "Testing Classification Report\n",
      "               precision    recall  f1-score   support\n",
      "\n",
      "           0       1.00      1.00      1.00        10\n",
      "           1       0.89      0.89      0.89         9\n",
      "           2       0.91      0.91      0.91        11\n",
      "\n",
      "    accuracy                           0.93        30\n",
      "   macro avg       0.93      0.93      0.93        30\n",
      "weighted avg       0.93      0.93      0.93        30\n",
      "\n"
     ]
    },
    {
     "data": {
      "application/vnd.plotly.v1+json": {
       "config": {
        "plotlyServerURL": "https://plot.ly"
       },
       "data": [
        {
         "coloraxis": "coloraxis",
         "hovertemplate": "x: %{x}<br>y: %{y}<br>color: %{z}<extra></extra>",
         "name": "0",
         "texttemplate": "%{z}",
         "type": "heatmap",
         "xaxis": "x",
         "yaxis": "y",
         "z": [
          [
           10,
           0,
           0
          ],
          [
           0,
           8,
           1
          ],
          [
           0,
           1,
           10
          ]
         ]
        }
       ],
       "layout": {
        "coloraxis": {
         "colorscale": [
          [
           0,
           "white"
          ],
          [
           0.5,
           "#1bb4fa"
          ],
          [
           1,
           "#2752ee"
          ]
         ]
        },
        "font": {
         "color": "black",
         "family": "Georgia",
         "size": 14
        },
        "height": 400,
        "margin": {
         "t": 60
        },
        "template": {
         "data": {
          "bar": [
           {
            "error_x": {
             "color": "#2a3f5f"
            },
            "error_y": {
             "color": "#2a3f5f"
            },
            "marker": {
             "line": {
              "color": "white",
              "width": 0.5
             },
             "pattern": {
              "fillmode": "overlay",
              "size": 10,
              "solidity": 0.2
             }
            },
            "type": "bar"
           }
          ],
          "barpolar": [
           {
            "marker": {
             "line": {
              "color": "white",
              "width": 0.5
             },
             "pattern": {
              "fillmode": "overlay",
              "size": 10,
              "solidity": 0.2
             }
            },
            "type": "barpolar"
           }
          ],
          "carpet": [
           {
            "aaxis": {
             "endlinecolor": "#2a3f5f",
             "gridcolor": "#C8D4E3",
             "linecolor": "#C8D4E3",
             "minorgridcolor": "#C8D4E3",
             "startlinecolor": "#2a3f5f"
            },
            "baxis": {
             "endlinecolor": "#2a3f5f",
             "gridcolor": "#C8D4E3",
             "linecolor": "#C8D4E3",
             "minorgridcolor": "#C8D4E3",
             "startlinecolor": "#2a3f5f"
            },
            "type": "carpet"
           }
          ],
          "choropleth": [
           {
            "colorbar": {
             "outlinewidth": 0,
             "ticks": ""
            },
            "type": "choropleth"
           }
          ],
          "contour": [
           {
            "colorbar": {
             "outlinewidth": 0,
             "ticks": ""
            },
            "colorscale": [
             [
              0,
              "#0d0887"
             ],
             [
              0.1111111111111111,
              "#46039f"
             ],
             [
              0.2222222222222222,
              "#7201a8"
             ],
             [
              0.3333333333333333,
              "#9c179e"
             ],
             [
              0.4444444444444444,
              "#bd3786"
             ],
             [
              0.5555555555555556,
              "#d8576b"
             ],
             [
              0.6666666666666666,
              "#ed7953"
             ],
             [
              0.7777777777777778,
              "#fb9f3a"
             ],
             [
              0.8888888888888888,
              "#fdca26"
             ],
             [
              1,
              "#f0f921"
             ]
            ],
            "type": "contour"
           }
          ],
          "contourcarpet": [
           {
            "colorbar": {
             "outlinewidth": 0,
             "ticks": ""
            },
            "type": "contourcarpet"
           }
          ],
          "heatmap": [
           {
            "colorbar": {
             "outlinewidth": 0,
             "ticks": ""
            },
            "colorscale": [
             [
              0,
              "#0d0887"
             ],
             [
              0.1111111111111111,
              "#46039f"
             ],
             [
              0.2222222222222222,
              "#7201a8"
             ],
             [
              0.3333333333333333,
              "#9c179e"
             ],
             [
              0.4444444444444444,
              "#bd3786"
             ],
             [
              0.5555555555555556,
              "#d8576b"
             ],
             [
              0.6666666666666666,
              "#ed7953"
             ],
             [
              0.7777777777777778,
              "#fb9f3a"
             ],
             [
              0.8888888888888888,
              "#fdca26"
             ],
             [
              1,
              "#f0f921"
             ]
            ],
            "type": "heatmap"
           }
          ],
          "heatmapgl": [
           {
            "colorbar": {
             "outlinewidth": 0,
             "ticks": ""
            },
            "colorscale": [
             [
              0,
              "#0d0887"
             ],
             [
              0.1111111111111111,
              "#46039f"
             ],
             [
              0.2222222222222222,
              "#7201a8"
             ],
             [
              0.3333333333333333,
              "#9c179e"
             ],
             [
              0.4444444444444444,
              "#bd3786"
             ],
             [
              0.5555555555555556,
              "#d8576b"
             ],
             [
              0.6666666666666666,
              "#ed7953"
             ],
             [
              0.7777777777777778,
              "#fb9f3a"
             ],
             [
              0.8888888888888888,
              "#fdca26"
             ],
             [
              1,
              "#f0f921"
             ]
            ],
            "type": "heatmapgl"
           }
          ],
          "histogram": [
           {
            "marker": {
             "pattern": {
              "fillmode": "overlay",
              "size": 10,
              "solidity": 0.2
             }
            },
            "type": "histogram"
           }
          ],
          "histogram2d": [
           {
            "colorbar": {
             "outlinewidth": 0,
             "ticks": ""
            },
            "colorscale": [
             [
              0,
              "#0d0887"
             ],
             [
              0.1111111111111111,
              "#46039f"
             ],
             [
              0.2222222222222222,
              "#7201a8"
             ],
             [
              0.3333333333333333,
              "#9c179e"
             ],
             [
              0.4444444444444444,
              "#bd3786"
             ],
             [
              0.5555555555555556,
              "#d8576b"
             ],
             [
              0.6666666666666666,
              "#ed7953"
             ],
             [
              0.7777777777777778,
              "#fb9f3a"
             ],
             [
              0.8888888888888888,
              "#fdca26"
             ],
             [
              1,
              "#f0f921"
             ]
            ],
            "type": "histogram2d"
           }
          ],
          "histogram2dcontour": [
           {
            "colorbar": {
             "outlinewidth": 0,
             "ticks": ""
            },
            "colorscale": [
             [
              0,
              "#0d0887"
             ],
             [
              0.1111111111111111,
              "#46039f"
             ],
             [
              0.2222222222222222,
              "#7201a8"
             ],
             [
              0.3333333333333333,
              "#9c179e"
             ],
             [
              0.4444444444444444,
              "#bd3786"
             ],
             [
              0.5555555555555556,
              "#d8576b"
             ],
             [
              0.6666666666666666,
              "#ed7953"
             ],
             [
              0.7777777777777778,
              "#fb9f3a"
             ],
             [
              0.8888888888888888,
              "#fdca26"
             ],
             [
              1,
              "#f0f921"
             ]
            ],
            "type": "histogram2dcontour"
           }
          ],
          "mesh3d": [
           {
            "colorbar": {
             "outlinewidth": 0,
             "ticks": ""
            },
            "type": "mesh3d"
           }
          ],
          "parcoords": [
           {
            "line": {
             "colorbar": {
              "outlinewidth": 0,
              "ticks": ""
             }
            },
            "type": "parcoords"
           }
          ],
          "pie": [
           {
            "automargin": true,
            "type": "pie"
           }
          ],
          "scatter": [
           {
            "fillpattern": {
             "fillmode": "overlay",
             "size": 10,
             "solidity": 0.2
            },
            "type": "scatter"
           }
          ],
          "scatter3d": [
           {
            "line": {
             "colorbar": {
              "outlinewidth": 0,
              "ticks": ""
             }
            },
            "marker": {
             "colorbar": {
              "outlinewidth": 0,
              "ticks": ""
             }
            },
            "type": "scatter3d"
           }
          ],
          "scattercarpet": [
           {
            "marker": {
             "colorbar": {
              "outlinewidth": 0,
              "ticks": ""
             }
            },
            "type": "scattercarpet"
           }
          ],
          "scattergeo": [
           {
            "marker": {
             "colorbar": {
              "outlinewidth": 0,
              "ticks": ""
             }
            },
            "type": "scattergeo"
           }
          ],
          "scattergl": [
           {
            "marker": {
             "colorbar": {
              "outlinewidth": 0,
              "ticks": ""
             }
            },
            "type": "scattergl"
           }
          ],
          "scattermapbox": [
           {
            "marker": {
             "colorbar": {
              "outlinewidth": 0,
              "ticks": ""
             }
            },
            "type": "scattermapbox"
           }
          ],
          "scatterpolar": [
           {
            "marker": {
             "colorbar": {
              "outlinewidth": 0,
              "ticks": ""
             }
            },
            "type": "scatterpolar"
           }
          ],
          "scatterpolargl": [
           {
            "marker": {
             "colorbar": {
              "outlinewidth": 0,
              "ticks": ""
             }
            },
            "type": "scatterpolargl"
           }
          ],
          "scatterternary": [
           {
            "marker": {
             "colorbar": {
              "outlinewidth": 0,
              "ticks": ""
             }
            },
            "type": "scatterternary"
           }
          ],
          "surface": [
           {
            "colorbar": {
             "outlinewidth": 0,
             "ticks": ""
            },
            "colorscale": [
             [
              0,
              "#0d0887"
             ],
             [
              0.1111111111111111,
              "#46039f"
             ],
             [
              0.2222222222222222,
              "#7201a8"
             ],
             [
              0.3333333333333333,
              "#9c179e"
             ],
             [
              0.4444444444444444,
              "#bd3786"
             ],
             [
              0.5555555555555556,
              "#d8576b"
             ],
             [
              0.6666666666666666,
              "#ed7953"
             ],
             [
              0.7777777777777778,
              "#fb9f3a"
             ],
             [
              0.8888888888888888,
              "#fdca26"
             ],
             [
              1,
              "#f0f921"
             ]
            ],
            "type": "surface"
           }
          ],
          "table": [
           {
            "cells": {
             "fill": {
              "color": "#EBF0F8"
             },
             "line": {
              "color": "white"
             }
            },
            "header": {
             "fill": {
              "color": "#C8D4E3"
             },
             "line": {
              "color": "white"
             }
            },
            "type": "table"
           }
          ]
         },
         "layout": {
          "annotationdefaults": {
           "arrowcolor": "#2a3f5f",
           "arrowhead": 0,
           "arrowwidth": 1
          },
          "autotypenumbers": "strict",
          "coloraxis": {
           "colorbar": {
            "outlinewidth": 0,
            "ticks": ""
           }
          },
          "colorscale": {
           "diverging": [
            [
             0,
             "#8e0152"
            ],
            [
             0.1,
             "#c51b7d"
            ],
            [
             0.2,
             "#de77ae"
            ],
            [
             0.3,
             "#f1b6da"
            ],
            [
             0.4,
             "#fde0ef"
            ],
            [
             0.5,
             "#f7f7f7"
            ],
            [
             0.6,
             "#e6f5d0"
            ],
            [
             0.7,
             "#b8e186"
            ],
            [
             0.8,
             "#7fbc41"
            ],
            [
             0.9,
             "#4d9221"
            ],
            [
             1,
             "#276419"
            ]
           ],
           "sequential": [
            [
             0,
             "#0d0887"
            ],
            [
             0.1111111111111111,
             "#46039f"
            ],
            [
             0.2222222222222222,
             "#7201a8"
            ],
            [
             0.3333333333333333,
             "#9c179e"
            ],
            [
             0.4444444444444444,
             "#bd3786"
            ],
            [
             0.5555555555555556,
             "#d8576b"
            ],
            [
             0.6666666666666666,
             "#ed7953"
            ],
            [
             0.7777777777777778,
             "#fb9f3a"
            ],
            [
             0.8888888888888888,
             "#fdca26"
            ],
            [
             1,
             "#f0f921"
            ]
           ],
           "sequentialminus": [
            [
             0,
             "#0d0887"
            ],
            [
             0.1111111111111111,
             "#46039f"
            ],
            [
             0.2222222222222222,
             "#7201a8"
            ],
            [
             0.3333333333333333,
             "#9c179e"
            ],
            [
             0.4444444444444444,
             "#bd3786"
            ],
            [
             0.5555555555555556,
             "#d8576b"
            ],
            [
             0.6666666666666666,
             "#ed7953"
            ],
            [
             0.7777777777777778,
             "#fb9f3a"
            ],
            [
             0.8888888888888888,
             "#fdca26"
            ],
            [
             1,
             "#f0f921"
            ]
           ]
          },
          "colorway": [
           "#636efa",
           "#EF553B",
           "#00cc96",
           "#ab63fa",
           "#FFA15A",
           "#19d3f3",
           "#FF6692",
           "#B6E880",
           "#FF97FF",
           "#FECB52"
          ],
          "font": {
           "color": "#2a3f5f"
          },
          "geo": {
           "bgcolor": "white",
           "lakecolor": "white",
           "landcolor": "white",
           "showlakes": true,
           "showland": true,
           "subunitcolor": "#C8D4E3"
          },
          "hoverlabel": {
           "align": "left"
          },
          "hovermode": "closest",
          "mapbox": {
           "style": "light"
          },
          "paper_bgcolor": "white",
          "plot_bgcolor": "white",
          "polar": {
           "angularaxis": {
            "gridcolor": "#EBF0F8",
            "linecolor": "#EBF0F8",
            "ticks": ""
           },
           "bgcolor": "white",
           "radialaxis": {
            "gridcolor": "#EBF0F8",
            "linecolor": "#EBF0F8",
            "ticks": ""
           }
          },
          "scene": {
           "xaxis": {
            "backgroundcolor": "white",
            "gridcolor": "#DFE8F3",
            "gridwidth": 2,
            "linecolor": "#EBF0F8",
            "showbackground": true,
            "ticks": "",
            "zerolinecolor": "#EBF0F8"
           },
           "yaxis": {
            "backgroundcolor": "white",
            "gridcolor": "#DFE8F3",
            "gridwidth": 2,
            "linecolor": "#EBF0F8",
            "showbackground": true,
            "ticks": "",
            "zerolinecolor": "#EBF0F8"
           },
           "zaxis": {
            "backgroundcolor": "white",
            "gridcolor": "#DFE8F3",
            "gridwidth": 2,
            "linecolor": "#EBF0F8",
            "showbackground": true,
            "ticks": "",
            "zerolinecolor": "#EBF0F8"
           }
          },
          "shapedefaults": {
           "line": {
            "color": "#2a3f5f"
           }
          },
          "ternary": {
           "aaxis": {
            "gridcolor": "#DFE8F3",
            "linecolor": "#A2B1C6",
            "ticks": ""
           },
           "baxis": {
            "gridcolor": "#DFE8F3",
            "linecolor": "#A2B1C6",
            "ticks": ""
           },
           "bgcolor": "white",
           "caxis": {
            "gridcolor": "#DFE8F3",
            "linecolor": "#A2B1C6",
            "ticks": ""
           }
          },
          "title": {
           "x": 0.05
          },
          "xaxis": {
           "automargin": true,
           "gridcolor": "#EBF0F8",
           "linecolor": "#EBF0F8",
           "ticks": "",
           "title": {
            "standoff": 15
           },
           "zerolinecolor": "#EBF0F8",
           "zerolinewidth": 2
          },
          "yaxis": {
           "automargin": true,
           "gridcolor": "#EBF0F8",
           "linecolor": "#EBF0F8",
           "ticks": "",
           "title": {
            "standoff": 15
           },
           "zerolinecolor": "#EBF0F8",
           "zerolinewidth": 2
          }
         }
        },
        "title": {
         "text": "Testing Confusion Matrix"
        },
        "width": 400,
        "xaxis": {
         "anchor": "y",
         "constrain": "domain",
         "domain": [
          0,
          1
         ],
         "scaleanchor": "y"
        },
        "yaxis": {
         "anchor": "x",
         "autorange": "reversed",
         "constrain": "domain",
         "domain": [
          0,
          1
         ]
        }
       }
      }
     },
     "metadata": {},
     "output_type": "display_data"
    }
   ],
   "source": [
    "print('Testing Classification Report\\n', classification_report(y_test, y_test_pred))\n",
    "cm = confusion_matrix(y_test, y_test_pred)\n",
    "cm_test_fig = px.imshow(cm, color_continuous_scale=['white' ,colors[4], colors[0]], text_auto=True)\n",
    "cm_test_fig.update_layout(\n",
    "    template='plotly_white',\n",
    "    title='Testing Confusion Matrix',\n",
    "    width=400,\n",
    "    height=400,\n",
    "    font=dict(family='Georgia', size=14, color='black')\n",
    ")"
   ]
  },
  {
   "cell_type": "code",
   "execution_count": 310,
   "metadata": {},
   "outputs": [
    {
     "data": {
      "text/html": [
       "<style>#sk-container-id-25 {\n",
       "  /* Definition of color scheme common for light and dark mode */\n",
       "  --sklearn-color-text: black;\n",
       "  --sklearn-color-line: gray;\n",
       "  /* Definition of color scheme for unfitted estimators */\n",
       "  --sklearn-color-unfitted-level-0: #fff5e6;\n",
       "  --sklearn-color-unfitted-level-1: #f6e4d2;\n",
       "  --sklearn-color-unfitted-level-2: #ffe0b3;\n",
       "  --sklearn-color-unfitted-level-3: chocolate;\n",
       "  /* Definition of color scheme for fitted estimators */\n",
       "  --sklearn-color-fitted-level-0: #f0f8ff;\n",
       "  --sklearn-color-fitted-level-1: #d4ebff;\n",
       "  --sklearn-color-fitted-level-2: #b3dbfd;\n",
       "  --sklearn-color-fitted-level-3: cornflowerblue;\n",
       "\n",
       "  /* Specific color for light theme */\n",
       "  --sklearn-color-text-on-default-background: var(--sg-text-color, var(--theme-code-foreground, var(--jp-content-font-color1, black)));\n",
       "  --sklearn-color-background: var(--sg-background-color, var(--theme-background, var(--jp-layout-color0, white)));\n",
       "  --sklearn-color-border-box: var(--sg-text-color, var(--theme-code-foreground, var(--jp-content-font-color1, black)));\n",
       "  --sklearn-color-icon: #696969;\n",
       "\n",
       "  @media (prefers-color-scheme: dark) {\n",
       "    /* Redefinition of color scheme for dark theme */\n",
       "    --sklearn-color-text-on-default-background: var(--sg-text-color, var(--theme-code-foreground, var(--jp-content-font-color1, white)));\n",
       "    --sklearn-color-background: var(--sg-background-color, var(--theme-background, var(--jp-layout-color0, #111)));\n",
       "    --sklearn-color-border-box: var(--sg-text-color, var(--theme-code-foreground, var(--jp-content-font-color1, white)));\n",
       "    --sklearn-color-icon: #878787;\n",
       "  }\n",
       "}\n",
       "\n",
       "#sk-container-id-25 {\n",
       "  color: var(--sklearn-color-text);\n",
       "}\n",
       "\n",
       "#sk-container-id-25 pre {\n",
       "  padding: 0;\n",
       "}\n",
       "\n",
       "#sk-container-id-25 input.sk-hidden--visually {\n",
       "  border: 0;\n",
       "  clip: rect(1px 1px 1px 1px);\n",
       "  clip: rect(1px, 1px, 1px, 1px);\n",
       "  height: 1px;\n",
       "  margin: -1px;\n",
       "  overflow: hidden;\n",
       "  padding: 0;\n",
       "  position: absolute;\n",
       "  width: 1px;\n",
       "}\n",
       "\n",
       "#sk-container-id-25 div.sk-dashed-wrapped {\n",
       "  border: 1px dashed var(--sklearn-color-line);\n",
       "  margin: 0 0.4em 0.5em 0.4em;\n",
       "  box-sizing: border-box;\n",
       "  padding-bottom: 0.4em;\n",
       "  background-color: var(--sklearn-color-background);\n",
       "}\n",
       "\n",
       "#sk-container-id-25 div.sk-container {\n",
       "  /* jupyter's `normalize.less` sets `[hidden] { display: none; }`\n",
       "     but bootstrap.min.css set `[hidden] { display: none !important; }`\n",
       "     so we also need the `!important` here to be able to override the\n",
       "     default hidden behavior on the sphinx rendered scikit-learn.org.\n",
       "     See: https://github.com/scikit-learn/scikit-learn/issues/21755 */\n",
       "  display: inline-block !important;\n",
       "  position: relative;\n",
       "}\n",
       "\n",
       "#sk-container-id-25 div.sk-text-repr-fallback {\n",
       "  display: none;\n",
       "}\n",
       "\n",
       "div.sk-parallel-item,\n",
       "div.sk-serial,\n",
       "div.sk-item {\n",
       "  /* draw centered vertical line to link estimators */\n",
       "  background-image: linear-gradient(var(--sklearn-color-text-on-default-background), var(--sklearn-color-text-on-default-background));\n",
       "  background-size: 2px 100%;\n",
       "  background-repeat: no-repeat;\n",
       "  background-position: center center;\n",
       "}\n",
       "\n",
       "/* Parallel-specific style estimator block */\n",
       "\n",
       "#sk-container-id-25 div.sk-parallel-item::after {\n",
       "  content: \"\";\n",
       "  width: 100%;\n",
       "  border-bottom: 2px solid var(--sklearn-color-text-on-default-background);\n",
       "  flex-grow: 1;\n",
       "}\n",
       "\n",
       "#sk-container-id-25 div.sk-parallel {\n",
       "  display: flex;\n",
       "  align-items: stretch;\n",
       "  justify-content: center;\n",
       "  background-color: var(--sklearn-color-background);\n",
       "  position: relative;\n",
       "}\n",
       "\n",
       "#sk-container-id-25 div.sk-parallel-item {\n",
       "  display: flex;\n",
       "  flex-direction: column;\n",
       "}\n",
       "\n",
       "#sk-container-id-25 div.sk-parallel-item:first-child::after {\n",
       "  align-self: flex-end;\n",
       "  width: 50%;\n",
       "}\n",
       "\n",
       "#sk-container-id-25 div.sk-parallel-item:last-child::after {\n",
       "  align-self: flex-start;\n",
       "  width: 50%;\n",
       "}\n",
       "\n",
       "#sk-container-id-25 div.sk-parallel-item:only-child::after {\n",
       "  width: 0;\n",
       "}\n",
       "\n",
       "/* Serial-specific style estimator block */\n",
       "\n",
       "#sk-container-id-25 div.sk-serial {\n",
       "  display: flex;\n",
       "  flex-direction: column;\n",
       "  align-items: center;\n",
       "  background-color: var(--sklearn-color-background);\n",
       "  padding-right: 1em;\n",
       "  padding-left: 1em;\n",
       "}\n",
       "\n",
       "\n",
       "/* Toggleable style: style used for estimator/Pipeline/ColumnTransformer box that is\n",
       "clickable and can be expanded/collapsed.\n",
       "- Pipeline and ColumnTransformer use this feature and define the default style\n",
       "- Estimators will overwrite some part of the style using the `sk-estimator` class\n",
       "*/\n",
       "\n",
       "/* Pipeline and ColumnTransformer style (default) */\n",
       "\n",
       "#sk-container-id-25 div.sk-toggleable {\n",
       "  /* Default theme specific background. It is overwritten whether we have a\n",
       "  specific estimator or a Pipeline/ColumnTransformer */\n",
       "  background-color: var(--sklearn-color-background);\n",
       "}\n",
       "\n",
       "/* Toggleable label */\n",
       "#sk-container-id-25 label.sk-toggleable__label {\n",
       "  cursor: pointer;\n",
       "  display: block;\n",
       "  width: 100%;\n",
       "  margin-bottom: 0;\n",
       "  padding: 0.5em;\n",
       "  box-sizing: border-box;\n",
       "  text-align: center;\n",
       "}\n",
       "\n",
       "#sk-container-id-25 label.sk-toggleable__label-arrow:before {\n",
       "  /* Arrow on the left of the label */\n",
       "  content: \"▸\";\n",
       "  float: left;\n",
       "  margin-right: 0.25em;\n",
       "  color: var(--sklearn-color-icon);\n",
       "}\n",
       "\n",
       "#sk-container-id-25 label.sk-toggleable__label-arrow:hover:before {\n",
       "  color: var(--sklearn-color-text);\n",
       "}\n",
       "\n",
       "/* Toggleable content - dropdown */\n",
       "\n",
       "#sk-container-id-25 div.sk-toggleable__content {\n",
       "  max-height: 0;\n",
       "  max-width: 0;\n",
       "  overflow: hidden;\n",
       "  text-align: left;\n",
       "  /* unfitted */\n",
       "  background-color: var(--sklearn-color-unfitted-level-0);\n",
       "}\n",
       "\n",
       "#sk-container-id-25 div.sk-toggleable__content.fitted {\n",
       "  /* fitted */\n",
       "  background-color: var(--sklearn-color-fitted-level-0);\n",
       "}\n",
       "\n",
       "#sk-container-id-25 div.sk-toggleable__content pre {\n",
       "  margin: 0.2em;\n",
       "  border-radius: 0.25em;\n",
       "  color: var(--sklearn-color-text);\n",
       "  /* unfitted */\n",
       "  background-color: var(--sklearn-color-unfitted-level-0);\n",
       "}\n",
       "\n",
       "#sk-container-id-25 div.sk-toggleable__content.fitted pre {\n",
       "  /* unfitted */\n",
       "  background-color: var(--sklearn-color-fitted-level-0);\n",
       "}\n",
       "\n",
       "#sk-container-id-25 input.sk-toggleable__control:checked~div.sk-toggleable__content {\n",
       "  /* Expand drop-down */\n",
       "  max-height: 200px;\n",
       "  max-width: 100%;\n",
       "  overflow: auto;\n",
       "}\n",
       "\n",
       "#sk-container-id-25 input.sk-toggleable__control:checked~label.sk-toggleable__label-arrow:before {\n",
       "  content: \"▾\";\n",
       "}\n",
       "\n",
       "/* Pipeline/ColumnTransformer-specific style */\n",
       "\n",
       "#sk-container-id-25 div.sk-label input.sk-toggleable__control:checked~label.sk-toggleable__label {\n",
       "  color: var(--sklearn-color-text);\n",
       "  background-color: var(--sklearn-color-unfitted-level-2);\n",
       "}\n",
       "\n",
       "#sk-container-id-25 div.sk-label.fitted input.sk-toggleable__control:checked~label.sk-toggleable__label {\n",
       "  background-color: var(--sklearn-color-fitted-level-2);\n",
       "}\n",
       "\n",
       "/* Estimator-specific style */\n",
       "\n",
       "/* Colorize estimator box */\n",
       "#sk-container-id-25 div.sk-estimator input.sk-toggleable__control:checked~label.sk-toggleable__label {\n",
       "  /* unfitted */\n",
       "  background-color: var(--sklearn-color-unfitted-level-2);\n",
       "}\n",
       "\n",
       "#sk-container-id-25 div.sk-estimator.fitted input.sk-toggleable__control:checked~label.sk-toggleable__label {\n",
       "  /* fitted */\n",
       "  background-color: var(--sklearn-color-fitted-level-2);\n",
       "}\n",
       "\n",
       "#sk-container-id-25 div.sk-label label.sk-toggleable__label,\n",
       "#sk-container-id-25 div.sk-label label {\n",
       "  /* The background is the default theme color */\n",
       "  color: var(--sklearn-color-text-on-default-background);\n",
       "}\n",
       "\n",
       "/* On hover, darken the color of the background */\n",
       "#sk-container-id-25 div.sk-label:hover label.sk-toggleable__label {\n",
       "  color: var(--sklearn-color-text);\n",
       "  background-color: var(--sklearn-color-unfitted-level-2);\n",
       "}\n",
       "\n",
       "/* Label box, darken color on hover, fitted */\n",
       "#sk-container-id-25 div.sk-label.fitted:hover label.sk-toggleable__label.fitted {\n",
       "  color: var(--sklearn-color-text);\n",
       "  background-color: var(--sklearn-color-fitted-level-2);\n",
       "}\n",
       "\n",
       "/* Estimator label */\n",
       "\n",
       "#sk-container-id-25 div.sk-label label {\n",
       "  font-family: monospace;\n",
       "  font-weight: bold;\n",
       "  display: inline-block;\n",
       "  line-height: 1.2em;\n",
       "}\n",
       "\n",
       "#sk-container-id-25 div.sk-label-container {\n",
       "  text-align: center;\n",
       "}\n",
       "\n",
       "/* Estimator-specific */\n",
       "#sk-container-id-25 div.sk-estimator {\n",
       "  font-family: monospace;\n",
       "  border: 1px dotted var(--sklearn-color-border-box);\n",
       "  border-radius: 0.25em;\n",
       "  box-sizing: border-box;\n",
       "  margin-bottom: 0.5em;\n",
       "  /* unfitted */\n",
       "  background-color: var(--sklearn-color-unfitted-level-0);\n",
       "}\n",
       "\n",
       "#sk-container-id-25 div.sk-estimator.fitted {\n",
       "  /* fitted */\n",
       "  background-color: var(--sklearn-color-fitted-level-0);\n",
       "}\n",
       "\n",
       "/* on hover */\n",
       "#sk-container-id-25 div.sk-estimator:hover {\n",
       "  /* unfitted */\n",
       "  background-color: var(--sklearn-color-unfitted-level-2);\n",
       "}\n",
       "\n",
       "#sk-container-id-25 div.sk-estimator.fitted:hover {\n",
       "  /* fitted */\n",
       "  background-color: var(--sklearn-color-fitted-level-2);\n",
       "}\n",
       "\n",
       "/* Specification for estimator info (e.g. \"i\" and \"?\") */\n",
       "\n",
       "/* Common style for \"i\" and \"?\" */\n",
       "\n",
       ".sk-estimator-doc-link,\n",
       "a:link.sk-estimator-doc-link,\n",
       "a:visited.sk-estimator-doc-link {\n",
       "  float: right;\n",
       "  font-size: smaller;\n",
       "  line-height: 1em;\n",
       "  font-family: monospace;\n",
       "  background-color: var(--sklearn-color-background);\n",
       "  border-radius: 1em;\n",
       "  height: 1em;\n",
       "  width: 1em;\n",
       "  text-decoration: none !important;\n",
       "  margin-left: 1ex;\n",
       "  /* unfitted */\n",
       "  border: var(--sklearn-color-unfitted-level-1) 1pt solid;\n",
       "  color: var(--sklearn-color-unfitted-level-1);\n",
       "}\n",
       "\n",
       ".sk-estimator-doc-link.fitted,\n",
       "a:link.sk-estimator-doc-link.fitted,\n",
       "a:visited.sk-estimator-doc-link.fitted {\n",
       "  /* fitted */\n",
       "  border: var(--sklearn-color-fitted-level-1) 1pt solid;\n",
       "  color: var(--sklearn-color-fitted-level-1);\n",
       "}\n",
       "\n",
       "/* On hover */\n",
       "div.sk-estimator:hover .sk-estimator-doc-link:hover,\n",
       ".sk-estimator-doc-link:hover,\n",
       "div.sk-label-container:hover .sk-estimator-doc-link:hover,\n",
       ".sk-estimator-doc-link:hover {\n",
       "  /* unfitted */\n",
       "  background-color: var(--sklearn-color-unfitted-level-3);\n",
       "  color: var(--sklearn-color-background);\n",
       "  text-decoration: none;\n",
       "}\n",
       "\n",
       "div.sk-estimator.fitted:hover .sk-estimator-doc-link.fitted:hover,\n",
       ".sk-estimator-doc-link.fitted:hover,\n",
       "div.sk-label-container:hover .sk-estimator-doc-link.fitted:hover,\n",
       ".sk-estimator-doc-link.fitted:hover {\n",
       "  /* fitted */\n",
       "  background-color: var(--sklearn-color-fitted-level-3);\n",
       "  color: var(--sklearn-color-background);\n",
       "  text-decoration: none;\n",
       "}\n",
       "\n",
       "/* Span, style for the box shown on hovering the info icon */\n",
       ".sk-estimator-doc-link span {\n",
       "  display: none;\n",
       "  z-index: 9999;\n",
       "  position: relative;\n",
       "  font-weight: normal;\n",
       "  right: .2ex;\n",
       "  padding: .5ex;\n",
       "  margin: .5ex;\n",
       "  width: min-content;\n",
       "  min-width: 20ex;\n",
       "  max-width: 50ex;\n",
       "  color: var(--sklearn-color-text);\n",
       "  box-shadow: 2pt 2pt 4pt #999;\n",
       "  /* unfitted */\n",
       "  background: var(--sklearn-color-unfitted-level-0);\n",
       "  border: .5pt solid var(--sklearn-color-unfitted-level-3);\n",
       "}\n",
       "\n",
       ".sk-estimator-doc-link.fitted span {\n",
       "  /* fitted */\n",
       "  background: var(--sklearn-color-fitted-level-0);\n",
       "  border: var(--sklearn-color-fitted-level-3);\n",
       "}\n",
       "\n",
       ".sk-estimator-doc-link:hover span {\n",
       "  display: block;\n",
       "}\n",
       "\n",
       "/* \"?\"-specific style due to the `<a>` HTML tag */\n",
       "\n",
       "#sk-container-id-25 a.estimator_doc_link {\n",
       "  float: right;\n",
       "  font-size: 1rem;\n",
       "  line-height: 1em;\n",
       "  font-family: monospace;\n",
       "  background-color: var(--sklearn-color-background);\n",
       "  border-radius: 1rem;\n",
       "  height: 1rem;\n",
       "  width: 1rem;\n",
       "  text-decoration: none;\n",
       "  /* unfitted */\n",
       "  color: var(--sklearn-color-unfitted-level-1);\n",
       "  border: var(--sklearn-color-unfitted-level-1) 1pt solid;\n",
       "}\n",
       "\n",
       "#sk-container-id-25 a.estimator_doc_link.fitted {\n",
       "  /* fitted */\n",
       "  border: var(--sklearn-color-fitted-level-1) 1pt solid;\n",
       "  color: var(--sklearn-color-fitted-level-1);\n",
       "}\n",
       "\n",
       "/* On hover */\n",
       "#sk-container-id-25 a.estimator_doc_link:hover {\n",
       "  /* unfitted */\n",
       "  background-color: var(--sklearn-color-unfitted-level-3);\n",
       "  color: var(--sklearn-color-background);\n",
       "  text-decoration: none;\n",
       "}\n",
       "\n",
       "#sk-container-id-25 a.estimator_doc_link.fitted:hover {\n",
       "  /* fitted */\n",
       "  background-color: var(--sklearn-color-fitted-level-3);\n",
       "}\n",
       "</style><div id=\"sk-container-id-25\" class=\"sk-top-container\"><div class=\"sk-text-repr-fallback\"><pre>LogisticRegression()</pre><b>In a Jupyter environment, please rerun this cell to show the HTML representation or trust the notebook. <br />On GitHub, the HTML representation is unable to render, please try loading this page with nbviewer.org.</b></div><div class=\"sk-container\" hidden><div class=\"sk-item\"><div class=\"sk-estimator fitted sk-toggleable\"><input class=\"sk-toggleable__control sk-hidden--visually\" id=\"sk-estimator-id-79\" type=\"checkbox\" checked><label for=\"sk-estimator-id-79\" class=\"sk-toggleable__label fitted sk-toggleable__label-arrow fitted\">&nbsp;&nbsp;LogisticRegression<a class=\"sk-estimator-doc-link fitted\" rel=\"noreferrer\" target=\"_blank\" href=\"https://scikit-learn.org/1.5/modules/generated/sklearn.linear_model.LogisticRegression.html\">?<span>Documentation for LogisticRegression</span></a><span class=\"sk-estimator-doc-link fitted\">i<span>Fitted</span></span></label><div class=\"sk-toggleable__content fitted\"><pre>LogisticRegression()</pre></div> </div></div></div></div>"
      ],
      "text/plain": [
       "LogisticRegression()"
      ]
     },
     "execution_count": 310,
     "metadata": {},
     "output_type": "execute_result"
    }
   ],
   "source": [
    "baseline_clf.named_steps['model'].penalty = 'l2'\n",
    "baseline_clf.named_steps['model']"
   ]
  },
  {
   "cell_type": "code",
   "execution_count": 311,
   "metadata": {},
   "outputs": [
    {
     "data": {
      "text/html": [
       "<style>#sk-container-id-26 {\n",
       "  /* Definition of color scheme common for light and dark mode */\n",
       "  --sklearn-color-text: black;\n",
       "  --sklearn-color-line: gray;\n",
       "  /* Definition of color scheme for unfitted estimators */\n",
       "  --sklearn-color-unfitted-level-0: #fff5e6;\n",
       "  --sklearn-color-unfitted-level-1: #f6e4d2;\n",
       "  --sklearn-color-unfitted-level-2: #ffe0b3;\n",
       "  --sklearn-color-unfitted-level-3: chocolate;\n",
       "  /* Definition of color scheme for fitted estimators */\n",
       "  --sklearn-color-fitted-level-0: #f0f8ff;\n",
       "  --sklearn-color-fitted-level-1: #d4ebff;\n",
       "  --sklearn-color-fitted-level-2: #b3dbfd;\n",
       "  --sklearn-color-fitted-level-3: cornflowerblue;\n",
       "\n",
       "  /* Specific color for light theme */\n",
       "  --sklearn-color-text-on-default-background: var(--sg-text-color, var(--theme-code-foreground, var(--jp-content-font-color1, black)));\n",
       "  --sklearn-color-background: var(--sg-background-color, var(--theme-background, var(--jp-layout-color0, white)));\n",
       "  --sklearn-color-border-box: var(--sg-text-color, var(--theme-code-foreground, var(--jp-content-font-color1, black)));\n",
       "  --sklearn-color-icon: #696969;\n",
       "\n",
       "  @media (prefers-color-scheme: dark) {\n",
       "    /* Redefinition of color scheme for dark theme */\n",
       "    --sklearn-color-text-on-default-background: var(--sg-text-color, var(--theme-code-foreground, var(--jp-content-font-color1, white)));\n",
       "    --sklearn-color-background: var(--sg-background-color, var(--theme-background, var(--jp-layout-color0, #111)));\n",
       "    --sklearn-color-border-box: var(--sg-text-color, var(--theme-code-foreground, var(--jp-content-font-color1, white)));\n",
       "    --sklearn-color-icon: #878787;\n",
       "  }\n",
       "}\n",
       "\n",
       "#sk-container-id-26 {\n",
       "  color: var(--sklearn-color-text);\n",
       "}\n",
       "\n",
       "#sk-container-id-26 pre {\n",
       "  padding: 0;\n",
       "}\n",
       "\n",
       "#sk-container-id-26 input.sk-hidden--visually {\n",
       "  border: 0;\n",
       "  clip: rect(1px 1px 1px 1px);\n",
       "  clip: rect(1px, 1px, 1px, 1px);\n",
       "  height: 1px;\n",
       "  margin: -1px;\n",
       "  overflow: hidden;\n",
       "  padding: 0;\n",
       "  position: absolute;\n",
       "  width: 1px;\n",
       "}\n",
       "\n",
       "#sk-container-id-26 div.sk-dashed-wrapped {\n",
       "  border: 1px dashed var(--sklearn-color-line);\n",
       "  margin: 0 0.4em 0.5em 0.4em;\n",
       "  box-sizing: border-box;\n",
       "  padding-bottom: 0.4em;\n",
       "  background-color: var(--sklearn-color-background);\n",
       "}\n",
       "\n",
       "#sk-container-id-26 div.sk-container {\n",
       "  /* jupyter's `normalize.less` sets `[hidden] { display: none; }`\n",
       "     but bootstrap.min.css set `[hidden] { display: none !important; }`\n",
       "     so we also need the `!important` here to be able to override the\n",
       "     default hidden behavior on the sphinx rendered scikit-learn.org.\n",
       "     See: https://github.com/scikit-learn/scikit-learn/issues/21755 */\n",
       "  display: inline-block !important;\n",
       "  position: relative;\n",
       "}\n",
       "\n",
       "#sk-container-id-26 div.sk-text-repr-fallback {\n",
       "  display: none;\n",
       "}\n",
       "\n",
       "div.sk-parallel-item,\n",
       "div.sk-serial,\n",
       "div.sk-item {\n",
       "  /* draw centered vertical line to link estimators */\n",
       "  background-image: linear-gradient(var(--sklearn-color-text-on-default-background), var(--sklearn-color-text-on-default-background));\n",
       "  background-size: 2px 100%;\n",
       "  background-repeat: no-repeat;\n",
       "  background-position: center center;\n",
       "}\n",
       "\n",
       "/* Parallel-specific style estimator block */\n",
       "\n",
       "#sk-container-id-26 div.sk-parallel-item::after {\n",
       "  content: \"\";\n",
       "  width: 100%;\n",
       "  border-bottom: 2px solid var(--sklearn-color-text-on-default-background);\n",
       "  flex-grow: 1;\n",
       "}\n",
       "\n",
       "#sk-container-id-26 div.sk-parallel {\n",
       "  display: flex;\n",
       "  align-items: stretch;\n",
       "  justify-content: center;\n",
       "  background-color: var(--sklearn-color-background);\n",
       "  position: relative;\n",
       "}\n",
       "\n",
       "#sk-container-id-26 div.sk-parallel-item {\n",
       "  display: flex;\n",
       "  flex-direction: column;\n",
       "}\n",
       "\n",
       "#sk-container-id-26 div.sk-parallel-item:first-child::after {\n",
       "  align-self: flex-end;\n",
       "  width: 50%;\n",
       "}\n",
       "\n",
       "#sk-container-id-26 div.sk-parallel-item:last-child::after {\n",
       "  align-self: flex-start;\n",
       "  width: 50%;\n",
       "}\n",
       "\n",
       "#sk-container-id-26 div.sk-parallel-item:only-child::after {\n",
       "  width: 0;\n",
       "}\n",
       "\n",
       "/* Serial-specific style estimator block */\n",
       "\n",
       "#sk-container-id-26 div.sk-serial {\n",
       "  display: flex;\n",
       "  flex-direction: column;\n",
       "  align-items: center;\n",
       "  background-color: var(--sklearn-color-background);\n",
       "  padding-right: 1em;\n",
       "  padding-left: 1em;\n",
       "}\n",
       "\n",
       "\n",
       "/* Toggleable style: style used for estimator/Pipeline/ColumnTransformer box that is\n",
       "clickable and can be expanded/collapsed.\n",
       "- Pipeline and ColumnTransformer use this feature and define the default style\n",
       "- Estimators will overwrite some part of the style using the `sk-estimator` class\n",
       "*/\n",
       "\n",
       "/* Pipeline and ColumnTransformer style (default) */\n",
       "\n",
       "#sk-container-id-26 div.sk-toggleable {\n",
       "  /* Default theme specific background. It is overwritten whether we have a\n",
       "  specific estimator or a Pipeline/ColumnTransformer */\n",
       "  background-color: var(--sklearn-color-background);\n",
       "}\n",
       "\n",
       "/* Toggleable label */\n",
       "#sk-container-id-26 label.sk-toggleable__label {\n",
       "  cursor: pointer;\n",
       "  display: block;\n",
       "  width: 100%;\n",
       "  margin-bottom: 0;\n",
       "  padding: 0.5em;\n",
       "  box-sizing: border-box;\n",
       "  text-align: center;\n",
       "}\n",
       "\n",
       "#sk-container-id-26 label.sk-toggleable__label-arrow:before {\n",
       "  /* Arrow on the left of the label */\n",
       "  content: \"▸\";\n",
       "  float: left;\n",
       "  margin-right: 0.25em;\n",
       "  color: var(--sklearn-color-icon);\n",
       "}\n",
       "\n",
       "#sk-container-id-26 label.sk-toggleable__label-arrow:hover:before {\n",
       "  color: var(--sklearn-color-text);\n",
       "}\n",
       "\n",
       "/* Toggleable content - dropdown */\n",
       "\n",
       "#sk-container-id-26 div.sk-toggleable__content {\n",
       "  max-height: 0;\n",
       "  max-width: 0;\n",
       "  overflow: hidden;\n",
       "  text-align: left;\n",
       "  /* unfitted */\n",
       "  background-color: var(--sklearn-color-unfitted-level-0);\n",
       "}\n",
       "\n",
       "#sk-container-id-26 div.sk-toggleable__content.fitted {\n",
       "  /* fitted */\n",
       "  background-color: var(--sklearn-color-fitted-level-0);\n",
       "}\n",
       "\n",
       "#sk-container-id-26 div.sk-toggleable__content pre {\n",
       "  margin: 0.2em;\n",
       "  border-radius: 0.25em;\n",
       "  color: var(--sklearn-color-text);\n",
       "  /* unfitted */\n",
       "  background-color: var(--sklearn-color-unfitted-level-0);\n",
       "}\n",
       "\n",
       "#sk-container-id-26 div.sk-toggleable__content.fitted pre {\n",
       "  /* unfitted */\n",
       "  background-color: var(--sklearn-color-fitted-level-0);\n",
       "}\n",
       "\n",
       "#sk-container-id-26 input.sk-toggleable__control:checked~div.sk-toggleable__content {\n",
       "  /* Expand drop-down */\n",
       "  max-height: 200px;\n",
       "  max-width: 100%;\n",
       "  overflow: auto;\n",
       "}\n",
       "\n",
       "#sk-container-id-26 input.sk-toggleable__control:checked~label.sk-toggleable__label-arrow:before {\n",
       "  content: \"▾\";\n",
       "}\n",
       "\n",
       "/* Pipeline/ColumnTransformer-specific style */\n",
       "\n",
       "#sk-container-id-26 div.sk-label input.sk-toggleable__control:checked~label.sk-toggleable__label {\n",
       "  color: var(--sklearn-color-text);\n",
       "  background-color: var(--sklearn-color-unfitted-level-2);\n",
       "}\n",
       "\n",
       "#sk-container-id-26 div.sk-label.fitted input.sk-toggleable__control:checked~label.sk-toggleable__label {\n",
       "  background-color: var(--sklearn-color-fitted-level-2);\n",
       "}\n",
       "\n",
       "/* Estimator-specific style */\n",
       "\n",
       "/* Colorize estimator box */\n",
       "#sk-container-id-26 div.sk-estimator input.sk-toggleable__control:checked~label.sk-toggleable__label {\n",
       "  /* unfitted */\n",
       "  background-color: var(--sklearn-color-unfitted-level-2);\n",
       "}\n",
       "\n",
       "#sk-container-id-26 div.sk-estimator.fitted input.sk-toggleable__control:checked~label.sk-toggleable__label {\n",
       "  /* fitted */\n",
       "  background-color: var(--sklearn-color-fitted-level-2);\n",
       "}\n",
       "\n",
       "#sk-container-id-26 div.sk-label label.sk-toggleable__label,\n",
       "#sk-container-id-26 div.sk-label label {\n",
       "  /* The background is the default theme color */\n",
       "  color: var(--sklearn-color-text-on-default-background);\n",
       "}\n",
       "\n",
       "/* On hover, darken the color of the background */\n",
       "#sk-container-id-26 div.sk-label:hover label.sk-toggleable__label {\n",
       "  color: var(--sklearn-color-text);\n",
       "  background-color: var(--sklearn-color-unfitted-level-2);\n",
       "}\n",
       "\n",
       "/* Label box, darken color on hover, fitted */\n",
       "#sk-container-id-26 div.sk-label.fitted:hover label.sk-toggleable__label.fitted {\n",
       "  color: var(--sklearn-color-text);\n",
       "  background-color: var(--sklearn-color-fitted-level-2);\n",
       "}\n",
       "\n",
       "/* Estimator label */\n",
       "\n",
       "#sk-container-id-26 div.sk-label label {\n",
       "  font-family: monospace;\n",
       "  font-weight: bold;\n",
       "  display: inline-block;\n",
       "  line-height: 1.2em;\n",
       "}\n",
       "\n",
       "#sk-container-id-26 div.sk-label-container {\n",
       "  text-align: center;\n",
       "}\n",
       "\n",
       "/* Estimator-specific */\n",
       "#sk-container-id-26 div.sk-estimator {\n",
       "  font-family: monospace;\n",
       "  border: 1px dotted var(--sklearn-color-border-box);\n",
       "  border-radius: 0.25em;\n",
       "  box-sizing: border-box;\n",
       "  margin-bottom: 0.5em;\n",
       "  /* unfitted */\n",
       "  background-color: var(--sklearn-color-unfitted-level-0);\n",
       "}\n",
       "\n",
       "#sk-container-id-26 div.sk-estimator.fitted {\n",
       "  /* fitted */\n",
       "  background-color: var(--sklearn-color-fitted-level-0);\n",
       "}\n",
       "\n",
       "/* on hover */\n",
       "#sk-container-id-26 div.sk-estimator:hover {\n",
       "  /* unfitted */\n",
       "  background-color: var(--sklearn-color-unfitted-level-2);\n",
       "}\n",
       "\n",
       "#sk-container-id-26 div.sk-estimator.fitted:hover {\n",
       "  /* fitted */\n",
       "  background-color: var(--sklearn-color-fitted-level-2);\n",
       "}\n",
       "\n",
       "/* Specification for estimator info (e.g. \"i\" and \"?\") */\n",
       "\n",
       "/* Common style for \"i\" and \"?\" */\n",
       "\n",
       ".sk-estimator-doc-link,\n",
       "a:link.sk-estimator-doc-link,\n",
       "a:visited.sk-estimator-doc-link {\n",
       "  float: right;\n",
       "  font-size: smaller;\n",
       "  line-height: 1em;\n",
       "  font-family: monospace;\n",
       "  background-color: var(--sklearn-color-background);\n",
       "  border-radius: 1em;\n",
       "  height: 1em;\n",
       "  width: 1em;\n",
       "  text-decoration: none !important;\n",
       "  margin-left: 1ex;\n",
       "  /* unfitted */\n",
       "  border: var(--sklearn-color-unfitted-level-1) 1pt solid;\n",
       "  color: var(--sklearn-color-unfitted-level-1);\n",
       "}\n",
       "\n",
       ".sk-estimator-doc-link.fitted,\n",
       "a:link.sk-estimator-doc-link.fitted,\n",
       "a:visited.sk-estimator-doc-link.fitted {\n",
       "  /* fitted */\n",
       "  border: var(--sklearn-color-fitted-level-1) 1pt solid;\n",
       "  color: var(--sklearn-color-fitted-level-1);\n",
       "}\n",
       "\n",
       "/* On hover */\n",
       "div.sk-estimator:hover .sk-estimator-doc-link:hover,\n",
       ".sk-estimator-doc-link:hover,\n",
       "div.sk-label-container:hover .sk-estimator-doc-link:hover,\n",
       ".sk-estimator-doc-link:hover {\n",
       "  /* unfitted */\n",
       "  background-color: var(--sklearn-color-unfitted-level-3);\n",
       "  color: var(--sklearn-color-background);\n",
       "  text-decoration: none;\n",
       "}\n",
       "\n",
       "div.sk-estimator.fitted:hover .sk-estimator-doc-link.fitted:hover,\n",
       ".sk-estimator-doc-link.fitted:hover,\n",
       "div.sk-label-container:hover .sk-estimator-doc-link.fitted:hover,\n",
       ".sk-estimator-doc-link.fitted:hover {\n",
       "  /* fitted */\n",
       "  background-color: var(--sklearn-color-fitted-level-3);\n",
       "  color: var(--sklearn-color-background);\n",
       "  text-decoration: none;\n",
       "}\n",
       "\n",
       "/* Span, style for the box shown on hovering the info icon */\n",
       ".sk-estimator-doc-link span {\n",
       "  display: none;\n",
       "  z-index: 9999;\n",
       "  position: relative;\n",
       "  font-weight: normal;\n",
       "  right: .2ex;\n",
       "  padding: .5ex;\n",
       "  margin: .5ex;\n",
       "  width: min-content;\n",
       "  min-width: 20ex;\n",
       "  max-width: 50ex;\n",
       "  color: var(--sklearn-color-text);\n",
       "  box-shadow: 2pt 2pt 4pt #999;\n",
       "  /* unfitted */\n",
       "  background: var(--sklearn-color-unfitted-level-0);\n",
       "  border: .5pt solid var(--sklearn-color-unfitted-level-3);\n",
       "}\n",
       "\n",
       ".sk-estimator-doc-link.fitted span {\n",
       "  /* fitted */\n",
       "  background: var(--sklearn-color-fitted-level-0);\n",
       "  border: var(--sklearn-color-fitted-level-3);\n",
       "}\n",
       "\n",
       ".sk-estimator-doc-link:hover span {\n",
       "  display: block;\n",
       "}\n",
       "\n",
       "/* \"?\"-specific style due to the `<a>` HTML tag */\n",
       "\n",
       "#sk-container-id-26 a.estimator_doc_link {\n",
       "  float: right;\n",
       "  font-size: 1rem;\n",
       "  line-height: 1em;\n",
       "  font-family: monospace;\n",
       "  background-color: var(--sklearn-color-background);\n",
       "  border-radius: 1rem;\n",
       "  height: 1rem;\n",
       "  width: 1rem;\n",
       "  text-decoration: none;\n",
       "  /* unfitted */\n",
       "  color: var(--sklearn-color-unfitted-level-1);\n",
       "  border: var(--sklearn-color-unfitted-level-1) 1pt solid;\n",
       "}\n",
       "\n",
       "#sk-container-id-26 a.estimator_doc_link.fitted {\n",
       "  /* fitted */\n",
       "  border: var(--sklearn-color-fitted-level-1) 1pt solid;\n",
       "  color: var(--sklearn-color-fitted-level-1);\n",
       "}\n",
       "\n",
       "/* On hover */\n",
       "#sk-container-id-26 a.estimator_doc_link:hover {\n",
       "  /* unfitted */\n",
       "  background-color: var(--sklearn-color-unfitted-level-3);\n",
       "  color: var(--sklearn-color-background);\n",
       "  text-decoration: none;\n",
       "}\n",
       "\n",
       "#sk-container-id-26 a.estimator_doc_link.fitted:hover {\n",
       "  /* fitted */\n",
       "  background-color: var(--sklearn-color-fitted-level-3);\n",
       "}\n",
       "</style><div id=\"sk-container-id-26\" class=\"sk-top-container\"><div class=\"sk-text-repr-fallback\"><pre>Pipeline(steps=[(&#x27;scaler&#x27;, RobustScaler()), (&#x27;model&#x27;, LogisticRegression())])</pre><b>In a Jupyter environment, please rerun this cell to show the HTML representation or trust the notebook. <br />On GitHub, the HTML representation is unable to render, please try loading this page with nbviewer.org.</b></div><div class=\"sk-container\" hidden><div class=\"sk-item sk-dashed-wrapped\"><div class=\"sk-label-container\"><div class=\"sk-label fitted sk-toggleable\"><input class=\"sk-toggleable__control sk-hidden--visually\" id=\"sk-estimator-id-80\" type=\"checkbox\" ><label for=\"sk-estimator-id-80\" class=\"sk-toggleable__label fitted sk-toggleable__label-arrow fitted\">&nbsp;&nbsp;Pipeline<a class=\"sk-estimator-doc-link fitted\" rel=\"noreferrer\" target=\"_blank\" href=\"https://scikit-learn.org/1.5/modules/generated/sklearn.pipeline.Pipeline.html\">?<span>Documentation for Pipeline</span></a><span class=\"sk-estimator-doc-link fitted\">i<span>Fitted</span></span></label><div class=\"sk-toggleable__content fitted\"><pre>Pipeline(steps=[(&#x27;scaler&#x27;, RobustScaler()), (&#x27;model&#x27;, LogisticRegression())])</pre></div> </div></div><div class=\"sk-serial\"><div class=\"sk-item\"><div class=\"sk-estimator fitted sk-toggleable\"><input class=\"sk-toggleable__control sk-hidden--visually\" id=\"sk-estimator-id-81\" type=\"checkbox\" ><label for=\"sk-estimator-id-81\" class=\"sk-toggleable__label fitted sk-toggleable__label-arrow fitted\">&nbsp;RobustScaler<a class=\"sk-estimator-doc-link fitted\" rel=\"noreferrer\" target=\"_blank\" href=\"https://scikit-learn.org/1.5/modules/generated/sklearn.preprocessing.RobustScaler.html\">?<span>Documentation for RobustScaler</span></a></label><div class=\"sk-toggleable__content fitted\"><pre>RobustScaler()</pre></div> </div></div><div class=\"sk-item\"><div class=\"sk-estimator fitted sk-toggleable\"><input class=\"sk-toggleable__control sk-hidden--visually\" id=\"sk-estimator-id-82\" type=\"checkbox\" ><label for=\"sk-estimator-id-82\" class=\"sk-toggleable__label fitted sk-toggleable__label-arrow fitted\">&nbsp;LogisticRegression<a class=\"sk-estimator-doc-link fitted\" rel=\"noreferrer\" target=\"_blank\" href=\"https://scikit-learn.org/1.5/modules/generated/sklearn.linear_model.LogisticRegression.html\">?<span>Documentation for LogisticRegression</span></a></label><div class=\"sk-toggleable__content fitted\"><pre>LogisticRegression()</pre></div> </div></div></div></div></div></div>"
      ],
      "text/plain": [
       "Pipeline(steps=[('scaler', RobustScaler()), ('model', LogisticRegression())])"
      ]
     },
     "execution_count": 311,
     "metadata": {},
     "output_type": "execute_result"
    }
   ],
   "source": [
    "baseline_clf.fit(X_train, y_train)"
   ]
  },
  {
   "cell_type": "code",
   "execution_count": 312,
   "metadata": {},
   "outputs": [],
   "source": [
    "reg_y_train_pred = baseline_clf.predict(X_train)\n",
    "reg_y_test_pred = baseline_clf.predict(X_test)"
   ]
  },
  {
   "cell_type": "code",
   "execution_count": 313,
   "metadata": {},
   "outputs": [
    {
     "name": "stdout",
     "output_type": "stream",
     "text": [
      "Training Classification Report\n",
      "               precision    recall  f1-score   support\n",
      "\n",
      "           0       1.00      0.97      0.99        40\n",
      "           1       0.85      0.83      0.84        41\n",
      "           2       0.83      0.87      0.85        39\n",
      "\n",
      "    accuracy                           0.89       120\n",
      "   macro avg       0.89      0.89      0.89       120\n",
      "weighted avg       0.89      0.89      0.89       120\n",
      "\n",
      "Testing Classification Report\n",
      "               precision    recall  f1-score   support\n",
      "\n",
      "           0       1.00      1.00      1.00        10\n",
      "           1       0.89      0.89      0.89         9\n",
      "           2       0.91      0.91      0.91        11\n",
      "\n",
      "    accuracy                           0.93        30\n",
      "   macro avg       0.93      0.93      0.93        30\n",
      "weighted avg       0.93      0.93      0.93        30\n",
      "\n"
     ]
    }
   ],
   "source": [
    "print('Training Classification Report\\n', classification_report(y_train, reg_y_train_pred))\n",
    "print('Testing Classification Report\\n', classification_report(y_test, reg_y_test_pred))\n"
   ]
  },
  {
   "cell_type": "code",
   "execution_count": 334,
   "metadata": {},
   "outputs": [
    {
     "data": {
      "application/vnd.plotly.v1+json": {
       "config": {
        "plotlyServerURL": "https://plot.ly"
       },
       "data": [
        {
         "coloraxis": "coloraxis",
         "hovertemplate": "x: %{x}<br>y: %{y}<br>color: %{z}<extra></extra>",
         "name": "0",
         "texttemplate": "%{z}",
         "type": "heatmap",
         "xaxis": "x",
         "yaxis": "y",
         "z": [
          [
           39,
           1,
           0
          ],
          [
           0,
           34,
           7
          ],
          [
           0,
           5,
           34
          ]
         ]
        },
        {
         "coloraxis": "coloraxis",
         "hovertemplate": "x: %{x}<br>y: %{y}<br>color: %{z}<extra></extra>",
         "name": "0",
         "texttemplate": "%{z}",
         "type": "heatmap",
         "xaxis": "x2",
         "yaxis": "y2",
         "z": [
          [
           39,
           1,
           0
          ],
          [
           0,
           34,
           7
          ],
          [
           0,
           5,
           34
          ]
         ]
        },
        {
         "coloraxis": "coloraxis",
         "hovertemplate": "x: %{x}<br>y: %{y}<br>color: %{z}<extra></extra>",
         "name": "0",
         "texttemplate": "%{z}",
         "type": "heatmap",
         "xaxis": "x3",
         "yaxis": "y3",
         "z": [
          [
           10,
           0,
           0
          ],
          [
           0,
           8,
           1
          ],
          [
           0,
           1,
           10
          ]
         ]
        },
        {
         "coloraxis": "coloraxis",
         "hovertemplate": "x: %{x}<br>y: %{y}<br>color: %{z}<extra></extra>",
         "name": "0",
         "texttemplate": "%{z}",
         "type": "heatmap",
         "xaxis": "x4",
         "yaxis": "y4",
         "z": [
          [
           10,
           0,
           0
          ],
          [
           0,
           8,
           1
          ],
          [
           0,
           1,
           10
          ]
         ]
        }
       ],
       "layout": {
        "annotations": [
         {
          "font": {
           "size": 16
          },
          "showarrow": false,
          "text": "Training Confusion Matrix",
          "x": 0.10625,
          "xanchor": "center",
          "xref": "paper",
          "y": 1,
          "yanchor": "bottom",
          "yref": "paper"
         },
         {
          "font": {
           "size": 16
          },
          "showarrow": false,
          "text": "Applying L2 Regularization",
          "x": 0.36875,
          "xanchor": "center",
          "xref": "paper",
          "y": 1,
          "yanchor": "bottom",
          "yref": "paper"
         },
         {
          "font": {
           "size": 16
          },
          "showarrow": false,
          "text": "Testing Confusion Matrix",
          "x": 0.6312500000000001,
          "xanchor": "center",
          "xref": "paper",
          "y": 1,
          "yanchor": "bottom",
          "yref": "paper"
         },
         {
          "font": {
           "size": 16
          },
          "showarrow": false,
          "text": "Applying L2 Regularization",
          "x": 0.89375,
          "xanchor": "center",
          "xref": "paper",
          "y": 1,
          "yanchor": "bottom",
          "yref": "paper"
         }
        ],
        "coloraxis": {
         "colorbar": {
          "title": {
           "text": "Count"
          }
         },
         "colorscale": [
          [
           0,
           "white"
          ],
          [
           0.5,
           "#1bb4fa"
          ],
          [
           1,
           "#2752ee"
          ]
         ]
        },
        "font": {
         "color": "black",
         "family": "Georgia",
         "size": 14
        },
        "template": {
         "data": {
          "bar": [
           {
            "error_x": {
             "color": "#2a3f5f"
            },
            "error_y": {
             "color": "#2a3f5f"
            },
            "marker": {
             "line": {
              "color": "white",
              "width": 0.5
             },
             "pattern": {
              "fillmode": "overlay",
              "size": 10,
              "solidity": 0.2
             }
            },
            "type": "bar"
           }
          ],
          "barpolar": [
           {
            "marker": {
             "line": {
              "color": "white",
              "width": 0.5
             },
             "pattern": {
              "fillmode": "overlay",
              "size": 10,
              "solidity": 0.2
             }
            },
            "type": "barpolar"
           }
          ],
          "carpet": [
           {
            "aaxis": {
             "endlinecolor": "#2a3f5f",
             "gridcolor": "#C8D4E3",
             "linecolor": "#C8D4E3",
             "minorgridcolor": "#C8D4E3",
             "startlinecolor": "#2a3f5f"
            },
            "baxis": {
             "endlinecolor": "#2a3f5f",
             "gridcolor": "#C8D4E3",
             "linecolor": "#C8D4E3",
             "minorgridcolor": "#C8D4E3",
             "startlinecolor": "#2a3f5f"
            },
            "type": "carpet"
           }
          ],
          "choropleth": [
           {
            "colorbar": {
             "outlinewidth": 0,
             "ticks": ""
            },
            "type": "choropleth"
           }
          ],
          "contour": [
           {
            "colorbar": {
             "outlinewidth": 0,
             "ticks": ""
            },
            "colorscale": [
             [
              0,
              "#0d0887"
             ],
             [
              0.1111111111111111,
              "#46039f"
             ],
             [
              0.2222222222222222,
              "#7201a8"
             ],
             [
              0.3333333333333333,
              "#9c179e"
             ],
             [
              0.4444444444444444,
              "#bd3786"
             ],
             [
              0.5555555555555556,
              "#d8576b"
             ],
             [
              0.6666666666666666,
              "#ed7953"
             ],
             [
              0.7777777777777778,
              "#fb9f3a"
             ],
             [
              0.8888888888888888,
              "#fdca26"
             ],
             [
              1,
              "#f0f921"
             ]
            ],
            "type": "contour"
           }
          ],
          "contourcarpet": [
           {
            "colorbar": {
             "outlinewidth": 0,
             "ticks": ""
            },
            "type": "contourcarpet"
           }
          ],
          "heatmap": [
           {
            "colorbar": {
             "outlinewidth": 0,
             "ticks": ""
            },
            "colorscale": [
             [
              0,
              "#0d0887"
             ],
             [
              0.1111111111111111,
              "#46039f"
             ],
             [
              0.2222222222222222,
              "#7201a8"
             ],
             [
              0.3333333333333333,
              "#9c179e"
             ],
             [
              0.4444444444444444,
              "#bd3786"
             ],
             [
              0.5555555555555556,
              "#d8576b"
             ],
             [
              0.6666666666666666,
              "#ed7953"
             ],
             [
              0.7777777777777778,
              "#fb9f3a"
             ],
             [
              0.8888888888888888,
              "#fdca26"
             ],
             [
              1,
              "#f0f921"
             ]
            ],
            "type": "heatmap"
           }
          ],
          "heatmapgl": [
           {
            "colorbar": {
             "outlinewidth": 0,
             "ticks": ""
            },
            "colorscale": [
             [
              0,
              "#0d0887"
             ],
             [
              0.1111111111111111,
              "#46039f"
             ],
             [
              0.2222222222222222,
              "#7201a8"
             ],
             [
              0.3333333333333333,
              "#9c179e"
             ],
             [
              0.4444444444444444,
              "#bd3786"
             ],
             [
              0.5555555555555556,
              "#d8576b"
             ],
             [
              0.6666666666666666,
              "#ed7953"
             ],
             [
              0.7777777777777778,
              "#fb9f3a"
             ],
             [
              0.8888888888888888,
              "#fdca26"
             ],
             [
              1,
              "#f0f921"
             ]
            ],
            "type": "heatmapgl"
           }
          ],
          "histogram": [
           {
            "marker": {
             "pattern": {
              "fillmode": "overlay",
              "size": 10,
              "solidity": 0.2
             }
            },
            "type": "histogram"
           }
          ],
          "histogram2d": [
           {
            "colorbar": {
             "outlinewidth": 0,
             "ticks": ""
            },
            "colorscale": [
             [
              0,
              "#0d0887"
             ],
             [
              0.1111111111111111,
              "#46039f"
             ],
             [
              0.2222222222222222,
              "#7201a8"
             ],
             [
              0.3333333333333333,
              "#9c179e"
             ],
             [
              0.4444444444444444,
              "#bd3786"
             ],
             [
              0.5555555555555556,
              "#d8576b"
             ],
             [
              0.6666666666666666,
              "#ed7953"
             ],
             [
              0.7777777777777778,
              "#fb9f3a"
             ],
             [
              0.8888888888888888,
              "#fdca26"
             ],
             [
              1,
              "#f0f921"
             ]
            ],
            "type": "histogram2d"
           }
          ],
          "histogram2dcontour": [
           {
            "colorbar": {
             "outlinewidth": 0,
             "ticks": ""
            },
            "colorscale": [
             [
              0,
              "#0d0887"
             ],
             [
              0.1111111111111111,
              "#46039f"
             ],
             [
              0.2222222222222222,
              "#7201a8"
             ],
             [
              0.3333333333333333,
              "#9c179e"
             ],
             [
              0.4444444444444444,
              "#bd3786"
             ],
             [
              0.5555555555555556,
              "#d8576b"
             ],
             [
              0.6666666666666666,
              "#ed7953"
             ],
             [
              0.7777777777777778,
              "#fb9f3a"
             ],
             [
              0.8888888888888888,
              "#fdca26"
             ],
             [
              1,
              "#f0f921"
             ]
            ],
            "type": "histogram2dcontour"
           }
          ],
          "mesh3d": [
           {
            "colorbar": {
             "outlinewidth": 0,
             "ticks": ""
            },
            "type": "mesh3d"
           }
          ],
          "parcoords": [
           {
            "line": {
             "colorbar": {
              "outlinewidth": 0,
              "ticks": ""
             }
            },
            "type": "parcoords"
           }
          ],
          "pie": [
           {
            "automargin": true,
            "type": "pie"
           }
          ],
          "scatter": [
           {
            "fillpattern": {
             "fillmode": "overlay",
             "size": 10,
             "solidity": 0.2
            },
            "type": "scatter"
           }
          ],
          "scatter3d": [
           {
            "line": {
             "colorbar": {
              "outlinewidth": 0,
              "ticks": ""
             }
            },
            "marker": {
             "colorbar": {
              "outlinewidth": 0,
              "ticks": ""
             }
            },
            "type": "scatter3d"
           }
          ],
          "scattercarpet": [
           {
            "marker": {
             "colorbar": {
              "outlinewidth": 0,
              "ticks": ""
             }
            },
            "type": "scattercarpet"
           }
          ],
          "scattergeo": [
           {
            "marker": {
             "colorbar": {
              "outlinewidth": 0,
              "ticks": ""
             }
            },
            "type": "scattergeo"
           }
          ],
          "scattergl": [
           {
            "marker": {
             "colorbar": {
              "outlinewidth": 0,
              "ticks": ""
             }
            },
            "type": "scattergl"
           }
          ],
          "scattermapbox": [
           {
            "marker": {
             "colorbar": {
              "outlinewidth": 0,
              "ticks": ""
             }
            },
            "type": "scattermapbox"
           }
          ],
          "scatterpolar": [
           {
            "marker": {
             "colorbar": {
              "outlinewidth": 0,
              "ticks": ""
             }
            },
            "type": "scatterpolar"
           }
          ],
          "scatterpolargl": [
           {
            "marker": {
             "colorbar": {
              "outlinewidth": 0,
              "ticks": ""
             }
            },
            "type": "scatterpolargl"
           }
          ],
          "scatterternary": [
           {
            "marker": {
             "colorbar": {
              "outlinewidth": 0,
              "ticks": ""
             }
            },
            "type": "scatterternary"
           }
          ],
          "surface": [
           {
            "colorbar": {
             "outlinewidth": 0,
             "ticks": ""
            },
            "colorscale": [
             [
              0,
              "#0d0887"
             ],
             [
              0.1111111111111111,
              "#46039f"
             ],
             [
              0.2222222222222222,
              "#7201a8"
             ],
             [
              0.3333333333333333,
              "#9c179e"
             ],
             [
              0.4444444444444444,
              "#bd3786"
             ],
             [
              0.5555555555555556,
              "#d8576b"
             ],
             [
              0.6666666666666666,
              "#ed7953"
             ],
             [
              0.7777777777777778,
              "#fb9f3a"
             ],
             [
              0.8888888888888888,
              "#fdca26"
             ],
             [
              1,
              "#f0f921"
             ]
            ],
            "type": "surface"
           }
          ],
          "table": [
           {
            "cells": {
             "fill": {
              "color": "#EBF0F8"
             },
             "line": {
              "color": "white"
             }
            },
            "header": {
             "fill": {
              "color": "#C8D4E3"
             },
             "line": {
              "color": "white"
             }
            },
            "type": "table"
           }
          ]
         },
         "layout": {
          "annotationdefaults": {
           "arrowcolor": "#2a3f5f",
           "arrowhead": 0,
           "arrowwidth": 1
          },
          "autotypenumbers": "strict",
          "coloraxis": {
           "colorbar": {
            "outlinewidth": 0,
            "ticks": ""
           }
          },
          "colorscale": {
           "diverging": [
            [
             0,
             "#8e0152"
            ],
            [
             0.1,
             "#c51b7d"
            ],
            [
             0.2,
             "#de77ae"
            ],
            [
             0.3,
             "#f1b6da"
            ],
            [
             0.4,
             "#fde0ef"
            ],
            [
             0.5,
             "#f7f7f7"
            ],
            [
             0.6,
             "#e6f5d0"
            ],
            [
             0.7,
             "#b8e186"
            ],
            [
             0.8,
             "#7fbc41"
            ],
            [
             0.9,
             "#4d9221"
            ],
            [
             1,
             "#276419"
            ]
           ],
           "sequential": [
            [
             0,
             "#0d0887"
            ],
            [
             0.1111111111111111,
             "#46039f"
            ],
            [
             0.2222222222222222,
             "#7201a8"
            ],
            [
             0.3333333333333333,
             "#9c179e"
            ],
            [
             0.4444444444444444,
             "#bd3786"
            ],
            [
             0.5555555555555556,
             "#d8576b"
            ],
            [
             0.6666666666666666,
             "#ed7953"
            ],
            [
             0.7777777777777778,
             "#fb9f3a"
            ],
            [
             0.8888888888888888,
             "#fdca26"
            ],
            [
             1,
             "#f0f921"
            ]
           ],
           "sequentialminus": [
            [
             0,
             "#0d0887"
            ],
            [
             0.1111111111111111,
             "#46039f"
            ],
            [
             0.2222222222222222,
             "#7201a8"
            ],
            [
             0.3333333333333333,
             "#9c179e"
            ],
            [
             0.4444444444444444,
             "#bd3786"
            ],
            [
             0.5555555555555556,
             "#d8576b"
            ],
            [
             0.6666666666666666,
             "#ed7953"
            ],
            [
             0.7777777777777778,
             "#fb9f3a"
            ],
            [
             0.8888888888888888,
             "#fdca26"
            ],
            [
             1,
             "#f0f921"
            ]
           ]
          },
          "colorway": [
           "#636efa",
           "#EF553B",
           "#00cc96",
           "#ab63fa",
           "#FFA15A",
           "#19d3f3",
           "#FF6692",
           "#B6E880",
           "#FF97FF",
           "#FECB52"
          ],
          "font": {
           "color": "#2a3f5f"
          },
          "geo": {
           "bgcolor": "white",
           "lakecolor": "white",
           "landcolor": "white",
           "showlakes": true,
           "showland": true,
           "subunitcolor": "#C8D4E3"
          },
          "hoverlabel": {
           "align": "left"
          },
          "hovermode": "closest",
          "mapbox": {
           "style": "light"
          },
          "paper_bgcolor": "white",
          "plot_bgcolor": "white",
          "polar": {
           "angularaxis": {
            "gridcolor": "#EBF0F8",
            "linecolor": "#EBF0F8",
            "ticks": ""
           },
           "bgcolor": "white",
           "radialaxis": {
            "gridcolor": "#EBF0F8",
            "linecolor": "#EBF0F8",
            "ticks": ""
           }
          },
          "scene": {
           "xaxis": {
            "backgroundcolor": "white",
            "gridcolor": "#DFE8F3",
            "gridwidth": 2,
            "linecolor": "#EBF0F8",
            "showbackground": true,
            "ticks": "",
            "zerolinecolor": "#EBF0F8"
           },
           "yaxis": {
            "backgroundcolor": "white",
            "gridcolor": "#DFE8F3",
            "gridwidth": 2,
            "linecolor": "#EBF0F8",
            "showbackground": true,
            "ticks": "",
            "zerolinecolor": "#EBF0F8"
           },
           "zaxis": {
            "backgroundcolor": "white",
            "gridcolor": "#DFE8F3",
            "gridwidth": 2,
            "linecolor": "#EBF0F8",
            "showbackground": true,
            "ticks": "",
            "zerolinecolor": "#EBF0F8"
           }
          },
          "shapedefaults": {
           "line": {
            "color": "#2a3f5f"
           }
          },
          "ternary": {
           "aaxis": {
            "gridcolor": "#DFE8F3",
            "linecolor": "#A2B1C6",
            "ticks": ""
           },
           "baxis": {
            "gridcolor": "#DFE8F3",
            "linecolor": "#A2B1C6",
            "ticks": ""
           },
           "bgcolor": "white",
           "caxis": {
            "gridcolor": "#DFE8F3",
            "linecolor": "#A2B1C6",
            "ticks": ""
           }
          },
          "title": {
           "x": 0.05
          },
          "xaxis": {
           "automargin": true,
           "gridcolor": "#EBF0F8",
           "linecolor": "#EBF0F8",
           "ticks": "",
           "title": {
            "standoff": 15
           },
           "zerolinecolor": "#EBF0F8",
           "zerolinewidth": 2
          },
          "yaxis": {
           "automargin": true,
           "gridcolor": "#EBF0F8",
           "linecolor": "#EBF0F8",
           "ticks": "",
           "title": {
            "standoff": 15
           },
           "zerolinecolor": "#EBF0F8",
           "zerolinewidth": 2
          }
         }
        },
        "xaxis": {
         "anchor": "y",
         "domain": [
          0,
          0.2125
         ]
        },
        "xaxis2": {
         "anchor": "y2",
         "domain": [
          0.2625,
          0.475
         ]
        },
        "xaxis3": {
         "anchor": "y3",
         "domain": [
          0.525,
          0.7375
         ]
        },
        "xaxis4": {
         "anchor": "y4",
         "domain": [
          0.7875,
          1
         ]
        },
        "yaxis": {
         "anchor": "x",
         "domain": [
          0,
          1
         ]
        },
        "yaxis2": {
         "anchor": "x2",
         "domain": [
          0,
          1
         ],
         "matches": "y",
         "showticklabels": false
        },
        "yaxis3": {
         "anchor": "x3",
         "domain": [
          0,
          1
         ],
         "matches": "y",
         "showticklabels": false
        },
        "yaxis4": {
         "anchor": "x4",
         "domain": [
          0,
          1
         ],
         "matches": "y",
         "showticklabels": false
        }
       }
      }
     },
     "metadata": {},
     "output_type": "display_data"
    }
   ],
   "source": [
    "cm_fig = make_subplots(1, 4, subplot_titles=('Training Confusion Matrix', 'Applying L2 Regularization', 'Testing Confusion Matrix', 'Applying L2 Regularization'), vertical_spacing=0.15, shared_yaxes=True)\n",
    "cm_fig.add_trace(cm_train_fig.data[0], 1, 1)\n",
    "cm_fig.add_trace(px.imshow(confusion_matrix(y_train, reg_y_train_pred), text_auto=True).data[0], 1, 2)\n",
    "cm_fig.add_trace(cm_test_fig.data[0], 1, 3)\n",
    "cm_fig.add_trace(px.imshow(confusion_matrix(y_test, reg_y_test_pred), text_auto=True).data[0], 1, 4)\n",
    "cm_fig.update_layout(\n",
    "    template='plotly_white',\n",
    "    font={\n",
    "        'family': 'Georgia',\n",
    "        'size': 14,\n",
    "        'color': 'black'\n",
    "    },\n",
    "    coloraxis_colorbar=dict(title='Count'),\n",
    "    coloraxis=dict(colorscale=['white' ,colors[4], colors[0]]),\n",
    ")\n",
    "cm_fig.show()\n",
    "    "
   ]
  },
  {
   "cell_type": "code",
   "execution_count": 318,
   "metadata": {},
   "outputs": [
    {
     "name": "stdout",
     "output_type": "stream",
     "text": [
      "Figure({\n",
      "    'data': [{'coloraxis': 'coloraxis',\n",
      "              'hovertemplate': 'x: %{x}<br>y: %{y}<br>color: %{z}<extra></extra>',\n",
      "              'name': '0',\n",
      "              'texttemplate': '%{z}',\n",
      "              'type': 'heatmap',\n",
      "              'xaxis': 'x',\n",
      "              'yaxis': 'y',\n",
      "              'z': array([[39,  1,  0],\n",
      "                          [ 0, 34,  7],\n",
      "                          [ 0,  5, 34]])}],\n",
      "    'layout': {'coloraxis': {'colorscale': [[0.0, 'rgb(247,251,255)'], [0.125,\n",
      "                                            'rgb(222,235,247)'], [0.25,\n",
      "                                            'rgb(198,219,239)'], [0.375,\n",
      "                                            'rgb(158,202,225)'], [0.5,\n",
      "                                            'rgb(107,174,214)'], [0.625,\n",
      "                                            'rgb(66,146,198)'], [0.75,\n",
      "                                            'rgb(33,113,181)'], [0.875,\n",
      "                                            'rgb(8,81,156)'], [1.0,\n",
      "                                            'rgb(8,48,107)']]},\n",
      "               'font': {'color': 'black', 'family': 'Georgia', 'size': 14},\n",
      "               'height': 400,\n",
      "               'margin': {'t': 60},\n",
      "               'template': '...',\n",
      "               'title': {'text': 'Training Confusion Matrix'},\n",
      "               'width': 400,\n",
      "               'xaxis': {'anchor': 'y', 'constrain': 'domain', 'domain': [0.0, 1.0], 'scaleanchor': 'y'},\n",
      "               'yaxis': {'anchor': 'x', 'autorange': 'reversed', 'constrain': 'domain', 'domain': [0.0, 1.0]}}\n",
      "})\n"
     ]
    }
   ],
   "source": [
    "print(cm_train_fig)"
   ]
  },
  {
   "cell_type": "markdown",
   "metadata": {},
   "source": [
    "# Extended section"
   ]
  },
  {
   "cell_type": "code",
   "execution_count": null,
   "metadata": {},
   "outputs": [],
   "source": []
  },
  {
   "cell_type": "code",
   "execution_count": null,
   "metadata": {},
   "outputs": [
    {
     "ename": "TypeError",
     "evalue": "Passing a set as an indexer is not supported. Use a list instead.",
     "output_type": "error",
     "traceback": [
      "\u001b[0;31m---------------------------------------------------------------------------\u001b[0m",
      "\u001b[0;31mTypeError\u001b[0m                                 Traceback (most recent call last)",
      "Cell \u001b[0;32mIn[114], line 4\u001b[0m\n\u001b[1;32m      1\u001b[0m tsne \u001b[38;5;241m=\u001b[39m TSNE(n_components\u001b[38;5;241m=\u001b[39m\u001b[38;5;241m3\u001b[39m)\n\u001b[1;32m      3\u001b[0m df_tsne \u001b[38;5;241m=\u001b[39m pd\u001b[38;5;241m.\u001b[39mDataFrame(\n\u001b[0;32m----> 4\u001b[0m     data\u001b[38;5;241m=\u001b[39mtsne\u001b[38;5;241m.\u001b[39mfit_transform(\u001b[43mdf\u001b[49m\u001b[43m[\u001b[49m\u001b[43mmetadata\u001b[49m\u001b[43m[\u001b[49m\u001b[38;5;124;43m'\u001b[39;49m\u001b[38;5;124;43mnum_fts\u001b[39;49m\u001b[38;5;124;43m'\u001b[39;49m\u001b[43m]\u001b[49m\u001b[43m]\u001b[49m),\n\u001b[1;32m      5\u001b[0m     columns\u001b[38;5;241m=\u001b[39mtsne\u001b[38;5;241m.\u001b[39mget_feature_names_out()\n\u001b[1;32m      6\u001b[0m )\n",
      "File \u001b[0;32m~/Documents/machine-learning-docs/.mld-venv/lib/python3.9/site-packages/pandas/core/frame.py:4063\u001b[0m, in \u001b[0;36mDataFrame.__getitem__\u001b[0;34m(self, key)\u001b[0m\n\u001b[1;32m   4062\u001b[0m \u001b[38;5;28;01mdef\u001b[39;00m \u001b[38;5;21m__getitem__\u001b[39m(\u001b[38;5;28mself\u001b[39m, key):\n\u001b[0;32m-> 4063\u001b[0m     \u001b[43mcheck_dict_or_set_indexers\u001b[49m\u001b[43m(\u001b[49m\u001b[43mkey\u001b[49m\u001b[43m)\u001b[49m\n\u001b[1;32m   4064\u001b[0m     key \u001b[38;5;241m=\u001b[39m lib\u001b[38;5;241m.\u001b[39mitem_from_zerodim(key)\n\u001b[1;32m   4065\u001b[0m     key \u001b[38;5;241m=\u001b[39m com\u001b[38;5;241m.\u001b[39mapply_if_callable(key, \u001b[38;5;28mself\u001b[39m)\n",
      "File \u001b[0;32m~/Documents/machine-learning-docs/.mld-venv/lib/python3.9/site-packages/pandas/core/indexing.py:2774\u001b[0m, in \u001b[0;36mcheck_dict_or_set_indexers\u001b[0;34m(key)\u001b[0m\n\u001b[1;32m   2766\u001b[0m \u001b[38;5;250m\u001b[39m\u001b[38;5;124;03m\"\"\"\u001b[39;00m\n\u001b[1;32m   2767\u001b[0m \u001b[38;5;124;03mCheck if the indexer is or contains a dict or set, which is no longer allowed.\u001b[39;00m\n\u001b[1;32m   2768\u001b[0m \u001b[38;5;124;03m\"\"\"\u001b[39;00m\n\u001b[1;32m   2769\u001b[0m \u001b[38;5;28;01mif\u001b[39;00m (\n\u001b[1;32m   2770\u001b[0m     \u001b[38;5;28misinstance\u001b[39m(key, \u001b[38;5;28mset\u001b[39m)\n\u001b[1;32m   2771\u001b[0m     \u001b[38;5;129;01mor\u001b[39;00m \u001b[38;5;28misinstance\u001b[39m(key, \u001b[38;5;28mtuple\u001b[39m)\n\u001b[1;32m   2772\u001b[0m     \u001b[38;5;129;01mand\u001b[39;00m \u001b[38;5;28many\u001b[39m(\u001b[38;5;28misinstance\u001b[39m(x, \u001b[38;5;28mset\u001b[39m) \u001b[38;5;28;01mfor\u001b[39;00m x \u001b[38;5;129;01min\u001b[39;00m key)\n\u001b[1;32m   2773\u001b[0m ):\n\u001b[0;32m-> 2774\u001b[0m     \u001b[38;5;28;01mraise\u001b[39;00m \u001b[38;5;167;01mTypeError\u001b[39;00m(\n\u001b[1;32m   2775\u001b[0m         \u001b[38;5;124m\"\u001b[39m\u001b[38;5;124mPassing a set as an indexer is not supported. Use a list instead.\u001b[39m\u001b[38;5;124m\"\u001b[39m\n\u001b[1;32m   2776\u001b[0m     )\n\u001b[1;32m   2778\u001b[0m \u001b[38;5;28;01mif\u001b[39;00m (\n\u001b[1;32m   2779\u001b[0m     \u001b[38;5;28misinstance\u001b[39m(key, \u001b[38;5;28mdict\u001b[39m)\n\u001b[1;32m   2780\u001b[0m     \u001b[38;5;129;01mor\u001b[39;00m \u001b[38;5;28misinstance\u001b[39m(key, \u001b[38;5;28mtuple\u001b[39m)\n\u001b[1;32m   2781\u001b[0m     \u001b[38;5;129;01mand\u001b[39;00m \u001b[38;5;28many\u001b[39m(\u001b[38;5;28misinstance\u001b[39m(x, \u001b[38;5;28mdict\u001b[39m) \u001b[38;5;28;01mfor\u001b[39;00m x \u001b[38;5;129;01min\u001b[39;00m key)\n\u001b[1;32m   2782\u001b[0m ):\n\u001b[1;32m   2783\u001b[0m     \u001b[38;5;28;01mraise\u001b[39;00m \u001b[38;5;167;01mTypeError\u001b[39;00m(\n\u001b[1;32m   2784\u001b[0m         \u001b[38;5;124m\"\u001b[39m\u001b[38;5;124mPassing a dict as an indexer is not supported. Use a list instead.\u001b[39m\u001b[38;5;124m\"\u001b[39m\n\u001b[1;32m   2785\u001b[0m     )\n",
      "\u001b[0;31mTypeError\u001b[0m: Passing a set as an indexer is not supported. Use a list instead."
     ]
    }
   ],
   "source": [
    "tsne = TSNE(n_components=3)\n",
    "\n",
    "df_tsne = pd.DataFrame(\n",
    "    data=tsne.fit_transform(df[metadata['num_fts']]),\n",
    "    columns=tsne.get_feature_names_out()\n",
    ")"
   ]
  },
  {
   "cell_type": "code",
   "execution_count": null,
   "metadata": {},
   "outputs": [
    {
     "data": {
      "application/vnd.plotly.v1+json": {
       "config": {
        "plotlyServerURL": "https://plot.ly"
       },
       "data": [
        {
         "hovertemplate": "tsne0=%{x}<br>tsne1=%{y}<br>tsne2=%{z}<extra></extra>",
         "legendgroup": "",
         "marker": {
          "color": "#636efa",
          "opacity": 0.5,
          "symbol": "circle"
         },
         "mode": "markers",
         "name": "",
         "scene": "scene",
         "showlegend": false,
         "type": "scatter3d",
         "x": [
          -15.20716381072998,
          -5.875857830047607,
          0.549058735370636,
          0.4981901943683624,
          -4.131585121154785,
          13.62447452545166,
          2.260415554046631,
          -6.527233123779297,
          19.870223999023438,
          10.43234920501709,
          -3.3934552669525146,
          -16.0222225189209,
          -1.7615324258804321,
          15.018767356872559,
          6.345391750335693,
          1.3270663022994995,
          -5.451855182647705,
          -4.762646675109863,
          -4.390988826751709,
          -16.104026794433594,
          14.324835777282715,
          -6.583410739898682,
          7.588865280151367,
          -6.781773567199707,
          -1.3473402261734009,
          8.351849555969238,
          -4.909250259399414,
          -7.391281604766846,
          0.5198917984962463,
          -3.1819162368774414,
          18.574634552001953,
          4.099164009094238,
          -1.102774739265442,
          -5.183869361877441,
          -13.465804100036621,
          18.360219955444336,
          11.494302749633789,
          7.60504674911499,
          0.7730793356895447,
          -6.558660507202148,
          17.698036193847656,
          18.293031692504883,
          -0.3572245240211487,
          -0.5393322706222534,
          -0.33278289437294006,
          -1.1489722728729248,
          -2.381495714187622,
          2.633808135986328,
          18.750417709350586,
          18.76718521118164,
          -0.8553280234336853,
          10.150534629821777,
          8.177427291870117,
          -1.7455261945724487,
          -6.202599048614502,
          6.321039199829102,
          -4.0947113037109375,
          -16.08547592163086,
          18.767385482788086,
          -5.014627456665039,
          11.464089393615723,
          -6.778998374938965,
          13.762984275817871,
          -0.3385395407676697,
          5.5117058753967285,
          -14.884507179260254,
          -13.757208824157715,
          -15.921642303466797,
          -2.1142218112945557,
          0.5680893063545227,
          -16.146310806274414,
          2.5364246368408203,
          -3.0230085849761963,
          17.83642578125,
          -4.924611568450928,
          7.30435848236084,
          2.145380735397339,
          13.58659839630127,
          0.7978472113609314,
          8.064384460449219,
          -0.18822632730007172,
          -3.928335428237915,
          -14.504799842834473,
          15.495217323303223,
          -4.259969711303711,
          -5.162794589996338,
          7.99543571472168,
          18.307722091674805,
          7.6766581535339355,
          17.710372924804688,
          -7.071845531463623,
          7.766524314880371,
          15.018842697143555,
          6.231038570404053,
          -14.003495216369629,
          -15.711749076843262,
          -16.173900604248047,
          2.0128355026245117,
          -6.241821765899658,
          -16.26734161376953,
          5.335484981536865,
          -13.98267650604248,
          -13.873550415039062,
          -13.344646453857422,
          -3.465413808822632,
          -5.437222003936768,
          -13.672157287597656,
          7.404837608337402,
          1.6061369180679321,
          13.099082946777344,
          -15.701737403869629,
          -13.346353530883789,
          12.892427444458008,
          -2.713460922241211,
          -14.613198280334473,
          3.8311588764190674,
          20.095478057861328,
          18.349720001220703,
          9.021271705627441,
          -5.814709186553955,
          -1.6403260231018066,
          -1.8763595819473267,
          -3.1707823276519775,
          -13.87026596069336,
          -6.303982257843018,
          -13.67265796661377,
          4.340091705322266,
          -4.859312057495117,
          -14.893532752990723,
          -13.024271011352539,
          0.06651291996240616,
          13.426844596862793,
          -1.685630202293396,
          -4.230358123779297,
          -13.591809272766113,
          5.58548641204834,
          -4.3627777099609375,
          -5.313660144805908,
          5.212517261505127,
          -1.807212471961975,
          -6.220137119293213,
          8.833086967468262,
          2.449399471282959,
          -1.752252221107483,
          7.535126686096191,
          -3.1054131984710693,
          -14.064278602600098,
          -2.133946180343628,
          17.502777099609375,
          -13.746048927307129,
          -14.01435661315918,
          -4.212862014770508,
          7.515543460845947,
          -4.293287754058838,
          18.0795841217041,
          17.84812355041504,
          6.872313976287842,
          4.406851768493652,
          -3.9059195518493652,
          4.406290531158447,
          -16.118764877319336,
          1.8934434652328491,
          18.1214656829834,
          -15.872552871704102,
          -14.138821601867676,
          6.703625679016113,
          -5.397939205169678,
          -4.932013988494873,
          -0.6132304668426514,
          11.725042343139648,
          18.574953079223633,
          -5.032923698425293,
          -16.109399795532227,
          -3.3648695945739746,
          -3.3527376651763916,
          -1.8759264945983887,
          18.743825912475586,
          -13.73172378540039,
          6.216790676116943,
          -3.103161334991455,
          18.29891586303711,
          -13.600370407104492,
          13.200104713439941,
          17.82900047302246,
          15.326708793640137,
          8.229776382446289,
          13.488838195800781,
          16.071596145629883,
          -13.550741195678711,
          18.05668067932129,
          2.14290452003479,
          3.940908670425415,
          -15.418078422546387,
          -3.4863407611846924,
          17.491525650024414,
          -2.5615477561950684,
          3.520904064178467,
          -14.894244194030762,
          -14.214905738830566,
          -2.6603541374206543,
          5.51161003112793,
          0.5541788935661316,
          2.5722391605377197,
          -6.575826644897461,
          7.83908224105835,
          7.976361274719238,
          -4.242740154266357,
          2.8692080974578857,
          7.396692752838135,
          -13.847994804382324,
          -4.670477867126465,
          -7.139203071594238,
          10.594466209411621,
          -16.015064239501953,
          10.42992115020752,
          -4.471337795257568,
          1.6415951251983643,
          -4.1310296058654785,
          -1.8050755262374878,
          -0.14418929815292358,
          -14.257713317871094,
          7.499877452850342,
          -3.0075368881225586,
          7.488606929779053,
          -4.923145771026611,
          -13.688867568969727,
          17.74217414855957,
          -7.392174243927002,
          16.192867279052734,
          6.294054985046387,
          13.092211723327637,
          17.981464385986328,
          18.353715896606445,
          -4.776081085205078,
          14.05246353149414,
          -7.590740203857422,
          -5.232006072998047,
          3.7888879776000977,
          3.7885873317718506,
          4.564794063568115,
          9.921100616455078,
          -7.571313858032227,
          12.72290325164795,
          -13.307400703430176,
          8.833765029907227,
          2.351245164871216,
          -3.9726433753967285,
          5.808680057525635,
          5.58493185043335,
          20.084938049316406,
          -2.9543027877807617,
          6.3135223388671875,
          -15.68145751953125,
          10.028424263000488,
          -5.233246326446533,
          19.87022590637207,
          -4.847750186920166,
          -2.964698076248169,
          -5.597645282745361,
          4.565090656280518,
          8.315202713012695,
          14.3236665725708,
          -6.123475074768066,
          13.373845100402832,
          -1.1012160778045654,
          4.406108856201172,
          10.433821678161621,
          -1.4158060550689697,
          -3.9288971424102783,
          4.567676067352295,
          -5.724925518035889,
          -2.6340503692626953,
          -1.7776376008987427,
          -13.930066108703613,
          -3.773162603378296,
          -16.108556747436523,
          -2.4701790809631348,
          13.429535865783691,
          -13.313610076904297,
          8.790661811828613,
          -13.888477325439453,
          -4.219196319580078,
          7.948230266571045,
          11.865499496459961,
          -3.7327420711517334,
          3.626309633255005,
          -15.878325462341309,
          -2.464055299758911,
          -5.179413795471191,
          -6.670676231384277,
          -1.055465579032898,
          -16.095762252807617,
          -3.1283233165740967,
          -4.173570156097412,
          -4.869915008544922,
          13.633245468139648,
          6.21700382232666,
          1.1713353395462036,
          17.67622947692871,
          -14.966177940368652,
          -14.337428092956543,
          -1.966392159461975,
          14.3069486618042,
          -2.6567742824554443,
          9.346864700317383,
          -6.011646270751953,
          -14.2670316696167,
          16.07369613647461,
          -6.114022254943848,
          6.8725152015686035,
          9.47008228302002,
          0.03583657369017601,
          -4.789360046386719,
          -15.367189407348633,
          0.8106403946876526,
          10.30078125,
          -7.562686443328857,
          3.9622199535369873,
          -4.689116477966309,
          -7.468486785888672,
          18.56966781616211,
          5.335628986358643,
          -13.454113006591797,
          -13.380437850952148,
          9.919774055480957,
          -1.148566722869873,
          -16.168628692626953,
          4.003206253051758,
          8.399595260620117,
          18.57583999633789,
          6.296719074249268,
          18.569509506225586,
          2.2398264408111572,
          -15.264451026916504,
          5.606870651245117,
          -4.836532115936279,
          11.004834175109863,
          1.7722810506820679,
          -7.549252510070801,
          -5.225483417510986,
          -7.195648193359375,
          3.94132137298584,
          -15.722222328186035,
          0.9332976937294006,
          16.080322265625,
          -13.686970710754395,
          9.91956901550293,
          20.106876373291016,
          -7.103631973266602,
          -15.499567031860352,
          -1.7953770160675049,
          13.54829216003418,
          15.43476676940918,
          13.22222900390625,
          7.31392765045166,
          -5.097428321838379,
          -13.223605155944824,
          -5.132291793823242,
          -13.551591873168945,
          14.836503982543945,
          -15.264382362365723,
          -6.151454448699951,
          5.349822998046875,
          -15.11983585357666,
          2.0956873893737793,
          14.157699584960938,
          10.566853523254395,
          10.748102188110352,
          -4.777576446533203,
          13.452797889709473,
          -6.758548259735107,
          -5.47838020324707,
          -14.22679615020752,
          -6.808461666107178,
          -4.528716087341309,
          6.303597927093506,
          9.952147483825684,
          -16.107379913330078,
          1.580301284790039,
          -5.45871639251709,
          -6.1722025871276855,
          -15.03553295135498,
          17.06138038635254,
          -0.8598724007606506,
          18.293264389038086,
          -15.522185325622559,
          -14.141033172607422,
          12.898290634155273,
          13.9586181640625,
          -14.934746742248535,
          -3.952559471130371,
          11.533191680908203,
          -2.49639892578125,
          5.349721908569336,
          18.2432918548584,
          -0.8565745949745178,
          5.081787109375,
          6.345745086669922,
          9.950814247131348,
          -14.043713569641113,
          -1.674055576324463,
          13.694701194763184,
          -13.375921249389648,
          -14.146000862121582,
          -6.788970470428467,
          -14.878396987915039,
          -4.423691272735596,
          14.83665943145752,
          13.700531959533691,
          17.6918888092041,
          -15.598349571228027,
          -3.941936731338501,
          -15.749135971069336,
          -16.307748794555664
         ],
         "y": [
          -1.067467451095581,
          5.1901679039001465,
          -4.251363277435303,
          -4.296606063842773,
          5.104576110839844,
          2.683898687362671,
          -5.204319000244141,
          4.934046268463135,
          0.9289661645889282,
          1.241034984588623,
          2.988307476043701,
          -2.061777114868164,
          -1.5308648347854614,
          3.2009246349334717,
          -3.5303385257720947,
          -4.4547224044799805,
          6.312567710876465,
          5.0198564529418945,
          4.807934284210205,
          -1.2423124313354492,
          3.108391284942627,
          5.590563774108887,
          -2.0253708362579346,
          5.556935787200928,
          -0.4711284935474396,
          -0.9027260541915894,
          5.508626937866211,
          5.3259429931640625,
          -4.061007022857666,
          1.094469428062439,
          1.1467512845993042,
          -5.424468517303467,
          -0.8140307664871216,
          5.267477035522461,
          -1.7594588994979858,
          2.0556461811065674,
          1.955621600151062,
          -2.0747551918029785,
          -4.729334354400635,
          5.2253499031066895,
          1.858383059501648,
          1.720682144165039,
          -2.4075887203216553,
          -2.1275475025177,
          -3.6804370880126953,
          -0.8807052969932556,
          0.27058595418930054,
          -5.389105796813965,
          1.366021990776062,
          1.6798511743545532,
          -2.368647575378418,
          1.2143696546554565,
          -1.4999721050262451,
          -1.5162913799285889,
          5.286449909210205,
          -3.5641064643859863,
          4.031224727630615,
          -1.4586716890335083,
          1.6799676418304443,
          5.284458637237549,
          1.9364640712738037,
          5.862228870391846,
          2.8548953533172607,
          -3.6916160583496094,
          -4.4908833503723145,
          -1.3706189393997192,
          -2.5632097721099854,
          -1.9221928119659424,
          0.23649989068508148,
          -4.238189697265625,
          -1.700154423713684,
          -5.303431510925293,
          2.1224148273468018,
          1.3983638286590576,
          5.386361598968506,
          -1.9469956159591675,
          -5.0823235511779785,
          3.485154151916504,
          -3.556797504425049,
          -1.6675148010253906,
          -3.3877298831939697,
          3.9389748573303223,
          -2.0966761112213135,
          2.999349355697632,
          4.675472259521484,
          5.7712602615356445,
          -1.1324067115783691,
          1.7603087425231934,
          -1.6570972204208374,
          1.9918479919433594,
          5.921328544616699,
          -1.7749229669570923,
          3.200949192047119,
          -3.68131947517395,
          -1.1550003290176392,
          -2.0316174030303955,
          -1.7290189266204834,
          -5.195304870605469,
          5.240787506103516,
          -1.8856022357940674,
          -4.65518045425415,
          -2.4332635402679443,
          -2.5219767093658447,
          -2.4065189361572266,
          3.493720054626465,
          6.324814796447754,
          -1.8632231950759888,
          -1.880747675895691,
          -4.755505561828613,
          3.0548672676086426,
          -2.022106885910034,
          -1.1037814617156982,
          2.7908778190612793,
          4.21611213684082,
          -1.5302095413208008,
          -5.481557846069336,
          0.8546335697174072,
          1.3175618648529053,
          -0.10733657330274582,
          5.397673606872559,
          -1.3669418096542358,
          -1.6908879280090332,
          2.5771474838256836,
          -2.813286781311035,
          5.720269680023193,
          -2.586817979812622,
          -5.352351188659668,
          5.46425199508667,
          -1.2259713411331177,
          -0.8582013845443726,
          -3.117116689682007,
          2.731581926345825,
          -0.7346552610397339,
          4.665318965911865,
          -1.1585190296173096,
          -4.414434432983398,
          4.736368179321289,
          5.358209133148193,
          -4.7544331550598145,
          -1.5924872159957886,
          5.270694255828857,
          -0.31051531434059143,
          -5.376002311706543,
          -1.5336941480636597,
          -2.1240193843841553,
          1.023262858390808,
          -2.7726521492004395,
          -1.608720064163208,
          2.076662063598633,
          -1.1831778287887573,
          -1.1748591661453247,
          5.2631635665893555,
          -2.1202118396759033,
          5.31502628326416,
          1.4691277742385864,
          2.098371744155884,
          -2.8066823482513428,
          -5.286704063415527,
          4.672580718994141,
          -5.287189483642578,
          -1.400028944015503,
          -5.275841236114502,
          2.2223188877105713,
          -1.9283146858215332,
          -2.755521059036255,
          -3.0450363159179688,
          6.355860233306885,
          4.837456226348877,
          -2.3524065017700195,
          2.0974133014678955,
          1.1553339958190918,
          5.501693248748779,
          -1.6813209056854248,
          3.0049996376037598,
          1.6767772436141968,
          -0.153034970164299,
          1.4972453117370605,
          -1.2006818056106567,
          -3.6992015838623047,
          1.4317761659622192,
          1.3911164999008179,
          -1.941562533378601,
          3.2622933387756348,
          1.4021211862564087,
          3.0753188133239746,
          -1.3232684135437012,
          3.4861106872558594,
          2.759101390838623,
          -1.0714980363845825,
          1.4569677114486694,
          -5.137069225311279,
          -5.466338634490967,
          -0.8320016860961914,
          2.0658421516418457,
          2.0821192264556885,
          0.44871047139167786,
          -5.480560779571533,
          -1.4479727745056152,
          -1.424850583076477,
          0.8163792490959167,
          -4.491146087646484,
          -4.247596263885498,
          -5.286468982696533,
          5.284982204437256,
          -1.3898520469665527,
          -1.0793229341506958,
          4.351762294769287,
          -5.385198593139648,
          -1.8773775100708008,
          -1.2170994281768799,
          5.171755313873291,
          5.897242546081543,
          1.3556983470916748,
          -2.069166660308838,
          1.2445542812347412,
          4.450646877288818,
          -4.678440570831299,
          4.196702003479004,
          -1.6045018434524536,
          -2.924800395965576,
          -0.6342407464981079,
          -1.4047967195510864,
          1.8420653343200684,
          -1.4984172582626343,
          4.701615810394287,
          -2.581514596939087,
          1.9593480825424194,
          4.489445209503174,
          2.707834482192993,
          -3.5986216068267822,
          3.251164197921753,
          2.2030913829803467,
          1.6885522603988647,
          4.507297515869141,
          3.099195718765259,
          5.136721134185791,
          5.705856800079346,
          -5.490149974822998,
          -5.490534782409668,
          -5.195058345794678,
          0.7999870777130127,
          5.144409656524658,
          2.6811885833740234,
          -1.0564967393875122,
          -0.31064537167549133,
          -5.481958866119385,
          4.409644603729248,
          -4.172584533691406,
          -4.41483211517334,
          0.8584164381027222,
          2.1502506732940674,
          -3.5737104415893555,
          -1.9959285259246826,
          1.0165034532546997,
          5.729979038238525,
          0.9289653301239014,
          5.042997360229492,
          1.2395601272583008,
          6.218049049377441,
          -5.194892406463623,
          -0.9148916602134705,
          3.33231520652771,
          5.3206353187561035,
          2.998239040374756,
          -1.2188339233398438,
          -5.287389755249023,
          1.2387022972106934,
          -0.6252319812774658,
          4.338923454284668,
          -5.193935871124268,
          6.434139251708984,
          0.7920563817024231,
          -1.5535352230072021,
          -2.4470534324645996,
          3.6974546909332275,
          -1.2469065189361572,
          0.4295782446861267,
          3.32110333442688,
          -2.4177405834198,
          -0.35705724358558655,
          -2.6864607334136963,
          5.275918960571289,
          -1.0618699789047241,
          2.1830925941467285,
          4.617463111877441,
          -5.492177486419678,
          -2.0800282955169678,
          0.4279050827026367,
          5.2742085456848145,
          5.3773674964904785,
          -0.9228951334953308,
          -1.4648958444595337,
          4.09525728225708,
          4.845236778259277,
          4.850630283355713,
          3.375906467437744,
          -3.6985349655151367,
          -4.033522605895996,
          1.6329904794692993,
          -1.469273328781128,
          -2.5755503177642822,
          0.3680213391780853,
          3.3515303134918213,
          1.5004979372024536,
          0.2418115884065628,
          5.321518421173096,
          -2.2948124408721924,
          2.7581300735473633,
          5.264652729034424,
          -2.806307554244995,
          0.36622780561447144,
          -3.3861453533172607,
          4.771917819976807,
          -2.087583303451538,
          -4.722223281860352,
          1.0084881782531738,
          5.161551475524902,
          -5.46035099029541,
          5.314663410186768,
          4.333314895629883,
          1.5761831998825073,
          -4.655020713806152,
          -2.382503032684326,
          -1.25584876537323,
          0.8011994361877441,
          -0.8795113563537598,
          -1.499382734298706,
          -5.459658145904541,
          -0.8074958324432373,
          1.9055330753326416,
          -3.5960371494293213,
          1.1480497121810913,
          -5.059930801391602,
          -2.1518712043762207,
          -4.391141891479492,
          4.816743850708008,
          1.640071988105774,
          -4.923130989074707,
          4.559308052062988,
          5.70368766784668,
          4.402814865112305,
          -5.46640682220459,
          -2.0266637802124023,
          -4.0445451736450195,
          2.7553470134735107,
          -2.848515272140503,
          0.8016577959060669,
          0.8507646322250366,
          5.67947244644165,
          -2.0897789001464844,
          -1.5828354358673096,
          2.80116605758667,
          3.0266661643981934,
          2.761496067047119,
          -1.968667984008789,
          5.531795024871826,
          -1.996601939201355,
          5.712425231933594,
          -2.6246755123138428,
          3.259742021560669,
          -1.1024409532546997,
          4.201723575592041,
          -4.643812656402588,
          -1.398313283920288,
          -5.074442386627197,
          3.4445974826812744,
          1.3344228267669678,
          1.465814232826233,
          5.050776481628418,
          3.1252553462982178,
          5.179819107055664,
          5.638389587402344,
          -1.42086660861969,
          6.007329940795898,
          5.119465351104736,
          -3.5850942134857178,
          0.8291988372802734,
          -1.391062617301941,
          -4.6136794090271,
          6.307054042816162,
          5.53535795211792,
          -2.1439192295074463,
          2.290156126022339,
          -1.9124996662139893,
          2.0882041454315186,
          -1.3833116292953491,
          -2.754960775375366,
          2.8015542030334473,
          3.3298537731170654,
          -1.1437921524047852,
          3.890056610107422,
          1.9792163372039795,
          1.3428101539611816,
          -4.643978595733643,
          2.1448252201080322,
          -2.360581159591675,
          -4.850282669067383,
          -3.530156135559082,
          0.8320658206939697,
          -2.405012369155884,
          -0.7127634882926941,
          2.6894326210021973,
          -2.4392004013061523,
          -1.4795417785644531,
          5.134020805358887,
          -1.7880257368087769,
          5.551825523376465,
          3.2598330974578857,
          3.16133975982666,
          1.566939115524292,
          -1.981763482093811,
          4.243696212768555,
          -2.005260467529297,
          -1.9371494054794312
         ],
         "z": [
          2.834752321243286,
          -3.0040717124938965,
          4.745826721191406,
          4.771581649780273,
          2.9914910793304443,
          -2.6757149696350098,
          3.8257269859313965,
          -4.260903358459473,
          2.8547794818878174,
          -3.6929125785827637,
          3.0321836471557617,
          2.841421365737915,
          5.472509384155273,
          -1.7807725667953491,
          -1.6371906995773315,
          4.4645490646362305,
          -4.626925945281982,
          -0.5082153677940369,
          1.3058909177780151,
          4.384984970092773,
          -2.5392820835113525,
          -4.829794883728027,
          -2.7225425243377686,
          -4.745833396911621,
          4.6315999031066895,
          -3.3636767864227295,
          2.811465263366699,
          -4.7131028175354,
          4.767940521240234,
          5.015480995178223,
          2.661835193634033,
          1.6462769508361816,
          4.700510025024414,
          -1.9486536979675293,
          -3.5638999938964844,
          1.6384129524230957,
          -3.4598519802093506,
          -2.7844619750976562,
          4.58202600479126,
          -4.075212001800537,
          2.075653314590454,
          1.4535951614379883,
          4.9249138832092285,
          4.928430080413818,
          5.124617576599121,
          4.744630813598633,
          4.840931415557861,
          3.5906076431274414,
          2.9276812076568604,
          2.732821464538574,
          5.161716938018799,
          -3.6851072311401367,
          -3.291454553604126,
          5.470348834991455,
          -4.233736515045166,
          -1.6041812896728516,
          1.2401139736175537,
          3.9235363006591797,
          2.732710361480713,
          -1.2697781324386597,
          -3.4681668281555176,
          -5.8401570320129395,
          -3.066415786743164,
          5.128664493560791,
          -0.46990570425987244,
          0.8649563193321228,
          -3.3905067443847656,
          2.0576419830322266,
          4.638698101043701,
          4.735089302062988,
          2.7125794887542725,
          3.5255026817321777,
          3.6805782318115234,
          1.7799811363220215,
          2.425097703933716,
          -2.937025785446167,
          3.940908670425415,
          -2.8916728496551514,
          4.666623592376709,
          -3.0427603721618652,
          5.02529239654541,
          1.6048355102539062,
          -0.6255099177360535,
          -1.2482922077178955,
          2.2971560955047607,
          -1.286940097808838,
          -3.436506986618042,
          1.4585233926773071,
          -3.403491735458374,
          1.4079103469848633,
          -5.07631254196167,
          -3.3537824153900146,
          -1.7807111740112305,
          -1.4856129884719849,
          -1.3280667066574097,
          2.0851099491119385,
          2.7176506519317627,
          3.8218653202056885,
          -4.215334415435791,
          2.757000207901001,
          -0.2070562094449997,
          -1.684069275856018,
          -3.4783334732055664,
          -3.781301259994507,
          2.474015474319458,
          -4.641963481903076,
          -2.830759286880493,
          -2.712156295776367,
          4.25997257232666,
          -2.591749906539917,
          2.083852529525757,
          -2.6196155548095703,
          -3.059688091278076,
          2.700394630432129,
          -0.01295942347496748,
          2.007802724838257,
          2.7982900142669678,
          1.9077973365783691,
          -3.5604896545410156,
          -4.458459854125977,
          5.648411273956299,
          5.339853763580322,
          3.3619608879089355,
          -2.8734097480773926,
          -4.944692611694336,
          -3.3271191120147705,
          1.3075615167617798,
          2.7804296016693115,
          0.8667654395103455,
          -3.1679601669311523,
          4.8810200691223145,
          -3.0993199348449707,
          4.987735271453857,
          1.5677249431610107,
          -2.2460782527923584,
          -0.578432023525238,
          2.920474052429199,
          -2.13175892829895,
          -0.02075154520571232,
          5.428055286407471,
          -4.22468900680542,
          -3.5173983573913574,
          3.448249340057373,
          5.438767433166504,
          -2.9495091438293457,
          4.98720645904541,
          -3.076648235321045,
          5.666264057159424,
          1.126716136932373,
          -1.8645610809326172,
          -1.5311393737792969,
          2.7883217334747314,
          -2.9668843746185303,
          1.9926573038101196,
          1.5131109952926636,
          2.0611486434936523,
          -2.2449216842651367,
          1.1967172622680664,
          2.8156542778015137,
          1.197632074356079,
          4.067986965179443,
          3.793835163116455,
          1.7888741493225098,
          2.0577809810638428,
          -3.1660256385803223,
          -2.056736946105957,
          -4.68676233291626,
          -1.583174705505371,
          5.035301685333252,
          -3.3954758644104004,
          2.6947970390319824,
          2.8382201194763184,
          2.710043430328369,
          2.8881194591522217,
          4.672996520996094,
          4.754589080810547,
          2.8921844959259033,
          -1.9827817678451538,
          -1.4671930074691772,
          4.585054397583008,
          2.7576868534088135,
          -3.568117380142212,
          -3.068474292755127,
          1.7874606847763062,
          -1.447567105293274,
          -3.0900216102600098,
          -2.6940765380859375,
          -0.5940476655960083,
          -2.389235258102417,
          1.525558590888977,
          3.967297077178955,
          1.8593261241912842,
          3.6454718112945557,
          4.455012321472168,
          1.1133733987808228,
          4.864112854003906,
          2.3748724460601807,
          0.7967897057533264,
          -0.9238097071647644,
          4.646670818328857,
          -0.4698820114135742,
          4.741777420043945,
          3.492926836013794,
          -4.066886901855469,
          -2.8393936157226562,
          -3.0895462036132812,
          1.8622926473617554,
          3.1345138549804688,
          -2.7165868282318115,
          -1.7061532735824585,
          3.087634801864624,
          -5.0506367683410645,
          -3.660313606262207,
          2.844860076904297,
          -3.695477247238159,
          2.275099277496338,
          4.290682315826416,
          1.3647221326828003,
          5.386178970336914,
          4.93988037109375,
          -2.8090951442718506,
          -3.033681631088257,
          3.9938666820526123,
          -3.2401208877563477,
          -1.8341642618179321,
          -3.339193820953369,
          2.0857043266296387,
          -5.325389385223389,
          -0.45485204458236694,
          -1.567752480506897,
          -2.792576313018799,
          1.950041651725769,
          2.7406411170959473,
          -1.349953532218933,
          -2.922389507293701,
          -5.869714736938477,
          2.453372001647949,
          2.0528292655944824,
          2.0535058975219727,
          0.9604532718658447,
          -3.702880620956421,
          -5.8729963302612305,
          -3.1000168323516846,
          -2.999457359313965,
          -3.517247438430786,
          3.385181427001953,
          2.6622555255889893,
          -0.8986239433288574,
          -0.5775060653686523,
          2.8015575408935547,
          3.5479543209075928,
          -1.5944359302520752,
          2.8735404014587402,
          -3.7772598266601562,
          -1.6289446353912354,
          2.8547792434692383,
          -0.8998970985412598,
          4.604066371917725,
          -4.507223606109619,
          0.959947943687439,
          -3.3678369522094727,
          -2.433997392654419,
          -4.28137731552124,
          -3.233015298843384,
          4.865591526031494,
          1.197941541671753,
          -3.6914539337158203,
          4.754859447479248,
          2.6847755908966064,
          0.9561430215835571,
          -5.916081428527832,
          4.633822441101074,
          5.452139854431152,
          -1.6413171291351318,
          2.598630666732788,
          4.3825554847717285,
          4.793509006500244,
          -2.464181661605835,
          -3.767587900161743,
          -3.5074613094329834,
          -2.8114616870880127,
          2.792362928390503,
          -3.3537535667419434,
          -3.354933023452759,
          2.2333779335021973,
          2.25907564163208,
          2.874096393585205,
          4.788376808166504,
          -1.979752540588379,
          -4.052087783813477,
          4.716844081878662,
          3.923098564147949,
          2.756176471710205,
          2.3319385051727295,
          -1.2688555717468262,
          -3.0636868476867676,
          -1.4674272537231445,
          4.5347676277160645,
          1.9977198839187622,
          0.9914196133613586,
          -1.1813942193984985,
          4.391243934631348,
          -2.4117825031280518,
          3.9174110889434814,
          -3.628197193145752,
          -4.352408409118652,
          -1.8519492149353027,
          -0.5917047262191772,
          -4.293086051940918,
          -2.245211124420166,
          -3.6509835720062256,
          4.924936294555664,
          -2.837383508682251,
          2.142890453338623,
          4.56386137008667,
          -3.8085031509399414,
          -5.877601623535156,
          1.8299483060836792,
          2.313861131668091,
          -5.087533473968506,
          1.8639671802520752,
          -0.20727939903736115,
          -2.369264602661133,
          -2.758509635925293,
          -3.70346736907959,
          4.744626522064209,
          3.9200522899627686,
          1.7759467363357544,
          -3.3879292011260986,
          2.0032236576080322,
          -1.5722891092300415,
          2.666940212249756,
          3.9615581035614014,
          2.1631662845611572,
          -0.6109979748725891,
          -1.1765815019607544,
          -3.580824375152588,
          4.1479291915893555,
          -5.515199661254883,
          -1.6167304515838623,
          -5.106690406799316,
          1.858778953552246,
          2.87934947013855,
          4.632841110229492,
          -0.5838966965675354,
          -2.6627931594848633,
          -3.7033655643463135,
          2.795093297958374,
          -5.752782344818115,
          2.1324803829193115,
          5.419654369354248,
          -2.4745051860809326,
          -1.3189942836761475,
          -2.631373167037964,
          -2.9614148139953613,
          2.855839490890503,
          -3.7196710109710693,
          -1.2213208675384521,
          -3.2253477573394775,
          -1.9735311269760132,
          2.7240965366363525,
          -4.812804698944092,
          -0.22809137403964996,
          1.4973971843719482,
          3.98919415473938,
          -2.554738759994507,
          -3.664182186126709,
          -3.633502960205078,
          -0.5145227313041687,
          -2.3800718784332275,
          -4.0303425788879395,
          -2.516652822494507,
          -0.9148570895195007,
          -5.173337936401367,
          3.0646913051605225,
          -1.5796160697937012,
          -3.703510046005249,
          4.0661821365356445,
          4.323658466339111,
          -4.620327949523926,
          -4.246185302734375,
          0.6473422646522522,
          0.5934472680091858,
          5.019726753234863,
          1.6031608581542969,
          2.9719905853271484,
          -3.1689066886901855,
          -3.060427188873291,
          -2.303469181060791,
          0.9598769545555115,
          1.568057656288147,
          -3.4493422508239746,
          3.89567494392395,
          -0.22794850170612335,
          2.098952531814575,
          5.163871765136719,
          0.1779014766216278,
          -1.6369926929473877,
          -3.7030279636383057,
          -1.7276772260665894,
          4.981658935546875,
          -2.8262851238250732,
          -2.2670297622680664,
          -1.1240819692611694,
          -4.026530742645264,
          0.5774937868118286,
          1.8517347574234009,
          -1.9734715223312378,
          -3.1658902168273926,
          1.9586102962493896,
          2.867781400680542,
          2.651252269744873,
          2.075359582901001,
          2.7724318504333496
         ]
        }
       ],
       "layout": {
        "legend": {
         "tracegroupgap": 0
        },
        "margin": {
         "t": 60
        },
        "scene": {
         "domain": {
          "x": [
           0,
           1
          ],
          "y": [
           0,
           1
          ]
         },
         "xaxis": {
          "title": {
           "text": "tsne0"
          }
         },
         "yaxis": {
          "title": {
           "text": "tsne1"
          }
         },
         "zaxis": {
          "title": {
           "text": "tsne2"
          }
         }
        },
        "template": {
         "data": {
          "bar": [
           {
            "error_x": {
             "color": "#2a3f5f"
            },
            "error_y": {
             "color": "#2a3f5f"
            },
            "marker": {
             "line": {
              "color": "#E5ECF6",
              "width": 0.5
             },
             "pattern": {
              "fillmode": "overlay",
              "size": 10,
              "solidity": 0.2
             }
            },
            "type": "bar"
           }
          ],
          "barpolar": [
           {
            "marker": {
             "line": {
              "color": "#E5ECF6",
              "width": 0.5
             },
             "pattern": {
              "fillmode": "overlay",
              "size": 10,
              "solidity": 0.2
             }
            },
            "type": "barpolar"
           }
          ],
          "carpet": [
           {
            "aaxis": {
             "endlinecolor": "#2a3f5f",
             "gridcolor": "white",
             "linecolor": "white",
             "minorgridcolor": "white",
             "startlinecolor": "#2a3f5f"
            },
            "baxis": {
             "endlinecolor": "#2a3f5f",
             "gridcolor": "white",
             "linecolor": "white",
             "minorgridcolor": "white",
             "startlinecolor": "#2a3f5f"
            },
            "type": "carpet"
           }
          ],
          "choropleth": [
           {
            "colorbar": {
             "outlinewidth": 0,
             "ticks": ""
            },
            "type": "choropleth"
           }
          ],
          "contour": [
           {
            "colorbar": {
             "outlinewidth": 0,
             "ticks": ""
            },
            "colorscale": [
             [
              0,
              "#0d0887"
             ],
             [
              0.1111111111111111,
              "#46039f"
             ],
             [
              0.2222222222222222,
              "#7201a8"
             ],
             [
              0.3333333333333333,
              "#9c179e"
             ],
             [
              0.4444444444444444,
              "#bd3786"
             ],
             [
              0.5555555555555556,
              "#d8576b"
             ],
             [
              0.6666666666666666,
              "#ed7953"
             ],
             [
              0.7777777777777778,
              "#fb9f3a"
             ],
             [
              0.8888888888888888,
              "#fdca26"
             ],
             [
              1,
              "#f0f921"
             ]
            ],
            "type": "contour"
           }
          ],
          "contourcarpet": [
           {
            "colorbar": {
             "outlinewidth": 0,
             "ticks": ""
            },
            "type": "contourcarpet"
           }
          ],
          "heatmap": [
           {
            "colorbar": {
             "outlinewidth": 0,
             "ticks": ""
            },
            "colorscale": [
             [
              0,
              "#0d0887"
             ],
             [
              0.1111111111111111,
              "#46039f"
             ],
             [
              0.2222222222222222,
              "#7201a8"
             ],
             [
              0.3333333333333333,
              "#9c179e"
             ],
             [
              0.4444444444444444,
              "#bd3786"
             ],
             [
              0.5555555555555556,
              "#d8576b"
             ],
             [
              0.6666666666666666,
              "#ed7953"
             ],
             [
              0.7777777777777778,
              "#fb9f3a"
             ],
             [
              0.8888888888888888,
              "#fdca26"
             ],
             [
              1,
              "#f0f921"
             ]
            ],
            "type": "heatmap"
           }
          ],
          "heatmapgl": [
           {
            "colorbar": {
             "outlinewidth": 0,
             "ticks": ""
            },
            "colorscale": [
             [
              0,
              "#0d0887"
             ],
             [
              0.1111111111111111,
              "#46039f"
             ],
             [
              0.2222222222222222,
              "#7201a8"
             ],
             [
              0.3333333333333333,
              "#9c179e"
             ],
             [
              0.4444444444444444,
              "#bd3786"
             ],
             [
              0.5555555555555556,
              "#d8576b"
             ],
             [
              0.6666666666666666,
              "#ed7953"
             ],
             [
              0.7777777777777778,
              "#fb9f3a"
             ],
             [
              0.8888888888888888,
              "#fdca26"
             ],
             [
              1,
              "#f0f921"
             ]
            ],
            "type": "heatmapgl"
           }
          ],
          "histogram": [
           {
            "marker": {
             "pattern": {
              "fillmode": "overlay",
              "size": 10,
              "solidity": 0.2
             }
            },
            "type": "histogram"
           }
          ],
          "histogram2d": [
           {
            "colorbar": {
             "outlinewidth": 0,
             "ticks": ""
            },
            "colorscale": [
             [
              0,
              "#0d0887"
             ],
             [
              0.1111111111111111,
              "#46039f"
             ],
             [
              0.2222222222222222,
              "#7201a8"
             ],
             [
              0.3333333333333333,
              "#9c179e"
             ],
             [
              0.4444444444444444,
              "#bd3786"
             ],
             [
              0.5555555555555556,
              "#d8576b"
             ],
             [
              0.6666666666666666,
              "#ed7953"
             ],
             [
              0.7777777777777778,
              "#fb9f3a"
             ],
             [
              0.8888888888888888,
              "#fdca26"
             ],
             [
              1,
              "#f0f921"
             ]
            ],
            "type": "histogram2d"
           }
          ],
          "histogram2dcontour": [
           {
            "colorbar": {
             "outlinewidth": 0,
             "ticks": ""
            },
            "colorscale": [
             [
              0,
              "#0d0887"
             ],
             [
              0.1111111111111111,
              "#46039f"
             ],
             [
              0.2222222222222222,
              "#7201a8"
             ],
             [
              0.3333333333333333,
              "#9c179e"
             ],
             [
              0.4444444444444444,
              "#bd3786"
             ],
             [
              0.5555555555555556,
              "#d8576b"
             ],
             [
              0.6666666666666666,
              "#ed7953"
             ],
             [
              0.7777777777777778,
              "#fb9f3a"
             ],
             [
              0.8888888888888888,
              "#fdca26"
             ],
             [
              1,
              "#f0f921"
             ]
            ],
            "type": "histogram2dcontour"
           }
          ],
          "mesh3d": [
           {
            "colorbar": {
             "outlinewidth": 0,
             "ticks": ""
            },
            "type": "mesh3d"
           }
          ],
          "parcoords": [
           {
            "line": {
             "colorbar": {
              "outlinewidth": 0,
              "ticks": ""
             }
            },
            "type": "parcoords"
           }
          ],
          "pie": [
           {
            "automargin": true,
            "type": "pie"
           }
          ],
          "scatter": [
           {
            "fillpattern": {
             "fillmode": "overlay",
             "size": 10,
             "solidity": 0.2
            },
            "type": "scatter"
           }
          ],
          "scatter3d": [
           {
            "line": {
             "colorbar": {
              "outlinewidth": 0,
              "ticks": ""
             }
            },
            "marker": {
             "colorbar": {
              "outlinewidth": 0,
              "ticks": ""
             }
            },
            "type": "scatter3d"
           }
          ],
          "scattercarpet": [
           {
            "marker": {
             "colorbar": {
              "outlinewidth": 0,
              "ticks": ""
             }
            },
            "type": "scattercarpet"
           }
          ],
          "scattergeo": [
           {
            "marker": {
             "colorbar": {
              "outlinewidth": 0,
              "ticks": ""
             }
            },
            "type": "scattergeo"
           }
          ],
          "scattergl": [
           {
            "marker": {
             "colorbar": {
              "outlinewidth": 0,
              "ticks": ""
             }
            },
            "type": "scattergl"
           }
          ],
          "scattermapbox": [
           {
            "marker": {
             "colorbar": {
              "outlinewidth": 0,
              "ticks": ""
             }
            },
            "type": "scattermapbox"
           }
          ],
          "scatterpolar": [
           {
            "marker": {
             "colorbar": {
              "outlinewidth": 0,
              "ticks": ""
             }
            },
            "type": "scatterpolar"
           }
          ],
          "scatterpolargl": [
           {
            "marker": {
             "colorbar": {
              "outlinewidth": 0,
              "ticks": ""
             }
            },
            "type": "scatterpolargl"
           }
          ],
          "scatterternary": [
           {
            "marker": {
             "colorbar": {
              "outlinewidth": 0,
              "ticks": ""
             }
            },
            "type": "scatterternary"
           }
          ],
          "surface": [
           {
            "colorbar": {
             "outlinewidth": 0,
             "ticks": ""
            },
            "colorscale": [
             [
              0,
              "#0d0887"
             ],
             [
              0.1111111111111111,
              "#46039f"
             ],
             [
              0.2222222222222222,
              "#7201a8"
             ],
             [
              0.3333333333333333,
              "#9c179e"
             ],
             [
              0.4444444444444444,
              "#bd3786"
             ],
             [
              0.5555555555555556,
              "#d8576b"
             ],
             [
              0.6666666666666666,
              "#ed7953"
             ],
             [
              0.7777777777777778,
              "#fb9f3a"
             ],
             [
              0.8888888888888888,
              "#fdca26"
             ],
             [
              1,
              "#f0f921"
             ]
            ],
            "type": "surface"
           }
          ],
          "table": [
           {
            "cells": {
             "fill": {
              "color": "#EBF0F8"
             },
             "line": {
              "color": "white"
             }
            },
            "header": {
             "fill": {
              "color": "#C8D4E3"
             },
             "line": {
              "color": "white"
             }
            },
            "type": "table"
           }
          ]
         },
         "layout": {
          "annotationdefaults": {
           "arrowcolor": "#2a3f5f",
           "arrowhead": 0,
           "arrowwidth": 1
          },
          "autotypenumbers": "strict",
          "coloraxis": {
           "colorbar": {
            "outlinewidth": 0,
            "ticks": ""
           }
          },
          "colorscale": {
           "diverging": [
            [
             0,
             "#8e0152"
            ],
            [
             0.1,
             "#c51b7d"
            ],
            [
             0.2,
             "#de77ae"
            ],
            [
             0.3,
             "#f1b6da"
            ],
            [
             0.4,
             "#fde0ef"
            ],
            [
             0.5,
             "#f7f7f7"
            ],
            [
             0.6,
             "#e6f5d0"
            ],
            [
             0.7,
             "#b8e186"
            ],
            [
             0.8,
             "#7fbc41"
            ],
            [
             0.9,
             "#4d9221"
            ],
            [
             1,
             "#276419"
            ]
           ],
           "sequential": [
            [
             0,
             "#0d0887"
            ],
            [
             0.1111111111111111,
             "#46039f"
            ],
            [
             0.2222222222222222,
             "#7201a8"
            ],
            [
             0.3333333333333333,
             "#9c179e"
            ],
            [
             0.4444444444444444,
             "#bd3786"
            ],
            [
             0.5555555555555556,
             "#d8576b"
            ],
            [
             0.6666666666666666,
             "#ed7953"
            ],
            [
             0.7777777777777778,
             "#fb9f3a"
            ],
            [
             0.8888888888888888,
             "#fdca26"
            ],
            [
             1,
             "#f0f921"
            ]
           ],
           "sequentialminus": [
            [
             0,
             "#0d0887"
            ],
            [
             0.1111111111111111,
             "#46039f"
            ],
            [
             0.2222222222222222,
             "#7201a8"
            ],
            [
             0.3333333333333333,
             "#9c179e"
            ],
            [
             0.4444444444444444,
             "#bd3786"
            ],
            [
             0.5555555555555556,
             "#d8576b"
            ],
            [
             0.6666666666666666,
             "#ed7953"
            ],
            [
             0.7777777777777778,
             "#fb9f3a"
            ],
            [
             0.8888888888888888,
             "#fdca26"
            ],
            [
             1,
             "#f0f921"
            ]
           ]
          },
          "colorway": [
           "#636efa",
           "#EF553B",
           "#00cc96",
           "#ab63fa",
           "#FFA15A",
           "#19d3f3",
           "#FF6692",
           "#B6E880",
           "#FF97FF",
           "#FECB52"
          ],
          "font": {
           "color": "#2a3f5f"
          },
          "geo": {
           "bgcolor": "white",
           "lakecolor": "white",
           "landcolor": "#E5ECF6",
           "showlakes": true,
           "showland": true,
           "subunitcolor": "white"
          },
          "hoverlabel": {
           "align": "left"
          },
          "hovermode": "closest",
          "mapbox": {
           "style": "light"
          },
          "paper_bgcolor": "white",
          "plot_bgcolor": "#E5ECF6",
          "polar": {
           "angularaxis": {
            "gridcolor": "white",
            "linecolor": "white",
            "ticks": ""
           },
           "bgcolor": "#E5ECF6",
           "radialaxis": {
            "gridcolor": "white",
            "linecolor": "white",
            "ticks": ""
           }
          },
          "scene": {
           "xaxis": {
            "backgroundcolor": "#E5ECF6",
            "gridcolor": "white",
            "gridwidth": 2,
            "linecolor": "white",
            "showbackground": true,
            "ticks": "",
            "zerolinecolor": "white"
           },
           "yaxis": {
            "backgroundcolor": "#E5ECF6",
            "gridcolor": "white",
            "gridwidth": 2,
            "linecolor": "white",
            "showbackground": true,
            "ticks": "",
            "zerolinecolor": "white"
           },
           "zaxis": {
            "backgroundcolor": "#E5ECF6",
            "gridcolor": "white",
            "gridwidth": 2,
            "linecolor": "white",
            "showbackground": true,
            "ticks": "",
            "zerolinecolor": "white"
           }
          },
          "shapedefaults": {
           "line": {
            "color": "#2a3f5f"
           }
          },
          "ternary": {
           "aaxis": {
            "gridcolor": "white",
            "linecolor": "white",
            "ticks": ""
           },
           "baxis": {
            "gridcolor": "white",
            "linecolor": "white",
            "ticks": ""
           },
           "bgcolor": "#E5ECF6",
           "caxis": {
            "gridcolor": "white",
            "linecolor": "white",
            "ticks": ""
           }
          },
          "title": {
           "x": 0.05
          },
          "xaxis": {
           "automargin": true,
           "gridcolor": "white",
           "linecolor": "white",
           "ticks": "",
           "title": {
            "standoff": 15
           },
           "zerolinecolor": "white",
           "zerolinewidth": 2
          },
          "yaxis": {
           "automargin": true,
           "gridcolor": "white",
           "linecolor": "white",
           "ticks": "",
           "title": {
            "standoff": 15
           },
           "zerolinecolor": "white",
           "zerolinewidth": 2
          }
         }
        }
       }
      }
     },
     "metadata": {},
     "output_type": "display_data"
    }
   ],
   "source": [
    "fig = px.scatter_3d(\n",
    "    data_frame=df_tsne,\n",
    "    x=df_tsne.columns[0],\n",
    "    y=df_tsne.columns[1],\n",
    "    z=df_tsne.columns[2],\n",
    "    opacity=0.5,\n",
    ")\n",
    "fig.show()"
   ]
  },
  {
   "cell_type": "code",
   "execution_count": null,
   "metadata": {},
   "outputs": [
    {
     "data": {
      "text/plain": [
       "array([ 1,  1,  1,  1,  1,  1,  1,  1, -1,  1,  1,  1,  1, -1,  1,  1,  1,\n",
       "        1,  1,  1,  1,  1,  1,  1,  1,  1,  1,  1,  1,  1,  1,  1,  1,  1,\n",
       "        1, -1,  1,  1,  1,  1,  1,  1,  1,  1,  1,  1,  1,  1,  1, -1,  1,\n",
       "        1,  1,  1,  1, -1,  1,  1, -1,  1,  1,  1,  1,  1,  1,  1,  1,  1,\n",
       "        1,  1,  1,  1,  1,  1,  1,  1,  1,  1,  1,  1,  1,  1,  1, -1,  1,\n",
       "        1, -1,  1, -1,  1,  1,  1, -1, -1,  1,  1,  1,  1,  1,  1,  1,  1,\n",
       "        1,  1,  1,  1,  1,  1,  1,  1,  1,  1,  1,  1,  1,  1, -1,  1,  1,\n",
       "        1,  1,  1,  1,  1,  1,  1,  1,  1,  1,  1,  1,  1,  1,  1,  1,  1,\n",
       "        1,  1,  1,  1,  1,  1,  1,  1,  1,  1,  1,  1, -1,  1,  1,  1,  1,\n",
       "        1,  1,  1,  1,  1,  1,  1,  1,  1, -1,  1,  1,  1,  1,  1,  1,  1,\n",
       "        1,  1,  1,  1,  1,  1, -1,  1,  1,  1, -1,  1,  1,  1, -1,  1,  1,\n",
       "       -1,  1, -1,  1,  1,  1,  1, -1,  1,  1,  1,  1,  1,  1,  1,  1,  1,\n",
       "        1,  1,  1,  1,  1,  1,  1,  1,  1,  1,  1,  1,  1,  1,  1,  1,  1,\n",
       "        1,  1,  1,  1,  1,  1,  1, -1,  1,  1, -1, -1,  1,  1,  1,  1,  1,\n",
       "        1,  1,  1,  1,  1,  1,  1,  1,  1,  1,  1, -1,  1, -1,  1,  1,  1,\n",
       "       -1,  1,  1,  1,  1,  1,  1,  1,  1,  1,  1,  1,  1,  1,  1,  1,  1,\n",
       "        1,  1,  1,  1,  1,  1,  1,  1,  1,  1, -1, -1,  1,  1,  1,  1,  1,\n",
       "        1,  1,  1,  1,  1,  1,  1, -1,  1,  1,  1,  1,  1,  1,  1,  1,  1,\n",
       "        1, -1,  1,  1,  1,  1,  1,  1,  1,  1,  1,  1,  1,  1, -1,  1,  1,\n",
       "        1,  1,  1,  1,  1,  1,  1,  1,  1,  1,  1, -1,  1, -1,  1,  1,  1,\n",
       "        1,  1,  1,  1, -1,  1,  1, -1,  1,  1,  1,  1,  1,  1,  1,  1,  1,\n",
       "        1,  1, -1, -1,  1,  1,  1,  1,  1,  1,  1,  1,  1,  1,  1,  1,  1,\n",
       "        1,  1,  1,  1,  1,  1,  1,  1, -1,  1, -1,  1,  1,  1,  1,  1,  1,\n",
       "        1,  1,  1, -1,  1, -1,  1,  1,  1,  1,  1,  1,  1,  1,  1,  1, -1,\n",
       "        1,  1,  1,  1,  1,  1])"
      ]
     },
     "execution_count": 137,
     "metadata": {},
     "output_type": "execute_result"
    }
   ],
   "source": [
    "scaler = RobustScaler()\n",
    "isf = IsolationForest(contamination=0.1, random_state=42)\n",
    "outliers = isf.fit_predict(scaler.fit_transform(df.drop(columns=metadata['tgt'])))\n",
    "outliers"
   ]
  },
  {
   "cell_type": "code",
   "execution_count": null,
   "metadata": {},
   "outputs": [
    {
     "data": {
      "application/vnd.plotly.v1+json": {
       "config": {
        "plotlyServerURL": "https://plot.ly"
       },
       "data": [
        {
         "hovertemplate": "outliers=1<br>tsne0=%{x}<br>tsne1=%{y}<br>tsne2=%{z}<extra></extra>",
         "legendgroup": "1",
         "marker": {
          "color": "grey",
          "symbol": "circle"
         },
         "mode": "markers",
         "name": "1",
         "scene": "scene",
         "showlegend": true,
         "type": "scatter3d",
         "x": [
          -15.20716381072998,
          -5.875857830047607,
          0.549058735370636,
          0.4981901943683624,
          -4.131585121154785,
          13.62447452545166,
          2.260415554046631,
          -6.527233123779297,
          10.43234920501709,
          -3.3934552669525146,
          -16.0222225189209,
          -1.7615324258804321,
          6.345391750335693,
          1.3270663022994995,
          -5.451855182647705,
          -4.762646675109863,
          -4.390988826751709,
          -16.104026794433594,
          14.324835777282715,
          -6.583410739898682,
          7.588865280151367,
          -6.781773567199707,
          -1.3473402261734009,
          8.351849555969238,
          -4.909250259399414,
          -7.391281604766846,
          0.5198917984962463,
          -3.1819162368774414,
          18.574634552001953,
          4.099164009094238,
          -1.102774739265442,
          -5.183869361877441,
          -13.465804100036621,
          11.494302749633789,
          7.60504674911499,
          0.7730793356895447,
          -6.558660507202148,
          17.698036193847656,
          18.293031692504883,
          -0.3572245240211487,
          -0.5393322706222534,
          -0.33278289437294006,
          -1.1489722728729248,
          -2.381495714187622,
          2.633808135986328,
          18.750417709350586,
          -0.8553280234336853,
          10.150534629821777,
          8.177427291870117,
          -1.7455261945724487,
          -6.202599048614502,
          -4.0947113037109375,
          -16.08547592163086,
          -5.014627456665039,
          11.464089393615723,
          -6.778998374938965,
          13.762984275817871,
          -0.3385395407676697,
          5.5117058753967285,
          -14.884507179260254,
          -13.757208824157715,
          -15.921642303466797,
          -2.1142218112945557,
          0.5680893063545227,
          -16.146310806274414,
          2.5364246368408203,
          -3.0230085849761963,
          17.83642578125,
          -4.924611568450928,
          7.30435848236084,
          2.145380735397339,
          13.58659839630127,
          0.7978472113609314,
          8.064384460449219,
          -0.18822632730007172,
          -3.928335428237915,
          -14.504799842834473,
          -4.259969711303711,
          -5.162794589996338,
          18.307722091674805,
          17.710372924804688,
          -7.071845531463623,
          7.766524314880371,
          -14.003495216369629,
          -15.711749076843262,
          -16.173900604248047,
          2.0128355026245117,
          -6.241821765899658,
          -16.26734161376953,
          5.335484981536865,
          -13.98267650604248,
          -13.873550415039062,
          -13.344646453857422,
          -3.465413808822632,
          -5.437222003936768,
          -13.672157287597656,
          7.404837608337402,
          1.6061369180679321,
          13.099082946777344,
          -15.701737403869629,
          -13.346353530883789,
          12.892427444458008,
          -2.713460922241211,
          -14.613198280334473,
          3.8311588764190674,
          18.349720001220703,
          9.021271705627441,
          -5.814709186553955,
          -1.6403260231018066,
          -1.8763595819473267,
          -3.1707823276519775,
          -13.87026596069336,
          -6.303982257843018,
          -13.67265796661377,
          4.340091705322266,
          -4.859312057495117,
          -14.893532752990723,
          -13.024271011352539,
          0.06651291996240616,
          13.426844596862793,
          -1.685630202293396,
          -4.230358123779297,
          -13.591809272766113,
          5.58548641204834,
          -4.3627777099609375,
          -5.313660144805908,
          5.212517261505127,
          -1.807212471961975,
          -6.220137119293213,
          8.833086967468262,
          2.449399471282959,
          -1.752252221107483,
          7.535126686096191,
          -3.1054131984710693,
          -14.064278602600098,
          -2.133946180343628,
          -13.746048927307129,
          -14.01435661315918,
          -4.212862014770508,
          7.515543460845947,
          -4.293287754058838,
          18.0795841217041,
          17.84812355041504,
          6.872313976287842,
          4.406851768493652,
          -3.9059195518493652,
          4.406290531158447,
          -16.118764877319336,
          1.8934434652328491,
          -15.872552871704102,
          -14.138821601867676,
          6.703625679016113,
          -5.397939205169678,
          -4.932013988494873,
          -0.6132304668426514,
          11.725042343139648,
          18.574953079223633,
          -5.032923698425293,
          -16.109399795532227,
          -3.3648695945739746,
          -3.3527376651763916,
          -1.8759264945983887,
          -13.73172378540039,
          6.216790676116943,
          -3.103161334991455,
          -13.600370407104492,
          13.200104713439941,
          17.82900047302246,
          8.229776382446289,
          13.488838195800781,
          -13.550741195678711,
          2.14290452003479,
          3.940908670425415,
          -15.418078422546387,
          -3.4863407611846924,
          -2.5615477561950684,
          3.520904064178467,
          -14.894244194030762,
          -14.214905738830566,
          -2.6603541374206543,
          5.51161003112793,
          0.5541788935661316,
          2.5722391605377197,
          -6.575826644897461,
          7.83908224105835,
          7.976361274719238,
          -4.242740154266357,
          2.8692080974578857,
          7.396692752838135,
          -13.847994804382324,
          -4.670477867126465,
          -7.139203071594238,
          10.594466209411621,
          -16.015064239501953,
          10.42992115020752,
          -4.471337795257568,
          1.6415951251983643,
          -4.1310296058654785,
          -1.8050755262374878,
          -0.14418929815292358,
          -14.257713317871094,
          7.499877452850342,
          -3.0075368881225586,
          7.488606929779053,
          -4.923145771026611,
          -13.688867568969727,
          17.74217414855957,
          -7.392174243927002,
          6.294054985046387,
          13.092211723327637,
          -4.776081085205078,
          14.05246353149414,
          -7.590740203857422,
          -5.232006072998047,
          3.7888879776000977,
          3.7885873317718506,
          4.564794063568115,
          9.921100616455078,
          -7.571313858032227,
          12.72290325164795,
          -13.307400703430176,
          8.833765029907227,
          2.351245164871216,
          -3.9726433753967285,
          5.808680057525635,
          5.58493185043335,
          -2.9543027877807617,
          -15.68145751953125,
          10.028424263000488,
          -5.233246326446533,
          -4.847750186920166,
          -2.964698076248169,
          -5.597645282745361,
          4.565090656280518,
          8.315202713012695,
          14.3236665725708,
          -6.123475074768066,
          13.373845100402832,
          -1.1012160778045654,
          4.406108856201172,
          10.433821678161621,
          -1.4158060550689697,
          -3.9288971424102783,
          4.567676067352295,
          -5.724925518035889,
          -2.6340503692626953,
          -1.7776376008987427,
          -13.930066108703613,
          -3.773162603378296,
          -16.108556747436523,
          -2.4701790809631348,
          13.429535865783691,
          -13.313610076904297,
          8.790661811828613,
          -13.888477325439453,
          -4.219196319580078,
          -3.7327420711517334,
          3.626309633255005,
          -15.878325462341309,
          -2.464055299758911,
          -5.179413795471191,
          -6.670676231384277,
          -1.055465579032898,
          -16.095762252807617,
          -3.1283233165740967,
          -4.173570156097412,
          -4.869915008544922,
          13.633245468139648,
          1.1713353395462036,
          17.67622947692871,
          -14.966177940368652,
          -14.337428092956543,
          -1.966392159461975,
          14.3069486618042,
          -2.6567742824554443,
          9.346864700317383,
          -6.011646270751953,
          -14.2670316696167,
          -6.114022254943848,
          6.8725152015686035,
          9.47008228302002,
          0.03583657369017601,
          -4.789360046386719,
          -15.367189407348633,
          0.8106403946876526,
          10.30078125,
          -7.562686443328857,
          3.9622199535369873,
          -4.689116477966309,
          -7.468486785888672,
          5.335628986358643,
          -13.454113006591797,
          -13.380437850952148,
          9.919774055480957,
          -1.148566722869873,
          -16.168628692626953,
          4.003206253051758,
          8.399595260620117,
          18.57583999633789,
          6.296719074249268,
          18.569509506225586,
          2.2398264408111572,
          -15.264451026916504,
          -4.836532115936279,
          1.7722810506820679,
          -7.549252510070801,
          -5.225483417510986,
          -7.195648193359375,
          3.94132137298584,
          -15.722222328186035,
          0.9332976937294006,
          -13.686970710754395,
          9.91956901550293,
          -7.103631973266602,
          -15.499567031860352,
          -1.7953770160675049,
          13.54829216003418,
          15.43476676940918,
          13.22222900390625,
          7.31392765045166,
          -5.097428321838379,
          -13.223605155944824,
          -5.132291793823242,
          -13.551591873168945,
          -6.151454448699951,
          5.349822998046875,
          -15.11983585357666,
          2.0956873893737793,
          14.157699584960938,
          10.566853523254395,
          10.748102188110352,
          -4.777576446533203,
          13.452797889709473,
          -6.758548259735107,
          -5.47838020324707,
          -14.22679615020752,
          -6.808461666107178,
          -4.528716087341309,
          6.303597927093506,
          9.952147483825684,
          -16.107379913330078,
          1.580301284790039,
          -5.45871639251709,
          -6.1722025871276855,
          -15.03553295135498,
          -0.8598724007606506,
          -15.522185325622559,
          -14.141033172607422,
          12.898290634155273,
          13.9586181640625,
          -14.934746742248535,
          -3.952559471130371,
          11.533191680908203,
          -2.49639892578125,
          5.349721908569336,
          -0.8565745949745178,
          6.345745086669922,
          9.950814247131348,
          -14.043713569641113,
          -1.674055576324463,
          13.694701194763184,
          -13.375921249389648,
          -14.146000862121582,
          -6.788970470428467,
          -14.878396987915039,
          -4.423691272735596,
          13.700531959533691,
          17.6918888092041,
          -15.598349571228027,
          -3.941936731338501,
          -15.749135971069336,
          -16.307748794555664
         ],
         "y": [
          -1.067467451095581,
          5.1901679039001465,
          -4.251363277435303,
          -4.296606063842773,
          5.104576110839844,
          2.683898687362671,
          -5.204319000244141,
          4.934046268463135,
          1.241034984588623,
          2.988307476043701,
          -2.061777114868164,
          -1.5308648347854614,
          -3.5303385257720947,
          -4.4547224044799805,
          6.312567710876465,
          5.0198564529418945,
          4.807934284210205,
          -1.2423124313354492,
          3.108391284942627,
          5.590563774108887,
          -2.0253708362579346,
          5.556935787200928,
          -0.4711284935474396,
          -0.9027260541915894,
          5.508626937866211,
          5.3259429931640625,
          -4.061007022857666,
          1.094469428062439,
          1.1467512845993042,
          -5.424468517303467,
          -0.8140307664871216,
          5.267477035522461,
          -1.7594588994979858,
          1.955621600151062,
          -2.0747551918029785,
          -4.729334354400635,
          5.2253499031066895,
          1.858383059501648,
          1.720682144165039,
          -2.4075887203216553,
          -2.1275475025177,
          -3.6804370880126953,
          -0.8807052969932556,
          0.27058595418930054,
          -5.389105796813965,
          1.366021990776062,
          -2.368647575378418,
          1.2143696546554565,
          -1.4999721050262451,
          -1.5162913799285889,
          5.286449909210205,
          4.031224727630615,
          -1.4586716890335083,
          5.284458637237549,
          1.9364640712738037,
          5.862228870391846,
          2.8548953533172607,
          -3.6916160583496094,
          -4.4908833503723145,
          -1.3706189393997192,
          -2.5632097721099854,
          -1.9221928119659424,
          0.23649989068508148,
          -4.238189697265625,
          -1.700154423713684,
          -5.303431510925293,
          2.1224148273468018,
          1.3983638286590576,
          5.386361598968506,
          -1.9469956159591675,
          -5.0823235511779785,
          3.485154151916504,
          -3.556797504425049,
          -1.6675148010253906,
          -3.3877298831939697,
          3.9389748573303223,
          -2.0966761112213135,
          4.675472259521484,
          5.7712602615356445,
          1.7603087425231934,
          1.9918479919433594,
          5.921328544616699,
          -1.7749229669570923,
          -1.1550003290176392,
          -2.0316174030303955,
          -1.7290189266204834,
          -5.195304870605469,
          5.240787506103516,
          -1.8856022357940674,
          -4.65518045425415,
          -2.4332635402679443,
          -2.5219767093658447,
          -2.4065189361572266,
          3.493720054626465,
          6.324814796447754,
          -1.8632231950759888,
          -1.880747675895691,
          -4.755505561828613,
          3.0548672676086426,
          -2.022106885910034,
          -1.1037814617156982,
          2.7908778190612793,
          4.21611213684082,
          -1.5302095413208008,
          -5.481557846069336,
          1.3175618648529053,
          -0.10733657330274582,
          5.397673606872559,
          -1.3669418096542358,
          -1.6908879280090332,
          2.5771474838256836,
          -2.813286781311035,
          5.720269680023193,
          -2.586817979812622,
          -5.352351188659668,
          5.46425199508667,
          -1.2259713411331177,
          -0.8582013845443726,
          -3.117116689682007,
          2.731581926345825,
          -0.7346552610397339,
          4.665318965911865,
          -1.1585190296173096,
          -4.414434432983398,
          4.736368179321289,
          5.358209133148193,
          -4.7544331550598145,
          -1.5924872159957886,
          5.270694255828857,
          -0.31051531434059143,
          -5.376002311706543,
          -1.5336941480636597,
          -2.1240193843841553,
          1.023262858390808,
          -2.7726521492004395,
          -1.608720064163208,
          -1.1831778287887573,
          -1.1748591661453247,
          5.2631635665893555,
          -2.1202118396759033,
          5.31502628326416,
          1.4691277742385864,
          2.098371744155884,
          -2.8066823482513428,
          -5.286704063415527,
          4.672580718994141,
          -5.287189483642578,
          -1.400028944015503,
          -5.275841236114502,
          -1.9283146858215332,
          -2.755521059036255,
          -3.0450363159179688,
          6.355860233306885,
          4.837456226348877,
          -2.3524065017700195,
          2.0974133014678955,
          1.1553339958190918,
          5.501693248748779,
          -1.6813209056854248,
          3.0049996376037598,
          1.6767772436141968,
          -0.153034970164299,
          -1.2006818056106567,
          -3.6992015838623047,
          1.4317761659622192,
          -1.941562533378601,
          3.2622933387756348,
          1.4021211862564087,
          -1.3232684135437012,
          3.4861106872558594,
          -1.0714980363845825,
          -5.137069225311279,
          -5.466338634490967,
          -0.8320016860961914,
          2.0658421516418457,
          0.44871047139167786,
          -5.480560779571533,
          -1.4479727745056152,
          -1.424850583076477,
          0.8163792490959167,
          -4.491146087646484,
          -4.247596263885498,
          -5.286468982696533,
          5.284982204437256,
          -1.3898520469665527,
          -1.0793229341506958,
          4.351762294769287,
          -5.385198593139648,
          -1.8773775100708008,
          -1.2170994281768799,
          5.171755313873291,
          5.897242546081543,
          1.3556983470916748,
          -2.069166660308838,
          1.2445542812347412,
          4.450646877288818,
          -4.678440570831299,
          4.196702003479004,
          -1.6045018434524536,
          -2.924800395965576,
          -0.6342407464981079,
          -1.4047967195510864,
          1.8420653343200684,
          -1.4984172582626343,
          4.701615810394287,
          -2.581514596939087,
          1.9593480825424194,
          4.489445209503174,
          -3.5986216068267822,
          3.251164197921753,
          4.507297515869141,
          3.099195718765259,
          5.136721134185791,
          5.705856800079346,
          -5.490149974822998,
          -5.490534782409668,
          -5.195058345794678,
          0.7999870777130127,
          5.144409656524658,
          2.6811885833740234,
          -1.0564967393875122,
          -0.31064537167549133,
          -5.481958866119385,
          4.409644603729248,
          -4.172584533691406,
          -4.41483211517334,
          2.1502506732940674,
          -1.9959285259246826,
          1.0165034532546997,
          5.729979038238525,
          5.042997360229492,
          1.2395601272583008,
          6.218049049377441,
          -5.194892406463623,
          -0.9148916602134705,
          3.33231520652771,
          5.3206353187561035,
          2.998239040374756,
          -1.2188339233398438,
          -5.287389755249023,
          1.2387022972106934,
          -0.6252319812774658,
          4.338923454284668,
          -5.193935871124268,
          6.434139251708984,
          0.7920563817024231,
          -1.5535352230072021,
          -2.4470534324645996,
          3.6974546909332275,
          -1.2469065189361572,
          0.4295782446861267,
          3.32110333442688,
          -2.4177405834198,
          -0.35705724358558655,
          -2.6864607334136963,
          5.275918960571289,
          4.617463111877441,
          -5.492177486419678,
          -2.0800282955169678,
          0.4279050827026367,
          5.2742085456848145,
          5.3773674964904785,
          -0.9228951334953308,
          -1.4648958444595337,
          4.09525728225708,
          4.845236778259277,
          4.850630283355713,
          3.375906467437744,
          -4.033522605895996,
          1.6329904794692993,
          -1.469273328781128,
          -2.5755503177642822,
          0.3680213391780853,
          3.3515303134918213,
          1.5004979372024536,
          0.2418115884065628,
          5.321518421173096,
          -2.2948124408721924,
          5.264652729034424,
          -2.806307554244995,
          0.36622780561447144,
          -3.3861453533172607,
          4.771917819976807,
          -2.087583303451538,
          -4.722223281860352,
          1.0084881782531738,
          5.161551475524902,
          -5.46035099029541,
          5.314663410186768,
          4.333314895629883,
          -4.655020713806152,
          -2.382503032684326,
          -1.25584876537323,
          0.8011994361877441,
          -0.8795113563537598,
          -1.499382734298706,
          -5.459658145904541,
          -0.8074958324432373,
          1.9055330753326416,
          -3.5960371494293213,
          1.1480497121810913,
          -5.059930801391602,
          -2.1518712043762207,
          4.816743850708008,
          -4.923130989074707,
          4.559308052062988,
          5.70368766784668,
          4.402814865112305,
          -5.46640682220459,
          -2.0266637802124023,
          -4.0445451736450195,
          -2.848515272140503,
          0.8016577959060669,
          5.67947244644165,
          -2.0897789001464844,
          -1.5828354358673096,
          2.80116605758667,
          3.0266661643981934,
          2.761496067047119,
          -1.968667984008789,
          5.531795024871826,
          -1.996601939201355,
          5.712425231933594,
          -2.6246755123138428,
          4.201723575592041,
          -4.643812656402588,
          -1.398313283920288,
          -5.074442386627197,
          3.4445974826812744,
          1.3344228267669678,
          1.465814232826233,
          5.050776481628418,
          3.1252553462982178,
          5.179819107055664,
          5.638389587402344,
          -1.42086660861969,
          6.007329940795898,
          5.119465351104736,
          -3.5850942134857178,
          0.8291988372802734,
          -1.391062617301941,
          -4.6136794090271,
          6.307054042816162,
          5.53535795211792,
          -2.1439192295074463,
          -1.9124996662139893,
          -1.3833116292953491,
          -2.754960775375366,
          2.8015542030334473,
          3.3298537731170654,
          -1.1437921524047852,
          3.890056610107422,
          1.9792163372039795,
          1.3428101539611816,
          -4.643978595733643,
          -2.360581159591675,
          -3.530156135559082,
          0.8320658206939697,
          -2.405012369155884,
          -0.7127634882926941,
          2.6894326210021973,
          -2.4392004013061523,
          -1.4795417785644531,
          5.134020805358887,
          -1.7880257368087769,
          5.551825523376465,
          3.16133975982666,
          1.566939115524292,
          -1.981763482093811,
          4.243696212768555,
          -2.005260467529297,
          -1.9371494054794312
         ],
         "z": [
          2.834752321243286,
          -3.0040717124938965,
          4.745826721191406,
          4.771581649780273,
          2.9914910793304443,
          -2.6757149696350098,
          3.8257269859313965,
          -4.260903358459473,
          -3.6929125785827637,
          3.0321836471557617,
          2.841421365737915,
          5.472509384155273,
          -1.6371906995773315,
          4.4645490646362305,
          -4.626925945281982,
          -0.5082153677940369,
          1.3058909177780151,
          4.384984970092773,
          -2.5392820835113525,
          -4.829794883728027,
          -2.7225425243377686,
          -4.745833396911621,
          4.6315999031066895,
          -3.3636767864227295,
          2.811465263366699,
          -4.7131028175354,
          4.767940521240234,
          5.015480995178223,
          2.661835193634033,
          1.6462769508361816,
          4.700510025024414,
          -1.9486536979675293,
          -3.5638999938964844,
          -3.4598519802093506,
          -2.7844619750976562,
          4.58202600479126,
          -4.075212001800537,
          2.075653314590454,
          1.4535951614379883,
          4.9249138832092285,
          4.928430080413818,
          5.124617576599121,
          4.744630813598633,
          4.840931415557861,
          3.5906076431274414,
          2.9276812076568604,
          5.161716938018799,
          -3.6851072311401367,
          -3.291454553604126,
          5.470348834991455,
          -4.233736515045166,
          1.2401139736175537,
          3.9235363006591797,
          -1.2697781324386597,
          -3.4681668281555176,
          -5.8401570320129395,
          -3.066415786743164,
          5.128664493560791,
          -0.46990570425987244,
          0.8649563193321228,
          -3.3905067443847656,
          2.0576419830322266,
          4.638698101043701,
          4.735089302062988,
          2.7125794887542725,
          3.5255026817321777,
          3.6805782318115234,
          1.7799811363220215,
          2.425097703933716,
          -2.937025785446167,
          3.940908670425415,
          -2.8916728496551514,
          4.666623592376709,
          -3.0427603721618652,
          5.02529239654541,
          1.6048355102539062,
          -0.6255099177360535,
          2.2971560955047607,
          -1.286940097808838,
          1.4585233926773071,
          1.4079103469848633,
          -5.07631254196167,
          -3.3537824153900146,
          -1.3280667066574097,
          2.0851099491119385,
          2.7176506519317627,
          3.8218653202056885,
          -4.215334415435791,
          2.757000207901001,
          -0.2070562094449997,
          -1.684069275856018,
          -3.4783334732055664,
          -3.781301259994507,
          2.474015474319458,
          -4.641963481903076,
          -2.830759286880493,
          -2.712156295776367,
          4.25997257232666,
          -2.591749906539917,
          2.083852529525757,
          -2.6196155548095703,
          -3.059688091278076,
          2.700394630432129,
          -0.01295942347496748,
          2.007802724838257,
          1.9077973365783691,
          -3.5604896545410156,
          -4.458459854125977,
          5.648411273956299,
          5.339853763580322,
          3.3619608879089355,
          -2.8734097480773926,
          -4.944692611694336,
          -3.3271191120147705,
          1.3075615167617798,
          2.7804296016693115,
          0.8667654395103455,
          -3.1679601669311523,
          4.8810200691223145,
          -3.0993199348449707,
          4.987735271453857,
          1.5677249431610107,
          -2.2460782527923584,
          -0.578432023525238,
          2.920474052429199,
          -2.13175892829895,
          -0.02075154520571232,
          5.428055286407471,
          -4.22468900680542,
          -3.5173983573913574,
          3.448249340057373,
          5.438767433166504,
          -2.9495091438293457,
          4.98720645904541,
          -3.076648235321045,
          5.666264057159424,
          -1.8645610809326172,
          -1.5311393737792969,
          2.7883217334747314,
          -2.9668843746185303,
          1.9926573038101196,
          1.5131109952926636,
          2.0611486434936523,
          -2.2449216842651367,
          1.1967172622680664,
          2.8156542778015137,
          1.197632074356079,
          4.067986965179443,
          3.793835163116455,
          2.0577809810638428,
          -3.1660256385803223,
          -2.056736946105957,
          -4.68676233291626,
          -1.583174705505371,
          5.035301685333252,
          -3.3954758644104004,
          2.6947970390319824,
          2.8382201194763184,
          2.710043430328369,
          2.8881194591522217,
          4.672996520996094,
          4.754589080810547,
          -1.9827817678451538,
          -1.4671930074691772,
          4.585054397583008,
          -3.568117380142212,
          -3.068474292755127,
          1.7874606847763062,
          -3.0900216102600098,
          -2.6940765380859375,
          -2.389235258102417,
          3.967297077178955,
          1.8593261241912842,
          3.6454718112945557,
          4.455012321472168,
          4.864112854003906,
          2.3748724460601807,
          0.7967897057533264,
          -0.9238097071647644,
          4.646670818328857,
          -0.4698820114135742,
          4.741777420043945,
          3.492926836013794,
          -4.066886901855469,
          -2.8393936157226562,
          -3.0895462036132812,
          1.8622926473617554,
          3.1345138549804688,
          -2.7165868282318115,
          -1.7061532735824585,
          3.087634801864624,
          -5.0506367683410645,
          -3.660313606262207,
          2.844860076904297,
          -3.695477247238159,
          2.275099277496338,
          4.290682315826416,
          1.3647221326828003,
          5.386178970336914,
          4.93988037109375,
          -2.8090951442718506,
          -3.033681631088257,
          3.9938666820526123,
          -3.2401208877563477,
          -1.8341642618179321,
          -3.339193820953369,
          2.0857043266296387,
          -5.325389385223389,
          -1.567752480506897,
          -2.792576313018799,
          -1.349953532218933,
          -2.922389507293701,
          -5.869714736938477,
          2.453372001647949,
          2.0528292655944824,
          2.0535058975219727,
          0.9604532718658447,
          -3.702880620956421,
          -5.8729963302612305,
          -3.1000168323516846,
          -2.999457359313965,
          -3.517247438430786,
          3.385181427001953,
          2.6622555255889893,
          -0.8986239433288574,
          -0.5775060653686523,
          3.5479543209075928,
          2.8735404014587402,
          -3.7772598266601562,
          -1.6289446353912354,
          -0.8998970985412598,
          4.604066371917725,
          -4.507223606109619,
          0.959947943687439,
          -3.3678369522094727,
          -2.433997392654419,
          -4.28137731552124,
          -3.233015298843384,
          4.865591526031494,
          1.197941541671753,
          -3.6914539337158203,
          4.754859447479248,
          2.6847755908966064,
          0.9561430215835571,
          -5.916081428527832,
          4.633822441101074,
          5.452139854431152,
          -1.6413171291351318,
          2.598630666732788,
          4.3825554847717285,
          4.793509006500244,
          -2.464181661605835,
          -3.767587900161743,
          -3.5074613094329834,
          -2.8114616870880127,
          2.792362928390503,
          2.2333779335021973,
          2.25907564163208,
          2.874096393585205,
          4.788376808166504,
          -1.979752540588379,
          -4.052087783813477,
          4.716844081878662,
          3.923098564147949,
          2.756176471710205,
          2.3319385051727295,
          -1.2688555717468262,
          -3.0636868476867676,
          4.5347676277160645,
          1.9977198839187622,
          0.9914196133613586,
          -1.1813942193984985,
          4.391243934631348,
          -2.4117825031280518,
          3.9174110889434814,
          -3.628197193145752,
          -4.352408409118652,
          -1.8519492149353027,
          -4.293086051940918,
          -2.245211124420166,
          -3.6509835720062256,
          4.924936294555664,
          -2.837383508682251,
          2.142890453338623,
          4.56386137008667,
          -3.8085031509399414,
          -5.877601623535156,
          1.8299483060836792,
          2.313861131668091,
          -5.087533473968506,
          -0.20727939903736115,
          -2.369264602661133,
          -2.758509635925293,
          -3.70346736907959,
          4.744626522064209,
          3.9200522899627686,
          1.7759467363357544,
          -3.3879292011260986,
          2.0032236576080322,
          -1.5722891092300415,
          2.666940212249756,
          3.9615581035614014,
          2.1631662845611572,
          -1.1765815019607544,
          4.1479291915893555,
          -5.515199661254883,
          -1.6167304515838623,
          -5.106690406799316,
          1.858778953552246,
          2.87934947013855,
          4.632841110229492,
          -2.6627931594848633,
          -3.7033655643463135,
          -5.752782344818115,
          2.1324803829193115,
          5.419654369354248,
          -2.4745051860809326,
          -1.3189942836761475,
          -2.631373167037964,
          -2.9614148139953613,
          2.855839490890503,
          -3.7196710109710693,
          -1.2213208675384521,
          -3.2253477573394775,
          -4.812804698944092,
          -0.22809137403964996,
          1.4973971843719482,
          3.98919415473938,
          -2.554738759994507,
          -3.664182186126709,
          -3.633502960205078,
          -0.5145227313041687,
          -2.3800718784332275,
          -4.0303425788879395,
          -2.516652822494507,
          -0.9148570895195007,
          -5.173337936401367,
          3.0646913051605225,
          -1.5796160697937012,
          -3.703510046005249,
          4.0661821365356445,
          4.323658466339111,
          -4.620327949523926,
          -4.246185302734375,
          0.6473422646522522,
          5.019726753234863,
          2.9719905853271484,
          -3.1689066886901855,
          -3.060427188873291,
          -2.303469181060791,
          0.9598769545555115,
          1.568057656288147,
          -3.4493422508239746,
          3.89567494392395,
          -0.22794850170612335,
          5.163871765136719,
          -1.6369926929473877,
          -3.7030279636383057,
          -1.7276772260665894,
          4.981658935546875,
          -2.8262851238250732,
          -2.2670297622680664,
          -1.1240819692611694,
          -4.026530742645264,
          0.5774937868118286,
          1.8517347574234009,
          -3.1658902168273926,
          1.9586102962493896,
          2.867781400680542,
          2.651252269744873,
          2.075359582901001,
          2.7724318504333496
         ]
        },
        {
         "hovertemplate": "outliers=-1<br>tsne0=%{x}<br>tsne1=%{y}<br>tsne2=%{z}<extra></extra>",
         "legendgroup": "-1",
         "marker": {
          "color": "red",
          "symbol": "circle"
         },
         "mode": "markers",
         "name": "-1",
         "scene": "scene",
         "showlegend": true,
         "type": "scatter3d",
         "x": [
          19.870223999023438,
          15.018767356872559,
          18.360219955444336,
          18.76718521118164,
          6.321039199829102,
          18.767385482788086,
          15.495217323303223,
          7.99543571472168,
          7.6766581535339355,
          15.018842697143555,
          6.231038570404053,
          20.095478057861328,
          17.502777099609375,
          18.1214656829834,
          18.743825912475586,
          18.29891586303711,
          15.326708793640137,
          16.071596145629883,
          18.05668067932129,
          17.491525650024414,
          16.192867279052734,
          17.981464385986328,
          18.353715896606445,
          20.084938049316406,
          6.3135223388671875,
          19.87022590637207,
          7.948230266571045,
          11.865499496459961,
          6.21700382232666,
          16.07369613647461,
          18.56966781616211,
          5.606870651245117,
          11.004834175109863,
          16.080322265625,
          20.106876373291016,
          14.836503982543945,
          -15.264382362365723,
          17.06138038635254,
          18.293264389038086,
          18.2432918548584,
          5.081787109375,
          14.83665943145752
         ],
         "y": [
          0.9289661645889282,
          3.2009246349334717,
          2.0556461811065674,
          1.6798511743545532,
          -3.5641064643859863,
          1.6799676418304443,
          2.999349355697632,
          -1.1324067115783691,
          -1.6570972204208374,
          3.200949192047119,
          -3.68131947517395,
          0.8546335697174072,
          2.076662063598633,
          2.2223188877105713,
          1.4972453117370605,
          1.3911164999008179,
          3.0753188133239746,
          2.759101390838623,
          1.4569677114486694,
          2.0821192264556885,
          2.707834482192993,
          2.2030913829803467,
          1.6885522603988647,
          0.8584164381027222,
          -3.5737104415893555,
          0.9289653301239014,
          -1.0618699789047241,
          2.1830925941467285,
          -3.6985349655151367,
          2.7581300735473633,
          1.5761831998825073,
          -4.391141891479492,
          1.640071988105774,
          2.7553470134735107,
          0.8507646322250366,
          3.259742021560669,
          -1.1024409532546997,
          2.290156126022339,
          2.0882041454315186,
          2.1448252201080322,
          -4.850282669067383,
          3.2598330974578857
         ],
         "z": [
          2.8547794818878174,
          -1.7807725667953491,
          1.6384129524230957,
          2.732821464538574,
          -1.6041812896728516,
          2.732710361480713,
          -1.2482922077178955,
          -3.436506986618042,
          -3.403491735458374,
          -1.7807111740112305,
          -1.4856129884719849,
          2.7982900142669678,
          1.126716136932373,
          1.7888741493225098,
          2.8921844959259033,
          2.7576868534088135,
          -1.447567105293274,
          -0.5940476655960083,
          1.525558590888977,
          1.1133733987808228,
          -0.45485204458236694,
          1.950041651725769,
          2.7406411170959473,
          2.8015575408935547,
          -1.5944359302520752,
          2.8547792434692383,
          -3.3537535667419434,
          -3.354933023452759,
          -1.4674272537231445,
          -0.5917047262191772,
          1.8639671802520752,
          -0.6109979748725891,
          -3.580824375152588,
          -0.5838966965675354,
          2.795093297958374,
          -1.9735311269760132,
          2.7240965366363525,
          0.5934472680091858,
          1.6031608581542969,
          2.098952531814575,
          0.1779014766216278,
          -1.9734715223312378
         ]
        }
       ],
       "layout": {
        "legend": {
         "title": {
          "text": "outliers"
         },
         "tracegroupgap": 0
        },
        "margin": {
         "t": 60
        },
        "scene": {
         "domain": {
          "x": [
           0,
           1
          ],
          "y": [
           0,
           1
          ]
         },
         "xaxis": {
          "title": {
           "text": "tsne0"
          }
         },
         "yaxis": {
          "title": {
           "text": "tsne1"
          }
         },
         "zaxis": {
          "title": {
           "text": "tsne2"
          }
         }
        },
        "template": {
         "data": {
          "bar": [
           {
            "error_x": {
             "color": "#2a3f5f"
            },
            "error_y": {
             "color": "#2a3f5f"
            },
            "marker": {
             "line": {
              "color": "#E5ECF6",
              "width": 0.5
             },
             "pattern": {
              "fillmode": "overlay",
              "size": 10,
              "solidity": 0.2
             }
            },
            "type": "bar"
           }
          ],
          "barpolar": [
           {
            "marker": {
             "line": {
              "color": "#E5ECF6",
              "width": 0.5
             },
             "pattern": {
              "fillmode": "overlay",
              "size": 10,
              "solidity": 0.2
             }
            },
            "type": "barpolar"
           }
          ],
          "carpet": [
           {
            "aaxis": {
             "endlinecolor": "#2a3f5f",
             "gridcolor": "white",
             "linecolor": "white",
             "minorgridcolor": "white",
             "startlinecolor": "#2a3f5f"
            },
            "baxis": {
             "endlinecolor": "#2a3f5f",
             "gridcolor": "white",
             "linecolor": "white",
             "minorgridcolor": "white",
             "startlinecolor": "#2a3f5f"
            },
            "type": "carpet"
           }
          ],
          "choropleth": [
           {
            "colorbar": {
             "outlinewidth": 0,
             "ticks": ""
            },
            "type": "choropleth"
           }
          ],
          "contour": [
           {
            "colorbar": {
             "outlinewidth": 0,
             "ticks": ""
            },
            "colorscale": [
             [
              0,
              "#0d0887"
             ],
             [
              0.1111111111111111,
              "#46039f"
             ],
             [
              0.2222222222222222,
              "#7201a8"
             ],
             [
              0.3333333333333333,
              "#9c179e"
             ],
             [
              0.4444444444444444,
              "#bd3786"
             ],
             [
              0.5555555555555556,
              "#d8576b"
             ],
             [
              0.6666666666666666,
              "#ed7953"
             ],
             [
              0.7777777777777778,
              "#fb9f3a"
             ],
             [
              0.8888888888888888,
              "#fdca26"
             ],
             [
              1,
              "#f0f921"
             ]
            ],
            "type": "contour"
           }
          ],
          "contourcarpet": [
           {
            "colorbar": {
             "outlinewidth": 0,
             "ticks": ""
            },
            "type": "contourcarpet"
           }
          ],
          "heatmap": [
           {
            "colorbar": {
             "outlinewidth": 0,
             "ticks": ""
            },
            "colorscale": [
             [
              0,
              "#0d0887"
             ],
             [
              0.1111111111111111,
              "#46039f"
             ],
             [
              0.2222222222222222,
              "#7201a8"
             ],
             [
              0.3333333333333333,
              "#9c179e"
             ],
             [
              0.4444444444444444,
              "#bd3786"
             ],
             [
              0.5555555555555556,
              "#d8576b"
             ],
             [
              0.6666666666666666,
              "#ed7953"
             ],
             [
              0.7777777777777778,
              "#fb9f3a"
             ],
             [
              0.8888888888888888,
              "#fdca26"
             ],
             [
              1,
              "#f0f921"
             ]
            ],
            "type": "heatmap"
           }
          ],
          "heatmapgl": [
           {
            "colorbar": {
             "outlinewidth": 0,
             "ticks": ""
            },
            "colorscale": [
             [
              0,
              "#0d0887"
             ],
             [
              0.1111111111111111,
              "#46039f"
             ],
             [
              0.2222222222222222,
              "#7201a8"
             ],
             [
              0.3333333333333333,
              "#9c179e"
             ],
             [
              0.4444444444444444,
              "#bd3786"
             ],
             [
              0.5555555555555556,
              "#d8576b"
             ],
             [
              0.6666666666666666,
              "#ed7953"
             ],
             [
              0.7777777777777778,
              "#fb9f3a"
             ],
             [
              0.8888888888888888,
              "#fdca26"
             ],
             [
              1,
              "#f0f921"
             ]
            ],
            "type": "heatmapgl"
           }
          ],
          "histogram": [
           {
            "marker": {
             "pattern": {
              "fillmode": "overlay",
              "size": 10,
              "solidity": 0.2
             }
            },
            "type": "histogram"
           }
          ],
          "histogram2d": [
           {
            "colorbar": {
             "outlinewidth": 0,
             "ticks": ""
            },
            "colorscale": [
             [
              0,
              "#0d0887"
             ],
             [
              0.1111111111111111,
              "#46039f"
             ],
             [
              0.2222222222222222,
              "#7201a8"
             ],
             [
              0.3333333333333333,
              "#9c179e"
             ],
             [
              0.4444444444444444,
              "#bd3786"
             ],
             [
              0.5555555555555556,
              "#d8576b"
             ],
             [
              0.6666666666666666,
              "#ed7953"
             ],
             [
              0.7777777777777778,
              "#fb9f3a"
             ],
             [
              0.8888888888888888,
              "#fdca26"
             ],
             [
              1,
              "#f0f921"
             ]
            ],
            "type": "histogram2d"
           }
          ],
          "histogram2dcontour": [
           {
            "colorbar": {
             "outlinewidth": 0,
             "ticks": ""
            },
            "colorscale": [
             [
              0,
              "#0d0887"
             ],
             [
              0.1111111111111111,
              "#46039f"
             ],
             [
              0.2222222222222222,
              "#7201a8"
             ],
             [
              0.3333333333333333,
              "#9c179e"
             ],
             [
              0.4444444444444444,
              "#bd3786"
             ],
             [
              0.5555555555555556,
              "#d8576b"
             ],
             [
              0.6666666666666666,
              "#ed7953"
             ],
             [
              0.7777777777777778,
              "#fb9f3a"
             ],
             [
              0.8888888888888888,
              "#fdca26"
             ],
             [
              1,
              "#f0f921"
             ]
            ],
            "type": "histogram2dcontour"
           }
          ],
          "mesh3d": [
           {
            "colorbar": {
             "outlinewidth": 0,
             "ticks": ""
            },
            "type": "mesh3d"
           }
          ],
          "parcoords": [
           {
            "line": {
             "colorbar": {
              "outlinewidth": 0,
              "ticks": ""
             }
            },
            "type": "parcoords"
           }
          ],
          "pie": [
           {
            "automargin": true,
            "type": "pie"
           }
          ],
          "scatter": [
           {
            "fillpattern": {
             "fillmode": "overlay",
             "size": 10,
             "solidity": 0.2
            },
            "type": "scatter"
           }
          ],
          "scatter3d": [
           {
            "line": {
             "colorbar": {
              "outlinewidth": 0,
              "ticks": ""
             }
            },
            "marker": {
             "colorbar": {
              "outlinewidth": 0,
              "ticks": ""
             }
            },
            "type": "scatter3d"
           }
          ],
          "scattercarpet": [
           {
            "marker": {
             "colorbar": {
              "outlinewidth": 0,
              "ticks": ""
             }
            },
            "type": "scattercarpet"
           }
          ],
          "scattergeo": [
           {
            "marker": {
             "colorbar": {
              "outlinewidth": 0,
              "ticks": ""
             }
            },
            "type": "scattergeo"
           }
          ],
          "scattergl": [
           {
            "marker": {
             "colorbar": {
              "outlinewidth": 0,
              "ticks": ""
             }
            },
            "type": "scattergl"
           }
          ],
          "scattermapbox": [
           {
            "marker": {
             "colorbar": {
              "outlinewidth": 0,
              "ticks": ""
             }
            },
            "type": "scattermapbox"
           }
          ],
          "scatterpolar": [
           {
            "marker": {
             "colorbar": {
              "outlinewidth": 0,
              "ticks": ""
             }
            },
            "type": "scatterpolar"
           }
          ],
          "scatterpolargl": [
           {
            "marker": {
             "colorbar": {
              "outlinewidth": 0,
              "ticks": ""
             }
            },
            "type": "scatterpolargl"
           }
          ],
          "scatterternary": [
           {
            "marker": {
             "colorbar": {
              "outlinewidth": 0,
              "ticks": ""
             }
            },
            "type": "scatterternary"
           }
          ],
          "surface": [
           {
            "colorbar": {
             "outlinewidth": 0,
             "ticks": ""
            },
            "colorscale": [
             [
              0,
              "#0d0887"
             ],
             [
              0.1111111111111111,
              "#46039f"
             ],
             [
              0.2222222222222222,
              "#7201a8"
             ],
             [
              0.3333333333333333,
              "#9c179e"
             ],
             [
              0.4444444444444444,
              "#bd3786"
             ],
             [
              0.5555555555555556,
              "#d8576b"
             ],
             [
              0.6666666666666666,
              "#ed7953"
             ],
             [
              0.7777777777777778,
              "#fb9f3a"
             ],
             [
              0.8888888888888888,
              "#fdca26"
             ],
             [
              1,
              "#f0f921"
             ]
            ],
            "type": "surface"
           }
          ],
          "table": [
           {
            "cells": {
             "fill": {
              "color": "#EBF0F8"
             },
             "line": {
              "color": "white"
             }
            },
            "header": {
             "fill": {
              "color": "#C8D4E3"
             },
             "line": {
              "color": "white"
             }
            },
            "type": "table"
           }
          ]
         },
         "layout": {
          "annotationdefaults": {
           "arrowcolor": "#2a3f5f",
           "arrowhead": 0,
           "arrowwidth": 1
          },
          "autotypenumbers": "strict",
          "coloraxis": {
           "colorbar": {
            "outlinewidth": 0,
            "ticks": ""
           }
          },
          "colorscale": {
           "diverging": [
            [
             0,
             "#8e0152"
            ],
            [
             0.1,
             "#c51b7d"
            ],
            [
             0.2,
             "#de77ae"
            ],
            [
             0.3,
             "#f1b6da"
            ],
            [
             0.4,
             "#fde0ef"
            ],
            [
             0.5,
             "#f7f7f7"
            ],
            [
             0.6,
             "#e6f5d0"
            ],
            [
             0.7,
             "#b8e186"
            ],
            [
             0.8,
             "#7fbc41"
            ],
            [
             0.9,
             "#4d9221"
            ],
            [
             1,
             "#276419"
            ]
           ],
           "sequential": [
            [
             0,
             "#0d0887"
            ],
            [
             0.1111111111111111,
             "#46039f"
            ],
            [
             0.2222222222222222,
             "#7201a8"
            ],
            [
             0.3333333333333333,
             "#9c179e"
            ],
            [
             0.4444444444444444,
             "#bd3786"
            ],
            [
             0.5555555555555556,
             "#d8576b"
            ],
            [
             0.6666666666666666,
             "#ed7953"
            ],
            [
             0.7777777777777778,
             "#fb9f3a"
            ],
            [
             0.8888888888888888,
             "#fdca26"
            ],
            [
             1,
             "#f0f921"
            ]
           ],
           "sequentialminus": [
            [
             0,
             "#0d0887"
            ],
            [
             0.1111111111111111,
             "#46039f"
            ],
            [
             0.2222222222222222,
             "#7201a8"
            ],
            [
             0.3333333333333333,
             "#9c179e"
            ],
            [
             0.4444444444444444,
             "#bd3786"
            ],
            [
             0.5555555555555556,
             "#d8576b"
            ],
            [
             0.6666666666666666,
             "#ed7953"
            ],
            [
             0.7777777777777778,
             "#fb9f3a"
            ],
            [
             0.8888888888888888,
             "#fdca26"
            ],
            [
             1,
             "#f0f921"
            ]
           ]
          },
          "colorway": [
           "#636efa",
           "#EF553B",
           "#00cc96",
           "#ab63fa",
           "#FFA15A",
           "#19d3f3",
           "#FF6692",
           "#B6E880",
           "#FF97FF",
           "#FECB52"
          ],
          "font": {
           "color": "#2a3f5f"
          },
          "geo": {
           "bgcolor": "white",
           "lakecolor": "white",
           "landcolor": "#E5ECF6",
           "showlakes": true,
           "showland": true,
           "subunitcolor": "white"
          },
          "hoverlabel": {
           "align": "left"
          },
          "hovermode": "closest",
          "mapbox": {
           "style": "light"
          },
          "paper_bgcolor": "white",
          "plot_bgcolor": "#E5ECF6",
          "polar": {
           "angularaxis": {
            "gridcolor": "white",
            "linecolor": "white",
            "ticks": ""
           },
           "bgcolor": "#E5ECF6",
           "radialaxis": {
            "gridcolor": "white",
            "linecolor": "white",
            "ticks": ""
           }
          },
          "scene": {
           "xaxis": {
            "backgroundcolor": "#E5ECF6",
            "gridcolor": "white",
            "gridwidth": 2,
            "linecolor": "white",
            "showbackground": true,
            "ticks": "",
            "zerolinecolor": "white"
           },
           "yaxis": {
            "backgroundcolor": "#E5ECF6",
            "gridcolor": "white",
            "gridwidth": 2,
            "linecolor": "white",
            "showbackground": true,
            "ticks": "",
            "zerolinecolor": "white"
           },
           "zaxis": {
            "backgroundcolor": "#E5ECF6",
            "gridcolor": "white",
            "gridwidth": 2,
            "linecolor": "white",
            "showbackground": true,
            "ticks": "",
            "zerolinecolor": "white"
           }
          },
          "shapedefaults": {
           "line": {
            "color": "#2a3f5f"
           }
          },
          "ternary": {
           "aaxis": {
            "gridcolor": "white",
            "linecolor": "white",
            "ticks": ""
           },
           "baxis": {
            "gridcolor": "white",
            "linecolor": "white",
            "ticks": ""
           },
           "bgcolor": "#E5ECF6",
           "caxis": {
            "gridcolor": "white",
            "linecolor": "white",
            "ticks": ""
           }
          },
          "title": {
           "x": 0.05
          },
          "xaxis": {
           "automargin": true,
           "gridcolor": "white",
           "linecolor": "white",
           "ticks": "",
           "title": {
            "standoff": 15
           },
           "zerolinecolor": "white",
           "zerolinewidth": 2
          },
          "yaxis": {
           "automargin": true,
           "gridcolor": "white",
           "linecolor": "white",
           "ticks": "",
           "title": {
            "standoff": 15
           },
           "zerolinecolor": "white",
           "zerolinewidth": 2
          }
         }
        }
       }
      }
     },
     "metadata": {},
     "output_type": "display_data"
    }
   ],
   "source": [
    "df_tsne['outliers'] = outliers.astype(str)\n",
    "fig = px.scatter_3d(\n",
    "    data_frame=df_tsne,\n",
    "    x=df_tsne.columns[0],\n",
    "    y=df_tsne.columns[1],\n",
    "    z=df_tsne.columns[2],\n",
    "    color='outliers',\n",
    "    color_discrete_map={\n",
    "        '-1': 'red',\n",
    "        '1': 'grey'\n",
    "    }\n",
    ")\n",
    "fig.show()"
   ]
  },
  {
   "cell_type": "code",
   "execution_count": null,
   "metadata": {},
   "outputs": [],
   "source": [
    "mask = outliers == 1\n",
    "df = df.loc[mask, :].copy()"
   ]
  },
  {
   "cell_type": "code",
   "execution_count": null,
   "metadata": {},
   "outputs": [],
   "source": [
    "Xtrain, Xtest, ytrain, ytest = train_test_split(df.iloc[:,:-1], df.loc[:,metadata['tgt']], test_size=0.2, random_state=42, stratify=df['transaction_date'])    "
   ]
  },
  {
   "cell_type": "code",
   "execution_count": null,
   "metadata": {},
   "outputs": [
    {
     "data": {
      "text/plain": [
       "84.04201688790916"
      ]
     },
     "execution_count": 30,
     "metadata": {},
     "output_type": "execute_result"
    }
   ],
   "source": [
    "mean_squared_error(y_train, y_train_pred)"
   ]
  },
  {
   "cell_type": "code",
   "execution_count": null,
   "metadata": {},
   "outputs": [],
   "source": [
    "# custom transformer that uses a KMeans clusterer in the fit() method to identify the main clusters in the training data, and \n",
    "# then uses rbf_kernel() in the transform() method to measure how similar each sample is to each cluster center:\n",
    "\n",
    "from sklearn.cluster import KMeans\n",
    "\n",
    "class ClusterSimilarity(BaseEstimator, TransformerMixin):\n",
    "    def __init__(self, n_clusters=10, gamma=1.0, random_state=None):\n",
    "        self.n_clusters = n_clusters\n",
    "        self.gamma = gamma\n",
    "        self.random_state = random_state\n",
    "\n",
    "    def fit(self, X, y=None, sample_weight=None):\n",
    "        self.kmeans_ = KMeans(self.n_clusters, random_state=self.random_state)\n",
    "        self.kmeans_.fit(X, sample_weight=sample_weight)\n",
    "        return self  # always return self!\n",
    "\n",
    "    def transform(self, X):\n",
    "        return cosine_similarity(X, self.kmeans_.cluster_centers_)\n",
    "\n",
    "    def get_feature_names_out(self, names=None):\n",
    "        return [f\"Cluster {i} similarity\" for i in range(self.n_clusters)]"
   ]
  },
  {
   "cell_type": "code",
   "execution_count": null,
   "metadata": {},
   "outputs": [
    {
     "data": {
      "text/plain": [
       "array([[ 24.96580621, 121.54178224],\n",
       "       [ 24.96420389, 121.51411639],\n",
       "       [ 24.98293194, 121.53704774],\n",
       "       [ 24.94376357, 121.50141143],\n",
       "       [ 24.95252182, 121.55061364],\n",
       "       [ 24.97412762, 121.53418548],\n",
       "       [ 24.95553056, 121.53701611],\n",
       "       [ 24.97330111, 121.54515278],\n",
       "       [ 24.981938  , 121.524512  ],\n",
       "       [ 24.98083391, 121.54323391]])"
      ]
     },
     "execution_count": 180,
     "metadata": {},
     "output_type": "execute_result"
    }
   ],
   "source": [
    "clust.kmeans_.cluster_centers_"
   ]
  },
  {
   "cell_type": "code",
   "execution_count": null,
   "metadata": {},
   "outputs": [
    {
     "name": "stdout",
     "output_type": "stream",
     "text": [
      "Haversine Distance Matrix:\n",
      "[[0.         0.90822362 0.43829268 6.1631243  1.69083132]\n",
      " [0.90822362 0.         0.78526045 5.52755517 1.56400208]\n",
      " [0.43829268 0.78526045 0.         5.74618944 1.25624816]\n",
      " [6.1631243  5.52755517 5.74618944 0.         4.66537612]\n",
      " [1.69083132 1.56400208 1.25624816 4.66537612 0.        ]]\n",
      "RBF Kernel Matrix:\n",
      "[[1.00000000e+00 6.62036182e-01 9.08418377e-01 5.64751292e-09\n",
      "  2.39439314e-01]\n",
      " [6.62036182e-01 1.00000000e+00 7.34682396e-01 2.31906152e-07\n",
      "  2.94330718e-01]\n",
      " [9.08418377e-01 7.34682396e-01 1.00000000e+00 6.76210466e-08\n",
      "  4.54262650e-01]\n",
      " [5.64751292e-09 2.31906152e-07 6.76210466e-08 1.00000000e+00\n",
      "  1.87772004e-05]\n",
      " [2.39439314e-01 2.94330718e-01 4.54262650e-01 1.87772004e-05\n",
      "  1.00000000e+00]]\n"
     ]
    }
   ],
   "source": [
    "import numpy as np\n",
    "\n",
    "# Function to calculate Haversine distance between two points\n",
    "def haversine(lat1, lon1, lat2, lon2):\n",
    "    R = 6371.0  # Earth radius in kilometers\n",
    "    lat1, lon1, lat2, lon2 = map(np.radians, [lat1, lon1, lat2, lon2])\n",
    "    dlat = lat2 - lat1\n",
    "    dlon = lon2 - lon1\n",
    "    a = np.sin(dlat / 2)**2 + np.cos(lat1) * np.cos(lat2) * np.sin(dlon / 2)**2\n",
    "    c = 2 * np.arctan2(np.sqrt(a), np.sqrt(1 - a))\n",
    "    distance = R * c\n",
    "    return distance\n",
    "\n",
    "# Sample data\n",
    "coords = np.array([\n",
    "    [24.9809, 121.547],\n",
    "    [24.9805, 121.538],\n",
    "    [24.9774, 121.545],\n",
    "    [24.9415, 121.504],\n",
    "    [24.9667, 121.541]\n",
    "])\n",
    "\n",
    "# Calculate Haversine distance matrix\n",
    "n = coords.shape[0]\n",
    "haversine_dist_matrix = np.zeros((n, n))\n",
    "\n",
    "for i in range(n):\n",
    "    for j in range(n):\n",
    "        haversine_dist_matrix[i, j] = haversine(coords[i, 0], coords[i, 1], coords[j, 0], coords[j, 1])\n",
    "\n",
    "print(\"Haversine Distance Matrix:\")\n",
    "print(haversine_dist_matrix)\n",
    "\n",
    "# Function to calculate RBF kernel from distance matrix\n",
    "def rbf_kernel_from_distances(dist_matrix, sigma):\n",
    "    return np.exp(-dist_matrix**2 / (2 * sigma**2))\n",
    "\n",
    "# Specify sigma\n",
    "sigma = 1.0  # You may need to tune this parameter\n",
    "\n",
    "# Calculate RBF kernel matrix from Haversine distance matrix\n",
    "rbf_kernel_matrix = rbf_kernel()\n",
    "\n",
    "print(\"RBF Kernel Matrix:\")\n",
    "print(rbf_kernel_matrix)\n"
   ]
  },
  {
   "cell_type": "code",
   "execution_count": null,
   "metadata": {},
   "outputs": [
    {
     "name": "stdout",
     "output_type": "stream",
     "text": [
      "|     |   latitude |   longitude |\n",
      "|----:|-----------:|------------:|\n",
      "| 115 |    24.9809 |     121.547 |\n",
      "| 174 |    24.9805 |     121.538 |\n",
      "|  16 |    24.9774 |     121.545 |\n",
      "| 298 |    24.9415 |     121.504 |\n",
      "| 412 |    24.9667 |     121.541 |\n"
     ]
    }
   ],
   "source": [
    "print(Xtrain[['latitude', 'longitude']].head(5).to_markdown())"
   ]
  },
  {
   "cell_type": "code",
   "execution_count": null,
   "metadata": {},
   "outputs": [
    {
     "data": {
      "text/plain": [
       "array([[0.99999999, 1.        , 1.        , ..., 1.        , 1.        ,\n",
       "        1.        ],\n",
       "       [0.99999999, 1.        , 1.        , ..., 1.        , 1.        ,\n",
       "        1.        ],\n",
       "       [1.        , 1.        , 1.        , ..., 1.        , 1.        ,\n",
       "        1.        ],\n",
       "       ...,\n",
       "       [1.        , 1.        , 1.        , ..., 1.        , 1.        ,\n",
       "        1.        ],\n",
       "       [1.        , 1.        , 0.99999999, ..., 1.        , 0.99999999,\n",
       "        0.99999999],\n",
       "       [1.        , 1.        , 0.99999999, ..., 1.        , 0.99999999,\n",
       "        0.99999999]])"
      ]
     },
     "execution_count": 179,
     "metadata": {},
     "output_type": "execute_result"
    }
   ],
   "source": [
    "clust = ClusterSimilarity(n_clusters=10, gamma=0.1, random_state=42)\n",
    "clust.fit(Xtrain[['latitude', 'longitude']])\n",
    "trsf_geo = clust.transform(Xtrain[['latitude', 'longitude']])\n",
    "trsf_geo"
   ]
  },
  {
   "cell_type": "code",
   "execution_count": null,
   "metadata": {},
   "outputs": [
    {
     "data": {
      "text/html": [
       "<style>#sk-container-id-9 {\n",
       "  /* Definition of color scheme common for light and dark mode */\n",
       "  --sklearn-color-text: black;\n",
       "  --sklearn-color-line: gray;\n",
       "  /* Definition of color scheme for unfitted estimators */\n",
       "  --sklearn-color-unfitted-level-0: #fff5e6;\n",
       "  --sklearn-color-unfitted-level-1: #f6e4d2;\n",
       "  --sklearn-color-unfitted-level-2: #ffe0b3;\n",
       "  --sklearn-color-unfitted-level-3: chocolate;\n",
       "  /* Definition of color scheme for fitted estimators */\n",
       "  --sklearn-color-fitted-level-0: #f0f8ff;\n",
       "  --sklearn-color-fitted-level-1: #d4ebff;\n",
       "  --sklearn-color-fitted-level-2: #b3dbfd;\n",
       "  --sklearn-color-fitted-level-3: cornflowerblue;\n",
       "\n",
       "  /* Specific color for light theme */\n",
       "  --sklearn-color-text-on-default-background: var(--sg-text-color, var(--theme-code-foreground, var(--jp-content-font-color1, black)));\n",
       "  --sklearn-color-background: var(--sg-background-color, var(--theme-background, var(--jp-layout-color0, white)));\n",
       "  --sklearn-color-border-box: var(--sg-text-color, var(--theme-code-foreground, var(--jp-content-font-color1, black)));\n",
       "  --sklearn-color-icon: #696969;\n",
       "\n",
       "  @media (prefers-color-scheme: dark) {\n",
       "    /* Redefinition of color scheme for dark theme */\n",
       "    --sklearn-color-text-on-default-background: var(--sg-text-color, var(--theme-code-foreground, var(--jp-content-font-color1, white)));\n",
       "    --sklearn-color-background: var(--sg-background-color, var(--theme-background, var(--jp-layout-color0, #111)));\n",
       "    --sklearn-color-border-box: var(--sg-text-color, var(--theme-code-foreground, var(--jp-content-font-color1, white)));\n",
       "    --sklearn-color-icon: #878787;\n",
       "  }\n",
       "}\n",
       "\n",
       "#sk-container-id-9 {\n",
       "  color: var(--sklearn-color-text);\n",
       "}\n",
       "\n",
       "#sk-container-id-9 pre {\n",
       "  padding: 0;\n",
       "}\n",
       "\n",
       "#sk-container-id-9 input.sk-hidden--visually {\n",
       "  border: 0;\n",
       "  clip: rect(1px 1px 1px 1px);\n",
       "  clip: rect(1px, 1px, 1px, 1px);\n",
       "  height: 1px;\n",
       "  margin: -1px;\n",
       "  overflow: hidden;\n",
       "  padding: 0;\n",
       "  position: absolute;\n",
       "  width: 1px;\n",
       "}\n",
       "\n",
       "#sk-container-id-9 div.sk-dashed-wrapped {\n",
       "  border: 1px dashed var(--sklearn-color-line);\n",
       "  margin: 0 0.4em 0.5em 0.4em;\n",
       "  box-sizing: border-box;\n",
       "  padding-bottom: 0.4em;\n",
       "  background-color: var(--sklearn-color-background);\n",
       "}\n",
       "\n",
       "#sk-container-id-9 div.sk-container {\n",
       "  /* jupyter's `normalize.less` sets `[hidden] { display: none; }`\n",
       "     but bootstrap.min.css set `[hidden] { display: none !important; }`\n",
       "     so we also need the `!important` here to be able to override the\n",
       "     default hidden behavior on the sphinx rendered scikit-learn.org.\n",
       "     See: https://github.com/scikit-learn/scikit-learn/issues/21755 */\n",
       "  display: inline-block !important;\n",
       "  position: relative;\n",
       "}\n",
       "\n",
       "#sk-container-id-9 div.sk-text-repr-fallback {\n",
       "  display: none;\n",
       "}\n",
       "\n",
       "div.sk-parallel-item,\n",
       "div.sk-serial,\n",
       "div.sk-item {\n",
       "  /* draw centered vertical line to link estimators */\n",
       "  background-image: linear-gradient(var(--sklearn-color-text-on-default-background), var(--sklearn-color-text-on-default-background));\n",
       "  background-size: 2px 100%;\n",
       "  background-repeat: no-repeat;\n",
       "  background-position: center center;\n",
       "}\n",
       "\n",
       "/* Parallel-specific style estimator block */\n",
       "\n",
       "#sk-container-id-9 div.sk-parallel-item::after {\n",
       "  content: \"\";\n",
       "  width: 100%;\n",
       "  border-bottom: 2px solid var(--sklearn-color-text-on-default-background);\n",
       "  flex-grow: 1;\n",
       "}\n",
       "\n",
       "#sk-container-id-9 div.sk-parallel {\n",
       "  display: flex;\n",
       "  align-items: stretch;\n",
       "  justify-content: center;\n",
       "  background-color: var(--sklearn-color-background);\n",
       "  position: relative;\n",
       "}\n",
       "\n",
       "#sk-container-id-9 div.sk-parallel-item {\n",
       "  display: flex;\n",
       "  flex-direction: column;\n",
       "}\n",
       "\n",
       "#sk-container-id-9 div.sk-parallel-item:first-child::after {\n",
       "  align-self: flex-end;\n",
       "  width: 50%;\n",
       "}\n",
       "\n",
       "#sk-container-id-9 div.sk-parallel-item:last-child::after {\n",
       "  align-self: flex-start;\n",
       "  width: 50%;\n",
       "}\n",
       "\n",
       "#sk-container-id-9 div.sk-parallel-item:only-child::after {\n",
       "  width: 0;\n",
       "}\n",
       "\n",
       "/* Serial-specific style estimator block */\n",
       "\n",
       "#sk-container-id-9 div.sk-serial {\n",
       "  display: flex;\n",
       "  flex-direction: column;\n",
       "  align-items: center;\n",
       "  background-color: var(--sklearn-color-background);\n",
       "  padding-right: 1em;\n",
       "  padding-left: 1em;\n",
       "}\n",
       "\n",
       "\n",
       "/* Toggleable style: style used for estimator/Pipeline/ColumnTransformer box that is\n",
       "clickable and can be expanded/collapsed.\n",
       "- Pipeline and ColumnTransformer use this feature and define the default style\n",
       "- Estimators will overwrite some part of the style using the `sk-estimator` class\n",
       "*/\n",
       "\n",
       "/* Pipeline and ColumnTransformer style (default) */\n",
       "\n",
       "#sk-container-id-9 div.sk-toggleable {\n",
       "  /* Default theme specific background. It is overwritten whether we have a\n",
       "  specific estimator or a Pipeline/ColumnTransformer */\n",
       "  background-color: var(--sklearn-color-background);\n",
       "}\n",
       "\n",
       "/* Toggleable label */\n",
       "#sk-container-id-9 label.sk-toggleable__label {\n",
       "  cursor: pointer;\n",
       "  display: block;\n",
       "  width: 100%;\n",
       "  margin-bottom: 0;\n",
       "  padding: 0.5em;\n",
       "  box-sizing: border-box;\n",
       "  text-align: center;\n",
       "}\n",
       "\n",
       "#sk-container-id-9 label.sk-toggleable__label-arrow:before {\n",
       "  /* Arrow on the left of the label */\n",
       "  content: \"▸\";\n",
       "  float: left;\n",
       "  margin-right: 0.25em;\n",
       "  color: var(--sklearn-color-icon);\n",
       "}\n",
       "\n",
       "#sk-container-id-9 label.sk-toggleable__label-arrow:hover:before {\n",
       "  color: var(--sklearn-color-text);\n",
       "}\n",
       "\n",
       "/* Toggleable content - dropdown */\n",
       "\n",
       "#sk-container-id-9 div.sk-toggleable__content {\n",
       "  max-height: 0;\n",
       "  max-width: 0;\n",
       "  overflow: hidden;\n",
       "  text-align: left;\n",
       "  /* unfitted */\n",
       "  background-color: var(--sklearn-color-unfitted-level-0);\n",
       "}\n",
       "\n",
       "#sk-container-id-9 div.sk-toggleable__content.fitted {\n",
       "  /* fitted */\n",
       "  background-color: var(--sklearn-color-fitted-level-0);\n",
       "}\n",
       "\n",
       "#sk-container-id-9 div.sk-toggleable__content pre {\n",
       "  margin: 0.2em;\n",
       "  border-radius: 0.25em;\n",
       "  color: var(--sklearn-color-text);\n",
       "  /* unfitted */\n",
       "  background-color: var(--sklearn-color-unfitted-level-0);\n",
       "}\n",
       "\n",
       "#sk-container-id-9 div.sk-toggleable__content.fitted pre {\n",
       "  /* unfitted */\n",
       "  background-color: var(--sklearn-color-fitted-level-0);\n",
       "}\n",
       "\n",
       "#sk-container-id-9 input.sk-toggleable__control:checked~div.sk-toggleable__content {\n",
       "  /* Expand drop-down */\n",
       "  max-height: 200px;\n",
       "  max-width: 100%;\n",
       "  overflow: auto;\n",
       "}\n",
       "\n",
       "#sk-container-id-9 input.sk-toggleable__control:checked~label.sk-toggleable__label-arrow:before {\n",
       "  content: \"▾\";\n",
       "}\n",
       "\n",
       "/* Pipeline/ColumnTransformer-specific style */\n",
       "\n",
       "#sk-container-id-9 div.sk-label input.sk-toggleable__control:checked~label.sk-toggleable__label {\n",
       "  color: var(--sklearn-color-text);\n",
       "  background-color: var(--sklearn-color-unfitted-level-2);\n",
       "}\n",
       "\n",
       "#sk-container-id-9 div.sk-label.fitted input.sk-toggleable__control:checked~label.sk-toggleable__label {\n",
       "  background-color: var(--sklearn-color-fitted-level-2);\n",
       "}\n",
       "\n",
       "/* Estimator-specific style */\n",
       "\n",
       "/* Colorize estimator box */\n",
       "#sk-container-id-9 div.sk-estimator input.sk-toggleable__control:checked~label.sk-toggleable__label {\n",
       "  /* unfitted */\n",
       "  background-color: var(--sklearn-color-unfitted-level-2);\n",
       "}\n",
       "\n",
       "#sk-container-id-9 div.sk-estimator.fitted input.sk-toggleable__control:checked~label.sk-toggleable__label {\n",
       "  /* fitted */\n",
       "  background-color: var(--sklearn-color-fitted-level-2);\n",
       "}\n",
       "\n",
       "#sk-container-id-9 div.sk-label label.sk-toggleable__label,\n",
       "#sk-container-id-9 div.sk-label label {\n",
       "  /* The background is the default theme color */\n",
       "  color: var(--sklearn-color-text-on-default-background);\n",
       "}\n",
       "\n",
       "/* On hover, darken the color of the background */\n",
       "#sk-container-id-9 div.sk-label:hover label.sk-toggleable__label {\n",
       "  color: var(--sklearn-color-text);\n",
       "  background-color: var(--sklearn-color-unfitted-level-2);\n",
       "}\n",
       "\n",
       "/* Label box, darken color on hover, fitted */\n",
       "#sk-container-id-9 div.sk-label.fitted:hover label.sk-toggleable__label.fitted {\n",
       "  color: var(--sklearn-color-text);\n",
       "  background-color: var(--sklearn-color-fitted-level-2);\n",
       "}\n",
       "\n",
       "/* Estimator label */\n",
       "\n",
       "#sk-container-id-9 div.sk-label label {\n",
       "  font-family: monospace;\n",
       "  font-weight: bold;\n",
       "  display: inline-block;\n",
       "  line-height: 1.2em;\n",
       "}\n",
       "\n",
       "#sk-container-id-9 div.sk-label-container {\n",
       "  text-align: center;\n",
       "}\n",
       "\n",
       "/* Estimator-specific */\n",
       "#sk-container-id-9 div.sk-estimator {\n",
       "  font-family: monospace;\n",
       "  border: 1px dotted var(--sklearn-color-border-box);\n",
       "  border-radius: 0.25em;\n",
       "  box-sizing: border-box;\n",
       "  margin-bottom: 0.5em;\n",
       "  /* unfitted */\n",
       "  background-color: var(--sklearn-color-unfitted-level-0);\n",
       "}\n",
       "\n",
       "#sk-container-id-9 div.sk-estimator.fitted {\n",
       "  /* fitted */\n",
       "  background-color: var(--sklearn-color-fitted-level-0);\n",
       "}\n",
       "\n",
       "/* on hover */\n",
       "#sk-container-id-9 div.sk-estimator:hover {\n",
       "  /* unfitted */\n",
       "  background-color: var(--sklearn-color-unfitted-level-2);\n",
       "}\n",
       "\n",
       "#sk-container-id-9 div.sk-estimator.fitted:hover {\n",
       "  /* fitted */\n",
       "  background-color: var(--sklearn-color-fitted-level-2);\n",
       "}\n",
       "\n",
       "/* Specification for estimator info (e.g. \"i\" and \"?\") */\n",
       "\n",
       "/* Common style for \"i\" and \"?\" */\n",
       "\n",
       ".sk-estimator-doc-link,\n",
       "a:link.sk-estimator-doc-link,\n",
       "a:visited.sk-estimator-doc-link {\n",
       "  float: right;\n",
       "  font-size: smaller;\n",
       "  line-height: 1em;\n",
       "  font-family: monospace;\n",
       "  background-color: var(--sklearn-color-background);\n",
       "  border-radius: 1em;\n",
       "  height: 1em;\n",
       "  width: 1em;\n",
       "  text-decoration: none !important;\n",
       "  margin-left: 1ex;\n",
       "  /* unfitted */\n",
       "  border: var(--sklearn-color-unfitted-level-1) 1pt solid;\n",
       "  color: var(--sklearn-color-unfitted-level-1);\n",
       "}\n",
       "\n",
       ".sk-estimator-doc-link.fitted,\n",
       "a:link.sk-estimator-doc-link.fitted,\n",
       "a:visited.sk-estimator-doc-link.fitted {\n",
       "  /* fitted */\n",
       "  border: var(--sklearn-color-fitted-level-1) 1pt solid;\n",
       "  color: var(--sklearn-color-fitted-level-1);\n",
       "}\n",
       "\n",
       "/* On hover */\n",
       "div.sk-estimator:hover .sk-estimator-doc-link:hover,\n",
       ".sk-estimator-doc-link:hover,\n",
       "div.sk-label-container:hover .sk-estimator-doc-link:hover,\n",
       ".sk-estimator-doc-link:hover {\n",
       "  /* unfitted */\n",
       "  background-color: var(--sklearn-color-unfitted-level-3);\n",
       "  color: var(--sklearn-color-background);\n",
       "  text-decoration: none;\n",
       "}\n",
       "\n",
       "div.sk-estimator.fitted:hover .sk-estimator-doc-link.fitted:hover,\n",
       ".sk-estimator-doc-link.fitted:hover,\n",
       "div.sk-label-container:hover .sk-estimator-doc-link.fitted:hover,\n",
       ".sk-estimator-doc-link.fitted:hover {\n",
       "  /* fitted */\n",
       "  background-color: var(--sklearn-color-fitted-level-3);\n",
       "  color: var(--sklearn-color-background);\n",
       "  text-decoration: none;\n",
       "}\n",
       "\n",
       "/* Span, style for the box shown on hovering the info icon */\n",
       ".sk-estimator-doc-link span {\n",
       "  display: none;\n",
       "  z-index: 9999;\n",
       "  position: relative;\n",
       "  font-weight: normal;\n",
       "  right: .2ex;\n",
       "  padding: .5ex;\n",
       "  margin: .5ex;\n",
       "  width: min-content;\n",
       "  min-width: 20ex;\n",
       "  max-width: 50ex;\n",
       "  color: var(--sklearn-color-text);\n",
       "  box-shadow: 2pt 2pt 4pt #999;\n",
       "  /* unfitted */\n",
       "  background: var(--sklearn-color-unfitted-level-0);\n",
       "  border: .5pt solid var(--sklearn-color-unfitted-level-3);\n",
       "}\n",
       "\n",
       ".sk-estimator-doc-link.fitted span {\n",
       "  /* fitted */\n",
       "  background: var(--sklearn-color-fitted-level-0);\n",
       "  border: var(--sklearn-color-fitted-level-3);\n",
       "}\n",
       "\n",
       ".sk-estimator-doc-link:hover span {\n",
       "  display: block;\n",
       "}\n",
       "\n",
       "/* \"?\"-specific style due to the `<a>` HTML tag */\n",
       "\n",
       "#sk-container-id-9 a.estimator_doc_link {\n",
       "  float: right;\n",
       "  font-size: 1rem;\n",
       "  line-height: 1em;\n",
       "  font-family: monospace;\n",
       "  background-color: var(--sklearn-color-background);\n",
       "  border-radius: 1rem;\n",
       "  height: 1rem;\n",
       "  width: 1rem;\n",
       "  text-decoration: none;\n",
       "  /* unfitted */\n",
       "  color: var(--sklearn-color-unfitted-level-1);\n",
       "  border: var(--sklearn-color-unfitted-level-1) 1pt solid;\n",
       "}\n",
       "\n",
       "#sk-container-id-9 a.estimator_doc_link.fitted {\n",
       "  /* fitted */\n",
       "  border: var(--sklearn-color-fitted-level-1) 1pt solid;\n",
       "  color: var(--sklearn-color-fitted-level-1);\n",
       "}\n",
       "\n",
       "/* On hover */\n",
       "#sk-container-id-9 a.estimator_doc_link:hover {\n",
       "  /* unfitted */\n",
       "  background-color: var(--sklearn-color-unfitted-level-3);\n",
       "  color: var(--sklearn-color-background);\n",
       "  text-decoration: none;\n",
       "}\n",
       "\n",
       "#sk-container-id-9 a.estimator_doc_link.fitted:hover {\n",
       "  /* fitted */\n",
       "  background-color: var(--sklearn-color-fitted-level-3);\n",
       "}\n",
       "</style><div id=\"sk-container-id-9\" class=\"sk-top-container\"><div class=\"sk-text-repr-fallback\"><pre>ColumnTransformer(transformers=[(&#x27;num&#x27;,\n",
       "                                 Pipeline(steps=[(&#x27;scaling&#x27;, RobustScaler())]),\n",
       "                                 [&#x27;house_age&#x27;,\n",
       "                                  &#x27;distance_to_the_nearest_mrt_station&#x27;]),\n",
       "                                (&#x27;cat&#x27;,\n",
       "                                 Pipeline(steps=[(&#x27;ordinal&#x27;, OneHotEncoder())]),\n",
       "                                 [&#x27;transaction_date&#x27;]),\n",
       "                                (&#x27;geo&#x27;,\n",
       "                                 ClusterSimilarity(gamma=0.1, n_clusters=5),\n",
       "                                 [&#x27;latitude&#x27;, &#x27;longitude&#x27;]),\n",
       "                                (&#x27;log&#x27;,\n",
       "                                 Pipeline(steps=[(&#x27;log&#x27;,\n",
       "                                                  FunctionTransformer(feature_names_out=&#x27;one-to-one&#x27;,\n",
       "                                                                      func=&lt;ufunc &#x27;log1p&#x27;&gt;)),\n",
       "                                                 (&#x27;scaling&#x27;, RobustScaler())]),\n",
       "                                 [&#x27;distance_to_the_nearest_mrt_station&#x27;])])</pre><b>In a Jupyter environment, please rerun this cell to show the HTML representation or trust the notebook. <br />On GitHub, the HTML representation is unable to render, please try loading this page with nbviewer.org.</b></div><div class=\"sk-container\" hidden><div class=\"sk-item sk-dashed-wrapped\"><div class=\"sk-label-container\"><div class=\"sk-label fitted sk-toggleable\"><input class=\"sk-toggleable__control sk-hidden--visually\" id=\"sk-estimator-id-75\" type=\"checkbox\" ><label for=\"sk-estimator-id-75\" class=\"sk-toggleable__label fitted sk-toggleable__label-arrow fitted\">&nbsp;&nbsp;ColumnTransformer<a class=\"sk-estimator-doc-link fitted\" rel=\"noreferrer\" target=\"_blank\" href=\"https://scikit-learn.org/1.5/modules/generated/sklearn.compose.ColumnTransformer.html\">?<span>Documentation for ColumnTransformer</span></a><span class=\"sk-estimator-doc-link fitted\">i<span>Fitted</span></span></label><div class=\"sk-toggleable__content fitted\"><pre>ColumnTransformer(transformers=[(&#x27;num&#x27;,\n",
       "                                 Pipeline(steps=[(&#x27;scaling&#x27;, RobustScaler())]),\n",
       "                                 [&#x27;house_age&#x27;,\n",
       "                                  &#x27;distance_to_the_nearest_mrt_station&#x27;]),\n",
       "                                (&#x27;cat&#x27;,\n",
       "                                 Pipeline(steps=[(&#x27;ordinal&#x27;, OneHotEncoder())]),\n",
       "                                 [&#x27;transaction_date&#x27;]),\n",
       "                                (&#x27;geo&#x27;,\n",
       "                                 ClusterSimilarity(gamma=0.1, n_clusters=5),\n",
       "                                 [&#x27;latitude&#x27;, &#x27;longitude&#x27;]),\n",
       "                                (&#x27;log&#x27;,\n",
       "                                 Pipeline(steps=[(&#x27;log&#x27;,\n",
       "                                                  FunctionTransformer(feature_names_out=&#x27;one-to-one&#x27;,\n",
       "                                                                      func=&lt;ufunc &#x27;log1p&#x27;&gt;)),\n",
       "                                                 (&#x27;scaling&#x27;, RobustScaler())]),\n",
       "                                 [&#x27;distance_to_the_nearest_mrt_station&#x27;])])</pre></div> </div></div><div class=\"sk-parallel\"><div class=\"sk-parallel-item\"><div class=\"sk-item\"><div class=\"sk-label-container\"><div class=\"sk-label fitted sk-toggleable\"><input class=\"sk-toggleable__control sk-hidden--visually\" id=\"sk-estimator-id-76\" type=\"checkbox\" ><label for=\"sk-estimator-id-76\" class=\"sk-toggleable__label fitted sk-toggleable__label-arrow fitted\">num</label><div class=\"sk-toggleable__content fitted\"><pre>[&#x27;house_age&#x27;, &#x27;distance_to_the_nearest_mrt_station&#x27;]</pre></div> </div></div><div class=\"sk-serial\"><div class=\"sk-item\"><div class=\"sk-serial\"><div class=\"sk-item\"><div class=\"sk-estimator fitted sk-toggleable\"><input class=\"sk-toggleable__control sk-hidden--visually\" id=\"sk-estimator-id-77\" type=\"checkbox\" ><label for=\"sk-estimator-id-77\" class=\"sk-toggleable__label fitted sk-toggleable__label-arrow fitted\">&nbsp;RobustScaler<a class=\"sk-estimator-doc-link fitted\" rel=\"noreferrer\" target=\"_blank\" href=\"https://scikit-learn.org/1.5/modules/generated/sklearn.preprocessing.RobustScaler.html\">?<span>Documentation for RobustScaler</span></a></label><div class=\"sk-toggleable__content fitted\"><pre>RobustScaler()</pre></div> </div></div></div></div></div></div></div><div class=\"sk-parallel-item\"><div class=\"sk-item\"><div class=\"sk-label-container\"><div class=\"sk-label fitted sk-toggleable\"><input class=\"sk-toggleable__control sk-hidden--visually\" id=\"sk-estimator-id-78\" type=\"checkbox\" ><label for=\"sk-estimator-id-78\" class=\"sk-toggleable__label fitted sk-toggleable__label-arrow fitted\">cat</label><div class=\"sk-toggleable__content fitted\"><pre>[&#x27;transaction_date&#x27;]</pre></div> </div></div><div class=\"sk-serial\"><div class=\"sk-item\"><div class=\"sk-serial\"><div class=\"sk-item\"><div class=\"sk-estimator fitted sk-toggleable\"><input class=\"sk-toggleable__control sk-hidden--visually\" id=\"sk-estimator-id-79\" type=\"checkbox\" ><label for=\"sk-estimator-id-79\" class=\"sk-toggleable__label fitted sk-toggleable__label-arrow fitted\">&nbsp;OneHotEncoder<a class=\"sk-estimator-doc-link fitted\" rel=\"noreferrer\" target=\"_blank\" href=\"https://scikit-learn.org/1.5/modules/generated/sklearn.preprocessing.OneHotEncoder.html\">?<span>Documentation for OneHotEncoder</span></a></label><div class=\"sk-toggleable__content fitted\"><pre>OneHotEncoder()</pre></div> </div></div></div></div></div></div></div><div class=\"sk-parallel-item\"><div class=\"sk-item\"><div class=\"sk-label-container\"><div class=\"sk-label fitted sk-toggleable\"><input class=\"sk-toggleable__control sk-hidden--visually\" id=\"sk-estimator-id-80\" type=\"checkbox\" ><label for=\"sk-estimator-id-80\" class=\"sk-toggleable__label fitted sk-toggleable__label-arrow fitted\">geo</label><div class=\"sk-toggleable__content fitted\"><pre>[&#x27;latitude&#x27;, &#x27;longitude&#x27;]</pre></div> </div></div><div class=\"sk-serial\"><div class=\"sk-item\"><div class=\"sk-estimator fitted sk-toggleable\"><input class=\"sk-toggleable__control sk-hidden--visually\" id=\"sk-estimator-id-81\" type=\"checkbox\" ><label for=\"sk-estimator-id-81\" class=\"sk-toggleable__label fitted sk-toggleable__label-arrow fitted\">ClusterSimilarity</label><div class=\"sk-toggleable__content fitted\"><pre>ClusterSimilarity(gamma=0.1, n_clusters=5)</pre></div> </div></div></div></div></div><div class=\"sk-parallel-item\"><div class=\"sk-item\"><div class=\"sk-label-container\"><div class=\"sk-label fitted sk-toggleable\"><input class=\"sk-toggleable__control sk-hidden--visually\" id=\"sk-estimator-id-82\" type=\"checkbox\" ><label for=\"sk-estimator-id-82\" class=\"sk-toggleable__label fitted sk-toggleable__label-arrow fitted\">log</label><div class=\"sk-toggleable__content fitted\"><pre>[&#x27;distance_to_the_nearest_mrt_station&#x27;]</pre></div> </div></div><div class=\"sk-serial\"><div class=\"sk-item\"><div class=\"sk-serial\"><div class=\"sk-item\"><div class=\"sk-estimator fitted sk-toggleable\"><input class=\"sk-toggleable__control sk-hidden--visually\" id=\"sk-estimator-id-83\" type=\"checkbox\" ><label for=\"sk-estimator-id-83\" class=\"sk-toggleable__label fitted sk-toggleable__label-arrow fitted\">&nbsp;FunctionTransformer<a class=\"sk-estimator-doc-link fitted\" rel=\"noreferrer\" target=\"_blank\" href=\"https://scikit-learn.org/1.5/modules/generated/sklearn.preprocessing.FunctionTransformer.html\">?<span>Documentation for FunctionTransformer</span></a></label><div class=\"sk-toggleable__content fitted\"><pre>FunctionTransformer(feature_names_out=&#x27;one-to-one&#x27;, func=&lt;ufunc &#x27;log1p&#x27;&gt;)</pre></div> </div></div><div class=\"sk-item\"><div class=\"sk-estimator fitted sk-toggleable\"><input class=\"sk-toggleable__control sk-hidden--visually\" id=\"sk-estimator-id-84\" type=\"checkbox\" ><label for=\"sk-estimator-id-84\" class=\"sk-toggleable__label fitted sk-toggleable__label-arrow fitted\">&nbsp;RobustScaler<a class=\"sk-estimator-doc-link fitted\" rel=\"noreferrer\" target=\"_blank\" href=\"https://scikit-learn.org/1.5/modules/generated/sklearn.preprocessing.RobustScaler.html\">?<span>Documentation for RobustScaler</span></a></label><div class=\"sk-toggleable__content fitted\"><pre>RobustScaler()</pre></div> </div></div></div></div></div></div></div></div></div></div></div>"
      ],
      "text/plain": [
       "ColumnTransformer(transformers=[('num',\n",
       "                                 Pipeline(steps=[('scaling', RobustScaler())]),\n",
       "                                 ['house_age',\n",
       "                                  'distance_to_the_nearest_mrt_station']),\n",
       "                                ('cat',\n",
       "                                 Pipeline(steps=[('ordinal', OneHotEncoder())]),\n",
       "                                 ['transaction_date']),\n",
       "                                ('geo',\n",
       "                                 ClusterSimilarity(gamma=0.1, n_clusters=5),\n",
       "                                 ['latitude', 'longitude']),\n",
       "                                ('log',\n",
       "                                 Pipeline(steps=[('log',\n",
       "                                                  FunctionTransformer(feature_names_out='one-to-one',\n",
       "                                                                      func=<ufunc 'log1p'>)),\n",
       "                                                 ('scaling', RobustScaler())]),\n",
       "                                 ['distance_to_the_nearest_mrt_station'])])"
      ]
     },
     "execution_count": 142,
     "metadata": {},
     "output_type": "execute_result"
    }
   ],
   "source": [
    "def log_transformer():\n",
    "    return FunctionTransformer(\n",
    "        np.log1p,\n",
    "        feature_names_out='one-to-one'\n",
    "    )\n",
    "\n",
    "num_pl = Pipeline(steps=[\n",
    "    ('scaling',RobustScaler())\n",
    "])\n",
    "\n",
    "cat_pl = Pipeline(steps=[\n",
    "    ('ordinal', OneHotEncoder())\n",
    "])\n",
    "\n",
    "preprocessor = ColumnTransformer(transformers=[\n",
    "    ('num', num_pl, ['house_age', 'distance_to_the_nearest_mrt_station']),\n",
    "    ('cat', cat_pl, ['transaction_date']),\n",
    "    ('geo', ClusterSimilarity(n_clusters=5, gamma=0.1), ['latitude', 'longitude']),\n",
    "    ('log', Pipeline(steps=[\n",
    "            ('log', log_transformer()),\n",
    "            ('scaling', RobustScaler())\n",
    "        ]), ['distance_to_the_nearest_mrt_station'])\n",
    "])\n",
    "\n",
    "preprocessor.fit(Xtrain)"
   ]
  },
  {
   "cell_type": "code",
   "execution_count": null,
   "metadata": {},
   "outputs": [
    {
     "data": {
      "text/plain": [
       "array(['num__house_age', 'num__distance_to_the_nearest_mrt_station',\n",
       "       'cat__transaction_date_2012', 'cat__transaction_date_2013',\n",
       "       'geo__Cluster 0 similarity', 'geo__Cluster 1 similarity',\n",
       "       'geo__Cluster 2 similarity', 'geo__Cluster 3 similarity',\n",
       "       'geo__Cluster 4 similarity',\n",
       "       'log__distance_to_the_nearest_mrt_station'], dtype=object)"
      ]
     },
     "execution_count": 143,
     "metadata": {},
     "output_type": "execute_result"
    }
   ],
   "source": [
    "preprocessor.get_feature_names_out()"
   ]
  },
  {
   "cell_type": "code",
   "execution_count": null,
   "metadata": {},
   "outputs": [],
   "source": [
    "full_pipeline = Pipeline(steps=[\n",
    "    ('preprocessor', preprocessor),  \n",
    "    ('model', XGBRegressor(enable_categorical=True))\n",
    "])"
   ]
  },
  {
   "cell_type": "code",
   "execution_count": null,
   "metadata": {},
   "outputs": [
    {
     "data": {
      "text/html": [
       "<div>\n",
       "<style scoped>\n",
       "    .dataframe tbody tr th:only-of-type {\n",
       "        vertical-align: middle;\n",
       "    }\n",
       "\n",
       "    .dataframe tbody tr th {\n",
       "        vertical-align: top;\n",
       "    }\n",
       "\n",
       "    .dataframe thead th {\n",
       "        text-align: right;\n",
       "    }\n",
       "</style>\n",
       "<table border=\"1\" class=\"dataframe\">\n",
       "  <thead>\n",
       "    <tr style=\"text-align: right;\">\n",
       "      <th></th>\n",
       "      <th>transaction_date</th>\n",
       "      <th>house_age</th>\n",
       "      <th>distance_to_the_nearest_mrt_station</th>\n",
       "      <th>number_of_convenience_stores</th>\n",
       "      <th>latitude</th>\n",
       "      <th>longitude</th>\n",
       "    </tr>\n",
       "  </thead>\n",
       "  <tbody>\n",
       "    <tr>\n",
       "      <th>115</th>\n",
       "      <td>2013</td>\n",
       "      <td>20.6</td>\n",
       "      <td>737.9161</td>\n",
       "      <td>2</td>\n",
       "      <td>24.98092</td>\n",
       "      <td>121.54739</td>\n",
       "    </tr>\n",
       "    <tr>\n",
       "      <th>174</th>\n",
       "      <td>2013</td>\n",
       "      <td>4.3</td>\n",
       "      <td>432.0385</td>\n",
       "      <td>7</td>\n",
       "      <td>24.98050</td>\n",
       "      <td>121.53778</td>\n",
       "    </tr>\n",
       "    <tr>\n",
       "      <th>16</th>\n",
       "      <td>2013</td>\n",
       "      <td>0.0</td>\n",
       "      <td>292.9978</td>\n",
       "      <td>6</td>\n",
       "      <td>24.97744</td>\n",
       "      <td>121.54458</td>\n",
       "    </tr>\n",
       "    <tr>\n",
       "      <th>298</th>\n",
       "      <td>2013</td>\n",
       "      <td>16.7</td>\n",
       "      <td>4082.0150</td>\n",
       "      <td>0</td>\n",
       "      <td>24.94155</td>\n",
       "      <td>121.50381</td>\n",
       "    </tr>\n",
       "    <tr>\n",
       "      <th>412</th>\n",
       "      <td>2013</td>\n",
       "      <td>8.1</td>\n",
       "      <td>104.8101</td>\n",
       "      <td>5</td>\n",
       "      <td>24.96674</td>\n",
       "      <td>121.54067</td>\n",
       "    </tr>\n",
       "    <tr>\n",
       "      <th>...</th>\n",
       "      <td>...</td>\n",
       "      <td>...</td>\n",
       "      <td>...</td>\n",
       "      <td>...</td>\n",
       "      <td>...</td>\n",
       "      <td>...</td>\n",
       "    </tr>\n",
       "    <tr>\n",
       "      <th>71</th>\n",
       "      <td>2013</td>\n",
       "      <td>35.5</td>\n",
       "      <td>640.7391</td>\n",
       "      <td>3</td>\n",
       "      <td>24.97563</td>\n",
       "      <td>121.53715</td>\n",
       "    </tr>\n",
       "    <tr>\n",
       "      <th>177</th>\n",
       "      <td>2013</td>\n",
       "      <td>33.0</td>\n",
       "      <td>181.0766</td>\n",
       "      <td>9</td>\n",
       "      <td>24.97697</td>\n",
       "      <td>121.54262</td>\n",
       "    </tr>\n",
       "    <tr>\n",
       "      <th>124</th>\n",
       "      <td>2012</td>\n",
       "      <td>9.9</td>\n",
       "      <td>279.1726</td>\n",
       "      <td>7</td>\n",
       "      <td>24.97528</td>\n",
       "      <td>121.54541</td>\n",
       "    </tr>\n",
       "    <tr>\n",
       "      <th>389</th>\n",
       "      <td>2013</td>\n",
       "      <td>40.9</td>\n",
       "      <td>122.3619</td>\n",
       "      <td>8</td>\n",
       "      <td>24.96756</td>\n",
       "      <td>121.54230</td>\n",
       "    </tr>\n",
       "    <tr>\n",
       "      <th>12</th>\n",
       "      <td>2012</td>\n",
       "      <td>13.0</td>\n",
       "      <td>492.2313</td>\n",
       "      <td>5</td>\n",
       "      <td>24.96515</td>\n",
       "      <td>121.53737</td>\n",
       "    </tr>\n",
       "  </tbody>\n",
       "</table>\n",
       "<p>297 rows × 6 columns</p>\n",
       "</div>"
      ],
      "text/plain": [
       "     transaction_date  house_age  distance_to_the_nearest_mrt_station  \\\n",
       "115              2013       20.6                             737.9161   \n",
       "174              2013        4.3                             432.0385   \n",
       "16               2013        0.0                             292.9978   \n",
       "298              2013       16.7                            4082.0150   \n",
       "412              2013        8.1                             104.8101   \n",
       "..                ...        ...                                  ...   \n",
       "71               2013       35.5                             640.7391   \n",
       "177              2013       33.0                             181.0766   \n",
       "124              2012        9.9                             279.1726   \n",
       "389              2013       40.9                             122.3619   \n",
       "12               2012       13.0                             492.2313   \n",
       "\n",
       "     number_of_convenience_stores  latitude  longitude  \n",
       "115                             2  24.98092  121.54739  \n",
       "174                             7  24.98050  121.53778  \n",
       "16                              6  24.97744  121.54458  \n",
       "298                             0  24.94155  121.50381  \n",
       "412                             5  24.96674  121.54067  \n",
       "..                            ...       ...        ...  \n",
       "71                              3  24.97563  121.53715  \n",
       "177                             9  24.97697  121.54262  \n",
       "124                             7  24.97528  121.54541  \n",
       "389                             8  24.96756  121.54230  \n",
       "12                              5  24.96515  121.53737  \n",
       "\n",
       "[297 rows x 6 columns]"
      ]
     },
     "execution_count": 145,
     "metadata": {},
     "output_type": "execute_result"
    }
   ],
   "source": [
    "Xtrain"
   ]
  },
  {
   "cell_type": "code",
   "execution_count": null,
   "metadata": {},
   "outputs": [
    {
     "data": {
      "text/html": [
       "<style>#sk-container-id-10 {\n",
       "  /* Definition of color scheme common for light and dark mode */\n",
       "  --sklearn-color-text: black;\n",
       "  --sklearn-color-line: gray;\n",
       "  /* Definition of color scheme for unfitted estimators */\n",
       "  --sklearn-color-unfitted-level-0: #fff5e6;\n",
       "  --sklearn-color-unfitted-level-1: #f6e4d2;\n",
       "  --sklearn-color-unfitted-level-2: #ffe0b3;\n",
       "  --sklearn-color-unfitted-level-3: chocolate;\n",
       "  /* Definition of color scheme for fitted estimators */\n",
       "  --sklearn-color-fitted-level-0: #f0f8ff;\n",
       "  --sklearn-color-fitted-level-1: #d4ebff;\n",
       "  --sklearn-color-fitted-level-2: #b3dbfd;\n",
       "  --sklearn-color-fitted-level-3: cornflowerblue;\n",
       "\n",
       "  /* Specific color for light theme */\n",
       "  --sklearn-color-text-on-default-background: var(--sg-text-color, var(--theme-code-foreground, var(--jp-content-font-color1, black)));\n",
       "  --sklearn-color-background: var(--sg-background-color, var(--theme-background, var(--jp-layout-color0, white)));\n",
       "  --sklearn-color-border-box: var(--sg-text-color, var(--theme-code-foreground, var(--jp-content-font-color1, black)));\n",
       "  --sklearn-color-icon: #696969;\n",
       "\n",
       "  @media (prefers-color-scheme: dark) {\n",
       "    /* Redefinition of color scheme for dark theme */\n",
       "    --sklearn-color-text-on-default-background: var(--sg-text-color, var(--theme-code-foreground, var(--jp-content-font-color1, white)));\n",
       "    --sklearn-color-background: var(--sg-background-color, var(--theme-background, var(--jp-layout-color0, #111)));\n",
       "    --sklearn-color-border-box: var(--sg-text-color, var(--theme-code-foreground, var(--jp-content-font-color1, white)));\n",
       "    --sklearn-color-icon: #878787;\n",
       "  }\n",
       "}\n",
       "\n",
       "#sk-container-id-10 {\n",
       "  color: var(--sklearn-color-text);\n",
       "}\n",
       "\n",
       "#sk-container-id-10 pre {\n",
       "  padding: 0;\n",
       "}\n",
       "\n",
       "#sk-container-id-10 input.sk-hidden--visually {\n",
       "  border: 0;\n",
       "  clip: rect(1px 1px 1px 1px);\n",
       "  clip: rect(1px, 1px, 1px, 1px);\n",
       "  height: 1px;\n",
       "  margin: -1px;\n",
       "  overflow: hidden;\n",
       "  padding: 0;\n",
       "  position: absolute;\n",
       "  width: 1px;\n",
       "}\n",
       "\n",
       "#sk-container-id-10 div.sk-dashed-wrapped {\n",
       "  border: 1px dashed var(--sklearn-color-line);\n",
       "  margin: 0 0.4em 0.5em 0.4em;\n",
       "  box-sizing: border-box;\n",
       "  padding-bottom: 0.4em;\n",
       "  background-color: var(--sklearn-color-background);\n",
       "}\n",
       "\n",
       "#sk-container-id-10 div.sk-container {\n",
       "  /* jupyter's `normalize.less` sets `[hidden] { display: none; }`\n",
       "     but bootstrap.min.css set `[hidden] { display: none !important; }`\n",
       "     so we also need the `!important` here to be able to override the\n",
       "     default hidden behavior on the sphinx rendered scikit-learn.org.\n",
       "     See: https://github.com/scikit-learn/scikit-learn/issues/21755 */\n",
       "  display: inline-block !important;\n",
       "  position: relative;\n",
       "}\n",
       "\n",
       "#sk-container-id-10 div.sk-text-repr-fallback {\n",
       "  display: none;\n",
       "}\n",
       "\n",
       "div.sk-parallel-item,\n",
       "div.sk-serial,\n",
       "div.sk-item {\n",
       "  /* draw centered vertical line to link estimators */\n",
       "  background-image: linear-gradient(var(--sklearn-color-text-on-default-background), var(--sklearn-color-text-on-default-background));\n",
       "  background-size: 2px 100%;\n",
       "  background-repeat: no-repeat;\n",
       "  background-position: center center;\n",
       "}\n",
       "\n",
       "/* Parallel-specific style estimator block */\n",
       "\n",
       "#sk-container-id-10 div.sk-parallel-item::after {\n",
       "  content: \"\";\n",
       "  width: 100%;\n",
       "  border-bottom: 2px solid var(--sklearn-color-text-on-default-background);\n",
       "  flex-grow: 1;\n",
       "}\n",
       "\n",
       "#sk-container-id-10 div.sk-parallel {\n",
       "  display: flex;\n",
       "  align-items: stretch;\n",
       "  justify-content: center;\n",
       "  background-color: var(--sklearn-color-background);\n",
       "  position: relative;\n",
       "}\n",
       "\n",
       "#sk-container-id-10 div.sk-parallel-item {\n",
       "  display: flex;\n",
       "  flex-direction: column;\n",
       "}\n",
       "\n",
       "#sk-container-id-10 div.sk-parallel-item:first-child::after {\n",
       "  align-self: flex-end;\n",
       "  width: 50%;\n",
       "}\n",
       "\n",
       "#sk-container-id-10 div.sk-parallel-item:last-child::after {\n",
       "  align-self: flex-start;\n",
       "  width: 50%;\n",
       "}\n",
       "\n",
       "#sk-container-id-10 div.sk-parallel-item:only-child::after {\n",
       "  width: 0;\n",
       "}\n",
       "\n",
       "/* Serial-specific style estimator block */\n",
       "\n",
       "#sk-container-id-10 div.sk-serial {\n",
       "  display: flex;\n",
       "  flex-direction: column;\n",
       "  align-items: center;\n",
       "  background-color: var(--sklearn-color-background);\n",
       "  padding-right: 1em;\n",
       "  padding-left: 1em;\n",
       "}\n",
       "\n",
       "\n",
       "/* Toggleable style: style used for estimator/Pipeline/ColumnTransformer box that is\n",
       "clickable and can be expanded/collapsed.\n",
       "- Pipeline and ColumnTransformer use this feature and define the default style\n",
       "- Estimators will overwrite some part of the style using the `sk-estimator` class\n",
       "*/\n",
       "\n",
       "/* Pipeline and ColumnTransformer style (default) */\n",
       "\n",
       "#sk-container-id-10 div.sk-toggleable {\n",
       "  /* Default theme specific background. It is overwritten whether we have a\n",
       "  specific estimator or a Pipeline/ColumnTransformer */\n",
       "  background-color: var(--sklearn-color-background);\n",
       "}\n",
       "\n",
       "/* Toggleable label */\n",
       "#sk-container-id-10 label.sk-toggleable__label {\n",
       "  cursor: pointer;\n",
       "  display: block;\n",
       "  width: 100%;\n",
       "  margin-bottom: 0;\n",
       "  padding: 0.5em;\n",
       "  box-sizing: border-box;\n",
       "  text-align: center;\n",
       "}\n",
       "\n",
       "#sk-container-id-10 label.sk-toggleable__label-arrow:before {\n",
       "  /* Arrow on the left of the label */\n",
       "  content: \"▸\";\n",
       "  float: left;\n",
       "  margin-right: 0.25em;\n",
       "  color: var(--sklearn-color-icon);\n",
       "}\n",
       "\n",
       "#sk-container-id-10 label.sk-toggleable__label-arrow:hover:before {\n",
       "  color: var(--sklearn-color-text);\n",
       "}\n",
       "\n",
       "/* Toggleable content - dropdown */\n",
       "\n",
       "#sk-container-id-10 div.sk-toggleable__content {\n",
       "  max-height: 0;\n",
       "  max-width: 0;\n",
       "  overflow: hidden;\n",
       "  text-align: left;\n",
       "  /* unfitted */\n",
       "  background-color: var(--sklearn-color-unfitted-level-0);\n",
       "}\n",
       "\n",
       "#sk-container-id-10 div.sk-toggleable__content.fitted {\n",
       "  /* fitted */\n",
       "  background-color: var(--sklearn-color-fitted-level-0);\n",
       "}\n",
       "\n",
       "#sk-container-id-10 div.sk-toggleable__content pre {\n",
       "  margin: 0.2em;\n",
       "  border-radius: 0.25em;\n",
       "  color: var(--sklearn-color-text);\n",
       "  /* unfitted */\n",
       "  background-color: var(--sklearn-color-unfitted-level-0);\n",
       "}\n",
       "\n",
       "#sk-container-id-10 div.sk-toggleable__content.fitted pre {\n",
       "  /* unfitted */\n",
       "  background-color: var(--sklearn-color-fitted-level-0);\n",
       "}\n",
       "\n",
       "#sk-container-id-10 input.sk-toggleable__control:checked~div.sk-toggleable__content {\n",
       "  /* Expand drop-down */\n",
       "  max-height: 200px;\n",
       "  max-width: 100%;\n",
       "  overflow: auto;\n",
       "}\n",
       "\n",
       "#sk-container-id-10 input.sk-toggleable__control:checked~label.sk-toggleable__label-arrow:before {\n",
       "  content: \"▾\";\n",
       "}\n",
       "\n",
       "/* Pipeline/ColumnTransformer-specific style */\n",
       "\n",
       "#sk-container-id-10 div.sk-label input.sk-toggleable__control:checked~label.sk-toggleable__label {\n",
       "  color: var(--sklearn-color-text);\n",
       "  background-color: var(--sklearn-color-unfitted-level-2);\n",
       "}\n",
       "\n",
       "#sk-container-id-10 div.sk-label.fitted input.sk-toggleable__control:checked~label.sk-toggleable__label {\n",
       "  background-color: var(--sklearn-color-fitted-level-2);\n",
       "}\n",
       "\n",
       "/* Estimator-specific style */\n",
       "\n",
       "/* Colorize estimator box */\n",
       "#sk-container-id-10 div.sk-estimator input.sk-toggleable__control:checked~label.sk-toggleable__label {\n",
       "  /* unfitted */\n",
       "  background-color: var(--sklearn-color-unfitted-level-2);\n",
       "}\n",
       "\n",
       "#sk-container-id-10 div.sk-estimator.fitted input.sk-toggleable__control:checked~label.sk-toggleable__label {\n",
       "  /* fitted */\n",
       "  background-color: var(--sklearn-color-fitted-level-2);\n",
       "}\n",
       "\n",
       "#sk-container-id-10 div.sk-label label.sk-toggleable__label,\n",
       "#sk-container-id-10 div.sk-label label {\n",
       "  /* The background is the default theme color */\n",
       "  color: var(--sklearn-color-text-on-default-background);\n",
       "}\n",
       "\n",
       "/* On hover, darken the color of the background */\n",
       "#sk-container-id-10 div.sk-label:hover label.sk-toggleable__label {\n",
       "  color: var(--sklearn-color-text);\n",
       "  background-color: var(--sklearn-color-unfitted-level-2);\n",
       "}\n",
       "\n",
       "/* Label box, darken color on hover, fitted */\n",
       "#sk-container-id-10 div.sk-label.fitted:hover label.sk-toggleable__label.fitted {\n",
       "  color: var(--sklearn-color-text);\n",
       "  background-color: var(--sklearn-color-fitted-level-2);\n",
       "}\n",
       "\n",
       "/* Estimator label */\n",
       "\n",
       "#sk-container-id-10 div.sk-label label {\n",
       "  font-family: monospace;\n",
       "  font-weight: bold;\n",
       "  display: inline-block;\n",
       "  line-height: 1.2em;\n",
       "}\n",
       "\n",
       "#sk-container-id-10 div.sk-label-container {\n",
       "  text-align: center;\n",
       "}\n",
       "\n",
       "/* Estimator-specific */\n",
       "#sk-container-id-10 div.sk-estimator {\n",
       "  font-family: monospace;\n",
       "  border: 1px dotted var(--sklearn-color-border-box);\n",
       "  border-radius: 0.25em;\n",
       "  box-sizing: border-box;\n",
       "  margin-bottom: 0.5em;\n",
       "  /* unfitted */\n",
       "  background-color: var(--sklearn-color-unfitted-level-0);\n",
       "}\n",
       "\n",
       "#sk-container-id-10 div.sk-estimator.fitted {\n",
       "  /* fitted */\n",
       "  background-color: var(--sklearn-color-fitted-level-0);\n",
       "}\n",
       "\n",
       "/* on hover */\n",
       "#sk-container-id-10 div.sk-estimator:hover {\n",
       "  /* unfitted */\n",
       "  background-color: var(--sklearn-color-unfitted-level-2);\n",
       "}\n",
       "\n",
       "#sk-container-id-10 div.sk-estimator.fitted:hover {\n",
       "  /* fitted */\n",
       "  background-color: var(--sklearn-color-fitted-level-2);\n",
       "}\n",
       "\n",
       "/* Specification for estimator info (e.g. \"i\" and \"?\") */\n",
       "\n",
       "/* Common style for \"i\" and \"?\" */\n",
       "\n",
       ".sk-estimator-doc-link,\n",
       "a:link.sk-estimator-doc-link,\n",
       "a:visited.sk-estimator-doc-link {\n",
       "  float: right;\n",
       "  font-size: smaller;\n",
       "  line-height: 1em;\n",
       "  font-family: monospace;\n",
       "  background-color: var(--sklearn-color-background);\n",
       "  border-radius: 1em;\n",
       "  height: 1em;\n",
       "  width: 1em;\n",
       "  text-decoration: none !important;\n",
       "  margin-left: 1ex;\n",
       "  /* unfitted */\n",
       "  border: var(--sklearn-color-unfitted-level-1) 1pt solid;\n",
       "  color: var(--sklearn-color-unfitted-level-1);\n",
       "}\n",
       "\n",
       ".sk-estimator-doc-link.fitted,\n",
       "a:link.sk-estimator-doc-link.fitted,\n",
       "a:visited.sk-estimator-doc-link.fitted {\n",
       "  /* fitted */\n",
       "  border: var(--sklearn-color-fitted-level-1) 1pt solid;\n",
       "  color: var(--sklearn-color-fitted-level-1);\n",
       "}\n",
       "\n",
       "/* On hover */\n",
       "div.sk-estimator:hover .sk-estimator-doc-link:hover,\n",
       ".sk-estimator-doc-link:hover,\n",
       "div.sk-label-container:hover .sk-estimator-doc-link:hover,\n",
       ".sk-estimator-doc-link:hover {\n",
       "  /* unfitted */\n",
       "  background-color: var(--sklearn-color-unfitted-level-3);\n",
       "  color: var(--sklearn-color-background);\n",
       "  text-decoration: none;\n",
       "}\n",
       "\n",
       "div.sk-estimator.fitted:hover .sk-estimator-doc-link.fitted:hover,\n",
       ".sk-estimator-doc-link.fitted:hover,\n",
       "div.sk-label-container:hover .sk-estimator-doc-link.fitted:hover,\n",
       ".sk-estimator-doc-link.fitted:hover {\n",
       "  /* fitted */\n",
       "  background-color: var(--sklearn-color-fitted-level-3);\n",
       "  color: var(--sklearn-color-background);\n",
       "  text-decoration: none;\n",
       "}\n",
       "\n",
       "/* Span, style for the box shown on hovering the info icon */\n",
       ".sk-estimator-doc-link span {\n",
       "  display: none;\n",
       "  z-index: 9999;\n",
       "  position: relative;\n",
       "  font-weight: normal;\n",
       "  right: .2ex;\n",
       "  padding: .5ex;\n",
       "  margin: .5ex;\n",
       "  width: min-content;\n",
       "  min-width: 20ex;\n",
       "  max-width: 50ex;\n",
       "  color: var(--sklearn-color-text);\n",
       "  box-shadow: 2pt 2pt 4pt #999;\n",
       "  /* unfitted */\n",
       "  background: var(--sklearn-color-unfitted-level-0);\n",
       "  border: .5pt solid var(--sklearn-color-unfitted-level-3);\n",
       "}\n",
       "\n",
       ".sk-estimator-doc-link.fitted span {\n",
       "  /* fitted */\n",
       "  background: var(--sklearn-color-fitted-level-0);\n",
       "  border: var(--sklearn-color-fitted-level-3);\n",
       "}\n",
       "\n",
       ".sk-estimator-doc-link:hover span {\n",
       "  display: block;\n",
       "}\n",
       "\n",
       "/* \"?\"-specific style due to the `<a>` HTML tag */\n",
       "\n",
       "#sk-container-id-10 a.estimator_doc_link {\n",
       "  float: right;\n",
       "  font-size: 1rem;\n",
       "  line-height: 1em;\n",
       "  font-family: monospace;\n",
       "  background-color: var(--sklearn-color-background);\n",
       "  border-radius: 1rem;\n",
       "  height: 1rem;\n",
       "  width: 1rem;\n",
       "  text-decoration: none;\n",
       "  /* unfitted */\n",
       "  color: var(--sklearn-color-unfitted-level-1);\n",
       "  border: var(--sklearn-color-unfitted-level-1) 1pt solid;\n",
       "}\n",
       "\n",
       "#sk-container-id-10 a.estimator_doc_link.fitted {\n",
       "  /* fitted */\n",
       "  border: var(--sklearn-color-fitted-level-1) 1pt solid;\n",
       "  color: var(--sklearn-color-fitted-level-1);\n",
       "}\n",
       "\n",
       "/* On hover */\n",
       "#sk-container-id-10 a.estimator_doc_link:hover {\n",
       "  /* unfitted */\n",
       "  background-color: var(--sklearn-color-unfitted-level-3);\n",
       "  color: var(--sklearn-color-background);\n",
       "  text-decoration: none;\n",
       "}\n",
       "\n",
       "#sk-container-id-10 a.estimator_doc_link.fitted:hover {\n",
       "  /* fitted */\n",
       "  background-color: var(--sklearn-color-fitted-level-3);\n",
       "}\n",
       "</style><div id=\"sk-container-id-10\" class=\"sk-top-container\"><div class=\"sk-text-repr-fallback\"><pre>Pipeline(steps=[(&#x27;preprocessor&#x27;,\n",
       "                 ColumnTransformer(transformers=[(&#x27;num&#x27;,\n",
       "                                                  Pipeline(steps=[(&#x27;scaling&#x27;,\n",
       "                                                                   RobustScaler())]),\n",
       "                                                  [&#x27;house_age&#x27;,\n",
       "                                                   &#x27;distance_to_the_nearest_mrt_station&#x27;]),\n",
       "                                                 (&#x27;cat&#x27;,\n",
       "                                                  Pipeline(steps=[(&#x27;ordinal&#x27;,\n",
       "                                                                   OneHotEncoder())]),\n",
       "                                                  [&#x27;transaction_date&#x27;]),\n",
       "                                                 (&#x27;geo&#x27;,\n",
       "                                                  ClusterSimilarity(gamma=0.1,\n",
       "                                                                    n_clusters=5),\n",
       "                                                  [&#x27;latitude&#x27;, &#x27;longitude&#x27;]),\n",
       "                                                 (&#x27;log&#x27;,\n",
       "                                                  Pipeline(steps=[(&#x27;log&#x27;,\n",
       "                                                                   F...\n",
       "                              feature_types=None, gamma=None, grow_policy=None,\n",
       "                              importance_type=None,\n",
       "                              interaction_constraints=None, learning_rate=None,\n",
       "                              max_bin=None, max_cat_threshold=None,\n",
       "                              max_cat_to_onehot=None, max_delta_step=None,\n",
       "                              max_depth=None, max_leaves=None,\n",
       "                              min_child_weight=None, missing=nan,\n",
       "                              monotone_constraints=None, multi_strategy=None,\n",
       "                              n_estimators=None, n_jobs=None,\n",
       "                              num_parallel_tree=None, random_state=None, ...))])</pre><b>In a Jupyter environment, please rerun this cell to show the HTML representation or trust the notebook. <br />On GitHub, the HTML representation is unable to render, please try loading this page with nbviewer.org.</b></div><div class=\"sk-container\" hidden><div class=\"sk-item sk-dashed-wrapped\"><div class=\"sk-label-container\"><div class=\"sk-label fitted sk-toggleable\"><input class=\"sk-toggleable__control sk-hidden--visually\" id=\"sk-estimator-id-85\" type=\"checkbox\" ><label for=\"sk-estimator-id-85\" class=\"sk-toggleable__label fitted sk-toggleable__label-arrow fitted\">&nbsp;&nbsp;Pipeline<a class=\"sk-estimator-doc-link fitted\" rel=\"noreferrer\" target=\"_blank\" href=\"https://scikit-learn.org/1.5/modules/generated/sklearn.pipeline.Pipeline.html\">?<span>Documentation for Pipeline</span></a><span class=\"sk-estimator-doc-link fitted\">i<span>Fitted</span></span></label><div class=\"sk-toggleable__content fitted\"><pre>Pipeline(steps=[(&#x27;preprocessor&#x27;,\n",
       "                 ColumnTransformer(transformers=[(&#x27;num&#x27;,\n",
       "                                                  Pipeline(steps=[(&#x27;scaling&#x27;,\n",
       "                                                                   RobustScaler())]),\n",
       "                                                  [&#x27;house_age&#x27;,\n",
       "                                                   &#x27;distance_to_the_nearest_mrt_station&#x27;]),\n",
       "                                                 (&#x27;cat&#x27;,\n",
       "                                                  Pipeline(steps=[(&#x27;ordinal&#x27;,\n",
       "                                                                   OneHotEncoder())]),\n",
       "                                                  [&#x27;transaction_date&#x27;]),\n",
       "                                                 (&#x27;geo&#x27;,\n",
       "                                                  ClusterSimilarity(gamma=0.1,\n",
       "                                                                    n_clusters=5),\n",
       "                                                  [&#x27;latitude&#x27;, &#x27;longitude&#x27;]),\n",
       "                                                 (&#x27;log&#x27;,\n",
       "                                                  Pipeline(steps=[(&#x27;log&#x27;,\n",
       "                                                                   F...\n",
       "                              feature_types=None, gamma=None, grow_policy=None,\n",
       "                              importance_type=None,\n",
       "                              interaction_constraints=None, learning_rate=None,\n",
       "                              max_bin=None, max_cat_threshold=None,\n",
       "                              max_cat_to_onehot=None, max_delta_step=None,\n",
       "                              max_depth=None, max_leaves=None,\n",
       "                              min_child_weight=None, missing=nan,\n",
       "                              monotone_constraints=None, multi_strategy=None,\n",
       "                              n_estimators=None, n_jobs=None,\n",
       "                              num_parallel_tree=None, random_state=None, ...))])</pre></div> </div></div><div class=\"sk-serial\"><div class=\"sk-item sk-dashed-wrapped\"><div class=\"sk-label-container\"><div class=\"sk-label fitted sk-toggleable\"><input class=\"sk-toggleable__control sk-hidden--visually\" id=\"sk-estimator-id-86\" type=\"checkbox\" ><label for=\"sk-estimator-id-86\" class=\"sk-toggleable__label fitted sk-toggleable__label-arrow fitted\">&nbsp;preprocessor: ColumnTransformer<a class=\"sk-estimator-doc-link fitted\" rel=\"noreferrer\" target=\"_blank\" href=\"https://scikit-learn.org/1.5/modules/generated/sklearn.compose.ColumnTransformer.html\">?<span>Documentation for preprocessor: ColumnTransformer</span></a></label><div class=\"sk-toggleable__content fitted\"><pre>ColumnTransformer(transformers=[(&#x27;num&#x27;,\n",
       "                                 Pipeline(steps=[(&#x27;scaling&#x27;, RobustScaler())]),\n",
       "                                 [&#x27;house_age&#x27;,\n",
       "                                  &#x27;distance_to_the_nearest_mrt_station&#x27;]),\n",
       "                                (&#x27;cat&#x27;,\n",
       "                                 Pipeline(steps=[(&#x27;ordinal&#x27;, OneHotEncoder())]),\n",
       "                                 [&#x27;transaction_date&#x27;]),\n",
       "                                (&#x27;geo&#x27;,\n",
       "                                 ClusterSimilarity(gamma=0.1, n_clusters=5),\n",
       "                                 [&#x27;latitude&#x27;, &#x27;longitude&#x27;]),\n",
       "                                (&#x27;log&#x27;,\n",
       "                                 Pipeline(steps=[(&#x27;log&#x27;,\n",
       "                                                  FunctionTransformer(feature_names_out=&#x27;one-to-one&#x27;,\n",
       "                                                                      func=&lt;ufunc &#x27;log1p&#x27;&gt;)),\n",
       "                                                 (&#x27;scaling&#x27;, RobustScaler())]),\n",
       "                                 [&#x27;distance_to_the_nearest_mrt_station&#x27;])])</pre></div> </div></div><div class=\"sk-parallel\"><div class=\"sk-parallel-item\"><div class=\"sk-item\"><div class=\"sk-label-container\"><div class=\"sk-label fitted sk-toggleable\"><input class=\"sk-toggleable__control sk-hidden--visually\" id=\"sk-estimator-id-87\" type=\"checkbox\" ><label for=\"sk-estimator-id-87\" class=\"sk-toggleable__label fitted sk-toggleable__label-arrow fitted\">num</label><div class=\"sk-toggleable__content fitted\"><pre>[&#x27;house_age&#x27;, &#x27;distance_to_the_nearest_mrt_station&#x27;]</pre></div> </div></div><div class=\"sk-serial\"><div class=\"sk-item\"><div class=\"sk-serial\"><div class=\"sk-item\"><div class=\"sk-estimator fitted sk-toggleable\"><input class=\"sk-toggleable__control sk-hidden--visually\" id=\"sk-estimator-id-88\" type=\"checkbox\" ><label for=\"sk-estimator-id-88\" class=\"sk-toggleable__label fitted sk-toggleable__label-arrow fitted\">&nbsp;RobustScaler<a class=\"sk-estimator-doc-link fitted\" rel=\"noreferrer\" target=\"_blank\" href=\"https://scikit-learn.org/1.5/modules/generated/sklearn.preprocessing.RobustScaler.html\">?<span>Documentation for RobustScaler</span></a></label><div class=\"sk-toggleable__content fitted\"><pre>RobustScaler()</pre></div> </div></div></div></div></div></div></div><div class=\"sk-parallel-item\"><div class=\"sk-item\"><div class=\"sk-label-container\"><div class=\"sk-label fitted sk-toggleable\"><input class=\"sk-toggleable__control sk-hidden--visually\" id=\"sk-estimator-id-89\" type=\"checkbox\" ><label for=\"sk-estimator-id-89\" class=\"sk-toggleable__label fitted sk-toggleable__label-arrow fitted\">cat</label><div class=\"sk-toggleable__content fitted\"><pre>[&#x27;transaction_date&#x27;]</pre></div> </div></div><div class=\"sk-serial\"><div class=\"sk-item\"><div class=\"sk-serial\"><div class=\"sk-item\"><div class=\"sk-estimator fitted sk-toggleable\"><input class=\"sk-toggleable__control sk-hidden--visually\" id=\"sk-estimator-id-90\" type=\"checkbox\" ><label for=\"sk-estimator-id-90\" class=\"sk-toggleable__label fitted sk-toggleable__label-arrow fitted\">&nbsp;OneHotEncoder<a class=\"sk-estimator-doc-link fitted\" rel=\"noreferrer\" target=\"_blank\" href=\"https://scikit-learn.org/1.5/modules/generated/sklearn.preprocessing.OneHotEncoder.html\">?<span>Documentation for OneHotEncoder</span></a></label><div class=\"sk-toggleable__content fitted\"><pre>OneHotEncoder()</pre></div> </div></div></div></div></div></div></div><div class=\"sk-parallel-item\"><div class=\"sk-item\"><div class=\"sk-label-container\"><div class=\"sk-label fitted sk-toggleable\"><input class=\"sk-toggleable__control sk-hidden--visually\" id=\"sk-estimator-id-91\" type=\"checkbox\" ><label for=\"sk-estimator-id-91\" class=\"sk-toggleable__label fitted sk-toggleable__label-arrow fitted\">geo</label><div class=\"sk-toggleable__content fitted\"><pre>[&#x27;latitude&#x27;, &#x27;longitude&#x27;]</pre></div> </div></div><div class=\"sk-serial\"><div class=\"sk-item\"><div class=\"sk-estimator fitted sk-toggleable\"><input class=\"sk-toggleable__control sk-hidden--visually\" id=\"sk-estimator-id-92\" type=\"checkbox\" ><label for=\"sk-estimator-id-92\" class=\"sk-toggleable__label fitted sk-toggleable__label-arrow fitted\">ClusterSimilarity</label><div class=\"sk-toggleable__content fitted\"><pre>ClusterSimilarity(gamma=0.1, n_clusters=5)</pre></div> </div></div></div></div></div><div class=\"sk-parallel-item\"><div class=\"sk-item\"><div class=\"sk-label-container\"><div class=\"sk-label fitted sk-toggleable\"><input class=\"sk-toggleable__control sk-hidden--visually\" id=\"sk-estimator-id-93\" type=\"checkbox\" ><label for=\"sk-estimator-id-93\" class=\"sk-toggleable__label fitted sk-toggleable__label-arrow fitted\">log</label><div class=\"sk-toggleable__content fitted\"><pre>[&#x27;distance_to_the_nearest_mrt_station&#x27;]</pre></div> </div></div><div class=\"sk-serial\"><div class=\"sk-item\"><div class=\"sk-serial\"><div class=\"sk-item\"><div class=\"sk-estimator fitted sk-toggleable\"><input class=\"sk-toggleable__control sk-hidden--visually\" id=\"sk-estimator-id-94\" type=\"checkbox\" ><label for=\"sk-estimator-id-94\" class=\"sk-toggleable__label fitted sk-toggleable__label-arrow fitted\">&nbsp;FunctionTransformer<a class=\"sk-estimator-doc-link fitted\" rel=\"noreferrer\" target=\"_blank\" href=\"https://scikit-learn.org/1.5/modules/generated/sklearn.preprocessing.FunctionTransformer.html\">?<span>Documentation for FunctionTransformer</span></a></label><div class=\"sk-toggleable__content fitted\"><pre>FunctionTransformer(feature_names_out=&#x27;one-to-one&#x27;, func=&lt;ufunc &#x27;log1p&#x27;&gt;)</pre></div> </div></div><div class=\"sk-item\"><div class=\"sk-estimator fitted sk-toggleable\"><input class=\"sk-toggleable__control sk-hidden--visually\" id=\"sk-estimator-id-95\" type=\"checkbox\" ><label for=\"sk-estimator-id-95\" class=\"sk-toggleable__label fitted sk-toggleable__label-arrow fitted\">&nbsp;RobustScaler<a class=\"sk-estimator-doc-link fitted\" rel=\"noreferrer\" target=\"_blank\" href=\"https://scikit-learn.org/1.5/modules/generated/sklearn.preprocessing.RobustScaler.html\">?<span>Documentation for RobustScaler</span></a></label><div class=\"sk-toggleable__content fitted\"><pre>RobustScaler()</pre></div> </div></div></div></div></div></div></div></div></div><div class=\"sk-item\"><div class=\"sk-estimator fitted sk-toggleable\"><input class=\"sk-toggleable__control sk-hidden--visually\" id=\"sk-estimator-id-96\" type=\"checkbox\" ><label for=\"sk-estimator-id-96\" class=\"sk-toggleable__label fitted sk-toggleable__label-arrow fitted\">XGBRegressor</label><div class=\"sk-toggleable__content fitted\"><pre>XGBRegressor(base_score=None, booster=None, callbacks=None,\n",
       "             colsample_bylevel=None, colsample_bynode=None,\n",
       "             colsample_bytree=None, device=None, early_stopping_rounds=None,\n",
       "             enable_categorical=True, eval_metric=None, feature_types=None,\n",
       "             gamma=None, grow_policy=None, importance_type=None,\n",
       "             interaction_constraints=None, learning_rate=None, max_bin=None,\n",
       "             max_cat_threshold=None, max_cat_to_onehot=None,\n",
       "             max_delta_step=None, max_depth=None, max_leaves=None,\n",
       "             min_child_weight=None, missing=nan, monotone_constraints=None,\n",
       "             multi_strategy=None, n_estimators=None, n_jobs=None,\n",
       "             num_parallel_tree=None, random_state=None, ...)</pre></div> </div></div></div></div></div></div>"
      ],
      "text/plain": [
       "Pipeline(steps=[('preprocessor',\n",
       "                 ColumnTransformer(transformers=[('num',\n",
       "                                                  Pipeline(steps=[('scaling',\n",
       "                                                                   RobustScaler())]),\n",
       "                                                  ['house_age',\n",
       "                                                   'distance_to_the_nearest_mrt_station']),\n",
       "                                                 ('cat',\n",
       "                                                  Pipeline(steps=[('ordinal',\n",
       "                                                                   OneHotEncoder())]),\n",
       "                                                  ['transaction_date']),\n",
       "                                                 ('geo',\n",
       "                                                  ClusterSimilarity(gamma=0.1,\n",
       "                                                                    n_clusters=5),\n",
       "                                                  ['latitude', 'longitude']),\n",
       "                                                 ('log',\n",
       "                                                  Pipeline(steps=[('log',\n",
       "                                                                   F...\n",
       "                              feature_types=None, gamma=None, grow_policy=None,\n",
       "                              importance_type=None,\n",
       "                              interaction_constraints=None, learning_rate=None,\n",
       "                              max_bin=None, max_cat_threshold=None,\n",
       "                              max_cat_to_onehot=None, max_delta_step=None,\n",
       "                              max_depth=None, max_leaves=None,\n",
       "                              min_child_weight=None, missing=nan,\n",
       "                              monotone_constraints=None, multi_strategy=None,\n",
       "                              n_estimators=None, n_jobs=None,\n",
       "                              num_parallel_tree=None, random_state=None, ...))])"
      ]
     },
     "execution_count": 146,
     "metadata": {},
     "output_type": "execute_result"
    }
   ],
   "source": [
    "full_pipeline.fit(Xtrain, ytrain)"
   ]
  },
  {
   "cell_type": "code",
   "execution_count": null,
   "metadata": {},
   "outputs": [
    {
     "name": "stdout",
     "output_type": "stream",
     "text": [
      "0.9891673530032997\n"
     ]
    }
   ],
   "source": [
    "y_train_pred = full_pipeline.predict(Xtrain)\n",
    "print(r2_score(ytrain, y_train_pred))"
   ]
  },
  {
   "cell_type": "code",
   "execution_count": null,
   "metadata": {},
   "outputs": [
    {
     "name": "stdout",
     "output_type": "stream",
     "text": [
      "0.5136439694889336\n"
     ]
    }
   ],
   "source": [
    "y_test_pred = full_pipeline.predict(Xtest)\n",
    "print(r2_score(ytest, y_test_pred))"
   ]
  },
  {
   "cell_type": "code",
   "execution_count": null,
   "metadata": {},
   "outputs": [
    {
     "data": {
      "text/html": [
       "<style>#sk-container-id-11 {\n",
       "  /* Definition of color scheme common for light and dark mode */\n",
       "  --sklearn-color-text: black;\n",
       "  --sklearn-color-line: gray;\n",
       "  /* Definition of color scheme for unfitted estimators */\n",
       "  --sklearn-color-unfitted-level-0: #fff5e6;\n",
       "  --sklearn-color-unfitted-level-1: #f6e4d2;\n",
       "  --sklearn-color-unfitted-level-2: #ffe0b3;\n",
       "  --sklearn-color-unfitted-level-3: chocolate;\n",
       "  /* Definition of color scheme for fitted estimators */\n",
       "  --sklearn-color-fitted-level-0: #f0f8ff;\n",
       "  --sklearn-color-fitted-level-1: #d4ebff;\n",
       "  --sklearn-color-fitted-level-2: #b3dbfd;\n",
       "  --sklearn-color-fitted-level-3: cornflowerblue;\n",
       "\n",
       "  /* Specific color for light theme */\n",
       "  --sklearn-color-text-on-default-background: var(--sg-text-color, var(--theme-code-foreground, var(--jp-content-font-color1, black)));\n",
       "  --sklearn-color-background: var(--sg-background-color, var(--theme-background, var(--jp-layout-color0, white)));\n",
       "  --sklearn-color-border-box: var(--sg-text-color, var(--theme-code-foreground, var(--jp-content-font-color1, black)));\n",
       "  --sklearn-color-icon: #696969;\n",
       "\n",
       "  @media (prefers-color-scheme: dark) {\n",
       "    /* Redefinition of color scheme for dark theme */\n",
       "    --sklearn-color-text-on-default-background: var(--sg-text-color, var(--theme-code-foreground, var(--jp-content-font-color1, white)));\n",
       "    --sklearn-color-background: var(--sg-background-color, var(--theme-background, var(--jp-layout-color0, #111)));\n",
       "    --sklearn-color-border-box: var(--sg-text-color, var(--theme-code-foreground, var(--jp-content-font-color1, white)));\n",
       "    --sklearn-color-icon: #878787;\n",
       "  }\n",
       "}\n",
       "\n",
       "#sk-container-id-11 {\n",
       "  color: var(--sklearn-color-text);\n",
       "}\n",
       "\n",
       "#sk-container-id-11 pre {\n",
       "  padding: 0;\n",
       "}\n",
       "\n",
       "#sk-container-id-11 input.sk-hidden--visually {\n",
       "  border: 0;\n",
       "  clip: rect(1px 1px 1px 1px);\n",
       "  clip: rect(1px, 1px, 1px, 1px);\n",
       "  height: 1px;\n",
       "  margin: -1px;\n",
       "  overflow: hidden;\n",
       "  padding: 0;\n",
       "  position: absolute;\n",
       "  width: 1px;\n",
       "}\n",
       "\n",
       "#sk-container-id-11 div.sk-dashed-wrapped {\n",
       "  border: 1px dashed var(--sklearn-color-line);\n",
       "  margin: 0 0.4em 0.5em 0.4em;\n",
       "  box-sizing: border-box;\n",
       "  padding-bottom: 0.4em;\n",
       "  background-color: var(--sklearn-color-background);\n",
       "}\n",
       "\n",
       "#sk-container-id-11 div.sk-container {\n",
       "  /* jupyter's `normalize.less` sets `[hidden] { display: none; }`\n",
       "     but bootstrap.min.css set `[hidden] { display: none !important; }`\n",
       "     so we also need the `!important` here to be able to override the\n",
       "     default hidden behavior on the sphinx rendered scikit-learn.org.\n",
       "     See: https://github.com/scikit-learn/scikit-learn/issues/21755 */\n",
       "  display: inline-block !important;\n",
       "  position: relative;\n",
       "}\n",
       "\n",
       "#sk-container-id-11 div.sk-text-repr-fallback {\n",
       "  display: none;\n",
       "}\n",
       "\n",
       "div.sk-parallel-item,\n",
       "div.sk-serial,\n",
       "div.sk-item {\n",
       "  /* draw centered vertical line to link estimators */\n",
       "  background-image: linear-gradient(var(--sklearn-color-text-on-default-background), var(--sklearn-color-text-on-default-background));\n",
       "  background-size: 2px 100%;\n",
       "  background-repeat: no-repeat;\n",
       "  background-position: center center;\n",
       "}\n",
       "\n",
       "/* Parallel-specific style estimator block */\n",
       "\n",
       "#sk-container-id-11 div.sk-parallel-item::after {\n",
       "  content: \"\";\n",
       "  width: 100%;\n",
       "  border-bottom: 2px solid var(--sklearn-color-text-on-default-background);\n",
       "  flex-grow: 1;\n",
       "}\n",
       "\n",
       "#sk-container-id-11 div.sk-parallel {\n",
       "  display: flex;\n",
       "  align-items: stretch;\n",
       "  justify-content: center;\n",
       "  background-color: var(--sklearn-color-background);\n",
       "  position: relative;\n",
       "}\n",
       "\n",
       "#sk-container-id-11 div.sk-parallel-item {\n",
       "  display: flex;\n",
       "  flex-direction: column;\n",
       "}\n",
       "\n",
       "#sk-container-id-11 div.sk-parallel-item:first-child::after {\n",
       "  align-self: flex-end;\n",
       "  width: 50%;\n",
       "}\n",
       "\n",
       "#sk-container-id-11 div.sk-parallel-item:last-child::after {\n",
       "  align-self: flex-start;\n",
       "  width: 50%;\n",
       "}\n",
       "\n",
       "#sk-container-id-11 div.sk-parallel-item:only-child::after {\n",
       "  width: 0;\n",
       "}\n",
       "\n",
       "/* Serial-specific style estimator block */\n",
       "\n",
       "#sk-container-id-11 div.sk-serial {\n",
       "  display: flex;\n",
       "  flex-direction: column;\n",
       "  align-items: center;\n",
       "  background-color: var(--sklearn-color-background);\n",
       "  padding-right: 1em;\n",
       "  padding-left: 1em;\n",
       "}\n",
       "\n",
       "\n",
       "/* Toggleable style: style used for estimator/Pipeline/ColumnTransformer box that is\n",
       "clickable and can be expanded/collapsed.\n",
       "- Pipeline and ColumnTransformer use this feature and define the default style\n",
       "- Estimators will overwrite some part of the style using the `sk-estimator` class\n",
       "*/\n",
       "\n",
       "/* Pipeline and ColumnTransformer style (default) */\n",
       "\n",
       "#sk-container-id-11 div.sk-toggleable {\n",
       "  /* Default theme specific background. It is overwritten whether we have a\n",
       "  specific estimator or a Pipeline/ColumnTransformer */\n",
       "  background-color: var(--sklearn-color-background);\n",
       "}\n",
       "\n",
       "/* Toggleable label */\n",
       "#sk-container-id-11 label.sk-toggleable__label {\n",
       "  cursor: pointer;\n",
       "  display: block;\n",
       "  width: 100%;\n",
       "  margin-bottom: 0;\n",
       "  padding: 0.5em;\n",
       "  box-sizing: border-box;\n",
       "  text-align: center;\n",
       "}\n",
       "\n",
       "#sk-container-id-11 label.sk-toggleable__label-arrow:before {\n",
       "  /* Arrow on the left of the label */\n",
       "  content: \"▸\";\n",
       "  float: left;\n",
       "  margin-right: 0.25em;\n",
       "  color: var(--sklearn-color-icon);\n",
       "}\n",
       "\n",
       "#sk-container-id-11 label.sk-toggleable__label-arrow:hover:before {\n",
       "  color: var(--sklearn-color-text);\n",
       "}\n",
       "\n",
       "/* Toggleable content - dropdown */\n",
       "\n",
       "#sk-container-id-11 div.sk-toggleable__content {\n",
       "  max-height: 0;\n",
       "  max-width: 0;\n",
       "  overflow: hidden;\n",
       "  text-align: left;\n",
       "  /* unfitted */\n",
       "  background-color: var(--sklearn-color-unfitted-level-0);\n",
       "}\n",
       "\n",
       "#sk-container-id-11 div.sk-toggleable__content.fitted {\n",
       "  /* fitted */\n",
       "  background-color: var(--sklearn-color-fitted-level-0);\n",
       "}\n",
       "\n",
       "#sk-container-id-11 div.sk-toggleable__content pre {\n",
       "  margin: 0.2em;\n",
       "  border-radius: 0.25em;\n",
       "  color: var(--sklearn-color-text);\n",
       "  /* unfitted */\n",
       "  background-color: var(--sklearn-color-unfitted-level-0);\n",
       "}\n",
       "\n",
       "#sk-container-id-11 div.sk-toggleable__content.fitted pre {\n",
       "  /* unfitted */\n",
       "  background-color: var(--sklearn-color-fitted-level-0);\n",
       "}\n",
       "\n",
       "#sk-container-id-11 input.sk-toggleable__control:checked~div.sk-toggleable__content {\n",
       "  /* Expand drop-down */\n",
       "  max-height: 200px;\n",
       "  max-width: 100%;\n",
       "  overflow: auto;\n",
       "}\n",
       "\n",
       "#sk-container-id-11 input.sk-toggleable__control:checked~label.sk-toggleable__label-arrow:before {\n",
       "  content: \"▾\";\n",
       "}\n",
       "\n",
       "/* Pipeline/ColumnTransformer-specific style */\n",
       "\n",
       "#sk-container-id-11 div.sk-label input.sk-toggleable__control:checked~label.sk-toggleable__label {\n",
       "  color: var(--sklearn-color-text);\n",
       "  background-color: var(--sklearn-color-unfitted-level-2);\n",
       "}\n",
       "\n",
       "#sk-container-id-11 div.sk-label.fitted input.sk-toggleable__control:checked~label.sk-toggleable__label {\n",
       "  background-color: var(--sklearn-color-fitted-level-2);\n",
       "}\n",
       "\n",
       "/* Estimator-specific style */\n",
       "\n",
       "/* Colorize estimator box */\n",
       "#sk-container-id-11 div.sk-estimator input.sk-toggleable__control:checked~label.sk-toggleable__label {\n",
       "  /* unfitted */\n",
       "  background-color: var(--sklearn-color-unfitted-level-2);\n",
       "}\n",
       "\n",
       "#sk-container-id-11 div.sk-estimator.fitted input.sk-toggleable__control:checked~label.sk-toggleable__label {\n",
       "  /* fitted */\n",
       "  background-color: var(--sklearn-color-fitted-level-2);\n",
       "}\n",
       "\n",
       "#sk-container-id-11 div.sk-label label.sk-toggleable__label,\n",
       "#sk-container-id-11 div.sk-label label {\n",
       "  /* The background is the default theme color */\n",
       "  color: var(--sklearn-color-text-on-default-background);\n",
       "}\n",
       "\n",
       "/* On hover, darken the color of the background */\n",
       "#sk-container-id-11 div.sk-label:hover label.sk-toggleable__label {\n",
       "  color: var(--sklearn-color-text);\n",
       "  background-color: var(--sklearn-color-unfitted-level-2);\n",
       "}\n",
       "\n",
       "/* Label box, darken color on hover, fitted */\n",
       "#sk-container-id-11 div.sk-label.fitted:hover label.sk-toggleable__label.fitted {\n",
       "  color: var(--sklearn-color-text);\n",
       "  background-color: var(--sklearn-color-fitted-level-2);\n",
       "}\n",
       "\n",
       "/* Estimator label */\n",
       "\n",
       "#sk-container-id-11 div.sk-label label {\n",
       "  font-family: monospace;\n",
       "  font-weight: bold;\n",
       "  display: inline-block;\n",
       "  line-height: 1.2em;\n",
       "}\n",
       "\n",
       "#sk-container-id-11 div.sk-label-container {\n",
       "  text-align: center;\n",
       "}\n",
       "\n",
       "/* Estimator-specific */\n",
       "#sk-container-id-11 div.sk-estimator {\n",
       "  font-family: monospace;\n",
       "  border: 1px dotted var(--sklearn-color-border-box);\n",
       "  border-radius: 0.25em;\n",
       "  box-sizing: border-box;\n",
       "  margin-bottom: 0.5em;\n",
       "  /* unfitted */\n",
       "  background-color: var(--sklearn-color-unfitted-level-0);\n",
       "}\n",
       "\n",
       "#sk-container-id-11 div.sk-estimator.fitted {\n",
       "  /* fitted */\n",
       "  background-color: var(--sklearn-color-fitted-level-0);\n",
       "}\n",
       "\n",
       "/* on hover */\n",
       "#sk-container-id-11 div.sk-estimator:hover {\n",
       "  /* unfitted */\n",
       "  background-color: var(--sklearn-color-unfitted-level-2);\n",
       "}\n",
       "\n",
       "#sk-container-id-11 div.sk-estimator.fitted:hover {\n",
       "  /* fitted */\n",
       "  background-color: var(--sklearn-color-fitted-level-2);\n",
       "}\n",
       "\n",
       "/* Specification for estimator info (e.g. \"i\" and \"?\") */\n",
       "\n",
       "/* Common style for \"i\" and \"?\" */\n",
       "\n",
       ".sk-estimator-doc-link,\n",
       "a:link.sk-estimator-doc-link,\n",
       "a:visited.sk-estimator-doc-link {\n",
       "  float: right;\n",
       "  font-size: smaller;\n",
       "  line-height: 1em;\n",
       "  font-family: monospace;\n",
       "  background-color: var(--sklearn-color-background);\n",
       "  border-radius: 1em;\n",
       "  height: 1em;\n",
       "  width: 1em;\n",
       "  text-decoration: none !important;\n",
       "  margin-left: 1ex;\n",
       "  /* unfitted */\n",
       "  border: var(--sklearn-color-unfitted-level-1) 1pt solid;\n",
       "  color: var(--sklearn-color-unfitted-level-1);\n",
       "}\n",
       "\n",
       ".sk-estimator-doc-link.fitted,\n",
       "a:link.sk-estimator-doc-link.fitted,\n",
       "a:visited.sk-estimator-doc-link.fitted {\n",
       "  /* fitted */\n",
       "  border: var(--sklearn-color-fitted-level-1) 1pt solid;\n",
       "  color: var(--sklearn-color-fitted-level-1);\n",
       "}\n",
       "\n",
       "/* On hover */\n",
       "div.sk-estimator:hover .sk-estimator-doc-link:hover,\n",
       ".sk-estimator-doc-link:hover,\n",
       "div.sk-label-container:hover .sk-estimator-doc-link:hover,\n",
       ".sk-estimator-doc-link:hover {\n",
       "  /* unfitted */\n",
       "  background-color: var(--sklearn-color-unfitted-level-3);\n",
       "  color: var(--sklearn-color-background);\n",
       "  text-decoration: none;\n",
       "}\n",
       "\n",
       "div.sk-estimator.fitted:hover .sk-estimator-doc-link.fitted:hover,\n",
       ".sk-estimator-doc-link.fitted:hover,\n",
       "div.sk-label-container:hover .sk-estimator-doc-link.fitted:hover,\n",
       ".sk-estimator-doc-link.fitted:hover {\n",
       "  /* fitted */\n",
       "  background-color: var(--sklearn-color-fitted-level-3);\n",
       "  color: var(--sklearn-color-background);\n",
       "  text-decoration: none;\n",
       "}\n",
       "\n",
       "/* Span, style for the box shown on hovering the info icon */\n",
       ".sk-estimator-doc-link span {\n",
       "  display: none;\n",
       "  z-index: 9999;\n",
       "  position: relative;\n",
       "  font-weight: normal;\n",
       "  right: .2ex;\n",
       "  padding: .5ex;\n",
       "  margin: .5ex;\n",
       "  width: min-content;\n",
       "  min-width: 20ex;\n",
       "  max-width: 50ex;\n",
       "  color: var(--sklearn-color-text);\n",
       "  box-shadow: 2pt 2pt 4pt #999;\n",
       "  /* unfitted */\n",
       "  background: var(--sklearn-color-unfitted-level-0);\n",
       "  border: .5pt solid var(--sklearn-color-unfitted-level-3);\n",
       "}\n",
       "\n",
       ".sk-estimator-doc-link.fitted span {\n",
       "  /* fitted */\n",
       "  background: var(--sklearn-color-fitted-level-0);\n",
       "  border: var(--sklearn-color-fitted-level-3);\n",
       "}\n",
       "\n",
       ".sk-estimator-doc-link:hover span {\n",
       "  display: block;\n",
       "}\n",
       "\n",
       "/* \"?\"-specific style due to the `<a>` HTML tag */\n",
       "\n",
       "#sk-container-id-11 a.estimator_doc_link {\n",
       "  float: right;\n",
       "  font-size: 1rem;\n",
       "  line-height: 1em;\n",
       "  font-family: monospace;\n",
       "  background-color: var(--sklearn-color-background);\n",
       "  border-radius: 1rem;\n",
       "  height: 1rem;\n",
       "  width: 1rem;\n",
       "  text-decoration: none;\n",
       "  /* unfitted */\n",
       "  color: var(--sklearn-color-unfitted-level-1);\n",
       "  border: var(--sklearn-color-unfitted-level-1) 1pt solid;\n",
       "}\n",
       "\n",
       "#sk-container-id-11 a.estimator_doc_link.fitted {\n",
       "  /* fitted */\n",
       "  border: var(--sklearn-color-fitted-level-1) 1pt solid;\n",
       "  color: var(--sklearn-color-fitted-level-1);\n",
       "}\n",
       "\n",
       "/* On hover */\n",
       "#sk-container-id-11 a.estimator_doc_link:hover {\n",
       "  /* unfitted */\n",
       "  background-color: var(--sklearn-color-unfitted-level-3);\n",
       "  color: var(--sklearn-color-background);\n",
       "  text-decoration: none;\n",
       "}\n",
       "\n",
       "#sk-container-id-11 a.estimator_doc_link.fitted:hover {\n",
       "  /* fitted */\n",
       "  background-color: var(--sklearn-color-fitted-level-3);\n",
       "}\n",
       "</style><div id=\"sk-container-id-11\" class=\"sk-top-container\"><div class=\"sk-text-repr-fallback\"><pre>Pipeline(steps=[(&#x27;scaling&#x27;, RobustScaler()), (&#x27;model&#x27;, LinearRegression())])</pre><b>In a Jupyter environment, please rerun this cell to show the HTML representation or trust the notebook. <br />On GitHub, the HTML representation is unable to render, please try loading this page with nbviewer.org.</b></div><div class=\"sk-container\" hidden><div class=\"sk-item sk-dashed-wrapped\"><div class=\"sk-label-container\"><div class=\"sk-label fitted sk-toggleable\"><input class=\"sk-toggleable__control sk-hidden--visually\" id=\"sk-estimator-id-97\" type=\"checkbox\" ><label for=\"sk-estimator-id-97\" class=\"sk-toggleable__label fitted sk-toggleable__label-arrow fitted\">&nbsp;&nbsp;Pipeline<a class=\"sk-estimator-doc-link fitted\" rel=\"noreferrer\" target=\"_blank\" href=\"https://scikit-learn.org/1.5/modules/generated/sklearn.pipeline.Pipeline.html\">?<span>Documentation for Pipeline</span></a><span class=\"sk-estimator-doc-link fitted\">i<span>Fitted</span></span></label><div class=\"sk-toggleable__content fitted\"><pre>Pipeline(steps=[(&#x27;scaling&#x27;, RobustScaler()), (&#x27;model&#x27;, LinearRegression())])</pre></div> </div></div><div class=\"sk-serial\"><div class=\"sk-item\"><div class=\"sk-estimator fitted sk-toggleable\"><input class=\"sk-toggleable__control sk-hidden--visually\" id=\"sk-estimator-id-98\" type=\"checkbox\" ><label for=\"sk-estimator-id-98\" class=\"sk-toggleable__label fitted sk-toggleable__label-arrow fitted\">&nbsp;RobustScaler<a class=\"sk-estimator-doc-link fitted\" rel=\"noreferrer\" target=\"_blank\" href=\"https://scikit-learn.org/1.5/modules/generated/sklearn.preprocessing.RobustScaler.html\">?<span>Documentation for RobustScaler</span></a></label><div class=\"sk-toggleable__content fitted\"><pre>RobustScaler()</pre></div> </div></div><div class=\"sk-item\"><div class=\"sk-estimator fitted sk-toggleable\"><input class=\"sk-toggleable__control sk-hidden--visually\" id=\"sk-estimator-id-99\" type=\"checkbox\" ><label for=\"sk-estimator-id-99\" class=\"sk-toggleable__label fitted sk-toggleable__label-arrow fitted\">&nbsp;LinearRegression<a class=\"sk-estimator-doc-link fitted\" rel=\"noreferrer\" target=\"_blank\" href=\"https://scikit-learn.org/1.5/modules/generated/sklearn.linear_model.LinearRegression.html\">?<span>Documentation for LinearRegression</span></a></label><div class=\"sk-toggleable__content fitted\"><pre>LinearRegression()</pre></div> </div></div></div></div></div></div>"
      ],
      "text/plain": [
       "Pipeline(steps=[('scaling', RobustScaler()), ('model', LinearRegression())])"
      ]
     },
     "execution_count": 149,
     "metadata": {},
     "output_type": "execute_result"
    }
   ],
   "source": [
    "lin_pl = Pipeline(steps=[\n",
    "    ('scaling', RobustScaler()),\n",
    "    ('model', LinearRegression())\n",
    "])\n",
    "lin_pl.fit(Xtrain, ytrain)"
   ]
  },
  {
   "cell_type": "code",
   "execution_count": null,
   "metadata": {},
   "outputs": [
    {
     "name": "stdout",
     "output_type": "stream",
     "text": [
      "0.5401967286725331\n"
     ]
    }
   ],
   "source": [
    "y_train_pred = lin_pl.predict(Xtrain)\n",
    "print(r2_score(ytrain, y_train_pred))"
   ]
  },
  {
   "cell_type": "code",
   "execution_count": null,
   "metadata": {},
   "outputs": [
    {
     "name": "stdout",
     "output_type": "stream",
     "text": [
      "0.6422034118208824\n"
     ]
    }
   ],
   "source": [
    "y_test_pred = lin_pl.predict(Xtest)\n",
    "print(r2_score(ytest, y_test_pred))"
   ]
  },
  {
   "cell_type": "code",
   "execution_count": null,
   "metadata": {},
   "outputs": [],
   "source": [
    "scores = cross_val_score(\n",
    "    cv=KFold(shuffle=True, random_state=42),\n",
    "    estimator=lin_pl,\n",
    "    scoring='neg_root_mean_squared_error',\n",
    "    X=Xtrain,\n",
    "    y=ytrain\n",
    ")"
   ]
  },
  {
   "cell_type": "code",
   "execution_count": null,
   "metadata": {},
   "outputs": [
    {
     "data": {
      "text/plain": [
       "(2.2190988793642323, -9.08139508202047)"
      ]
     },
     "execution_count": 153,
     "metadata": {},
     "output_type": "execute_result"
    },
    {
     "data": {
      "image/png": "[encoded data removed]",
      "text/plain": [
       "<Figure size 640x480 with 1 Axes>"
      ]
     },
     "metadata": {},
     "output_type": "display_data"
    }
   ],
   "source": [
    "sns.boxplot(scores)\n",
    "np.std(scores), np.mean(scores)"
   ]
  },
  {
   "cell_type": "code",
   "execution_count": null,
   "metadata": {},
   "outputs": [],
   "source": [
    "models = [\n",
    "    LinearRegression(),\n",
    "    Lasso(),\n",
    "    Ridge(),\n",
    "    SVR(),\n",
    "    RandomForestRegressor(),\n",
    "    XGBRegressor()\n",
    "]"
   ]
  },
  {
   "cell_type": "code",
   "execution_count": null,
   "metadata": {},
   "outputs": [],
   "source": [
    "from sklearn.metrics import make_scorer\n",
    "\n",
    "\n",
    "lin_models = {\n",
    "    model.__class__.__name__: cross_val_score(\n",
    "        cv=KFold(shuffle=True, random_state=42, n_splits=10),\n",
    "        estimator=Pipeline(steps=[\n",
    "                ('preprocessor', preprocessor),\n",
    "                ('model', model)\n",
    "            ]),\n",
    "        scoring='neg_root_mean_squared_error',\n",
    "        X=Xtrain,\n",
    "        y=ytrain,\n",
    "        n_jobs=-1\n",
    "    )\n",
    "    for model in models\n",
    "}"
   ]
  },
  {
   "cell_type": "code",
   "execution_count": null,
   "metadata": {},
   "outputs": [],
   "source": [
    "df = pd.DataFrame(\n",
    "data=lin_models\n",
    ")"
   ]
  },
  {
   "cell_type": "code",
   "execution_count": null,
   "metadata": {},
   "outputs": [
    {
     "data": {
      "text/html": [
       "<div>\n",
       "<style scoped>\n",
       "    .dataframe tbody tr th:only-of-type {\n",
       "        vertical-align: middle;\n",
       "    }\n",
       "\n",
       "    .dataframe tbody tr th {\n",
       "        vertical-align: top;\n",
       "    }\n",
       "\n",
       "    .dataframe thead th {\n",
       "        text-align: right;\n",
       "    }\n",
       "</style>\n",
       "<table border=\"1\" class=\"dataframe\">\n",
       "  <thead>\n",
       "    <tr style=\"text-align: right;\">\n",
       "      <th></th>\n",
       "      <th>LinearRegression</th>\n",
       "      <th>Lasso</th>\n",
       "      <th>Ridge</th>\n",
       "      <th>SVR</th>\n",
       "      <th>RandomForestRegressor</th>\n",
       "      <th>XGBRegressor</th>\n",
       "    </tr>\n",
       "  </thead>\n",
       "  <tbody>\n",
       "    <tr>\n",
       "      <th>0</th>\n",
       "      <td>-3.907654</td>\n",
       "      <td>-6.068201</td>\n",
       "      <td>-5.181699</td>\n",
       "      <td>-6.496816</td>\n",
       "      <td>-4.733881</td>\n",
       "      <td>-5.373402</td>\n",
       "    </tr>\n",
       "    <tr>\n",
       "      <th>1</th>\n",
       "      <td>-6.227390</td>\n",
       "      <td>-8.643266</td>\n",
       "      <td>-7.756632</td>\n",
       "      <td>-7.995831</td>\n",
       "      <td>-4.974592</td>\n",
       "      <td>-4.142746</td>\n",
       "    </tr>\n",
       "    <tr>\n",
       "      <th>2</th>\n",
       "      <td>-15.573653</td>\n",
       "      <td>-15.564142</td>\n",
       "      <td>-15.227743</td>\n",
       "      <td>-15.327408</td>\n",
       "      <td>-15.010807</td>\n",
       "      <td>-15.433377</td>\n",
       "    </tr>\n",
       "    <tr>\n",
       "      <th>3</th>\n",
       "      <td>-9.200144</td>\n",
       "      <td>-11.029407</td>\n",
       "      <td>-10.169371</td>\n",
       "      <td>-10.411493</td>\n",
       "      <td>-8.111635</td>\n",
       "      <td>-7.378695</td>\n",
       "    </tr>\n",
       "    <tr>\n",
       "      <th>4</th>\n",
       "      <td>-8.274060</td>\n",
       "      <td>-9.302623</td>\n",
       "      <td>-9.036949</td>\n",
       "      <td>-9.239972</td>\n",
       "      <td>-6.878125</td>\n",
       "      <td>-9.430143</td>\n",
       "    </tr>\n",
       "    <tr>\n",
       "      <th>5</th>\n",
       "      <td>-6.097272</td>\n",
       "      <td>-5.600986</td>\n",
       "      <td>-6.097625</td>\n",
       "      <td>-5.748632</td>\n",
       "      <td>-5.333547</td>\n",
       "      <td>-5.207040</td>\n",
       "    </tr>\n",
       "    <tr>\n",
       "      <th>6</th>\n",
       "      <td>-5.491592</td>\n",
       "      <td>-5.989620</td>\n",
       "      <td>-6.173876</td>\n",
       "      <td>-6.139739</td>\n",
       "      <td>-5.628094</td>\n",
       "      <td>-7.690811</td>\n",
       "    </tr>\n",
       "    <tr>\n",
       "      <th>7</th>\n",
       "      <td>-7.991309</td>\n",
       "      <td>-8.935981</td>\n",
       "      <td>-8.992010</td>\n",
       "      <td>-8.157869</td>\n",
       "      <td>-8.160479</td>\n",
       "      <td>-9.567758</td>\n",
       "    </tr>\n",
       "    <tr>\n",
       "      <th>8</th>\n",
       "      <td>-8.314299</td>\n",
       "      <td>-9.113152</td>\n",
       "      <td>-8.946390</td>\n",
       "      <td>-9.180278</td>\n",
       "      <td>-10.160866</td>\n",
       "      <td>-10.335267</td>\n",
       "    </tr>\n",
       "    <tr>\n",
       "      <th>9</th>\n",
       "      <td>-9.626995</td>\n",
       "      <td>-10.555222</td>\n",
       "      <td>-9.879398</td>\n",
       "      <td>-10.742104</td>\n",
       "      <td>-7.802094</td>\n",
       "      <td>-9.258235</td>\n",
       "    </tr>\n",
       "  </tbody>\n",
       "</table>\n",
       "</div>"
      ],
      "text/plain": [
       "   LinearRegression      Lasso      Ridge        SVR  RandomForestRegressor  \\\n",
       "0         -3.907654  -6.068201  -5.181699  -6.496816              -4.733881   \n",
       "1         -6.227390  -8.643266  -7.756632  -7.995831              -4.974592   \n",
       "2        -15.573653 -15.564142 -15.227743 -15.327408             -15.010807   \n",
       "3         -9.200144 -11.029407 -10.169371 -10.411493              -8.111635   \n",
       "4         -8.274060  -9.302623  -9.036949  -9.239972              -6.878125   \n",
       "5         -6.097272  -5.600986  -6.097625  -5.748632              -5.333547   \n",
       "6         -5.491592  -5.989620  -6.173876  -6.139739              -5.628094   \n",
       "7         -7.991309  -8.935981  -8.992010  -8.157869              -8.160479   \n",
       "8         -8.314299  -9.113152  -8.946390  -9.180278             -10.160866   \n",
       "9         -9.626995 -10.555222  -9.879398 -10.742104              -7.802094   \n",
       "\n",
       "   XGBRegressor  \n",
       "0     -5.373402  \n",
       "1     -4.142746  \n",
       "2    -15.433377  \n",
       "3     -7.378695  \n",
       "4     -9.430143  \n",
       "5     -5.207040  \n",
       "6     -7.690811  \n",
       "7     -9.567758  \n",
       "8    -10.335267  \n",
       "9     -9.258235  "
      ]
     },
     "execution_count": 157,
     "metadata": {},
     "output_type": "execute_result"
    }
   ],
   "source": [
    "df"
   ]
  },
  {
   "cell_type": "code",
   "execution_count": null,
   "metadata": {},
   "outputs": [
    {
     "data": {
      "text/plain": [
       "<Axes: xlabel='house_price_of_unit_area', ylabel='Count'>"
      ]
     },
     "execution_count": 158,
     "metadata": {},
     "output_type": "execute_result"
    },
    {
     "data": {
      "image/png": "[encoded data removed]",
      "text/plain": [
       "<Figure size 640x480 with 1 Axes>"
      ]
     },
     "metadata": {},
     "output_type": "display_data"
    }
   ],
   "source": [
    "sns.histplot(ytrain, kde=True, bins=10)"
   ]
  },
  {
   "cell_type": "code",
   "execution_count": null,
   "metadata": {},
   "outputs": [],
   "source": []
  },
  {
   "cell_type": "code",
   "execution_count": null,
   "metadata": {},
   "outputs": [
    {
     "data": {
      "text/plain": [
       "<Axes: >"
      ]
     },
     "execution_count": 159,
     "metadata": {},
     "output_type": "execute_result"
    },
    {
     "data": {
      "image/png": "[encoded data removed]",
      "text/plain": [
       "<Figure size 640x480 with 1 Axes>"
      ]
     },
     "metadata": {},
     "output_type": "display_data"
    }
   ],
   "source": [
    "df.plot(kind='box', rot=60)"
   ]
  },
  {
   "cell_type": "markdown",
   "metadata": {},
   "source": [
    "# Tuning Ridge"
   ]
  },
  {
   "cell_type": "code",
   "execution_count": null,
   "metadata": {},
   "outputs": [
    {
     "name": "stderr",
     "output_type": "stream",
     "text": [
      "[I 2024-05-30 12:21:31,382] A new study created in memory with name: Ridge\n",
      "[I 2024-05-30 12:21:31,470] Trial 0 finished with value: -8.74779496636366 and parameters: {'alpha': 0.4370861069626263, 'solver': 'auto', 'tol': 0.0006051038616257768, 'max_iter': 7373}. Best is trial 0 with value: -8.74779496636366.\n",
      "[I 2024-05-30 12:21:31,531] Trial 1 finished with value: -8.748802093800423 and parameters: {'alpha': 0.1185260448662222, 'solver': 'auto', 'tol': 0.00043762556845569465, 'max_iter': 3621}. Best is trial 1 with value: -8.748802093800423.\n",
      "[I 2024-05-30 12:21:31,587] Trial 2 finished with value: -8.747127591482496 and parameters: {'alpha': 0.6506676052501416, 'solver': 'sparse_cg', 'tol': 0.0005964904231734221, 'max_iter': 1418}. Best is trial 1 with value: -8.748802093800423.\n",
      "[I 2024-05-30 12:21:31,631] Trial 3 finished with value: -8.747138947967661 and parameters: {'alpha': 0.6467903667112945, 'solver': 'lsqr', 'tol': 0.0006873906962470354, 'max_iter': 4961}. Best is trial 1 with value: -8.748802093800423.\n",
      "[I 2024-05-30 12:21:31,676] Trial 4 finished with value: -8.748507305344743 and parameters: {'alpha': 0.20983441136030095, 'solver': 'cholesky', 'tol': 0.0005512431765498469, 'max_iter': 2663}. Best is trial 1 with value: -8.748802093800423.\n",
      "[I 2024-05-30 12:21:31,719] Trial 5 finished with value: -8.746243880505943 and parameters: {'alpha': 0.9726261649881027, 'solver': 'svd', 'tol': 5.4775016021432685e-05, 'max_iter': 3928}. Best is trial 1 with value: -8.748802093800423.\n",
      "[I 2024-05-30 12:21:31,763] Trial 6 finished with value: -8.747756106118327 and parameters: {'alpha': 0.4498095607205338, 'solver': 'svd', 'tol': 8.380513724297312e-05, 'max_iter': 9882}. Best is trial 1 with value: -8.748802093800423.\n",
      "[I 2024-05-30 12:21:31,809] Trial 7 finished with value: -8.74673884489549 and parameters: {'alpha': 0.7950202923669917, 'solver': 'cholesky', 'tol': 0.0003648810712588299, 'max_iter': 2042}. Best is trial 1 with value: -8.748802093800423.\n",
      "[I 2024-05-30 12:21:31,857] Trial 8 finished with value: -8.746594924898556 and parameters: {'alpha': 0.8767930832880342, 'solver': 'sag', 'tol': 0.0008883406151505634, 'max_iter': 5250}. Best is trial 1 with value: -8.748802093800423.\n",
      "[I 2024-05-30 12:21:31,901] Trial 9 finished with value: -8.74851944450137 and parameters: {'alpha': 0.20763482134447153, 'solver': 'lsqr', 'tol': 3.516493547665424e-05, 'max_iter': 1971}. Best is trial 1 with value: -8.748802093800423.\n",
      "[I 2024-05-30 12:21:31,956] Trial 10 finished with value: -8.748801168952985 and parameters: {'alpha': 0.11847539899058539, 'solver': 'auto', 'tol': 0.00031461726933575986, 'max_iter': 7042}. Best is trial 1 with value: -8.748802093800423.\n",
      "[I 2024-05-30 12:21:32,001] Trial 11 finished with value: -8.748819403503663 and parameters: {'alpha': 0.11306539142952299, 'solver': 'auto', 'tol': 0.00031276330612648384, 'max_iter': 7662}. Best is trial 11 with value: -8.748819403503663.\n",
      "[I 2024-05-30 12:21:32,051] Trial 12 finished with value: -8.748366632750166 and parameters: {'alpha': 0.3265551776994107, 'solver': 'saga', 'tol': 0.00032901345865580156, 'max_iter': 7676}. Best is trial 11 with value: -8.748819403503663.\n",
      "[I 2024-05-30 12:21:32,105] Trial 13 finished with value: -8.748792255480478 and parameters: {'alpha': 0.12111983776716642, 'solver': 'auto', 'tol': 0.00039510701860940125, 'max_iter': 9255}. Best is trial 11 with value: -8.748819403503663.\n",
      "[I 2024-05-30 12:21:32,147] Trial 14 finished with value: -8.748227688197392 and parameters: {'alpha': 0.29783024180112366, 'solver': 'auto', 'tol': 0.0002012940256579786, 'max_iter': 3759}. Best is trial 11 with value: -8.748819403503663.\n",
      "[I 2024-05-30 12:21:32,196] Trial 15 finished with value: -8.748045478729294 and parameters: {'alpha': 0.35601907619080375, 'solver': 'auto', 'tol': 0.000773947501824369, 'max_iter': 6128}. Best is trial 11 with value: -8.748819403503663.\n",
      "[I 2024-05-30 12:21:32,247] Trial 16 finished with value: -8.748116373792955 and parameters: {'alpha': 0.202003873540053, 'solver': 'saga', 'tol': 0.0004670229714091994, 'max_iter': 8665}. Best is trial 11 with value: -8.748819403503663.\n",
      "[I 2024-05-30 12:21:32,300] Trial 17 finished with value: -8.747362656084594 and parameters: {'alpha': 0.56280063085587, 'solver': 'sag', 'tol': 0.000249036141179005, 'max_iter': 4019}. Best is trial 11 with value: -8.748819403503663.\n",
      "[I 2024-05-30 12:21:32,355] Trial 18 finished with value: -8.747752516435591 and parameters: {'alpha': 0.44211004928677355, 'solver': 'sparse_cg', 'tol': 0.00017974940248351344, 'max_iter': 6802}. Best is trial 11 with value: -8.748819403503663.\n",
      "[I 2024-05-30 12:21:32,408] Trial 19 finished with value: -8.748823790068926 and parameters: {'alpha': 0.1118262841460273, 'solver': 'auto', 'tol': 0.0004674936108171168, 'max_iter': 8318}. Best is trial 19 with value: -8.748823790068926.\n",
      "[I 2024-05-30 12:21:32,470] Trial 20 finished with value: -8.748305874210406 and parameters: {'alpha': 0.2731238907295559, 'solver': 'auto', 'tol': 0.000715733931720718, 'max_iter': 8110}. Best is trial 19 with value: -8.748823790068926.\n",
      "[I 2024-05-30 12:21:32,535] Trial 21 finished with value: -8.748751733139262 and parameters: {'alpha': 0.13376888654140778, 'solver': 'auto', 'tol': 0.00047612106074192275, 'max_iter': 6439}. Best is trial 19 with value: -8.748823790068926.\n",
      "[I 2024-05-30 12:21:32,597] Trial 22 finished with value: -8.748829579908767 and parameters: {'alpha': 0.10989027031939402, 'solver': 'auto', 'tol': 0.00046127653880170604, 'max_iter': 8528}. Best is trial 22 with value: -8.748829579908767.\n",
      "[I 2024-05-30 12:21:32,653] Trial 23 finished with value: -8.748451753530142 and parameters: {'alpha': 0.22742581748711588, 'solver': 'auto', 'tol': 0.0005200443823249379, 'max_iter': 8605}. Best is trial 22 with value: -8.748829579908767.\n",
      "[I 2024-05-30 12:21:32,788] Trial 24 finished with value: -8.747974977545693 and parameters: {'alpha': 0.3787173514509415, 'solver': 'auto', 'tol': 0.00026250649852175716, 'max_iter': 9713}. Best is trial 22 with value: -8.748829579908767.\n",
      "[I 2024-05-30 12:21:32,840] Trial 25 finished with value: -8.748609933751235 and parameters: {'alpha': 0.17821165402096242, 'solver': 'auto', 'tol': 0.0003864093762135193, 'max_iter': 8333}. Best is trial 22 with value: -8.748829579908767.\n",
      "[I 2024-05-30 12:21:32,890] Trial 26 finished with value: -8.748291287945856 and parameters: {'alpha': 0.2694196247387407, 'solver': 'lsqr', 'tol': 0.00013300611515431308, 'max_iter': 9114}. Best is trial 22 with value: -8.748829579908767.\n",
      "[I 2024-05-30 12:21:32,942] Trial 27 finished with value: -8.748648179730008 and parameters: {'alpha': 0.1660955051189733, 'solver': 'cholesky', 'tol': 0.0009658679891620186, 'max_iter': 5825}. Best is trial 22 with value: -8.748829579908767.\n",
      "[I 2024-05-30 12:21:32,993] Trial 28 finished with value: -8.748412187842565 and parameters: {'alpha': 0.10713657076033058, 'solver': 'saga', 'tol': 0.0006087434443387588, 'max_iter': 7683}. Best is trial 22 with value: -8.748829579908767.\n",
      "[I 2024-05-30 12:21:33,046] Trial 29 finished with value: -8.747904101521984 and parameters: {'alpha': 0.40172880195258753, 'solver': 'auto', 'tol': 0.00028152376481336986, 'max_iter': 7372}. Best is trial 22 with value: -8.748829579908767.\n",
      "[I 2024-05-30 12:21:33,097] Trial 30 finished with value: -8.74760887543811 and parameters: {'alpha': 0.49835938629752874, 'solver': 'svd', 'tol': 0.0006375487555622106, 'max_iter': 9264}. Best is trial 22 with value: -8.748829579908767.\n",
      "[I 2024-05-30 12:21:33,148] Trial 31 finished with value: -8.748370361589604 and parameters: {'alpha': 0.25299011905791835, 'solver': 'auto', 'tol': 0.00043870447188297437, 'max_iter': 2968}. Best is trial 22 with value: -8.748829579908767.\n",
      "[I 2024-05-30 12:21:33,202] Trial 32 finished with value: -8.74863661735756 and parameters: {'alpha': 0.16192253030008924, 'solver': 'sparse_cg', 'tol': 0.00043551117886823085, 'max_iter': 4660}. Best is trial 22 with value: -8.748829579908767.\n",
      "[I 2024-05-30 12:21:33,255] Trial 33 finished with value: -8.748823304611507 and parameters: {'alpha': 0.11192444784749593, 'solver': 'auto', 'tol': 0.0005310482061145095, 'max_iter': 7906}. Best is trial 22 with value: -8.748829579908767.\n",
      "[I 2024-05-30 12:21:33,306] Trial 34 finished with value: -8.74882700007392 and parameters: {'alpha': 0.11072906101212761, 'solver': 'auto', 'tol': 0.0005570545217025667, 'max_iter': 7977}. Best is trial 22 with value: -8.748829579908767.\n",
      "[I 2024-05-30 12:21:33,351] Trial 35 finished with value: -8.748612054948984 and parameters: {'alpha': 0.17744806629477683, 'solver': 'auto', 'tol': 0.000566586132643432, 'max_iter': 8154}. Best is trial 22 with value: -8.748829579908767.\n",
      "[I 2024-05-30 12:21:33,398] Trial 36 finished with value: -8.746623685373104 and parameters: {'alpha': 0.7468655799630236, 'solver': 'sag', 'tol': 0.0005228627760160054, 'max_iter': 8908}. Best is trial 22 with value: -8.748829579908767.\n",
      "[I 2024-05-30 12:21:33,449] Trial 37 finished with value: -8.748432421031268 and parameters: {'alpha': 0.23322639981347343, 'solver': 'auto', 'tol': 0.0007068156694009524, 'max_iter': 6744}. Best is trial 22 with value: -8.748829579908767.\n",
      "[I 2024-05-30 12:21:33,494] Trial 38 finished with value: -8.7481482413163 and parameters: {'alpha': 0.31466392729762077, 'solver': 'sparse_cg', 'tol': 0.0007938909350174275, 'max_iter': 9978}. Best is trial 22 with value: -8.748829579908767.\n",
      "[I 2024-05-30 12:21:33,546] Trial 39 finished with value: -8.74709028933679 and parameters: {'alpha': 0.672806556060714, 'solver': 'cholesky', 'tol': 0.0006178544748095137, 'max_iter': 7117}. Best is trial 22 with value: -8.748829579908767.\n",
      "[I 2024-05-30 12:21:33,599] Trial 40 finished with value: -8.746171151932744 and parameters: {'alpha': 0.9993641293753954, 'solver': 'svd', 'tol': 0.0006513754961641968, 'max_iter': 8446}. Best is trial 22 with value: -8.748829579908767.\n",
      "[I 2024-05-30 12:21:33,652] Trial 41 finished with value: -8.748851290264238 and parameters: {'alpha': 0.10290839146343045, 'solver': 'auto', 'tol': 0.0005593945051115572, 'max_iter': 7719}. Best is trial 41 with value: -8.748851290264238.\n",
      "[I 2024-05-30 12:21:33,701] Trial 42 finished with value: -8.748680638997422 and parameters: {'alpha': 0.15601061506699238, 'solver': 'auto', 'tol': 0.0005634636308185098, 'max_iter': 7905}. Best is trial 41 with value: -8.748851290264238.\n",
      "[I 2024-05-30 12:21:33,754] Trial 43 finished with value: -8.748839221860635 and parameters: {'alpha': 0.10678600951756671, 'solver': 'auto', 'tol': 0.0005014206189713134, 'max_iter': 9534}. Best is trial 41 with value: -8.748851290264238.\n",
      "[I 2024-05-30 12:21:33,798] Trial 44 finished with value: -8.748502327779745 and parameters: {'alpha': 0.2034393506696874, 'solver': 'lsqr', 'tol': 0.0004812401842786413, 'max_iter': 9481}. Best is trial 41 with value: -8.748851290264238.\n",
      "[I 2024-05-30 12:21:33,841] Trial 45 finished with value: -8.748860256393222 and parameters: {'alpha': 0.10024630740507061, 'solver': 'auto', 'tol': 0.00042536379120728437, 'max_iter': 8867}. Best is trial 45 with value: -8.748860256393222.\n",
      "[I 2024-05-30 12:21:33,891] Trial 46 finished with value: -8.748658380651072 and parameters: {'alpha': 0.16302157437525946, 'solver': 'auto', 'tol': 0.0004222728613534539, 'max_iter': 8872}. Best is trial 45 with value: -8.748860256393222.\n",
      "[I 2024-05-30 12:21:33,937] Trial 47 finished with value: -8.748495512192978 and parameters: {'alpha': 0.21364430177450636, 'solver': 'auto', 'tol': 0.0006598257833901687, 'max_iter': 9340}. Best is trial 45 with value: -8.748860256393222.\n",
      "[I 2024-05-30 12:21:33,988] Trial 48 finished with value: -8.748708780751967 and parameters: {'alpha': 0.14477558391064124, 'solver': 'sag', 'tol': 0.0003535903451327184, 'max_iter': 9614}. Best is trial 45 with value: -8.748860256393222.\n",
      "[I 2024-05-30 12:21:34,031] Trial 49 finished with value: -8.748849224925255 and parameters: {'alpha': 0.10379266878670072, 'solver': 'auto', 'tol': 0.0005528738029947674, 'max_iter': 8726}. Best is trial 45 with value: -8.748860256393222.\n",
      "[I 2024-05-30 12:21:34,089] Trial 50 finished with value: -8.746423659828206 and parameters: {'alpha': 0.9073533849881923, 'solver': 'cholesky', 'tol': 0.00040129750552522043, 'max_iter': 1133}. Best is trial 45 with value: -8.748860256393222.\n",
      "[I 2024-05-30 12:21:34,141] Trial 51 finished with value: -8.748857310026716 and parameters: {'alpha': 0.1012624287166842, 'solver': 'auto', 'tol': 0.0005783694890802935, 'max_iter': 8938}. Best is trial 45 with value: -8.748860256393222.\n",
      "[I 2024-05-30 12:21:34,208] Trial 52 finished with value: -8.748564356199713 and parameters: {'alpha': 0.191975462191881, 'solver': 'auto', 'tol': 0.0005769454132702569, 'max_iter': 8919}. Best is trial 45 with value: -8.748860256393222.\n",
      "[I 2024-05-30 12:21:34,261] Trial 53 finished with value: -8.748736742189859 and parameters: {'alpha': 0.1387074781915572, 'solver': 'auto', 'tol': 0.0004979359528069819, 'max_iter': 8754}. Best is trial 45 with value: -8.748860256393222.\n",
      "[I 2024-05-30 12:21:34,313] Trial 54 finished with value: -8.7488590054427 and parameters: {'alpha': 0.10043761236774144, 'solver': 'auto', 'tol': 0.0007574342509563284, 'max_iter': 9985}. Best is trial 45 with value: -8.748860256393222.\n",
      "[I 2024-05-30 12:21:34,368] Trial 55 finished with value: -8.74798549368799 and parameters: {'alpha': 0.24979398428274646, 'solver': 'saga', 'tol': 0.0007673370507798663, 'max_iter': 9967}. Best is trial 45 with value: -8.748860256393222.\n",
      "[I 2024-05-30 12:21:34,422] Trial 56 finished with value: -8.748859241669345 and parameters: {'alpha': 0.10062753700143098, 'solver': 'auto', 'tol': 0.0007314856228813837, 'max_iter': 9454}. Best is trial 45 with value: -8.748860256393222.\n",
      "[I 2024-05-30 12:21:34,480] Trial 57 finished with value: -8.74821967965359 and parameters: {'alpha': 0.30045104670997824, 'solver': 'svd', 'tol': 0.0008480855412853813, 'max_iter': 9170}. Best is trial 45 with value: -8.748860256393222.\n",
      "[I 2024-05-30 12:21:34,535] Trial 58 finished with value: -8.748694493399826 and parameters: {'alpha': 0.14413684833070728, 'solver': 'lsqr', 'tol': 0.0007447306166725888, 'max_iter': 9744}. Best is trial 45 with value: -8.748860256393222.\n",
      "[I 2024-05-30 12:21:34,585] Trial 59 finished with value: -8.74853766327394 and parameters: {'alpha': 0.20034406685820094, 'solver': 'auto', 'tol': 0.0008248542430218662, 'max_iter': 7287}. Best is trial 45 with value: -8.748860256393222.\n",
      "[I 2024-05-30 12:21:34,638] Trial 60 finished with value: -8.747450488464239 and parameters: {'alpha': 0.5509047935835852, 'solver': 'auto', 'tol': 0.0006797174445591034, 'max_iter': 9036}. Best is trial 45 with value: -8.748860256393222.\n",
      "[I 2024-05-30 12:21:34,689] Trial 61 finished with value: -8.74885402099532 and parameters: {'alpha': 0.10188311972034557, 'solver': 'auto', 'tol': 0.0008752705669560903, 'max_iter': 9460}. Best is trial 45 with value: -8.748860256393222.\n",
      "[I 2024-05-30 12:21:34,742] Trial 62 finished with value: -8.748859333035833 and parameters: {'alpha': 0.10068491511215846, 'solver': 'auto', 'tol': 0.0009058390886197159, 'max_iter': 9406}. Best is trial 45 with value: -8.748860256393222.\n",
      "[I 2024-05-30 12:21:34,798] Trial 63 finished with value: -8.748725736972789 and parameters: {'alpha': 0.1419407591330059, 'solver': 'auto', 'tol': 0.0009421273051106612, 'max_iter': 9440}. Best is trial 45 with value: -8.748860256393222.\n",
      "[I 2024-05-30 12:21:34,849] Trial 64 finished with value: -8.748594232545672 and parameters: {'alpha': 0.18278466664802723, 'solver': 'auto', 'tol': 0.0008850417284525987, 'max_iter': 9814}. Best is trial 45 with value: -8.748860256393222.\n",
      "[I 2024-05-30 12:21:34,915] Trial 65 finished with value: -8.748730675569238 and parameters: {'alpha': 0.1404170930617951, 'solver': 'auto', 'tol': 0.0008901992216630702, 'max_iter': 9314}. Best is trial 45 with value: -8.748860256393222.\n",
      "[I 2024-05-30 12:21:34,988] Trial 66 finished with value: -8.748168123435635 and parameters: {'alpha': 0.23411481361550202, 'solver': 'sparse_cg', 'tol': 0.000923522737668554, 'max_iter': 8426}. Best is trial 45 with value: -8.748860256393222.\n",
      "[I 2024-05-30 12:21:35,044] Trial 67 finished with value: -8.74860588220137 and parameters: {'alpha': 0.17908863377429146, 'solver': 'auto', 'tol': 0.0009936251067568726, 'max_iter': 9672}. Best is trial 45 with value: -8.748860256393222.\n",
      "[I 2024-05-30 12:21:35,098] Trial 68 finished with value: -8.747975378280048 and parameters: {'alpha': 0.2673486325740192, 'solver': 'saga', 'tol': 0.0008208913125766723, 'max_iter': 8995}. Best is trial 45 with value: -8.748860256393222.\n",
      "[I 2024-05-30 12:21:35,156] Trial 69 finished with value: -8.748100908424856 and parameters: {'alpha': 0.13117684480178357, 'solver': 'sag', 'tol': 0.0007432679407624405, 'max_iter': 9998}. Best is trial 45 with value: -8.748860256393222.\n",
      "[I 2024-05-30 12:21:35,211] Trial 70 finished with value: -8.748859867088552 and parameters: {'alpha': 0.10049516388052172, 'solver': 'auto', 'tol': 0.0008741365422099811, 'max_iter': 8231}. Best is trial 45 with value: -8.748860256393222.\n",
      "[I 2024-05-30 12:21:35,266] Trial 71 finished with value: -8.748858448267617 and parameters: {'alpha': 0.10063452671500271, 'solver': 'auto', 'tol': 0.0008678498338618736, 'max_iter': 7589}. Best is trial 45 with value: -8.748860256393222.\n",
      "[I 2024-05-30 12:21:35,320] Trial 72 finished with value: -8.748679851577533 and parameters: {'alpha': 0.15612908150275645, 'solver': 'auto', 'tol': 0.0008712884402640974, 'max_iter': 8309}. Best is trial 45 with value: -8.748860256393222.\n",
      "[I 2024-05-30 12:21:35,375] Trial 73 finished with value: -8.748760363066527 and parameters: {'alpha': 0.1314640609010435, 'solver': 'auto', 'tol': 0.0009222754698417387, 'max_iter': 8547}. Best is trial 45 with value: -8.748860256393222.\n",
      "[I 2024-05-30 12:21:35,438] Trial 74 finished with value: -8.748858421030352 and parameters: {'alpha': 0.1009404103575867, 'solver': 'auto', 'tol': 0.0007812219252543548, 'max_iter': 9117}. Best is trial 45 with value: -8.748860256393222.\n",
      "[I 2024-05-30 12:21:35,505] Trial 75 finished with value: -8.747581149867802 and parameters: {'alpha': 0.5074077096238111, 'solver': 'auto', 'tol': 0.0008021169950448487, 'max_iter': 9128}. Best is trial 45 with value: -8.748860256393222.\n",
      "[I 2024-05-30 12:21:35,569] Trial 76 finished with value: -8.748640828510764 and parameters: {'alpha': 0.16830459640340617, 'solver': 'auto', 'tol': 0.0008381061241528275, 'max_iter': 8125}. Best is trial 45 with value: -8.748860256393222.\n",
      "[I 2024-05-30 12:21:35,637] Trial 77 finished with value: -8.748477490427232 and parameters: {'alpha': 0.2191677207194958, 'solver': 'cholesky', 'tol': 0.0007260231980270444, 'max_iter': 8690}. Best is trial 45 with value: -8.748860256393222.\n",
      "[I 2024-05-30 12:21:35,683] Trial 78 finished with value: -8.748776850586939 and parameters: {'alpha': 0.1261669103757478, 'solver': 'auto', 'tol': 0.0007815366719850604, 'max_iter': 9343}. Best is trial 45 with value: -8.748860256393222.\n",
      "[I 2024-05-30 12:21:35,733] Trial 79 finished with value: -8.747326519632818 and parameters: {'alpha': 0.5925828569429132, 'solver': 'svd', 'tol': 0.000909181088232223, 'max_iter': 9138}. Best is trial 45 with value: -8.748860256393222.\n",
      "[I 2024-05-30 12:21:35,804] Trial 80 finished with value: -8.748569981791054 and parameters: {'alpha': 0.19031995560755, 'solver': 'auto', 'tol': 0.0009496235344876535, 'max_iter': 4983}. Best is trial 45 with value: -8.748860256393222.\n",
      "[I 2024-05-30 12:21:35,866] Trial 81 finished with value: -8.748852987282078 and parameters: {'alpha': 0.10267525950283753, 'solver': 'auto', 'tol': 0.0006920354210963124, 'max_iter': 9553}. Best is trial 45 with value: -8.748860256393222.\n",
      "[I 2024-05-30 12:21:35,930] Trial 82 finished with value: -8.748773424874093 and parameters: {'alpha': 0.12711393367780713, 'solver': 'auto', 'tol': 0.0008760729996906797, 'max_iter': 9771}. Best is trial 45 with value: -8.748860256393222.\n",
      "[I 2024-05-30 12:21:35,991] Trial 83 finished with value: -8.748855507038035 and parameters: {'alpha': 0.10199118805987027, 'solver': 'auto', 'tol': 0.0008457753477918518, 'max_iter': 8830}. Best is trial 45 with value: -8.748860256393222.\n",
      "[I 2024-05-30 12:21:36,046] Trial 84 finished with value: -8.74865362658654 and parameters: {'alpha': 0.15668865275427346, 'solver': 'lsqr', 'tol': 0.0008488160774692824, 'max_iter': 7469}. Best is trial 45 with value: -8.748860256393222.\n",
      "[I 2024-05-30 12:21:36,099] Trial 85 finished with value: -8.748611735767676 and parameters: {'alpha': 0.1775941475372314, 'solver': 'auto', 'tol': 0.000982477610896807, 'max_iter': 8281}. Best is trial 45 with value: -8.748860256393222.\n",
      "[I 2024-05-30 12:21:36,153] Trial 86 finished with value: -8.748744795660546 and parameters: {'alpha': 0.128731303589986, 'solver': 'sparse_cg', 'tol': 0.0008023224424786707, 'max_iter': 8786}. Best is trial 45 with value: -8.748860256393222.\n",
      "[I 2024-05-30 12:21:36,211] Trial 87 finished with value: -8.748860999675797 and parameters: {'alpha': 0.10013702527037004, 'solver': 'auto', 'tol': 0.0007492121997198124, 'max_iter': 8591}. Best is trial 87 with value: -8.748860999675797.\n",
      "[I 2024-05-30 12:21:36,267] Trial 88 finished with value: -8.748680540292028 and parameters: {'alpha': 0.15605088589455357, 'solver': 'auto', 'tol': 0.000746181961730749, 'max_iter': 8559}. Best is trial 87 with value: -8.748860999675797.\n",
      "[I 2024-05-30 12:21:36,317] Trial 89 finished with value: -8.748779452396429 and parameters: {'alpha': 0.12551081312469978, 'solver': 'auto', 'tol': 0.0007705298853711432, 'max_iter': 7816}. Best is trial 87 with value: -8.748860999675797.\n",
      "[I 2024-05-30 12:21:36,365] Trial 90 finished with value: -8.746977072181775 and parameters: {'alpha': 0.7961332857308012, 'solver': 'saga', 'tol': 0.0006291352355862638, 'max_iter': 8095}. Best is trial 87 with value: -8.748860999675797.\n",
      "[I 2024-05-30 12:21:36,419] Trial 91 finished with value: -8.748851699067796 and parameters: {'alpha': 0.1030075176969374, 'solver': 'auto', 'tol': 0.0008172151229253271, 'max_iter': 9047}. Best is trial 87 with value: -8.748860999675797.\n",
      "[I 2024-05-30 12:21:36,466] Trial 92 finished with value: -8.748791890095667 and parameters: {'alpha': 0.1218277368869406, 'solver': 'auto', 'tol': 0.0008436594574007569, 'max_iter': 8816}. Best is trial 87 with value: -8.748860999675797.\n",
      "[I 2024-05-30 12:21:36,519] Trial 93 finished with value: -8.748701105393417 and parameters: {'alpha': 0.1495923850672662, 'solver': 'auto', 'tol': 0.0007182205047030669, 'max_iter': 7548}. Best is trial 87 with value: -8.748860999675797.\n",
      "[I 2024-05-30 12:21:36,571] Trial 94 finished with value: -8.748525371942389 and parameters: {'alpha': 0.204194809630531, 'solver': 'auto', 'tol': 0.000903412933881733, 'max_iter': 9315}. Best is trial 87 with value: -8.748860999675797.\n",
      "[I 2024-05-30 12:21:36,625] Trial 95 finished with value: -8.748803891128299 and parameters: {'alpha': 0.10090253347812679, 'solver': 'sag', 'tol': 0.0008614111170096565, 'max_iter': 8584}. Best is trial 87 with value: -8.748860999675797.\n",
      "[I 2024-05-30 12:21:36,682] Trial 96 finished with value: -8.748638960128492 and parameters: {'alpha': 0.16890103339497275, 'solver': 'auto', 'tol': 0.0006765595250112034, 'max_iter': 8971}. Best is trial 87 with value: -8.748860999675797.\n",
      "[I 2024-05-30 12:21:36,737] Trial 97 finished with value: -8.748794077465543 and parameters: {'alpha': 0.12089590092802409, 'solver': 'auto', 'tol': 0.0007672764245227184, 'max_iter': 5847}. Best is trial 87 with value: -8.748860999675797.\n",
      "[I 2024-05-30 12:21:36,791] Trial 98 finished with value: -8.748714309238974 and parameters: {'alpha': 0.14552711486161374, 'solver': 'auto', 'tol': 0.0005885010500632576, 'max_iter': 6738}. Best is trial 87 with value: -8.748860999675797.\n",
      "[I 2024-05-30 12:21:36,835] Trial 99 finished with value: -8.74804998102248 and parameters: {'alpha': 0.35465615907267123, 'solver': 'cholesky', 'tol': 0.0007940386590274083, 'max_iter': 4308}. Best is trial 87 with value: -8.748860999675797.\n"
     ]
    }
   ],
   "source": [
    "def objective(trial):\n",
    "    params = {\n",
    "        'alpha': trial.suggest_float('alpha', 0.1, 1.0),\n",
    "        'solver': trial.suggest_categorical('solver', ['auto', 'svd', 'cholesky', 'lsqr', 'sparse_cg', 'sag', 'saga']),\n",
    "        'tol': trial.suggest_float('tol', 1e-5, 1e-3),\n",
    "        'random_state': 42,\n",
    "        'max_iter': trial.suggest_int('max_iter', 1000, 10000),\n",
    "    }\n",
    "\n",
    "    model = Ridge(**params)\n",
    "    scores = cross_val_score(\n",
    "        cv=KFold(shuffle=True, random_state=42, n_splits=10),\n",
    "        estimator=Pipeline(steps=[\n",
    "            ('preprocessor', preprocessor),\n",
    "            ('model', model)\n",
    "        ]),\n",
    "        scoring='neg_root_mean_squared_error',\n",
    "        X=Xtrain,\n",
    "        y=ytrain,\n",
    "        n_jobs=-1\n",
    "    )\n",
    "    return np.mean(scores)\n",
    "\n",
    "study = optuna.create_study(direction='minimize', study_name='Ridge',sampler=optuna.samplers.TPESampler(seed=42))\n",
    "study.optimize(objective, n_trials=100)\n"
   ]
  },
  {
   "cell_type": "code",
   "execution_count": null,
   "metadata": {},
   "outputs": [],
   "source": [
    "ridge_best_params = study.best_params"
   ]
  },
  {
   "cell_type": "code",
   "execution_count": null,
   "metadata": {},
   "outputs": [
    {
     "data": {
      "text/html": [
       "<style>#sk-container-id-12 {\n",
       "  /* Definition of color scheme common for light and dark mode */\n",
       "  --sklearn-color-text: black;\n",
       "  --sklearn-color-line: gray;\n",
       "  /* Definition of color scheme for unfitted estimators */\n",
       "  --sklearn-color-unfitted-level-0: #fff5e6;\n",
       "  --sklearn-color-unfitted-level-1: #f6e4d2;\n",
       "  --sklearn-color-unfitted-level-2: #ffe0b3;\n",
       "  --sklearn-color-unfitted-level-3: chocolate;\n",
       "  /* Definition of color scheme for fitted estimators */\n",
       "  --sklearn-color-fitted-level-0: #f0f8ff;\n",
       "  --sklearn-color-fitted-level-1: #d4ebff;\n",
       "  --sklearn-color-fitted-level-2: #b3dbfd;\n",
       "  --sklearn-color-fitted-level-3: cornflowerblue;\n",
       "\n",
       "  /* Specific color for light theme */\n",
       "  --sklearn-color-text-on-default-background: var(--sg-text-color, var(--theme-code-foreground, var(--jp-content-font-color1, black)));\n",
       "  --sklearn-color-background: var(--sg-background-color, var(--theme-background, var(--jp-layout-color0, white)));\n",
       "  --sklearn-color-border-box: var(--sg-text-color, var(--theme-code-foreground, var(--jp-content-font-color1, black)));\n",
       "  --sklearn-color-icon: #696969;\n",
       "\n",
       "  @media (prefers-color-scheme: dark) {\n",
       "    /* Redefinition of color scheme for dark theme */\n",
       "    --sklearn-color-text-on-default-background: var(--sg-text-color, var(--theme-code-foreground, var(--jp-content-font-color1, white)));\n",
       "    --sklearn-color-background: var(--sg-background-color, var(--theme-background, var(--jp-layout-color0, #111)));\n",
       "    --sklearn-color-border-box: var(--sg-text-color, var(--theme-code-foreground, var(--jp-content-font-color1, white)));\n",
       "    --sklearn-color-icon: #878787;\n",
       "  }\n",
       "}\n",
       "\n",
       "#sk-container-id-12 {\n",
       "  color: var(--sklearn-color-text);\n",
       "}\n",
       "\n",
       "#sk-container-id-12 pre {\n",
       "  padding: 0;\n",
       "}\n",
       "\n",
       "#sk-container-id-12 input.sk-hidden--visually {\n",
       "  border: 0;\n",
       "  clip: rect(1px 1px 1px 1px);\n",
       "  clip: rect(1px, 1px, 1px, 1px);\n",
       "  height: 1px;\n",
       "  margin: -1px;\n",
       "  overflow: hidden;\n",
       "  padding: 0;\n",
       "  position: absolute;\n",
       "  width: 1px;\n",
       "}\n",
       "\n",
       "#sk-container-id-12 div.sk-dashed-wrapped {\n",
       "  border: 1px dashed var(--sklearn-color-line);\n",
       "  margin: 0 0.4em 0.5em 0.4em;\n",
       "  box-sizing: border-box;\n",
       "  padding-bottom: 0.4em;\n",
       "  background-color: var(--sklearn-color-background);\n",
       "}\n",
       "\n",
       "#sk-container-id-12 div.sk-container {\n",
       "  /* jupyter's `normalize.less` sets `[hidden] { display: none; }`\n",
       "     but bootstrap.min.css set `[hidden] { display: none !important; }`\n",
       "     so we also need the `!important` here to be able to override the\n",
       "     default hidden behavior on the sphinx rendered scikit-learn.org.\n",
       "     See: https://github.com/scikit-learn/scikit-learn/issues/21755 */\n",
       "  display: inline-block !important;\n",
       "  position: relative;\n",
       "}\n",
       "\n",
       "#sk-container-id-12 div.sk-text-repr-fallback {\n",
       "  display: none;\n",
       "}\n",
       "\n",
       "div.sk-parallel-item,\n",
       "div.sk-serial,\n",
       "div.sk-item {\n",
       "  /* draw centered vertical line to link estimators */\n",
       "  background-image: linear-gradient(var(--sklearn-color-text-on-default-background), var(--sklearn-color-text-on-default-background));\n",
       "  background-size: 2px 100%;\n",
       "  background-repeat: no-repeat;\n",
       "  background-position: center center;\n",
       "}\n",
       "\n",
       "/* Parallel-specific style estimator block */\n",
       "\n",
       "#sk-container-id-12 div.sk-parallel-item::after {\n",
       "  content: \"\";\n",
       "  width: 100%;\n",
       "  border-bottom: 2px solid var(--sklearn-color-text-on-default-background);\n",
       "  flex-grow: 1;\n",
       "}\n",
       "\n",
       "#sk-container-id-12 div.sk-parallel {\n",
       "  display: flex;\n",
       "  align-items: stretch;\n",
       "  justify-content: center;\n",
       "  background-color: var(--sklearn-color-background);\n",
       "  position: relative;\n",
       "}\n",
       "\n",
       "#sk-container-id-12 div.sk-parallel-item {\n",
       "  display: flex;\n",
       "  flex-direction: column;\n",
       "}\n",
       "\n",
       "#sk-container-id-12 div.sk-parallel-item:first-child::after {\n",
       "  align-self: flex-end;\n",
       "  width: 50%;\n",
       "}\n",
       "\n",
       "#sk-container-id-12 div.sk-parallel-item:last-child::after {\n",
       "  align-self: flex-start;\n",
       "  width: 50%;\n",
       "}\n",
       "\n",
       "#sk-container-id-12 div.sk-parallel-item:only-child::after {\n",
       "  width: 0;\n",
       "}\n",
       "\n",
       "/* Serial-specific style estimator block */\n",
       "\n",
       "#sk-container-id-12 div.sk-serial {\n",
       "  display: flex;\n",
       "  flex-direction: column;\n",
       "  align-items: center;\n",
       "  background-color: var(--sklearn-color-background);\n",
       "  padding-right: 1em;\n",
       "  padding-left: 1em;\n",
       "}\n",
       "\n",
       "\n",
       "/* Toggleable style: style used for estimator/Pipeline/ColumnTransformer box that is\n",
       "clickable and can be expanded/collapsed.\n",
       "- Pipeline and ColumnTransformer use this feature and define the default style\n",
       "- Estimators will overwrite some part of the style using the `sk-estimator` class\n",
       "*/\n",
       "\n",
       "/* Pipeline and ColumnTransformer style (default) */\n",
       "\n",
       "#sk-container-id-12 div.sk-toggleable {\n",
       "  /* Default theme specific background. It is overwritten whether we have a\n",
       "  specific estimator or a Pipeline/ColumnTransformer */\n",
       "  background-color: var(--sklearn-color-background);\n",
       "}\n",
       "\n",
       "/* Toggleable label */\n",
       "#sk-container-id-12 label.sk-toggleable__label {\n",
       "  cursor: pointer;\n",
       "  display: block;\n",
       "  width: 100%;\n",
       "  margin-bottom: 0;\n",
       "  padding: 0.5em;\n",
       "  box-sizing: border-box;\n",
       "  text-align: center;\n",
       "}\n",
       "\n",
       "#sk-container-id-12 label.sk-toggleable__label-arrow:before {\n",
       "  /* Arrow on the left of the label */\n",
       "  content: \"▸\";\n",
       "  float: left;\n",
       "  margin-right: 0.25em;\n",
       "  color: var(--sklearn-color-icon);\n",
       "}\n",
       "\n",
       "#sk-container-id-12 label.sk-toggleable__label-arrow:hover:before {\n",
       "  color: var(--sklearn-color-text);\n",
       "}\n",
       "\n",
       "/* Toggleable content - dropdown */\n",
       "\n",
       "#sk-container-id-12 div.sk-toggleable__content {\n",
       "  max-height: 0;\n",
       "  max-width: 0;\n",
       "  overflow: hidden;\n",
       "  text-align: left;\n",
       "  /* unfitted */\n",
       "  background-color: var(--sklearn-color-unfitted-level-0);\n",
       "}\n",
       "\n",
       "#sk-container-id-12 div.sk-toggleable__content.fitted {\n",
       "  /* fitted */\n",
       "  background-color: var(--sklearn-color-fitted-level-0);\n",
       "}\n",
       "\n",
       "#sk-container-id-12 div.sk-toggleable__content pre {\n",
       "  margin: 0.2em;\n",
       "  border-radius: 0.25em;\n",
       "  color: var(--sklearn-color-text);\n",
       "  /* unfitted */\n",
       "  background-color: var(--sklearn-color-unfitted-level-0);\n",
       "}\n",
       "\n",
       "#sk-container-id-12 div.sk-toggleable__content.fitted pre {\n",
       "  /* unfitted */\n",
       "  background-color: var(--sklearn-color-fitted-level-0);\n",
       "}\n",
       "\n",
       "#sk-container-id-12 input.sk-toggleable__control:checked~div.sk-toggleable__content {\n",
       "  /* Expand drop-down */\n",
       "  max-height: 200px;\n",
       "  max-width: 100%;\n",
       "  overflow: auto;\n",
       "}\n",
       "\n",
       "#sk-container-id-12 input.sk-toggleable__control:checked~label.sk-toggleable__label-arrow:before {\n",
       "  content: \"▾\";\n",
       "}\n",
       "\n",
       "/* Pipeline/ColumnTransformer-specific style */\n",
       "\n",
       "#sk-container-id-12 div.sk-label input.sk-toggleable__control:checked~label.sk-toggleable__label {\n",
       "  color: var(--sklearn-color-text);\n",
       "  background-color: var(--sklearn-color-unfitted-level-2);\n",
       "}\n",
       "\n",
       "#sk-container-id-12 div.sk-label.fitted input.sk-toggleable__control:checked~label.sk-toggleable__label {\n",
       "  background-color: var(--sklearn-color-fitted-level-2);\n",
       "}\n",
       "\n",
       "/* Estimator-specific style */\n",
       "\n",
       "/* Colorize estimator box */\n",
       "#sk-container-id-12 div.sk-estimator input.sk-toggleable__control:checked~label.sk-toggleable__label {\n",
       "  /* unfitted */\n",
       "  background-color: var(--sklearn-color-unfitted-level-2);\n",
       "}\n",
       "\n",
       "#sk-container-id-12 div.sk-estimator.fitted input.sk-toggleable__control:checked~label.sk-toggleable__label {\n",
       "  /* fitted */\n",
       "  background-color: var(--sklearn-color-fitted-level-2);\n",
       "}\n",
       "\n",
       "#sk-container-id-12 div.sk-label label.sk-toggleable__label,\n",
       "#sk-container-id-12 div.sk-label label {\n",
       "  /* The background is the default theme color */\n",
       "  color: var(--sklearn-color-text-on-default-background);\n",
       "}\n",
       "\n",
       "/* On hover, darken the color of the background */\n",
       "#sk-container-id-12 div.sk-label:hover label.sk-toggleable__label {\n",
       "  color: var(--sklearn-color-text);\n",
       "  background-color: var(--sklearn-color-unfitted-level-2);\n",
       "}\n",
       "\n",
       "/* Label box, darken color on hover, fitted */\n",
       "#sk-container-id-12 div.sk-label.fitted:hover label.sk-toggleable__label.fitted {\n",
       "  color: var(--sklearn-color-text);\n",
       "  background-color: var(--sklearn-color-fitted-level-2);\n",
       "}\n",
       "\n",
       "/* Estimator label */\n",
       "\n",
       "#sk-container-id-12 div.sk-label label {\n",
       "  font-family: monospace;\n",
       "  font-weight: bold;\n",
       "  display: inline-block;\n",
       "  line-height: 1.2em;\n",
       "}\n",
       "\n",
       "#sk-container-id-12 div.sk-label-container {\n",
       "  text-align: center;\n",
       "}\n",
       "\n",
       "/* Estimator-specific */\n",
       "#sk-container-id-12 div.sk-estimator {\n",
       "  font-family: monospace;\n",
       "  border: 1px dotted var(--sklearn-color-border-box);\n",
       "  border-radius: 0.25em;\n",
       "  box-sizing: border-box;\n",
       "  margin-bottom: 0.5em;\n",
       "  /* unfitted */\n",
       "  background-color: var(--sklearn-color-unfitted-level-0);\n",
       "}\n",
       "\n",
       "#sk-container-id-12 div.sk-estimator.fitted {\n",
       "  /* fitted */\n",
       "  background-color: var(--sklearn-color-fitted-level-0);\n",
       "}\n",
       "\n",
       "/* on hover */\n",
       "#sk-container-id-12 div.sk-estimator:hover {\n",
       "  /* unfitted */\n",
       "  background-color: var(--sklearn-color-unfitted-level-2);\n",
       "}\n",
       "\n",
       "#sk-container-id-12 div.sk-estimator.fitted:hover {\n",
       "  /* fitted */\n",
       "  background-color: var(--sklearn-color-fitted-level-2);\n",
       "}\n",
       "\n",
       "/* Specification for estimator info (e.g. \"i\" and \"?\") */\n",
       "\n",
       "/* Common style for \"i\" and \"?\" */\n",
       "\n",
       ".sk-estimator-doc-link,\n",
       "a:link.sk-estimator-doc-link,\n",
       "a:visited.sk-estimator-doc-link {\n",
       "  float: right;\n",
       "  font-size: smaller;\n",
       "  line-height: 1em;\n",
       "  font-family: monospace;\n",
       "  background-color: var(--sklearn-color-background);\n",
       "  border-radius: 1em;\n",
       "  height: 1em;\n",
       "  width: 1em;\n",
       "  text-decoration: none !important;\n",
       "  margin-left: 1ex;\n",
       "  /* unfitted */\n",
       "  border: var(--sklearn-color-unfitted-level-1) 1pt solid;\n",
       "  color: var(--sklearn-color-unfitted-level-1);\n",
       "}\n",
       "\n",
       ".sk-estimator-doc-link.fitted,\n",
       "a:link.sk-estimator-doc-link.fitted,\n",
       "a:visited.sk-estimator-doc-link.fitted {\n",
       "  /* fitted */\n",
       "  border: var(--sklearn-color-fitted-level-1) 1pt solid;\n",
       "  color: var(--sklearn-color-fitted-level-1);\n",
       "}\n",
       "\n",
       "/* On hover */\n",
       "div.sk-estimator:hover .sk-estimator-doc-link:hover,\n",
       ".sk-estimator-doc-link:hover,\n",
       "div.sk-label-container:hover .sk-estimator-doc-link:hover,\n",
       ".sk-estimator-doc-link:hover {\n",
       "  /* unfitted */\n",
       "  background-color: var(--sklearn-color-unfitted-level-3);\n",
       "  color: var(--sklearn-color-background);\n",
       "  text-decoration: none;\n",
       "}\n",
       "\n",
       "div.sk-estimator.fitted:hover .sk-estimator-doc-link.fitted:hover,\n",
       ".sk-estimator-doc-link.fitted:hover,\n",
       "div.sk-label-container:hover .sk-estimator-doc-link.fitted:hover,\n",
       ".sk-estimator-doc-link.fitted:hover {\n",
       "  /* fitted */\n",
       "  background-color: var(--sklearn-color-fitted-level-3);\n",
       "  color: var(--sklearn-color-background);\n",
       "  text-decoration: none;\n",
       "}\n",
       "\n",
       "/* Span, style for the box shown on hovering the info icon */\n",
       ".sk-estimator-doc-link span {\n",
       "  display: none;\n",
       "  z-index: 9999;\n",
       "  position: relative;\n",
       "  font-weight: normal;\n",
       "  right: .2ex;\n",
       "  padding: .5ex;\n",
       "  margin: .5ex;\n",
       "  width: min-content;\n",
       "  min-width: 20ex;\n",
       "  max-width: 50ex;\n",
       "  color: var(--sklearn-color-text);\n",
       "  box-shadow: 2pt 2pt 4pt #999;\n",
       "  /* unfitted */\n",
       "  background: var(--sklearn-color-unfitted-level-0);\n",
       "  border: .5pt solid var(--sklearn-color-unfitted-level-3);\n",
       "}\n",
       "\n",
       ".sk-estimator-doc-link.fitted span {\n",
       "  /* fitted */\n",
       "  background: var(--sklearn-color-fitted-level-0);\n",
       "  border: var(--sklearn-color-fitted-level-3);\n",
       "}\n",
       "\n",
       ".sk-estimator-doc-link:hover span {\n",
       "  display: block;\n",
       "}\n",
       "\n",
       "/* \"?\"-specific style due to the `<a>` HTML tag */\n",
       "\n",
       "#sk-container-id-12 a.estimator_doc_link {\n",
       "  float: right;\n",
       "  font-size: 1rem;\n",
       "  line-height: 1em;\n",
       "  font-family: monospace;\n",
       "  background-color: var(--sklearn-color-background);\n",
       "  border-radius: 1rem;\n",
       "  height: 1rem;\n",
       "  width: 1rem;\n",
       "  text-decoration: none;\n",
       "  /* unfitted */\n",
       "  color: var(--sklearn-color-unfitted-level-1);\n",
       "  border: var(--sklearn-color-unfitted-level-1) 1pt solid;\n",
       "}\n",
       "\n",
       "#sk-container-id-12 a.estimator_doc_link.fitted {\n",
       "  /* fitted */\n",
       "  border: var(--sklearn-color-fitted-level-1) 1pt solid;\n",
       "  color: var(--sklearn-color-fitted-level-1);\n",
       "}\n",
       "\n",
       "/* On hover */\n",
       "#sk-container-id-12 a.estimator_doc_link:hover {\n",
       "  /* unfitted */\n",
       "  background-color: var(--sklearn-color-unfitted-level-3);\n",
       "  color: var(--sklearn-color-background);\n",
       "  text-decoration: none;\n",
       "}\n",
       "\n",
       "#sk-container-id-12 a.estimator_doc_link.fitted:hover {\n",
       "  /* fitted */\n",
       "  background-color: var(--sklearn-color-fitted-level-3);\n",
       "}\n",
       "</style><div id=\"sk-container-id-12\" class=\"sk-top-container\"><div class=\"sk-text-repr-fallback\"><pre>Pipeline(steps=[(&#x27;preprocessor&#x27;,\n",
       "                 ColumnTransformer(transformers=[(&#x27;num&#x27;,\n",
       "                                                  Pipeline(steps=[(&#x27;scaling&#x27;,\n",
       "                                                                   RobustScaler())]),\n",
       "                                                  [&#x27;house_age&#x27;,\n",
       "                                                   &#x27;distance_to_the_nearest_mrt_station&#x27;]),\n",
       "                                                 (&#x27;cat&#x27;,\n",
       "                                                  Pipeline(steps=[(&#x27;ordinal&#x27;,\n",
       "                                                                   OneHotEncoder())]),\n",
       "                                                  [&#x27;transaction_date&#x27;]),\n",
       "                                                 (&#x27;geo&#x27;,\n",
       "                                                  ClusterSimilarity(gamma=0.1,\n",
       "                                                                    n_clusters=5),\n",
       "                                                  [&#x27;latitude&#x27;, &#x27;longitude&#x27;]),\n",
       "                                                 (&#x27;log&#x27;,\n",
       "                                                  Pipeline(steps=[(&#x27;log&#x27;,\n",
       "                                                                   FunctionTransformer(feature_names_out=&#x27;one-to-one&#x27;,\n",
       "                                                                                       func=&lt;ufunc &#x27;log1p&#x27;&gt;)),\n",
       "                                                                  (&#x27;scaling&#x27;,\n",
       "                                                                   RobustScaler())]),\n",
       "                                                  [&#x27;distance_to_the_nearest_mrt_station&#x27;])])),\n",
       "                (&#x27;model&#x27;,\n",
       "                 Ridge(alpha=0.10013702527037004, max_iter=8591,\n",
       "                       tol=0.0007492121997198124))])</pre><b>In a Jupyter environment, please rerun this cell to show the HTML representation or trust the notebook. <br />On GitHub, the HTML representation is unable to render, please try loading this page with nbviewer.org.</b></div><div class=\"sk-container\" hidden><div class=\"sk-item sk-dashed-wrapped\"><div class=\"sk-label-container\"><div class=\"sk-label fitted sk-toggleable\"><input class=\"sk-toggleable__control sk-hidden--visually\" id=\"sk-estimator-id-100\" type=\"checkbox\" ><label for=\"sk-estimator-id-100\" class=\"sk-toggleable__label fitted sk-toggleable__label-arrow fitted\">&nbsp;&nbsp;Pipeline<a class=\"sk-estimator-doc-link fitted\" rel=\"noreferrer\" target=\"_blank\" href=\"https://scikit-learn.org/1.5/modules/generated/sklearn.pipeline.Pipeline.html\">?<span>Documentation for Pipeline</span></a><span class=\"sk-estimator-doc-link fitted\">i<span>Fitted</span></span></label><div class=\"sk-toggleable__content fitted\"><pre>Pipeline(steps=[(&#x27;preprocessor&#x27;,\n",
       "                 ColumnTransformer(transformers=[(&#x27;num&#x27;,\n",
       "                                                  Pipeline(steps=[(&#x27;scaling&#x27;,\n",
       "                                                                   RobustScaler())]),\n",
       "                                                  [&#x27;house_age&#x27;,\n",
       "                                                   &#x27;distance_to_the_nearest_mrt_station&#x27;]),\n",
       "                                                 (&#x27;cat&#x27;,\n",
       "                                                  Pipeline(steps=[(&#x27;ordinal&#x27;,\n",
       "                                                                   OneHotEncoder())]),\n",
       "                                                  [&#x27;transaction_date&#x27;]),\n",
       "                                                 (&#x27;geo&#x27;,\n",
       "                                                  ClusterSimilarity(gamma=0.1,\n",
       "                                                                    n_clusters=5),\n",
       "                                                  [&#x27;latitude&#x27;, &#x27;longitude&#x27;]),\n",
       "                                                 (&#x27;log&#x27;,\n",
       "                                                  Pipeline(steps=[(&#x27;log&#x27;,\n",
       "                                                                   FunctionTransformer(feature_names_out=&#x27;one-to-one&#x27;,\n",
       "                                                                                       func=&lt;ufunc &#x27;log1p&#x27;&gt;)),\n",
       "                                                                  (&#x27;scaling&#x27;,\n",
       "                                                                   RobustScaler())]),\n",
       "                                                  [&#x27;distance_to_the_nearest_mrt_station&#x27;])])),\n",
       "                (&#x27;model&#x27;,\n",
       "                 Ridge(alpha=0.10013702527037004, max_iter=8591,\n",
       "                       tol=0.0007492121997198124))])</pre></div> </div></div><div class=\"sk-serial\"><div class=\"sk-item sk-dashed-wrapped\"><div class=\"sk-label-container\"><div class=\"sk-label fitted sk-toggleable\"><input class=\"sk-toggleable__control sk-hidden--visually\" id=\"sk-estimator-id-101\" type=\"checkbox\" ><label for=\"sk-estimator-id-101\" class=\"sk-toggleable__label fitted sk-toggleable__label-arrow fitted\">&nbsp;preprocessor: ColumnTransformer<a class=\"sk-estimator-doc-link fitted\" rel=\"noreferrer\" target=\"_blank\" href=\"https://scikit-learn.org/1.5/modules/generated/sklearn.compose.ColumnTransformer.html\">?<span>Documentation for preprocessor: ColumnTransformer</span></a></label><div class=\"sk-toggleable__content fitted\"><pre>ColumnTransformer(transformers=[(&#x27;num&#x27;,\n",
       "                                 Pipeline(steps=[(&#x27;scaling&#x27;, RobustScaler())]),\n",
       "                                 [&#x27;house_age&#x27;,\n",
       "                                  &#x27;distance_to_the_nearest_mrt_station&#x27;]),\n",
       "                                (&#x27;cat&#x27;,\n",
       "                                 Pipeline(steps=[(&#x27;ordinal&#x27;, OneHotEncoder())]),\n",
       "                                 [&#x27;transaction_date&#x27;]),\n",
       "                                (&#x27;geo&#x27;,\n",
       "                                 ClusterSimilarity(gamma=0.1, n_clusters=5),\n",
       "                                 [&#x27;latitude&#x27;, &#x27;longitude&#x27;]),\n",
       "                                (&#x27;log&#x27;,\n",
       "                                 Pipeline(steps=[(&#x27;log&#x27;,\n",
       "                                                  FunctionTransformer(feature_names_out=&#x27;one-to-one&#x27;,\n",
       "                                                                      func=&lt;ufunc &#x27;log1p&#x27;&gt;)),\n",
       "                                                 (&#x27;scaling&#x27;, RobustScaler())]),\n",
       "                                 [&#x27;distance_to_the_nearest_mrt_station&#x27;])])</pre></div> </div></div><div class=\"sk-parallel\"><div class=\"sk-parallel-item\"><div class=\"sk-item\"><div class=\"sk-label-container\"><div class=\"sk-label fitted sk-toggleable\"><input class=\"sk-toggleable__control sk-hidden--visually\" id=\"sk-estimator-id-102\" type=\"checkbox\" ><label for=\"sk-estimator-id-102\" class=\"sk-toggleable__label fitted sk-toggleable__label-arrow fitted\">num</label><div class=\"sk-toggleable__content fitted\"><pre>[&#x27;house_age&#x27;, &#x27;distance_to_the_nearest_mrt_station&#x27;]</pre></div> </div></div><div class=\"sk-serial\"><div class=\"sk-item\"><div class=\"sk-serial\"><div class=\"sk-item\"><div class=\"sk-estimator fitted sk-toggleable\"><input class=\"sk-toggleable__control sk-hidden--visually\" id=\"sk-estimator-id-103\" type=\"checkbox\" ><label for=\"sk-estimator-id-103\" class=\"sk-toggleable__label fitted sk-toggleable__label-arrow fitted\">&nbsp;RobustScaler<a class=\"sk-estimator-doc-link fitted\" rel=\"noreferrer\" target=\"_blank\" href=\"https://scikit-learn.org/1.5/modules/generated/sklearn.preprocessing.RobustScaler.html\">?<span>Documentation for RobustScaler</span></a></label><div class=\"sk-toggleable__content fitted\"><pre>RobustScaler()</pre></div> </div></div></div></div></div></div></div><div class=\"sk-parallel-item\"><div class=\"sk-item\"><div class=\"sk-label-container\"><div class=\"sk-label fitted sk-toggleable\"><input class=\"sk-toggleable__control sk-hidden--visually\" id=\"sk-estimator-id-104\" type=\"checkbox\" ><label for=\"sk-estimator-id-104\" class=\"sk-toggleable__label fitted sk-toggleable__label-arrow fitted\">cat</label><div class=\"sk-toggleable__content fitted\"><pre>[&#x27;transaction_date&#x27;]</pre></div> </div></div><div class=\"sk-serial\"><div class=\"sk-item\"><div class=\"sk-serial\"><div class=\"sk-item\"><div class=\"sk-estimator fitted sk-toggleable\"><input class=\"sk-toggleable__control sk-hidden--visually\" id=\"sk-estimator-id-105\" type=\"checkbox\" ><label for=\"sk-estimator-id-105\" class=\"sk-toggleable__label fitted sk-toggleable__label-arrow fitted\">&nbsp;OneHotEncoder<a class=\"sk-estimator-doc-link fitted\" rel=\"noreferrer\" target=\"_blank\" href=\"https://scikit-learn.org/1.5/modules/generated/sklearn.preprocessing.OneHotEncoder.html\">?<span>Documentation for OneHotEncoder</span></a></label><div class=\"sk-toggleable__content fitted\"><pre>OneHotEncoder()</pre></div> </div></div></div></div></div></div></div><div class=\"sk-parallel-item\"><div class=\"sk-item\"><div class=\"sk-label-container\"><div class=\"sk-label fitted sk-toggleable\"><input class=\"sk-toggleable__control sk-hidden--visually\" id=\"sk-estimator-id-106\" type=\"checkbox\" ><label for=\"sk-estimator-id-106\" class=\"sk-toggleable__label fitted sk-toggleable__label-arrow fitted\">geo</label><div class=\"sk-toggleable__content fitted\"><pre>[&#x27;latitude&#x27;, &#x27;longitude&#x27;]</pre></div> </div></div><div class=\"sk-serial\"><div class=\"sk-item\"><div class=\"sk-estimator fitted sk-toggleable\"><input class=\"sk-toggleable__control sk-hidden--visually\" id=\"sk-estimator-id-107\" type=\"checkbox\" ><label for=\"sk-estimator-id-107\" class=\"sk-toggleable__label fitted sk-toggleable__label-arrow fitted\">ClusterSimilarity</label><div class=\"sk-toggleable__content fitted\"><pre>ClusterSimilarity(gamma=0.1, n_clusters=5)</pre></div> </div></div></div></div></div><div class=\"sk-parallel-item\"><div class=\"sk-item\"><div class=\"sk-label-container\"><div class=\"sk-label fitted sk-toggleable\"><input class=\"sk-toggleable__control sk-hidden--visually\" id=\"sk-estimator-id-108\" type=\"checkbox\" ><label for=\"sk-estimator-id-108\" class=\"sk-toggleable__label fitted sk-toggleable__label-arrow fitted\">log</label><div class=\"sk-toggleable__content fitted\"><pre>[&#x27;distance_to_the_nearest_mrt_station&#x27;]</pre></div> </div></div><div class=\"sk-serial\"><div class=\"sk-item\"><div class=\"sk-serial\"><div class=\"sk-item\"><div class=\"sk-estimator fitted sk-toggleable\"><input class=\"sk-toggleable__control sk-hidden--visually\" id=\"sk-estimator-id-109\" type=\"checkbox\" ><label for=\"sk-estimator-id-109\" class=\"sk-toggleable__label fitted sk-toggleable__label-arrow fitted\">&nbsp;FunctionTransformer<a class=\"sk-estimator-doc-link fitted\" rel=\"noreferrer\" target=\"_blank\" href=\"https://scikit-learn.org/1.5/modules/generated/sklearn.preprocessing.FunctionTransformer.html\">?<span>Documentation for FunctionTransformer</span></a></label><div class=\"sk-toggleable__content fitted\"><pre>FunctionTransformer(feature_names_out=&#x27;one-to-one&#x27;, func=&lt;ufunc &#x27;log1p&#x27;&gt;)</pre></div> </div></div><div class=\"sk-item\"><div class=\"sk-estimator fitted sk-toggleable\"><input class=\"sk-toggleable__control sk-hidden--visually\" id=\"sk-estimator-id-110\" type=\"checkbox\" ><label for=\"sk-estimator-id-110\" class=\"sk-toggleable__label fitted sk-toggleable__label-arrow fitted\">&nbsp;RobustScaler<a class=\"sk-estimator-doc-link fitted\" rel=\"noreferrer\" target=\"_blank\" href=\"https://scikit-learn.org/1.5/modules/generated/sklearn.preprocessing.RobustScaler.html\">?<span>Documentation for RobustScaler</span></a></label><div class=\"sk-toggleable__content fitted\"><pre>RobustScaler()</pre></div> </div></div></div></div></div></div></div></div></div><div class=\"sk-item\"><div class=\"sk-estimator fitted sk-toggleable\"><input class=\"sk-toggleable__control sk-hidden--visually\" id=\"sk-estimator-id-111\" type=\"checkbox\" ><label for=\"sk-estimator-id-111\" class=\"sk-toggleable__label fitted sk-toggleable__label-arrow fitted\">&nbsp;Ridge<a class=\"sk-estimator-doc-link fitted\" rel=\"noreferrer\" target=\"_blank\" href=\"https://scikit-learn.org/1.5/modules/generated/sklearn.linear_model.Ridge.html\">?<span>Documentation for Ridge</span></a></label><div class=\"sk-toggleable__content fitted\"><pre>Ridge(alpha=0.10013702527037004, max_iter=8591, tol=0.0007492121997198124)</pre></div> </div></div></div></div></div></div>"
      ],
      "text/plain": [
       "Pipeline(steps=[('preprocessor',\n",
       "                 ColumnTransformer(transformers=[('num',\n",
       "                                                  Pipeline(steps=[('scaling',\n",
       "                                                                   RobustScaler())]),\n",
       "                                                  ['house_age',\n",
       "                                                   'distance_to_the_nearest_mrt_station']),\n",
       "                                                 ('cat',\n",
       "                                                  Pipeline(steps=[('ordinal',\n",
       "                                                                   OneHotEncoder())]),\n",
       "                                                  ['transaction_date']),\n",
       "                                                 ('geo',\n",
       "                                                  ClusterSimilarity(gamma=0.1,\n",
       "                                                                    n_clusters=5),\n",
       "                                                  ['latitude', 'longitude']),\n",
       "                                                 ('log',\n",
       "                                                  Pipeline(steps=[('log',\n",
       "                                                                   FunctionTransformer(feature_names_out='one-to-one',\n",
       "                                                                                       func=<ufunc 'log1p'>)),\n",
       "                                                                  ('scaling',\n",
       "                                                                   RobustScaler())]),\n",
       "                                                  ['distance_to_the_nearest_mrt_station'])])),\n",
       "                ('model',\n",
       "                 Ridge(alpha=0.10013702527037004, max_iter=8591,\n",
       "                       tol=0.0007492121997198124))])"
      ]
     },
     "execution_count": 162,
     "metadata": {},
     "output_type": "execute_result"
    }
   ],
   "source": [
    "optmized_ridge = Pipeline(steps=[\n",
    "    ('preprocessor', preprocessor),\n",
    "    ('model', Ridge(**ridge_best_params))\n",
    "])\n",
    "optmized_ridge.fit(Xtrain, ytrain)"
   ]
  },
  {
   "cell_type": "code",
   "execution_count": null,
   "metadata": {},
   "outputs": [
    {
     "data": {
      "text/plain": [
       "0.5421596634202968"
      ]
     },
     "execution_count": 163,
     "metadata": {},
     "output_type": "execute_result"
    }
   ],
   "source": [
    "optmized_ridge.score(Xtrain, ytrain)"
   ]
  },
  {
   "cell_type": "code",
   "execution_count": null,
   "metadata": {},
   "outputs": [
    {
     "name": "stdout",
     "output_type": "stream",
     "text": [
      "0.5421596634202968\n"
     ]
    }
   ],
   "source": [
    "print(r2_score(ytrain, optmized_ridge.predict(Xtrain)))"
   ]
  },
  {
   "cell_type": "code",
   "execution_count": null,
   "metadata": {},
   "outputs": [
    {
     "name": "stdout",
     "output_type": "stream",
     "text": [
      "0.6177273025407408\n"
     ]
    }
   ],
   "source": [
    "print(r2_score(ytest, optmized_ridge.predict(Xtest)))"
   ]
  },
  {
   "cell_type": "markdown",
   "metadata": {},
   "source": [
    "# Tuning SVR"
   ]
  },
  {
   "cell_type": "code",
   "execution_count": null,
   "metadata": {},
   "outputs": [
    {
     "name": "stderr",
     "output_type": "stream",
     "text": [
      "[I 2024-05-30 12:21:36,914] A new study created in memory with name: SVR\n",
      "[I 2024-05-30 12:21:36,929] Trial 0 finished with value: 0.5302802742645245 and parameters: {'epsilon': 0.6482131165247735, 'C': 0.9664147012279757, 'kernel': 'linear'}. Best is trial 0 with value: 0.5302802742645245.\n",
      "[I 2024-05-30 12:21:36,943] Trial 1 finished with value: 0.23543067769123083 and parameters: {'epsilon': 0.520540966199949, 'C': 0.9114125527116832, 'kernel': 'sigmoid'}. Best is trial 0 with value: 0.5302802742645245.\n",
      "[I 2024-05-30 12:21:36,955] Trial 2 finished with value: 0.3640145103304836 and parameters: {'epsilon': 0.8903488639350978, 'C': 0.5792825495506346, 'kernel': 'sigmoid'}. Best is trial 0 with value: 0.5302802742645245.\n",
      "[I 2024-05-30 12:21:36,968] Trial 3 finished with value: 0.5296496229017732 and parameters: {'epsilon': 0.6745255603940726, 'C': 0.6118411902896104, 'kernel': 'linear'}. Best is trial 0 with value: 0.5302802742645245.\n",
      "[I 2024-05-30 12:21:36,983] Trial 4 finished with value: 0.516487388772991 and parameters: {'epsilon': 0.6858999160561153, 'C': 0.8616512464445057, 'kernel': 'rbf'}. Best is trial 0 with value: 0.5302802742645245.\n",
      "[I 2024-05-30 12:21:36,997] Trial 5 finished with value: 0.4828475926639698 and parameters: {'epsilon': 0.7618320309633697, 'C': 0.5627336434512475, 'kernel': 'rbf'}. Best is trial 0 with value: 0.5302802742645245.\n",
      "[I 2024-05-30 12:21:37,009] Trial 6 finished with value: 0.5287399874608631 and parameters: {'epsilon': 0.6175439707655368, 'C': 0.5350227390366598, 'kernel': 'linear'}. Best is trial 0 with value: 0.5302802742645245.\n",
      "[I 2024-05-30 12:21:37,022] Trial 7 finished with value: 0.5634766251714223 and parameters: {'epsilon': 0.512061330949742, 'C': 0.9390802805515328, 'kernel': 'poly'}. Best is trial 7 with value: 0.5634766251714223.\n",
      "[I 2024-05-30 12:21:37,033] Trial 8 finished with value: 0.5292927649486239 and parameters: {'epsilon': 0.7303755012255119, 'C': 0.56835114633522, 'kernel': 'linear'}. Best is trial 7 with value: 0.5634766251714223.\n",
      "[I 2024-05-30 12:21:37,047] Trial 9 finished with value: 0.22100468708239795 and parameters: {'epsilon': 0.7567559292276751, 'C': 0.9472874885021447, 'kernel': 'sigmoid'}. Best is trial 7 with value: 0.5634766251714223.\n",
      "[I 2024-05-30 12:21:37,064] Trial 10 finished with value: 0.558457712326478 and parameters: {'epsilon': 0.5071603724922561, 'C': 0.7420410665329583, 'kernel': 'poly'}. Best is trial 7 with value: 0.5634766251714223.\n",
      "[I 2024-05-30 12:21:37,080] Trial 11 finished with value: 0.5597615947316329 and parameters: {'epsilon': 0.501927516590135, 'C': 0.7792123791615333, 'kernel': 'poly'}. Best is trial 7 with value: 0.5634766251714223.\n",
      "[I 2024-05-30 12:21:37,098] Trial 12 finished with value: 0.5601762909302004 and parameters: {'epsilon': 0.571536040771815, 'C': 0.7780699435118178, 'kernel': 'poly'}. Best is trial 7 with value: 0.5634766251714223.\n",
      "[I 2024-05-30 12:21:37,115] Trial 13 finished with value: 0.5616275465023113 and parameters: {'epsilon': 0.581625847319992, 'C': 0.8211401179500913, 'kernel': 'poly'}. Best is trial 7 with value: 0.5634766251714223.\n",
      "[I 2024-05-30 12:21:37,132] Trial 14 finished with value: 0.5574529862379656 and parameters: {'epsilon': 0.5713334603138984, 'C': 0.6756538735561889, 'kernel': 'poly'}. Best is trial 7 with value: 0.5634766251714223.\n",
      "[I 2024-05-30 12:21:37,148] Trial 15 finished with value: 0.5623937102546873 and parameters: {'epsilon': 0.5791781738130618, 'C': 0.8529216812134707, 'kernel': 'poly'}. Best is trial 7 with value: 0.5634766251714223.\n",
      "[I 2024-05-30 12:21:37,167] Trial 16 finished with value: 0.5624251466837763 and parameters: {'epsilon': 0.5489351906343202, 'C': 0.8666958490100207, 'kernel': 'poly'}. Best is trial 7 with value: 0.5634766251714223.\n",
      "[I 2024-05-30 12:21:37,183] Trial 17 finished with value: 0.5679885059941219 and parameters: {'epsilon': 0.8650382297907573, 'C': 0.9956836373682691, 'kernel': 'poly'}. Best is trial 17 with value: 0.5679885059941219.\n",
      "[I 2024-05-30 12:21:37,199] Trial 18 finished with value: 0.5671176679665033 and parameters: {'epsilon': 0.9871770109910256, 'C': 0.9964570096177501, 'kernel': 'poly'}. Best is trial 17 with value: 0.5679885059941219.\n",
      "[I 2024-05-30 12:21:37,217] Trial 19 finished with value: 0.5284101018286173 and parameters: {'epsilon': 0.9972426786247579, 'C': 0.9937059416102639, 'kernel': 'rbf'}. Best is trial 17 with value: 0.5679885059941219.\n",
      "[I 2024-05-30 12:21:37,234] Trial 20 finished with value: 0.5616614510287921 and parameters: {'epsilon': 0.8500928267125416, 'C': 0.6675392667863872, 'kernel': 'poly'}. Best is trial 17 with value: 0.5679885059941219.\n",
      "[I 2024-05-30 12:21:37,252] Trial 21 finished with value: 0.5671298535137561 and parameters: {'epsilon': 0.9806699740717528, 'C': 0.9986103211510157, 'kernel': 'poly'}. Best is trial 17 with value: 0.5679885059941219.\n",
      "[I 2024-05-30 12:21:37,271] Trial 22 finished with value: 0.5671202374644677 and parameters: {'epsilon': 0.995493920717178, 'C': 0.9943862435533951, 'kernel': 'poly'}. Best is trial 17 with value: 0.5679885059941219.\n",
      "[I 2024-05-30 12:21:37,288] Trial 23 finished with value: 0.5659309019462244 and parameters: {'epsilon': 0.9198499836934235, 'C': 0.8956113346942934, 'kernel': 'poly'}. Best is trial 17 with value: 0.5679885059941219.\n",
      "[I 2024-05-30 12:21:37,306] Trial 24 finished with value: 0.5662308774982812 and parameters: {'epsilon': 0.8225777796749961, 'C': 0.9170775947995934, 'kernel': 'poly'}. Best is trial 17 with value: 0.5679885059941219.\n",
      "[I 2024-05-30 12:21:37,322] Trial 25 finished with value: 0.5677291812892773 and parameters: {'epsilon': 0.9384115525172313, 'C': 0.9991875576936817, 'kernel': 'poly'}. Best is trial 17 with value: 0.5679885059941219.\n",
      "[I 2024-05-30 12:21:37,340] Trial 26 finished with value: 0.5651160085446942 and parameters: {'epsilon': 0.9251999593479744, 'C': 0.8156810244203684, 'kernel': 'poly'}. Best is trial 17 with value: 0.5679885059941219.\n",
      "[I 2024-05-30 12:21:37,358] Trial 27 finished with value: 0.4729004706308426 and parameters: {'epsilon': 0.8186229558348024, 'C': 0.505404488485824, 'kernel': 'rbf'}. Best is trial 17 with value: 0.5679885059941219.\n",
      "[I 2024-05-30 12:21:37,376] Trial 28 finished with value: 0.25241083119608065 and parameters: {'epsilon': 0.9406822795293719, 'C': 0.8925494726089371, 'kernel': 'sigmoid'}. Best is trial 17 with value: 0.5679885059941219.\n",
      "[I 2024-05-30 12:21:37,392] Trial 29 finished with value: 0.5293261066548384 and parameters: {'epsilon': 0.8699706821546223, 'C': 0.9698576394929526, 'kernel': 'linear'}. Best is trial 17 with value: 0.5679885059941219.\n",
      "[I 2024-05-30 12:21:37,410] Trial 30 finished with value: 0.5666683678712408 and parameters: {'epsilon': 0.7893194822248722, 'C': 0.9468325134951163, 'kernel': 'poly'}. Best is trial 17 with value: 0.5679885059941219.\n",
      "[I 2024-05-30 12:21:37,426] Trial 31 finished with value: 0.5674744568743008 and parameters: {'epsilon': 0.9563877421906475, 'C': 0.9966444098906373, 'kernel': 'poly'}. Best is trial 17 with value: 0.5679885059941219.\n",
      "[I 2024-05-30 12:21:37,443] Trial 32 finished with value: 0.5668148093604326 and parameters: {'epsilon': 0.9472437768843339, 'C': 0.9476057761402086, 'kernel': 'poly'}. Best is trial 17 with value: 0.5679885059941219.\n",
      "[I 2024-05-30 12:21:37,460] Trial 33 finished with value: 0.5678646673950054 and parameters: {'epsilon': 0.8936076242927179, 'C': 0.999653347278791, 'kernel': 'poly'}. Best is trial 17 with value: 0.5679885059941219.\n",
      "[I 2024-05-30 12:21:37,477] Trial 34 finished with value: 0.24500970412073053 and parameters: {'epsilon': 0.8879482554434518, 'C': 0.914480389756827, 'kernel': 'sigmoid'}. Best is trial 17 with value: 0.5679885059941219.\n",
      "[I 2024-05-30 12:21:37,493] Trial 35 finished with value: 0.5656371934312265 and parameters: {'epsilon': 0.8504877043732778, 'C': 0.8825529777348566, 'kernel': 'poly'}. Best is trial 17 with value: 0.5679885059941219.\n",
      "[I 2024-05-30 12:21:37,510] Trial 36 finished with value: 0.5654422464260901 and parameters: {'epsilon': 0.8916071135825081, 'C': 0.834866956120448, 'kernel': 'poly'}. Best is trial 17 with value: 0.5679885059941219.\n",
      "[I 2024-05-30 12:21:37,529] Trial 37 finished with value: 0.5249508698618515 and parameters: {'epsilon': 0.8119974386544168, 'C': 0.9576806555014202, 'kernel': 'rbf'}. Best is trial 17 with value: 0.5679885059941219.\n",
      "[I 2024-05-30 12:21:37,545] Trial 38 finished with value: 0.5306497987550178 and parameters: {'epsilon': 0.9506958869995913, 'C': 0.9249656762184202, 'kernel': 'linear'}. Best is trial 17 with value: 0.5679885059941219.\n",
      "[I 2024-05-30 12:21:37,562] Trial 39 finished with value: 0.3544533220049749 and parameters: {'epsilon': 0.9020612171840444, 'C': 0.6122648815678027, 'kernel': 'sigmoid'}. Best is trial 17 with value: 0.5679885059941219.\n",
      "[I 2024-05-30 12:21:37,579] Trial 40 finished with value: 0.5652184522898072 and parameters: {'epsilon': 0.6410595428316977, 'C': 0.9771464303359291, 'kernel': 'poly'}. Best is trial 17 with value: 0.5679885059941219.\n",
      "[I 2024-05-30 12:21:37,596] Trial 41 finished with value: 0.5675064375252827 and parameters: {'epsilon': 0.9551900741453554, 'C': 0.9996110338968445, 'kernel': 'poly'}. Best is trial 17 with value: 0.5679885059941219.\n",
      "[I 2024-05-30 12:21:37,613] Trial 42 finished with value: 0.5669392851448953 and parameters: {'epsilon': 0.9623676172204654, 'C': 0.9576848865544206, 'kernel': 'poly'}. Best is trial 17 with value: 0.5679885059941219.\n",
      "[I 2024-05-30 12:21:37,629] Trial 43 finished with value: 0.5666253036303005 and parameters: {'epsilon': 0.853140534296241, 'C': 0.9220847341634948, 'kernel': 'poly'}. Best is trial 17 with value: 0.5679885059941219.\n",
      "[I 2024-05-30 12:21:37,646] Trial 44 finished with value: 0.5671221697809697 and parameters: {'epsilon': 0.9164649687162836, 'C': 0.9659842889717132, 'kernel': 'poly'}. Best is trial 17 with value: 0.5679885059941219.\n",
      "[I 2024-05-30 12:21:37,664] Trial 45 finished with value: 0.5299436609533577 and parameters: {'epsilon': 0.7094211642335261, 'C': 0.891909744494796, 'kernel': 'linear'}. Best is trial 17 with value: 0.5679885059941219.\n",
      "[I 2024-05-30 12:21:37,681] Trial 46 finished with value: 0.5670260233774727 and parameters: {'epsilon': 0.8798791491687706, 'C': 0.9360582694940284, 'kernel': 'poly'}. Best is trial 17 with value: 0.5679885059941219.\n",
      "[I 2024-05-30 12:21:37,698] Trial 47 finished with value: 0.5630088912150146 and parameters: {'epsilon': 0.7716585610076473, 'C': 0.7786363672589797, 'kernel': 'poly'}. Best is trial 17 with value: 0.5679885059941219.\n",
      "[I 2024-05-30 12:21:37,716] Trial 48 finished with value: 0.5204132745439094 and parameters: {'epsilon': 0.9614471243547243, 'C': 0.8571154337133825, 'kernel': 'rbf'}. Best is trial 17 with value: 0.5679885059941219.\n",
      "[I 2024-05-30 12:21:37,734] Trial 49 finished with value: 0.5632345356654731 and parameters: {'epsilon': 0.9207734203546434, 'C': 0.7116469547775542, 'kernel': 'poly'}. Best is trial 17 with value: 0.5679885059941219.\n",
      "[I 2024-05-30 12:21:37,751] Trial 50 finished with value: 0.2018974869977228 and parameters: {'epsilon': 0.8621808826181009, 'C': 0.9771741892621435, 'kernel': 'sigmoid'}. Best is trial 17 with value: 0.5679885059941219.\n",
      "[I 2024-05-30 12:21:37,768] Trial 51 finished with value: 0.5671770572429451 and parameters: {'epsilon': 0.9718653137751778, 'C': 0.9956887241111567, 'kernel': 'poly'}. Best is trial 17 with value: 0.5679885059941219.\n",
      "[I 2024-05-30 12:21:37,785] Trial 52 finished with value: 0.5673091884444825 and parameters: {'epsilon': 0.9648456933547863, 'C': 0.9995935477046208, 'kernel': 'poly'}. Best is trial 17 with value: 0.5679885059941219.\n",
      "[I 2024-05-30 12:21:37,802] Trial 53 finished with value: 0.5673082944851956 and parameters: {'epsilon': 0.9326732697803609, 'C': 0.9685136896538317, 'kernel': 'poly'}. Best is trial 17 with value: 0.5679885059941219.\n",
      "[I 2024-05-30 12:21:37,821] Trial 54 finished with value: 0.5669235769285528 and parameters: {'epsilon': 0.901856044357318, 'C': 0.9345955815782032, 'kernel': 'poly'}. Best is trial 17 with value: 0.5679885059941219.\n",
      "[I 2024-05-30 12:21:37,838] Trial 55 finished with value: 0.565939221858051 and parameters: {'epsilon': 0.8344864665219954, 'C': 0.9030520749234007, 'kernel': 'poly'}. Best is trial 17 with value: 0.5679885059941219.\n",
      "[I 2024-05-30 12:21:37,856] Trial 56 finished with value: 0.5587731809887488 and parameters: {'epsilon': 0.972567819167313, 'C': 0.6162770944526125, 'kernel': 'poly'}. Best is trial 17 with value: 0.5679885059941219.\n",
      "[I 2024-05-30 12:21:37,876] Trial 57 finished with value: 0.5673460763910663 and parameters: {'epsilon': 0.7949724144438927, 'C': 0.9953889222700982, 'kernel': 'poly'}. Best is trial 17 with value: 0.5679885059941219.\n",
      "[I 2024-05-30 12:21:37,893] Trial 58 finished with value: 0.5296551227428274 and parameters: {'epsilon': 0.7390291136548703, 'C': 0.9392718796850501, 'kernel': 'linear'}. Best is trial 17 with value: 0.5679885059941219.\n",
      "[I 2024-05-30 12:21:37,913] Trial 59 finished with value: 0.5648715870252108 and parameters: {'epsilon': 0.7805906547825933, 'C': 0.8755612805424624, 'kernel': 'poly'}. Best is trial 17 with value: 0.5679885059941219.\n",
      "[I 2024-05-30 12:21:37,931] Trial 60 finished with value: 0.5673083611667942 and parameters: {'epsilon': 0.8020749749420644, 'C': 0.973017504117876, 'kernel': 'poly'}. Best is trial 17 with value: 0.5679885059941219.\n",
      "[I 2024-05-30 12:21:37,950] Trial 61 finished with value: 0.5670529588493209 and parameters: {'epsilon': 0.9972592065325432, 'C': 0.9900222658484238, 'kernel': 'poly'}. Best is trial 17 with value: 0.5679885059941219.\n",
      "[I 2024-05-30 12:21:37,968] Trial 62 finished with value: 0.5674832449130702 and parameters: {'epsilon': 0.9083592441241437, 'C': 0.9922531595621682, 'kernel': 'poly'}. Best is trial 17 with value: 0.5679885059941219.\n",
      "[I 2024-05-30 12:21:37,984] Trial 63 finished with value: 0.5671344287319153 and parameters: {'epsilon': 0.9080227414580779, 'C': 0.9553398533589661, 'kernel': 'poly'}. Best is trial 17 with value: 0.5679885059941219.\n",
      "[I 2024-05-30 12:21:38,002] Trial 64 finished with value: 0.5665245209270962 and parameters: {'epsilon': 0.8728555422242487, 'C': 0.9206491856488295, 'kernel': 'poly'}. Best is trial 17 with value: 0.5679885059941219.\n",
      "[I 2024-05-30 12:21:38,019] Trial 65 finished with value: 0.5674781552650481 and parameters: {'epsilon': 0.9378847973745164, 'C': 0.9777990194174184, 'kernel': 'poly'}. Best is trial 17 with value: 0.5679885059941219.\n",
      "[I 2024-05-30 12:21:38,037] Trial 66 finished with value: 0.5272069349784501 and parameters: {'epsilon': 0.9383913772554816, 'C': 0.9709226738727799, 'kernel': 'rbf'}. Best is trial 17 with value: 0.5679885059941219.\n",
      "[I 2024-05-30 12:21:38,056] Trial 67 finished with value: 0.5660716068789895 and parameters: {'epsilon': 0.8408777338086482, 'C': 0.906759547847765, 'kernel': 'poly'}. Best is trial 17 with value: 0.5679885059941219.\n",
      "[I 2024-05-30 12:21:38,075] Trial 68 finished with value: 0.5672229572544294 and parameters: {'epsilon': 0.8861871821395738, 'C': 0.9422014874610586, 'kernel': 'poly'}. Best is trial 17 with value: 0.5679885059941219.\n",
      "[I 2024-05-30 12:21:38,092] Trial 69 finished with value: 0.263837904945463 and parameters: {'epsilon': 0.9404144504919091, 'C': 0.8438064917013572, 'kernel': 'sigmoid'}. Best is trial 17 with value: 0.5679885059941219.\n",
      "[I 2024-05-30 12:21:38,109] Trial 70 finished with value: 0.5609572042950561 and parameters: {'epsilon': 0.6731139784676753, 'C': 0.757457043432737, 'kernel': 'poly'}. Best is trial 17 with value: 0.5679885059941219.\n",
      "[I 2024-05-30 12:21:38,126] Trial 71 finished with value: 0.5672765777985311 and parameters: {'epsilon': 0.907252863227934, 'C': 0.9833409558590792, 'kernel': 'poly'}. Best is trial 17 with value: 0.5679885059941219.\n",
      "[I 2024-05-30 12:21:38,144] Trial 72 finished with value: 0.5670543798840691 and parameters: {'epsilon': 0.925503595011225, 'C': 0.9541661328983218, 'kernel': 'poly'}. Best is trial 17 with value: 0.5679885059941219.\n",
      "[I 2024-05-30 12:21:38,162] Trial 73 finished with value: 0.5680046391059881 and parameters: {'epsilon': 0.8632199937454562, 'C': 0.9965172448067926, 'kernel': 'poly'}. Best is trial 73 with value: 0.5680046391059881.\n",
      "[I 2024-05-30 12:21:38,179] Trial 74 finished with value: 0.567605127423785 and parameters: {'epsilon': 0.8646905260728122, 'C': 0.9779077960911409, 'kernel': 'poly'}. Best is trial 73 with value: 0.5680046391059881.\n",
      "[I 2024-05-30 12:21:38,197] Trial 75 finished with value: 0.5676011714320788 and parameters: {'epsilon': 0.8619507682788183, 'C': 0.9751669852132727, 'kernel': 'poly'}. Best is trial 73 with value: 0.5680046391059881.\n",
      "[I 2024-05-30 12:21:38,217] Trial 76 finished with value: 0.5674798252273304 and parameters: {'epsilon': 0.8645413902943037, 'C': 0.9565025890644235, 'kernel': 'poly'}. Best is trial 73 with value: 0.5680046391059881.\n",
      "[I 2024-05-30 12:21:38,235] Trial 77 finished with value: 0.5297430248506346 and parameters: {'epsilon': 0.8329244348975149, 'C': 0.6333569113101329, 'kernel': 'linear'}. Best is trial 73 with value: 0.5680046391059881.\n",
      "[I 2024-05-30 12:21:38,254] Trial 78 finished with value: 0.5548548233880082 and parameters: {'epsilon': 0.8234781740026861, 'C': 0.5338837668484712, 'kernel': 'poly'}. Best is trial 73 with value: 0.5680046391059881.\n",
      "[I 2024-05-30 12:21:38,274] Trial 79 finished with value: 0.5215702778819696 and parameters: {'epsilon': 0.8935965374169552, 'C': 0.9061871958712334, 'kernel': 'rbf'}. Best is trial 73 with value: 0.5680046391059881.\n",
      "[I 2024-05-30 12:21:38,294] Trial 80 finished with value: 0.561065486187895 and parameters: {'epsilon': 0.5277432022674353, 'C': 0.8099162141815118, 'kernel': 'poly'}. Best is trial 73 with value: 0.5680046391059881.\n",
      "[I 2024-05-30 12:21:38,314] Trial 81 finished with value: 0.5674697850152643 and parameters: {'epsilon': 0.8643475184658693, 'C': 0.9561197316488275, 'kernel': 'poly'}. Best is trial 73 with value: 0.5680046391059881.\n",
      "[I 2024-05-30 12:21:38,336] Trial 82 finished with value: 0.5668072976845175 and parameters: {'epsilon': 0.8549498614672011, 'C': 0.9320139005789218, 'kernel': 'poly'}. Best is trial 73 with value: 0.5680046391059881.\n",
      "[I 2024-05-30 12:21:38,358] Trial 83 finished with value: 0.5676596121224242 and parameters: {'epsilon': 0.87571045884824, 'C': 0.9836199502596644, 'kernel': 'poly'}. Best is trial 73 with value: 0.5680046391059881.\n",
      "[I 2024-05-30 12:21:38,380] Trial 84 finished with value: 0.5676171429841025 and parameters: {'epsilon': 0.8766064475194818, 'C': 0.9821705070457449, 'kernel': 'poly'}. Best is trial 73 with value: 0.5680046391059881.\n",
      "[I 2024-05-30 12:21:38,425] Trial 85 finished with value: 0.5675645763575352 and parameters: {'epsilon': 0.8788919945837598, 'C': 0.9754633205245026, 'kernel': 'poly'}. Best is trial 73 with value: 0.5680046391059881.\n",
      "[I 2024-05-30 12:21:38,453] Trial 86 finished with value: 0.5675617565255782 and parameters: {'epsilon': 0.8845947245056739, 'C': 0.9775566297345133, 'kernel': 'poly'}. Best is trial 73 with value: 0.5680046391059881.\n",
      "[I 2024-05-30 12:21:38,472] Trial 87 finished with value: 0.566660911987489 and parameters: {'epsilon': 0.8384985123218662, 'C': 0.9275697454732298, 'kernel': 'poly'}. Best is trial 73 with value: 0.5680046391059881.\n",
      "[I 2024-05-30 12:21:38,490] Trial 88 finished with value: 0.22358940709309005 and parameters: {'epsilon': 0.8096531598204663, 'C': 0.9455774359117634, 'kernel': 'sigmoid'}. Best is trial 73 with value: 0.5680046391059881.\n",
      "[I 2024-05-30 12:21:38,508] Trial 89 finished with value: 0.5675752179068599 and parameters: {'epsilon': 0.8502241142923636, 'C': 0.9641039829356092, 'kernel': 'poly'}. Best is trial 73 with value: 0.5680046391059881.\n",
      "[I 2024-05-30 12:21:38,526] Trial 90 finished with value: 0.5649492438709127 and parameters: {'epsilon': 0.7593359548528111, 'C': 0.8880994391645852, 'kernel': 'poly'}. Best is trial 73 with value: 0.5680046391059881.\n",
      "[I 2024-05-30 12:21:38,543] Trial 91 finished with value: 0.5675311562145764 and parameters: {'epsilon': 0.8744639302348726, 'C': 0.9661519796372489, 'kernel': 'poly'}. Best is trial 73 with value: 0.5680046391059881.\n",
      "[I 2024-05-30 12:21:38,561] Trial 92 finished with value: 0.5676157685934926 and parameters: {'epsilon': 0.8541108665435542, 'C': 0.9748989431659311, 'kernel': 'poly'}. Best is trial 73 with value: 0.5680046391059881.\n",
      "[I 2024-05-30 12:21:38,578] Trial 93 finished with value: 0.5676311910806411 and parameters: {'epsilon': 0.8458269227137851, 'C': 0.9816246538396736, 'kernel': 'poly'}. Best is trial 73 with value: 0.5680046391059881.\n",
      "[I 2024-05-30 12:21:38,595] Trial 94 finished with value: 0.5641238399609192 and parameters: {'epsilon': 0.6057427350660882, 'C': 0.9403161106543304, 'kernel': 'poly'}. Best is trial 73 with value: 0.5680046391059881.\n",
      "[I 2024-05-30 12:21:38,612] Trial 95 finished with value: 0.5674806374658987 and parameters: {'epsilon': 0.8231879847578406, 'C': 0.983611017584061, 'kernel': 'poly'}. Best is trial 73 with value: 0.5680046391059881.\n",
      "[I 2024-05-30 12:21:38,629] Trial 96 finished with value: 0.5664133565697593 and parameters: {'epsilon': 0.8461392071062556, 'C': 0.9174419037002052, 'kernel': 'poly'}. Best is trial 73 with value: 0.5680046391059881.\n",
      "[I 2024-05-30 12:21:38,646] Trial 97 finished with value: 0.5294840017277698 and parameters: {'epsilon': 0.8885598733759958, 'C': 0.9863608842267091, 'kernel': 'linear'}. Best is trial 73 with value: 0.5680046391059881.\n",
      "[I 2024-05-30 12:21:38,664] Trial 98 finished with value: 0.5675304678668112 and parameters: {'epsilon': 0.861419718764536, 'C': 0.959590905867261, 'kernel': 'poly'}. Best is trial 73 with value: 0.5680046391059881.\n",
      "[I 2024-05-30 12:21:38,682] Trial 99 finished with value: 0.5675353625938746 and parameters: {'epsilon': 0.8116370339624943, 'C': 0.9979752753809733, 'kernel': 'poly'}. Best is trial 73 with value: 0.5680046391059881.\n",
      "[I 2024-05-30 12:21:38,700] Trial 100 finished with value: 0.5245738216271577 and parameters: {'epsilon': 0.8318283208530578, 'C': 0.9471045775061994, 'kernel': 'rbf'}. Best is trial 73 with value: 0.5680046391059881.\n",
      "[I 2024-05-30 12:21:38,718] Trial 101 finished with value: 0.5675687625829238 and parameters: {'epsilon': 0.8489177995064416, 'C': 0.9632414464179341, 'kernel': 'poly'}. Best is trial 73 with value: 0.5680046391059881.\n",
      "[I 2024-05-30 12:21:38,736] Trial 102 finished with value: 0.5675845845235166 and parameters: {'epsilon': 0.8713650914374145, 'C': 0.9760630479170391, 'kernel': 'poly'}. Best is trial 73 with value: 0.5680046391059881.\n",
      "[I 2024-05-30 12:21:38,754] Trial 103 finished with value: 0.5674324012593415 and parameters: {'epsilon': 0.8969531895793157, 'C': 0.9785823636885042, 'kernel': 'poly'}. Best is trial 73 with value: 0.5680046391059881.\n",
      "[I 2024-05-30 12:21:38,771] Trial 104 finished with value: 0.5681624720494343 and parameters: {'epsilon': 0.8695506199468022, 'C': 0.9998852235295405, 'kernel': 'poly'}. Best is trial 104 with value: 0.5681624720494343.\n",
      "[I 2024-05-30 12:21:38,789] Trial 105 finished with value: 0.5678156501141083 and parameters: {'epsilon': 0.8999993152401992, 'C': 0.9985097646711684, 'kernel': 'poly'}. Best is trial 104 with value: 0.5681624720494343.\n",
      "[I 2024-05-30 12:21:38,808] Trial 106 finished with value: 0.5673234194788244 and parameters: {'epsilon': 0.9131980345288881, 'C': 0.9868704375365907, 'kernel': 'poly'}. Best is trial 104 with value: 0.5681624720494343.\n",
      "[I 2024-05-30 12:21:38,827] Trial 107 finished with value: 0.5676488962272657 and parameters: {'epsilon': 0.9243833862268784, 'C': 0.9989753280551954, 'kernel': 'poly'}. Best is trial 104 with value: 0.5681624720494343.\n",
      "[I 2024-05-30 12:21:38,847] Trial 108 finished with value: 0.5675962688236826 and parameters: {'epsilon': 0.9208667762908666, 'C': 0.997833357868322, 'kernel': 'poly'}. Best is trial 104 with value: 0.5681624720494343.\n",
      "[I 2024-05-30 12:21:38,865] Trial 109 finished with value: 0.238494295206516 and parameters: {'epsilon': 0.8942117045430646, 'C': 0.9291661093224443, 'kernel': 'sigmoid'}. Best is trial 104 with value: 0.5681624720494343.\n",
      "[I 2024-05-30 12:21:38,884] Trial 110 finished with value: 0.566654294141677 and parameters: {'epsilon': 0.9850750381007847, 'C': 0.954819300272887, 'kernel': 'poly'}. Best is trial 104 with value: 0.5681624720494343.\n",
      "[I 2024-05-30 12:21:38,902] Trial 111 finished with value: 0.5674121806367795 and parameters: {'epsilon': 0.9308002491122839, 'C': 0.982062900187895, 'kernel': 'poly'}. Best is trial 104 with value: 0.5681624720494343.\n",
      "[I 2024-05-30 12:21:38,923] Trial 112 finished with value: 0.5681616087184301 and parameters: {'epsilon': 0.8800148987286173, 'C': 0.998481370542185, 'kernel': 'poly'}. Best is trial 104 with value: 0.5681624720494343.\n",
      "[I 2024-05-30 12:21:38,942] Trial 113 finished with value: 0.5676610382535292 and parameters: {'epsilon': 0.9043601276557128, 'C': 0.9957424706481617, 'kernel': 'poly'}. Best is trial 104 with value: 0.5681624720494343.\n",
      "[I 2024-05-30 12:21:38,961] Trial 114 finished with value: 0.5676630306332425 and parameters: {'epsilon': 0.9069987755791299, 'C': 0.9965942298790604, 'kernel': 'poly'}. Best is trial 104 with value: 0.5681624720494343.\n",
      "[I 2024-05-30 12:21:38,981] Trial 115 finished with value: 0.5636783196509328 and parameters: {'epsilon': 0.9024268030269058, 'C': 0.7196931212588018, 'kernel': 'poly'}. Best is trial 104 with value: 0.5681624720494343.\n",
      "[I 2024-05-30 12:21:38,999] Trial 116 finished with value: 0.5675192510626099 and parameters: {'epsilon': 0.9530265658037842, 'C': 0.9953684821329531, 'kernel': 'poly'}. Best is trial 104 with value: 0.5681624720494343.\n",
      "[I 2024-05-30 12:21:39,018] Trial 117 finished with value: 0.5677042379841797 and parameters: {'epsilon': 0.9063840916675702, 'C': 0.9974981549163933, 'kernel': 'poly'}. Best is trial 104 with value: 0.5681624720494343.\n",
      "[I 2024-05-30 12:21:39,039] Trial 118 finished with value: 0.5676241060197484 and parameters: {'epsilon': 0.9168258891294057, 'C': 0.9985777430647444, 'kernel': 'poly'}. Best is trial 104 with value: 0.5681624720494343.\n",
      "[I 2024-05-30 12:21:39,060] Trial 119 finished with value: 0.5676964857442923 and parameters: {'epsilon': 0.92782910450376, 'C': 0.9997876248014714, 'kernel': 'poly'}. Best is trial 104 with value: 0.5681624720494343.\n",
      "[I 2024-05-30 12:21:39,079] Trial 120 finished with value: 0.5297515184833919 and parameters: {'epsilon': 0.9486242849577374, 'C': 0.6643276639940194, 'kernel': 'linear'}. Best is trial 104 with value: 0.5681624720494343.\n",
      "[I 2024-05-30 12:21:39,100] Trial 121 finished with value: 0.5676921221177726 and parameters: {'epsilon': 0.9273323203102468, 'C': 0.9998100503109713, 'kernel': 'poly'}. Best is trial 104 with value: 0.5681624720494343.\n",
      "[I 2024-05-30 12:21:39,121] Trial 122 finished with value: 0.5672248703391118 and parameters: {'epsilon': 0.9037563493686619, 'C': 0.9626454576319481, 'kernel': 'poly'}. Best is trial 104 with value: 0.5681624720494343.\n",
      "[I 2024-05-30 12:21:39,141] Trial 123 finished with value: 0.5669136295504802 and parameters: {'epsilon': 0.9343276109820926, 'C': 0.9474563062750148, 'kernel': 'poly'}. Best is trial 104 with value: 0.5681624720494343.\n",
      "[I 2024-05-30 12:21:39,161] Trial 124 finished with value: 0.5670169507164164 and parameters: {'epsilon': 0.970723311406886, 'C': 0.9643665337751375, 'kernel': 'poly'}. Best is trial 104 with value: 0.5681624720494343.\n",
      "[I 2024-05-30 12:21:39,181] Trial 125 finished with value: 0.5680440755542404 and parameters: {'epsilon': 0.8851516273642192, 'C': 0.9986398801325116, 'kernel': 'poly'}. Best is trial 104 with value: 0.5681624720494343.\n",
      "[I 2024-05-30 12:21:39,203] Trial 126 finished with value: 0.5679465121162823 and parameters: {'epsilon': 0.8887929805883112, 'C': 0.9982130481577652, 'kernel': 'poly'}. Best is trial 104 with value: 0.5681624720494343.\n",
      "[I 2024-05-30 12:21:39,226] Trial 127 finished with value: 0.5235811296879949 and parameters: {'epsilon': 0.8860305908422108, 'C': 0.9373224696489446, 'kernel': 'rbf'}. Best is trial 104 with value: 0.5681624720494343.\n",
      "[I 2024-05-30 12:21:39,247] Trial 128 finished with value: 0.5671355142111555 and parameters: {'epsilon': 0.9149672737343307, 'C': 0.9656766440304939, 'kernel': 'poly'}. Best is trial 104 with value: 0.5681624720494343.\n",
      "[I 2024-05-30 12:21:39,267] Trial 129 finished with value: 0.5676069695763208 and parameters: {'epsilon': 0.894152472406662, 'C': 0.9879877207460402, 'kernel': 'poly'}. Best is trial 104 with value: 0.5681624720494343.\n",
      "[I 2024-05-30 12:21:39,288] Trial 130 finished with value: 0.5677104969869252 and parameters: {'epsilon': 0.9414806503748558, 'C': 0.9995605184966142, 'kernel': 'poly'}. Best is trial 104 with value: 0.5681624720494343.\n",
      "[I 2024-05-30 12:21:39,307] Trial 131 finished with value: 0.567332363534111 and parameters: {'epsilon': 0.9359557758651886, 'C': 0.9684513768670152, 'kernel': 'poly'}. Best is trial 104 with value: 0.5681624720494343.\n",
      "[I 2024-05-30 12:21:39,327] Trial 132 finished with value: 0.5676796139802593 and parameters: {'epsilon': 0.925959482119474, 'C': 0.9997020143776459, 'kernel': 'poly'}. Best is trial 104 with value: 0.5681624720494343.\n",
      "[I 2024-05-30 12:21:39,345] Trial 133 finished with value: 0.5668284077528155 and parameters: {'epsilon': 0.9544311047017368, 'C': 0.9504456167247533, 'kernel': 'poly'}. Best is trial 104 with value: 0.5681624720494343.\n",
      "[I 2024-05-30 12:21:39,364] Trial 134 finished with value: 0.5676200898375638 and parameters: {'epsilon': 0.9409853043751122, 'C': 0.9862580703430303, 'kernel': 'poly'}. Best is trial 104 with value: 0.5681624720494343.\n",
      "[I 2024-05-30 12:21:39,382] Trial 135 finished with value: 0.5676440229602053 and parameters: {'epsilon': 0.9253211809151807, 'C': 0.9983286167381596, 'kernel': 'poly'}. Best is trial 104 with value: 0.5681624720494343.\n",
      "[I 2024-05-30 12:21:39,400] Trial 136 finished with value: 0.5670826963711171 and parameters: {'epsilon': 0.9744389185782734, 'C': 0.9702183033825815, 'kernel': 'poly'}. Best is trial 104 with value: 0.5681624720494343.\n",
      "[I 2024-05-30 12:21:39,419] Trial 137 finished with value: 0.19868618339503086 and parameters: {'epsilon': 0.8851239178240652, 'C': 0.9994017856206119, 'kernel': 'sigmoid'}. Best is trial 104 with value: 0.5681624720494343.\n",
      "[I 2024-05-30 12:21:39,437] Trial 138 finished with value: 0.5667554780669289 and parameters: {'epsilon': 0.9578869024820164, 'C': 0.948518924108064, 'kernel': 'poly'}. Best is trial 104 with value: 0.5681624720494343.\n",
      "[I 2024-05-30 12:21:39,458] Trial 139 finished with value: 0.5673080356216091 and parameters: {'epsilon': 0.9227490445456076, 'C': 0.9826219891913623, 'kernel': 'poly'}. Best is trial 104 with value: 0.5681624720494343.\n",
      "[I 2024-05-30 12:21:39,478] Trial 140 finished with value: 0.5674023611470226 and parameters: {'epsilon': 0.8961035436820203, 'C': 0.9660170430446956, 'kernel': 'poly'}. Best is trial 104 with value: 0.5681624720494343.\n",
      "[I 2024-05-30 12:21:39,498] Trial 141 finished with value: 0.5676642960823484 and parameters: {'epsilon': 0.9156716723520124, 'C': 0.9992425290964816, 'kernel': 'poly'}. Best is trial 104 with value: 0.5681624720494343.\n",
      "[I 2024-05-30 12:21:39,522] Trial 142 finished with value: 0.5673036469427621 and parameters: {'epsilon': 0.9134477132528461, 'C': 0.9863845794922027, 'kernel': 'poly'}. Best is trial 104 with value: 0.5681624720494343.\n",
      "[I 2024-05-30 12:21:39,546] Trial 143 finished with value: 0.5560847626234267 and parameters: {'epsilon': 0.8733994758962961, 'C': 0.5720687024155853, 'kernel': 'poly'}. Best is trial 104 with value: 0.5681624720494343.\n",
      "[I 2024-05-30 12:21:39,572] Trial 144 finished with value: 0.5674304476785405 and parameters: {'epsilon': 0.9425033907191501, 'C': 0.972699560604194, 'kernel': 'poly'}. Best is trial 104 with value: 0.5681624720494343.\n",
      "[I 2024-05-30 12:21:39,596] Trial 145 finished with value: 0.5650467742306824 and parameters: {'epsilon': 0.8828831813005422, 'C': 0.7988446380465699, 'kernel': 'poly'}. Best is trial 104 with value: 0.5681624720494343.\n",
      "[I 2024-05-30 12:21:39,624] Trial 146 finished with value: 0.5661618816920971 and parameters: {'epsilon': 0.6994025184699102, 'C': 0.9837427177085684, 'kernel': 'poly'}. Best is trial 104 with value: 0.5681624720494343.\n",
      "[I 2024-05-30 12:21:39,650] Trial 147 finished with value: 0.567881857921344 and parameters: {'epsilon': 0.8984165315943439, 'C': 0.99977926245634, 'kernel': 'poly'}. Best is trial 104 with value: 0.5681624720494343.\n",
      "[I 2024-05-30 12:21:39,669] Trial 148 finished with value: 0.5294487008765196 and parameters: {'epsilon': 0.865493340820619, 'C': 0.9567756723871779, 'kernel': 'linear'}. Best is trial 104 with value: 0.5681624720494343.\n",
      "[I 2024-05-30 12:21:39,691] Trial 149 finished with value: 0.5663686297357168 and parameters: {'epsilon': 0.742367428055829, 'C': 0.97297659853403, 'kernel': 'poly'}. Best is trial 104 with value: 0.5681624720494343.\n",
      "[I 2024-05-30 12:21:39,714] Trial 150 finished with value: 0.567426467308551 and parameters: {'epsilon': 0.8986327940979806, 'C': 0.9873880616710421, 'kernel': 'poly'}. Best is trial 104 with value: 0.5681624720494343.\n",
      "[I 2024-05-30 12:21:39,742] Trial 151 finished with value: 0.5676404740934252 and parameters: {'epsilon': 0.929499436222644, 'C': 0.996114559847912, 'kernel': 'poly'}. Best is trial 104 with value: 0.5681624720494343.\n",
      "[I 2024-05-30 12:21:39,764] Trial 152 finished with value: 0.5677344197124816 and parameters: {'epsilon': 0.9097742861494398, 'C': 0.999297937084048, 'kernel': 'poly'}. Best is trial 104 with value: 0.5681624720494343.\n",
      "[I 2024-05-30 12:21:39,786] Trial 153 finished with value: 0.5675969996124168 and parameters: {'epsilon': 0.888658599353313, 'C': 0.9802375216985626, 'kernel': 'poly'}. Best is trial 104 with value: 0.5681624720494343.\n",
      "[I 2024-05-30 12:21:39,809] Trial 154 finished with value: 0.5682016457246216 and parameters: {'epsilon': 0.8788666407083235, 'C': 0.9996581253500122, 'kernel': 'poly'}. Best is trial 154 with value: 0.5682016457246216.\n",
      "[I 2024-05-30 12:21:39,832] Trial 155 finished with value: 0.5675190392396244 and parameters: {'epsilon': 0.8744523174104143, 'C': 0.9630962048983788, 'kernel': 'poly'}. Best is trial 154 with value: 0.5682016457246216.\n",
      "[I 2024-05-30 12:21:39,854] Trial 156 finished with value: 0.5676425135681122 and parameters: {'epsilon': 0.8589754329448276, 'C': 0.9829896588565866, 'kernel': 'poly'}. Best is trial 154 with value: 0.5682016457246216.\n",
      "[I 2024-05-30 12:21:39,879] Trial 157 finished with value: 0.525603333733917 and parameters: {'epsilon': 0.907126810644698, 'C': 0.9551912831615452, 'kernel': 'rbf'}. Best is trial 154 with value: 0.5682016457246216.\n",
      "[I 2024-05-30 12:21:39,902] Trial 158 finished with value: 0.5675556377844109 and parameters: {'epsilon': 0.8806996002922661, 'C': 0.9746393558373814, 'kernel': 'poly'}. Best is trial 154 with value: 0.5682016457246216.\n",
      "[I 2024-05-30 12:21:39,926] Trial 159 finished with value: 0.5671762179580929 and parameters: {'epsilon': 0.8969542681730341, 'C': 0.939946054573849, 'kernel': 'poly'}. Best is trial 154 with value: 0.5682016457246216.\n",
      "[I 2024-05-30 12:21:39,951] Trial 160 finished with value: 0.5676718041938797 and parameters: {'epsilon': 0.868118848702551, 'C': 0.9854936003513841, 'kernel': 'poly'}. Best is trial 154 with value: 0.5682016457246216.\n",
      "[I 2024-05-30 12:21:39,980] Trial 161 finished with value: 0.5676675515911384 and parameters: {'epsilon': 0.9449160730845698, 'C': 0.9999830112743252, 'kernel': 'poly'}. Best is trial 154 with value: 0.5682016457246216.\n",
      "[I 2024-05-30 12:21:40,009] Trial 162 finished with value: 0.567632038421477 and parameters: {'epsilon': 0.9203823007718984, 'C': 0.999408349312004, 'kernel': 'poly'}. Best is trial 154 with value: 0.5682016457246216.\n",
      "[I 2024-05-30 12:21:40,070] Trial 163 finished with value: 0.567312470454572 and parameters: {'epsilon': 0.929449176813659, 'C': 0.9722812949773812, 'kernel': 'poly'}. Best is trial 154 with value: 0.5682016457246216.\n",
      "[I 2024-05-30 12:21:40,098] Trial 164 finished with value: 0.5673191534085313 and parameters: {'epsilon': 0.9076015224308409, 'C': 0.9860266699994537, 'kernel': 'poly'}. Best is trial 154 with value: 0.5682016457246216.\n",
      "[I 2024-05-30 12:21:40,118] Trial 165 finished with value: 0.5659667661142174 and parameters: {'epsilon': 0.6565949556059205, 'C': 0.9988988819958808, 'kernel': 'poly'}. Best is trial 154 with value: 0.5682016457246216.\n",
      "[I 2024-05-30 12:21:40,137] Trial 166 finished with value: 0.5674949631197751 and parameters: {'epsilon': 0.8899514591422311, 'C': 0.9657255601076273, 'kernel': 'poly'}. Best is trial 154 with value: 0.5682016457246216.\n",
      "[I 2024-05-30 12:21:40,158] Trial 167 finished with value: 0.567461034025217 and parameters: {'epsilon': 0.9581586417063548, 'C': 0.9998702374683519, 'kernel': 'poly'}. Best is trial 154 with value: 0.5682016457246216.\n",
      "[I 2024-05-30 12:21:40,179] Trial 168 finished with value: 0.2017168847512817 and parameters: {'epsilon': 0.9105530666179658, 'C': 0.9842279580782248, 'kernel': 'sigmoid'}. Best is trial 154 with value: 0.5682016457246216.\n",
      "[I 2024-05-30 12:21:40,199] Trial 169 finished with value: 0.5665945100587545 and parameters: {'epsilon': 0.98349778502572, 'C': 0.9526081126724067, 'kernel': 'poly'}. Best is trial 154 with value: 0.5682016457246216.\n",
      "[I 2024-05-30 12:21:40,218] Trial 170 finished with value: 0.5675210047674566 and parameters: {'epsilon': 0.8815939604005885, 'C': 0.9669287951394907, 'kernel': 'poly'}. Best is trial 154 with value: 0.5682016457246216.\n",
      "[I 2024-05-30 12:21:40,238] Trial 171 finished with value: 0.5555393014764174 and parameters: {'epsilon': 0.8685789354362635, 'C': 0.5506664882639416, 'kernel': 'poly'}. Best is trial 154 with value: 0.5682016457246216.\n",
      "[I 2024-05-30 12:21:40,257] Trial 172 finished with value: 0.5676599954158899 and parameters: {'epsilon': 0.8529119528369415, 'C': 0.9839457788980269, 'kernel': 'poly'}. Best is trial 154 with value: 0.5682016457246216.\n",
      "[I 2024-05-30 12:21:40,279] Trial 173 finished with value: 0.5674759404008751 and parameters: {'epsilon': 0.8962760590496803, 'C': 0.9851243866041208, 'kernel': 'poly'}. Best is trial 154 with value: 0.5682016457246216.\n",
      "[I 2024-05-30 12:21:40,299] Trial 174 finished with value: 0.5681218163490428 and parameters: {'epsilon': 0.8650365501368052, 'C': 0.9997207132739019, 'kernel': 'poly'}. Best is trial 154 with value: 0.5682016457246216.\n",
      "[I 2024-05-30 12:21:40,321] Trial 175 finished with value: 0.5679401514535207 and parameters: {'epsilon': 0.8397940100690147, 'C': 0.9990906379204609, 'kernel': 'poly'}. Best is trial 154 with value: 0.5682016457246216.\n",
      "[I 2024-05-30 12:21:40,345] Trial 176 finished with value: 0.5675062985138374 and parameters: {'epsilon': 0.8348424196099943, 'C': 0.972322424194216, 'kernel': 'poly'}. Best is trial 154 with value: 0.5682016457246216.\n",
      "[I 2024-05-30 12:21:40,370] Trial 177 finished with value: 0.5567857528672391 and parameters: {'epsilon': 0.8438134195192959, 'C': 0.5985993090199384, 'kernel': 'poly'}. Best is trial 154 with value: 0.5682016457246216.\n",
      "[I 2024-05-30 12:21:40,395] Trial 178 finished with value: 0.5676664839257857 and parameters: {'epsilon': 0.859060621974738, 'C': 0.9871541683091546, 'kernel': 'poly'}. Best is trial 154 with value: 0.5682016457246216.\n",
      "[I 2024-05-30 12:21:40,414] Trial 179 finished with value: 0.5675454425318112 and parameters: {'epsilon': 0.8788059588474594, 'C': 0.9715666007044259, 'kernel': 'poly'}. Best is trial 154 with value: 0.5682016457246216.\n",
      "[I 2024-05-30 12:21:40,433] Trial 180 finished with value: 0.5295403170894457 and parameters: {'epsilon': 0.8934611021610748, 'C': 0.9992459328687234, 'kernel': 'linear'}. Best is trial 154 with value: 0.5682016457246216.\n",
      "[I 2024-05-30 12:21:40,452] Trial 181 finished with value: 0.5677220121742276 and parameters: {'epsilon': 0.9314232507501906, 'C': 0.9999698549480375, 'kernel': 'poly'}. Best is trial 154 with value: 0.5682016457246216.\n",
      "[I 2024-05-30 12:21:40,471] Trial 182 finished with value: 0.5672562838803732 and parameters: {'epsilon': 0.9116429596514852, 'C': 0.984326877545615, 'kernel': 'poly'}. Best is trial 154 with value: 0.5682016457246216.\n",
      "[I 2024-05-30 12:21:40,489] Trial 183 finished with value: 0.5677871147802975 and parameters: {'epsilon': 0.8705569370304079, 'C': 0.9884782875804091, 'kernel': 'poly'}. Best is trial 154 with value: 0.5682016457246216.\n",
      "[I 2024-05-30 12:21:40,509] Trial 184 finished with value: 0.5675932286672156 and parameters: {'epsilon': 0.8664042682605169, 'C': 0.9755522981183248, 'kernel': 'poly'}. Best is trial 154 with value: 0.5682016457246216.\n",
      "[I 2024-05-30 12:21:40,527] Trial 185 finished with value: 0.5674830316293749 and parameters: {'epsilon': 0.8525091798857658, 'C': 0.9591796701859339, 'kernel': 'poly'}. Best is trial 154 with value: 0.5682016457246216.\n",
      "[I 2024-05-30 12:21:40,547] Trial 186 finished with value: 0.5678128549785398 and parameters: {'epsilon': 0.8724112303219882, 'C': 0.9888935920927444, 'kernel': 'poly'}. Best is trial 154 with value: 0.5682016457246216.\n",
      "[I 2024-05-30 12:21:40,566] Trial 187 finished with value: 0.5677570918872714 and parameters: {'epsilon': 0.8793994474038295, 'C': 0.985842605097432, 'kernel': 'poly'}. Best is trial 154 with value: 0.5682016457246216.\n",
      "[I 2024-05-30 12:21:40,585] Trial 188 finished with value: 0.5674935048429732 and parameters: {'epsilon': 0.8258868173398236, 'C': 0.9823312981803358, 'kernel': 'poly'}. Best is trial 154 with value: 0.5682016457246216.\n",
      "[I 2024-05-30 12:21:40,604] Trial 189 finished with value: 0.5675055156639549 and parameters: {'epsilon': 0.8772357702956437, 'C': 0.9610994191116147, 'kernel': 'poly'}. Best is trial 154 with value: 0.5682016457246216.\n",
      "[I 2024-05-30 12:21:40,625] Trial 190 finished with value: 0.47183427995319804 and parameters: {'epsilon': 0.8437649788599122, 'C': 0.5000415525593807, 'kernel': 'rbf'}. Best is trial 154 with value: 0.5682016457246216.\n",
      "[I 2024-05-30 12:21:40,647] Trial 191 finished with value: 0.5678394617493736 and parameters: {'epsilon': 0.8854905783402169, 'C': 0.9877379866202864, 'kernel': 'poly'}. Best is trial 154 with value: 0.5682016457246216.\n",
      "[I 2024-05-30 12:21:40,669] Trial 192 finished with value: 0.5676788988793109 and parameters: {'epsilon': 0.8654795153288237, 'C': 0.9862201269422051, 'kernel': 'poly'}. Best is trial 154 with value: 0.5682016457246216.\n",
      "[I 2024-05-30 12:21:40,692] Trial 193 finished with value: 0.5675509081710041 and parameters: {'epsilon': 0.8842028732393332, 'C': 0.974178037865451, 'kernel': 'poly'}. Best is trial 154 with value: 0.5682016457246216.\n",
      "[I 2024-05-30 12:21:40,714] Trial 194 finished with value: 0.5676683873541185 and parameters: {'epsilon': 0.856848482715775, 'C': 0.9876316235405189, 'kernel': 'poly'}. Best is trial 154 with value: 0.5682016457246216.\n",
      "[I 2024-05-30 12:21:40,745] Trial 195 finished with value: 0.5675595330910319 and parameters: {'epsilon': 0.8771339239387133, 'C': 0.9735103229871004, 'kernel': 'poly'}. Best is trial 154 with value: 0.5682016457246216.\n",
      "[I 2024-05-30 12:21:40,789] Trial 196 finished with value: 0.5675544620649537 and parameters: {'epsilon': 0.8943902096640725, 'C': 0.9859315520297279, 'kernel': 'poly'}. Best is trial 154 with value: 0.5682016457246216.\n",
      "[I 2024-05-30 12:21:40,815] Trial 197 finished with value: 0.5674266225861732 and parameters: {'epsilon': 0.8713726058703481, 'C': 0.9528230348811484, 'kernel': 'poly'}. Best is trial 154 with value: 0.5682016457246216.\n",
      "[I 2024-05-30 12:21:40,833] Trial 198 finished with value: 0.5680285522760513 and parameters: {'epsilon': 0.8862729974652905, 'C': 0.9992186709901931, 'kernel': 'poly'}. Best is trial 154 with value: 0.5682016457246216.\n",
      "[I 2024-05-30 12:21:40,852] Trial 199 finished with value: 0.5675052168096151 and parameters: {'epsilon': 0.8863818918150711, 'C': 0.9663658807301887, 'kernel': 'poly'}. Best is trial 154 with value: 0.5682016457246216.\n",
      "[I 2024-05-30 12:21:40,871] Trial 200 finished with value: 0.5676572031122588 and parameters: {'epsilon': 0.8595958504691384, 'C': 0.9866292032349004, 'kernel': 'poly'}. Best is trial 154 with value: 0.5682016457246216.\n",
      "[I 2024-05-30 12:21:40,889] Trial 201 finished with value: 0.5678846696849501 and parameters: {'epsilon': 0.897562365031516, 'C': 0.9997926680711022, 'kernel': 'poly'}. Best is trial 154 with value: 0.5682016457246216.\n",
      "[I 2024-05-30 12:21:40,908] Trial 202 finished with value: 0.5674359714429369 and parameters: {'epsilon': 0.898180170572305, 'C': 0.9872060139251206, 'kernel': 'poly'}. Best is trial 154 with value: 0.5682016457246216.\n",
      "[I 2024-05-30 12:21:40,926] Trial 203 finished with value: 0.5681909910815391 and parameters: {'epsilon': 0.874650949123281, 'C': 0.9999884937716312, 'kernel': 'poly'}. Best is trial 154 with value: 0.5682016457246216.\n",
      "[I 2024-05-30 12:21:40,944] Trial 204 finished with value: 0.5681774284359258 and parameters: {'epsilon': 0.8726397894827302, 'C': 0.9999577486132369, 'kernel': 'poly'}. Best is trial 154 with value: 0.5682016457246216.\n",
      "[I 2024-05-30 12:21:40,963] Trial 205 finished with value: 0.567568626736409 and parameters: {'epsilon': 0.8761862517554787, 'C': 0.975010608243335, 'kernel': 'poly'}. Best is trial 154 with value: 0.5682016457246216.\n",
      "[I 2024-05-30 12:21:40,982] Trial 206 finished with value: 0.5676490721684477 and parameters: {'epsilon': 0.8442580573204139, 'C': 0.9875175652965011, 'kernel': 'poly'}. Best is trial 154 with value: 0.5682016457246216.\n",
      "[I 2024-05-30 12:21:41,003] Trial 207 finished with value: 0.5675849948762085 and parameters: {'epsilon': 0.8675508548093805, 'C': 0.9744017381367487, 'kernel': 'poly'}. Best is trial 154 with value: 0.5682016457246216.\n",
      "[I 2024-05-30 12:21:41,022] Trial 208 finished with value: 0.5680408448818011 and parameters: {'epsilon': 0.8853878557581886, 'C': 0.9984971023325359, 'kernel': 'poly'}. Best is trial 154 with value: 0.5682016457246216.\n",
      "[I 2024-05-30 12:21:41,040] Trial 209 finished with value: 0.2162409284611173 and parameters: {'epsilon': 0.885329230567298, 'C': 0.9627650628444685, 'kernel': 'sigmoid'}. Best is trial 154 with value: 0.5682016457246216.\n",
      "[I 2024-05-30 12:21:41,060] Trial 210 finished with value: 0.5640045339813401 and parameters: {'epsilon': 0.8629231083019853, 'C': 0.7612972983911315, 'kernel': 'poly'}. Best is trial 154 with value: 0.5682016457246216.\n",
      "[I 2024-05-30 12:21:41,080] Trial 211 finished with value: 0.567834664341121 and parameters: {'epsilon': 0.8797313646970398, 'C': 0.9880958016931687, 'kernel': 'poly'}. Best is trial 154 with value: 0.5682016457246216.\n",
      "[I 2024-05-30 12:21:41,100] Trial 212 finished with value: 0.5678806148925539 and parameters: {'epsilon': 0.8827566116378394, 'C': 0.9889314722807672, 'kernel': 'poly'}. Best is trial 154 with value: 0.5682016457246216.\n",
      "[I 2024-05-30 12:21:41,119] Trial 213 finished with value: 0.5679358071561051 and parameters: {'epsilon': 0.889883968009358, 'C': 0.9996232537763354, 'kernel': 'poly'}. Best is trial 154 with value: 0.5682016457246216.\n",
      "[I 2024-05-30 12:21:41,138] Trial 214 finished with value: 0.5675540252335358 and parameters: {'epsilon': 0.8893632626611658, 'C': 0.9770845384105539, 'kernel': 'poly'}. Best is trial 154 with value: 0.5682016457246216.\n",
      "[I 2024-05-30 12:21:41,157] Trial 215 finished with value: 0.5678717215563638 and parameters: {'epsilon': 0.8948926463678164, 'C': 0.9996998009572224, 'kernel': 'poly'}. Best is trial 154 with value: 0.5682016457246216.\n",
      "[I 2024-05-30 12:21:41,176] Trial 216 finished with value: 0.5678791527446501 and parameters: {'epsilon': 0.896919140842415, 'C': 0.9996848931349841, 'kernel': 'poly'}. Best is trial 154 with value: 0.5682016457246216.\n",
      "[I 2024-05-30 12:21:41,197] Trial 217 finished with value: 0.5679173716447321 and parameters: {'epsilon': 0.8912143969050572, 'C': 0.9999902086945422, 'kernel': 'poly'}. Best is trial 154 with value: 0.5682016457246216.\n",
      "[I 2024-05-30 12:21:41,216] Trial 218 finished with value: 0.5678441847977352 and parameters: {'epsilon': 0.9006882681538578, 'C': 0.9994766266057395, 'kernel': 'poly'}. Best is trial 154 with value: 0.5682016457246216.\n",
      "[I 2024-05-30 12:21:41,236] Trial 219 finished with value: 0.5677549364873886 and parameters: {'epsilon': 0.9032173050068029, 'C': 0.9978574806067845, 'kernel': 'poly'}. Best is trial 154 with value: 0.5682016457246216.\n",
      "[I 2024-05-30 12:21:41,256] Trial 220 finished with value: 0.5678753592592092 and parameters: {'epsilon': 0.8969964218778927, 'C': 0.9993318343053245, 'kernel': 'poly'}. Best is trial 154 with value: 0.5682016457246216.\n",
      "[I 2024-05-30 12:21:41,276] Trial 221 finished with value: 0.5678702534206088 and parameters: {'epsilon': 0.8924728682555542, 'C': 0.9988507205452928, 'kernel': 'poly'}. Best is trial 154 with value: 0.5682016457246216.\n",
      "[I 2024-05-30 12:21:41,297] Trial 222 finished with value: 0.5679684860519301 and parameters: {'epsilon': 0.888380484079908, 'C': 0.9993454312541914, 'kernel': 'poly'}. Best is trial 154 with value: 0.5682016457246216.\n",
      "[I 2024-05-30 12:21:41,318] Trial 223 finished with value: 0.5679312181328695 and parameters: {'epsilon': 0.8899143210429431, 'C': 0.9994342098131549, 'kernel': 'poly'}. Best is trial 154 with value: 0.5682016457246216.\n",
      "[I 2024-05-30 12:21:41,340] Trial 224 finished with value: 0.5676189193320668 and parameters: {'epsilon': 0.8541219982435418, 'C': 0.9758436367674767, 'kernel': 'poly'}. Best is trial 154 with value: 0.5682016457246216.\n",
      "[I 2024-05-30 12:21:41,362] Trial 225 finished with value: 0.5679247374388672 and parameters: {'epsilon': 0.8905301702019277, 'C': 0.9997366506395792, 'kernel': 'poly'}. Best is trial 154 with value: 0.5682016457246216.\n",
      "[I 2024-05-30 12:21:41,382] Trial 226 finished with value: 0.5675704905301399 and parameters: {'epsilon': 0.8789920706283407, 'C': 0.9768473182264031, 'kernel': 'poly'}. Best is trial 154 with value: 0.5682016457246216.\n",
      "[I 2024-05-30 12:21:41,403] Trial 227 finished with value: 0.5676506579392235 and parameters: {'epsilon': 0.860234169400564, 'C': 0.9851243740505919, 'kernel': 'poly'}. Best is trial 154 with value: 0.5682016457246216.\n",
      "[I 2024-05-30 12:21:41,423] Trial 228 finished with value: 0.5294801291404343 and parameters: {'epsilon': 0.8885145108125536, 'C': 0.9987199459431555, 'kernel': 'linear'}. Best is trial 154 with value: 0.5682016457246216.\n",
      "[I 2024-05-30 12:21:41,444] Trial 229 finished with value: 0.5675609684703458 and parameters: {'epsilon': 0.8705371357170044, 'C': 0.9706551372236076, 'kernel': 'poly'}. Best is trial 154 with value: 0.5682016457246216.\n",
      "[I 2024-05-30 12:21:41,466] Trial 230 finished with value: 0.5673176395071948 and parameters: {'epsilon': 0.9071757874601278, 'C': 0.9859052695431239, 'kernel': 'poly'}. Best is trial 154 with value: 0.5682016457246216.\n",
      "[I 2024-05-30 12:21:41,489] Trial 231 finished with value: 0.5627025907141978 and parameters: {'epsilon': 0.8939114317690403, 'C': 0.689112756566496, 'kernel': 'poly'}. Best is trial 154 with value: 0.5682016457246216.\n",
      "[I 2024-05-30 12:21:41,513] Trial 232 finished with value: 0.5679058707680074 and parameters: {'epsilon': 0.8894495757612141, 'C': 0.9969604926309649, 'kernel': 'poly'}. Best is trial 154 with value: 0.5682016457246216.\n",
      "[I 2024-05-30 12:21:41,536] Trial 233 finished with value: 0.5678087685053365 and parameters: {'epsilon': 0.8836604018311236, 'C': 0.9865637788494417, 'kernel': 'poly'}. Best is trial 154 with value: 0.5682016457246216.\n",
      "[I 2024-05-30 12:21:41,558] Trial 234 finished with value: 0.5681154312354062 and parameters: {'epsilon': 0.8698492580443866, 'C': 0.9985778963904053, 'kernel': 'poly'}. Best is trial 154 with value: 0.5682016457246216.\n",
      "[I 2024-05-30 12:21:41,579] Trial 235 finished with value: 0.5675932712699674 and parameters: {'epsilon': 0.8666948752719944, 'C': 0.9754074540217618, 'kernel': 'poly'}. Best is trial 154 with value: 0.5682016457246216.\n",
      "[I 2024-05-30 12:21:41,599] Trial 236 finished with value: 0.5678257815897605 and parameters: {'epsilon': 0.8789214753350096, 'C': 0.9877865245873382, 'kernel': 'poly'}. Best is trial 154 with value: 0.5682016457246216.\n",
      "[I 2024-05-30 12:21:41,618] Trial 237 finished with value: 0.5680299667000273 and parameters: {'epsilon': 0.8533676562741493, 'C': 0.9992393965787335, 'kernel': 'poly'}. Best is trial 154 with value: 0.5682016457246216.\n",
      "[I 2024-05-30 12:21:41,639] Trial 238 finished with value: 0.5268087997094172 and parameters: {'epsilon': 0.8417763105438145, 'C': 0.9745277434276252, 'kernel': 'rbf'}. Best is trial 154 with value: 0.5682016457246216.\n",
      "[I 2024-05-30 12:21:41,658] Trial 239 finished with value: 0.5676743157776621 and parameters: {'epsilon': 0.8544400610726848, 'C': 0.9871392389812708, 'kernel': 'poly'}. Best is trial 154 with value: 0.5682016457246216.\n",
      "[I 2024-05-30 12:21:41,676] Trial 240 finished with value: 0.5680546308552299 and parameters: {'epsilon': 0.8545359564938246, 'C': 0.9996070494267155, 'kernel': 'poly'}. Best is trial 154 with value: 0.5682016457246216.\n",
      "[I 2024-05-30 12:21:41,695] Trial 241 finished with value: 0.5676924431681538 and parameters: {'epsilon': 0.853616305206951, 'C': 0.9888556548807305, 'kernel': 'poly'}. Best is trial 154 with value: 0.5682016457246216.\n",
      "[I 2024-05-30 12:21:41,713] Trial 242 finished with value: 0.5678338545489805 and parameters: {'epsilon': 0.8325440988685431, 'C': 0.9984908078089595, 'kernel': 'poly'}. Best is trial 154 with value: 0.5682016457246216.\n",
      "[I 2024-05-30 12:21:41,732] Trial 243 finished with value: 0.5675950047928005 and parameters: {'epsilon': 0.868770984124203, 'C': 0.9774700297561951, 'kernel': 'poly'}. Best is trial 154 with value: 0.5682016457246216.\n",
      "[I 2024-05-30 12:21:41,751] Trial 244 finished with value: 0.5680891300830381 and parameters: {'epsilon': 0.8620296053207611, 'C': 0.9993367148247374, 'kernel': 'poly'}. Best is trial 154 with value: 0.5682016457246216.\n",
      "[I 2024-05-30 12:21:41,772] Trial 245 finished with value: 0.5679997770917669 and parameters: {'epsilon': 0.8473548894818516, 'C': 0.9995286477920609, 'kernel': 'poly'}. Best is trial 154 with value: 0.5682016457246216.\n",
      "[I 2024-05-30 12:21:41,792] Trial 246 finished with value: 0.5675774925054757 and parameters: {'epsilon': 0.8514533718152565, 'C': 0.9656612656850282, 'kernel': 'poly'}. Best is trial 154 with value: 0.5682016457246216.\n",
      "[I 2024-05-30 12:21:41,812] Trial 247 finished with value: 0.5678905133358152 and parameters: {'epsilon': 0.8370548861014, 'C': 0.9984930687120652, 'kernel': 'poly'}. Best is trial 154 with value: 0.5682016457246216.\n",
      "[I 2024-05-30 12:21:41,833] Trial 248 finished with value: 0.5675646549601685 and parameters: {'epsilon': 0.8390994500828296, 'C': 0.9791549986295098, 'kernel': 'poly'}. Best is trial 154 with value: 0.5682016457246216.\n",
      "[I 2024-05-30 12:21:41,854] Trial 249 finished with value: 0.5677331569992524 and parameters: {'epsilon': 0.8215575169174253, 'C': 0.9993228023434091, 'kernel': 'poly'}. Best is trial 154 with value: 0.5682016457246216.\n",
      "[I 2024-05-30 12:21:41,875] Trial 250 finished with value: 0.5680042016959752 and parameters: {'epsilon': 0.8434977947869424, 'C': 0.9997550434644239, 'kernel': 'poly'}. Best is trial 154 with value: 0.5682016457246216.\n",
      "[I 2024-05-30 12:21:41,895] Trial 251 finished with value: 0.5676416876015784 and parameters: {'epsilon': 0.8464228743998177, 'C': 0.9825317119307311, 'kernel': 'poly'}. Best is trial 154 with value: 0.5682016457246216.\n",
      "[I 2024-05-30 12:21:41,916] Trial 252 finished with value: 0.3477788587558158 and parameters: {'epsilon': 0.8596430964053933, 'C': 0.641549437769416, 'kernel': 'sigmoid'}. Best is trial 154 with value: 0.5682016457246216.\n",
      "[I 2024-05-30 12:21:41,937] Trial 253 finished with value: 0.5675586542049339 and parameters: {'epsilon': 0.8626246853123377, 'C': 0.9663099774641869, 'kernel': 'poly'}. Best is trial 154 with value: 0.5682016457246216.\n",
      "[I 2024-05-30 12:21:41,959] Trial 254 finished with value: 0.5680084670060224 and parameters: {'epsilon': 0.8471666375364075, 'C': 0.9998465421455184, 'kernel': 'poly'}. Best is trial 154 with value: 0.5682016457246216.\n",
      "[I 2024-05-30 12:21:41,981] Trial 255 finished with value: 0.5674959238539627 and parameters: {'epsilon': 0.8268950487578706, 'C': 0.9813206715493898, 'kernel': 'poly'}. Best is trial 154 with value: 0.5682016457246216.\n",
      "[I 2024-05-30 12:21:42,003] Trial 256 finished with value: 0.5680136350550905 and parameters: {'epsilon': 0.8475181305916392, 'C': 0.9999000581303583, 'kernel': 'poly'}. Best is trial 154 with value: 0.5682016457246216.\n",
      "[I 2024-05-30 12:21:42,024] Trial 257 finished with value: 0.5676416157281086 and parameters: {'epsilon': 0.8464574125051723, 'C': 0.9841355033464737, 'kernel': 'poly'}. Best is trial 154 with value: 0.5682016457246216.\n",
      "[I 2024-05-30 12:21:42,045] Trial 258 finished with value: 0.567383135619868 and parameters: {'epsilon': 0.8293297325935715, 'C': 0.9609353785593829, 'kernel': 'poly'}. Best is trial 154 with value: 0.5682016457246216.\n",
      "[I 2024-05-30 12:21:42,064] Trial 259 finished with value: 0.567615259925984 and parameters: {'epsilon': 0.8477635674642816, 'C': 0.9722153584278627, 'kernel': 'poly'}. Best is trial 154 with value: 0.5682016457246216.\n",
      "[I 2024-05-30 12:21:42,085] Trial 260 finished with value: 0.5674220783986825 and parameters: {'epsilon': 0.810044298239593, 'C': 0.9864262701888806, 'kernel': 'poly'}. Best is trial 154 with value: 0.5682016457246216.\n",
      "[I 2024-05-30 12:21:42,105] Trial 261 finished with value: 0.5676603561709375 and parameters: {'epsilon': 0.8574271142705311, 'C': 0.9864161497015991, 'kernel': 'poly'}. Best is trial 154 with value: 0.5682016457246216.\n",
      "[I 2024-05-30 12:21:42,127] Trial 262 finished with value: 0.5289637564818825 and parameters: {'epsilon': 0.8414050063238122, 'C': 0.9996281017814447, 'kernel': 'linear'}. Best is trial 154 with value: 0.5682016457246216.\n",
      "[I 2024-05-30 12:21:42,147] Trial 263 finished with value: 0.5675826442451737 and parameters: {'epsilon': 0.8683948586437819, 'C': 0.9745944594278558, 'kernel': 'poly'}. Best is trial 154 with value: 0.5682016457246216.\n",
      "[I 2024-05-30 12:21:42,167] Trial 264 finished with value: 0.5676581392884672 and parameters: {'epsilon': 0.855779180637083, 'C': 0.985284008744916, 'kernel': 'poly'}. Best is trial 154 with value: 0.5682016457246216.\n",
      "[I 2024-05-30 12:21:42,187] Trial 265 finished with value: 0.5675397279791428 and parameters: {'epsilon': 0.8713666305413761, 'C': 0.9663642337156294, 'kernel': 'poly'}. Best is trial 154 with value: 0.5682016457246216.\n",
      "[I 2024-05-30 12:21:42,208] Trial 266 finished with value: 0.5652837202978425 and parameters: {'epsilon': 0.5463354946029902, 'C': 0.9991901973117876, 'kernel': 'poly'}. Best is trial 154 with value: 0.5682016457246216.\n",
      "[I 2024-05-30 12:21:42,230] Trial 267 finished with value: 0.5676593311957627 and parameters: {'epsilon': 0.862231245136749, 'C': 0.9863042836930656, 'kernel': 'poly'}. Best is trial 154 with value: 0.5682016457246216.\n",
      "[I 2024-05-30 12:21:42,252] Trial 268 finished with value: 0.5281520670039572 and parameters: {'epsilon': 0.8387974919952116, 'C': 0.999676384144142, 'kernel': 'rbf'}. Best is trial 154 with value: 0.5682016457246216.\n",
      "[I 2024-05-30 12:21:42,274] Trial 269 finished with value: 0.5669323309469914 and parameters: {'epsilon': 0.794442205780848, 'C': 0.9588447800297657, 'kernel': 'poly'}. Best is trial 154 with value: 0.5682016457246216.\n",
      "[I 2024-05-30 12:21:42,295] Trial 270 finished with value: 0.5646311205808061 and parameters: {'epsilon': 0.819940354909851, 'C': 0.8342657363506125, 'kernel': 'poly'}. Best is trial 154 with value: 0.5682016457246216.\n",
      "[I 2024-05-30 12:21:42,317] Trial 271 finished with value: 0.5647150063583725 and parameters: {'epsilon': 0.6036460544998258, 'C': 0.9739422944965629, 'kernel': 'poly'}. Best is trial 154 with value: 0.5682016457246216.\n",
      "[I 2024-05-30 12:21:42,338] Trial 272 finished with value: 0.5677632388463044 and parameters: {'epsilon': 0.8736146739767993, 'C': 0.9871760841039194, 'kernel': 'poly'}. Best is trial 154 with value: 0.5682016457246216.\n",
      "[I 2024-05-30 12:21:42,359] Trial 273 finished with value: 0.563081417349235 and parameters: {'epsilon': 0.850098718528887, 'C': 0.7269564356937207, 'kernel': 'poly'}. Best is trial 154 with value: 0.5682016457246216.\n",
      "[I 2024-05-30 12:21:42,382] Trial 274 finished with value: 0.5676021571357166 and parameters: {'epsilon': 0.862553487504782, 'C': 0.9755420137822854, 'kernel': 'poly'}. Best is trial 154 with value: 0.5682016457246216.\n",
      "[I 2024-05-30 12:21:42,404] Trial 275 finished with value: 0.5681758292420187 and parameters: {'epsilon': 0.8735105620755478, 'C': 0.9997422440764901, 'kernel': 'poly'}. Best is trial 154 with value: 0.5682016457246216.\n",
      "[I 2024-05-30 12:21:42,426] Trial 276 finished with value: 0.5677507445923965 and parameters: {'epsilon': 0.8742669032260308, 'C': 0.9866660308971585, 'kernel': 'poly'}. Best is trial 154 with value: 0.5682016457246216.\n",
      "[I 2024-05-30 12:21:42,446] Trial 277 finished with value: 0.5672990816494743 and parameters: {'epsilon': 0.8511286599036129, 'C': 0.9524581022248912, 'kernel': 'poly'}. Best is trial 154 with value: 0.5682016457246216.\n",
      "[I 2024-05-30 12:21:42,469] Trial 278 finished with value: 0.19594023068342925 and parameters: {'epsilon': 0.8316696187321344, 'C': 0.9999137106986339, 'kernel': 'sigmoid'}. Best is trial 154 with value: 0.5682016457246216.\n",
      "[I 2024-05-30 12:21:42,490] Trial 279 finished with value: 0.5676004382920516 and parameters: {'epsilon': 0.8620885203924394, 'C': 0.9752341287295475, 'kernel': 'poly'}. Best is trial 154 with value: 0.5682016457246216.\n",
      "[I 2024-05-30 12:21:42,512] Trial 280 finished with value: 0.5677570880626024 and parameters: {'epsilon': 0.8760145599106539, 'C': 0.9864757823296889, 'kernel': 'poly'}. Best is trial 154 with value: 0.5682016457246216.\n",
      "[I 2024-05-30 12:21:42,533] Trial 281 finished with value: 0.5658690464976144 and parameters: {'epsilon': 0.7162262111654203, 'C': 0.9642950634776899, 'kernel': 'poly'}. Best is trial 154 with value: 0.5682016457246216.\n",
      "[I 2024-05-30 12:21:42,553] Trial 282 finished with value: 0.5680332070629934 and parameters: {'epsilon': 0.8521402290286836, 'C': 0.999596108616339, 'kernel': 'poly'}. Best is trial 154 with value: 0.5682016457246216.\n",
      "[I 2024-05-30 12:21:42,573] Trial 283 finished with value: 0.5676020948329469 and parameters: {'epsilon': 0.8403271841806434, 'C': 0.986285194720894, 'kernel': 'poly'}. Best is trial 154 with value: 0.5682016457246216.\n",
      "[I 2024-05-30 12:21:42,593] Trial 284 finished with value: 0.5676217720682867 and parameters: {'epsilon': 0.8499661208679203, 'C': 0.9746904171410895, 'kernel': 'poly'}. Best is trial 154 with value: 0.5682016457246216.\n",
      "[I 2024-05-30 12:21:42,616] Trial 285 finished with value: 0.5675662750383091 and parameters: {'epsilon': 0.8354899394787236, 'C': 0.9876714490971249, 'kernel': 'poly'}. Best is trial 154 with value: 0.5682016457246216.\n",
      "[I 2024-05-30 12:21:42,653] Trial 286 finished with value: 0.5292221041357187 and parameters: {'epsilon': 0.8622989097446062, 'C': 0.999791577185755, 'kernel': 'linear'}. Best is trial 154 with value: 0.5682016457246216.\n",
      "[I 2024-05-30 12:21:42,682] Trial 287 finished with value: 0.5675370113835505 and parameters: {'epsilon': 0.8721900012073992, 'C': 0.9662377389627834, 'kernel': 'poly'}. Best is trial 154 with value: 0.5682016457246216.\n",
      "[I 2024-05-30 12:21:42,702] Trial 288 finished with value: 0.5676413159871276 and parameters: {'epsilon': 0.8513642529332686, 'C': 0.9792606812606145, 'kernel': 'poly'}. Best is trial 154 with value: 0.5682016457246216.\n",
      "[I 2024-05-30 12:21:42,723] Trial 289 finished with value: 0.5677162572897346 and parameters: {'epsilon': 0.8663128801967459, 'C': 0.9871803644380343, 'kernel': 'poly'}. Best is trial 154 with value: 0.5682016457246216.\n",
      "[I 2024-05-30 12:21:42,742] Trial 290 finished with value: 0.567641379604106 and parameters: {'epsilon': 0.81526662153195, 'C': 0.9998255790276688, 'kernel': 'poly'}. Best is trial 154 with value: 0.5682016457246216.\n",
      "[I 2024-05-30 12:21:42,761] Trial 291 finished with value: 0.5673620386446148 and parameters: {'epsilon': 0.8780835313622168, 'C': 0.9491913329456959, 'kernel': 'poly'}. Best is trial 154 with value: 0.5682016457246216.\n",
      "[I 2024-05-30 12:21:42,781] Trial 292 finished with value: 0.5675651058998075 and parameters: {'epsilon': 0.8414780733151072, 'C': 0.975377563174896, 'kernel': 'poly'}. Best is trial 154 with value: 0.5682016457246216.\n",
      "[I 2024-05-30 12:21:42,803] Trial 293 finished with value: 0.5284561542880883 and parameters: {'epsilon': 0.856918095269937, 'C': 0.9997408885582428, 'kernel': 'rbf'}. Best is trial 154 with value: 0.5682016457246216.\n",
      "[I 2024-05-30 12:21:42,823] Trial 294 finished with value: 0.5671354780577854 and parameters: {'epsilon': 0.7778479260345107, 'C': 0.9842531521218036, 'kernel': 'poly'}. Best is trial 154 with value: 0.5682016457246216.\n",
      "[I 2024-05-30 12:21:42,842] Trial 295 finished with value: 0.5673632492173147 and parameters: {'epsilon': 0.8273795425079921, 'C': 0.9609802332114061, 'kernel': 'poly'}. Best is trial 154 with value: 0.5682016457246216.\n",
      "[I 2024-05-30 12:21:42,861] Trial 296 finished with value: 0.5677527945424445 and parameters: {'epsilon': 0.8790374498818075, 'C': 0.985766567155488, 'kernel': 'poly'}. Best is trial 154 with value: 0.5682016457246216.\n",
      "[I 2024-05-30 12:21:42,881] Trial 297 finished with value: 0.568079874254059 and parameters: {'epsilon': 0.8576753215093941, 'C': 0.999923611256278, 'kernel': 'poly'}. Best is trial 154 with value: 0.5682016457246216.\n",
      "[I 2024-05-30 12:21:42,900] Trial 298 finished with value: 0.5676193185155805 and parameters: {'epsilon': 0.8535855198626849, 'C': 0.9750329893626237, 'kernel': 'poly'}. Best is trial 154 with value: 0.5682016457246216.\n",
      "[I 2024-05-30 12:21:42,919] Trial 299 finished with value: 0.567638748861278 and parameters: {'epsilon': 0.844567072818301, 'C': 0.9866026548874548, 'kernel': 'poly'}. Best is trial 154 with value: 0.5682016457246216.\n",
      "[I 2024-05-30 12:21:42,939] Trial 300 finished with value: 0.5675551110204123 and parameters: {'epsilon': 0.8658209941135067, 'C': 0.9662354222333074, 'kernel': 'poly'}. Best is trial 154 with value: 0.5682016457246216.\n",
      "[I 2024-05-30 12:21:42,959] Trial 301 finished with value: 0.5675470445175214 and parameters: {'epsilon': 0.8322334514535121, 'C': 0.9867876403501687, 'kernel': 'poly'}. Best is trial 154 with value: 0.5682016457246216.\n",
      "[I 2024-05-30 12:21:42,978] Trial 302 finished with value: 0.19847901204711682 and parameters: {'epsilon': 0.8587793390640576, 'C': 0.9999707640673486, 'kernel': 'sigmoid'}. Best is trial 154 with value: 0.5682016457246216.\n",
      "[I 2024-05-30 12:21:42,997] Trial 303 finished with value: 0.5655210675665208 and parameters: {'epsilon': 0.8706224316598036, 'C': 0.873845872232393, 'kernel': 'poly'}. Best is trial 154 with value: 0.5682016457246216.\n",
      "[I 2024-05-30 12:21:43,016] Trial 304 finished with value: 0.5548232773639321 and parameters: {'epsilon': 0.84747204411582, 'C': 0.5227391864684243, 'kernel': 'poly'}. Best is trial 154 with value: 0.5682016457246216.\n",
      "[I 2024-05-30 12:21:43,035] Trial 305 finished with value: 0.5675667966547233 and parameters: {'epsilon': 0.875104436213159, 'C': 0.9741732189856237, 'kernel': 'poly'}. Best is trial 154 with value: 0.5682016457246216.\n",
      "[I 2024-05-30 12:21:43,054] Trial 306 finished with value: 0.5676979314848649 and parameters: {'epsilon': 0.8598248094585186, 'C': 0.9879322892468194, 'kernel': 'poly'}. Best is trial 154 with value: 0.5682016457246216.\n",
      "[I 2024-05-30 12:21:43,073] Trial 307 finished with value: 0.5674952567198388 and parameters: {'epsilon': 0.8392219304533095, 'C': 0.9623971467166085, 'kernel': 'poly'}. Best is trial 154 with value: 0.5682016457246216.\n",
      "[I 2024-05-30 12:21:43,093] Trial 308 finished with value: 0.5678398084965316 and parameters: {'epsilon': 0.8823978490268118, 'C': 0.9877626944327754, 'kernel': 'poly'}. Best is trial 154 with value: 0.5682016457246216.\n",
      "[I 2024-05-30 12:21:43,112] Trial 309 finished with value: 0.5649271791007624 and parameters: {'epsilon': 0.8674824464090145, 'C': 0.7972266956735284, 'kernel': 'poly'}. Best is trial 154 with value: 0.5682016457246216.\n",
      "[I 2024-05-30 12:21:43,131] Trial 310 finished with value: 0.567615764290393 and parameters: {'epsilon': 0.8551320575939629, 'C': 0.9753561892086148, 'kernel': 'poly'}. Best is trial 154 with value: 0.5682016457246216.\n",
      "[I 2024-05-30 12:21:43,150] Trial 311 finished with value: 0.5295711518705296 and parameters: {'epsilon': 0.8226594330052736, 'C': 0.9885578514149657, 'kernel': 'linear'}. Best is trial 154 with value: 0.5682016457246216.\n",
      "[I 2024-05-30 12:21:43,169] Trial 312 finished with value: 0.5680103333126929 and parameters: {'epsilon': 0.8439020395740251, 'C': 0.999572204155361, 'kernel': 'poly'}. Best is trial 154 with value: 0.5682016457246216.\n",
      "[I 2024-05-30 12:21:43,188] Trial 313 finished with value: 0.5681976199491197 and parameters: {'epsilon': 0.8777273785266819, 'C': 0.999432781438225, 'kernel': 'poly'}. Best is trial 154 with value: 0.5682016457246216.\n",
      "[I 2024-05-30 12:21:43,206] Trial 314 finished with value: 0.5566382817422107 and parameters: {'epsilon': 0.8494897771524871, 'C': 0.5934346185632343, 'kernel': 'poly'}. Best is trial 154 with value: 0.5682016457246216.\n",
      "[I 2024-05-30 12:21:43,225] Trial 315 finished with value: 0.5673203172770821 and parameters: {'epsilon': 0.8662613035327714, 'C': 0.9500597183891163, 'kernel': 'poly'}. Best is trial 154 with value: 0.5682016457246216.\n",
      "[I 2024-05-30 12:21:43,244] Trial 316 finished with value: 0.5675664375092347 and parameters: {'epsilon': 0.8776798609397153, 'C': 0.9750428109752918, 'kernel': 'poly'}. Best is trial 154 with value: 0.5682016457246216.\n",
      "[I 2024-05-30 12:21:43,263] Trial 317 finished with value: 0.56772165864997 and parameters: {'epsilon': 0.8577229039438276, 'C': 0.9890851083156883, 'kernel': 'poly'}. Best is trial 154 with value: 0.5682016457246216.\n",
      "[I 2024-05-30 12:21:43,283] Trial 318 finished with value: 0.5675157860586041 and parameters: {'epsilon': 0.8344886719833735, 'C': 0.9756855491514936, 'kernel': 'poly'}. Best is trial 154 with value: 0.5682016457246216.\n",
      "[I 2024-05-30 12:21:43,302] Trial 319 finished with value: 0.5681649710163299 and parameters: {'epsilon': 0.8712407637651428, 'C': 0.9998546249704358, 'kernel': 'poly'}. Best is trial 154 with value: 0.5682016457246216.\n",
      "[I 2024-05-30 12:21:43,321] Trial 320 finished with value: 0.5680008710760851 and parameters: {'epsilon': 0.8487108039568205, 'C': 0.9992849675570559, 'kernel': 'poly'}. Best is trial 154 with value: 0.5682016457246216.\n",
      "[I 2024-05-30 12:21:43,347] Trial 321 finished with value: 0.5281361273873573 and parameters: {'epsilon': 0.844769926309876, 'C': 0.9992791672294166, 'kernel': 'rbf'}. Best is trial 154 with value: 0.5682016457246216.\n",
      "[I 2024-05-30 12:21:43,374] Trial 322 finished with value: 0.5674051313917888 and parameters: {'epsilon': 0.8001746335766412, 'C': 0.9998153131441001, 'kernel': 'poly'}. Best is trial 154 with value: 0.5682016457246216.\n",
      "[I 2024-05-30 12:21:43,404] Trial 323 finished with value: 0.5675803390276182 and parameters: {'epsilon': 0.8527895016825305, 'C': 0.9660362968098387, 'kernel': 'poly'}. Best is trial 154 with value: 0.5682016457246216.\n",
      "[I 2024-05-30 12:21:43,427] Trial 324 finished with value: 0.5676431918080919 and parameters: {'epsilon': 0.8681200360680299, 'C': 0.9846204696919331, 'kernel': 'poly'}. Best is trial 154 with value: 0.5682016457246216.\n",
      "[I 2024-05-30 12:21:43,448] Trial 325 finished with value: 0.567538425369519 and parameters: {'epsilon': 0.8303347391544355, 'C': 0.9871653237602718, 'kernel': 'poly'}. Best is trial 154 with value: 0.5682016457246216.\n",
      "[I 2024-05-30 12:21:43,473] Trial 326 finished with value: 0.5650768606018246 and parameters: {'epsilon': 0.6795208611532929, 'C': 0.9569156250621395, 'kernel': 'poly'}. Best is trial 154 with value: 0.5682016457246216.\n",
      "[I 2024-05-30 12:21:43,496] Trial 327 finished with value: 0.5675967820232919 and parameters: {'epsilon': 0.8455409255787101, 'C': 0.9748060928371673, 'kernel': 'poly'}. Best is trial 154 with value: 0.5682016457246216.\n",
      "[I 2024-05-30 12:21:43,518] Trial 328 finished with value: 0.567428936126366 and parameters: {'epsilon': 0.811561042966429, 'C': 0.9873584293989299, 'kernel': 'poly'}. Best is trial 154 with value: 0.5682016457246216.\n",
      "[I 2024-05-30 12:21:43,540] Trial 329 finished with value: 0.1986949104372372 and parameters: {'epsilon': 0.8607626920542344, 'C': 0.9989143237598977, 'kernel': 'sigmoid'}. Best is trial 154 with value: 0.5682016457246216.\n",
      "[I 2024-05-30 12:21:43,560] Trial 330 finished with value: 0.5681813218581576 and parameters: {'epsilon': 0.8749277159946441, 'C': 0.9996503202539733, 'kernel': 'poly'}. Best is trial 154 with value: 0.5682016457246216.\n",
      "[I 2024-05-30 12:21:43,580] Trial 331 finished with value: 0.5675566955387625 and parameters: {'epsilon': 0.8787600552082534, 'C': 0.9741091912001897, 'kernel': 'poly'}. Best is trial 154 with value: 0.5682016457246216.\n",
      "[I 2024-05-30 12:21:43,599] Trial 332 finished with value: 0.5670638870987201 and parameters: {'epsilon': 0.8767130254750579, 'C': 0.9381754538963528, 'kernel': 'poly'}. Best is trial 154 with value: 0.5682016457246216.\n",
      "[I 2024-05-30 12:21:43,619] Trial 333 finished with value: 0.5676719270255817 and parameters: {'epsilon': 0.8669193458303278, 'C': 0.9857203138897634, 'kernel': 'poly'}. Best is trial 154 with value: 0.5682016457246216.\n",
      "[I 2024-05-30 12:21:43,639] Trial 334 finished with value: 0.5681038336858091 and parameters: {'epsilon': 0.8834998359669141, 'C': 0.9996382153233287, 'kernel': 'poly'}. Best is trial 154 with value: 0.5682016457246216.\n",
      "[I 2024-05-30 12:21:43,659] Trial 335 finished with value: 0.5675060593293477 and parameters: {'epsilon': 0.8846842250037343, 'C': 0.9652622229949661, 'kernel': 'poly'}. Best is trial 154 with value: 0.5682016457246216.\n",
      "[I 2024-05-30 12:21:43,679] Trial 336 finished with value: 0.5675848410638602 and parameters: {'epsilon': 0.8816474112537849, 'C': 0.9802601837087042, 'kernel': 'poly'}. Best is trial 154 with value: 0.5682016457246216.\n",
      "[I 2024-05-30 12:21:43,698] Trial 337 finished with value: 0.5677484510820558 and parameters: {'epsilon': 0.8696822532470142, 'C': 0.9875026081856395, 'kernel': 'poly'}. Best is trial 154 with value: 0.5682016457246216.\n",
      "[I 2024-05-30 12:21:43,719] Trial 338 finished with value: 0.567842201398626 and parameters: {'epsilon': 0.9011488510027155, 'C': 0.9995771827012615, 'kernel': 'poly'}. Best is trial 154 with value: 0.5682016457246216.\n",
      "[I 2024-05-30 12:21:43,738] Trial 339 finished with value: 0.52944167794242 and parameters: {'epsilon': 0.8836154625115724, 'C': 0.9745268469108059, 'kernel': 'linear'}. Best is trial 154 with value: 0.5682016457246216.\n",
      "[I 2024-05-30 12:21:43,757] Trial 340 finished with value: 0.5674993933109402 and parameters: {'epsilon': 0.8708585753771455, 'C': 0.9572449268228943, 'kernel': 'poly'}. Best is trial 154 with value: 0.5682016457246216.\n",
      "[I 2024-05-30 12:21:43,777] Trial 341 finished with value: 0.5676734880383723 and parameters: {'epsilon': 0.8632545563897666, 'C': 0.9865179762783451, 'kernel': 'poly'}. Best is trial 154 with value: 0.5682016457246216.\n",
      "[I 2024-05-30 12:21:43,796] Trial 342 finished with value: 0.567559187639775 and parameters: {'epsilon': 0.8849518236912747, 'C': 0.9767436089389585, 'kernel': 'poly'}. Best is trial 154 with value: 0.5682016457246216.\n",
      "[I 2024-05-30 12:21:43,817] Trial 343 finished with value: 0.5677038117600913 and parameters: {'epsilon': 0.8588313679333052, 'C': 0.9883168325527675, 'kernel': 'poly'}. Best is trial 154 with value: 0.5682016457246216.\n",
      "[I 2024-05-30 12:21:43,838] Trial 344 finished with value: 0.526295405495349 and parameters: {'epsilon': 0.8791797419265709, 'C': 0.966106706447678, 'kernel': 'rbf'}. Best is trial 154 with value: 0.5682016457246216.\n",
      "[I 2024-05-30 12:21:43,859] Trial 345 finished with value: 0.5676268146713237 and parameters: {'epsilon': 0.8710239416850907, 'C': 0.9835682173457002, 'kernel': 'poly'}. Best is trial 154 with value: 0.5682016457246216.\n",
      "[I 2024-05-30 12:21:43,878] Trial 346 finished with value: 0.5658886409830418 and parameters: {'epsilon': 0.6385938049634876, 'C': 0.999218485459336, 'kernel': 'poly'}. Best is trial 154 with value: 0.5682016457246216.\n",
      "[I 2024-05-30 12:21:43,898] Trial 347 finished with value: 0.5678400189233257 and parameters: {'epsilon': 0.9014734854041632, 'C': 0.9995715828248783, 'kernel': 'poly'}. Best is trial 154 with value: 0.5682016457246216.\n",
      "[I 2024-05-30 12:21:43,921] Trial 348 finished with value: 0.5680684407639556 and parameters: {'epsilon': 0.8574559696612195, 'C': 0.9996221423004904, 'kernel': 'poly'}. Best is trial 154 with value: 0.5682016457246216.\n",
      "[I 2024-05-30 12:21:44,037] Trial 349 finished with value: 0.5676072638582603 and parameters: {'epsilon': 0.8581135308117498, 'C': 0.9749729904649546, 'kernel': 'poly'}. Best is trial 154 with value: 0.5682016457246216.\n",
      "[I 2024-05-30 12:21:44,058] Trial 350 finished with value: 0.5673360894193983 and parameters: {'epsilon': 0.9119129190976697, 'C': 0.987328326505106, 'kernel': 'poly'}. Best is trial 154 with value: 0.5682016457246216.\n",
      "[I 2024-05-30 12:21:44,082] Trial 351 finished with value: 0.5638708599553375 and parameters: {'epsilon': 0.5106478497938338, 'C': 0.9553469803653835, 'kernel': 'poly'}. Best is trial 154 with value: 0.5682016457246216.\n",
      "[I 2024-05-30 12:21:44,105] Trial 352 finished with value: 0.567506837442997 and parameters: {'epsilon': 0.8873850204175421, 'C': 0.9672149586286903, 'kernel': 'poly'}. Best is trial 154 with value: 0.5682016457246216.\n",
      "[I 2024-05-30 12:21:44,129] Trial 353 finished with value: 0.5677413306708021 and parameters: {'epsilon': 0.8692317182133162, 'C': 0.9872019844886334, 'kernel': 'poly'}. Best is trial 154 with value: 0.5682016457246216.\n",
      "[I 2024-05-30 12:21:44,150] Trial 354 finished with value: 0.200649853623185 and parameters: {'epsilon': 0.8765330407184052, 'C': 0.986855711536542, 'kernel': 'sigmoid'}. Best is trial 154 with value: 0.5682016457246216.\n",
      "[I 2024-05-30 12:21:44,170] Trial 355 finished with value: 0.567139807073707 and parameters: {'epsilon': 0.8602866488262102, 'C': 0.9444837651736352, 'kernel': 'poly'}. Best is trial 154 with value: 0.5682016457246216.\n",
      "[I 2024-05-30 12:21:44,189] Trial 356 finished with value: 0.5674828307835034 and parameters: {'epsilon': 0.8942560347012335, 'C': 0.9754426612844268, 'kernel': 'poly'}. Best is trial 154 with value: 0.5682016457246216.\n",
      "[I 2024-05-30 12:21:44,209] Trial 357 finished with value: 0.5676742222831217 and parameters: {'epsilon': 0.8523495900723794, 'C': 0.9869059680263332, 'kernel': 'poly'}. Best is trial 154 with value: 0.5682016457246216.\n",
      "[I 2024-05-30 12:21:44,229] Trial 358 finished with value: 0.5675449560494379 and parameters: {'epsilon': 0.8736540396249485, 'C': 0.9688846874916905, 'kernel': 'poly'}. Best is trial 154 with value: 0.5682016457246216.\n",
      "[I 2024-05-30 12:21:44,249] Trial 359 finished with value: 0.5669117465397948 and parameters: {'epsilon': 0.7420680306791342, 'C': 0.9993421371041692, 'kernel': 'poly'}. Best is trial 154 with value: 0.5682016457246216.\n",
      "[I 2024-05-30 12:21:44,268] Trial 360 finished with value: 0.5680178248073571 and parameters: {'epsilon': 0.8866407801047993, 'C': 0.9991038054714634, 'kernel': 'poly'}. Best is trial 154 with value: 0.5682016457246216.\n",
      "[I 2024-05-30 12:21:44,288] Trial 361 finished with value: 0.5678048315420592 and parameters: {'epsilon': 0.9048364574042222, 'C': 0.9996650324156602, 'kernel': 'poly'}. Best is trial 154 with value: 0.5682016457246216.\n",
      "[I 2024-05-30 12:21:44,308] Trial 362 finished with value: 0.5675598202545584 and parameters: {'epsilon': 0.8889724438939752, 'C': 0.9785438454570299, 'kernel': 'poly'}. Best is trial 154 with value: 0.5682016457246216.\n",
      "[I 2024-05-30 12:21:44,328] Trial 363 finished with value: 0.5679622454865472 and parameters: {'epsilon': 0.8890427488399266, 'C': 0.9997802871055625, 'kernel': 'poly'}. Best is trial 154 with value: 0.5682016457246216.\n",
      "[I 2024-05-30 12:21:44,349] Trial 364 finished with value: 0.5297556724892283 and parameters: {'epsilon': 0.9048599898536713, 'C': 0.98686729309518, 'kernel': 'linear'}. Best is trial 154 with value: 0.5682016457246216.\n",
      "[I 2024-05-30 12:21:44,371] Trial 365 finished with value: 0.567507435121614 and parameters: {'epsilon': 0.8782230839384725, 'C': 0.9629697104091635, 'kernel': 'poly'}. Best is trial 154 with value: 0.5682016457246216.\n",
      "[I 2024-05-30 12:21:44,395] Trial 366 finished with value: 0.5681007600091552 and parameters: {'epsilon': 0.8601758454535681, 'C': 0.9998579887848168, 'kernel': 'poly'}. Best is trial 154 with value: 0.5682016457246216.\n",
      "[I 2024-05-30 12:21:44,416] Trial 367 finished with value: 0.5676167562236165 and parameters: {'epsilon': 0.86456863959143, 'C': 0.979895444883957, 'kernel': 'poly'}. Best is trial 154 with value: 0.5682016457246216.\n",
      "[I 2024-05-30 12:21:44,436] Trial 368 finished with value: 0.5602671140316138 and parameters: {'epsilon': 0.884003524042569, 'C': 0.640768470499737, 'kernel': 'poly'}. Best is trial 154 with value: 0.5682016457246216.\n",
      "[I 2024-05-30 12:21:44,456] Trial 369 finished with value: 0.5675075619401151 and parameters: {'epsilon': 0.8948991794417918, 'C': 0.9844996712842918, 'kernel': 'poly'}. Best is trial 154 with value: 0.5682016457246216.\n",
      "[I 2024-05-30 12:21:44,475] Trial 370 finished with value: 0.5675489527109367 and parameters: {'epsilon': 0.873430091059152, 'C': 0.9695226841715646, 'kernel': 'poly'}. Best is trial 154 with value: 0.5682016457246216.\n",
      "[I 2024-05-30 12:21:44,495] Trial 371 finished with value: 0.567700341795711 and parameters: {'epsilon': 0.9134453562520083, 'C': 0.9995117999149731, 'kernel': 'poly'}. Best is trial 154 with value: 0.5682016457246216.\n",
      "[I 2024-05-30 12:21:44,515] Trial 372 finished with value: 0.5676541762672487 and parameters: {'epsilon': 0.8604581181898522, 'C': 0.9863888250320626, 'kernel': 'poly'}. Best is trial 154 with value: 0.5682016457246216.\n",
      "[I 2024-05-30 12:21:44,537] Trial 373 finished with value: 0.5190294370831932 and parameters: {'epsilon': 0.8809145769004735, 'C': 0.851456297660904, 'kernel': 'rbf'}. Best is trial 154 with value: 0.5682016457246216.\n",
      "[I 2024-05-30 12:21:44,557] Trial 374 finished with value: 0.5675071860187373 and parameters: {'epsilon': 0.8690042868604669, 'C': 0.9581420392078478, 'kernel': 'poly'}. Best is trial 154 with value: 0.5682016457246216.\n",
      "[I 2024-05-30 12:21:44,576] Trial 375 finished with value: 0.5674379746254442 and parameters: {'epsilon': 0.8962915695439088, 'C': 0.9756038722500798, 'kernel': 'poly'}. Best is trial 154 with value: 0.5682016457246216.\n",
      "[I 2024-05-30 12:21:44,596] Trial 376 finished with value: 0.5615635803032825 and parameters: {'epsilon': 0.8542450013793692, 'C': 0.6652512108535146, 'kernel': 'poly'}. Best is trial 154 with value: 0.5682016457246216.\n",
      "[I 2024-05-30 12:21:44,615] Trial 377 finished with value: 0.5679095172044533 and parameters: {'epsilon': 0.8356061183780729, 'C': 0.9998686478251692, 'kernel': 'poly'}. Best is trial 154 with value: 0.5682016457246216.\n",
      "[I 2024-05-30 12:21:44,636] Trial 378 finished with value: 0.5641938828660678 and parameters: {'epsilon': 0.8821516041551629, 'C': 0.7612509130741585, 'kernel': 'poly'}. Best is trial 154 with value: 0.5682016457246216.\n",
      "[I 2024-05-30 12:21:44,656] Trial 379 finished with value: 0.20066821648452315 and parameters: {'epsilon': 0.8627324671155228, 'C': 0.9863530837254576, 'kernel': 'sigmoid'}. Best is trial 154 with value: 0.5682016457246216.\n",
      "[I 2024-05-30 12:21:44,676] Trial 380 finished with value: 0.5681824175020767 and parameters: {'epsilon': 0.873237894870518, 'C': 0.9999923823682401, 'kernel': 'poly'}. Best is trial 154 with value: 0.5682016457246216.\n",
      "[I 2024-05-30 12:21:44,696] Trial 381 finished with value: 0.5675392134097279 and parameters: {'epsilon': 0.8892783772199542, 'C': 0.9746766127645653, 'kernel': 'poly'}. Best is trial 154 with value: 0.5682016457246216.\n",
      "[I 2024-05-30 12:21:44,717] Trial 382 finished with value: 0.5677603781640029 and parameters: {'epsilon': 0.8745818735875419, 'C': 0.9868433278237336, 'kernel': 'poly'}. Best is trial 154 with value: 0.5682016457246216.\n",
      "[I 2024-05-30 12:21:44,738] Trial 383 finished with value: 0.5670905778209698 and parameters: {'epsilon': 0.9027014382344025, 'C': 0.9455858034561606, 'kernel': 'poly'}. Best is trial 154 with value: 0.5682016457246216.\n",
      "[I 2024-05-30 12:21:44,759] Trial 384 finished with value: 0.5675179721023671 and parameters: {'epsilon': 0.8739429157491418, 'C': 0.9623622812803359, 'kernel': 'poly'}. Best is trial 154 with value: 0.5682016457246216.\n",
      "[I 2024-05-30 12:21:44,778] Trial 385 finished with value: 0.5676597249828192 and parameters: {'epsilon': 0.9178583209144363, 'C': 0.9998393318586689, 'kernel': 'poly'}. Best is trial 154 with value: 0.5682016457246216.\n",
      "[I 2024-05-30 12:21:44,798] Trial 386 finished with value: 0.5675225674269269 and parameters: {'epsilon': 0.8924096977635174, 'C': 0.9774295946383342, 'kernel': 'poly'}. Best is trial 154 with value: 0.5682016457246216.\n",
      "[I 2024-05-30 12:21:44,817] Trial 387 finished with value: 0.56769327530067 and parameters: {'epsilon': 0.8603653687972022, 'C': 0.9874965659378725, 'kernel': 'poly'}. Best is trial 154 with value: 0.5682016457246216.\n",
      "[I 2024-05-30 12:21:44,838] Trial 388 finished with value: 0.5294331066161213 and parameters: {'epsilon': 0.8828145657869899, 'C': 0.9868381514675183, 'kernel': 'linear'}. Best is trial 154 with value: 0.5682016457246216.\n",
      "[I 2024-05-30 12:21:44,862] Trial 389 finished with value: 0.5670995018168188 and parameters: {'epsilon': 0.762689929359797, 'C': 0.9997094195009243, 'kernel': 'poly'}. Best is trial 154 with value: 0.5682016457246216.\n",
      "[I 2024-05-30 12:21:44,884] Trial 390 finished with value: 0.5675698443825192 and parameters: {'epsilon': 0.8665197370261598, 'C': 0.9701909608113614, 'kernel': 'poly'}. Best is trial 154 with value: 0.5682016457246216.\n",
      "[I 2024-05-30 12:21:44,908] Trial 391 finished with value: 0.5676646334036862 and parameters: {'epsilon': 0.8542535091991538, 'C': 0.9851690430023373, 'kernel': 'poly'}. Best is trial 154 with value: 0.5682016457246216.\n",
      "[I 2024-05-30 12:21:44,930] Trial 392 finished with value: 0.5678258116547523 and parameters: {'epsilon': 0.9030320590880704, 'C': 0.9996840561793799, 'kernel': 'poly'}. Best is trial 154 with value: 0.5682016457246216.\n",
      "[I 2024-05-30 12:21:44,953] Trial 393 finished with value: 0.5674900267392664 and parameters: {'epsilon': 0.8742007839189685, 'C': 0.9564737577210883, 'kernel': 'poly'}. Best is trial 154 with value: 0.5682016457246216.\n",
      "[I 2024-05-30 12:21:44,976] Trial 394 finished with value: 0.5675501396859419 and parameters: {'epsilon': 0.8843543644629123, 'C': 0.9750073145819759, 'kernel': 'poly'}. Best is trial 154 with value: 0.5682016457246216.\n",
      "[I 2024-05-30 12:21:44,998] Trial 395 finished with value: 0.5277360722858155 and parameters: {'epsilon': 0.8676853008168268, 'C': 0.9872890914389384, 'kernel': 'rbf'}. Best is trial 154 with value: 0.5682016457246216.\n",
      "[I 2024-05-30 12:21:45,018] Trial 396 finished with value: 0.5676153747061292 and parameters: {'epsilon': 0.8540892633024323, 'C': 0.9749009822690002, 'kernel': 'poly'}. Best is trial 154 with value: 0.5682016457246216.\n",
      "[I 2024-05-30 12:21:45,038] Trial 397 finished with value: 0.5675047077922308 and parameters: {'epsilon': 0.8963935663050784, 'C': 0.9872624988105675, 'kernel': 'poly'}. Best is trial 154 with value: 0.5682016457246216.\n",
      "[I 2024-05-30 12:21:45,058] Trial 398 finished with value: 0.5675192601840795 and parameters: {'epsilon': 0.8795184652132364, 'C': 0.9662450279611068, 'kernel': 'poly'}. Best is trial 154 with value: 0.5682016457246216.\n",
      "[I 2024-05-30 12:21:45,078] Trial 399 finished with value: 0.5653581606833173 and parameters: {'epsilon': 0.5796467336494813, 'C': 0.9996172500535753, 'kernel': 'poly'}. Best is trial 154 with value: 0.5682016457246216.\n",
      "[I 2024-05-30 12:21:45,098] Trial 400 finished with value: 0.5650139324520418 and parameters: {'epsilon': 0.5667736154980246, 'C': 0.9878718842644068, 'kernel': 'poly'}. Best is trial 154 with value: 0.5682016457246216.\n",
      "[I 2024-05-30 12:21:45,118] Trial 401 finished with value: 0.5658821689187464 and parameters: {'epsilon': 0.6936749747978318, 'C': 0.9763435806131265, 'kernel': 'poly'}. Best is trial 154 with value: 0.5682016457246216.\n",
      "[I 2024-05-30 12:21:45,138] Trial 402 finished with value: 0.5681086410987257 and parameters: {'epsilon': 0.8622978390683429, 'C': 0.9998593043150581, 'kernel': 'poly'}. Best is trial 154 with value: 0.5682016457246216.\n",
      "[I 2024-05-30 12:21:45,158] Trial 403 finished with value: 0.5673777089085565 and parameters: {'epsilon': 0.8671189017221703, 'C': 0.9520211583372615, 'kernel': 'poly'}. Best is trial 154 with value: 0.5682016457246216.\n",
      "[I 2024-05-30 12:21:45,178] Trial 404 finished with value: 0.3220991546668307 and parameters: {'epsilon': 0.8891477310365329, 'C': 0.7064550559175339, 'kernel': 'sigmoid'}. Best is trial 154 with value: 0.5682016457246216.\n",
      "[I 2024-05-30 12:21:45,198] Trial 405 finished with value: 0.5673524262723875 and parameters: {'epsilon': 0.9084342079966506, 'C': 0.9873705238170284, 'kernel': 'poly'}. Best is trial 154 with value: 0.5682016457246216.\n",
      "[I 2024-05-30 12:21:45,220] Trial 406 finished with value: 0.5681715623591199 and parameters: {'epsilon': 0.874621669898266, 'C': 0.9994118541776006, 'kernel': 'poly'}. Best is trial 154 with value: 0.5682016457246216.\n",
      "[I 2024-05-30 12:21:45,241] Trial 407 finished with value: 0.5667110230728576 and parameters: {'epsilon': 0.8599500264307781, 'C': 0.9270898555832797, 'kernel': 'poly'}. Best is trial 154 with value: 0.5682016457246216.\n",
      "[I 2024-05-30 12:21:45,261] Trial 408 finished with value: 0.5675230418459078 and parameters: {'epsilon': 0.8726521871683233, 'C': 0.9633607239229008, 'kernel': 'poly'}. Best is trial 154 with value: 0.5682016457246216.\n",
      "[I 2024-05-30 12:21:45,282] Trial 409 finished with value: 0.5663932321918206 and parameters: {'epsilon': 0.7296455736615488, 'C': 0.9770409254458438, 'kernel': 'poly'}. Best is trial 154 with value: 0.5682016457246216.\n",
      "[I 2024-05-30 12:21:45,302] Trial 410 finished with value: 0.5676833648640613 and parameters: {'epsilon': 0.8585661009777181, 'C': 0.9875807069188194, 'kernel': 'poly'}. Best is trial 154 with value: 0.5682016457246216.\n",
      "[I 2024-05-30 12:21:45,324] Trial 411 finished with value: 0.5681763199822493 and parameters: {'epsilon': 0.8739077818634936, 'C': 0.9996744735190662, 'kernel': 'poly'}. Best is trial 154 with value: 0.5682016457246216.\n",
      "[I 2024-05-30 12:21:45,364] Trial 412 finished with value: 0.5675589168673203 and parameters: {'epsilon': 0.8397077271445648, 'C': 0.9768135835415056, 'kernel': 'poly'}. Best is trial 154 with value: 0.5682016457246216.\n",
      "[I 2024-05-30 12:21:45,391] Trial 413 finished with value: 0.5646030634556288 and parameters: {'epsilon': 0.5204535903650654, 'C': 0.9873358680632901, 'kernel': 'poly'}. Best is trial 154 with value: 0.5682016457246216.\n",
      "[I 2024-05-30 12:21:45,413] Trial 414 finished with value: 0.5675409992016249 and parameters: {'epsilon': 0.8712567928234641, 'C': 0.9665217733184407, 'kernel': 'poly'}. Best is trial 154 with value: 0.5682016457246216.\n",
      "[I 2024-05-30 12:21:45,437] Trial 415 finished with value: 0.529049920946741 and parameters: {'epsilon': 0.8514442536589437, 'C': 0.9995665823984425, 'kernel': 'linear'}. Best is trial 154 with value: 0.5682016457246216.\n",
      "[I 2024-05-30 12:21:45,472] Trial 416 finished with value: 0.5677233971059328 and parameters: {'epsilon': 0.8688726561673714, 'C': 0.9868867818020007, 'kernel': 'poly'}. Best is trial 154 with value: 0.5682016457246216.\n",
      "[I 2024-05-30 12:21:45,496] Trial 417 finished with value: 0.5680621414582172 and parameters: {'epsilon': 0.8547359402515587, 'C': 0.9997637747332354, 'kernel': 'poly'}. Best is trial 154 with value: 0.5682016457246216.\n",
      "[I 2024-05-30 12:21:45,517] Trial 418 finished with value: 0.5675478915932943 and parameters: {'epsilon': 0.8773001406413196, 'C': 0.9702993752907824, 'kernel': 'poly'}. Best is trial 154 with value: 0.5682016457246216.\n",
      "[I 2024-05-30 12:21:45,538] Trial 419 finished with value: 0.5681016254890274 and parameters: {'epsilon': 0.8606066880269634, 'C': 0.9999812842663609, 'kernel': 'poly'}. Best is trial 154 with value: 0.5682016457246216.\n",
      "[I 2024-05-30 12:21:45,557] Trial 420 finished with value: 0.5681215431598886 and parameters: {'epsilon': 0.8636005825383037, 'C': 0.9999821421145465, 'kernel': 'poly'}. Best is trial 154 with value: 0.5682016457246216.\n",
      "[I 2024-05-30 12:21:45,579] Trial 421 finished with value: 0.5271506514540614 and parameters: {'epsilon': 0.8666315776192356, 'C': 0.9783669908759617, 'kernel': 'rbf'}. Best is trial 154 with value: 0.5682016457246216.\n",
      "[I 2024-05-30 12:21:45,599] Trial 422 finished with value: 0.5554433355989099 and parameters: {'epsilon': 0.8432982379104254, 'C': 0.549319970720986, 'kernel': 'poly'}. Best is trial 154 with value: 0.5682016457246216.\n",
      "[I 2024-05-30 12:21:45,619] Trial 423 finished with value: 0.5676984104595512 and parameters: {'epsilon': 0.8598132059636379, 'C': 0.9879401176349357, 'kernel': 'poly'}. Best is trial 154 with value: 0.5682016457246216.\n",
      "[I 2024-05-30 12:21:45,639] Trial 424 finished with value: 0.5674195989894086 and parameters: {'epsilon': 0.8620721012632844, 'C': 0.9547008614165492, 'kernel': 'poly'}. Best is trial 154 with value: 0.5682016457246216.\n",
      "[I 2024-05-30 12:21:45,660] Trial 425 finished with value: 0.5631576753861984 and parameters: {'epsilon': 0.8314568523029511, 'C': 0.7464879827111062, 'kernel': 'poly'}. Best is trial 154 with value: 0.5682016457246216.\n",
      "[I 2024-05-30 12:21:45,682] Trial 426 finished with value: 0.567828347356229 and parameters: {'epsilon': 0.8809031789773681, 'C': 0.9877297038960693, 'kernel': 'poly'}. Best is trial 154 with value: 0.5682016457246216.\n",
      "[I 2024-05-30 12:21:45,703] Trial 427 finished with value: 0.5659995228136607 and parameters: {'epsilon': 0.6572411034786741, 'C': 0.9998920601298623, 'kernel': 'poly'}. Best is trial 154 with value: 0.5682016457246216.\n",
      "[I 2024-05-30 12:21:45,724] Trial 428 finished with value: 0.5676318308232247 and parameters: {'epsilon': 0.850255352376749, 'C': 0.9763134578087942, 'kernel': 'poly'}. Best is trial 154 with value: 0.5682016457246216.\n",
      "[I 2024-05-30 12:21:45,744] Trial 429 finished with value: 0.5681748447581301 and parameters: {'epsilon': 0.872671138502941, 'C': 0.9998742633745793, 'kernel': 'poly'}. Best is trial 154 with value: 0.5682016457246216.\n",
      "[I 2024-05-30 12:21:45,763] Trial 430 finished with value: 0.5677273520826733 and parameters: {'epsilon': 0.8709778456779879, 'C': 0.9866307329873708, 'kernel': 'poly'}. Best is trial 154 with value: 0.5682016457246216.\n",
      "[I 2024-05-30 12:21:45,784] Trial 431 finished with value: 0.20668202504565392 and parameters: {'epsilon': 0.8563595929706247, 'C': 0.9658397673986693, 'kernel': 'sigmoid'}. Best is trial 154 with value: 0.5682016457246216.\n",
      "[I 2024-05-30 12:21:45,805] Trial 432 finished with value: 0.568029115659296 and parameters: {'epsilon': 0.8454425246057294, 'C': 0.9996372823531122, 'kernel': 'poly'}. Best is trial 154 with value: 0.5682016457246216.\n",
      "[I 2024-05-30 12:21:45,826] Trial 433 finished with value: 0.5675879042921135 and parameters: {'epsilon': 0.8735070652041403, 'C': 0.9780449714438592, 'kernel': 'poly'}. Best is trial 154 with value: 0.5682016457246216.\n",
      "[I 2024-05-30 12:21:45,846] Trial 434 finished with value: 0.5680878102682173 and parameters: {'epsilon': 0.8590974582468135, 'C': 0.9998513422841038, 'kernel': 'poly'}. Best is trial 154 with value: 0.5682016457246216.\n",
      "[I 2024-05-30 12:21:45,865] Trial 435 finished with value: 0.567704022474478 and parameters: {'epsilon': 0.8646736957709967, 'C': 0.9871493852520791, 'kernel': 'poly'}. Best is trial 154 with value: 0.5682016457246216.\n",
      "[I 2024-05-30 12:21:45,886] Trial 436 finished with value: 0.5675121270663969 and parameters: {'epsilon': 0.878548918544338, 'C': 0.9644318823487891, 'kernel': 'poly'}. Best is trial 154 with value: 0.5682016457246216.\n",
      "[I 2024-05-30 12:21:45,907] Trial 437 finished with value: 0.5675925811412419 and parameters: {'epsilon': 0.8936018052370407, 'C': 0.9863971795624354, 'kernel': 'poly'}. Best is trial 154 with value: 0.5682016457246216.\n",
      "[I 2024-05-30 12:21:45,928] Trial 438 finished with value: 0.5672150309818791 and parameters: {'epsilon': 0.8657146783661844, 'C': 0.9461888633993261, 'kernel': 'poly'}. Best is trial 154 with value: 0.5682016457246216.\n",
      "[I 2024-05-30 12:21:45,949] Trial 439 finished with value: 0.567538279622485 and parameters: {'epsilon': 0.8370682101785809, 'C': 0.9771436495910688, 'kernel': 'poly'}. Best is trial 154 with value: 0.5682016457246216.\n",
      "[I 2024-05-30 12:21:45,972] Trial 440 finished with value: 0.5306586099519902 and parameters: {'epsilon': 0.875734680030586, 'C': 0.8249312157238584, 'kernel': 'linear'}. Best is trial 154 with value: 0.5682016457246216.\n",
      "[I 2024-05-30 12:21:45,995] Trial 441 finished with value: 0.5676826664839568 and parameters: {'epsilon': 0.8594664174319978, 'C': 0.987378055394345, 'kernel': 'poly'}. Best is trial 154 with value: 0.5682016457246216.\n",
      "[I 2024-05-30 12:21:46,021] Trial 442 finished with value: 0.5679777132951396 and parameters: {'epsilon': 0.8884819732773769, 'C': 0.9997498248128743, 'kernel': 'poly'}. Best is trial 154 with value: 0.5682016457246216.\n",
      "[I 2024-05-30 12:21:46,055] Trial 443 finished with value: 0.5620573339220629 and parameters: {'epsilon': 0.8466619568576836, 'C': 0.6767236647529068, 'kernel': 'poly'}. Best is trial 154 with value: 0.5682016457246216.\n",
      "[I 2024-05-30 12:21:46,090] Trial 444 finished with value: 0.5675693472748427 and parameters: {'epsilon': 0.8772729860421187, 'C': 0.975931815865269, 'kernel': 'poly'}. Best is trial 154 with value: 0.5682016457246216.\n",
      "[I 2024-05-30 12:21:46,127] Trial 445 finished with value: 0.5675284406622473 and parameters: {'epsilon': 0.8645754095408142, 'C': 0.960983727397306, 'kernel': 'poly'}. Best is trial 154 with value: 0.5682016457246216.\n",
      "[I 2024-05-30 12:21:46,151] Trial 446 finished with value: 0.5649007104790165 and parameters: {'epsilon': 0.9016825586191269, 'C': 0.7862574869339896, 'kernel': 'poly'}. Best is trial 154 with value: 0.5682016457246216.\n",
      "[I 2024-05-30 12:21:46,173] Trial 447 finished with value: 0.5676601264481802 and parameters: {'epsilon': 0.8583872643421736, 'C': 0.9867328856547445, 'kernel': 'poly'}. Best is trial 154 with value: 0.5682016457246216.\n",
      "[I 2024-05-30 12:21:46,195] Trial 448 finished with value: 0.5210457287318602 and parameters: {'epsilon': 0.8842138219494848, 'C': 0.8976911782262496, 'kernel': 'rbf'}. Best is trial 154 with value: 0.5682016457246216.\n",
      "[I 2024-05-30 12:21:46,216] Trial 449 finished with value: 0.5675082719767148 and parameters: {'epsilon': 0.8242102766570538, 'C': 0.9885171154900312, 'kernel': 'poly'}. Best is trial 154 with value: 0.5682016457246216.\n",
      "[I 2024-05-30 12:21:46,237] Trial 450 finished with value: 0.5675594484971621 and parameters: {'epsilon': 0.8717674173409129, 'C': 0.9704243232170274, 'kernel': 'poly'}. Best is trial 154 with value: 0.5682016457246216.\n",
      "[I 2024-05-30 12:21:46,262] Trial 451 finished with value: 0.5679941410356082 and parameters: {'epsilon': 0.8441173928995905, 'C': 0.9989997441103383, 'kernel': 'poly'}. Best is trial 154 with value: 0.5682016457246216.\n",
      "[I 2024-05-30 12:21:46,286] Trial 452 finished with value: 0.567480161251809 and parameters: {'epsilon': 0.8947657074969994, 'C': 0.9768467359684991, 'kernel': 'poly'}. Best is trial 154 with value: 0.5682016457246216.\n",
      "[I 2024-05-30 12:21:46,313] Trial 453 finished with value: 0.5680571121081213 and parameters: {'epsilon': 0.8550703822051998, 'C': 0.9997475473246739, 'kernel': 'poly'}. Best is trial 154 with value: 0.5682016457246216.\n",
      "[I 2024-05-30 12:21:46,342] Trial 454 finished with value: 0.5677340285420748 and parameters: {'epsilon': 0.8797649810062576, 'C': 0.9850580478996918, 'kernel': 'poly'}. Best is trial 154 with value: 0.5682016457246216.\n",
      "[I 2024-05-30 12:21:46,381] Trial 455 finished with value: 0.21462144750126044 and parameters: {'epsilon': 0.8677996116223357, 'C': 0.9607101326906036, 'kernel': 'sigmoid'}. Best is trial 154 with value: 0.5682016457246216.\n",
      "[I 2024-05-30 12:21:46,418] Trial 456 finished with value: 0.5675649146725561 and parameters: {'epsilon': 0.8364556588155057, 'C': 0.9851819948978475, 'kernel': 'poly'}. Best is trial 154 with value: 0.5682016457246216.\n",
      "[I 2024-05-30 12:21:46,442] Trial 457 finished with value: 0.558863604106596 and parameters: {'epsilon': 0.8533518870428544, 'C': 0.6247555238781357, 'kernel': 'poly'}. Best is trial 154 with value: 0.5682016457246216.\n",
      "[I 2024-05-30 12:21:46,474] Trial 458 finished with value: 0.5679171628098179 and parameters: {'epsilon': 0.8908204290793592, 'C': 0.999657461130683, 'kernel': 'poly'}. Best is trial 154 with value: 0.5682016457246216.\n",
      "[I 2024-05-30 12:21:46,498] Trial 459 finished with value: 0.56756366464699 and parameters: {'epsilon': 0.8732169557354476, 'C': 0.9718854268424851, 'kernel': 'poly'}. Best is trial 154 with value: 0.5682016457246216.\n",
      "[I 2024-05-30 12:21:46,519] Trial 460 finished with value: 0.5652327548122833 and parameters: {'epsilon': 0.6214764618979348, 'C': 0.9840362184180581, 'kernel': 'poly'}. Best is trial 154 with value: 0.5682016457246216.\n",
      "[I 2024-05-30 12:21:46,541] Trial 461 finished with value: 0.5671786635144287 and parameters: {'epsilon': 0.8637972216971381, 'C': 0.9452211499527308, 'kernel': 'poly'}. Best is trial 154 with value: 0.5682016457246216.\n",
      "[I 2024-05-30 12:21:46,563] Trial 462 finished with value: 0.5681346647401246 and parameters: {'epsilon': 0.8822139230643494, 'C': 0.999057396094554, 'kernel': 'poly'}. Best is trial 154 with value: 0.5682016457246216.\n",
      "[I 2024-05-30 12:21:46,583] Trial 463 finished with value: 0.5677907280524748 and parameters: {'epsilon': 0.9059595343012606, 'C': 0.9996447654905701, 'kernel': 'poly'}. Best is trial 154 with value: 0.5682016457246216.\n",
      "[I 2024-05-30 12:21:46,603] Trial 464 finished with value: 0.5675297412242924 and parameters: {'epsilon': 0.8913830332668397, 'C': 0.9747054956683702, 'kernel': 'poly'}. Best is trial 154 with value: 0.5682016457246216.\n",
      "[I 2024-05-30 12:21:46,625] Trial 465 finished with value: 0.5299912004558558 and parameters: {'epsilon': 0.9176456428578279, 'C': 0.9869764969609381, 'kernel': 'linear'}. Best is trial 154 with value: 0.5682016457246216.\n",
      "[I 2024-05-30 12:21:46,648] Trial 466 finished with value: 0.5681363636073847 and parameters: {'epsilon': 0.8827388380791159, 'C': 0.9999639859796148, 'kernel': 'poly'}. Best is trial 154 with value: 0.5682016457246216.\n",
      "[I 2024-05-30 12:21:46,675] Trial 467 finished with value: 0.5673114803616456 and parameters: {'epsilon': 0.8990832463799237, 'C': 0.9631064497000414, 'kernel': 'poly'}. Best is trial 154 with value: 0.5682016457246216.\n",
      "[I 2024-05-30 12:21:46,701] Trial 468 finished with value: 0.5675745032963517 and parameters: {'epsilon': 0.8774145862138112, 'C': 0.9772378616380153, 'kernel': 'poly'}. Best is trial 154 with value: 0.5682016457246216.\n",
      "[I 2024-05-30 12:21:46,727] Trial 469 finished with value: 0.5678435848814829 and parameters: {'epsilon': 0.8858965219764473, 'C': 0.987989048772035, 'kernel': 'poly'}. Best is trial 154 with value: 0.5682016457246216.\n",
      "[I 2024-05-30 12:21:46,754] Trial 470 finished with value: 0.5674130165146916 and parameters: {'epsilon': 0.8994181025988893, 'C': 0.9869027022604853, 'kernel': 'poly'}. Best is trial 154 with value: 0.5682016457246216.\n",
      "[I 2024-05-30 12:21:46,782] Trial 471 finished with value: 0.5674572153924675 and parameters: {'epsilon': 0.8847653909796906, 'C': 0.9544596229900114, 'kernel': 'poly'}. Best is trial 154 with value: 0.5682016457246216.\n",
      "[I 2024-05-30 12:21:46,806] Trial 472 finished with value: 0.5270497710006494 and parameters: {'epsilon': 0.9137384490787951, 'C': 0.9712184002192861, 'kernel': 'rbf'}. Best is trial 154 with value: 0.5682016457246216.\n",
      "[I 2024-05-30 12:21:46,828] Trial 473 finished with value: 0.5678090763235688 and parameters: {'epsilon': 0.8776716082079223, 'C': 0.9877625033159333, 'kernel': 'poly'}. Best is trial 154 with value: 0.5682016457246216.\n",
      "[I 2024-05-30 12:21:46,849] Trial 474 finished with value: 0.567864942587583 and parameters: {'epsilon': 0.8942215744145527, 'C': 0.9995642239106183, 'kernel': 'poly'}. Best is trial 154 with value: 0.5682016457246216.\n",
      "[I 2024-05-30 12:21:46,870] Trial 475 finished with value: 0.5675741998745775 and parameters: {'epsilon': 0.8701734373063399, 'C': 0.9731319048318657, 'kernel': 'poly'}. Best is trial 154 with value: 0.5682016457246216.\n",
      "[I 2024-05-30 12:21:46,892] Trial 476 finished with value: 0.568145008482825 and parameters: {'epsilon': 0.8824117885525142, 'C': 0.9999087247808472, 'kernel': 'poly'}. Best is trial 154 with value: 0.5682016457246216.\n",
      "[I 2024-05-30 12:21:46,914] Trial 477 finished with value: 0.5673480042941592 and parameters: {'epsilon': 0.9119178702106282, 'C': 0.9877552356999955, 'kernel': 'poly'}. Best is trial 154 with value: 0.5682016457246216.\n",
      "[I 2024-05-30 12:21:46,934] Trial 478 finished with value: 0.5675493302227382 and parameters: {'epsilon': 0.8867234116993252, 'C': 0.9755153380128267, 'kernel': 'poly'}. Best is trial 154 with value: 0.5682016457246216.\n",
      "[I 2024-05-30 12:21:46,955] Trial 479 finished with value: 0.5673469250272923 and parameters: {'epsilon': 0.9053459468874923, 'C': 0.9867002715968657, 'kernel': 'poly'}. Best is trial 154 with value: 0.5682016457246216.\n",
      "[I 2024-05-30 12:21:46,976] Trial 480 finished with value: 0.5674992411162677 and parameters: {'epsilon': 0.881837089480529, 'C': 0.962882905426381, 'kernel': 'poly'}. Best is trial 154 with value: 0.5682016457246216.\n",
      "[I 2024-05-30 12:21:46,998] Trial 481 finished with value: 0.2006351890096537 and parameters: {'epsilon': 0.897036449790734, 'C': 0.987541996580533, 'kernel': 'sigmoid'}. Best is trial 154 with value: 0.5682016457246216.\n",
      "[I 2024-05-30 12:21:47,059] Trial 482 finished with value: 0.5543169343256906 and parameters: {'epsilon': 0.8750760898238505, 'C': 0.5131663449755262, 'kernel': 'poly'}. Best is trial 154 with value: 0.5682016457246216.\n",
      "[I 2024-05-30 12:21:47,086] Trial 483 finished with value: 0.5675547311356036 and parameters: {'epsilon': 0.883068472705202, 'C': 0.9751357112465645, 'kernel': 'poly'}. Best is trial 154 with value: 0.5682016457246216.\n",
      "[I 2024-05-30 12:21:47,134] Trial 484 finished with value: 0.5678274167443544 and parameters: {'epsilon': 0.8687486572332441, 'C': 0.990051000842846, 'kernel': 'poly'}. Best is trial 154 with value: 0.5682016457246216.\n",
      "[I 2024-05-30 12:21:47,167] Trial 485 finished with value: 0.5678547166465027 and parameters: {'epsilon': 0.8944155504290965, 'C': 0.9990714636146436, 'kernel': 'poly'}. Best is trial 154 with value: 0.5682016457246216.\n",
      "[I 2024-05-30 12:21:47,193] Trial 486 finished with value: 0.5568374075114247 and parameters: {'epsilon': 0.8843878496793107, 'C': 0.5889869738759915, 'kernel': 'poly'}. Best is trial 154 with value: 0.5682016457246216.\n",
      "[I 2024-05-30 12:21:47,221] Trial 487 finished with value: 0.5681581566259687 and parameters: {'epsilon': 0.8697381483049397, 'C': 0.9999147026162907, 'kernel': 'poly'}. Best is trial 154 with value: 0.5682016457246216.\n",
      "[I 2024-05-30 12:21:47,241] Trial 488 finished with value: 0.5671526024538072 and parameters: {'epsilon': 0.9058424615485602, 'C': 0.9530149728126036, 'kernel': 'poly'}. Best is trial 154 with value: 0.5682016457246216.\n",
      "[I 2024-05-30 12:21:47,262] Trial 489 finished with value: 0.5681969062301613 and parameters: {'epsilon': 0.8750397056852522, 'C': 0.9998716903279331, 'kernel': 'poly'}. Best is trial 154 with value: 0.5682016457246216.\n",
      "[I 2024-05-30 12:21:47,282] Trial 490 finished with value: 0.5295157044369662 and parameters: {'epsilon': 0.892181967695769, 'C': 0.9355108431149098, 'kernel': 'linear'}. Best is trial 154 with value: 0.5682016457246216.\n",
      "[I 2024-05-30 12:21:47,304] Trial 491 finished with value: 0.5610478948540725 and parameters: {'epsilon': 0.87618831376198, 'C': 0.6537997993090833, 'kernel': 'poly'}. Best is trial 154 with value: 0.5682016457246216.\n",
      "[I 2024-05-30 12:21:47,325] Trial 492 finished with value: 0.5673888089457793 and parameters: {'epsilon': 0.8981688883787008, 'C': 0.9750435570887838, 'kernel': 'poly'}. Best is trial 154 with value: 0.5682016457246216.\n",
      "[I 2024-05-30 12:21:47,350] Trial 493 finished with value: 0.5678067344268005 and parameters: {'epsilon': 0.8833772267063047, 'C': 0.9863821612111756, 'kernel': 'poly'}. Best is trial 154 with value: 0.5682016457246216.\n",
      "[I 2024-05-30 12:21:47,371] Trial 494 finished with value: 0.5675444666197846 and parameters: {'epsilon': 0.8703821875794039, 'C': 0.9667707211479325, 'kernel': 'poly'}. Best is trial 154 with value: 0.5682016457246216.\n",
      "[I 2024-05-30 12:21:47,393] Trial 495 finished with value: 0.5673665807383466 and parameters: {'epsilon': 0.9219715286261619, 'C': 0.9858831941139686, 'kernel': 'poly'}. Best is trial 154 with value: 0.5682016457246216.\n",
      "[I 2024-05-30 12:21:47,414] Trial 496 finished with value: 0.5681856525921058 and parameters: {'epsilon': 0.8742063462052946, 'C': 0.9999081087391286, 'kernel': 'poly'}. Best is trial 154 with value: 0.5682016457246216.\n",
      "[I 2024-05-30 12:21:47,436] Trial 497 finished with value: 0.567858758884126 and parameters: {'epsilon': 0.8933418050396719, 'C': 0.9994540385421581, 'kernel': 'poly'}. Best is trial 154 with value: 0.5682016457246216.\n",
      "[I 2024-05-30 12:21:47,461] Trial 498 finished with value: 0.5272259110430748 and parameters: {'epsilon': 0.879960787419007, 'C': 0.977666884388803, 'kernel': 'rbf'}. Best is trial 154 with value: 0.5682016457246216.\n",
      "[I 2024-05-30 12:21:47,482] Trial 499 finished with value: 0.5681614333230819 and parameters: {'epsilon': 0.8713486891459216, 'C': 0.9997157045285585, 'kernel': 'poly'}. Best is trial 154 with value: 0.5682016457246216.\n"
     ]
    }
   ],
   "source": [
    "def objective(trial):\n",
    "    params ={\n",
    "        'epsilon': trial.suggest_float('epsilon', 0.5, 1.0, log=True),\n",
    "        'C': trial.suggest_float('C', 0.5, 1.0, log=True),\n",
    "        'kernel': trial.suggest_categorical('kernel', ['linear', 'poly', 'rbf', 'sigmoid']),\n",
    "    }\n",
    "    full_pipeline = Pipeline(steps=[\n",
    "        ('preprocessor', preprocessor),\n",
    "        ('model', SVR(**params))\n",
    "    ])\n",
    "    full_pipeline.fit(Xtrain, ytrain)\n",
    "    \n",
    "    \n",
    "    return r2_score(ytrain, full_pipeline.predict(Xtrain))\n",
    "\n",
    "study = optuna.create_study(direction='maximize', study_name='SVR',sampler=optuna.samplers.TPESampler(seed=42))\n",
    "study.optimize(objective, n_trials=500)"
   ]
  },
  {
   "cell_type": "code",
   "execution_count": null,
   "metadata": {},
   "outputs": [
    {
     "data": {
      "text/plain": [
       "{'epsilon': 0.8788666407083235, 'C': 0.9996581253500122, 'kernel': 'poly'}"
      ]
     },
     "execution_count": 167,
     "metadata": {},
     "output_type": "execute_result"
    }
   ],
   "source": [
    "best_svr_params = study.best_params\n",
    "best_svr_params"
   ]
  },
  {
   "cell_type": "code",
   "execution_count": null,
   "metadata": {},
   "outputs": [
    {
     "name": "stdout",
     "output_type": "stream",
     "text": [
      "r2 score on train set:  0.5682019886428633\n",
      "r2 score on test set 0.6793435910235994\n"
     ]
    }
   ],
   "source": [
    "best_svr_params = study.best_params\n",
    "opt_svr = Pipeline(steps=[\n",
    "    ('preprocessor', preprocessor),\n",
    "    ('model', SVR(**best_svr_params))\n",
    "])\n",
    "opt_svr.fit(Xtrain, ytrain)\n",
    "print('r2 score on train set: ',r2_score(ytrain, opt_svr.predict(Xtrain)))\n",
    "print('r2 score on test set',r2_score(ytest, opt_svr.predict(Xtest)))"
   ]
  },
  {
   "cell_type": "code",
   "execution_count": null,
   "metadata": {},
   "outputs": [
    {
     "data": {
      "text/plain": [
       "array([[ 0.29347826,  0.39922159,  0.        , ...,  0.99986135,\n",
       "         0.99999736,  0.37288806],\n",
       "       [-0.5923913 , -0.04191477,  0.        , ...,  0.99991745,\n",
       "         0.99999779, -0.05160233],\n",
       "       [-0.82608696, -0.24243913,  0.        , ...,  0.99988968,\n",
       "         0.99999903, -0.35923473],\n",
       "       ...,\n",
       "       [-0.28804348, -0.26237782,  1.        , ...,  0.99988981,\n",
       "         0.99999716, -0.39749784],\n",
       "       [ 1.39673913, -0.48853005,  0.        , ...,  0.99991945,\n",
       "         0.99998531, -1.04912586],\n",
       "       [-0.11956522,  0.04489522,  1.        , ...,  0.99994584,\n",
       "         0.99997635,  0.05178926]])"
      ]
     },
     "execution_count": 169,
     "metadata": {},
     "output_type": "execute_result"
    }
   ],
   "source": [
    "preprocessor.fit_transform(Xtrain)"
   ]
  },
  {
   "cell_type": "code",
   "execution_count": null,
   "metadata": {},
   "outputs": [
    {
     "data": {
      "text/html": [
       "<div>\n",
       "<style scoped>\n",
       "    .dataframe tbody tr th:only-of-type {\n",
       "        vertical-align: middle;\n",
       "    }\n",
       "\n",
       "    .dataframe tbody tr th {\n",
       "        vertical-align: top;\n",
       "    }\n",
       "\n",
       "    .dataframe thead th {\n",
       "        text-align: right;\n",
       "    }\n",
       "</style>\n",
       "<table border=\"1\" class=\"dataframe\">\n",
       "  <thead>\n",
       "    <tr style=\"text-align: right;\">\n",
       "      <th></th>\n",
       "      <th>num__house_age</th>\n",
       "      <th>num__distance_to_the_nearest_mrt_station</th>\n",
       "      <th>cat__transaction_date_2012</th>\n",
       "      <th>cat__transaction_date_2013</th>\n",
       "      <th>geo__Cluster 0 similarity</th>\n",
       "      <th>geo__Cluster 1 similarity</th>\n",
       "      <th>geo__Cluster 2 similarity</th>\n",
       "      <th>geo__Cluster 3 similarity</th>\n",
       "      <th>geo__Cluster 4 similarity</th>\n",
       "      <th>log__distance_to_the_nearest_mrt_station</th>\n",
       "    </tr>\n",
       "  </thead>\n",
       "  <tbody>\n",
       "    <tr>\n",
       "      <th>0</th>\n",
       "      <td>0.293478</td>\n",
       "      <td>0.399222</td>\n",
       "      <td>0.0</td>\n",
       "      <td>1.0</td>\n",
       "      <td>0.999978</td>\n",
       "      <td>0.999651</td>\n",
       "      <td>0.999964</td>\n",
       "      <td>0.999861</td>\n",
       "      <td>0.999997</td>\n",
       "      <td>0.372888</td>\n",
       "    </tr>\n",
       "    <tr>\n",
       "      <th>1</th>\n",
       "      <td>-0.592391</td>\n",
       "      <td>-0.041915</td>\n",
       "      <td>0.0</td>\n",
       "      <td>1.0</td>\n",
       "      <td>0.999996</td>\n",
       "      <td>0.999733</td>\n",
       "      <td>0.999966</td>\n",
       "      <td>0.999917</td>\n",
       "      <td>0.999998</td>\n",
       "      <td>-0.051602</td>\n",
       "    </tr>\n",
       "    <tr>\n",
       "      <th>2</th>\n",
       "      <td>-0.826087</td>\n",
       "      <td>-0.242439</td>\n",
       "      <td>0.0</td>\n",
       "      <td>1.0</td>\n",
       "      <td>0.999987</td>\n",
       "      <td>0.999700</td>\n",
       "      <td>0.999977</td>\n",
       "      <td>0.999890</td>\n",
       "      <td>0.999999</td>\n",
       "      <td>-0.359235</td>\n",
       "    </tr>\n",
       "    <tr>\n",
       "      <th>3</th>\n",
       "      <td>0.081522</td>\n",
       "      <td>5.222078</td>\n",
       "      <td>0.0</td>\n",
       "      <td>1.0</td>\n",
       "      <td>0.999796</td>\n",
       "      <td>0.999999</td>\n",
       "      <td>0.999808</td>\n",
       "      <td>0.999938</td>\n",
       "      <td>0.999706</td>\n",
       "      <td>1.730830</td>\n",
       "    </tr>\n",
       "    <tr>\n",
       "      <th>4</th>\n",
       "      <td>-0.385870</td>\n",
       "      <td>-0.513843</td>\n",
       "      <td>0.0</td>\n",
       "      <td>1.0</td>\n",
       "      <td>0.999987</td>\n",
       "      <td>0.999793</td>\n",
       "      <td>0.999998</td>\n",
       "      <td>0.999929</td>\n",
       "      <td>0.999983</td>\n",
       "      <td>-1.171046</td>\n",
       "    </tr>\n",
       "    <tr>\n",
       "      <th>...</th>\n",
       "      <td>...</td>\n",
       "      <td>...</td>\n",
       "      <td>...</td>\n",
       "      <td>...</td>\n",
       "      <td>...</td>\n",
       "      <td>...</td>\n",
       "      <td>...</td>\n",
       "      <td>...</td>\n",
       "      <td>...</td>\n",
       "      <td>...</td>\n",
       "    </tr>\n",
       "    <tr>\n",
       "      <th>292</th>\n",
       "      <td>1.103261</td>\n",
       "      <td>0.259073</td>\n",
       "      <td>0.0</td>\n",
       "      <td>1.0</td>\n",
       "      <td>0.999999</td>\n",
       "      <td>0.999771</td>\n",
       "      <td>0.999980</td>\n",
       "      <td>0.999934</td>\n",
       "      <td>0.999996</td>\n",
       "      <td>0.260877</td>\n",
       "    </tr>\n",
       "    <tr>\n",
       "      <th>293</th>\n",
       "      <td>0.967391</td>\n",
       "      <td>-0.403852</td>\n",
       "      <td>0.0</td>\n",
       "      <td>1.0</td>\n",
       "      <td>0.999992</td>\n",
       "      <td>0.999720</td>\n",
       "      <td>0.999979</td>\n",
       "      <td>0.999902</td>\n",
       "      <td>0.999999</td>\n",
       "      <td>-0.739864</td>\n",
       "    </tr>\n",
       "    <tr>\n",
       "      <th>294</th>\n",
       "      <td>-0.288043</td>\n",
       "      <td>-0.262378</td>\n",
       "      <td>1.0</td>\n",
       "      <td>0.0</td>\n",
       "      <td>0.999986</td>\n",
       "      <td>0.999707</td>\n",
       "      <td>0.999983</td>\n",
       "      <td>0.999890</td>\n",
       "      <td>0.999997</td>\n",
       "      <td>-0.397498</td>\n",
       "    </tr>\n",
       "    <tr>\n",
       "      <th>295</th>\n",
       "      <td>1.396739</td>\n",
       "      <td>-0.488530</td>\n",
       "      <td>0.0</td>\n",
       "      <td>1.0</td>\n",
       "      <td>0.999986</td>\n",
       "      <td>0.999776</td>\n",
       "      <td>0.999998</td>\n",
       "      <td>0.999919</td>\n",
       "      <td>0.999985</td>\n",
       "      <td>-1.049126</td>\n",
       "    </tr>\n",
       "    <tr>\n",
       "      <th>296</th>\n",
       "      <td>-0.119565</td>\n",
       "      <td>0.044895</td>\n",
       "      <td>1.0</td>\n",
       "      <td>0.0</td>\n",
       "      <td>0.999988</td>\n",
       "      <td>0.999825</td>\n",
       "      <td>0.999997</td>\n",
       "      <td>0.999946</td>\n",
       "      <td>0.999976</td>\n",
       "      <td>0.051789</td>\n",
       "    </tr>\n",
       "  </tbody>\n",
       "</table>\n",
       "<p>297 rows × 10 columns</p>\n",
       "</div>"
      ],
      "text/plain": [
       "     num__house_age  num__distance_to_the_nearest_mrt_station  \\\n",
       "0          0.293478                                  0.399222   \n",
       "1         -0.592391                                 -0.041915   \n",
       "2         -0.826087                                 -0.242439   \n",
       "3          0.081522                                  5.222078   \n",
       "4         -0.385870                                 -0.513843   \n",
       "..              ...                                       ...   \n",
       "292        1.103261                                  0.259073   \n",
       "293        0.967391                                 -0.403852   \n",
       "294       -0.288043                                 -0.262378   \n",
       "295        1.396739                                 -0.488530   \n",
       "296       -0.119565                                  0.044895   \n",
       "\n",
       "     cat__transaction_date_2012  cat__transaction_date_2013  \\\n",
       "0                           0.0                         1.0   \n",
       "1                           0.0                         1.0   \n",
       "2                           0.0                         1.0   \n",
       "3                           0.0                         1.0   \n",
       "4                           0.0                         1.0   \n",
       "..                          ...                         ...   \n",
       "292                         0.0                         1.0   \n",
       "293                         0.0                         1.0   \n",
       "294                         1.0                         0.0   \n",
       "295                         0.0                         1.0   \n",
       "296                         1.0                         0.0   \n",
       "\n",
       "     geo__Cluster 0 similarity  geo__Cluster 1 similarity  \\\n",
       "0                     0.999978                   0.999651   \n",
       "1                     0.999996                   0.999733   \n",
       "2                     0.999987                   0.999700   \n",
       "3                     0.999796                   0.999999   \n",
       "4                     0.999987                   0.999793   \n",
       "..                         ...                        ...   \n",
       "292                   0.999999                   0.999771   \n",
       "293                   0.999992                   0.999720   \n",
       "294                   0.999986                   0.999707   \n",
       "295                   0.999986                   0.999776   \n",
       "296                   0.999988                   0.999825   \n",
       "\n",
       "     geo__Cluster 2 similarity  geo__Cluster 3 similarity  \\\n",
       "0                     0.999964                   0.999861   \n",
       "1                     0.999966                   0.999917   \n",
       "2                     0.999977                   0.999890   \n",
       "3                     0.999808                   0.999938   \n",
       "4                     0.999998                   0.999929   \n",
       "..                         ...                        ...   \n",
       "292                   0.999980                   0.999934   \n",
       "293                   0.999979                   0.999902   \n",
       "294                   0.999983                   0.999890   \n",
       "295                   0.999998                   0.999919   \n",
       "296                   0.999997                   0.999946   \n",
       "\n",
       "     geo__Cluster 4 similarity  log__distance_to_the_nearest_mrt_station  \n",
       "0                     0.999997                                  0.372888  \n",
       "1                     0.999998                                 -0.051602  \n",
       "2                     0.999999                                 -0.359235  \n",
       "3                     0.999706                                  1.730830  \n",
       "4                     0.999983                                 -1.171046  \n",
       "..                         ...                                       ...  \n",
       "292                   0.999996                                  0.260877  \n",
       "293                   0.999999                                 -0.739864  \n",
       "294                   0.999997                                 -0.397498  \n",
       "295                   0.999985                                 -1.049126  \n",
       "296                   0.999976                                  0.051789  \n",
       "\n",
       "[297 rows x 10 columns]"
      ]
     },
     "execution_count": 170,
     "metadata": {},
     "output_type": "execute_result"
    }
   ],
   "source": [
    "trsf_df = pd.DataFrame(\n",
    "    data=preprocessor.transform(Xtrain),\n",
    "    columns=preprocessor.get_feature_names_out()\n",
    ")\n",
    "trsf_df"
   ]
  },
  {
   "cell_type": "code",
   "execution_count": null,
   "metadata": {},
   "outputs": [
    {
     "data": {
      "text/plain": [
       "<Axes: title={'center': 'Transformed Features'}>"
      ]
     },
     "execution_count": 171,
     "metadata": {},
     "output_type": "execute_result"
    },
    {
     "data": {
      "image/png": "[encoded data removed]",
      "text/plain": [
       "<Figure size 1280x720 with 1 Axes>"
      ]
     },
     "metadata": {},
     "output_type": "display_data"
    }
   ],
   "source": [
    "trsf_df.plot(kind='box', rot = 60, figsize=(12.8,7.2), title='Transformed Features', color=dict(boxes='black', whiskers='black', medians='red', caps='black'))"
   ]
  },
  {
   "cell_type": "code",
   "execution_count": null,
   "metadata": {},
   "outputs": [],
   "source": [
    "from sklearn.metrics.pairwise import rbf_kernel"
   ]
  },
  {
   "cell_type": "code",
   "execution_count": null,
   "metadata": {},
   "outputs": [],
   "source": []
  },
  {
   "cell_type": "code",
   "execution_count": null,
   "metadata": {},
   "outputs": [],
   "source": [
    "# fig = px.scatter_mapbox(\n",
    "#     data_frame=df,\n",
    "#     lat='latitude',\n",
    "#     lon='longitude',\n",
    "#     color='house_price_of_unit_area',\n",
    "#     zoom=10,\n",
    "#     center=dict(lat=df['latitude'].median(), lon=df['longitude'].median()),\n",
    "#     mapbox_style='carto-positron'\n",
    "# )\n",
    "# fig.update_layout(\n",
    "#     width=1280,\n",
    "#     height=720,\n",
    "#     margin=dict(l=0, r=0, t=0, b=0)\n",
    "# )\n",
    "# fig.add_trace(go.Scattermapbox(\n",
    "#     lat=k_centroids['lat'],\n",
    "#     lon=k_centroids['lon'],\n",
    "#     mode='markers',\n",
    "#     marker=dict(size=20, color='red'),\n",
    "# ))\n",
    "# fig.show()"
   ]
  },
  {
   "cell_type": "code",
   "execution_count": null,
   "metadata": {},
   "outputs": [],
   "source": []
  }
 ],
 "metadata": {
  "kernelspec": {
   "display_name": ".mld-venv",
   "language": "python",
   "name": "python3"
  },
  "language_info": {
   "codemirror_mode": {
    "name": "ipython",
    "version": 3
   },
   "file_extension": ".py",
   "mimetype": "text/x-python",
   "name": "python",
   "nbconvert_exporter": "python",
   "pygments_lexer": "ipython3",
   "version": "3.9.6"
  }
 },
 "nbformat": 4,
 "nbformat_minor": 2
}
