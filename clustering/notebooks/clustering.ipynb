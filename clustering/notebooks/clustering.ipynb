{
 "cells": [
  {
   "cell_type": "code",
   "execution_count": 23,
   "metadata": {},
   "outputs": [],
   "source": [
    "import pandas as pd\n",
    "import plotly.express as px\n",
    "from scipy import stats"
   ]
  },
  {
   "cell_type": "code",
   "execution_count": 3,
   "metadata": {},
   "outputs": [],
   "source": [
    "df = pd.read_csv('../data/Fluoridation by postcode - Sheet1.csv')"
   ]
  },
  {
   "cell_type": "code",
   "execution_count": 4,
   "metadata": {},
   "outputs": [
    {
     "data": {
      "text/plain": [
       "cartodb_id          int64\n",
       "melbourne            bool\n",
       "postcode            int64\n",
       "id                  int64\n",
       "fluoride_level     object\n",
       "water_company      object\n",
       "townsuburb         object\n",
       "lat               float64\n",
       "lon               float64\n",
       "dtype: object"
      ]
     },
     "execution_count": 4,
     "metadata": {},
     "output_type": "execute_result"
    }
   ],
   "source": [
    "df.dtypes"
   ]
  },
  {
   "cell_type": "code",
   "execution_count": 5,
   "metadata": {},
   "outputs": [
    {
     "data": {
      "text/plain": [
       "array(['Fluoridated', 'Not fluoridated', 'Partly fluoridated',\n",
       "       'Natural fluoride'], dtype=object)"
      ]
     },
     "execution_count": 5,
     "metadata": {},
     "output_type": "execute_result"
    }
   ],
   "source": [
    "df['fluoride_level'].unique() "
   ]
  },
  {
   "cell_type": "code",
   "execution_count": 6,
   "metadata": {},
   "outputs": [
    {
     "data": {
      "text/plain": [
       "array([False,  True])"
      ]
     },
     "execution_count": 6,
     "metadata": {},
     "output_type": "execute_result"
    }
   ],
   "source": [
    "df['melbourne'].unique()"
   ]
  },
  {
   "cell_type": "code",
   "execution_count": 7,
   "metadata": {},
   "outputs": [
    {
     "data": {
      "text/html": [
       "<div>\n",
       "<style scoped>\n",
       "    .dataframe tbody tr th:only-of-type {\n",
       "        vertical-align: middle;\n",
       "    }\n",
       "\n",
       "    .dataframe tbody tr th {\n",
       "        vertical-align: top;\n",
       "    }\n",
       "\n",
       "    .dataframe thead th {\n",
       "        text-align: right;\n",
       "    }\n",
       "</style>\n",
       "<table border=\"1\" class=\"dataframe\">\n",
       "  <thead>\n",
       "    <tr style=\"text-align: right;\">\n",
       "      <th></th>\n",
       "      <th>cartodb_id</th>\n",
       "      <th>melbourne</th>\n",
       "      <th>postcode</th>\n",
       "      <th>id</th>\n",
       "      <th>fluoride_level</th>\n",
       "      <th>water_company</th>\n",
       "      <th>townsuburb</th>\n",
       "      <th>lat</th>\n",
       "      <th>lon</th>\n",
       "    </tr>\n",
       "  </thead>\n",
       "  <tbody>\n",
       "    <tr>\n",
       "      <th>1</th>\n",
       "      <td>1</td>\n",
       "      <td>True</td>\n",
       "      <td>3067</td>\n",
       "      <td>1</td>\n",
       "      <td>Fluoridated</td>\n",
       "      <td>City West Water</td>\n",
       "      <td>ABBOTSFORD</td>\n",
       "      <td>-37.803000</td>\n",
       "      <td>145.002000</td>\n",
       "    </tr>\n",
       "    <tr>\n",
       "      <th>2</th>\n",
       "      <td>2</td>\n",
       "      <td>True</td>\n",
       "      <td>3040</td>\n",
       "      <td>2</td>\n",
       "      <td>Fluoridated</td>\n",
       "      <td>City West Water</td>\n",
       "      <td>ABERFELDIE</td>\n",
       "      <td>-37.762000</td>\n",
       "      <td>144.901000</td>\n",
       "    </tr>\n",
       "    <tr>\n",
       "      <th>7</th>\n",
       "      <td>7</td>\n",
       "      <td>True</td>\n",
       "      <td>3042</td>\n",
       "      <td>7</td>\n",
       "      <td>Fluoridated</td>\n",
       "      <td>City West Water</td>\n",
       "      <td>AIRPORT WEST</td>\n",
       "      <td>-37.724000</td>\n",
       "      <td>144.879000</td>\n",
       "    </tr>\n",
       "    <tr>\n",
       "      <th>8</th>\n",
       "      <td>8</td>\n",
       "      <td>True</td>\n",
       "      <td>3021</td>\n",
       "      <td>8</td>\n",
       "      <td>Fluoridated</td>\n",
       "      <td>City West Water</td>\n",
       "      <td>ALBANVALE</td>\n",
       "      <td>-37.746000</td>\n",
       "      <td>144.765000</td>\n",
       "    </tr>\n",
       "    <tr>\n",
       "      <th>9</th>\n",
       "      <td>9</td>\n",
       "      <td>True</td>\n",
       "      <td>3206</td>\n",
       "      <td>9</td>\n",
       "      <td>Fluoridated</td>\n",
       "      <td>South East Water</td>\n",
       "      <td>ALBERT PARK</td>\n",
       "      <td>-37.842000</td>\n",
       "      <td>144.950000</td>\n",
       "    </tr>\n",
       "    <tr>\n",
       "      <th>...</th>\n",
       "      <td>...</td>\n",
       "      <td>...</td>\n",
       "      <td>...</td>\n",
       "      <td>...</td>\n",
       "      <td>...</td>\n",
       "      <td>...</td>\n",
       "      <td>...</td>\n",
       "      <td>...</td>\n",
       "      <td>...</td>\n",
       "    </tr>\n",
       "    <tr>\n",
       "      <th>1048</th>\n",
       "      <td>1049</td>\n",
       "      <td>True</td>\n",
       "      <td>3013</td>\n",
       "      <td>1049</td>\n",
       "      <td>Fluoridated</td>\n",
       "      <td>City West Water</td>\n",
       "      <td>YARRAVILLE</td>\n",
       "      <td>-37.817000</td>\n",
       "      <td>144.890000</td>\n",
       "    </tr>\n",
       "    <tr>\n",
       "      <th>1049</th>\n",
       "      <td>1050</td>\n",
       "      <td>True</td>\n",
       "      <td>3013</td>\n",
       "      <td>1050</td>\n",
       "      <td>Fluoridated</td>\n",
       "      <td>City West Water</td>\n",
       "      <td>YARRAVILLE WEST</td>\n",
       "      <td>-37.815066</td>\n",
       "      <td>144.885260</td>\n",
       "    </tr>\n",
       "    <tr>\n",
       "      <th>1053</th>\n",
       "      <td>1054</td>\n",
       "      <td>True</td>\n",
       "      <td>3139</td>\n",
       "      <td>1054</td>\n",
       "      <td>Partly fluoridated</td>\n",
       "      <td>Yarra Valley Water</td>\n",
       "      <td>YELLINGBO</td>\n",
       "      <td>-37.810000</td>\n",
       "      <td>145.510000</td>\n",
       "    </tr>\n",
       "    <tr>\n",
       "      <th>1055</th>\n",
       "      <td>1056</td>\n",
       "      <td>True</td>\n",
       "      <td>3770</td>\n",
       "      <td>1056</td>\n",
       "      <td>Fluoridated</td>\n",
       "      <td>Yarra Valley Water</td>\n",
       "      <td>YERING</td>\n",
       "      <td>-37.700221</td>\n",
       "      <td>145.358251</td>\n",
       "    </tr>\n",
       "    <tr>\n",
       "      <th>1057</th>\n",
       "      <td>1058</td>\n",
       "      <td>True</td>\n",
       "      <td>3063</td>\n",
       "      <td>1058</td>\n",
       "      <td>Fluoridated</td>\n",
       "      <td>Yarra Valley Water</td>\n",
       "      <td>YUROKE</td>\n",
       "      <td>-37.600000</td>\n",
       "      <td>144.880000</td>\n",
       "    </tr>\n",
       "  </tbody>\n",
       "</table>\n",
       "<p>403 rows × 9 columns</p>\n",
       "</div>"
      ],
      "text/plain": [
       "      cartodb_id  melbourne  postcode    id      fluoride_level  \\\n",
       "1              1       True      3067     1         Fluoridated   \n",
       "2              2       True      3040     2         Fluoridated   \n",
       "7              7       True      3042     7         Fluoridated   \n",
       "8              8       True      3021     8         Fluoridated   \n",
       "9              9       True      3206     9         Fluoridated   \n",
       "...          ...        ...       ...   ...                 ...   \n",
       "1048        1049       True      3013  1049         Fluoridated   \n",
       "1049        1050       True      3013  1050         Fluoridated   \n",
       "1053        1054       True      3139  1054  Partly fluoridated   \n",
       "1055        1056       True      3770  1056         Fluoridated   \n",
       "1057        1058       True      3063  1058         Fluoridated   \n",
       "\n",
       "           water_company       townsuburb        lat         lon  \n",
       "1        City West Water       ABBOTSFORD -37.803000  145.002000  \n",
       "2        City West Water       ABERFELDIE -37.762000  144.901000  \n",
       "7        City West Water     AIRPORT WEST -37.724000  144.879000  \n",
       "8        City West Water        ALBANVALE -37.746000  144.765000  \n",
       "9       South East Water      ALBERT PARK -37.842000  144.950000  \n",
       "...                  ...              ...        ...         ...  \n",
       "1048     City West Water       YARRAVILLE -37.817000  144.890000  \n",
       "1049     City West Water  YARRAVILLE WEST -37.815066  144.885260  \n",
       "1053  Yarra Valley Water        YELLINGBO -37.810000  145.510000  \n",
       "1055  Yarra Valley Water           YERING -37.700221  145.358251  \n",
       "1057  Yarra Valley Water           YUROKE -37.600000  144.880000  \n",
       "\n",
       "[403 rows x 9 columns]"
      ]
     },
     "execution_count": 7,
     "metadata": {},
     "output_type": "execute_result"
    }
   ],
   "source": [
    "df[df.melbourne == True]"
   ]
  },
  {
   "cell_type": "code",
   "execution_count": null,
   "metadata": {},
   "outputs": [],
   "source": []
  },
  {
   "cell_type": "code",
   "execution_count": 8,
   "metadata": {},
   "outputs": [
    {
     "data": {
      "application/vnd.plotly.v1+json": {
       "config": {
        "plotlyServerURL": "https://plot.ly"
       },
       "data": [
        {
         "alignmentgroup": "True",
         "hovertemplate": "melbourne=False<br>fluoride_level=%{x}<br>count=%{y}<extra></extra>",
         "legendgroup": "False",
         "marker": {
          "color": "#636efa",
          "pattern": {
           "shape": ""
          }
         },
         "name": "False",
         "offsetgroup": "False",
         "orientation": "v",
         "showlegend": true,
         "textposition": "auto",
         "type": "bar",
         "x": [
          "Fluoridated",
          "Natural fluoride",
          "Not fluoridated",
          "Partly fluoridated"
         ],
         "xaxis": "x",
         "y": [
          406,
          2,
          244,
          4
         ],
         "yaxis": "y"
        },
        {
         "alignmentgroup": "True",
         "hovertemplate": "melbourne=True<br>fluoride_level=%{x}<br>count=%{y}<extra></extra>",
         "legendgroup": "True",
         "marker": {
          "color": "#EF553B",
          "pattern": {
           "shape": ""
          }
         },
         "name": "True",
         "offsetgroup": "True",
         "orientation": "v",
         "showlegend": true,
         "textposition": "auto",
         "type": "bar",
         "x": [
          "Fluoridated",
          "Not fluoridated",
          "Partly fluoridated"
         ],
         "xaxis": "x",
         "y": [
          381,
          12,
          10
         ],
         "yaxis": "y"
        }
       ],
       "layout": {
        "barmode": "relative",
        "legend": {
         "title": {
          "text": "melbourne"
         },
         "tracegroupgap": 0
        },
        "margin": {
         "t": 60
        },
        "template": {
         "data": {
          "bar": [
           {
            "error_x": {
             "color": "#2a3f5f"
            },
            "error_y": {
             "color": "#2a3f5f"
            },
            "marker": {
             "line": {
              "color": "#E5ECF6",
              "width": 0.5
             },
             "pattern": {
              "fillmode": "overlay",
              "size": 10,
              "solidity": 0.2
             }
            },
            "type": "bar"
           }
          ],
          "barpolar": [
           {
            "marker": {
             "line": {
              "color": "#E5ECF6",
              "width": 0.5
             },
             "pattern": {
              "fillmode": "overlay",
              "size": 10,
              "solidity": 0.2
             }
            },
            "type": "barpolar"
           }
          ],
          "carpet": [
           {
            "aaxis": {
             "endlinecolor": "#2a3f5f",
             "gridcolor": "white",
             "linecolor": "white",
             "minorgridcolor": "white",
             "startlinecolor": "#2a3f5f"
            },
            "baxis": {
             "endlinecolor": "#2a3f5f",
             "gridcolor": "white",
             "linecolor": "white",
             "minorgridcolor": "white",
             "startlinecolor": "#2a3f5f"
            },
            "type": "carpet"
           }
          ],
          "choropleth": [
           {
            "colorbar": {
             "outlinewidth": 0,
             "ticks": ""
            },
            "type": "choropleth"
           }
          ],
          "contour": [
           {
            "colorbar": {
             "outlinewidth": 0,
             "ticks": ""
            },
            "colorscale": [
             [
              0,
              "#0d0887"
             ],
             [
              0.1111111111111111,
              "#46039f"
             ],
             [
              0.2222222222222222,
              "#7201a8"
             ],
             [
              0.3333333333333333,
              "#9c179e"
             ],
             [
              0.4444444444444444,
              "#bd3786"
             ],
             [
              0.5555555555555556,
              "#d8576b"
             ],
             [
              0.6666666666666666,
              "#ed7953"
             ],
             [
              0.7777777777777778,
              "#fb9f3a"
             ],
             [
              0.8888888888888888,
              "#fdca26"
             ],
             [
              1,
              "#f0f921"
             ]
            ],
            "type": "contour"
           }
          ],
          "contourcarpet": [
           {
            "colorbar": {
             "outlinewidth": 0,
             "ticks": ""
            },
            "type": "contourcarpet"
           }
          ],
          "heatmap": [
           {
            "colorbar": {
             "outlinewidth": 0,
             "ticks": ""
            },
            "colorscale": [
             [
              0,
              "#0d0887"
             ],
             [
              0.1111111111111111,
              "#46039f"
             ],
             [
              0.2222222222222222,
              "#7201a8"
             ],
             [
              0.3333333333333333,
              "#9c179e"
             ],
             [
              0.4444444444444444,
              "#bd3786"
             ],
             [
              0.5555555555555556,
              "#d8576b"
             ],
             [
              0.6666666666666666,
              "#ed7953"
             ],
             [
              0.7777777777777778,
              "#fb9f3a"
             ],
             [
              0.8888888888888888,
              "#fdca26"
             ],
             [
              1,
              "#f0f921"
             ]
            ],
            "type": "heatmap"
           }
          ],
          "heatmapgl": [
           {
            "colorbar": {
             "outlinewidth": 0,
             "ticks": ""
            },
            "colorscale": [
             [
              0,
              "#0d0887"
             ],
             [
              0.1111111111111111,
              "#46039f"
             ],
             [
              0.2222222222222222,
              "#7201a8"
             ],
             [
              0.3333333333333333,
              "#9c179e"
             ],
             [
              0.4444444444444444,
              "#bd3786"
             ],
             [
              0.5555555555555556,
              "#d8576b"
             ],
             [
              0.6666666666666666,
              "#ed7953"
             ],
             [
              0.7777777777777778,
              "#fb9f3a"
             ],
             [
              0.8888888888888888,
              "#fdca26"
             ],
             [
              1,
              "#f0f921"
             ]
            ],
            "type": "heatmapgl"
           }
          ],
          "histogram": [
           {
            "marker": {
             "pattern": {
              "fillmode": "overlay",
              "size": 10,
              "solidity": 0.2
             }
            },
            "type": "histogram"
           }
          ],
          "histogram2d": [
           {
            "colorbar": {
             "outlinewidth": 0,
             "ticks": ""
            },
            "colorscale": [
             [
              0,
              "#0d0887"
             ],
             [
              0.1111111111111111,
              "#46039f"
             ],
             [
              0.2222222222222222,
              "#7201a8"
             ],
             [
              0.3333333333333333,
              "#9c179e"
             ],
             [
              0.4444444444444444,
              "#bd3786"
             ],
             [
              0.5555555555555556,
              "#d8576b"
             ],
             [
              0.6666666666666666,
              "#ed7953"
             ],
             [
              0.7777777777777778,
              "#fb9f3a"
             ],
             [
              0.8888888888888888,
              "#fdca26"
             ],
             [
              1,
              "#f0f921"
             ]
            ],
            "type": "histogram2d"
           }
          ],
          "histogram2dcontour": [
           {
            "colorbar": {
             "outlinewidth": 0,
             "ticks": ""
            },
            "colorscale": [
             [
              0,
              "#0d0887"
             ],
             [
              0.1111111111111111,
              "#46039f"
             ],
             [
              0.2222222222222222,
              "#7201a8"
             ],
             [
              0.3333333333333333,
              "#9c179e"
             ],
             [
              0.4444444444444444,
              "#bd3786"
             ],
             [
              0.5555555555555556,
              "#d8576b"
             ],
             [
              0.6666666666666666,
              "#ed7953"
             ],
             [
              0.7777777777777778,
              "#fb9f3a"
             ],
             [
              0.8888888888888888,
              "#fdca26"
             ],
             [
              1,
              "#f0f921"
             ]
            ],
            "type": "histogram2dcontour"
           }
          ],
          "mesh3d": [
           {
            "colorbar": {
             "outlinewidth": 0,
             "ticks": ""
            },
            "type": "mesh3d"
           }
          ],
          "parcoords": [
           {
            "line": {
             "colorbar": {
              "outlinewidth": 0,
              "ticks": ""
             }
            },
            "type": "parcoords"
           }
          ],
          "pie": [
           {
            "automargin": true,
            "type": "pie"
           }
          ],
          "scatter": [
           {
            "fillpattern": {
             "fillmode": "overlay",
             "size": 10,
             "solidity": 0.2
            },
            "type": "scatter"
           }
          ],
          "scatter3d": [
           {
            "line": {
             "colorbar": {
              "outlinewidth": 0,
              "ticks": ""
             }
            },
            "marker": {
             "colorbar": {
              "outlinewidth": 0,
              "ticks": ""
             }
            },
            "type": "scatter3d"
           }
          ],
          "scattercarpet": [
           {
            "marker": {
             "colorbar": {
              "outlinewidth": 0,
              "ticks": ""
             }
            },
            "type": "scattercarpet"
           }
          ],
          "scattergeo": [
           {
            "marker": {
             "colorbar": {
              "outlinewidth": 0,
              "ticks": ""
             }
            },
            "type": "scattergeo"
           }
          ],
          "scattergl": [
           {
            "marker": {
             "colorbar": {
              "outlinewidth": 0,
              "ticks": ""
             }
            },
            "type": "scattergl"
           }
          ],
          "scattermapbox": [
           {
            "marker": {
             "colorbar": {
              "outlinewidth": 0,
              "ticks": ""
             }
            },
            "type": "scattermapbox"
           }
          ],
          "scatterpolar": [
           {
            "marker": {
             "colorbar": {
              "outlinewidth": 0,
              "ticks": ""
             }
            },
            "type": "scatterpolar"
           }
          ],
          "scatterpolargl": [
           {
            "marker": {
             "colorbar": {
              "outlinewidth": 0,
              "ticks": ""
             }
            },
            "type": "scatterpolargl"
           }
          ],
          "scatterternary": [
           {
            "marker": {
             "colorbar": {
              "outlinewidth": 0,
              "ticks": ""
             }
            },
            "type": "scatterternary"
           }
          ],
          "surface": [
           {
            "colorbar": {
             "outlinewidth": 0,
             "ticks": ""
            },
            "colorscale": [
             [
              0,
              "#0d0887"
             ],
             [
              0.1111111111111111,
              "#46039f"
             ],
             [
              0.2222222222222222,
              "#7201a8"
             ],
             [
              0.3333333333333333,
              "#9c179e"
             ],
             [
              0.4444444444444444,
              "#bd3786"
             ],
             [
              0.5555555555555556,
              "#d8576b"
             ],
             [
              0.6666666666666666,
              "#ed7953"
             ],
             [
              0.7777777777777778,
              "#fb9f3a"
             ],
             [
              0.8888888888888888,
              "#fdca26"
             ],
             [
              1,
              "#f0f921"
             ]
            ],
            "type": "surface"
           }
          ],
          "table": [
           {
            "cells": {
             "fill": {
              "color": "#EBF0F8"
             },
             "line": {
              "color": "white"
             }
            },
            "header": {
             "fill": {
              "color": "#C8D4E3"
             },
             "line": {
              "color": "white"
             }
            },
            "type": "table"
           }
          ]
         },
         "layout": {
          "annotationdefaults": {
           "arrowcolor": "#2a3f5f",
           "arrowhead": 0,
           "arrowwidth": 1
          },
          "autotypenumbers": "strict",
          "coloraxis": {
           "colorbar": {
            "outlinewidth": 0,
            "ticks": ""
           }
          },
          "colorscale": {
           "diverging": [
            [
             0,
             "#8e0152"
            ],
            [
             0.1,
             "#c51b7d"
            ],
            [
             0.2,
             "#de77ae"
            ],
            [
             0.3,
             "#f1b6da"
            ],
            [
             0.4,
             "#fde0ef"
            ],
            [
             0.5,
             "#f7f7f7"
            ],
            [
             0.6,
             "#e6f5d0"
            ],
            [
             0.7,
             "#b8e186"
            ],
            [
             0.8,
             "#7fbc41"
            ],
            [
             0.9,
             "#4d9221"
            ],
            [
             1,
             "#276419"
            ]
           ],
           "sequential": [
            [
             0,
             "#0d0887"
            ],
            [
             0.1111111111111111,
             "#46039f"
            ],
            [
             0.2222222222222222,
             "#7201a8"
            ],
            [
             0.3333333333333333,
             "#9c179e"
            ],
            [
             0.4444444444444444,
             "#bd3786"
            ],
            [
             0.5555555555555556,
             "#d8576b"
            ],
            [
             0.6666666666666666,
             "#ed7953"
            ],
            [
             0.7777777777777778,
             "#fb9f3a"
            ],
            [
             0.8888888888888888,
             "#fdca26"
            ],
            [
             1,
             "#f0f921"
            ]
           ],
           "sequentialminus": [
            [
             0,
             "#0d0887"
            ],
            [
             0.1111111111111111,
             "#46039f"
            ],
            [
             0.2222222222222222,
             "#7201a8"
            ],
            [
             0.3333333333333333,
             "#9c179e"
            ],
            [
             0.4444444444444444,
             "#bd3786"
            ],
            [
             0.5555555555555556,
             "#d8576b"
            ],
            [
             0.6666666666666666,
             "#ed7953"
            ],
            [
             0.7777777777777778,
             "#fb9f3a"
            ],
            [
             0.8888888888888888,
             "#fdca26"
            ],
            [
             1,
             "#f0f921"
            ]
           ]
          },
          "colorway": [
           "#636efa",
           "#EF553B",
           "#00cc96",
           "#ab63fa",
           "#FFA15A",
           "#19d3f3",
           "#FF6692",
           "#B6E880",
           "#FF97FF",
           "#FECB52"
          ],
          "font": {
           "color": "#2a3f5f"
          },
          "geo": {
           "bgcolor": "white",
           "lakecolor": "white",
           "landcolor": "#E5ECF6",
           "showlakes": true,
           "showland": true,
           "subunitcolor": "white"
          },
          "hoverlabel": {
           "align": "left"
          },
          "hovermode": "closest",
          "mapbox": {
           "style": "light"
          },
          "paper_bgcolor": "white",
          "plot_bgcolor": "#E5ECF6",
          "polar": {
           "angularaxis": {
            "gridcolor": "white",
            "linecolor": "white",
            "ticks": ""
           },
           "bgcolor": "#E5ECF6",
           "radialaxis": {
            "gridcolor": "white",
            "linecolor": "white",
            "ticks": ""
           }
          },
          "scene": {
           "xaxis": {
            "backgroundcolor": "#E5ECF6",
            "gridcolor": "white",
            "gridwidth": 2,
            "linecolor": "white",
            "showbackground": true,
            "ticks": "",
            "zerolinecolor": "white"
           },
           "yaxis": {
            "backgroundcolor": "#E5ECF6",
            "gridcolor": "white",
            "gridwidth": 2,
            "linecolor": "white",
            "showbackground": true,
            "ticks": "",
            "zerolinecolor": "white"
           },
           "zaxis": {
            "backgroundcolor": "#E5ECF6",
            "gridcolor": "white",
            "gridwidth": 2,
            "linecolor": "white",
            "showbackground": true,
            "ticks": "",
            "zerolinecolor": "white"
           }
          },
          "shapedefaults": {
           "line": {
            "color": "#2a3f5f"
           }
          },
          "ternary": {
           "aaxis": {
            "gridcolor": "white",
            "linecolor": "white",
            "ticks": ""
           },
           "baxis": {
            "gridcolor": "white",
            "linecolor": "white",
            "ticks": ""
           },
           "bgcolor": "#E5ECF6",
           "caxis": {
            "gridcolor": "white",
            "linecolor": "white",
            "ticks": ""
           }
          },
          "title": {
           "x": 0.05
          },
          "xaxis": {
           "automargin": true,
           "gridcolor": "white",
           "linecolor": "white",
           "ticks": "",
           "title": {
            "standoff": 15
           },
           "zerolinecolor": "white",
           "zerolinewidth": 2
          },
          "yaxis": {
           "automargin": true,
           "gridcolor": "white",
           "linecolor": "white",
           "ticks": "",
           "title": {
            "standoff": 15
           },
           "zerolinecolor": "white",
           "zerolinewidth": 2
          }
         }
        },
        "xaxis": {
         "anchor": "y",
         "domain": [
          0,
          1
         ],
         "title": {
          "text": "fluoride_level"
         }
        },
        "yaxis": {
         "anchor": "x",
         "domain": [
          0,
          1
         ],
         "title": {
          "text": "count"
         }
        }
       }
      }
     },
     "metadata": {},
     "output_type": "display_data"
    }
   ],
   "source": [
    "fig = px.bar(\n",
    "    df.groupby(['fluoride_level', 'melbourne']).size().reset_index(name='count'),\n",
    "    x='fluoride_level',\n",
    "    y='count',\n",
    "    color='melbourne',\n",
    ")\n",
    "\n",
    "\n",
    "fig.show()"
   ]
  },
  {
   "cell_type": "code",
   "execution_count": 19,
   "metadata": {},
   "outputs": [
    {
     "data": {
      "text/html": [
       "<div>\n",
       "<style scoped>\n",
       "    .dataframe tbody tr th:only-of-type {\n",
       "        vertical-align: middle;\n",
       "    }\n",
       "\n",
       "    .dataframe tbody tr th {\n",
       "        vertical-align: top;\n",
       "    }\n",
       "\n",
       "    .dataframe thead th {\n",
       "        text-align: right;\n",
       "    }\n",
       "</style>\n",
       "<table border=\"1\" class=\"dataframe\">\n",
       "  <thead>\n",
       "    <tr style=\"text-align: right;\">\n",
       "      <th>melbourne</th>\n",
       "      <th>False</th>\n",
       "      <th>True</th>\n",
       "    </tr>\n",
       "    <tr>\n",
       "      <th>fluoride_level</th>\n",
       "      <th></th>\n",
       "      <th></th>\n",
       "    </tr>\n",
       "  </thead>\n",
       "  <tbody>\n",
       "    <tr>\n",
       "      <th>Fluoridated</th>\n",
       "      <td>406</td>\n",
       "      <td>381</td>\n",
       "    </tr>\n",
       "    <tr>\n",
       "      <th>Natural fluoride</th>\n",
       "      <td>2</td>\n",
       "      <td>0</td>\n",
       "    </tr>\n",
       "    <tr>\n",
       "      <th>Not fluoridated</th>\n",
       "      <td>244</td>\n",
       "      <td>12</td>\n",
       "    </tr>\n",
       "    <tr>\n",
       "      <th>Partly fluoridated</th>\n",
       "      <td>4</td>\n",
       "      <td>10</td>\n",
       "    </tr>\n",
       "  </tbody>\n",
       "</table>\n",
       "</div>"
      ],
      "text/plain": [
       "melbourne           False  True \n",
       "fluoride_level                  \n",
       "Fluoridated           406    381\n",
       "Natural fluoride        2      0\n",
       "Not fluoridated       244     12\n",
       "Partly fluoridated      4     10"
      ]
     },
     "execution_count": 19,
     "metadata": {},
     "output_type": "execute_result"
    }
   ],
   "source": [
    "contigency_table = pd.crosstab(df['fluoride_level'], df['melbourne'])\n",
    "contigency_table"
   ]
  },
  {
   "cell_type": "code",
   "execution_count": 29,
   "metadata": {},
   "outputs": [
    {
     "name": "stdout",
     "output_type": "stream",
     "text": [
      "chi2: 164.56534953232273, p: 1.895889619062605e-35, dof: 3, \n",
      "\n",
      " expected: \n",
      "[[487.50897073 299.49102927]\n",
      " [  1.23890463   0.76109537]\n",
      " [158.57979226  97.42020774]\n",
      " [  8.67233239   5.32766761]]\n"
     ]
    }
   ],
   "source": [
    "chi2, p, dof, expected = stats.chi2_contingency(contigency_table)\n",
    "print(f'chi2: {chi2}, p: {p}, dof: {dof}, \\n\\n',f'expected: \\n{expected}')"
   ]
  },
  {
   "cell_type": "code",
   "execution_count": 30,
   "metadata": {},
   "outputs": [
    {
     "data": {
      "text/plain": [
       "\"There is a significant association between 'melbourne' and 'fluoride_level'.\""
      ]
     },
     "execution_count": 30,
     "metadata": {},
     "output_type": "execute_result"
    }
   ],
   "source": [
    "if p < 0.05:\n",
    "    association_result = \"There is a significant association between 'melbourne' and 'fluoride_level'.\"\n",
    "else:\n",
    "    association_result = \"There is no significant association between 'melbourne' and 'fluoride_level'.\"\n",
    "\n",
    "association_result"
   ]
  },
  {
   "cell_type": "code",
   "execution_count": 9,
   "metadata": {},
   "outputs": [
    {
     "name": "stdout",
     "output_type": "stream",
     "text": [
      "|      | townsuburb           |   n_companies |\n",
      "|-----:|:---------------------|--------------:|\n",
      "|    0 | BELGRAVE             |             2 |\n",
      "|    1 | MULGRAVE             |             2 |\n",
      "|    2 | HUNTINGDALE          |             2 |\n",
      "|    3 | MELBOURNE            |             2 |\n",
      "|    4 | COBURG               |             2 |\n",
      "|    5 | ARMADALE             |             2 |\n",
      "|    6 | OAKLEIGH             |             2 |\n",
      "|    7 | HUGHESDALE           |             2 |\n",
      "|    8 | TULLAMARINE          |             2 |\n",
      "|    9 | UPWEY                |             2 |\n",
      "|   10 | MALVERN              |             2 |\n",
      "|   11 | PAKENHAM             |             2 |\n",
      "|   12 | BAYSWATER            |             2 |\n",
      "|   13 | NORTH SHORE          |             1 |\n",
      "|   14 | NORTH WARRANDYTE     |             1 |\n",
      "|   15 | NUMURKAH             |             1 |\n",
      "|   16 | NORTHCOTE            |             1 |\n",
      "|   17 | NOTTING HILL         |             1 |\n",
      "|   18 | NOWA NOWA            |             1 |\n",
      "|   19 | NULLAWIL             |             1 |\n",
      "|   20 | NORTH MELBOURNE      |             1 |\n",
      "|   21 | ABBOTSFORD           |             1 |\n",
      "|   22 | NUTFIELD             |             1 |\n",
      "|   23 | NUNAWADING           |             1 |\n",
      "|   24 | NORTH BENDIGO        |             1 |\n",
      "|   25 | NYAH                 |             1 |\n",
      "|   26 | NYAH WEST            |             1 |\n",
      "|   27 | NYORA                |             1 |\n",
      "|   28 | OAK PARK             |             1 |\n",
      "|   29 | OAKLANDS JUNCTION    |             1 |\n",
      "|   30 | OAKLEIGH EAST        |             1 |\n",
      "|   31 | OAKLEIGH SOUTH       |             1 |\n",
      "|   32 | OCEAN GROVE          |             1 |\n",
      "|   33 | OFFICER              |             1 |\n",
      "|   34 | OLINDA               |             1 |\n",
      "|   35 | OMBERSLEY            |             1 |\n",
      "|   36 | OMEO                 |             1 |\n",
      "|   37 | NORTH GEELONG        |             1 |\n",
      "|   38 | NOOJEE               |             1 |\n",
      "|   39 | NORLANE              |             1 |\n",
      "|   40 | NOORAT               |             1 |\n",
      "|   41 | NAPOLEONS            |             1 |\n",
      "|   42 | NAR NAR GOON         |             1 |\n",
      "|   43 | NARRE WARREN         |             1 |\n",
      "|   44 | NARRE WARREN NORTH   |             1 |\n",
      "|   45 | NATHALIA             |             1 |\n",
      "|   46 | NAVARRE              |             1 |\n",
      "|   47 | NAVIGATORS           |             1 |\n",
      "|   48 | NEERIM SOUTH         |             1 |\n",
      "|   49 | NERRINA              |             1 |\n",
      "|   50 | NEW GISBORNE         |             1 |\n",
      "|   51 | NEWBOROUGH           |             1 |\n",
      "|   52 | NEWCOMB              |             1 |\n",
      "|   53 | NEWHAVEN             |             1 |\n",
      "|   54 | NEWINGTON            |             1 |\n",
      "|   55 | NEWLANDS ARM         |             1 |\n",
      "|   56 | NEWLYN               |             1 |\n",
      "|   57 | NEWLYN NORTH         |             1 |\n",
      "|   58 | NEWMERELLA           |             1 |\n",
      "|   59 | NEWPORT              |             1 |\n",
      "|   60 | NEWSTEAD             |             1 |\n",
      "|   61 | NEWTOWN              |             1 |\n",
      "|   62 | NHILL                |             1 |\n",
      "|   63 | NICHOLS POINT        |             1 |\n",
      "|   64 | NICHOLSON            |             1 |\n",
      "|   65 | NIDDRIE              |             1 |\n",
      "|   66 | NILMA                |             1 |\n",
      "|   67 | NINTINGBOOL          |             1 |\n",
      "|   68 | NOBLE PARK           |             1 |\n",
      "|   69 | NOBLE PARK NORTH     |             1 |\n",
      "|   70 | ONDIT                |             1 |\n",
      "|   71 | OUYEN                |             1 |\n",
      "|   72 | ORBOST               |             1 |\n",
      "|   73 | RAYWOOD              |             1 |\n",
      "|   74 | PORTLAND             |             1 |\n",
      "|   75 | PORTSEA              |             1 |\n",
      "|   76 | PRAHRAN              |             1 |\n",
      "|   77 | PRESTON              |             1 |\n",
      "|   78 | PURNIM               |             1 |\n",
      "|   79 | PYALONG              |             1 |\n",
      "|   80 | PYRAMID HILL         |             1 |\n",
      "|   81 | QUAMBATOOK           |             1 |\n",
      "|   82 | QUARRY HILL          |             1 |\n",
      "|   83 | QUEENSCLIFF          |             1 |\n",
      "|   84 | RAGLAN               |             1 |\n",
      "|   85 | RAINBOW              |             1 |\n",
      "|   86 | RAWSON               |             1 |\n",
      "|   87 | RAYMOND ISLAND       |             1 |\n",
      "|   88 | RED CLIFFS           |             1 |\n",
      "|   89 | ORMOND               |             1 |\n",
      "|   90 | REDAN                |             1 |\n",
      "|   91 | REDBANK              |             1 |\n",
      "|   92 | RESEARCH             |             1 |\n",
      "|   93 | RESERVOIR            |             1 |\n",
      "|   94 | RHYLL                |             1 |\n",
      "|   95 | RICHMOND             |             1 |\n",
      "|   96 | RIDDELLS CREEK       |             1 |\n",
      "|   97 | RINGWOOD             |             1 |\n",
      "|   98 | RINGWOOD EAST        |             1 |\n",
      "|   99 | RINGWOOD NORTH       |             1 |\n",
      "|  100 | RIPPLESIDE           |             1 |\n",
      "|  101 | RIPPONLEA            |             1 |\n",
      "|  102 | ROBINVALE            |             1 |\n",
      "|  103 | ROCHESTER            |             1 |\n",
      "|  104 | PORTARLINGTON        |             1 |\n",
      "|  105 | PORT WELSHPOOL       |             1 |\n",
      "|  106 | PORT MELBOURNE       |             1 |\n",
      "|  107 | PORT FRANKLIN        |             1 |\n",
      "|  108 | MYRTLEFORD           |             1 |\n",
      "|  109 | OXLEY                |             1 |\n",
      "|  110 | PANTON HILL          |             1 |\n",
      "|  111 | PARK ORCHARDS        |             1 |\n",
      "|  112 | PARKDALE             |             1 |\n",
      "|  113 | PARKVILLE            |             1 |\n",
      "|  114 | PARWAN               |             1 |\n",
      "|  115 | PASCOE VALE          |             1 |\n",
      "|  116 | PASCOE VALE SOUTH    |             1 |\n",
      "|  117 | PATTERSON LAKES      |             1 |\n",
      "|  118 | PAYNESVILLE          |             1 |\n",
      "|  119 | PEARCEDALE           |             1 |\n",
      "|  120 | PENSHURST            |             1 |\n",
      "|  121 | PETERBOROUGH         |             1 |\n",
      "|  122 | PIANGIL              |             1 |\n",
      "|  123 | PICOLA               |             1 |\n",
      "|  124 | PIONEER BAY          |             1 |\n",
      "|  125 | PITTONG              |             1 |\n",
      "|  126 | PLENTY               |             1 |\n",
      "|  127 | POINT COOK           |             1 |\n",
      "|  128 | POINT LONSDALE       |             1 |\n",
      "|  129 | POINT WILSON         |             1 |\n",
      "|  130 | POMONAL              |             1 |\n",
      "|  131 | POOTILLA             |             1 |\n",
      "|  132 | POOWONG              |             1 |\n",
      "|  133 | POREPUNKAH           |             1 |\n",
      "|  134 | PORT ALBERT          |             1 |\n",
      "|  135 | PORT CAMPBELL        |             1 |\n",
      "|  136 | PORT FAIRY           |             1 |\n",
      "|  137 | NAGAMBIE             |             1 |\n",
      "|  138 | MURRAYVILLE          |             1 |\n",
      "|  139 | MYRNIONG             |             1 |\n",
      "|  140 | MAUDE                |             1 |\n",
      "|  141 | MANANGATANG          |             1 |\n",
      "|  142 | MANGALORE            |             1 |\n",
      "|  143 | MANIFOLD HEIGHTS     |             1 |\n",
      "|  144 | MANNERIM             |             1 |\n",
      "|  145 | MANSFIELD            |             1 |\n",
      "|  146 | MARCUS HILL          |             1 |\n",
      "|  147 | MARENGO              |             1 |\n",
      "|  148 | MARIBYRNONG          |             1 |\n",
      "|  149 | MARLO                |             1 |\n",
      "|  150 | MARONG               |             1 |\n",
      "|  151 | MARSHALL             |             1 |\n",
      "|  152 | MARYBOROUGH          |             1 |\n",
      "|  153 | MARYSVILLE           |             1 |\n",
      "|  154 | MCCRAE               |             1 |\n",
      "|  155 | MALMSBURY            |             1 |\n",
      "|  156 | MCKINNON             |             1 |\n",
      "|  157 | MEADOW HEIGHTS       |             1 |\n",
      "|  158 | MEENIYAN             |             1 |\n",
      "|  159 | MELBOURNE AIRPORT    |             1 |\n",
      "|  160 | MELTON               |             1 |\n",
      "|  161 | MELTON SOUTH         |             1 |\n",
      "|  162 | MENTONE              |             1 |\n",
      "|  163 | MENZIES CREEK        |             1 |\n",
      "|  164 | MERBEIN              |             1 |\n",
      "|  165 | MEREDITH             |             1 |\n",
      "|  166 | MERINO               |             1 |\n",
      "|  167 | MERNDA               |             1 |\n",
      "|  168 | MERRICKS             |             1 |\n",
      "|  169 | MALVERN EAST         |             1 |\n",
      "|  170 | MALLACOOTA           |             1 |\n",
      "|  171 | MERRIGUM             |             1 |\n",
      "|  172 | LOVELY BANKS         |             1 |\n",
      "|  173 | LINDENOW             |             1 |\n",
      "|  174 | LINDENOW SOUTH       |             1 |\n",
      "|  175 | LINTON               |             1 |\n",
      "|  176 | LISMORE              |             1 |\n",
      "|  177 | LITTLE BENDIGO       |             1 |\n",
      "|  178 | LITTLE RIVER         |             1 |\n",
      "|  179 | LOCH                 |             1 |\n",
      "|  180 | LOCKINGTON           |             1 |\n",
      "|  181 | LONG FOREST ROAD     |             1 |\n",
      "|  182 | LONG GULLY           |             1 |\n",
      "|  183 | LONGWARRY            |             1 |\n",
      "|  184 | LONGWOOD             |             1 |\n",
      "|  185 | LORNE                |             1 |\n",
      "|  186 | LOWER PLENTY         |             1 |\n",
      "|  187 | MALDON               |             1 |\n",
      "|  188 | LUCKNOW              |             1 |\n",
      "|  189 | LYNBROOK             |             1 |\n",
      "|  190 | LYNDHURST            |             1 |\n",
      "|  191 | LYSTERFIELD          |             1 |\n",
      "|  192 | MACARTHUR            |             1 |\n",
      "|  193 | MACCLESFIELD         |             1 |\n",
      "|  194 | MACEDON              |             1 |\n",
      "|  195 | MACLEOD              |             1 |\n",
      "|  196 | MAFFRA               |             1 |\n",
      "|  197 | MAGPIE               |             1 |\n",
      "|  198 | MAIDEN GULLY         |             1 |\n",
      "|  199 | MAIDSTONE            |             1 |\n",
      "|  200 | MAJORCA              |             1 |\n",
      "|  201 | MERRICKS BEACH       |             1 |\n",
      "|  202 | MERRIJIG             |             1 |\n",
      "|  203 | MYERS FLAT           |             1 |\n",
      "|  204 | MOUNT MACEDON        |             1 |\n",
      "|  205 | MORNINGTON           |             1 |\n",
      "|  206 | MORTLAKE             |             1 |\n",
      "|  207 | MORWELL              |             1 |\n",
      "|  208 | MOSSIFACE            |             1 |\n",
      "|  209 | MOUNT BULLER         |             1 |\n",
      "|  210 | MOUNT CLEAR          |             1 |\n",
      "|  211 | MOUNT DANDENONG      |             1 |\n",
      "|  212 | MOUNT DUNEED         |             1 |\n",
      "|  213 | MOUNT EGERTON        |             1 |\n",
      "|  214 | MOUNT ELIZA          |             1 |\n",
      "|  215 | MOUNT EVELYN         |             1 |\n",
      "|  216 | MOUNT HELEN          |             1 |\n",
      "|  217 | MOUNT HOTHAM         |             1 |\n",
      "|  218 | MOUNT MARTHA         |             1 |\n",
      "|  219 | MORELAND             |             1 |\n",
      "|  220 | MOUNT MORIAC         |             1 |\n",
      "|  221 | MOUNT PLEASANT       |             1 |\n",
      "|  222 | MOUNT ROWAN          |             1 |\n",
      "|  223 | MOUNT WAVERLEY       |             1 |\n",
      "|  224 | MOYHU                |             1 |\n",
      "|  225 | MT BEAUTY            |             1 |\n",
      "|  226 | MURCHISON            |             1 |\n",
      "|  227 | MURGHEBOLUC          |             1 |\n",
      "|  228 | MURRABIT             |             1 |\n",
      "|  229 | MURRAY DOWNS, NSW    |             1 |\n",
      "|  230 | RODBOROUGH           |             1 |\n",
      "|  231 | MURRUMBEENA          |             1 |\n",
      "|  232 | MURTOA               |             1 |\n",
      "|  233 | MORIAC               |             1 |\n",
      "|  234 | MORDIALLOC           |             1 |\n",
      "|  235 | METUNG               |             1 |\n",
      "|  236 | MONBULK              |             1 |\n",
      "|  237 | MICKLEHAM            |             1 |\n",
      "|  238 | MIDDLE PARK          |             1 |\n",
      "|  239 | MILDURA              |             1 |\n",
      "|  240 | MILL PARK            |             1 |\n",
      "|  241 | MILLGROVE            |             1 |\n",
      "|  242 | MINERS REST          |             1 |\n",
      "|  243 | MINYIP               |             1 |\n",
      "|  244 | MIRBOO NORTH         |             1 |\n",
      "|  245 | MIRIMBAH             |             1 |\n",
      "|  246 | MITCHAM              |             1 |\n",
      "|  247 | MITCHELL PARK        |             1 |\n",
      "|  248 | MODEWARRE            |             1 |\n",
      "|  249 | MOE                  |             1 |\n",
      "|  250 | MONOMEITH            |             1 |\n",
      "|  251 | MOOROOPNA            |             1 |\n",
      "|  252 | MONT ALBERT          |             1 |\n",
      "|  253 | MONT ALBERT NORTH    |             1 |\n",
      "|  254 | MONTMORENCY          |             1 |\n",
      "|  255 | MONTROSE             |             1 |\n",
      "|  256 | MOOLAP               |             1 |\n",
      "|  257 | MOONEE PONDS         |             1 |\n",
      "|  258 | MOONLIGHT FLAT       |             1 |\n",
      "|  259 | MOORABBIN            |             1 |\n",
      "|  260 | MOORABBIN AIRPORT    |             1 |\n",
      "|  261 | MOORABBIN EAST       |             1 |\n",
      "|  262 | MOORABOOL            |             1 |\n",
      "|  263 | MOOROODUC            |             1 |\n",
      "|  264 | MOOROOLBARK          |             1 |\n",
      "|  265 | ROCKBANK             |             1 |\n",
      "|  266 | ROMSEY               |             1 |\n",
      "|  267 | ROKEBY               |             1 |\n",
      "|  268 | WATCHEM              |             1 |\n",
      "|  269 | VENTNOR              |             1 |\n",
      "|  270 | VERMONT              |             1 |\n",
      "|  271 | VERMONT SOUTH        |             1 |\n",
      "|  272 | VIEWBANK             |             1 |\n",
      "|  273 | VIOLET TOWN          |             1 |\n",
      "|  274 | WAHGUNYAH            |             1 |\n",
      "|  275 | WALLACE              |             1 |\n",
      "|  276 | WALLAN               |             1 |\n",
      "|  277 | WALLINGTON           |             1 |\n",
      "|  278 | WALPA                |             1 |\n",
      "|  279 | WALPEUP              |             1 |\n",
      "|  280 | WALWA                |             1 |\n",
      "|  281 | WANDANA HEIGHTS      |             1 |\n",
      "|  282 | WANDILIGONG          |             1 |\n",
      "|  283 | WANDIN NORTH         |             1 |\n",
      "|  284 | WANDONG              |             1 |\n",
      "|  285 | WANDONG WEST         |             1 |\n",
      "|  286 | WANGARATTA           |             1 |\n",
      "|  287 | WANTIRNA             |             1 |\n",
      "|  288 | WANTIRNA SOUTH       |             1 |\n",
      "|  289 | WARBURTON            |             1 |\n",
      "|  290 | WARRACKNABEAL        |             1 |\n",
      "|  291 | WARRAGUL             |             1 |\n",
      "|  292 | WARRAGUL SOUTH       |             1 |\n",
      "|  293 | WARRANDYTE           |             1 |\n",
      "|  294 | WARRANDYTE SOUTH     |             1 |\n",
      "|  295 | WARRANWOOD           |             1 |\n",
      "|  296 | WARRENHEIP           |             1 |\n",
      "|  297 | WARRION              |             1 |\n",
      "|  298 | UPPER FERNTREE GULLY |             1 |\n",
      "|  299 | ULTIMA               |             1 |\n",
      "|  300 | TYNONG               |             1 |\n",
      "|  301 | TOORAK               |             1 |\n",
      "|  302 | THORNBURY            |             1 |\n",
      "|  303 | THORNTON             |             1 |\n",
      "|  304 | THORPDALE            |             1 |\n",
      "|  305 | TIMBOON              |             1 |\n",
      "|  306 | TIMOR                |             1 |\n",
      "|  307 | TIMOR WEST           |             1 |\n",
      "|  308 | TONGALA              |             1 |\n",
      "|  309 | TOOBORAC             |             1 |\n",
      "|  310 | TOOLAMBA             |             1 |\n",
      "|  311 | TOOLERN VALE         |             1 |\n",
      "|  312 | TOONGABBIE           |             1 |\n",
      "|  313 | TOORA                |             1 |\n",
      "|  314 | TOORADIN             |             1 |\n",
      "|  315 | TOORLOO              |             1 |\n",
      "|  316 | TYLDEN               |             1 |\n",
      "|  317 | TOOTGAROOK           |             1 |\n",
      "|  318 | TORQUAY              |             1 |\n",
      "|  319 | TOTTENHAM            |             1 |\n",
      "|  320 | TRAFALGAR            |             1 |\n",
      "|  321 | TRARALGON            |             1 |\n",
      "|  322 | TRARALGON SOUTH      |             1 |\n",
      "|  323 | TRAVANCORE           |             1 |\n",
      "|  324 | TRAWOOL              |             1 |\n",
      "|  325 | TREMONT              |             1 |\n",
      "|  326 | TRENTHAM             |             1 |\n",
      "|  327 | TUNGAMAH             |             1 |\n",
      "|  328 | TYABB                |             1 |\n",
      "|  329 | TYERS                |             1 |\n",
      "|  330 | WARRNAMBOOL          |             1 |\n",
      "|  331 | WATERWAYS            |             1 |\n",
      "|  332 | THOMASTOWN           |             1 |\n",
      "|  333 | WATSONIA             |             1 |\n",
      "|  334 | WOOLAMAI             |             1 |\n",
      "|  335 | WOOLAMAI WATERS      |             1 |\n",
      "|  336 | WOOMELANG            |             1 |\n",
      "|  337 | WOORI YALLOCK        |             1 |\n",
      "|  338 | WOORINEN SOUTH       |             1 |\n",
      "|  339 | WUNGHNU              |             1 |\n",
      "|  340 | WURDIBOLUC           |             1 |\n",
      "|  341 | WURRUK               |             1 |\n",
      "|  342 | WY YUNG              |             1 |\n",
      "|  343 | WYCHEPROOF           |             1 |\n",
      "|  344 | WYNDHAM VALE         |             1 |\n",
      "|  345 | YACKANDANDAH         |             1 |\n",
      "|  346 | YALLAMBIE            |             1 |\n",
      "|  347 | YALLOURN NORTH       |             1 |\n",
      "|  348 | YAN YEAN             |             1 |\n",
      "|  349 | YARRA GLEN           |             1 |\n",
      "|  350 | YARRA JUNCTION       |             1 |\n",
      "|  351 | YARRAGON             |             1 |\n",
      "|  352 | YARRAM               |             1 |\n",
      "|  353 | YARRAMBAT            |             1 |\n",
      "|  354 | YARRAVILLE           |             1 |\n",
      "|  355 | YARRAVILLE WEST      |             1 |\n",
      "|  356 | YARRAWONGA           |             1 |\n",
      "|  357 | YARROWEYAH           |             1 |\n",
      "|  358 | YEA                  |             1 |\n",
      "|  359 | YELLINGBO            |             1 |\n",
      "|  360 | YENDON               |             1 |\n",
      "|  361 | YERING               |             1 |\n",
      "|  362 | YINNAR               |             1 |\n",
      "|  363 | WOODSTOCK            |             1 |\n",
      "|  364 | WOODMANS HILL        |             1 |\n",
      "|  365 | WOODEND              |             1 |\n",
      "|  366 | WHEELERS HILL        |             1 |\n",
      "|  367 | WATTLE GLEN          |             1 |\n",
      "|  368 | WAUBRA               |             1 |\n",
      "|  369 | WAURN PONDS          |             1 |\n",
      "|  370 | WEDDERBURN           |             1 |\n",
      "|  371 | WELSHPOOL            |             1 |\n",
      "|  372 | WENDOUREE            |             1 |\n",
      "|  373 | WENSLEYDALE          |             1 |\n",
      "|  374 | WERNETH              |             1 |\n",
      "|  375 | WERRIBEE             |             1 |\n",
      "|  376 | WESBURN              |             1 |\n",
      "|  377 | WEST FOOTSCRAY       |             1 |\n",
      "|  378 | WEST MELBOURNE       |             1 |\n",
      "|  379 | WESTMEADOWS          |             1 |\n",
      "|  380 | WHITE HILLS          |             1 |\n",
      "|  381 | WONTHAGGI            |             1 |\n",
      "|  382 | WHITFIELD            |             1 |\n",
      "|  383 | WHITTINGTON          |             1 |\n",
      "|  384 | WHITTLESEA           |             1 |\n",
      "|  385 | WILLIAMSTOWN         |             1 |\n",
      "|  386 | WILLOW GROVE         |             1 |\n",
      "|  387 | WIMBLEDON HEIGHTS    |             1 |\n",
      "|  388 | WINCHELSEA           |             1 |\n",
      "|  389 | WINDERMERE           |             1 |\n",
      "|  390 | WINDSOR              |             1 |\n",
      "|  391 | WISELEIGH            |             1 |\n",
      "|  392 | WODONGA              |             1 |\n",
      "|  393 | WOLLERT              |             1 |\n",
      "|  394 | WONGA PARK           |             1 |\n",
      "|  395 | THOMSON              |             1 |\n",
      "|  396 | THE PATCH            |             1 |\n",
      "|  397 | ROKEWOOD             |             1 |\n",
      "|  398 | SOUTH KINGSVILLE     |             1 |\n",
      "|  399 | SEDDON               |             1 |\n",
      "|  400 | SELBY                |             1 |\n",
      "|  401 | SERPENTINE           |             1 |\n",
      "|  402 | SEVILLE              |             1 |\n",
      "|  403 | SEVILLE EAST         |             1 |\n",
      "|  404 | SEYMOUR              |             1 |\n",
      "|  405 | SHE OAKS             |             1 |\n",
      "|  406 | SHELFORD             |             1 |\n",
      "|  407 | SHEPPARTON           |             1 |\n",
      "|  408 | SHERBROOKE           |             1 |\n",
      "|  409 | SHOREHAM             |             1 |\n",
      "|  410 | SILVAN               |             1 |\n",
      "|  411 | SILVERLEAVES         |             1 |\n",
      "|  412 | SIMPSON              |             1 |\n",
      "|  413 | SIMSON               |             1 |\n",
      "|  414 | SKENES CREEK         |             1 |\n",
      "|  415 | SKIPTON              |             1 |\n",
      "|  416 | SKYE                 |             1 |\n",
      "|  417 | SMEATON              |             1 |\n",
      "|  418 | SMITHS BEACH         |             1 |\n",
      "|  419 | SMITHS GULLY         |             1 |\n",
      "|  420 | SMYTHES CREEK        |             1 |\n",
      "|  421 | SMYTHESDALE          |             1 |\n",
      "|  422 | SNAKE VALLEY         |             1 |\n",
      "|  423 | SOLDIERS HILL        |             1 |\n",
      "|  424 | SOMERS               |             1 |\n",
      "|  425 | SOMERTON             |             1 |\n",
      "|  426 | SOMERVILLE           |             1 |\n",
      "|  427 | SORRENTO             |             1 |\n",
      "|  428 | SEBASTOPOL           |             1 |\n",
      "|  429 | SEBASTIAN            |             1 |\n",
      "|  430 | SEASPRAY             |             1 |\n",
      "|  431 | RYE                  |             1 |\n",
      "|  432 | LEXTON               |             1 |\n",
      "|  433 | ROSANNA              |             1 |\n",
      "|  434 | ROSEBUD              |             1 |\n",
      "|  435 | ROSEBUD WEST         |             1 |\n",
      "|  436 | ROSEDALE             |             1 |\n",
      "|  437 | ROSS CREEK           |             1 |\n",
      "|  438 | ROWSLEY              |             1 |\n",
      "|  439 | ROWVILLE             |             1 |\n",
      "|  440 | ROXBURGH PARK        |             1 |\n",
      "|  441 | RUPANYUP             |             1 |\n",
      "|  442 | RUSHWORTH            |             1 |\n",
      "|  443 | RUSSELLS BRIDGE      |             1 |\n",
      "|  444 | RUTHERGLEN           |             1 |\n",
      "|  445 | SAFETY BEACH         |             1 |\n",
      "|  446 | SEAHOLME             |             1 |\n",
      "|  447 | SAINT HELENA         |             1 |\n",
      "|  448 | SALE                 |             1 |\n",
      "|  449 | SAN REMO             |             1 |\n",
      "|  450 | SANDFORD             |             1 |\n",
      "|  451 | SANDHURST            |             1 |\n",
      "|  452 | SANDRINGHAM          |             1 |\n",
      "|  453 | SARSFIELD            |             1 |\n",
      "|  454 | SASSAFRAS            |             1 |\n",
      "|  455 | SCARSDALE            |             1 |\n",
      "|  456 | SCORESBY             |             1 |\n",
      "|  457 | SEA LAKE             |             1 |\n",
      "|  458 | SEABROOK             |             1 |\n",
      "|  459 | SEAFORD              |             1 |\n",
      "|  460 | SOUTH GEELONG        |             1 |\n",
      "|  461 | SOUTH MELBOURNE      |             1 |\n",
      "|  462 | THE BASIN            |             1 |\n",
      "|  463 | SOUTH MORANG         |             1 |\n",
      "|  464 | SUNSHINE             |             1 |\n",
      "|  465 | SURF BEACH           |             1 |\n",
      "|  466 | SURREY HILLS         |             1 |\n",
      "|  467 | SUTHERLANDS CREEK    |             1 |\n",
      "|  468 | SWAN BAY             |             1 |\n",
      "|  469 | SWAN HILL            |             1 |\n",
      "|  470 | SWAN REACH           |             1 |\n",
      "|  471 | SWIFTS CREEK         |             1 |\n",
      "|  472 | SYDENHAM             |             1 |\n",
      "|  473 | SYNDAL               |             1 |\n",
      "|  474 | TALBOT               |             1 |\n",
      "|  475 | TALLANGATTA          |             1 |\n",
      "|  476 | TALLAROOK            |             1 |\n",
      "|  477 | TALLYGAROOPNA        |             1 |\n",
      "|  478 | TAMBO UPPER          |             1 |\n",
      "|  479 | TANGAMBALANGA        |             1 |\n",
      "|  480 | TARADALE             |             1 |\n",
      "|  481 | TARNAGULLA           |             1 |\n",
      "|  482 | TARRINGTON           |             1 |\n",
      "|  483 | TATURA               |             1 |\n",
      "|  484 | TAWONGA              |             1 |\n",
      "|  485 | TAWONGA SOUTH        |             1 |\n",
      "|  486 | TAYLORS LAKES        |             1 |\n",
      "|  487 | TECOMA               |             1 |\n",
      "|  488 | TEESDALE             |             1 |\n",
      "|  489 | TEMPLESTOWE          |             1 |\n",
      "|  490 | TEMPLESTOWE LOWER    |             1 |\n",
      "|  491 | TENBY POINT          |             1 |\n",
      "|  492 | TERANG               |             1 |\n",
      "|  493 | SUNSET STRIP         |             1 |\n",
      "|  494 | SUNDERLAND BAY       |             1 |\n",
      "|  495 | SUNBURY              |             1 |\n",
      "|  496 | ST JAMES             |             1 |\n",
      "|  497 | SOUTH YARRA          |             1 |\n",
      "|  498 | SOUTHBANK            |             1 |\n",
      "|  499 | SPOTSWOOD            |             1 |\n",
      "|  500 | SPRING GULLY         |             1 |\n",
      "|  501 | SPRING HILL          |             1 |\n",
      "|  502 | SPRINGBANK           |             1 |\n",
      "|  503 | SPRINGHURST          |             1 |\n",
      "|  504 | SPRINGMOUNT          |             1 |\n",
      "|  505 | SPRINGVALE           |             1 |\n",
      "|  506 | SPRINGVALE SOUTH     |             1 |\n",
      "|  507 | ST ALBANS            |             1 |\n",
      "|  508 | ST ALBANS PARK       |             1 |\n",
      "|  509 | ST ARNAUD            |             1 |\n",
      "|  510 | ST KILDA             |             1 |\n",
      "|  511 | STRATHMORE HEIGHTS   |             1 |\n",
      "|  512 | ST KILDA EAST        |             1 |\n",
      "|  513 | ST KILDA WEST        |             1 |\n",
      "|  514 | ST LEONARDS          |             1 |\n",
      "|  515 | STANHOPE             |             1 |\n",
      "|  516 | STAUGHTON VALE       |             1 |\n",
      "|  517 | STAWELL              |             1 |\n",
      "|  518 | STEELS CREEK         |             1 |\n",
      "|  519 | STEIGLITZ            |             1 |\n",
      "|  520 | STONEHAVEN           |             1 |\n",
      "|  521 | STRATFORD            |             1 |\n",
      "|  522 | STRATHFIELDSAYE      |             1 |\n",
      "|  523 | STRATHMERTON         |             1 |\n",
      "|  524 | STRATHMORE           |             1 |\n",
      "|  525 | LILYDALE             |             1 |\n",
      "|  526 | LEONGATHA            |             1 |\n",
      "|  527 | LETHBRIDGE           |             1 |\n",
      "|  528 | CERES                |             1 |\n",
      "|  529 | CALIFORNIA GULLY     |             1 |\n",
      "|  530 | CAMBERWELL           |             1 |\n",
      "|  531 | CAMBRIAN HILL        |             1 |\n",
      "|  532 | CAMPBELLFIELD        |             1 |\n",
      "|  533 | CAMPBELLS CREEK      |             1 |\n",
      "|  534 | CAMPERDOWN           |             1 |\n",
      "|  535 | CANADIAN             |             1 |\n",
      "|  536 | CANN RIVER           |             1 |\n",
      "|  537 | CANNONS CREEK        |             1 |\n",
      "|  538 | CANTERBURY           |             1 |\n",
      "|  539 | CAPE PATERSON        |             1 |\n",
      "|  540 | CAPE WOOLAMAI        |             1 |\n",
      "|  541 | CARAMUT              |             1 |\n",
      "|  542 | CARDIGAN             |             1 |\n",
      "|  543 | CARDROSS             |             1 |\n",
      "|  544 | CARISBROOK           |             1 |\n",
      "|  545 | CARLTON              |             1 |\n",
      "|  546 | CARLTON NORTH        |             1 |\n",
      "|  547 | CARNEGIE             |             1 |\n",
      "|  548 | CARNGHAM             |             1 |\n",
      "|  549 | CAROLINE SPRINGS     |             1 |\n",
      "|  550 | CARRUM               |             1 |\n",
      "|  551 | CARRUM DOWNS         |             1 |\n",
      "|  552 | CASTERTON            |             1 |\n",
      "|  553 | CASTLEMAINE          |             1 |\n",
      "|  554 | CAULFIELD            |             1 |\n",
      "|  555 | CAULFIELD EAST       |             1 |\n",
      "|  556 | CAULFIELD NORTH      |             1 |\n",
      "|  557 | CAULFIELD SOUTH      |             1 |\n",
      "|  558 | CAIRNLEA             |             1 |\n",
      "|  559 | CABARITA             |             1 |\n",
      "|  560 | BUXTON               |             1 |\n",
      "|  561 | BULLA                |             1 |\n",
      "|  562 | BRIGHTON EAST        |             1 |\n",
      "|  563 | BRIM                 |             1 |\n",
      "|  564 | BROADFORD            |             1 |\n",
      "|  565 | BROADMEADOWS         |             1 |\n",
      "|  566 | BROOKLYN             |             1 |\n",
      "|  567 | BROOMFIELD           |             1 |\n",
      "|  568 | BROWN HILL           |             1 |\n",
      "|  569 | BRUNSWICK            |             1 |\n",
      "|  570 | BRUNSWICK EAST       |             1 |\n",
      "|  571 | BRUNSWICK WEST       |             1 |\n",
      "|  572 | BRUTHEN              |             1 |\n",
      "|  573 | BUCHAN               |             1 |\n",
      "|  574 | BUCKLEY              |             1 |\n",
      "|  575 | BULLAROOK            |             1 |\n",
      "|  576 | BURWOOD EAST         |             1 |\n",
      "|  577 | BULLEEN              |             1 |\n",
      "|  578 | BULN BULN            |             1 |\n",
      "|  579 | BUNDALONG            |             1 |\n",
      "|  580 | BUNDOORA             |             1 |\n",
      "|  581 | BUNGAREE             |             1 |\n",
      "|  582 | BUNINYONG            |             1 |\n",
      "|  583 | BUNKERS HILL         |             1 |\n",
      "|  584 | BUNYIP               |             1 |\n",
      "|  585 | BURLEIGH             |             1 |\n",
      "|  586 | BURNLEY              |             1 |\n",
      "|  587 | BURNSIDE             |             1 |\n",
      "|  588 | BURRUMBEET           |             1 |\n",
      "|  589 | BURWOOD              |             1 |\n",
      "|  590 | CAVENDISH            |             1 |\n",
      "|  591 | CHADSTONE            |             1 |\n",
      "|  592 | BRIGHT               |             1 |\n",
      "|  593 | CHARLTON             |             1 |\n",
      "|  594 | COONGULLA            |             1 |\n",
      "|  595 | CORAGULAC            |             1 |\n",
      "|  596 | CORINDHAP            |             1 |\n",
      "|  597 | CORINELLA            |             1 |\n",
      "|  598 | CORIO                |             1 |\n",
      "|  599 | CORONET BAY          |             1 |\n",
      "|  600 | COROROOKE            |             1 |\n",
      "|  601 | CORRYONG             |             1 |\n",
      "|  602 | COTTLES BRIDGE       |             1 |\n",
      "|  603 | COWES                |             1 |\n",
      "|  604 | COWWARR              |             1 |\n",
      "|  605 | CRAIGIE              |             1 |\n",
      "|  606 | CRAIGIEBURN          |             1 |\n",
      "|  607 | CRANBOURNE           |             1 |\n",
      "|  608 | CRANBOURNE NORTH     |             1 |\n",
      "|  609 | CRANBOURNE SOUTH     |             1 |\n",
      "|  610 | CREMORNE             |             1 |\n",
      "|  611 | CRESSY               |             1 |\n",
      "|  612 | CRESWICK             |             1 |\n",
      "|  613 | CRIB POINT           |             1 |\n",
      "|  614 | CROXTON              |             1 |\n",
      "|  615 | CROYDON              |             1 |\n",
      "|  616 | CROYDON HILLS        |             1 |\n",
      "|  617 | CROYDON NORTH        |             1 |\n",
      "|  618 | CROYDON SOUTH        |             1 |\n",
      "|  619 | CUDGEWA              |             1 |\n",
      "|  620 | CURLEWIS             |             1 |\n",
      "|  621 | DAISY HILL           |             1 |\n",
      "|  622 | DALLAS               |             1 |\n",
      "|  623 | COOLAROO             |             1 |\n",
      "|  624 | CONNEWARRE           |             1 |\n",
      "|  625 | CONGUPNA             |             1 |\n",
      "|  626 | CLAYTON SOUTH        |             1 |\n",
      "|  627 | CHELSEA              |             1 |\n",
      "|  628 | CHELSEA HEIGHTS      |             1 |\n",
      "|  629 | CHELTENHAM           |             1 |\n",
      "|  630 | CHEWTON              |             1 |\n",
      "|  631 | CHILTERN             |             1 |\n",
      "|  632 | CHIPSTOW             |             1 |\n",
      "|  633 | CHIRNSIDE PARK       |             1 |\n",
      "|  634 | CHUM CREEK           |             1 |\n",
      "|  635 | CHURCHILL            |             1 |\n",
      "|  636 | CLARENDON            |             1 |\n",
      "|  637 | CLARINDA             |             1 |\n",
      "|  638 | CLARKES HILL         |             1 |\n",
      "|  639 | CLAYTON              |             1 |\n",
      "|  640 | CLEMATIS             |             1 |\n",
      "|  641 | COLLINGWOOD          |             1 |\n",
      "|  642 | CLIFTON HILL         |             1 |\n",
      "|  643 | CLIFTON SPRINGS      |             1 |\n",
      "|  644 | CLUNES               |             1 |\n",
      "|  645 | CLYDE                |             1 |\n",
      "|  646 | COBDEN               |             1 |\n",
      "|  647 | COBRAM               |             1 |\n",
      "|  648 | COBURG NORTH         |             1 |\n",
      "|  649 | COCKATOO             |             1 |\n",
      "|  650 | COHUNA               |             1 |\n",
      "|  651 | COLAC                |             1 |\n",
      "|  652 | COLBINABBIN          |             1 |\n",
      "|  653 | COLDSTREAM           |             1 |\n",
      "|  654 | COLERAINE            |             1 |\n",
      "|  655 | BRIGHTON             |             1 |\n",
      "|  656 | BRIDGEWATER          |             1 |\n",
      "|  657 | DANDENONG            |             1 |\n",
      "|  658 | BARRABOOL            |             1 |\n",
      "|  659 | ASPENDALE GARDENS    |             1 |\n",
      "|  660 | ATTWOOD              |             1 |\n",
      "|  661 | AVALON               |             1 |\n",
      "|  662 | AVENEL               |             1 |\n",
      "|  663 | AVOCA                |             1 |\n",
      "|  664 | AVONDALE HEIGHTS     |             1 |\n",
      "|  665 | AVONSLEIGH           |             1 |\n",
      "|  666 | AXEDALE              |             1 |\n",
      "|  667 | BACCHUS MARSH        |             1 |\n",
      "|  668 | BADGER CREEK         |             1 |\n",
      "|  669 | BAIRNSDALE           |             1 |\n",
      "|  670 | BALACLAVA            |             1 |\n",
      "|  671 | BALLAN               |             1 |\n",
      "|  672 | BALLARAT             |             1 |\n",
      "|  673 | BALLARAT NORTH       |             1 |\n",
      "|  674 | BALLARAT SOUTH       |             1 |\n",
      "|  675 | BALMORAL             |             1 |\n",
      "|  676 | BALNARRING           |             1 |\n",
      "|  677 | BALWYN               |             1 |\n",
      "|  678 | BALWYN NORTH         |             1 |\n",
      "|  679 | BAMBRA               |             1 |\n",
      "|  680 | BAMGANIE             |             1 |\n",
      "|  681 | BANDIANA MILPO       |             1 |\n",
      "|  682 | BANGHOLME            |             1 |\n",
      "|  683 | BANNOCKBURN          |             1 |\n",
      "|  684 | BANYULE              |             1 |\n",
      "|  685 | BARANDUDA            |             1 |\n",
      "|  686 | BAREENA              |             1 |\n",
      "|  687 | BARMAH               |             1 |\n",
      "|  688 | ASPENDALE            |             1 |\n",
      "|  689 | ASHWOOD              |             1 |\n",
      "|  690 | ASHBURTON            |             1 |\n",
      "|  691 | ALMA                 |             1 |\n",
      "|  692 | ADDINGTON            |             1 |\n",
      "|  693 | ADELAIDE LEAD        |             1 |\n",
      "|  694 | AGNES                |             1 |\n",
      "|  695 | AIREYS INLET         |             1 |\n",
      "|  696 | AIRPORT WEST         |             1 |\n",
      "|  697 | ALBANVALE            |             1 |\n",
      "|  698 | ALBERT PARK          |             1 |\n",
      "|  699 | ALBERTON             |             1 |\n",
      "|  700 | ALBION               |             1 |\n",
      "|  701 | ALEXANDRA            |             1 |\n",
      "|  702 | ALFREDTON            |             1 |\n",
      "|  703 | ALLANSFORD           |             1 |\n",
      "|  704 | ALLENDALE            |             1 |\n",
      "|  705 | ALPHINGTON           |             1 |\n",
      "|  706 | ASCOT VALE           |             1 |\n",
      "|  707 | ALTONA               |             1 |\n",
      "|  708 | ALTONA MEADOWS       |             1 |\n",
      "|  709 | ALTONA NORTH         |             1 |\n",
      "|  710 | ALVIE                |             1 |\n",
      "|  711 | AMPHITHEATRE         |             1 |\n",
      "|  712 | ANAKIE               |             1 |\n",
      "|  713 | ANDERSON             |             1 |\n",
      "|  714 | ANGLESEA             |             1 |\n",
      "|  715 | APOLLO BAY           |             1 |\n",
      "|  716 | ARARAT               |             1 |\n",
      "|  717 | ARCHIES CREEK        |             1 |\n",
      "|  718 | ARDEER               |             1 |\n",
      "|  719 | ARTHURS CREEK        |             1 |\n",
      "|  720 | BARNAWARTHA          |             1 |\n",
      "|  721 | BARRY BEACH          |             1 |\n",
      "|  722 | BRIAR HILL           |             1 |\n",
      "|  723 | BARRYS REEF          |             1 |\n",
      "|  724 | BIRDWOODTON          |             1 |\n",
      "|  725 | BIRREGURRA           |             1 |\n",
      "|  726 | BITTERN              |             1 |\n",
      "|  727 | BLACK HILL           |             1 |\n",
      "|  728 | BLACK ROCK           |             1 |\n",
      "|  729 | BLACKBURN            |             1 |\n",
      "|  730 | BLACKBURN NORTH      |             1 |\n",
      "|  731 | BLACKBURN SOUTH      |             1 |\n",
      "|  732 | BLACKWOOD            |             1 |\n",
      "|  733 | BLAIRGOWRIE          |             1 |\n",
      "|  734 | BLIND BIGHT          |             1 |\n",
      "|  735 | BOISDALE             |             1 |\n",
      "|  736 | BOLWARRAH            |             1 |\n",
      "|  737 | BONBEACH             |             1 |\n",
      "|  738 | BONEGILLA            |             1 |\n",
      "|  739 | BONNIE DOON          |             1 |\n",
      "|  740 | BONSHAW              |             1 |\n",
      "|  741 | BOOLARRA             |             1 |\n",
      "|  742 | BOORT                |             1 |\n",
      "|  743 | BORONIA              |             1 |\n",
      "|  744 | BOWENVALE            |             1 |\n",
      "|  745 | BOX HILL             |             1 |\n",
      "|  746 | BOX HILL NORTH       |             1 |\n",
      "|  747 | BOX HILL SOUTH       |             1 |\n",
      "|  748 | BRAESIDE             |             1 |\n",
      "|  749 | BRAYBROOK            |             1 |\n",
      "|  750 | BREAKWATER           |             1 |\n",
      "|  751 | BREAMLEA             |             1 |\n",
      "|  752 | BRIAGOLONG           |             1 |\n",
      "|  753 | BIRCHIP              |             1 |\n",
      "|  754 | BEVERIDGE            |             1 |\n",
      "|  755 | BEULAH               |             1 |\n",
      "|  756 | BELL POST HILL       |             1 |\n",
      "|  757 | BARWON HEADS         |             1 |\n",
      "|  758 | BASS                 |             1 |\n",
      "|  759 | BATESFORD            |             1 |\n",
      "|  760 | BAXTER               |             1 |\n",
      "|  761 | BAYSWATER NORTH      |             1 |\n",
      "|  762 | BEACONSFIELD         |             1 |\n",
      "|  763 | BEACONSFIELD UPPER   |             1 |\n",
      "|  764 | BEALIBA              |             1 |\n",
      "|  765 | BEAUFORT             |             1 |\n",
      "|  766 | BEAUMARIS            |             1 |\n",
      "|  767 | BEEAC                |             1 |\n",
      "|  768 | BEECHWORTH           |             1 |\n",
      "|  769 | BELL PARK            |             1 |\n",
      "|  770 | BELLARINE            |             1 |\n",
      "|  771 | BETLEY               |             1 |\n",
      "|  772 | BELLBRAE             |             1 |\n",
      "|  773 | BELLBRIDGE           |             1 |\n",
      "|  774 | BELLS BEACH          |             1 |\n",
      "|  775 | BELMONT              |             1 |\n",
      "|  776 | BEMM RIVER           |             1 |\n",
      "|  777 | BENALLA              |             1 |\n",
      "|  778 | BENDIGO              |             1 |\n",
      "|  779 | BENNISON             |             1 |\n",
      "|  780 | BENTLEIGH            |             1 |\n",
      "|  781 | BENTLEIGH EAST       |             1 |\n",
      "|  782 | BERRINGA             |             1 |\n",
      "|  783 | BERWICK              |             1 |\n",
      "|  784 | BET BET              |             1 |\n",
      "|  785 | DALYSTON             |             1 |\n",
      "|  786 | DANDENONG SOUTH      |             1 |\n",
      "|  787 | LEOPOLD              |             1 |\n",
      "|  788 | KALORAMA             |             1 |\n",
      "|  789 | HEYWOOD              |             1 |\n",
      "|  790 | HIDDEN VALLEY        |             1 |\n",
      "|  791 | HIGHETT              |             1 |\n",
      "|  792 | HIGHPOINT CITY       |             1 |\n",
      "|  793 | HIGHTON              |             1 |\n",
      "|  794 | HILLCREST            |             1 |\n",
      "|  795 | HILLSIDE             |             1 |\n",
      "|  796 | HMAS CERBERUS        |             1 |\n",
      "|  797 | HOPETOUN             |             1 |\n",
      "|  798 | HOPPERS CROSSING     |             1 |\n",
      "|  799 | HORSHAM              |             1 |\n",
      "|  800 | HUNTLY               |             1 |\n",
      "|  801 | HURSTBRIDGE          |             1 |\n",
      "|  802 | INDENTED HEAD        |             1 |\n",
      "|  803 | INGLEWOOD            |             1 |\n",
      "|  804 | INVERLEIGH           |             1 |\n",
      "|  805 | INVERLOCH            |             1 |\n",
      "|  806 | INVERMAY             |             1 |\n",
      "|  807 | IRREWARRA            |             1 |\n",
      "|  808 | IRYMPLE              |             1 |\n",
      "|  809 | IVANHOE              |             1 |\n",
      "|  810 | IVANHOE EAST         |             1 |\n",
      "|  811 | JACANA               |             1 |\n",
      "|  812 | JAN JUC              |             1 |\n",
      "|  813 | JOHNSONVILLE         |             1 |\n",
      "|  814 | JUMBUK               |             1 |\n",
      "|  815 | JUNG                 |             1 |\n",
      "|  816 | JUNORTOUN            |             1 |\n",
      "|  817 | KALIMNA              |             1 |\n",
      "|  818 | HEYFIELD             |             1 |\n",
      "|  819 | HERNE HILL           |             1 |\n",
      "|  820 | HEPBURN              |             1 |\n",
      "|  821 | HAVELOCK             |             1 |\n",
      "|  822 | HADDON               |             1 |\n",
      "|  823 | HADFIELD             |             1 |\n",
      "|  824 | HALLAM               |             1 |\n",
      "|  825 | HALLS GAP            |             1 |\n",
      "|  826 | HAMILTON             |             1 |\n",
      "|  827 | HAMLYN HEIGHTS       |             1 |\n",
      "|  828 | HAMPTON              |             1 |\n",
      "|  829 | HAMPTON EAST         |             1 |\n",
      "|  830 | HAMPTON PARK         |             1 |\n",
      "|  831 | HARCOURT             |             1 |\n",
      "|  832 | HARKAWAY             |             1 |\n",
      "|  833 | HARRIETVILLE         |             1 |\n",
      "|  834 | HASTINGS             |             1 |\n",
      "|  835 | HAWKSBURN            |             1 |\n",
      "|  836 | HEIDELBERG WEST      |             1 |\n",
      "|  837 | HAWTHORN             |             1 |\n",
      "|  838 | HAWTHORN EAST        |             1 |\n",
      "|  839 | HAZELWOOD NORTH      |             1 |\n",
      "|  840 | HEALESVILLE          |             1 |\n",
      "|  841 | HEATHCOTE            |             1 |\n",
      "|  842 | HEATHCOTE JUNCTION   |             1 |\n",
      "|  843 | HEATHERDALE          |             1 |\n",
      "|  844 | HEATHERTON           |             1 |\n",
      "|  845 | HEATHMONT            |             1 |\n",
      "|  846 | HEDLEY               |             1 |\n",
      "|  847 | HEIDELBERG           |             1 |\n",
      "|  848 | HEIDELBERG HEIGHTS   |             1 |\n",
      "|  849 | HEIDELBERG RGH       |             1 |\n",
      "|  850 | KALLISTA             |             1 |\n",
      "|  851 | KANGAROO FLAT        |             1 |\n",
      "|  852 | GUNBOWER             |             1 |\n",
      "|  853 | KANGAROO GROUND      |             1 |\n",
      "|  854 | KOOYONG              |             1 |\n",
      "|  855 | KOROIT               |             1 |\n",
      "|  856 | KORONG VALE          |             1 |\n",
      "|  857 | KORUMBURRA           |             1 |\n",
      "|  858 | KURUNJANG            |             1 |\n",
      "|  859 | KYABRAM              |             1 |\n",
      "|  860 | KYNETON              |             1 |\n",
      "|  861 | LAANECOORIE          |             1 |\n",
      "|  862 | LAKE BOGA            |             1 |\n",
      "|  863 | LAKE BUNGA           |             1 |\n",
      "|  864 | LAKE GARDENS         |             1 |\n",
      "|  865 | LAKE TYERS           |             1 |\n",
      "|  866 | LAKE TYERS BEACH     |             1 |\n",
      "|  867 | LAKES ENTRANCE       |             1 |\n",
      "|  868 | LAL LAL              |             1 |\n",
      "|  869 | LALBERT              |             1 |\n",
      "|  870 | LALOR                |             1 |\n",
      "|  871 | LANCEFIELD           |             1 |\n",
      "|  872 | LANDSBOROUGH         |             1 |\n",
      "|  873 | LANG LANG            |             1 |\n",
      "|  874 | LANGWARRIN           |             1 |\n",
      "|  875 | LARA                 |             1 |\n",
      "|  876 | LAUNCHING PLACE      |             1 |\n",
      "|  877 | LAVERTON             |             1 |\n",
      "|  878 | LAVERTON NORTH       |             1 |\n",
      "|  879 | LEARMONTH            |             1 |\n",
      "|  880 | LEIGH CREEK          |             1 |\n",
      "|  881 | LEITCHVILLE          |             1 |\n",
      "|  882 | ABERFELDIE           |             1 |\n",
      "|  883 | KOORLONG             |             1 |\n",
      "|  884 | KOONWARRA            |             1 |\n",
      "|  885 | KOONDROOK            |             1 |\n",
      "|  886 | KEW                  |             1 |\n",
      "|  887 | KATAMATITE           |             1 |\n",
      "|  888 | KATANDRA WEST        |             1 |\n",
      "|  889 | KATUNGA              |             1 |\n",
      "|  890 | KEALBA               |             1 |\n",
      "|  891 | KEILOR               |             1 |\n",
      "|  892 | KEILOR DOWNS         |             1 |\n",
      "|  893 | KEILOR EAST          |             1 |\n",
      "|  894 | KEILOR NORTH         |             1 |\n",
      "|  895 | KEILOR PARK          |             1 |\n",
      "|  896 | KENNINGTON           |             1 |\n",
      "|  897 | KENSINGTON           |             1 |\n",
      "|  898 | KEON PARK            |             1 |\n",
      "|  899 | KERANG               |             1 |\n",
      "|  900 | KEW EAST             |             1 |\n",
      "|  901 | KOO WEE RUP          |             1 |\n",
      "|  902 | KEYSBOROUGH          |             1 |\n",
      "|  903 | KIEWA                |             1 |\n",
      "|  904 | KILCUNDA             |             1 |\n",
      "|  905 | KILLARA              |             1 |\n",
      "|  906 | KILMORE              |             1 |\n",
      "|  907 | KILMORE EAST         |             1 |\n",
      "|  908 | KILSYTH              |             1 |\n",
      "|  909 | KILSYTH SOUTH        |             1 |\n",
      "|  910 | KINGS PARK           |             1 |\n",
      "|  911 | KINGSBURY            |             1 |\n",
      "|  912 | KINGSTON             |             1 |\n",
      "|  913 | KINGSVILLE           |             1 |\n",
      "|  914 | KNOXFIELD            |             1 |\n",
      "|  915 | GUYS HILL            |             1 |\n",
      "|  916 | GUILDFORD            |             1 |\n",
      "|  917 | DARLEY               |             1 |\n",
      "|  918 | EPSOM                |             1 |\n",
      "|  919 | DROUIN WEST          |             1 |\n",
      "|  920 | DRUMCONDRA           |             1 |\n",
      "|  921 | DRYSDALE             |             1 |\n",
      "|  922 | DUMBALK              |             1 |\n",
      "|  923 | DUNKELD              |             1 |\n",
      "|  924 | DUNOLLY              |             1 |\n",
      "|  925 | DURHAM LEAD          |             1 |\n",
      "|  926 | EAGLE POINT          |             1 |\n",
      "|  927 | EAGLEHAWK            |             1 |\n",
      "|  928 | EAGLEMONT            |             1 |\n",
      "|  929 | EAST BAIRNSDALE      |             1 |\n",
      "|  930 | EAST GEELONG         |             1 |\n",
      "|  931 | EAST MELBOURNE       |             1 |\n",
      "|  932 | EASTWOOD             |             1 |\n",
      "|  933 | EBDEN                |             1 |\n",
      "|  934 | ECHUCA               |             1 |\n",
      "|  935 | EDENHOPE             |             1 |\n",
      "|  936 | EDITHVALE            |             1 |\n",
      "|  937 | EILDON               |             1 |\n",
      "|  938 | ELLIMINYT            |             1 |\n",
      "|  939 | ELMORE               |             1 |\n",
      "|  940 | ELPHINSTONE          |             1 |\n",
      "|  941 | ELSTERNWICK          |             1 |\n",
      "|  942 | ELTHAM               |             1 |\n",
      "|  943 | ELTHAM NORTH         |             1 |\n",
      "|  944 | ELWOOD               |             1 |\n",
      "|  945 | EMERALD              |             1 |\n",
      "|  946 | ENDEAVOUR HILLS      |             1 |\n",
      "|  947 | ENFIELD              |             1 |\n",
      "|  948 | DROUIN               |             1 |\n",
      "|  949 | DROMANA              |             1 |\n",
      "|  950 | DOVETON              |             1 |\n",
      "|  951 | DEVENISH             |             1 |\n",
      "|  952 | DARNUM               |             1 |\n",
      "|  953 | DARTMOOR             |             1 |\n",
      "|  954 | DARTMOUTH            |             1 |\n",
      "|  955 | DAYLESFORD           |             1 |\n",
      "|  956 | DEAKIN UNIVERSITY    |             1 |\n",
      "|  957 | DEAN                 |             1 |\n",
      "|  958 | DEEPDENE             |             1 |\n",
      "|  959 | DEER PARK            |             1 |\n",
      "|  960 | DELACOMBE            |             1 |\n",
      "|  961 | DELAHEY              |             1 |\n",
      "|  962 | DEREEL               |             1 |\n",
      "|  963 | DERRIMUT             |             1 |\n",
      "|  964 | DERRINALLUM          |             1 |\n",
      "|  965 | DEVON MEADOWS        |             1 |\n",
      "|  966 | DOREEN               |             1 |\n",
      "|  967 | DEVON NORTH          |             1 |\n",
      "|  968 | DIAMOND CREEK        |             1 |\n",
      "|  969 | DIGGERS REST         |             1 |\n",
      "|  970 | DIMBOOLA             |             1 |\n",
      "|  971 | DINGLEY VILLAGE      |             1 |\n",
      "|  972 | DINNER PLAIN         |             1 |\n",
      "|  973 | DOCKLANDS            |             1 |\n",
      "|  974 | DON VALLEY           |             1 |\n",
      "|  975 | DONALD               |             1 |\n",
      "|  976 | DONCASTER            |             1 |\n",
      "|  977 | DONCASTER EAST       |             1 |\n",
      "|  978 | DONVALE              |             1 |\n",
      "|  979 | DOOKIE               |             1 |\n",
      "|  980 | EPPING               |             1 |\n",
      "|  981 | ERICA                |             1 |\n",
      "|  982 | GRUYERE              |             1 |\n",
      "|  983 | ESSENDON             |             1 |\n",
      "|  984 | GHERANG              |             1 |\n",
      "|  985 | GHERINGHAP           |             1 |\n",
      "|  986 | GIRGARRE             |             1 |\n",
      "|  987 | GISBORNE             |             1 |\n",
      "|  988 | GLADSTONE PARK       |             1 |\n",
      "|  989 | GLEN FORBES          |             1 |\n",
      "|  990 | GLEN HUNTLY          |             1 |\n",
      "|  991 | GLEN IRIS            |             1 |\n",
      "|  992 | GLEN WAVERLEY        |             1 |\n",
      "|  993 | GLENGARRY            |             1 |\n",
      "|  994 | GLENMAGGIE           |             1 |\n",
      "|  995 | GLENMORE             |             1 |\n",
      "|  996 | GLENORMISTON         |             1 |\n",
      "|  997 | GLENROWAN            |             1 |\n",
      "|  998 | GLENROY              |             1 |\n",
      "|  999 | GLENTHOMPSON         |             1 |\n",
      "| 1000 | GOLDEN POINT         |             1 |\n",
      "| 1001 | GOLDEN SQUARE        |             1 |\n",
      "| 1002 | GOORAMBAT            |             1 |\n",
      "| 1003 | GOORNONG             |             1 |\n",
      "| 1004 | GORDON               |             1 |\n",
      "| 1005 | GOWANBRAE            |             1 |\n",
      "| 1006 | GRANITE ROCK         |             1 |\n",
      "| 1007 | GRANTVILLE           |             1 |\n",
      "| 1008 | GREAT WESTERN        |             1 |\n",
      "| 1009 | GREENSBOROUGH        |             1 |\n",
      "| 1010 | GREENVALE            |             1 |\n",
      "| 1011 | GREYTHORN            |             1 |\n",
      "| 1012 | GROVEDALE            |             1 |\n",
      "| 1013 | GENOA                |             1 |\n",
      "| 1014 | GEMBROOK             |             1 |\n",
      "| 1015 | GELLIBRAND           |             1 |\n",
      "| 1016 | FLAGSTAFF RIDGE HILL |             1 |\n",
      "| 1017 | ESSENDON NORTH       |             1 |\n",
      "| 1018 | ESSENDON WEST        |             1 |\n",
      "| 1019 | EUREKA               |             1 |\n",
      "| 1020 | EUROA                |             1 |\n",
      "| 1021 | FAIRFIELD            |             1 |\n",
      "| 1022 | FAIRHAVEN            |             1 |\n",
      "| 1023 | FAWKNER              |             1 |\n",
      "| 1024 | FERNTREE GULLY       |             1 |\n",
      "| 1025 | FERNY CREEK          |             1 |\n",
      "| 1026 | FISH CREEK           |             1 |\n",
      "| 1027 | FITZROY              |             1 |\n",
      "| 1028 | FITZROY NORTH        |             1 |\n",
      "| 1029 | FLAGSTAFF            |             1 |\n",
      "| 1030 | FLEMINGTON           |             1 |\n",
      "| 1031 | GEELONG WEST         |             1 |\n",
      "| 1032 | FLINDERS             |             1 |\n",
      "| 1033 | FOOTSCRAY            |             1 |\n",
      "| 1034 | FOREST HILL          |             1 |\n",
      "| 1035 | FORREST              |             1 |\n",
      "| 1036 | FOSTER               |             1 |\n",
      "| 1037 | FRANKSTON            |             1 |\n",
      "| 1038 | FRANKSTON NORTH      |             1 |\n",
      "| 1039 | FRESHWATER CREEK     |             1 |\n",
      "| 1040 | FRYERSTOWN           |             1 |\n",
      "| 1041 | FYANSFORD            |             1 |\n",
      "| 1042 | GARDENVALE           |             1 |\n",
      "| 1043 | GARFIELD             |             1 |\n",
      "| 1044 | GEELONG              |             1 |\n",
      "| 1045 | YUROKE               |             1 |\n"
     ]
    }
   ],
   "source": [
    "n_comps_by_suburb = (df.groupby(['townsuburb'])\n",
    "                      .agg({'water_company': 'count'})\n",
    "                      .rename(columns={'water_company': 'n_companies'})\n",
    "                      .sort_values(by='n_companies', ascending=False)\n",
    "                      .reset_index())\n",
    "\n",
    "print(n_comps_by_suburb\n",
    "      .to_markdown())"
   ]
  },
  {
   "cell_type": "code",
   "execution_count": 10,
   "metadata": {},
   "outputs": [
    {
     "data": {
      "text/html": [
       "<div>\n",
       "<style scoped>\n",
       "    .dataframe tbody tr th:only-of-type {\n",
       "        vertical-align: middle;\n",
       "    }\n",
       "\n",
       "    .dataframe tbody tr th {\n",
       "        vertical-align: top;\n",
       "    }\n",
       "\n",
       "    .dataframe thead th {\n",
       "        text-align: right;\n",
       "    }\n",
       "</style>\n",
       "<table border=\"1\" class=\"dataframe\">\n",
       "  <thead>\n",
       "    <tr style=\"text-align: right;\">\n",
       "      <th></th>\n",
       "      <th>townsuburb</th>\n",
       "      <th>n_companies</th>\n",
       "    </tr>\n",
       "  </thead>\n",
       "  <tbody>\n",
       "    <tr>\n",
       "      <th>0</th>\n",
       "      <td>BELGRAVE</td>\n",
       "      <td>2</td>\n",
       "    </tr>\n",
       "    <tr>\n",
       "      <th>1</th>\n",
       "      <td>MULGRAVE</td>\n",
       "      <td>2</td>\n",
       "    </tr>\n",
       "    <tr>\n",
       "      <th>2</th>\n",
       "      <td>HUNTINGDALE</td>\n",
       "      <td>2</td>\n",
       "    </tr>\n",
       "    <tr>\n",
       "      <th>3</th>\n",
       "      <td>MELBOURNE</td>\n",
       "      <td>2</td>\n",
       "    </tr>\n",
       "    <tr>\n",
       "      <th>4</th>\n",
       "      <td>COBURG</td>\n",
       "      <td>2</td>\n",
       "    </tr>\n",
       "    <tr>\n",
       "      <th>5</th>\n",
       "      <td>ARMADALE</td>\n",
       "      <td>2</td>\n",
       "    </tr>\n",
       "    <tr>\n",
       "      <th>6</th>\n",
       "      <td>OAKLEIGH</td>\n",
       "      <td>2</td>\n",
       "    </tr>\n",
       "    <tr>\n",
       "      <th>7</th>\n",
       "      <td>HUGHESDALE</td>\n",
       "      <td>2</td>\n",
       "    </tr>\n",
       "    <tr>\n",
       "      <th>8</th>\n",
       "      <td>TULLAMARINE</td>\n",
       "      <td>2</td>\n",
       "    </tr>\n",
       "    <tr>\n",
       "      <th>9</th>\n",
       "      <td>UPWEY</td>\n",
       "      <td>2</td>\n",
       "    </tr>\n",
       "    <tr>\n",
       "      <th>10</th>\n",
       "      <td>MALVERN</td>\n",
       "      <td>2</td>\n",
       "    </tr>\n",
       "    <tr>\n",
       "      <th>11</th>\n",
       "      <td>PAKENHAM</td>\n",
       "      <td>2</td>\n",
       "    </tr>\n",
       "    <tr>\n",
       "      <th>12</th>\n",
       "      <td>BAYSWATER</td>\n",
       "      <td>2</td>\n",
       "    </tr>\n",
       "  </tbody>\n",
       "</table>\n",
       "</div>"
      ],
      "text/plain": [
       "     townsuburb  n_companies\n",
       "0      BELGRAVE            2\n",
       "1      MULGRAVE            2\n",
       "2   HUNTINGDALE            2\n",
       "3     MELBOURNE            2\n",
       "4        COBURG            2\n",
       "5      ARMADALE            2\n",
       "6      OAKLEIGH            2\n",
       "7    HUGHESDALE            2\n",
       "8   TULLAMARINE            2\n",
       "9         UPWEY            2\n",
       "10      MALVERN            2\n",
       "11     PAKENHAM            2\n",
       "12    BAYSWATER            2"
      ]
     },
     "execution_count": 10,
     "metadata": {},
     "output_type": "execute_result"
    }
   ],
   "source": [
    "max_n_comps = n_comps_by_suburb['n_companies'].max()\n",
    "biggest_n_comp_sub = n_comps_by_suburb.query('n_companies == @max_n_comps')\n",
    "biggest_n_comp_sub"
   ]
  },
  {
   "cell_type": "code",
   "execution_count": 11,
   "metadata": {},
   "outputs": [],
   "source": [
    "n_flu_comp_by_suburb = (df.groupby(['townsuburb', 'fluoride_level'])\n",
    "                        .agg({'water_company': 'count'})\n",
    "                        .rename(columns={'water_company': 'n_companies'})\n",
    "                        .sort_values(by='n_companies', ascending=False))"
   ]
  },
  {
   "cell_type": "code",
   "execution_count": 31,
   "metadata": {},
   "outputs": [
    {
     "data": {
      "text/html": [
       "<div>\n",
       "<style scoped>\n",
       "    .dataframe tbody tr th:only-of-type {\n",
       "        vertical-align: middle;\n",
       "    }\n",
       "\n",
       "    .dataframe tbody tr th {\n",
       "        vertical-align: top;\n",
       "    }\n",
       "\n",
       "    .dataframe thead th {\n",
       "        text-align: right;\n",
       "    }\n",
       "</style>\n",
       "<table border=\"1\" class=\"dataframe\">\n",
       "  <thead>\n",
       "    <tr style=\"text-align: right;\">\n",
       "      <th></th>\n",
       "      <th></th>\n",
       "      <th>n_companies</th>\n",
       "    </tr>\n",
       "    <tr>\n",
       "      <th>townsuburb</th>\n",
       "      <th>fluoride_level</th>\n",
       "      <th></th>\n",
       "    </tr>\n",
       "  </thead>\n",
       "  <tbody>\n",
       "    <tr>\n",
       "      <th>BELGRAVE</th>\n",
       "      <th>Fluoridated</th>\n",
       "      <td>2</td>\n",
       "    </tr>\n",
       "    <tr>\n",
       "      <th>MULGRAVE</th>\n",
       "      <th>Fluoridated</th>\n",
       "      <td>2</td>\n",
       "    </tr>\n",
       "    <tr>\n",
       "      <th>HUNTINGDALE</th>\n",
       "      <th>Fluoridated</th>\n",
       "      <td>2</td>\n",
       "    </tr>\n",
       "    <tr>\n",
       "      <th>MELBOURNE</th>\n",
       "      <th>Fluoridated</th>\n",
       "      <td>2</td>\n",
       "    </tr>\n",
       "    <tr>\n",
       "      <th>COBURG</th>\n",
       "      <th>Fluoridated</th>\n",
       "      <td>2</td>\n",
       "    </tr>\n",
       "    <tr>\n",
       "      <th>ARMADALE</th>\n",
       "      <th>Fluoridated</th>\n",
       "      <td>2</td>\n",
       "    </tr>\n",
       "    <tr>\n",
       "      <th>OAKLEIGH</th>\n",
       "      <th>Fluoridated</th>\n",
       "      <td>2</td>\n",
       "    </tr>\n",
       "    <tr>\n",
       "      <th>HUGHESDALE</th>\n",
       "      <th>Fluoridated</th>\n",
       "      <td>2</td>\n",
       "    </tr>\n",
       "    <tr>\n",
       "      <th>TULLAMARINE</th>\n",
       "      <th>Fluoridated</th>\n",
       "      <td>2</td>\n",
       "    </tr>\n",
       "    <tr>\n",
       "      <th>UPWEY</th>\n",
       "      <th>Fluoridated</th>\n",
       "      <td>2</td>\n",
       "    </tr>\n",
       "    <tr>\n",
       "      <th>MALVERN</th>\n",
       "      <th>Fluoridated</th>\n",
       "      <td>2</td>\n",
       "    </tr>\n",
       "    <tr>\n",
       "      <th>PAKENHAM</th>\n",
       "      <th>Fluoridated</th>\n",
       "      <td>2</td>\n",
       "    </tr>\n",
       "    <tr>\n",
       "      <th>BAYSWATER</th>\n",
       "      <th>Fluoridated</th>\n",
       "      <td>2</td>\n",
       "    </tr>\n",
       "  </tbody>\n",
       "</table>\n",
       "</div>"
      ],
      "text/plain": [
       "                            n_companies\n",
       "townsuburb  fluoride_level             \n",
       "BELGRAVE    Fluoridated               2\n",
       "MULGRAVE    Fluoridated               2\n",
       "HUNTINGDALE Fluoridated               2\n",
       "MELBOURNE   Fluoridated               2\n",
       "COBURG      Fluoridated               2\n",
       "ARMADALE    Fluoridated               2\n",
       "OAKLEIGH    Fluoridated               2\n",
       "HUGHESDALE  Fluoridated               2\n",
       "TULLAMARINE Fluoridated               2\n",
       "UPWEY       Fluoridated               2\n",
       "MALVERN     Fluoridated               2\n",
       "PAKENHAM    Fluoridated               2\n",
       "BAYSWATER   Fluoridated               2"
      ]
     },
     "execution_count": 31,
     "metadata": {},
     "output_type": "execute_result"
    }
   ],
   "source": [
    "max_n_flu_comp = n_flu_comp_by_suburb['n_companies'].max()\n",
    "n_flu_comp_by_suburb.query('''fluoride_level != \"Not fluoridated\" and \\\n",
    "                           n_companies == @max_n_flu_comp''')"
   ]
  },
  {
   "cell_type": "code",
   "execution_count": 13,
   "metadata": {},
   "outputs": [
    {
     "name": "stdout",
     "output_type": "stream",
     "text": [
      "|      | townsuburb           | fluoride_level     |   n_companies |\n",
      "|-----:|:---------------------|:-------------------|--------------:|\n",
      "|    0 | BELGRAVE             | Fluoridated        |             2 |\n",
      "|    1 | MULGRAVE             | Fluoridated        |             2 |\n",
      "|    2 | HUNTINGDALE          | Fluoridated        |             2 |\n",
      "|    3 | MELBOURNE            | Fluoridated        |             2 |\n",
      "|    4 | COBURG               | Fluoridated        |             2 |\n",
      "|    5 | ARMADALE             | Fluoridated        |             2 |\n",
      "|    6 | OAKLEIGH             | Fluoridated        |             2 |\n",
      "|    7 | HUGHESDALE           | Fluoridated        |             2 |\n",
      "|    8 | TULLAMARINE          | Fluoridated        |             2 |\n",
      "|    9 | UPWEY                | Fluoridated        |             2 |\n",
      "|   10 | MALVERN              | Fluoridated        |             2 |\n",
      "|   11 | PAKENHAM             | Fluoridated        |             2 |\n",
      "|   12 | BAYSWATER            | Fluoridated        |             2 |\n",
      "|   13 | NORTH SHORE          | Fluoridated        |             1 |\n",
      "|   14 | NORTH WARRANDYTE     | Fluoridated        |             1 |\n",
      "|   15 | NUMURKAH             | Not fluoridated    |             1 |\n",
      "|   16 | NORTHCOTE            | Fluoridated        |             1 |\n",
      "|   17 | NOTTING HILL         | Fluoridated        |             1 |\n",
      "|   18 | NOWA NOWA            | Fluoridated        |             1 |\n",
      "|   19 | NULLAWIL             | Not fluoridated    |             1 |\n",
      "|   20 | NORTH MELBOURNE      | Fluoridated        |             1 |\n",
      "|   21 | ABBOTSFORD           | Fluoridated        |             1 |\n",
      "|   22 | NUTFIELD             | Fluoridated        |             1 |\n",
      "|   23 | NUNAWADING           | Fluoridated        |             1 |\n",
      "|   24 | NORTH BENDIGO        | Fluoridated        |             1 |\n",
      "|   25 | NYAH                 | Fluoridated        |             1 |\n",
      "|   26 | NYAH WEST            | Fluoridated        |             1 |\n",
      "|   27 | NYORA                | Not fluoridated    |             1 |\n",
      "|   28 | OAK PARK             | Fluoridated        |             1 |\n",
      "|   29 | OAKLANDS JUNCTION    | Fluoridated        |             1 |\n",
      "|   30 | OAKLEIGH EAST        | Fluoridated        |             1 |\n",
      "|   31 | OAKLEIGH SOUTH       | Fluoridated        |             1 |\n",
      "|   32 | OCEAN GROVE          | Fluoridated        |             1 |\n",
      "|   33 | OFFICER              | Fluoridated        |             1 |\n",
      "|   34 | OLINDA               | Fluoridated        |             1 |\n",
      "|   35 | OMBERSLEY            | Fluoridated        |             1 |\n",
      "|   36 | OMEO                 | Not fluoridated    |             1 |\n",
      "|   37 | NORTH GEELONG        | Fluoridated        |             1 |\n",
      "|   38 | NOOJEE               | Not fluoridated    |             1 |\n",
      "|   39 | NORLANE              | Fluoridated        |             1 |\n",
      "|   40 | NOORAT               | Not fluoridated    |             1 |\n",
      "|   41 | NAPOLEONS            | Fluoridated        |             1 |\n",
      "|   42 | NAR NAR GOON         | Fluoridated        |             1 |\n",
      "|   43 | NARRE WARREN         | Fluoridated        |             1 |\n",
      "|   44 | NARRE WARREN NORTH   | Fluoridated        |             1 |\n",
      "|   45 | NATHALIA             | Not fluoridated    |             1 |\n",
      "|   46 | NAVARRE              | Not fluoridated    |             1 |\n",
      "|   47 | NAVIGATORS           | Fluoridated        |             1 |\n",
      "|   48 | NEERIM SOUTH         | Not fluoridated    |             1 |\n",
      "|   49 | NERRINA              | Fluoridated        |             1 |\n",
      "|   50 | NEW GISBORNE         | Fluoridated        |             1 |\n",
      "|   51 | NEWBOROUGH           | Fluoridated        |             1 |\n",
      "|   52 | NEWCOMB              | Fluoridated        |             1 |\n",
      "|   53 | NEWHAVEN             | Fluoridated        |             1 |\n",
      "|   54 | NEWINGTON            | Fluoridated        |             1 |\n",
      "|   55 | NEWLANDS ARM         | Fluoridated        |             1 |\n",
      "|   56 | NEWLYN               | Not fluoridated    |             1 |\n",
      "|   57 | NEWLYN NORTH         | Not fluoridated    |             1 |\n",
      "|   58 | NEWMERELLA           | Not fluoridated    |             1 |\n",
      "|   59 | NEWPORT              | Fluoridated        |             1 |\n",
      "|   60 | NEWSTEAD             | Fluoridated        |             1 |\n",
      "|   61 | NEWTOWN              | Fluoridated        |             1 |\n",
      "|   62 | NHILL                | Not fluoridated    |             1 |\n",
      "|   63 | NICHOLS POINT        | Not fluoridated    |             1 |\n",
      "|   64 | NICHOLSON            | Fluoridated        |             1 |\n",
      "|   65 | NIDDRIE              | Fluoridated        |             1 |\n",
      "|   66 | NILMA                | Fluoridated        |             1 |\n",
      "|   67 | NINTINGBOOL          | Fluoridated        |             1 |\n",
      "|   68 | NOBLE PARK           | Fluoridated        |             1 |\n",
      "|   69 | NOBLE PARK NORTH     | Fluoridated        |             1 |\n",
      "|   70 | ONDIT                | Fluoridated        |             1 |\n",
      "|   71 | OUYEN                | Not fluoridated    |             1 |\n",
      "|   72 | ORBOST               | Not fluoridated    |             1 |\n",
      "|   73 | RAYWOOD              | Fluoridated        |             1 |\n",
      "|   74 | PORTLAND             | Natural fluoride   |             1 |\n",
      "|   75 | PORTSEA              | Fluoridated        |             1 |\n",
      "|   76 | PRAHRAN              | Fluoridated        |             1 |\n",
      "|   77 | PRESTON              | Fluoridated        |             1 |\n",
      "|   78 | PURNIM               | Not fluoridated    |             1 |\n",
      "|   79 | PYALONG              | Not fluoridated    |             1 |\n",
      "|   80 | PYRAMID HILL         | Not fluoridated    |             1 |\n",
      "|   81 | QUAMBATOOK           | Not fluoridated    |             1 |\n",
      "|   82 | QUARRY HILL          | Fluoridated        |             1 |\n",
      "|   83 | QUEENSCLIFF          | Fluoridated        |             1 |\n",
      "|   84 | RAGLAN               | Not fluoridated    |             1 |\n",
      "|   85 | RAINBOW              | Not fluoridated    |             1 |\n",
      "|   86 | RAWSON               | Not fluoridated    |             1 |\n",
      "|   87 | RAYMOND ISLAND       | Fluoridated        |             1 |\n",
      "|   88 | RED CLIFFS           | Fluoridated        |             1 |\n",
      "|   89 | ORMOND               | Fluoridated        |             1 |\n",
      "|   90 | REDAN                | Fluoridated        |             1 |\n",
      "|   91 | REDBANK              | Not fluoridated    |             1 |\n",
      "|   92 | RESEARCH             | Fluoridated        |             1 |\n",
      "|   93 | RESERVOIR            | Fluoridated        |             1 |\n",
      "|   94 | RHYLL                | Fluoridated        |             1 |\n",
      "|   95 | RICHMOND             | Fluoridated        |             1 |\n",
      "|   96 | RIDDELLS CREEK       | Fluoridated        |             1 |\n",
      "|   97 | RINGWOOD             | Fluoridated        |             1 |\n",
      "|   98 | RINGWOOD EAST        | Fluoridated        |             1 |\n",
      "|   99 | RINGWOOD NORTH       | Fluoridated        |             1 |\n",
      "|  100 | RIPPLESIDE           | Fluoridated        |             1 |\n",
      "|  101 | RIPPONLEA            | Fluoridated        |             1 |\n",
      "|  102 | ROBINVALE            | Fluoridated        |             1 |\n",
      "|  103 | ROCHESTER            | Not fluoridated    |             1 |\n",
      "|  104 | PORTARLINGTON        | Fluoridated        |             1 |\n",
      "|  105 | PORT WELSHPOOL       | Not fluoridated    |             1 |\n",
      "|  106 | PORT MELBOURNE       | Fluoridated        |             1 |\n",
      "|  107 | PORT FRANKLIN        | Not fluoridated    |             1 |\n",
      "|  108 | MYRTLEFORD           | Not fluoridated    |             1 |\n",
      "|  109 | OXLEY                | Not fluoridated    |             1 |\n",
      "|  110 | PANTON HILL          | Fluoridated        |             1 |\n",
      "|  111 | PARK ORCHARDS        | Fluoridated        |             1 |\n",
      "|  112 | PARKDALE             | Fluoridated        |             1 |\n",
      "|  113 | PARKVILLE            | Fluoridated        |             1 |\n",
      "|  114 | PARWAN               | Fluoridated        |             1 |\n",
      "|  115 | PASCOE VALE          | Fluoridated        |             1 |\n",
      "|  116 | PASCOE VALE SOUTH    | Fluoridated        |             1 |\n",
      "|  117 | PATTERSON LAKES      | Fluoridated        |             1 |\n",
      "|  118 | PAYNESVILLE          | Fluoridated        |             1 |\n",
      "|  119 | PEARCEDALE           | Fluoridated        |             1 |\n",
      "|  120 | PENSHURST            | Not fluoridated    |             1 |\n",
      "|  121 | PETERBOROUGH         | Not fluoridated    |             1 |\n",
      "|  122 | PIANGIL              | Not fluoridated    |             1 |\n",
      "|  123 | PICOLA               | Not fluoridated    |             1 |\n",
      "|  124 | PIONEER BAY          | Fluoridated        |             1 |\n",
      "|  125 | PITTONG              | Fluoridated        |             1 |\n",
      "|  126 | PLENTY               | Fluoridated        |             1 |\n",
      "|  127 | POINT COOK           | Fluoridated        |             1 |\n",
      "|  128 | POINT LONSDALE       | Fluoridated        |             1 |\n",
      "|  129 | POINT WILSON         | Fluoridated        |             1 |\n",
      "|  130 | POMONAL              | Not fluoridated    |             1 |\n",
      "|  131 | POOTILLA             | Not fluoridated    |             1 |\n",
      "|  132 | POOWONG              | Not fluoridated    |             1 |\n",
      "|  133 | POREPUNKAH           | Not fluoridated    |             1 |\n",
      "|  134 | PORT ALBERT          | Not fluoridated    |             1 |\n",
      "|  135 | PORT CAMPBELL        | Not fluoridated    |             1 |\n",
      "|  136 | PORT FAIRY           | Natural fluoride   |             1 |\n",
      "|  137 | NAGAMBIE             | Not fluoridated    |             1 |\n",
      "|  138 | MURRAYVILLE          | Not fluoridated    |             1 |\n",
      "|  139 | MYRNIONG             | Not fluoridated    |             1 |\n",
      "|  140 | MAUDE                | Fluoridated        |             1 |\n",
      "|  141 | MANANGATANG          | Not fluoridated    |             1 |\n",
      "|  142 | MANGALORE            | Fluoridated        |             1 |\n",
      "|  143 | MANIFOLD HEIGHTS     | Fluoridated        |             1 |\n",
      "|  144 | MANNERIM             | Fluoridated        |             1 |\n",
      "|  145 | MANSFIELD            | Not fluoridated    |             1 |\n",
      "|  146 | MARCUS HILL          | Fluoridated        |             1 |\n",
      "|  147 | MARENGO              | Not fluoridated    |             1 |\n",
      "|  148 | MARIBYRNONG          | Fluoridated        |             1 |\n",
      "|  149 | MARLO                | Not fluoridated    |             1 |\n",
      "|  150 | MARONG               | Fluoridated        |             1 |\n",
      "|  151 | MARSHALL             | Fluoridated        |             1 |\n",
      "|  152 | MARYBOROUGH          | Fluoridated        |             1 |\n",
      "|  153 | MARYSVILLE           | Not fluoridated    |             1 |\n",
      "|  154 | MCCRAE               | Fluoridated        |             1 |\n",
      "|  155 | MALMSBURY            | Fluoridated        |             1 |\n",
      "|  156 | MCKINNON             | Fluoridated        |             1 |\n",
      "|  157 | MEADOW HEIGHTS       | Fluoridated        |             1 |\n",
      "|  158 | MEENIYAN             | Not fluoridated    |             1 |\n",
      "|  159 | MELBOURNE AIRPORT    | Fluoridated        |             1 |\n",
      "|  160 | MELTON               | Fluoridated        |             1 |\n",
      "|  161 | MELTON SOUTH         | Fluoridated        |             1 |\n",
      "|  162 | MENTONE              | Fluoridated        |             1 |\n",
      "|  163 | MENZIES CREEK        | Partly fluoridated |             1 |\n",
      "|  164 | MERBEIN              | Fluoridated        |             1 |\n",
      "|  165 | MEREDITH             | Fluoridated        |             1 |\n",
      "|  166 | MERINO               | Not fluoridated    |             1 |\n",
      "|  167 | MERNDA               | Fluoridated        |             1 |\n",
      "|  168 | MERRICKS             | Fluoridated        |             1 |\n",
      "|  169 | MALVERN EAST         | Fluoridated        |             1 |\n",
      "|  170 | MALLACOOTA           | Not fluoridated    |             1 |\n",
      "|  171 | MERRIGUM             | Fluoridated        |             1 |\n",
      "|  172 | LOVELY BANKS         | Fluoridated        |             1 |\n",
      "|  173 | LINDENOW             | Fluoridated        |             1 |\n",
      "|  174 | LINDENOW SOUTH       | Fluoridated        |             1 |\n",
      "|  175 | LINTON               | Fluoridated        |             1 |\n",
      "|  176 | LISMORE              | Fluoridated        |             1 |\n",
      "|  177 | LITTLE BENDIGO       | Fluoridated        |             1 |\n",
      "|  178 | LITTLE RIVER         | Fluoridated        |             1 |\n",
      "|  179 | LOCH                 | Not fluoridated    |             1 |\n",
      "|  180 | LOCKINGTON           | Not fluoridated    |             1 |\n",
      "|  181 | LONG FOREST ROAD     | Fluoridated        |             1 |\n",
      "|  182 | LONG GULLY           | Fluoridated        |             1 |\n",
      "|  183 | LONGWARRY            | Fluoridated        |             1 |\n",
      "|  184 | LONGWOOD             | Not fluoridated    |             1 |\n",
      "|  185 | LORNE                | Not fluoridated    |             1 |\n",
      "|  186 | LOWER PLENTY         | Fluoridated        |             1 |\n",
      "|  187 | MALDON               | Fluoridated        |             1 |\n",
      "|  188 | LUCKNOW              | Fluoridated        |             1 |\n",
      "|  189 | LYNBROOK             | Fluoridated        |             1 |\n",
      "|  190 | LYNDHURST            | Fluoridated        |             1 |\n",
      "|  191 | LYSTERFIELD          | Fluoridated        |             1 |\n",
      "|  192 | MACARTHUR            | Not fluoridated    |             1 |\n",
      "|  193 | MACCLESFIELD         | Not fluoridated    |             1 |\n",
      "|  194 | MACEDON              | Fluoridated        |             1 |\n",
      "|  195 | MACLEOD              | Fluoridated        |             1 |\n",
      "|  196 | MAFFRA               | Fluoridated        |             1 |\n",
      "|  197 | MAGPIE               | Fluoridated        |             1 |\n",
      "|  198 | MAIDEN GULLY         | Fluoridated        |             1 |\n",
      "|  199 | MAIDSTONE            | Fluoridated        |             1 |\n",
      "|  200 | MAJORCA              | Fluoridated        |             1 |\n",
      "|  201 | MERRICKS BEACH       | Fluoridated        |             1 |\n",
      "|  202 | MERRIJIG             | Not fluoridated    |             1 |\n",
      "|  203 | MYERS FLAT           | Fluoridated        |             1 |\n",
      "|  204 | MOUNT MACEDON        | Fluoridated        |             1 |\n",
      "|  205 | MORNINGTON           | Fluoridated        |             1 |\n",
      "|  206 | MORTLAKE             | Not fluoridated    |             1 |\n",
      "|  207 | MORWELL              | Fluoridated        |             1 |\n",
      "|  208 | MOSSIFACE            | Not fluoridated    |             1 |\n",
      "|  209 | MOUNT BULLER         | Not fluoridated    |             1 |\n",
      "|  210 | MOUNT CLEAR          | Fluoridated        |             1 |\n",
      "|  211 | MOUNT DANDENONG      | Fluoridated        |             1 |\n",
      "|  212 | MOUNT DUNEED         | Fluoridated        |             1 |\n",
      "|  213 | MOUNT EGERTON        | Fluoridated        |             1 |\n",
      "|  214 | MOUNT ELIZA          | Fluoridated        |             1 |\n",
      "|  215 | MOUNT EVELYN         | Fluoridated        |             1 |\n",
      "|  216 | MOUNT HELEN          | Fluoridated        |             1 |\n",
      "|  217 | MOUNT HOTHAM         | Not fluoridated    |             1 |\n",
      "|  218 | MOUNT MARTHA         | Fluoridated        |             1 |\n",
      "|  219 | MORELAND             | Fluoridated        |             1 |\n",
      "|  220 | MOUNT MORIAC         | Fluoridated        |             1 |\n",
      "|  221 | MOUNT PLEASANT       | Fluoridated        |             1 |\n",
      "|  222 | MOUNT ROWAN          | Fluoridated        |             1 |\n",
      "|  223 | MOUNT WAVERLEY       | Fluoridated        |             1 |\n",
      "|  224 | MOYHU                | Not fluoridated    |             1 |\n",
      "|  225 | MT BEAUTY            | Not fluoridated    |             1 |\n",
      "|  226 | MURCHISON            | Not fluoridated    |             1 |\n",
      "|  227 | MURGHEBOLUC          | Fluoridated        |             1 |\n",
      "|  228 | MURRABIT             | Not fluoridated    |             1 |\n",
      "|  229 | MURRAY DOWNS, NSW    | Fluoridated        |             1 |\n",
      "|  230 | RODBOROUGH           | Fluoridated        |             1 |\n",
      "|  231 | MURRUMBEENA          | Fluoridated        |             1 |\n",
      "|  232 | MURTOA               | Not fluoridated    |             1 |\n",
      "|  233 | MORIAC               | Fluoridated        |             1 |\n",
      "|  234 | MORDIALLOC           | Fluoridated        |             1 |\n",
      "|  235 | METUNG               | Fluoridated        |             1 |\n",
      "|  236 | MONBULK              | Partly fluoridated |             1 |\n",
      "|  237 | MICKLEHAM            | Fluoridated        |             1 |\n",
      "|  238 | MIDDLE PARK          | Fluoridated        |             1 |\n",
      "|  239 | MILDURA              | Fluoridated        |             1 |\n",
      "|  240 | MILL PARK            | Fluoridated        |             1 |\n",
      "|  241 | MILLGROVE            | Not fluoridated    |             1 |\n",
      "|  242 | MINERS REST          | Fluoridated        |             1 |\n",
      "|  243 | MINYIP               | Not fluoridated    |             1 |\n",
      "|  244 | MIRBOO NORTH         | Not fluoridated    |             1 |\n",
      "|  245 | MIRIMBAH             | Not fluoridated    |             1 |\n",
      "|  246 | MITCHAM              | Fluoridated        |             1 |\n",
      "|  247 | MITCHELL PARK        | Fluoridated        |             1 |\n",
      "|  248 | MODEWARRE            | Fluoridated        |             1 |\n",
      "|  249 | MOE                  | Fluoridated        |             1 |\n",
      "|  250 | MONOMEITH            | Fluoridated        |             1 |\n",
      "|  251 | MOOROOPNA            | Fluoridated        |             1 |\n",
      "|  252 | MONT ALBERT          | Fluoridated        |             1 |\n",
      "|  253 | MONT ALBERT NORTH    | Fluoridated        |             1 |\n",
      "|  254 | MONTMORENCY          | Fluoridated        |             1 |\n",
      "|  255 | MONTROSE             | Fluoridated        |             1 |\n",
      "|  256 | MOOLAP               | Fluoridated        |             1 |\n",
      "|  257 | MOONEE PONDS         | Fluoridated        |             1 |\n",
      "|  258 | MOONLIGHT FLAT       | Fluoridated        |             1 |\n",
      "|  259 | MOORABBIN            | Fluoridated        |             1 |\n",
      "|  260 | MOORABBIN AIRPORT    | Fluoridated        |             1 |\n",
      "|  261 | MOORABBIN EAST       | Fluoridated        |             1 |\n",
      "|  262 | MOORABOOL            | Fluoridated        |             1 |\n",
      "|  263 | MOOROODUC            | Fluoridated        |             1 |\n",
      "|  264 | MOOROOLBARK          | Fluoridated        |             1 |\n",
      "|  265 | ROCKBANK             | Fluoridated        |             1 |\n",
      "|  266 | ROMSEY               | Partly fluoridated |             1 |\n",
      "|  267 | ROKEBY               | Fluoridated        |             1 |\n",
      "|  268 | WATCHEM              | Not fluoridated    |             1 |\n",
      "|  269 | VENTNOR              | Fluoridated        |             1 |\n",
      "|  270 | VERMONT              | Fluoridated        |             1 |\n",
      "|  271 | VERMONT SOUTH        | Fluoridated        |             1 |\n",
      "|  272 | VIEWBANK             | Fluoridated        |             1 |\n",
      "|  273 | VIOLET TOWN          | Not fluoridated    |             1 |\n",
      "|  274 | WAHGUNYAH            | Not fluoridated    |             1 |\n",
      "|  275 | WALLACE              | Fluoridated        |             1 |\n",
      "|  276 | WALLAN               | Fluoridated        |             1 |\n",
      "|  277 | WALLINGTON           | Fluoridated        |             1 |\n",
      "|  278 | WALPA                | Not fluoridated    |             1 |\n",
      "|  279 | WALPEUP              | Not fluoridated    |             1 |\n",
      "|  280 | WALWA                | Not fluoridated    |             1 |\n",
      "|  281 | WANDANA HEIGHTS      | Fluoridated        |             1 |\n",
      "|  282 | WANDILIGONG          | Not fluoridated    |             1 |\n",
      "|  283 | WANDIN NORTH         | Partly fluoridated |             1 |\n",
      "|  284 | WANDONG              | Fluoridated        |             1 |\n",
      "|  285 | WANDONG WEST         | Fluoridated        |             1 |\n",
      "|  286 | WANGARATTA           | Fluoridated        |             1 |\n",
      "|  287 | WANTIRNA             | Fluoridated        |             1 |\n",
      "|  288 | WANTIRNA SOUTH       | Fluoridated        |             1 |\n",
      "|  289 | WARBURTON            | Not fluoridated    |             1 |\n",
      "|  290 | WARRACKNABEAL        | Not fluoridated    |             1 |\n",
      "|  291 | WARRAGUL             | Fluoridated        |             1 |\n",
      "|  292 | WARRAGUL SOUTH       | Fluoridated        |             1 |\n",
      "|  293 | WARRANDYTE           | Fluoridated        |             1 |\n",
      "|  294 | WARRANDYTE SOUTH     | Fluoridated        |             1 |\n",
      "|  295 | WARRANWOOD           | Fluoridated        |             1 |\n",
      "|  296 | WARRENHEIP           | Fluoridated        |             1 |\n",
      "|  297 | WARRION              | Fluoridated        |             1 |\n",
      "|  298 | UPPER FERNTREE GULLY | Fluoridated        |             1 |\n",
      "|  299 | ULTIMA               | Not fluoridated    |             1 |\n",
      "|  300 | TYNONG               | Fluoridated        |             1 |\n",
      "|  301 | TOORAK               | Fluoridated        |             1 |\n",
      "|  302 | THORNBURY            | Fluoridated        |             1 |\n",
      "|  303 | THORNTON             | Not fluoridated    |             1 |\n",
      "|  304 | THORPDALE            | Fluoridated        |             1 |\n",
      "|  305 | TIMBOON              | Not fluoridated    |             1 |\n",
      "|  306 | TIMOR                | Fluoridated        |             1 |\n",
      "|  307 | TIMOR WEST           | Fluoridated        |             1 |\n",
      "|  308 | TONGALA              | Fluoridated        |             1 |\n",
      "|  309 | TOOBORAC             | Not fluoridated    |             1 |\n",
      "|  310 | TOOLAMBA             | Fluoridated        |             1 |\n",
      "|  311 | TOOLERN VALE         | Fluoridated        |             1 |\n",
      "|  312 | TOONGABBIE           | Not fluoridated    |             1 |\n",
      "|  313 | TOORA                | Not fluoridated    |             1 |\n",
      "|  314 | TOORADIN             | Fluoridated        |             1 |\n",
      "|  315 | TOORLOO              | Fluoridated        |             1 |\n",
      "|  316 | TYLDEN               | Fluoridated        |             1 |\n",
      "|  317 | TOOTGAROOK           | Fluoridated        |             1 |\n",
      "|  318 | TORQUAY              | Fluoridated        |             1 |\n",
      "|  319 | TOTTENHAM            | Fluoridated        |             1 |\n",
      "|  320 | TRAFALGAR            | Fluoridated        |             1 |\n",
      "|  321 | TRARALGON            | Fluoridated        |             1 |\n",
      "|  322 | TRARALGON SOUTH      | Fluoridated        |             1 |\n",
      "|  323 | TRAVANCORE           | Fluoridated        |             1 |\n",
      "|  324 | TRAWOOL              | Fluoridated        |             1 |\n",
      "|  325 | TREMONT              | Fluoridated        |             1 |\n",
      "|  326 | TRENTHAM             | Not fluoridated    |             1 |\n",
      "|  327 | TUNGAMAH             | Fluoridated        |             1 |\n",
      "|  328 | TYABB                | Fluoridated        |             1 |\n",
      "|  329 | TYERS                | Not fluoridated    |             1 |\n",
      "|  330 | WARRNAMBOOL          | Fluoridated        |             1 |\n",
      "|  331 | WATERWAYS            | Fluoridated        |             1 |\n",
      "|  332 | THOMASTOWN           | Fluoridated        |             1 |\n",
      "|  333 | WATSONIA             | Fluoridated        |             1 |\n",
      "|  334 | WOOLAMAI             | Fluoridated        |             1 |\n",
      "|  335 | WOOLAMAI WATERS      | Fluoridated        |             1 |\n",
      "|  336 | WOOMELANG            | Not fluoridated    |             1 |\n",
      "|  337 | WOORI YALLOCK        | Partly fluoridated |             1 |\n",
      "|  338 | WOORINEN SOUTH       | Fluoridated        |             1 |\n",
      "|  339 | WUNGHNU              | Not fluoridated    |             1 |\n",
      "|  340 | WURDIBOLUC           | Fluoridated        |             1 |\n",
      "|  341 | WURRUK               | Fluoridated        |             1 |\n",
      "|  342 | WY YUNG              | Fluoridated        |             1 |\n",
      "|  343 | WYCHEPROOF           | Not fluoridated    |             1 |\n",
      "|  344 | WYNDHAM VALE         | Fluoridated        |             1 |\n",
      "|  345 | YACKANDANDAH         | Not fluoridated    |             1 |\n",
      "|  346 | YALLAMBIE            | Fluoridated        |             1 |\n",
      "|  347 | YALLOURN NORTH       | Fluoridated        |             1 |\n",
      "|  348 | YAN YEAN             | Fluoridated        |             1 |\n",
      "|  349 | YARRA GLEN           | Not fluoridated    |             1 |\n",
      "|  350 | YARRA JUNCTION       | Not fluoridated    |             1 |\n",
      "|  351 | YARRAGON             | Fluoridated        |             1 |\n",
      "|  352 | YARRAM               | Not fluoridated    |             1 |\n",
      "|  353 | YARRAMBAT            | Fluoridated        |             1 |\n",
      "|  354 | YARRAVILLE           | Fluoridated        |             1 |\n",
      "|  355 | YARRAVILLE WEST      | Fluoridated        |             1 |\n",
      "|  356 | YARRAWONGA           | Fluoridated        |             1 |\n",
      "|  357 | YARROWEYAH           | Not fluoridated    |             1 |\n",
      "|  358 | YEA                  | Not fluoridated    |             1 |\n",
      "|  359 | YELLINGBO            | Partly fluoridated |             1 |\n",
      "|  360 | YENDON               | Fluoridated        |             1 |\n",
      "|  361 | YERING               | Fluoridated        |             1 |\n",
      "|  362 | YINNAR               | Fluoridated        |             1 |\n",
      "|  363 | WOODSTOCK            | Fluoridated        |             1 |\n",
      "|  364 | WOODMANS HILL        | Fluoridated        |             1 |\n",
      "|  365 | WOODEND              | Partly fluoridated |             1 |\n",
      "|  366 | WHEELERS HILL        | Fluoridated        |             1 |\n",
      "|  367 | WATTLE GLEN          | Fluoridated        |             1 |\n",
      "|  368 | WAUBRA               | Not fluoridated    |             1 |\n",
      "|  369 | WAURN PONDS          | Fluoridated        |             1 |\n",
      "|  370 | WEDDERBURN           | Not fluoridated    |             1 |\n",
      "|  371 | WELSHPOOL            | Not fluoridated    |             1 |\n",
      "|  372 | WENDOUREE            | Fluoridated        |             1 |\n",
      "|  373 | WENSLEYDALE          | Fluoridated        |             1 |\n",
      "|  374 | WERNETH              | Not fluoridated    |             1 |\n",
      "|  375 | WERRIBEE             | Fluoridated        |             1 |\n",
      "|  376 | WESBURN              | Not fluoridated    |             1 |\n",
      "|  377 | WEST FOOTSCRAY       | Fluoridated        |             1 |\n",
      "|  378 | WEST MELBOURNE       | Fluoridated        |             1 |\n",
      "|  379 | WESTMEADOWS          | Fluoridated        |             1 |\n",
      "|  380 | WHITE HILLS          | Fluoridated        |             1 |\n",
      "|  381 | WONTHAGGI            | Fluoridated        |             1 |\n",
      "|  382 | WHITFIELD            | Not fluoridated    |             1 |\n",
      "|  383 | WHITTINGTON          | Fluoridated        |             1 |\n",
      "|  384 | WHITTLESEA           | Fluoridated        |             1 |\n",
      "|  385 | WILLIAMSTOWN         | Fluoridated        |             1 |\n",
      "|  386 | WILLOW GROVE         | Not fluoridated    |             1 |\n",
      "|  387 | WIMBLEDON HEIGHTS    | Fluoridated        |             1 |\n",
      "|  388 | WINCHELSEA           | Fluoridated        |             1 |\n",
      "|  389 | WINDERMERE           | Fluoridated        |             1 |\n",
      "|  390 | WINDSOR              | Fluoridated        |             1 |\n",
      "|  391 | WISELEIGH            | Not fluoridated    |             1 |\n",
      "|  392 | WODONGA              | Fluoridated        |             1 |\n",
      "|  393 | WOLLERT              | Fluoridated        |             1 |\n",
      "|  394 | WONGA PARK           | Fluoridated        |             1 |\n",
      "|  395 | THOMSON              | Fluoridated        |             1 |\n",
      "|  396 | THE PATCH            | Partly fluoridated |             1 |\n",
      "|  397 | ROKEWOOD             | Fluoridated        |             1 |\n",
      "|  398 | SOUTH KINGSVILLE     | Fluoridated        |             1 |\n",
      "|  399 | SEDDON               | Fluoridated        |             1 |\n",
      "|  400 | SELBY                | Fluoridated        |             1 |\n",
      "|  401 | SERPENTINE           | Not fluoridated    |             1 |\n",
      "|  402 | SEVILLE              | Fluoridated        |             1 |\n",
      "|  403 | SEVILLE EAST         | Fluoridated        |             1 |\n",
      "|  404 | SEYMOUR              | Fluoridated        |             1 |\n",
      "|  405 | SHE OAKS             | Fluoridated        |             1 |\n",
      "|  406 | SHELFORD             | Fluoridated        |             1 |\n",
      "|  407 | SHEPPARTON           | Fluoridated        |             1 |\n",
      "|  408 | SHERBROOKE           | Fluoridated        |             1 |\n",
      "|  409 | SHOREHAM             | Fluoridated        |             1 |\n",
      "|  410 | SILVAN               | Partly fluoridated |             1 |\n",
      "|  411 | SILVERLEAVES         | Fluoridated        |             1 |\n",
      "|  412 | SIMPSON              | Not fluoridated    |             1 |\n",
      "|  413 | SIMSON               | Fluoridated        |             1 |\n",
      "|  414 | SKENES CREEK         | Not fluoridated    |             1 |\n",
      "|  415 | SKIPTON              | Fluoridated        |             1 |\n",
      "|  416 | SKYE                 | Fluoridated        |             1 |\n",
      "|  417 | SMEATON              | Not fluoridated    |             1 |\n",
      "|  418 | SMITHS BEACH         | Fluoridated        |             1 |\n",
      "|  419 | SMITHS GULLY         | Fluoridated        |             1 |\n",
      "|  420 | SMYTHES CREEK        | Fluoridated        |             1 |\n",
      "|  421 | SMYTHESDALE          | Fluoridated        |             1 |\n",
      "|  422 | SNAKE VALLEY         | Fluoridated        |             1 |\n",
      "|  423 | SOLDIERS HILL        | Fluoridated        |             1 |\n",
      "|  424 | SOMERS               | Fluoridated        |             1 |\n",
      "|  425 | SOMERTON             | Fluoridated        |             1 |\n",
      "|  426 | SOMERVILLE           | Fluoridated        |             1 |\n",
      "|  427 | SORRENTO             | Fluoridated        |             1 |\n",
      "|  428 | SEBASTOPOL           | Fluoridated        |             1 |\n",
      "|  429 | SEBASTIAN            | Fluoridated        |             1 |\n",
      "|  430 | SEASPRAY             | Not fluoridated    |             1 |\n",
      "|  431 | RYE                  | Fluoridated        |             1 |\n",
      "|  432 | LEXTON               | Not fluoridated    |             1 |\n",
      "|  433 | ROSANNA              | Fluoridated        |             1 |\n",
      "|  434 | ROSEBUD              | Fluoridated        |             1 |\n",
      "|  435 | ROSEBUD WEST         | Fluoridated        |             1 |\n",
      "|  436 | ROSEDALE             | Not fluoridated    |             1 |\n",
      "|  437 | ROSS CREEK           | Fluoridated        |             1 |\n",
      "|  438 | ROWSLEY              | Fluoridated        |             1 |\n",
      "|  439 | ROWVILLE             | Fluoridated        |             1 |\n",
      "|  440 | ROXBURGH PARK        | Fluoridated        |             1 |\n",
      "|  441 | RUPANYUP             | Not fluoridated    |             1 |\n",
      "|  442 | RUSHWORTH            | Not fluoridated    |             1 |\n",
      "|  443 | RUSSELLS BRIDGE      | Fluoridated        |             1 |\n",
      "|  444 | RUTHERGLEN           | Not fluoridated    |             1 |\n",
      "|  445 | SAFETY BEACH         | Fluoridated        |             1 |\n",
      "|  446 | SEAHOLME             | Fluoridated        |             1 |\n",
      "|  447 | SAINT HELENA         | Fluoridated        |             1 |\n",
      "|  448 | SALE                 | Fluoridated        |             1 |\n",
      "|  449 | SAN REMO             | Fluoridated        |             1 |\n",
      "|  450 | SANDFORD             | Not fluoridated    |             1 |\n",
      "|  451 | SANDHURST            | Fluoridated        |             1 |\n",
      "|  452 | SANDRINGHAM          | Fluoridated        |             1 |\n",
      "|  453 | SARSFIELD            | Fluoridated        |             1 |\n",
      "|  454 | SASSAFRAS            | Fluoridated        |             1 |\n",
      "|  455 | SCARSDALE            | Fluoridated        |             1 |\n",
      "|  456 | SCORESBY             | Fluoridated        |             1 |\n",
      "|  457 | SEA LAKE             | Not fluoridated    |             1 |\n",
      "|  458 | SEABROOK             | Fluoridated        |             1 |\n",
      "|  459 | SEAFORD              | Fluoridated        |             1 |\n",
      "|  460 | SOUTH GEELONG        | Fluoridated        |             1 |\n",
      "|  461 | SOUTH MELBOURNE      | Fluoridated        |             1 |\n",
      "|  462 | THE BASIN            | Fluoridated        |             1 |\n",
      "|  463 | SOUTH MORANG         | Fluoridated        |             1 |\n",
      "|  464 | SUNSHINE             | Fluoridated        |             1 |\n",
      "|  465 | SURF BEACH           | Fluoridated        |             1 |\n",
      "|  466 | SURREY HILLS         | Fluoridated        |             1 |\n",
      "|  467 | SUTHERLANDS CREEK    | Fluoridated        |             1 |\n",
      "|  468 | SWAN BAY             | Fluoridated        |             1 |\n",
      "|  469 | SWAN HILL            | Fluoridated        |             1 |\n",
      "|  470 | SWAN REACH           | Fluoridated        |             1 |\n",
      "|  471 | SWIFTS CREEK         | Not fluoridated    |             1 |\n",
      "|  472 | SYDENHAM             | Fluoridated        |             1 |\n",
      "|  473 | SYNDAL               | Fluoridated        |             1 |\n",
      "|  474 | TALBOT               | Fluoridated        |             1 |\n",
      "|  475 | TALLANGATTA          | Not fluoridated    |             1 |\n",
      "|  476 | TALLAROOK            | Fluoridated        |             1 |\n",
      "|  477 | TALLYGAROOPNA        | Fluoridated        |             1 |\n",
      "|  478 | TAMBO UPPER          | Not fluoridated    |             1 |\n",
      "|  479 | TANGAMBALANGA        | Fluoridated        |             1 |\n",
      "|  480 | TARADALE             | Fluoridated        |             1 |\n",
      "|  481 | TARNAGULLA           | Not fluoridated    |             1 |\n",
      "|  482 | TARRINGTON           | Fluoridated        |             1 |\n",
      "|  483 | TATURA               | Not fluoridated    |             1 |\n",
      "|  484 | TAWONGA              | Not fluoridated    |             1 |\n",
      "|  485 | TAWONGA SOUTH        | Not fluoridated    |             1 |\n",
      "|  486 | TAYLORS LAKES        | Fluoridated        |             1 |\n",
      "|  487 | TECOMA               | Fluoridated        |             1 |\n",
      "|  488 | TEESDALE             | Fluoridated        |             1 |\n",
      "|  489 | TEMPLESTOWE          | Fluoridated        |             1 |\n",
      "|  490 | TEMPLESTOWE LOWER    | Fluoridated        |             1 |\n",
      "|  491 | TENBY POINT          | Fluoridated        |             1 |\n",
      "|  492 | TERANG               | Not fluoridated    |             1 |\n",
      "|  493 | SUNSET STRIP         | Fluoridated        |             1 |\n",
      "|  494 | SUNDERLAND BAY       | Fluoridated        |             1 |\n",
      "|  495 | SUNBURY              | Fluoridated        |             1 |\n",
      "|  496 | ST JAMES             | Fluoridated        |             1 |\n",
      "|  497 | SOUTH YARRA          | Fluoridated        |             1 |\n",
      "|  498 | SOUTHBANK            | Fluoridated        |             1 |\n",
      "|  499 | SPOTSWOOD            | Fluoridated        |             1 |\n",
      "|  500 | SPRING GULLY         | Fluoridated        |             1 |\n",
      "|  501 | SPRING HILL          | Not fluoridated    |             1 |\n",
      "|  502 | SPRINGBANK           | Not fluoridated    |             1 |\n",
      "|  503 | SPRINGHURST          | Fluoridated        |             1 |\n",
      "|  504 | SPRINGMOUNT          | Not fluoridated    |             1 |\n",
      "|  505 | SPRINGVALE           | Fluoridated        |             1 |\n",
      "|  506 | SPRINGVALE SOUTH     | Fluoridated        |             1 |\n",
      "|  507 | ST ALBANS            | Fluoridated        |             1 |\n",
      "|  508 | ST ALBANS PARK       | Fluoridated        |             1 |\n",
      "|  509 | ST ARNAUD            | Not fluoridated    |             1 |\n",
      "|  510 | ST KILDA             | Fluoridated        |             1 |\n",
      "|  511 | STRATHMORE HEIGHTS   | Fluoridated        |             1 |\n",
      "|  512 | ST KILDA EAST        | Fluoridated        |             1 |\n",
      "|  513 | ST KILDA WEST        | Fluoridated        |             1 |\n",
      "|  514 | ST LEONARDS          | Fluoridated        |             1 |\n",
      "|  515 | STANHOPE             | Not fluoridated    |             1 |\n",
      "|  516 | STAUGHTON VALE       | Fluoridated        |             1 |\n",
      "|  517 | STAWELL              | Not fluoridated    |             1 |\n",
      "|  518 | STEELS CREEK         | Not fluoridated    |             1 |\n",
      "|  519 | STEIGLITZ            | Fluoridated        |             1 |\n",
      "|  520 | STONEHAVEN           | Fluoridated        |             1 |\n",
      "|  521 | STRATFORD            | Fluoridated        |             1 |\n",
      "|  522 | STRATHFIELDSAYE      | Fluoridated        |             1 |\n",
      "|  523 | STRATHMERTON         | Not fluoridated    |             1 |\n",
      "|  524 | STRATHMORE           | Fluoridated        |             1 |\n",
      "|  525 | LILYDALE             | Fluoridated        |             1 |\n",
      "|  526 | LEONGATHA            | Not fluoridated    |             1 |\n",
      "|  527 | LETHBRIDGE           | Fluoridated        |             1 |\n",
      "|  528 | CERES                | Fluoridated        |             1 |\n",
      "|  529 | CALIFORNIA GULLY     | Fluoridated        |             1 |\n",
      "|  530 | CAMBERWELL           | Fluoridated        |             1 |\n",
      "|  531 | CAMBRIAN HILL        | Fluoridated        |             1 |\n",
      "|  532 | CAMPBELLFIELD        | Fluoridated        |             1 |\n",
      "|  533 | CAMPBELLS CREEK      | Fluoridated        |             1 |\n",
      "|  534 | CAMPERDOWN           | Fluoridated        |             1 |\n",
      "|  535 | CANADIAN             | Fluoridated        |             1 |\n",
      "|  536 | CANN RIVER           | Not fluoridated    |             1 |\n",
      "|  537 | CANNONS CREEK        | Fluoridated        |             1 |\n",
      "|  538 | CANTERBURY           | Fluoridated        |             1 |\n",
      "|  539 | CAPE PATERSON        | Fluoridated        |             1 |\n",
      "|  540 | CAPE WOOLAMAI        | Fluoridated        |             1 |\n",
      "|  541 | CARAMUT              | Not fluoridated    |             1 |\n",
      "|  542 | CARDIGAN             | Fluoridated        |             1 |\n",
      "|  543 | CARDROSS             | Not fluoridated    |             1 |\n",
      "|  544 | CARISBROOK           | Fluoridated        |             1 |\n",
      "|  545 | CARLTON              | Fluoridated        |             1 |\n",
      "|  546 | CARLTON NORTH        | Fluoridated        |             1 |\n",
      "|  547 | CARNEGIE             | Fluoridated        |             1 |\n",
      "|  548 | CARNGHAM             | Fluoridated        |             1 |\n",
      "|  549 | CAROLINE SPRINGS     | Fluoridated        |             1 |\n",
      "|  550 | CARRUM               | Fluoridated        |             1 |\n",
      "|  551 | CARRUM DOWNS         | Fluoridated        |             1 |\n",
      "|  552 | CASTERTON            | Not fluoridated    |             1 |\n",
      "|  553 | CASTLEMAINE          | Fluoridated        |             1 |\n",
      "|  554 | CAULFIELD            | Fluoridated        |             1 |\n",
      "|  555 | CAULFIELD EAST       | Fluoridated        |             1 |\n",
      "|  556 | CAULFIELD NORTH      | Fluoridated        |             1 |\n",
      "|  557 | CAULFIELD SOUTH      | Fluoridated        |             1 |\n",
      "|  558 | CAIRNLEA             | Fluoridated        |             1 |\n",
      "|  559 | CABARITA             | Not fluoridated    |             1 |\n",
      "|  560 | BUXTON               | Not fluoridated    |             1 |\n",
      "|  561 | BULLA                | Fluoridated        |             1 |\n",
      "|  562 | BRIGHTON EAST        | Fluoridated        |             1 |\n",
      "|  563 | BRIM                 | Not fluoridated    |             1 |\n",
      "|  564 | BROADFORD            | Not fluoridated    |             1 |\n",
      "|  565 | BROADMEADOWS         | Fluoridated        |             1 |\n",
      "|  566 | BROOKLYN             | Fluoridated        |             1 |\n",
      "|  567 | BROOMFIELD           | Not fluoridated    |             1 |\n",
      "|  568 | BROWN HILL           | Fluoridated        |             1 |\n",
      "|  569 | BRUNSWICK            | Fluoridated        |             1 |\n",
      "|  570 | BRUNSWICK EAST       | Fluoridated        |             1 |\n",
      "|  571 | BRUNSWICK WEST       | Fluoridated        |             1 |\n",
      "|  572 | BRUTHEN              | Fluoridated        |             1 |\n",
      "|  573 | BUCHAN               | Not fluoridated    |             1 |\n",
      "|  574 | BUCKLEY              | Fluoridated        |             1 |\n",
      "|  575 | BULLAROOK            | Not fluoridated    |             1 |\n",
      "|  576 | BURWOOD EAST         | Fluoridated        |             1 |\n",
      "|  577 | BULLEEN              | Fluoridated        |             1 |\n",
      "|  578 | BULN BULN            | Fluoridated        |             1 |\n",
      "|  579 | BUNDALONG            | Fluoridated        |             1 |\n",
      "|  580 | BUNDOORA             | Fluoridated        |             1 |\n",
      "|  581 | BUNGAREE             | Fluoridated        |             1 |\n",
      "|  582 | BUNINYONG            | Fluoridated        |             1 |\n",
      "|  583 | BUNKERS HILL         | Fluoridated        |             1 |\n",
      "|  584 | BUNYIP               | Fluoridated        |             1 |\n",
      "|  585 | BURLEIGH             | Fluoridated        |             1 |\n",
      "|  586 | BURNLEY              | Fluoridated        |             1 |\n",
      "|  587 | BURNSIDE             | Fluoridated        |             1 |\n",
      "|  588 | BURRUMBEET           | Not fluoridated    |             1 |\n",
      "|  589 | BURWOOD              | Fluoridated        |             1 |\n",
      "|  590 | CAVENDISH            | Not fluoridated    |             1 |\n",
      "|  591 | CHADSTONE            | Fluoridated        |             1 |\n",
      "|  592 | BRIGHT               | Not fluoridated    |             1 |\n",
      "|  593 | CHARLTON             | Not fluoridated    |             1 |\n",
      "|  594 | COONGULLA            | Not fluoridated    |             1 |\n",
      "|  595 | CORAGULAC            | Fluoridated        |             1 |\n",
      "|  596 | CORINDHAP            | Fluoridated        |             1 |\n",
      "|  597 | CORINELLA            | Fluoridated        |             1 |\n",
      "|  598 | CORIO                | Fluoridated        |             1 |\n",
      "|  599 | CORONET BAY          | Fluoridated        |             1 |\n",
      "|  600 | COROROOKE            | Fluoridated        |             1 |\n",
      "|  601 | CORRYONG             | Not fluoridated    |             1 |\n",
      "|  602 | COTTLES BRIDGE       | Fluoridated        |             1 |\n",
      "|  603 | COWES                | Fluoridated        |             1 |\n",
      "|  604 | COWWARR              | Not fluoridated    |             1 |\n",
      "|  605 | CRAIGIE              | Fluoridated        |             1 |\n",
      "|  606 | CRAIGIEBURN          | Fluoridated        |             1 |\n",
      "|  607 | CRANBOURNE           | Fluoridated        |             1 |\n",
      "|  608 | CRANBOURNE NORTH     | Fluoridated        |             1 |\n",
      "|  609 | CRANBOURNE SOUTH     | Fluoridated        |             1 |\n",
      "|  610 | CREMORNE             | Fluoridated        |             1 |\n",
      "|  611 | CRESSY               | Fluoridated        |             1 |\n",
      "|  612 | CRESWICK             | Fluoridated        |             1 |\n",
      "|  613 | CRIB POINT           | Fluoridated        |             1 |\n",
      "|  614 | CROXTON              | Fluoridated        |             1 |\n",
      "|  615 | CROYDON              | Fluoridated        |             1 |\n",
      "|  616 | CROYDON HILLS        | Fluoridated        |             1 |\n",
      "|  617 | CROYDON NORTH        | Fluoridated        |             1 |\n",
      "|  618 | CROYDON SOUTH        | Fluoridated        |             1 |\n",
      "|  619 | CUDGEWA              | Not fluoridated    |             1 |\n",
      "|  620 | CURLEWIS             | Fluoridated        |             1 |\n",
      "|  621 | DAISY HILL           | Fluoridated        |             1 |\n",
      "|  622 | DALLAS               | Fluoridated        |             1 |\n",
      "|  623 | COOLAROO             | Fluoridated        |             1 |\n",
      "|  624 | CONNEWARRE           | Fluoridated        |             1 |\n",
      "|  625 | CONGUPNA             | Fluoridated        |             1 |\n",
      "|  626 | CLAYTON SOUTH        | Fluoridated        |             1 |\n",
      "|  627 | CHELSEA              | Fluoridated        |             1 |\n",
      "|  628 | CHELSEA HEIGHTS      | Fluoridated        |             1 |\n",
      "|  629 | CHELTENHAM           | Fluoridated        |             1 |\n",
      "|  630 | CHEWTON              | Fluoridated        |             1 |\n",
      "|  631 | CHILTERN             | Fluoridated        |             1 |\n",
      "|  632 | CHIPSTOW             | Not fluoridated    |             1 |\n",
      "|  633 | CHIRNSIDE PARK       | Fluoridated        |             1 |\n",
      "|  634 | CHUM CREEK           | Not fluoridated    |             1 |\n",
      "|  635 | CHURCHILL            | Fluoridated        |             1 |\n",
      "|  636 | CLARENDON            | Not fluoridated    |             1 |\n",
      "|  637 | CLARINDA             | Fluoridated        |             1 |\n",
      "|  638 | CLARKES HILL         | Not fluoridated    |             1 |\n",
      "|  639 | CLAYTON              | Fluoridated        |             1 |\n",
      "|  640 | CLEMATIS             | Not fluoridated    |             1 |\n",
      "|  641 | COLLINGWOOD          | Fluoridated        |             1 |\n",
      "|  642 | CLIFTON HILL         | Fluoridated        |             1 |\n",
      "|  643 | CLIFTON SPRINGS      | Fluoridated        |             1 |\n",
      "|  644 | CLUNES               | Not fluoridated    |             1 |\n",
      "|  645 | CLYDE                | Fluoridated        |             1 |\n",
      "|  646 | COBDEN               | Not fluoridated    |             1 |\n",
      "|  647 | COBRAM               | Fluoridated        |             1 |\n",
      "|  648 | COBURG NORTH         | Fluoridated        |             1 |\n",
      "|  649 | COCKATOO             | Not fluoridated    |             1 |\n",
      "|  650 | COHUNA               | Fluoridated        |             1 |\n",
      "|  651 | COLAC                | Fluoridated        |             1 |\n",
      "|  652 | COLBINABBIN          | Not fluoridated    |             1 |\n",
      "|  653 | COLDSTREAM           | Partly fluoridated |             1 |\n",
      "|  654 | COLERAINE            | Not fluoridated    |             1 |\n",
      "|  655 | BRIGHTON             | Fluoridated        |             1 |\n",
      "|  656 | BRIDGEWATER          | Not fluoridated    |             1 |\n",
      "|  657 | DANDENONG            | Fluoridated        |             1 |\n",
      "|  658 | BARRABOOL            | Fluoridated        |             1 |\n",
      "|  659 | ASPENDALE GARDENS    | Fluoridated        |             1 |\n",
      "|  660 | ATTWOOD              | Fluoridated        |             1 |\n",
      "|  661 | AVALON               | Fluoridated        |             1 |\n",
      "|  662 | AVENEL               | Fluoridated        |             1 |\n",
      "|  663 | AVOCA                | Not fluoridated    |             1 |\n",
      "|  664 | AVONDALE HEIGHTS     | Fluoridated        |             1 |\n",
      "|  665 | AVONSLEIGH           | Not fluoridated    |             1 |\n",
      "|  666 | AXEDALE              | Fluoridated        |             1 |\n",
      "|  667 | BACCHUS MARSH        | Fluoridated        |             1 |\n",
      "|  668 | BADGER CREEK         | Not fluoridated    |             1 |\n",
      "|  669 | BAIRNSDALE           | Fluoridated        |             1 |\n",
      "|  670 | BALACLAVA            | Fluoridated        |             1 |\n",
      "|  671 | BALLAN               | Fluoridated        |             1 |\n",
      "|  672 | BALLARAT             | Fluoridated        |             1 |\n",
      "|  673 | BALLARAT NORTH       | Fluoridated        |             1 |\n",
      "|  674 | BALLARAT SOUTH       | Fluoridated        |             1 |\n",
      "|  675 | BALMORAL             | Not fluoridated    |             1 |\n",
      "|  676 | BALNARRING           | Fluoridated        |             1 |\n",
      "|  677 | BALWYN               | Fluoridated        |             1 |\n",
      "|  678 | BALWYN NORTH         | Fluoridated        |             1 |\n",
      "|  679 | BAMBRA               | Fluoridated        |             1 |\n",
      "|  680 | BAMGANIE             | Fluoridated        |             1 |\n",
      "|  681 | BANDIANA MILPO       | Partly fluoridated |             1 |\n",
      "|  682 | BANGHOLME            | Fluoridated        |             1 |\n",
      "|  683 | BANNOCKBURN          | Fluoridated        |             1 |\n",
      "|  684 | BANYULE              | Fluoridated        |             1 |\n",
      "|  685 | BARANDUDA            | Fluoridated        |             1 |\n",
      "|  686 | BAREENA              | Fluoridated        |             1 |\n",
      "|  687 | BARMAH               | Not fluoridated    |             1 |\n",
      "|  688 | ASPENDALE            | Fluoridated        |             1 |\n",
      "|  689 | ASHWOOD              | Fluoridated        |             1 |\n",
      "|  690 | ASHBURTON            | Fluoridated        |             1 |\n",
      "|  691 | ALMA                 | Fluoridated        |             1 |\n",
      "|  692 | ADDINGTON            | Not fluoridated    |             1 |\n",
      "|  693 | ADELAIDE LEAD        | Fluoridated        |             1 |\n",
      "|  694 | AGNES                | Not fluoridated    |             1 |\n",
      "|  695 | AIREYS INLET         | Fluoridated        |             1 |\n",
      "|  696 | AIRPORT WEST         | Fluoridated        |             1 |\n",
      "|  697 | ALBANVALE            | Fluoridated        |             1 |\n",
      "|  698 | ALBERT PARK          | Fluoridated        |             1 |\n",
      "|  699 | ALBERTON             | Not fluoridated    |             1 |\n",
      "|  700 | ALBION               | Fluoridated        |             1 |\n",
      "|  701 | ALEXANDRA            | Not fluoridated    |             1 |\n",
      "|  702 | ALFREDTON            | Fluoridated        |             1 |\n",
      "|  703 | ALLANSFORD           | Fluoridated        |             1 |\n",
      "|  704 | ALLENDALE            | Not fluoridated    |             1 |\n",
      "|  705 | ALPHINGTON           | Fluoridated        |             1 |\n",
      "|  706 | ASCOT VALE           | Fluoridated        |             1 |\n",
      "|  707 | ALTONA               | Fluoridated        |             1 |\n",
      "|  708 | ALTONA MEADOWS       | Fluoridated        |             1 |\n",
      "|  709 | ALTONA NORTH         | Fluoridated        |             1 |\n",
      "|  710 | ALVIE                | Fluoridated        |             1 |\n",
      "|  711 | AMPHITHEATRE         | Not fluoridated    |             1 |\n",
      "|  712 | ANAKIE               | Fluoridated        |             1 |\n",
      "|  713 | ANDERSON             | Fluoridated        |             1 |\n",
      "|  714 | ANGLESEA             | Fluoridated        |             1 |\n",
      "|  715 | APOLLO BAY           | Not fluoridated    |             1 |\n",
      "|  716 | ARARAT               | Fluoridated        |             1 |\n",
      "|  717 | ARCHIES CREEK        | Fluoridated        |             1 |\n",
      "|  718 | ARDEER               | Fluoridated        |             1 |\n",
      "|  719 | ARTHURS CREEK        | Fluoridated        |             1 |\n",
      "|  720 | BARNAWARTHA          | Fluoridated        |             1 |\n",
      "|  721 | BARRY BEACH          | Not fluoridated    |             1 |\n",
      "|  722 | BRIAR HILL           | Fluoridated        |             1 |\n",
      "|  723 | BARRYS REEF          | Not fluoridated    |             1 |\n",
      "|  724 | BIRDWOODTON          | Not fluoridated    |             1 |\n",
      "|  725 | BIRREGURRA           | Not fluoridated    |             1 |\n",
      "|  726 | BITTERN              | Fluoridated        |             1 |\n",
      "|  727 | BLACK HILL           | Fluoridated        |             1 |\n",
      "|  728 | BLACK ROCK           | Fluoridated        |             1 |\n",
      "|  729 | BLACKBURN            | Fluoridated        |             1 |\n",
      "|  730 | BLACKBURN NORTH      | Fluoridated        |             1 |\n",
      "|  731 | BLACKBURN SOUTH      | Fluoridated        |             1 |\n",
      "|  732 | BLACKWOOD            | Not fluoridated    |             1 |\n",
      "|  733 | BLAIRGOWRIE          | Fluoridated        |             1 |\n",
      "|  734 | BLIND BIGHT          | Fluoridated        |             1 |\n",
      "|  735 | BOISDALE             | Fluoridated        |             1 |\n",
      "|  736 | BOLWARRAH            | Not fluoridated    |             1 |\n",
      "|  737 | BONBEACH             | Fluoridated        |             1 |\n",
      "|  738 | BONEGILLA            | Partly fluoridated |             1 |\n",
      "|  739 | BONNIE DOON          | Not fluoridated    |             1 |\n",
      "|  740 | BONSHAW              | Fluoridated        |             1 |\n",
      "|  741 | BOOLARRA             | Not fluoridated    |             1 |\n",
      "|  742 | BOORT                | Not fluoridated    |             1 |\n",
      "|  743 | BORONIA              | Fluoridated        |             1 |\n",
      "|  744 | BOWENVALE            | Fluoridated        |             1 |\n",
      "|  745 | BOX HILL             | Fluoridated        |             1 |\n",
      "|  746 | BOX HILL NORTH       | Fluoridated        |             1 |\n",
      "|  747 | BOX HILL SOUTH       | Fluoridated        |             1 |\n",
      "|  748 | BRAESIDE             | Fluoridated        |             1 |\n",
      "|  749 | BRAYBROOK            | Fluoridated        |             1 |\n",
      "|  750 | BREAKWATER           | Fluoridated        |             1 |\n",
      "|  751 | BREAMLEA             | Fluoridated        |             1 |\n",
      "|  752 | BRIAGOLONG           | Not fluoridated    |             1 |\n",
      "|  753 | BIRCHIP              | Not fluoridated    |             1 |\n",
      "|  754 | BEVERIDGE            | Fluoridated        |             1 |\n",
      "|  755 | BEULAH               | Not fluoridated    |             1 |\n",
      "|  756 | BELL POST HILL       | Fluoridated        |             1 |\n",
      "|  757 | BARWON HEADS         | Fluoridated        |             1 |\n",
      "|  758 | BASS                 | Fluoridated        |             1 |\n",
      "|  759 | BATESFORD            | Fluoridated        |             1 |\n",
      "|  760 | BAXTER               | Fluoridated        |             1 |\n",
      "|  761 | BAYSWATER NORTH      | Fluoridated        |             1 |\n",
      "|  762 | BEACONSFIELD         | Fluoridated        |             1 |\n",
      "|  763 | BEACONSFIELD UPPER   | Fluoridated        |             1 |\n",
      "|  764 | BEALIBA              | Not fluoridated    |             1 |\n",
      "|  765 | BEAUFORT             | Not fluoridated    |             1 |\n",
      "|  766 | BEAUMARIS            | Fluoridated        |             1 |\n",
      "|  767 | BEEAC                | Fluoridated        |             1 |\n",
      "|  768 | BEECHWORTH           | Not fluoridated    |             1 |\n",
      "|  769 | BELL PARK            | Fluoridated        |             1 |\n",
      "|  770 | BELLARINE            | Fluoridated        |             1 |\n",
      "|  771 | BETLEY               | Fluoridated        |             1 |\n",
      "|  772 | BELLBRAE             | Fluoridated        |             1 |\n",
      "|  773 | BELLBRIDGE           | Not fluoridated    |             1 |\n",
      "|  774 | BELLS BEACH          | Fluoridated        |             1 |\n",
      "|  775 | BELMONT              | Fluoridated        |             1 |\n",
      "|  776 | BEMM RIVER           | Not fluoridated    |             1 |\n",
      "|  777 | BENALLA              | Fluoridated        |             1 |\n",
      "|  778 | BENDIGO              | Fluoridated        |             1 |\n",
      "|  779 | BENNISON             | Not fluoridated    |             1 |\n",
      "|  780 | BENTLEIGH            | Fluoridated        |             1 |\n",
      "|  781 | BENTLEIGH EAST       | Fluoridated        |             1 |\n",
      "|  782 | BERRINGA             | Not fluoridated    |             1 |\n",
      "|  783 | BERWICK              | Fluoridated        |             1 |\n",
      "|  784 | BET BET              | Fluoridated        |             1 |\n",
      "|  785 | DALYSTON             | Fluoridated        |             1 |\n",
      "|  786 | DANDENONG SOUTH      | Fluoridated        |             1 |\n",
      "|  787 | LEOPOLD              | Fluoridated        |             1 |\n",
      "|  788 | KALORAMA             | Fluoridated        |             1 |\n",
      "|  789 | HEYWOOD              | Not fluoridated    |             1 |\n",
      "|  790 | HIDDEN VALLEY        | Fluoridated        |             1 |\n",
      "|  791 | HIGHETT              | Fluoridated        |             1 |\n",
      "|  792 | HIGHPOINT CITY       | Fluoridated        |             1 |\n",
      "|  793 | HIGHTON              | Fluoridated        |             1 |\n",
      "|  794 | HILLCREST            | Fluoridated        |             1 |\n",
      "|  795 | HILLSIDE             | Fluoridated        |             1 |\n",
      "|  796 | HMAS CERBERUS        | Fluoridated        |             1 |\n",
      "|  797 | HOPETOUN             | Not fluoridated    |             1 |\n",
      "|  798 | HOPPERS CROSSING     | Fluoridated        |             1 |\n",
      "|  799 | HORSHAM              | Fluoridated        |             1 |\n",
      "|  800 | HUNTLY               | Fluoridated        |             1 |\n",
      "|  801 | HURSTBRIDGE          | Fluoridated        |             1 |\n",
      "|  802 | INDENTED HEAD        | Fluoridated        |             1 |\n",
      "|  803 | INGLEWOOD            | Not fluoridated    |             1 |\n",
      "|  804 | INVERLEIGH           | Fluoridated        |             1 |\n",
      "|  805 | INVERLOCH            | Fluoridated        |             1 |\n",
      "|  806 | INVERMAY             | Fluoridated        |             1 |\n",
      "|  807 | IRREWARRA            | Fluoridated        |             1 |\n",
      "|  808 | IRYMPLE              | Fluoridated        |             1 |\n",
      "|  809 | IVANHOE              | Fluoridated        |             1 |\n",
      "|  810 | IVANHOE EAST         | Fluoridated        |             1 |\n",
      "|  811 | JACANA               | Fluoridated        |             1 |\n",
      "|  812 | JAN JUC              | Fluoridated        |             1 |\n",
      "|  813 | JOHNSONVILLE         | Fluoridated        |             1 |\n",
      "|  814 | JUMBUK               | Fluoridated        |             1 |\n",
      "|  815 | JUNG                 | Not fluoridated    |             1 |\n",
      "|  816 | JUNORTOUN            | Fluoridated        |             1 |\n",
      "|  817 | KALIMNA              | Fluoridated        |             1 |\n",
      "|  818 | HEYFIELD             | Not fluoridated    |             1 |\n",
      "|  819 | HERNE HILL           | Fluoridated        |             1 |\n",
      "|  820 | HEPBURN              | Not fluoridated    |             1 |\n",
      "|  821 | HAVELOCK             | Fluoridated        |             1 |\n",
      "|  822 | HADDON               | Fluoridated        |             1 |\n",
      "|  823 | HADFIELD             | Fluoridated        |             1 |\n",
      "|  824 | HALLAM               | Fluoridated        |             1 |\n",
      "|  825 | HALLS GAP            | Not fluoridated    |             1 |\n",
      "|  826 | HAMILTON             | Fluoridated        |             1 |\n",
      "|  827 | HAMLYN HEIGHTS       | Fluoridated        |             1 |\n",
      "|  828 | HAMPTON              | Fluoridated        |             1 |\n",
      "|  829 | HAMPTON EAST         | Fluoridated        |             1 |\n",
      "|  830 | HAMPTON PARK         | Fluoridated        |             1 |\n",
      "|  831 | HARCOURT             | Fluoridated        |             1 |\n",
      "|  832 | HARKAWAY             | Fluoridated        |             1 |\n",
      "|  833 | HARRIETVILLE         | Not fluoridated    |             1 |\n",
      "|  834 | HASTINGS             | Fluoridated        |             1 |\n",
      "|  835 | HAWKSBURN            | Fluoridated        |             1 |\n",
      "|  836 | HEIDELBERG WEST      | Fluoridated        |             1 |\n",
      "|  837 | HAWTHORN             | Fluoridated        |             1 |\n",
      "|  838 | HAWTHORN EAST        | Fluoridated        |             1 |\n",
      "|  839 | HAZELWOOD NORTH      | Fluoridated        |             1 |\n",
      "|  840 | HEALESVILLE          | Not fluoridated    |             1 |\n",
      "|  841 | HEATHCOTE            | Not fluoridated    |             1 |\n",
      "|  842 | HEATHCOTE JUNCTION   | Fluoridated        |             1 |\n",
      "|  843 | HEATHERDALE          | Fluoridated        |             1 |\n",
      "|  844 | HEATHERTON           | Fluoridated        |             1 |\n",
      "|  845 | HEATHMONT            | Fluoridated        |             1 |\n",
      "|  846 | HEDLEY               | Not fluoridated    |             1 |\n",
      "|  847 | HEIDELBERG           | Fluoridated        |             1 |\n",
      "|  848 | HEIDELBERG HEIGHTS   | Fluoridated        |             1 |\n",
      "|  849 | HEIDELBERG RGH       | Fluoridated        |             1 |\n",
      "|  850 | KALLISTA             | Partly fluoridated |             1 |\n",
      "|  851 | KANGAROO FLAT        | Fluoridated        |             1 |\n",
      "|  852 | GUNBOWER             | Not fluoridated    |             1 |\n",
      "|  853 | KANGAROO GROUND      | Fluoridated        |             1 |\n",
      "|  854 | KOOYONG              | Fluoridated        |             1 |\n",
      "|  855 | KOROIT               | Fluoridated        |             1 |\n",
      "|  856 | KORONG VALE          | Not fluoridated    |             1 |\n",
      "|  857 | KORUMBURRA           | Fluoridated        |             1 |\n",
      "|  858 | KURUNJANG            | Fluoridated        |             1 |\n",
      "|  859 | KYABRAM              | Fluoridated        |             1 |\n",
      "|  860 | KYNETON              | Fluoridated        |             1 |\n",
      "|  861 | LAANECOORIE          | Not fluoridated    |             1 |\n",
      "|  862 | LAKE BOGA            | Fluoridated        |             1 |\n",
      "|  863 | LAKE BUNGA           | Fluoridated        |             1 |\n",
      "|  864 | LAKE GARDENS         | Fluoridated        |             1 |\n",
      "|  865 | LAKE TYERS           | Fluoridated        |             1 |\n",
      "|  866 | LAKE TYERS BEACH     | Not fluoridated    |             1 |\n",
      "|  867 | LAKES ENTRANCE       | Fluoridated        |             1 |\n",
      "|  868 | LAL LAL              | Fluoridated        |             1 |\n",
      "|  869 | LALBERT              | Not fluoridated    |             1 |\n",
      "|  870 | LALOR                | Fluoridated        |             1 |\n",
      "|  871 | LANCEFIELD           | Not fluoridated    |             1 |\n",
      "|  872 | LANDSBOROUGH         | Not fluoridated    |             1 |\n",
      "|  873 | LANG LANG            | Fluoridated        |             1 |\n",
      "|  874 | LANGWARRIN           | Fluoridated        |             1 |\n",
      "|  875 | LARA                 | Fluoridated        |             1 |\n",
      "|  876 | LAUNCHING PLACE      | Partly fluoridated |             1 |\n",
      "|  877 | LAVERTON             | Fluoridated        |             1 |\n",
      "|  878 | LAVERTON NORTH       | Fluoridated        |             1 |\n",
      "|  879 | LEARMONTH            | Not fluoridated    |             1 |\n",
      "|  880 | LEIGH CREEK          | Not fluoridated    |             1 |\n",
      "|  881 | LEITCHVILLE          | Not fluoridated    |             1 |\n",
      "|  882 | ABERFELDIE           | Fluoridated        |             1 |\n",
      "|  883 | KOORLONG             | Not fluoridated    |             1 |\n",
      "|  884 | KOONWARRA            | Not fluoridated    |             1 |\n",
      "|  885 | KOONDROOK            | Not fluoridated    |             1 |\n",
      "|  886 | KEW                  | Fluoridated        |             1 |\n",
      "|  887 | KATAMATITE           | Not fluoridated    |             1 |\n",
      "|  888 | KATANDRA WEST        | Not fluoridated    |             1 |\n",
      "|  889 | KATUNGA              | Not fluoridated    |             1 |\n",
      "|  890 | KEALBA               | Fluoridated        |             1 |\n",
      "|  891 | KEILOR               | Fluoridated        |             1 |\n",
      "|  892 | KEILOR DOWNS         | Fluoridated        |             1 |\n",
      "|  893 | KEILOR EAST          | Fluoridated        |             1 |\n",
      "|  894 | KEILOR NORTH         | Fluoridated        |             1 |\n",
      "|  895 | KEILOR PARK          | Fluoridated        |             1 |\n",
      "|  896 | KENNINGTON           | Fluoridated        |             1 |\n",
      "|  897 | KENSINGTON           | Fluoridated        |             1 |\n",
      "|  898 | KEON PARK            | Fluoridated        |             1 |\n",
      "|  899 | KERANG               | Fluoridated        |             1 |\n",
      "|  900 | KEW EAST             | Fluoridated        |             1 |\n",
      "|  901 | KOO WEE RUP          | Fluoridated        |             1 |\n",
      "|  902 | KEYSBOROUGH          | Fluoridated        |             1 |\n",
      "|  903 | KIEWA                | Fluoridated        |             1 |\n",
      "|  904 | KILCUNDA             | Fluoridated        |             1 |\n",
      "|  905 | KILLARA              | Fluoridated        |             1 |\n",
      "|  906 | KILMORE              | Fluoridated        |             1 |\n",
      "|  907 | KILMORE EAST         | Fluoridated        |             1 |\n",
      "|  908 | KILSYTH              | Fluoridated        |             1 |\n",
      "|  909 | KILSYTH SOUTH        | Fluoridated        |             1 |\n",
      "|  910 | KINGS PARK           | Fluoridated        |             1 |\n",
      "|  911 | KINGSBURY            | Fluoridated        |             1 |\n",
      "|  912 | KINGSTON             | Not fluoridated    |             1 |\n",
      "|  913 | KINGSVILLE           | Fluoridated        |             1 |\n",
      "|  914 | KNOXFIELD            | Fluoridated        |             1 |\n",
      "|  915 | GUYS HILL            | Fluoridated        |             1 |\n",
      "|  916 | GUILDFORD            | Fluoridated        |             1 |\n",
      "|  917 | DARLEY               | Fluoridated        |             1 |\n",
      "|  918 | EPSOM                | Fluoridated        |             1 |\n",
      "|  919 | DROUIN WEST          | Fluoridated        |             1 |\n",
      "|  920 | DRUMCONDRA           | Fluoridated        |             1 |\n",
      "|  921 | DRYSDALE             | Fluoridated        |             1 |\n",
      "|  922 | DUMBALK              | Not fluoridated    |             1 |\n",
      "|  923 | DUNKELD              | Fluoridated        |             1 |\n",
      "|  924 | DUNOLLY              | Not fluoridated    |             1 |\n",
      "|  925 | DURHAM LEAD          | Not fluoridated    |             1 |\n",
      "|  926 | EAGLE POINT          | Fluoridated        |             1 |\n",
      "|  927 | EAGLEHAWK            | Fluoridated        |             1 |\n",
      "|  928 | EAGLEMONT            | Fluoridated        |             1 |\n",
      "|  929 | EAST BAIRNSDALE      | Fluoridated        |             1 |\n",
      "|  930 | EAST GEELONG         | Fluoridated        |             1 |\n",
      "|  931 | EAST MELBOURNE       | Fluoridated        |             1 |\n",
      "|  932 | EASTWOOD             | Fluoridated        |             1 |\n",
      "|  933 | EBDEN                | Fluoridated        |             1 |\n",
      "|  934 | ECHUCA               | Fluoridated        |             1 |\n",
      "|  935 | EDENHOPE             | Not fluoridated    |             1 |\n",
      "|  936 | EDITHVALE            | Fluoridated        |             1 |\n",
      "|  937 | EILDON               | Not fluoridated    |             1 |\n",
      "|  938 | ELLIMINYT            | Fluoridated        |             1 |\n",
      "|  939 | ELMORE               | Not fluoridated    |             1 |\n",
      "|  940 | ELPHINSTONE          | Fluoridated        |             1 |\n",
      "|  941 | ELSTERNWICK          | Fluoridated        |             1 |\n",
      "|  942 | ELTHAM               | Fluoridated        |             1 |\n",
      "|  943 | ELTHAM NORTH         | Fluoridated        |             1 |\n",
      "|  944 | ELWOOD               | Fluoridated        |             1 |\n",
      "|  945 | EMERALD              | Not fluoridated    |             1 |\n",
      "|  946 | ENDEAVOUR HILLS      | Fluoridated        |             1 |\n",
      "|  947 | ENFIELD              | Fluoridated        |             1 |\n",
      "|  948 | DROUIN               | Fluoridated        |             1 |\n",
      "|  949 | DROMANA              | Fluoridated        |             1 |\n",
      "|  950 | DOVETON              | Fluoridated        |             1 |\n",
      "|  951 | DEVENISH             | Fluoridated        |             1 |\n",
      "|  952 | DARNUM               | Fluoridated        |             1 |\n",
      "|  953 | DARTMOOR             | Not fluoridated    |             1 |\n",
      "|  954 | DARTMOUTH            | Not fluoridated    |             1 |\n",
      "|  955 | DAYLESFORD           | Not fluoridated    |             1 |\n",
      "|  956 | DEAKIN UNIVERSITY    | Fluoridated        |             1 |\n",
      "|  957 | DEAN                 | Not fluoridated    |             1 |\n",
      "|  958 | DEEPDENE             | Fluoridated        |             1 |\n",
      "|  959 | DEER PARK            | Fluoridated        |             1 |\n",
      "|  960 | DELACOMBE            | Fluoridated        |             1 |\n",
      "|  961 | DELAHEY              | Fluoridated        |             1 |\n",
      "|  962 | DEREEL               | Fluoridated        |             1 |\n",
      "|  963 | DERRIMUT             | Fluoridated        |             1 |\n",
      "|  964 | DERRINALLUM          | Fluoridated        |             1 |\n",
      "|  965 | DEVON MEADOWS        | Fluoridated        |             1 |\n",
      "|  966 | DOREEN               | Fluoridated        |             1 |\n",
      "|  967 | DEVON NORTH          | Not fluoridated    |             1 |\n",
      "|  968 | DIAMOND CREEK        | Fluoridated        |             1 |\n",
      "|  969 | DIGGERS REST         | Fluoridated        |             1 |\n",
      "|  970 | DIMBOOLA             | Not fluoridated    |             1 |\n",
      "|  971 | DINGLEY VILLAGE      | Fluoridated        |             1 |\n",
      "|  972 | DINNER PLAIN         | Not fluoridated    |             1 |\n",
      "|  973 | DOCKLANDS            | Fluoridated        |             1 |\n",
      "|  974 | DON VALLEY           | Fluoridated        |             1 |\n",
      "|  975 | DONALD               | Not fluoridated    |             1 |\n",
      "|  976 | DONCASTER            | Fluoridated        |             1 |\n",
      "|  977 | DONCASTER EAST       | Fluoridated        |             1 |\n",
      "|  978 | DONVALE              | Fluoridated        |             1 |\n",
      "|  979 | DOOKIE               | Not fluoridated    |             1 |\n",
      "|  980 | EPPING               | Fluoridated        |             1 |\n",
      "|  981 | ERICA                | Not fluoridated    |             1 |\n",
      "|  982 | GRUYERE              | Fluoridated        |             1 |\n",
      "|  983 | ESSENDON             | Fluoridated        |             1 |\n",
      "|  984 | GHERANG              | Fluoridated        |             1 |\n",
      "|  985 | GHERINGHAP           | Fluoridated        |             1 |\n",
      "|  986 | GIRGARRE             | Not fluoridated    |             1 |\n",
      "|  987 | GISBORNE             | Fluoridated        |             1 |\n",
      "|  988 | GLADSTONE PARK       | Fluoridated        |             1 |\n",
      "|  989 | GLEN FORBES          | Fluoridated        |             1 |\n",
      "|  990 | GLEN HUNTLY          | Fluoridated        |             1 |\n",
      "|  991 | GLEN IRIS            | Fluoridated        |             1 |\n",
      "|  992 | GLEN WAVERLEY        | Fluoridated        |             1 |\n",
      "|  993 | GLENGARRY            | Not fluoridated    |             1 |\n",
      "|  994 | GLENMAGGIE           | Not fluoridated    |             1 |\n",
      "|  995 | GLENMORE             | Not fluoridated    |             1 |\n",
      "|  996 | GLENORMISTON         | Not fluoridated    |             1 |\n",
      "|  997 | GLENROWAN            | Fluoridated        |             1 |\n",
      "|  998 | GLENROY              | Fluoridated        |             1 |\n",
      "|  999 | GLENTHOMPSON         | Not fluoridated    |             1 |\n",
      "| 1000 | GOLDEN POINT         | Fluoridated        |             1 |\n",
      "| 1001 | GOLDEN SQUARE        | Fluoridated        |             1 |\n",
      "| 1002 | GOORAMBAT            | Not fluoridated    |             1 |\n",
      "| 1003 | GOORNONG             | Not fluoridated    |             1 |\n",
      "| 1004 | GORDON               | Fluoridated        |             1 |\n",
      "| 1005 | GOWANBRAE            | Fluoridated        |             1 |\n",
      "| 1006 | GRANITE ROCK         | Fluoridated        |             1 |\n",
      "| 1007 | GRANTVILLE           | Fluoridated        |             1 |\n",
      "| 1008 | GREAT WESTERN        | Not fluoridated    |             1 |\n",
      "| 1009 | GREENSBOROUGH        | Fluoridated        |             1 |\n",
      "| 1010 | GREENVALE            | Fluoridated        |             1 |\n",
      "| 1011 | GREYTHORN            | Fluoridated        |             1 |\n",
      "| 1012 | GROVEDALE            | Fluoridated        |             1 |\n",
      "| 1013 | GENOA                | Not fluoridated    |             1 |\n",
      "| 1014 | GEMBROOK             | Not fluoridated    |             1 |\n",
      "| 1015 | GELLIBRAND           | Not fluoridated    |             1 |\n",
      "| 1016 | FLAGSTAFF RIDGE HILL | Fluoridated        |             1 |\n",
      "| 1017 | ESSENDON NORTH       | Fluoridated        |             1 |\n",
      "| 1018 | ESSENDON WEST        | Fluoridated        |             1 |\n",
      "| 1019 | EUREKA               | Fluoridated        |             1 |\n",
      "| 1020 | EUROA                | Not fluoridated    |             1 |\n",
      "| 1021 | FAIRFIELD            | Fluoridated        |             1 |\n",
      "| 1022 | FAIRHAVEN            | Not fluoridated    |             1 |\n",
      "| 1023 | FAWKNER              | Fluoridated        |             1 |\n",
      "| 1024 | FERNTREE GULLY       | Fluoridated        |             1 |\n",
      "| 1025 | FERNY CREEK          | Fluoridated        |             1 |\n",
      "| 1026 | FISH CREEK           | Not fluoridated    |             1 |\n",
      "| 1027 | FITZROY              | Fluoridated        |             1 |\n",
      "| 1028 | FITZROY NORTH        | Fluoridated        |             1 |\n",
      "| 1029 | FLAGSTAFF            | Fluoridated        |             1 |\n",
      "| 1030 | FLEMINGTON           | Fluoridated        |             1 |\n",
      "| 1031 | GEELONG WEST         | Fluoridated        |             1 |\n",
      "| 1032 | FLINDERS             | Fluoridated        |             1 |\n",
      "| 1033 | FOOTSCRAY            | Fluoridated        |             1 |\n",
      "| 1034 | FOREST HILL          | Fluoridated        |             1 |\n",
      "| 1035 | FORREST              | Not fluoridated    |             1 |\n",
      "| 1036 | FOSTER               | Not fluoridated    |             1 |\n",
      "| 1037 | FRANKSTON            | Fluoridated        |             1 |\n",
      "| 1038 | FRANKSTON NORTH      | Fluoridated        |             1 |\n",
      "| 1039 | FRESHWATER CREEK     | Fluoridated        |             1 |\n",
      "| 1040 | FRYERSTOWN           | Fluoridated        |             1 |\n",
      "| 1041 | FYANSFORD            | Fluoridated        |             1 |\n",
      "| 1042 | GARDENVALE           | Fluoridated        |             1 |\n",
      "| 1043 | GARFIELD             | Fluoridated        |             1 |\n",
      "| 1044 | GEELONG              | Fluoridated        |             1 |\n",
      "| 1045 | YUROKE               | Fluoridated        |             1 |\n"
     ]
    }
   ],
   "source": [
    "print(n_flu_comp_by_suburb.reset_index().to_markdown())"
   ]
  },
  {
   "cell_type": "code",
   "execution_count": 34,
   "metadata": {},
   "outputs": [
    {
     "data": {
      "text/html": [
       "<div>\n",
       "<style scoped>\n",
       "    .dataframe tbody tr th:only-of-type {\n",
       "        vertical-align: middle;\n",
       "    }\n",
       "\n",
       "    .dataframe tbody tr th {\n",
       "        vertical-align: top;\n",
       "    }\n",
       "\n",
       "    .dataframe thead th {\n",
       "        text-align: right;\n",
       "    }\n",
       "</style>\n",
       "<table border=\"1\" class=\"dataframe\">\n",
       "  <thead>\n",
       "    <tr style=\"text-align: right;\">\n",
       "      <th></th>\n",
       "      <th>townsuburb</th>\n",
       "      <th>fluoride_level</th>\n",
       "      <th>n_companies</th>\n",
       "    </tr>\n",
       "  </thead>\n",
       "  <tbody>\n",
       "    <tr>\n",
       "      <th>0</th>\n",
       "      <td>BELGRAVE</td>\n",
       "      <td>Fluoridated</td>\n",
       "      <td>2</td>\n",
       "    </tr>\n",
       "    <tr>\n",
       "      <th>1</th>\n",
       "      <td>MULGRAVE</td>\n",
       "      <td>Fluoridated</td>\n",
       "      <td>2</td>\n",
       "    </tr>\n",
       "    <tr>\n",
       "      <th>2</th>\n",
       "      <td>HUNTINGDALE</td>\n",
       "      <td>Fluoridated</td>\n",
       "      <td>2</td>\n",
       "    </tr>\n",
       "    <tr>\n",
       "      <th>3</th>\n",
       "      <td>MELBOURNE</td>\n",
       "      <td>Fluoridated</td>\n",
       "      <td>2</td>\n",
       "    </tr>\n",
       "    <tr>\n",
       "      <th>4</th>\n",
       "      <td>COBURG</td>\n",
       "      <td>Fluoridated</td>\n",
       "      <td>2</td>\n",
       "    </tr>\n",
       "    <tr>\n",
       "      <th>5</th>\n",
       "      <td>ARMADALE</td>\n",
       "      <td>Fluoridated</td>\n",
       "      <td>2</td>\n",
       "    </tr>\n",
       "    <tr>\n",
       "      <th>6</th>\n",
       "      <td>OAKLEIGH</td>\n",
       "      <td>Fluoridated</td>\n",
       "      <td>2</td>\n",
       "    </tr>\n",
       "    <tr>\n",
       "      <th>7</th>\n",
       "      <td>HUGHESDALE</td>\n",
       "      <td>Fluoridated</td>\n",
       "      <td>2</td>\n",
       "    </tr>\n",
       "    <tr>\n",
       "      <th>8</th>\n",
       "      <td>TULLAMARINE</td>\n",
       "      <td>Fluoridated</td>\n",
       "      <td>2</td>\n",
       "    </tr>\n",
       "    <tr>\n",
       "      <th>9</th>\n",
       "      <td>UPWEY</td>\n",
       "      <td>Fluoridated</td>\n",
       "      <td>2</td>\n",
       "    </tr>\n",
       "  </tbody>\n",
       "</table>\n",
       "</div>"
      ],
      "text/plain": [
       "    townsuburb fluoride_level  n_companies\n",
       "0     BELGRAVE    Fluoridated            2\n",
       "1     MULGRAVE    Fluoridated            2\n",
       "2  HUNTINGDALE    Fluoridated            2\n",
       "3    MELBOURNE    Fluoridated            2\n",
       "4       COBURG    Fluoridated            2\n",
       "5     ARMADALE    Fluoridated            2\n",
       "6     OAKLEIGH    Fluoridated            2\n",
       "7   HUGHESDALE    Fluoridated            2\n",
       "8  TULLAMARINE    Fluoridated            2\n",
       "9        UPWEY    Fluoridated            2"
      ]
     },
     "execution_count": 34,
     "metadata": {},
     "output_type": "execute_result"
    }
   ],
   "source": [
    "top_10_subs = n_flu_comp_by_suburb.head(10).reset_index()\n",
    "top_10_subs"
   ]
  },
  {
   "cell_type": "code",
   "execution_count": 40,
   "metadata": {},
   "outputs": [
    {
     "data": {
      "application/vnd.plotly.v1+json": {
       "config": {
        "plotlyServerURL": "https://plot.ly"
       },
       "data": [
        {
         "alignmentgroup": "True",
         "bingroup": "x",
         "histfunc": "sum",
         "hovertemplate": "x=%{x}<br>sum of n_companies=%{y}<extra></extra>",
         "legendgroup": "",
         "marker": {
          "color": "#636efa",
          "pattern": {
           "shape": ""
          }
         },
         "name": "",
         "offsetgroup": "",
         "orientation": "v",
         "showlegend": false,
         "type": "histogram",
         "x": [
          "Belgrave",
          "Mulgrave",
          "Huntingdale",
          "Melbourne",
          "Coburg",
          "Armadale",
          "Oakleigh",
          "Hughesdale",
          "Tullamarine",
          "Upwey"
         ],
         "xaxis": "x",
         "y": [
          2,
          2,
          2,
          2,
          2,
          2,
          2,
          2,
          2,
          2
         ],
         "yaxis": "y"
        }
       ],
       "layout": {
        "barmode": "relative",
        "legend": {
         "tracegroupgap": 0
        },
        "margin": {
         "t": 60
        },
        "template": {
         "data": {
          "bar": [
           {
            "error_x": {
             "color": "#f2f5fa"
            },
            "error_y": {
             "color": "#f2f5fa"
            },
            "marker": {
             "line": {
              "color": "rgb(17,17,17)",
              "width": 0.5
             },
             "pattern": {
              "fillmode": "overlay",
              "size": 10,
              "solidity": 0.2
             }
            },
            "type": "bar"
           }
          ],
          "barpolar": [
           {
            "marker": {
             "line": {
              "color": "rgb(17,17,17)",
              "width": 0.5
             },
             "pattern": {
              "fillmode": "overlay",
              "size": 10,
              "solidity": 0.2
             }
            },
            "type": "barpolar"
           }
          ],
          "carpet": [
           {
            "aaxis": {
             "endlinecolor": "#A2B1C6",
             "gridcolor": "#506784",
             "linecolor": "#506784",
             "minorgridcolor": "#506784",
             "startlinecolor": "#A2B1C6"
            },
            "baxis": {
             "endlinecolor": "#A2B1C6",
             "gridcolor": "#506784",
             "linecolor": "#506784",
             "minorgridcolor": "#506784",
             "startlinecolor": "#A2B1C6"
            },
            "type": "carpet"
           }
          ],
          "choropleth": [
           {
            "colorbar": {
             "outlinewidth": 0,
             "ticks": ""
            },
            "type": "choropleth"
           }
          ],
          "contour": [
           {
            "colorbar": {
             "outlinewidth": 0,
             "ticks": ""
            },
            "colorscale": [
             [
              0,
              "#0d0887"
             ],
             [
              0.1111111111111111,
              "#46039f"
             ],
             [
              0.2222222222222222,
              "#7201a8"
             ],
             [
              0.3333333333333333,
              "#9c179e"
             ],
             [
              0.4444444444444444,
              "#bd3786"
             ],
             [
              0.5555555555555556,
              "#d8576b"
             ],
             [
              0.6666666666666666,
              "#ed7953"
             ],
             [
              0.7777777777777778,
              "#fb9f3a"
             ],
             [
              0.8888888888888888,
              "#fdca26"
             ],
             [
              1,
              "#f0f921"
             ]
            ],
            "type": "contour"
           }
          ],
          "contourcarpet": [
           {
            "colorbar": {
             "outlinewidth": 0,
             "ticks": ""
            },
            "type": "contourcarpet"
           }
          ],
          "heatmap": [
           {
            "colorbar": {
             "outlinewidth": 0,
             "ticks": ""
            },
            "colorscale": [
             [
              0,
              "#0d0887"
             ],
             [
              0.1111111111111111,
              "#46039f"
             ],
             [
              0.2222222222222222,
              "#7201a8"
             ],
             [
              0.3333333333333333,
              "#9c179e"
             ],
             [
              0.4444444444444444,
              "#bd3786"
             ],
             [
              0.5555555555555556,
              "#d8576b"
             ],
             [
              0.6666666666666666,
              "#ed7953"
             ],
             [
              0.7777777777777778,
              "#fb9f3a"
             ],
             [
              0.8888888888888888,
              "#fdca26"
             ],
             [
              1,
              "#f0f921"
             ]
            ],
            "type": "heatmap"
           }
          ],
          "heatmapgl": [
           {
            "colorbar": {
             "outlinewidth": 0,
             "ticks": ""
            },
            "colorscale": [
             [
              0,
              "#0d0887"
             ],
             [
              0.1111111111111111,
              "#46039f"
             ],
             [
              0.2222222222222222,
              "#7201a8"
             ],
             [
              0.3333333333333333,
              "#9c179e"
             ],
             [
              0.4444444444444444,
              "#bd3786"
             ],
             [
              0.5555555555555556,
              "#d8576b"
             ],
             [
              0.6666666666666666,
              "#ed7953"
             ],
             [
              0.7777777777777778,
              "#fb9f3a"
             ],
             [
              0.8888888888888888,
              "#fdca26"
             ],
             [
              1,
              "#f0f921"
             ]
            ],
            "type": "heatmapgl"
           }
          ],
          "histogram": [
           {
            "marker": {
             "pattern": {
              "fillmode": "overlay",
              "size": 10,
              "solidity": 0.2
             }
            },
            "type": "histogram"
           }
          ],
          "histogram2d": [
           {
            "colorbar": {
             "outlinewidth": 0,
             "ticks": ""
            },
            "colorscale": [
             [
              0,
              "#0d0887"
             ],
             [
              0.1111111111111111,
              "#46039f"
             ],
             [
              0.2222222222222222,
              "#7201a8"
             ],
             [
              0.3333333333333333,
              "#9c179e"
             ],
             [
              0.4444444444444444,
              "#bd3786"
             ],
             [
              0.5555555555555556,
              "#d8576b"
             ],
             [
              0.6666666666666666,
              "#ed7953"
             ],
             [
              0.7777777777777778,
              "#fb9f3a"
             ],
             [
              0.8888888888888888,
              "#fdca26"
             ],
             [
              1,
              "#f0f921"
             ]
            ],
            "type": "histogram2d"
           }
          ],
          "histogram2dcontour": [
           {
            "colorbar": {
             "outlinewidth": 0,
             "ticks": ""
            },
            "colorscale": [
             [
              0,
              "#0d0887"
             ],
             [
              0.1111111111111111,
              "#46039f"
             ],
             [
              0.2222222222222222,
              "#7201a8"
             ],
             [
              0.3333333333333333,
              "#9c179e"
             ],
             [
              0.4444444444444444,
              "#bd3786"
             ],
             [
              0.5555555555555556,
              "#d8576b"
             ],
             [
              0.6666666666666666,
              "#ed7953"
             ],
             [
              0.7777777777777778,
              "#fb9f3a"
             ],
             [
              0.8888888888888888,
              "#fdca26"
             ],
             [
              1,
              "#f0f921"
             ]
            ],
            "type": "histogram2dcontour"
           }
          ],
          "mesh3d": [
           {
            "colorbar": {
             "outlinewidth": 0,
             "ticks": ""
            },
            "type": "mesh3d"
           }
          ],
          "parcoords": [
           {
            "line": {
             "colorbar": {
              "outlinewidth": 0,
              "ticks": ""
             }
            },
            "type": "parcoords"
           }
          ],
          "pie": [
           {
            "automargin": true,
            "type": "pie"
           }
          ],
          "scatter": [
           {
            "marker": {
             "line": {
              "color": "#283442"
             }
            },
            "type": "scatter"
           }
          ],
          "scatter3d": [
           {
            "line": {
             "colorbar": {
              "outlinewidth": 0,
              "ticks": ""
             }
            },
            "marker": {
             "colorbar": {
              "outlinewidth": 0,
              "ticks": ""
             }
            },
            "type": "scatter3d"
           }
          ],
          "scattercarpet": [
           {
            "marker": {
             "colorbar": {
              "outlinewidth": 0,
              "ticks": ""
             }
            },
            "type": "scattercarpet"
           }
          ],
          "scattergeo": [
           {
            "marker": {
             "colorbar": {
              "outlinewidth": 0,
              "ticks": ""
             }
            },
            "type": "scattergeo"
           }
          ],
          "scattergl": [
           {
            "marker": {
             "line": {
              "color": "#283442"
             }
            },
            "type": "scattergl"
           }
          ],
          "scattermapbox": [
           {
            "marker": {
             "colorbar": {
              "outlinewidth": 0,
              "ticks": ""
             }
            },
            "type": "scattermapbox"
           }
          ],
          "scatterpolar": [
           {
            "marker": {
             "colorbar": {
              "outlinewidth": 0,
              "ticks": ""
             }
            },
            "type": "scatterpolar"
           }
          ],
          "scatterpolargl": [
           {
            "marker": {
             "colorbar": {
              "outlinewidth": 0,
              "ticks": ""
             }
            },
            "type": "scatterpolargl"
           }
          ],
          "scatterternary": [
           {
            "marker": {
             "colorbar": {
              "outlinewidth": 0,
              "ticks": ""
             }
            },
            "type": "scatterternary"
           }
          ],
          "surface": [
           {
            "colorbar": {
             "outlinewidth": 0,
             "ticks": ""
            },
            "colorscale": [
             [
              0,
              "#0d0887"
             ],
             [
              0.1111111111111111,
              "#46039f"
             ],
             [
              0.2222222222222222,
              "#7201a8"
             ],
             [
              0.3333333333333333,
              "#9c179e"
             ],
             [
              0.4444444444444444,
              "#bd3786"
             ],
             [
              0.5555555555555556,
              "#d8576b"
             ],
             [
              0.6666666666666666,
              "#ed7953"
             ],
             [
              0.7777777777777778,
              "#fb9f3a"
             ],
             [
              0.8888888888888888,
              "#fdca26"
             ],
             [
              1,
              "#f0f921"
             ]
            ],
            "type": "surface"
           }
          ],
          "table": [
           {
            "cells": {
             "fill": {
              "color": "#506784"
             },
             "line": {
              "color": "rgb(17,17,17)"
             }
            },
            "header": {
             "fill": {
              "color": "#2a3f5f"
             },
             "line": {
              "color": "rgb(17,17,17)"
             }
            },
            "type": "table"
           }
          ]
         },
         "layout": {
          "annotationdefaults": {
           "arrowcolor": "#f2f5fa",
           "arrowhead": 0,
           "arrowwidth": 1
          },
          "autotypenumbers": "strict",
          "coloraxis": {
           "colorbar": {
            "outlinewidth": 0,
            "ticks": ""
           }
          },
          "colorscale": {
           "diverging": [
            [
             0,
             "#8e0152"
            ],
            [
             0.1,
             "#c51b7d"
            ],
            [
             0.2,
             "#de77ae"
            ],
            [
             0.3,
             "#f1b6da"
            ],
            [
             0.4,
             "#fde0ef"
            ],
            [
             0.5,
             "#f7f7f7"
            ],
            [
             0.6,
             "#e6f5d0"
            ],
            [
             0.7,
             "#b8e186"
            ],
            [
             0.8,
             "#7fbc41"
            ],
            [
             0.9,
             "#4d9221"
            ],
            [
             1,
             "#276419"
            ]
           ],
           "sequential": [
            [
             0,
             "#0d0887"
            ],
            [
             0.1111111111111111,
             "#46039f"
            ],
            [
             0.2222222222222222,
             "#7201a8"
            ],
            [
             0.3333333333333333,
             "#9c179e"
            ],
            [
             0.4444444444444444,
             "#bd3786"
            ],
            [
             0.5555555555555556,
             "#d8576b"
            ],
            [
             0.6666666666666666,
             "#ed7953"
            ],
            [
             0.7777777777777778,
             "#fb9f3a"
            ],
            [
             0.8888888888888888,
             "#fdca26"
            ],
            [
             1,
             "#f0f921"
            ]
           ],
           "sequentialminus": [
            [
             0,
             "#0d0887"
            ],
            [
             0.1111111111111111,
             "#46039f"
            ],
            [
             0.2222222222222222,
             "#7201a8"
            ],
            [
             0.3333333333333333,
             "#9c179e"
            ],
            [
             0.4444444444444444,
             "#bd3786"
            ],
            [
             0.5555555555555556,
             "#d8576b"
            ],
            [
             0.6666666666666666,
             "#ed7953"
            ],
            [
             0.7777777777777778,
             "#fb9f3a"
            ],
            [
             0.8888888888888888,
             "#fdca26"
            ],
            [
             1,
             "#f0f921"
            ]
           ]
          },
          "colorway": [
           "#636efa",
           "#EF553B",
           "#00cc96",
           "#ab63fa",
           "#FFA15A",
           "#19d3f3",
           "#FF6692",
           "#B6E880",
           "#FF97FF",
           "#FECB52"
          ],
          "font": {
           "color": "#f2f5fa"
          },
          "geo": {
           "bgcolor": "rgb(17,17,17)",
           "lakecolor": "rgb(17,17,17)",
           "landcolor": "rgb(17,17,17)",
           "showlakes": true,
           "showland": true,
           "subunitcolor": "#506784"
          },
          "hoverlabel": {
           "align": "left"
          },
          "hovermode": "closest",
          "mapbox": {
           "style": "dark"
          },
          "paper_bgcolor": "rgb(17,17,17)",
          "plot_bgcolor": "rgb(17,17,17)",
          "polar": {
           "angularaxis": {
            "gridcolor": "#506784",
            "linecolor": "#506784",
            "ticks": ""
           },
           "bgcolor": "rgb(17,17,17)",
           "radialaxis": {
            "gridcolor": "#506784",
            "linecolor": "#506784",
            "ticks": ""
           }
          },
          "scene": {
           "xaxis": {
            "backgroundcolor": "rgb(17,17,17)",
            "gridcolor": "#506784",
            "gridwidth": 2,
            "linecolor": "#506784",
            "showbackground": true,
            "ticks": "",
            "zerolinecolor": "#C8D4E3"
           },
           "yaxis": {
            "backgroundcolor": "rgb(17,17,17)",
            "gridcolor": "#506784",
            "gridwidth": 2,
            "linecolor": "#506784",
            "showbackground": true,
            "ticks": "",
            "zerolinecolor": "#C8D4E3"
           },
           "zaxis": {
            "backgroundcolor": "rgb(17,17,17)",
            "gridcolor": "#506784",
            "gridwidth": 2,
            "linecolor": "#506784",
            "showbackground": true,
            "ticks": "",
            "zerolinecolor": "#C8D4E3"
           }
          },
          "shapedefaults": {
           "line": {
            "color": "#f2f5fa"
           }
          },
          "sliderdefaults": {
           "bgcolor": "#C8D4E3",
           "bordercolor": "rgb(17,17,17)",
           "borderwidth": 1,
           "tickwidth": 0
          },
          "ternary": {
           "aaxis": {
            "gridcolor": "#506784",
            "linecolor": "#506784",
            "ticks": ""
           },
           "baxis": {
            "gridcolor": "#506784",
            "linecolor": "#506784",
            "ticks": ""
           },
           "bgcolor": "rgb(17,17,17)",
           "caxis": {
            "gridcolor": "#506784",
            "linecolor": "#506784",
            "ticks": ""
           }
          },
          "title": {
           "x": 0.05
          },
          "updatemenudefaults": {
           "bgcolor": "#506784",
           "borderwidth": 0
          },
          "xaxis": {
           "automargin": true,
           "gridcolor": "#283442",
           "linecolor": "#506784",
           "ticks": "",
           "title": {
            "standoff": 15
           },
           "zerolinecolor": "#283442",
           "zerolinewidth": 2
          },
          "yaxis": {
           "automargin": true,
           "gridcolor": "#283442",
           "linecolor": "#506784",
           "ticks": "",
           "title": {
            "standoff": 15
           },
           "zerolinecolor": "#283442",
           "zerolinewidth": 2
          }
         }
        },
        "title": {
         "text": "Top 10 suburbs with the most water companies"
        },
        "xaxis": {
         "anchor": "y",
         "domain": [
          0,
          1
         ],
         "title": {
          "text": "Suburb"
         }
        },
        "yaxis": {
         "anchor": "x",
         "domain": [
          0,
          1
         ],
         "title": {
          "text": "Number of water companies"
         }
        }
       }
      }
     },
     "metadata": {},
     "output_type": "display_data"
    }
   ],
   "source": [
    "fig = px.histogram(\n",
    "    data_frame=top_10_subs,\n",
    "    x=top_10_subs['townsuburb'].apply(lambda x: x.capitalize()),\n",
    "    y='n_companies',\n",
    "    template='plotly_dark',\n",
    ")\n",
    "fig.update_layout(\n",
    "    title='Top 10 suburbs with the most water companies',\n",
    "    xaxis_title='Suburb',\n",
    "    yaxis_title='Number of water companies',\n",
    ")\n",
    "fig.show()"
   ]
  },
  {
   "cell_type": "code",
   "execution_count": 16,
   "metadata": {},
   "outputs": [
    {
     "data": {
      "application/vnd.plotly.v1+json": {
       "config": {
        "plotlyServerURL": "https://plot.ly"
       },
       "data": [
        {
         "customdata": [
          [
           "Barwon Water"
          ],
          [
           "Barwon Water"
          ],
          [
           "Barwon Water"
          ],
          [
           "Barwon Water"
          ],
          [
           "Barwon Water"
          ],
          [
           "Barwon Water"
          ],
          [
           "Barwon Water"
          ],
          [
           "Barwon Water"
          ],
          [
           "Barwon Water"
          ],
          [
           "Barwon Water"
          ],
          [
           "Barwon Water"
          ],
          [
           "Barwon Water"
          ],
          [
           "Barwon Water"
          ],
          [
           "Barwon Water"
          ],
          [
           "Barwon Water"
          ],
          [
           "Barwon Water"
          ],
          [
           "Barwon Water"
          ],
          [
           "Barwon Water"
          ],
          [
           "Barwon Water"
          ],
          [
           "Barwon Water"
          ],
          [
           "Barwon Water"
          ],
          [
           "Barwon Water"
          ],
          [
           "Barwon Water"
          ],
          [
           "Barwon Water"
          ],
          [
           "Barwon Water"
          ],
          [
           "Barwon Water"
          ],
          [
           "Barwon Water"
          ],
          [
           "Barwon Water"
          ],
          [
           "Barwon Water"
          ],
          [
           "Barwon Water"
          ],
          [
           "Barwon Water"
          ],
          [
           "Barwon Water"
          ],
          [
           "Barwon Water"
          ],
          [
           "Barwon Water"
          ],
          [
           "Barwon Water"
          ],
          [
           "Barwon Water"
          ],
          [
           "Barwon Water"
          ],
          [
           "Barwon Water"
          ],
          [
           "Barwon Water"
          ],
          [
           "Barwon Water"
          ],
          [
           "Barwon Water"
          ],
          [
           "Barwon Water"
          ],
          [
           "Barwon Water"
          ],
          [
           "Barwon Water"
          ],
          [
           "Barwon Water"
          ],
          [
           "Barwon Water"
          ],
          [
           "Barwon Water"
          ],
          [
           "Barwon Water"
          ],
          [
           "Barwon Water"
          ],
          [
           "Barwon Water"
          ],
          [
           "Barwon Water"
          ],
          [
           "Barwon Water"
          ],
          [
           "Barwon Water"
          ],
          [
           "Barwon Water"
          ],
          [
           "Barwon Water"
          ],
          [
           "Barwon Water"
          ],
          [
           "Barwon Water"
          ],
          [
           "Barwon Water"
          ],
          [
           "Barwon Water"
          ],
          [
           "Barwon Water"
          ],
          [
           "Barwon Water"
          ],
          [
           "Barwon Water"
          ],
          [
           "Barwon Water"
          ],
          [
           "Barwon Water"
          ],
          [
           "Barwon Water"
          ],
          [
           "Barwon Water"
          ],
          [
           "Barwon Water"
          ],
          [
           "Barwon Water"
          ],
          [
           "Barwon Water"
          ],
          [
           "Barwon Water"
          ],
          [
           "Barwon Water"
          ],
          [
           "Barwon Water"
          ],
          [
           "Barwon Water"
          ],
          [
           "Barwon Water"
          ],
          [
           "Barwon Water"
          ],
          [
           "Barwon Water"
          ],
          [
           "Barwon Water"
          ],
          [
           "Barwon Water"
          ],
          [
           "Barwon Water"
          ],
          [
           "Barwon Water"
          ],
          [
           "Barwon Water"
          ],
          [
           "Barwon Water"
          ],
          [
           "Barwon Water"
          ],
          [
           "Barwon Water"
          ],
          [
           "Barwon Water"
          ],
          [
           "Barwon Water"
          ],
          [
           "Barwon Water"
          ],
          [
           "Barwon Water"
          ],
          [
           "Barwon Water"
          ],
          [
           "Barwon Water"
          ],
          [
           "Barwon Water"
          ],
          [
           "Barwon Water"
          ],
          [
           "Barwon Water"
          ],
          [
           "Barwon Water"
          ],
          [
           "Barwon Water"
          ],
          [
           "Barwon Water"
          ],
          [
           "Barwon Water"
          ],
          [
           "Barwon Water"
          ],
          [
           "Barwon Water"
          ],
          [
           "Barwon Water"
          ],
          [
           "Barwon Water"
          ],
          [
           "Barwon Water"
          ],
          [
           "Barwon Water"
          ],
          [
           "Barwon Water"
          ],
          [
           "Barwon Water"
          ],
          [
           "Barwon Water"
          ],
          [
           "Barwon Water"
          ],
          [
           "Barwon Water"
          ],
          [
           "Barwon Water"
          ],
          [
           "Barwon Water"
          ]
         ],
         "hovertemplate": "<b>%{hovertext}</b><br><br>water_company=%{customdata[0]}<br>lat=%{lat}<br>lon=%{lon}<extra></extra>",
         "hovertext": [
          "CONNEWARRE",
          "AIREYS INLET",
          "ALVIE",
          "ANAKIE",
          "ANGLESEA",
          "APOLLO BAY",
          "AVALON",
          "BAMBRA",
          "BAMGANIE",
          "BANNOCKBURN",
          "BAREENA",
          "BARRABOOL",
          "BARWON HEADS",
          "BATESFORD",
          "BEEAC",
          "BELL PARK",
          "BELL POST HILL",
          "BELLARINE",
          "BELLBRAE",
          "BELLS BEACH",
          "BELMONT",
          "BIRREGURRA",
          "BREAKWATER",
          "BREAMLEA",
          "BUCKLEY",
          "CERES",
          "CLIFTON SPRINGS",
          "COLAC",
          "CORAGULAC",
          "CORIO",
          "COROROOKE",
          "CRESSY",
          "CURLEWIS",
          "DEAKIN UNIVERSITY",
          "DRUMCONDRA",
          "DRYSDALE",
          "EAST GEELONG",
          "ELLIMINYT",
          "FAIRHAVEN",
          "FORREST",
          "FRESHWATER CREEK",
          "FYANSFORD",
          "GEELONG",
          "GEELONG WEST",
          "GELLIBRAND",
          "GHERANG",
          "GHERINGHAP",
          "GROVEDALE",
          "HAMLYN HEIGHTS",
          "HERNE HILL",
          "HIGHTON",
          "WINCHELSEA",
          "INDENTED HEAD",
          "INVERLEIGH",
          "IRREWARRA",
          "JAN JUC",
          "LARA",
          "LEOPOLD",
          "LETHBRIDGE",
          "LORNE",
          "LOVELY BANKS",
          "MANIFOLD HEIGHTS",
          "MANNERIM",
          "MARCUS HILL",
          "MARENGO",
          "MARSHALL",
          "MAUDE",
          "MEREDITH",
          "MODEWARRE",
          "MOOLAP",
          "MOORABOOL",
          "MORIAC",
          "MOUNT DUNEED",
          "MOUNT MORIAC",
          "MURGHEBOLUC",
          "NEWCOMB",
          "NEWTOWN",
          "NORLANE",
          "NORTH GEELONG",
          "NORTH SHORE",
          "OCEAN GROVE",
          "OMBERSLEY",
          "ONDIT",
          "POINT LONSDALE",
          "POINT WILSON",
          "PORTARLINGTON",
          "QUEENSCLIFF",
          "RIPPLESIDE",
          "RUSSELLS BRIDGE",
          "SHE OAKS",
          "SHELFORD",
          "SKENES CREEK",
          "SOUTH GEELONG",
          "ST ALBANS PARK",
          "ST LEONARDS",
          "STAUGHTON VALE",
          "STEIGLITZ",
          "STONEHAVEN",
          "SUTHERLANDS CREEK",
          "SWAN BAY",
          "TEESDALE",
          "THOMSON",
          "TORQUAY",
          "WALLINGTON",
          "WANDANA HEIGHTS",
          "WARRION",
          "WAURN PONDS",
          "WENSLEYDALE",
          "WHITTINGTON",
          "WURDIBOLUC"
         ],
         "lat": [
          -38.2640693,
          -38.4507109,
          -38.244444,
          -37.916667,
          -38.4096639,
          -38.75,
          -38.0568548,
          -38.3667365,
          -37.914215,
          -38.05,
          -38.15375,
          -38.1605382,
          -38.2739835,
          -38.0899186,
          -38.1772101,
          -38.11,
          -38.1,
          -38.132222,
          -38.333333,
          -38.366944,
          -38.173,
          -38.3065561,
          -38.182,
          -38.3,
          -38.2444345,
          -38.1590503,
          -38.1515545,
          -38.3410186,
          -38.263392,
          -38.074,
          -38.2962142,
          -38.0325875,
          -38.1767277,
          -38.1989,
          -38.132,
          -38.1809329,
          -38.162,
          -38.3733285,
          -38.456111,
          -38.516667,
          -38.270278,
          -38.1347924,
          -38.1499181,
          -38.133333,
          -38.5271333,
          -38.303611,
          -38.0719517,
          -38.2,
          -38.12,
          -38.1329,
          -38.171,
          -38.2437824,
          -38.138056,
          -38.1028946,
          -38.3167164,
          -38.333333,
          -38.016667,
          -38.1944438,
          -37.966667,
          -38.5366556,
          -38.066667,
          -38.14,
          -38.216667,
          -38.233333,
          -38.776141,
          -38.2024817,
          -37.9242637,
          -37.8667098,
          -38.266111,
          -38.183333,
          -38.0697484,
          -38.233333,
          -38.25,
          -38.2201027,
          -38.1048122,
          -38.17,
          -38.15,
          -38.092,
          -38.1093956,
          -38.099,
          -38.25,
          -38.2042916,
          -38.2420011,
          -38.283333,
          -38.0425432,
          -38.116667,
          -38.2677746,
          -38.1235549,
          -38.024133,
          -37.916667,
          -38.016667,
          -38.7101801,
          -38.1673819,
          -38.1954052,
          -38.166667,
          -37.8396872,
          -37.894512,
          -38.1288448,
          -38.0330078,
          -38.225833,
          -38.033333,
          -38.17,
          -38.333333,
          -38.2247017,
          -38.1768917,
          -38.216667,
          -38.208813,
          -38.3405232,
          -38.18,
          -38.289167
         ],
         "legendgroup": "Barwon Water",
         "lon": [
          144.4623088,
          144.1089345,
          143.515556,
          144.25,
          144.1825171,
          143.65,
          144.4225874,
          143.9448801,
          143.9872451,
          144.166667,
          144.3443056,
          144.2484344,
          144.4862111,
          144.2847434,
          143.6420207,
          144.338,
          144.328,
          144.619722,
          144.266667,
          144.284722,
          144.341,
          143.7952389,
          144.375,
          144.383333,
          144.0895595,
          144.2640892,
          144.5738608,
          143.5854622,
          143.5365131,
          144.359,
          143.5256956,
          143.6376138,
          144.5327632,
          144.2977,
          144.354,
          144.5985292,
          144.3802,
          143.5743866,
          144.085833,
          143.716667,
          144.248056,
          144.2906169,
          144.3617186,
          144.35,
          143.5453035,
          144.090556,
          144.2299712,
          144.35,
          144.32,
          144.3305,
          144.318,
          143.9943269,
          144.71,
          144.0398618,
          143.6444066,
          144.3,
          144.416667,
          144.4670924,
          144.133333,
          143.9715484,
          144.333333,
          144.33,
          144.583333,
          144.566667,
          143.6583166,
          144.3603806,
          144.1685956,
          144.1052241,
          144.121944,
          144.433333,
          144.2954452,
          144.166667,
          144.303611,
          144.191706,
          144.1290677,
          144.396,
          144.333,
          144.356,
          144.3521811,
          144.373,
          144.516667,
          143.8651496,
          143.6176937,
          144.6,
          144.5255221,
          144.65,
          144.6286897,
          144.3562807,
          144.1909483,
          144.133333,
          143.966667,
          143.7098032,
          144.3658474,
          144.393187,
          144.716667,
          144.2818364,
          144.1861997,
          144.2504403,
          144.2187155,
          144.643889,
          144.05,
          144.381,
          144.316667,
          144.510853,
          144.3002702,
          143.566667,
          144.2709146,
          144.0419036,
          144.39,
          144.051389
         ],
         "marker": {
          "color": "#ab63fa",
          "opacity": 0.8
         },
         "mode": "markers",
         "name": "Barwon Water",
         "showlegend": true,
         "subplot": "mapbox",
         "type": "scattermapbox"
        },
        {
         "customdata": [
          [
           "City West Water"
          ],
          [
           "City West Water"
          ],
          [
           "City West Water"
          ],
          [
           "City West Water"
          ],
          [
           "City West Water"
          ],
          [
           "City West Water"
          ],
          [
           "City West Water"
          ],
          [
           "City West Water"
          ],
          [
           "City West Water"
          ],
          [
           "City West Water"
          ],
          [
           "City West Water"
          ],
          [
           "City West Water"
          ],
          [
           "City West Water"
          ],
          [
           "City West Water"
          ],
          [
           "City West Water"
          ],
          [
           "City West Water"
          ],
          [
           "City West Water"
          ],
          [
           "City West Water"
          ],
          [
           "City West Water"
          ],
          [
           "City West Water"
          ],
          [
           "City West Water"
          ],
          [
           "City West Water"
          ],
          [
           "City West Water"
          ],
          [
           "City West Water"
          ],
          [
           "City West Water"
          ],
          [
           "City West Water"
          ],
          [
           "City West Water"
          ],
          [
           "City West Water"
          ],
          [
           "City West Water"
          ],
          [
           "City West Water"
          ],
          [
           "City West Water"
          ],
          [
           "City West Water"
          ],
          [
           "City West Water"
          ],
          [
           "City West Water"
          ],
          [
           "City West Water"
          ],
          [
           "City West Water"
          ],
          [
           "City West Water"
          ],
          [
           "City West Water"
          ],
          [
           "City West Water"
          ],
          [
           "City West Water"
          ],
          [
           "City West Water"
          ],
          [
           "City West Water"
          ],
          [
           "City West Water"
          ],
          [
           "City West Water"
          ],
          [
           "City West Water"
          ],
          [
           "City West Water"
          ],
          [
           "City West Water"
          ],
          [
           "City West Water"
          ],
          [
           "City West Water"
          ],
          [
           "City West Water"
          ],
          [
           "City West Water"
          ],
          [
           "City West Water"
          ],
          [
           "City West Water"
          ],
          [
           "City West Water"
          ],
          [
           "City West Water"
          ],
          [
           "City West Water"
          ],
          [
           "City West Water"
          ],
          [
           "City West Water"
          ],
          [
           "City West Water"
          ],
          [
           "City West Water"
          ],
          [
           "City West Water"
          ],
          [
           "City West Water"
          ],
          [
           "City West Water"
          ],
          [
           "City West Water"
          ],
          [
           "City West Water"
          ],
          [
           "City West Water"
          ],
          [
           "City West Water"
          ],
          [
           "City West Water"
          ],
          [
           "City West Water"
          ],
          [
           "City West Water"
          ],
          [
           "City West Water"
          ],
          [
           "City West Water"
          ],
          [
           "City West Water"
          ],
          [
           "City West Water"
          ],
          [
           "City West Water"
          ],
          [
           "City West Water"
          ],
          [
           "City West Water"
          ],
          [
           "City West Water"
          ],
          [
           "City West Water"
          ],
          [
           "City West Water"
          ],
          [
           "City West Water"
          ],
          [
           "City West Water"
          ],
          [
           "City West Water"
          ]
         ],
         "hovertemplate": "<b>%{hovertext}</b><br><br>water_company=%{customdata[0]}<br>lat=%{lat}<br>lon=%{lon}<extra></extra>",
         "hovertext": [
          "ABBOTSFORD",
          "ABERFELDIE",
          "AIRPORT WEST",
          "ALBANVALE",
          "ALBION",
          "ALTONA",
          "ALTONA MEADOWS",
          "ALTONA NORTH",
          "ARDEER",
          "ASCOT VALE",
          "AVONDALE HEIGHTS",
          "BRAYBROOK",
          "BROOKLYN",
          "BURNLEY",
          "BURNSIDE",
          "CAIRNLEA",
          "CARLTON",
          "CARLTON NORTH",
          "CAROLINE SPRINGS",
          "CLIFTON HILL",
          "COBURG",
          "COLLINGWOOD",
          "CREMORNE",
          "DEER PARK",
          "DELAHEY",
          "DERRIMUT",
          "DOCKLANDS",
          "EAST MELBOURNE",
          "ESSENDON",
          "ESSENDON NORTH",
          "ESSENDON WEST",
          "FITZROY",
          "FITZROY NORTH",
          "FLEMINGTON",
          "FOOTSCRAY",
          "HIGHPOINT CITY",
          "HILLSIDE",
          "HOPPERS CROSSING",
          "KEALBA",
          "KEILOR",
          "KEILOR DOWNS",
          "KEILOR EAST",
          "KEILOR NORTH",
          "KEILOR PARK",
          "KENSINGTON",
          "KINGS PARK",
          "KINGSVILLE",
          "LAVERTON",
          "LAVERTON NORTH",
          "LITTLE RIVER",
          "MAIDSTONE",
          "MARIBYRNONG",
          "MELBOURNE",
          "MELBOURNE",
          "MELBOURNE AIRPORT",
          "MOONEE PONDS",
          "NEWPORT",
          "NIDDRIE",
          "NORTH MELBOURNE",
          "PARKVILLE",
          "POINT COOK",
          "RICHMOND",
          "SEABROOK",
          "SEAHOLME",
          "SEDDON",
          "SOUTH KINGSVILLE",
          "SPOTSWOOD",
          "ST ALBANS",
          "STRATHMORE",
          "STRATHMORE HEIGHTS",
          "SUNSHINE",
          "SYDENHAM",
          "TAYLORS LAKES",
          "TOTTENHAM",
          "TRAVANCORE",
          "TULLAMARINE",
          "WERRIBEE",
          "WEST FOOTSCRAY",
          "WEST MELBOURNE",
          "WILLIAMSTOWN",
          "WYNDHAM VALE",
          "YARRAVILLE",
          "YARRAVILLE WEST"
         ],
         "lat": [
          -37.803,
          -37.762,
          -37.724,
          -37.746,
          -37.781,
          -37.868,
          -37.875,
          -37.841,
          -37.7776716,
          -37.779,
          -37.762,
          -37.786,
          -37.813,
          -37.8299258,
          -37.753,
          -37.757,
          -37.8001,
          -37.7890434,
          -37.745,
          -37.789,
          -37.741534,
          -37.8019,
          -37.83,
          -37.763,
          -37.719,
          -37.7854322,
          -37.817,
          -37.813,
          -37.749,
          -37.7383196,
          -37.755,
          -37.801111,
          -37.784,
          -37.785,
          -37.798,
          -37.4713077,
          -37.687,
          -37.869,
          -37.739,
          -37.712,
          -37.722,
          -37.741667,
          -37.68,
          -37.719,
          -37.791,
          -37.734,
          -37.809,
          -37.858,
          -37.83,
          -37.9672041,
          -37.783,
          -37.77,
          -37.8136276,
          -37.838525,
          -37.6875,
          -37.765,
          -37.842,
          -37.745,
          -37.799167,
          -37.788,
          -37.9178086,
          -37.823,
          -37.876,
          -37.868,
          -37.8055831,
          -37.8300643,
          -37.831,
          -37.736111,
          -37.734,
          -37.713,
          -37.781,
          -37.702,
          -37.701,
          -37.806,
          -37.778,
          -37.701,
          -37.9,
          -37.8020576,
          -37.808,
          -37.861,
          -37.89,
          -37.817,
          -37.815066
         ],
         "legendgroup": "City West Water",
         "lon": [
          145.002,
          144.901,
          144.879,
          144.765,
          144.8145,
          144.83,
          144.782,
          144.849,
          144.7988921,
          144.919,
          144.863,
          144.856,
          144.841,
          145.0176466,
          144.754,
          144.784,
          144.9671,
          144.9694441,
          144.74,
          144.999,
          144.96272,
          144.98815,
          144.993,
          144.767,
          144.777,
          144.7661531,
          144.946,
          144.985,
          144.912,
          144.8992556,
          144.883,
          144.978889,
          144.986,
          144.928,
          144.899,
          144.7851531,
          144.743,
          144.693,
          144.828,
          144.831,
          144.803,
          144.863056,
          144.784,
          144.851,
          144.931,
          144.772,
          144.878,
          144.773,
          144.785,
          144.5083099,
          144.878,
          144.893,
          144.9630576,
          144.975608,
          144.840556,
          144.92,
          144.884,
          144.886,
          144.946667,
          144.951,
          144.7477259,
          144.998,
          144.758,
          144.841,
          144.891002,
          144.8703715,
          144.887,
          144.803889,
          144.921,
          144.897,
          144.832,
          144.767,
          144.796,
          144.857,
          144.935,
          144.876,
          144.664,
          144.8703715,
          144.927,
          144.885,
          144.63,
          144.89,
          144.88526
         ],
         "marker": {
          "color": "#FFA15A",
          "opacity": 0.8
         },
         "mode": "markers",
         "name": "City West Water",
         "showlegend": true,
         "subplot": "mapbox",
         "type": "scattermapbox"
        },
        {
         "customdata": [
          [
           "Central Highlands Water"
          ],
          [
           "Central Highlands Water"
          ],
          [
           "Central Highlands Water"
          ],
          [
           "Central Highlands Water"
          ],
          [
           "Central Highlands Water"
          ],
          [
           "Central Highlands Water"
          ],
          [
           "Central Highlands Water"
          ],
          [
           "Central Highlands Water"
          ],
          [
           "Central Highlands Water"
          ],
          [
           "Central Highlands Water"
          ],
          [
           "Central Highlands Water"
          ],
          [
           "Central Highlands Water"
          ],
          [
           "Central Highlands Water"
          ],
          [
           "Central Highlands Water"
          ],
          [
           "Central Highlands Water"
          ],
          [
           "Central Highlands Water"
          ],
          [
           "Central Highlands Water"
          ],
          [
           "Central Highlands Water"
          ],
          [
           "Central Highlands Water"
          ],
          [
           "Central Highlands Water"
          ],
          [
           "Central Highlands Water"
          ],
          [
           "Central Highlands Water"
          ],
          [
           "Central Highlands Water"
          ],
          [
           "Central Highlands Water"
          ],
          [
           "Central Highlands Water"
          ],
          [
           "Central Highlands Water"
          ],
          [
           "Central Highlands Water"
          ],
          [
           "Central Highlands Water"
          ],
          [
           "Central Highlands Water"
          ],
          [
           "Central Highlands Water"
          ],
          [
           "Central Highlands Water"
          ],
          [
           "Central Highlands Water"
          ],
          [
           "Central Highlands Water"
          ],
          [
           "Central Highlands Water"
          ],
          [
           "Central Highlands Water"
          ],
          [
           "Central Highlands Water"
          ],
          [
           "Central Highlands Water"
          ],
          [
           "Central Highlands Water"
          ],
          [
           "Central Highlands Water"
          ],
          [
           "Central Highlands Water"
          ],
          [
           "Central Highlands Water"
          ],
          [
           "Central Highlands Water"
          ],
          [
           "Central Highlands Water"
          ],
          [
           "Central Highlands Water"
          ],
          [
           "Central Highlands Water"
          ],
          [
           "Central Highlands Water"
          ],
          [
           "Central Highlands Water"
          ],
          [
           "Central Highlands Water"
          ],
          [
           "Central Highlands Water"
          ],
          [
           "Central Highlands Water"
          ],
          [
           "Central Highlands Water"
          ],
          [
           "Central Highlands Water"
          ],
          [
           "Central Highlands Water"
          ],
          [
           "Central Highlands Water"
          ],
          [
           "Central Highlands Water"
          ],
          [
           "Central Highlands Water"
          ],
          [
           "Central Highlands Water"
          ],
          [
           "Central Highlands Water"
          ],
          [
           "Central Highlands Water"
          ],
          [
           "Central Highlands Water"
          ],
          [
           "Central Highlands Water"
          ],
          [
           "Central Highlands Water"
          ],
          [
           "Central Highlands Water"
          ],
          [
           "Central Highlands Water"
          ],
          [
           "Central Highlands Water"
          ],
          [
           "Central Highlands Water"
          ],
          [
           "Central Highlands Water"
          ],
          [
           "Central Highlands Water"
          ],
          [
           "Central Highlands Water"
          ],
          [
           "Central Highlands Water"
          ],
          [
           "Central Highlands Water"
          ],
          [
           "Central Highlands Water"
          ],
          [
           "Central Highlands Water"
          ],
          [
           "Central Highlands Water"
          ],
          [
           "Central Highlands Water"
          ],
          [
           "Central Highlands Water"
          ],
          [
           "Central Highlands Water"
          ],
          [
           "Central Highlands Water"
          ],
          [
           "Central Highlands Water"
          ],
          [
           "Central Highlands Water"
          ],
          [
           "Central Highlands Water"
          ],
          [
           "Central Highlands Water"
          ],
          [
           "Central Highlands Water"
          ],
          [
           "Central Highlands Water"
          ],
          [
           "Central Highlands Water"
          ],
          [
           "Central Highlands Water"
          ],
          [
           "Central Highlands Water"
          ],
          [
           "Central Highlands Water"
          ],
          [
           "Central Highlands Water"
          ],
          [
           "Central Highlands Water"
          ],
          [
           "Central Highlands Water"
          ],
          [
           "Central Highlands Water"
          ],
          [
           "Central Highlands Water"
          ],
          [
           "Central Highlands Water"
          ],
          [
           "Central Highlands Water"
          ],
          [
           "Central Highlands Water"
          ],
          [
           "Central Highlands Water"
          ],
          [
           "Central Highlands Water"
          ],
          [
           "Central Highlands Water"
          ],
          [
           "Central Highlands Water"
          ],
          [
           "Central Highlands Water"
          ],
          [
           "Central Highlands Water"
          ],
          [
           "Central Highlands Water"
          ],
          [
           "Central Highlands Water"
          ],
          [
           "Central Highlands Water"
          ],
          [
           "Central Highlands Water"
          ],
          [
           "Central Highlands Water"
          ],
          [
           "Central Highlands Water"
          ],
          [
           "Central Highlands Water"
          ],
          [
           "Central Highlands Water"
          ],
          [
           "Central Highlands Water"
          ],
          [
           "Central Highlands Water"
          ],
          [
           "Central Highlands Water"
          ],
          [
           "Central Highlands Water"
          ],
          [
           "Central Highlands Water"
          ],
          [
           "Central Highlands Water"
          ],
          [
           "Central Highlands Water"
          ],
          [
           "Central Highlands Water"
          ]
         ],
         "hovertemplate": "<b>%{hovertext}</b><br><br>water_company=%{customdata[0]}<br>lat=%{lat}<br>lon=%{lon}<extra></extra>",
         "hovertext": [
          "ADDINGTON",
          "ADELAIDE LEAD",
          "ALFREDTON",
          "ALLENDALE",
          "ALMA",
          "AMPHITHEATRE",
          "AVOCA",
          "BALLAN",
          "BALLARAT",
          "BALLARAT NORTH",
          "BALLARAT SOUTH",
          "BARRYS REEF",
          "BEAUFORT",
          "BERRINGA",
          "BET BET",
          "BETLEY",
          "BLACK HILL",
          "BLACKWOOD",
          "BOLWARRAH",
          "BONSHAW",
          "BOWENVALE",
          "BROOMFIELD",
          "BROWN HILL",
          "BULLAROOK",
          "BUNGAREE",
          "BUNINYONG",
          "BUNKERS HILL",
          "BURRUMBEET",
          "CAMBRIAN HILL",
          "CANADIAN",
          "CARDIGAN",
          "CARISBROOK",
          "CARNGHAM",
          "CHIPSTOW",
          "CLARENDON",
          "CLARKES HILL",
          "CLUNES",
          "CORINDHAP",
          "CRAIGIE",
          "CRESWICK",
          "DAISY HILL",
          "DAYLESFORD",
          "DEAN",
          "DELACOMBE",
          "DEREEL",
          "DURHAM LEAD",
          "ENFIELD",
          "EUREKA",
          "FLAGSTAFF",
          "FLAGSTAFF RIDGE HILL",
          "GLENMORE",
          "GOLDEN POINT",
          "GORDON",
          "HADDON",
          "HAVELOCK",
          "HEPBURN",
          "HILLCREST",
          "INVERMAY",
          "KINGSTON",
          "LAKE GARDENS",
          "LAL LAL",
          "LANDSBOROUGH",
          "LEARMONTH",
          "LEIGH CREEK",
          "LEXTON",
          "LINTON",
          "LITTLE BENDIGO",
          "MAGPIE",
          "MAJORCA",
          "MARYBOROUGH",
          "MINERS REST",
          "MITCHELL PARK",
          "MOONLIGHT FLAT",
          "MOUNT CLEAR",
          "MOUNT EGERTON",
          "MOUNT HELEN",
          "MOUNT PLEASANT",
          "MOUNT ROWAN",
          "NAPOLEONS",
          "NAVARRE",
          "NAVIGATORS",
          "NERRINA",
          "NEWINGTON",
          "NEWLYN",
          "NEWLYN NORTH",
          "NINTINGBOOL",
          "PITTONG",
          "POOTILLA",
          "RAGLAN",
          "REDAN",
          "REDBANK",
          "RODBOROUGH",
          "ROKEWOOD",
          "ROSS CREEK",
          "ROWSLEY",
          "SCARSDALE",
          "SEBASTOPOL",
          "SIMSON",
          "SKIPTON",
          "SMEATON",
          "SMYTHES CREEK",
          "SMYTHESDALE",
          "SNAKE VALLEY",
          "SOLDIERS HILL",
          "SPRING HILL",
          "SPRINGBANK",
          "SPRINGMOUNT",
          "TALBOT",
          "TIMOR",
          "TIMOR WEST",
          "WALLACE",
          "WARRENHEIP",
          "WAUBRA",
          "WENDOUREE",
          "WERNETH",
          "WINDERMERE",
          "WOODMANS HILL",
          "YENDON"
         ],
         "lat": [
          -37.383333,
          -37.0838207,
          -37.555,
          -37.366667,
          -37.027222,
          -37.1878175,
          -37.088056,
          -37.6146129,
          -37.5621587,
          -37.5397,
          -37.570139,
          -37.4562523,
          -37.4228524,
          -37.7760414,
          -36.9217288,
          -36.9182683,
          -37.5502577,
          -37.4834268,
          -37.5207531,
          -37.6034859,
          -36.9961863,
          -37.3862675,
          -37.5495,
          -37.5295427,
          -37.557222,
          -37.650278,
          -37.5705876,
          -37.5093344,
          -37.6438973,
          -37.576,
          -37.538708,
          -37.048056,
          -37.5769958,
          -37.616101,
          -37.701411,
          -37.4968556,
          -37.296,
          -37.8704673,
          -37.0952972,
          -37.4241222,
          -37.1132303,
          -37.35,
          -37.4488929,
          -37.589,
          -37.8247291,
          -37.6882095,
          -37.7255403,
          -37.5648,
          -37.05,
          -37.67209,
          -37.7128105,
          -37.574,
          -37.583333,
          -37.588333,
          -36.9604672,
          -37.3118233,
          -37.6155727,
          -37.502394,
          -37.366667,
          -37.546,
          -37.6801093,
          -37.0325896,
          -37.4221835,
          -37.5622875,
          -37.2792586,
          -37.683333,
          -37.543149,
          -37.6275666,
          -37.1283598,
          -37.0473301,
          -37.4717252,
          -37.5089391,
          -37.052382,
          -37.602,
          -37.616667,
          -37.6297878,
          -37.581,
          -37.5029337,
          -37.683333,
          -36.9436225,
          -37.6172482,
          -37.533,
          -37.5655288,
          -37.416944,
          -37.3926739,
          -37.6125783,
          -37.6760324,
          -37.526444,
          -37.3590952,
          -37.577,
          -36.9565463,
          -37.1048821,
          -37.9,
          -37.649799,
          -37.7216385,
          -37.678333,
          -37.585278,
          -36.9948936,
          -37.6847168,
          -37.333333,
          -37.5941229,
          -37.6333464,
          -37.611944,
          -37.55,
          -37.296477,
          -37.5235787,
          -37.4130869,
          -37.166667,
          -36.984167,
          -36.9642713,
          -37.5608219,
          -37.575,
          -37.3629556,
          -37.532,
          -37.9291695,
          -37.5137333,
          -37.55642,
          -37.6445852
         ],
         "legendgroup": "Central Highlands Water",
         "lon": [
          143.683333,
          143.679125,
          143.8,
          143.933333,
          143.677778,
          143.4682535,
          143.473889,
          144.2415697,
          143.8502556,
          143.8676,
          143.847761,
          144.3193914,
          143.3703651,
          143.6840179,
          143.7531872,
          143.7965958,
          143.875336,
          144.3026601,
          144.0830163,
          143.8155947,
          143.698961,
          143.905224,
          143.9125,
          143.9988766,
          144.004444,
          143.883889,
          143.7423389,
          143.6783343,
          143.8183092,
          143.877,
          143.7457289,
          143.816944,
          143.5639019,
          143.504808,
          143.9813542,
          143.9813542,
          143.786,
          143.749458,
          143.7820105,
          143.8912368,
          143.7261205,
          144.15,
          143.9956369,
          143.814,
          143.7562257,
          143.8780526,
          143.803634,
          143.8822,
          143.775,
          143.5194058,
          144.3122204,
          143.868,
          144.1,
          143.699444,
          143.7720261,
          144.125661,
          143.6339403,
          143.8780526,
          143.95,
          143.82,
          144.0099222,
          143.1561318,
          143.7120932,
          143.9623147,
          143.5156517,
          143.566667,
          143.894678,
          143.8508908,
          143.79049,
          143.7446068,
          143.7911684,
          143.7747951,
          143.684042,
          143.868,
          144.1,
          143.8834861,
          143.853,
          143.8400287,
          143.833333,
          143.1151106,
          143.9269679,
          143.903,
          143.8264533,
          143.983056,
          144.0031194,
          143.7233581,
          143.4476526,
          143.9595951,
          143.3332684,
          143.844,
          143.3503162,
          143.9012866,
          143.716667,
          143.7694626,
          144.376119,
          143.676111,
          143.839444,
          143.7748884,
          143.3643289,
          143.95,
          143.7694626,
          143.6887979,
          143.584444,
          143.858,
          144.3576473,
          144.0575587,
          143.9351234,
          143.7,
          143.709167,
          143.6698303,
          144.0575587,
          143.923,
          143.6400336,
          143.823,
          143.6241243,
          143.720308,
          143.907289,
          143.9650343
         ],
         "marker": {
          "color": "#19d3f3",
          "opacity": 0.8
         },
         "mode": "markers",
         "name": "Central Highlands Water",
         "showlegend": true,
         "subplot": "mapbox",
         "type": "scattermapbox"
        },
        {
         "customdata": [
          [
           "South Gippsland Water"
          ],
          [
           "South Gippsland Water"
          ],
          [
           "South Gippsland Water"
          ],
          [
           "South Gippsland Water"
          ],
          [
           "South Gippsland Water"
          ],
          [
           "South Gippsland Water"
          ],
          [
           "South Gippsland Water"
          ],
          [
           "South Gippsland Water"
          ],
          [
           "South Gippsland Water"
          ],
          [
           "South Gippsland Water"
          ],
          [
           "South Gippsland Water"
          ],
          [
           "South Gippsland Water"
          ],
          [
           "South Gippsland Water"
          ],
          [
           "South Gippsland Water"
          ],
          [
           "South Gippsland Water"
          ],
          [
           "South Gippsland Water"
          ],
          [
           "South Gippsland Water"
          ],
          [
           "South Gippsland Water"
          ],
          [
           "South Gippsland Water"
          ],
          [
           "South Gippsland Water"
          ],
          [
           "South Gippsland Water"
          ],
          [
           "South Gippsland Water"
          ],
          [
           "South Gippsland Water"
          ],
          [
           "South Gippsland Water"
          ],
          [
           "South Gippsland Water"
          ]
         ],
         "hovertemplate": "<b>%{hovertext}</b><br><br>water_company=%{customdata[0]}<br>lat=%{lat}<br>lon=%{lon}<extra></extra>",
         "hovertext": [
          "AGNES",
          "ALBERTON",
          "BARRY BEACH",
          "BENNISON",
          "CAPE PATERSON",
          "DEVON NORTH",
          "DUMBALK",
          "FISH CREEK",
          "FOSTER",
          "HEDLEY",
          "INVERLOCH",
          "KOONWARRA",
          "KORUMBURRA",
          "LEONGATHA",
          "LOCH",
          "MEENIYAN",
          "NYORA",
          "POOWONG",
          "PORT ALBERT",
          "PORT FRANKLIN",
          "PORT WELSHPOOL",
          "TOORA",
          "WELSHPOOL",
          "WONTHAGGI",
          "YARRAM"
         ],
         "lat": [
          -38.6577757,
          -38.616667,
          -38.710362,
          -38.6707482,
          -38.6717,
          -38.5188799,
          -38.533889,
          -38.7043519,
          -38.65,
          -38.6436473,
          -38.6334,
          -38.547222,
          -38.4378364,
          -38.4740327,
          -38.3738374,
          -38.5835106,
          -38.3329,
          -38.35,
          -38.665278,
          -38.683333,
          -38.699722,
          -38.6597789,
          -38.666667,
          -38.6089501,
          -38.565594
         ],
         "legendgroup": "South Gippsland Water",
         "lon": [
          146.3819528,
          146.666667,
          146.387372,
          146.2733747,
          145.6198,
          146.6436701,
          146.094444,
          146.087727,
          146.2,
          146.4936982,
          145.7278,
          145.946944,
          145.8150854,
          145.9436663,
          145.6877037,
          146.013851,
          145.6698,
          145.75,
          146.688333,
          146.283333,
          146.464722,
          146.3041191,
          146.433333,
          145.5911028,
          146.6751045
         ],
         "marker": {
          "color": "#FF6692",
          "opacity": 0.8
         },
         "mode": "markers",
         "name": "South Gippsland Water",
         "showlegend": true,
         "subplot": "mapbox",
         "type": "scattermapbox"
        },
        {
         "customdata": [
          [
           "South East Water"
          ],
          [
           "South East Water"
          ],
          [
           "South East Water"
          ],
          [
           "South East Water"
          ],
          [
           "South East Water"
          ],
          [
           "South East Water"
          ],
          [
           "South East Water"
          ],
          [
           "South East Water"
          ],
          [
           "South East Water"
          ],
          [
           "South East Water"
          ],
          [
           "South East Water"
          ],
          [
           "South East Water"
          ],
          [
           "South East Water"
          ],
          [
           "South East Water"
          ],
          [
           "South East Water"
          ],
          [
           "South East Water"
          ],
          [
           "South East Water"
          ],
          [
           "South East Water"
          ],
          [
           "South East Water"
          ],
          [
           "South East Water"
          ],
          [
           "South East Water"
          ],
          [
           "South East Water"
          ],
          [
           "South East Water"
          ],
          [
           "South East Water"
          ],
          [
           "South East Water"
          ],
          [
           "South East Water"
          ],
          [
           "South East Water"
          ],
          [
           "South East Water"
          ],
          [
           "South East Water"
          ],
          [
           "South East Water"
          ],
          [
           "South East Water"
          ],
          [
           "South East Water"
          ],
          [
           "South East Water"
          ],
          [
           "South East Water"
          ],
          [
           "South East Water"
          ],
          [
           "South East Water"
          ],
          [
           "South East Water"
          ],
          [
           "South East Water"
          ],
          [
           "South East Water"
          ],
          [
           "South East Water"
          ],
          [
           "South East Water"
          ],
          [
           "South East Water"
          ],
          [
           "South East Water"
          ],
          [
           "South East Water"
          ],
          [
           "South East Water"
          ],
          [
           "South East Water"
          ],
          [
           "South East Water"
          ],
          [
           "South East Water"
          ],
          [
           "South East Water"
          ],
          [
           "South East Water"
          ],
          [
           "South East Water"
          ],
          [
           "South East Water"
          ],
          [
           "South East Water"
          ],
          [
           "South East Water"
          ],
          [
           "South East Water"
          ],
          [
           "South East Water"
          ],
          [
           "South East Water"
          ],
          [
           "South East Water"
          ],
          [
           "South East Water"
          ],
          [
           "South East Water"
          ],
          [
           "South East Water"
          ],
          [
           "South East Water"
          ],
          [
           "South East Water"
          ],
          [
           "South East Water"
          ],
          [
           "South East Water"
          ],
          [
           "South East Water"
          ],
          [
           "South East Water"
          ],
          [
           "South East Water"
          ],
          [
           "South East Water"
          ],
          [
           "South East Water"
          ],
          [
           "South East Water"
          ],
          [
           "South East Water"
          ],
          [
           "South East Water"
          ],
          [
           "South East Water"
          ],
          [
           "South East Water"
          ],
          [
           "South East Water"
          ],
          [
           "South East Water"
          ],
          [
           "South East Water"
          ],
          [
           "South East Water"
          ],
          [
           "South East Water"
          ],
          [
           "South East Water"
          ],
          [
           "South East Water"
          ],
          [
           "South East Water"
          ],
          [
           "South East Water"
          ],
          [
           "South East Water"
          ],
          [
           "South East Water"
          ],
          [
           "South East Water"
          ],
          [
           "South East Water"
          ],
          [
           "South East Water"
          ],
          [
           "South East Water"
          ],
          [
           "South East Water"
          ],
          [
           "South East Water"
          ],
          [
           "South East Water"
          ],
          [
           "South East Water"
          ],
          [
           "South East Water"
          ],
          [
           "South East Water"
          ],
          [
           "South East Water"
          ],
          [
           "South East Water"
          ],
          [
           "South East Water"
          ],
          [
           "South East Water"
          ],
          [
           "South East Water"
          ],
          [
           "South East Water"
          ],
          [
           "South East Water"
          ],
          [
           "South East Water"
          ],
          [
           "South East Water"
          ],
          [
           "South East Water"
          ],
          [
           "South East Water"
          ],
          [
           "South East Water"
          ],
          [
           "South East Water"
          ],
          [
           "South East Water"
          ],
          [
           "South East Water"
          ],
          [
           "South East Water"
          ],
          [
           "South East Water"
          ],
          [
           "South East Water"
          ],
          [
           "South East Water"
          ],
          [
           "South East Water"
          ],
          [
           "South East Water"
          ],
          [
           "South East Water"
          ],
          [
           "South East Water"
          ],
          [
           "South East Water"
          ],
          [
           "South East Water"
          ],
          [
           "South East Water"
          ],
          [
           "South East Water"
          ],
          [
           "South East Water"
          ],
          [
           "South East Water"
          ],
          [
           "South East Water"
          ],
          [
           "South East Water"
          ],
          [
           "South East Water"
          ],
          [
           "South East Water"
          ],
          [
           "South East Water"
          ],
          [
           "South East Water"
          ],
          [
           "South East Water"
          ],
          [
           "South East Water"
          ],
          [
           "South East Water"
          ],
          [
           "South East Water"
          ],
          [
           "South East Water"
          ],
          [
           "South East Water"
          ],
          [
           "South East Water"
          ],
          [
           "South East Water"
          ],
          [
           "South East Water"
          ],
          [
           "South East Water"
          ],
          [
           "South East Water"
          ],
          [
           "South East Water"
          ],
          [
           "South East Water"
          ],
          [
           "South East Water"
          ],
          [
           "South East Water"
          ],
          [
           "South East Water"
          ],
          [
           "South East Water"
          ],
          [
           "South East Water"
          ],
          [
           "South East Water"
          ],
          [
           "South East Water"
          ]
         ],
         "hovertemplate": "<b>%{hovertext}</b><br><br>water_company=%{customdata[0]}<br>lat=%{lat}<br>lon=%{lon}<extra></extra>",
         "hovertext": [
          "ALBERT PARK",
          "ARMADALE",
          "ASPENDALE",
          "ASPENDALE GARDENS",
          "BALACLAVA",
          "BALNARRING",
          "BANGHOLME",
          "BAXTER",
          "BAYSWATER",
          "BEACONSFIELD",
          "BEACONSFIELD UPPER",
          "BEAUMARIS",
          "BELGRAVE",
          "BENTLEIGH",
          "BENTLEIGH EAST",
          "BERWICK",
          "BITTERN",
          "BLACK ROCK",
          "BLAIRGOWRIE",
          "BLIND BIGHT",
          "BONBEACH",
          "BORONIA",
          "BRAESIDE",
          "BRIGHTON",
          "BRIGHTON EAST",
          "BUNYIP",
          "CANNONS CREEK",
          "CARNEGIE",
          "CARRUM",
          "CARRUM DOWNS",
          "CAULFIELD",
          "CAULFIELD NORTH",
          "CAULFIELD SOUTH",
          "CHELSEA",
          "CHELSEA HEIGHTS",
          "CHELTENHAM",
          "CLARINDA",
          "CLAYTON SOUTH",
          "CLYDE",
          "CRANBOURNE",
          "CRANBOURNE NORTH",
          "CRANBOURNE SOUTH",
          "CRIB POINT",
          "DANDENONG",
          "DANDENONG SOUTH",
          "DEVON MEADOWS",
          "DINGLEY VILLAGE",
          "DOVETON",
          "DROMANA",
          "EDITHVALE",
          "ELSTERNWICK",
          "ELWOOD",
          "ENDEAVOUR HILLS",
          "FERNTREE GULLY",
          "FLINDERS",
          "FRANKSTON",
          "FRANKSTON NORTH",
          "GARDENVALE",
          "GARFIELD",
          "GLEN HUNTLY",
          "GUYS HILL",
          "HALLAM",
          "HAMPTON",
          "HAMPTON EAST",
          "HAMPTON PARK",
          "HARKAWAY",
          "HASTINGS",
          "HEATHERTON",
          "HIGHETT",
          "HMAS CERBERUS",
          "HUGHESDALE",
          "HUNTINGDALE",
          "KEYSBOROUGH",
          "KNOXFIELD",
          "KOO WEE RUP",
          "LANG LANG",
          "LANGWARRIN",
          "LONGWARRY",
          "LYNBROOK",
          "LYNDHURST",
          "LYSTERFIELD",
          "MALVERN",
          "MCCRAE",
          "MCKINNON",
          "MENTONE",
          "MERRICKS",
          "MERRICKS BEACH",
          "MIDDLE PARK",
          "MONOMEITH",
          "MOORABBIN",
          "MOORABBIN AIRPORT",
          "MOORABBIN EAST",
          "MOOROODUC",
          "MORDIALLOC",
          "MORNINGTON",
          "MOUNT ELIZA",
          "MOUNT MARTHA",
          "MULGRAVE",
          "MURRUMBEENA",
          "NAR NAR GOON",
          "NARRE WARREN",
          "NARRE WARREN NORTH",
          "NOBLE PARK",
          "NOBLE PARK NORTH",
          "OAKLEIGH",
          "OAKLEIGH SOUTH",
          "OFFICER",
          "ORMOND",
          "PAKENHAM",
          "PARKDALE",
          "PATTERSON LAKES",
          "PEARCEDALE",
          "PORT MELBOURNE",
          "PORTSEA",
          "PRAHRAN",
          "RIPPONLEA",
          "ROSEBUD",
          "ROSEBUD WEST",
          "ROWVILLE",
          "RYE",
          "SAFETY BEACH",
          "SANDHURST",
          "SANDRINGHAM",
          "SCORESBY",
          "SEAFORD",
          "SELBY",
          "SHOREHAM",
          "SKYE",
          "SOMERS",
          "SOMERVILLE",
          "SORRENTO",
          "SOUTH MELBOURNE",
          "SOUTH YARRA",
          "SOUTHBANK",
          "SPRINGVALE",
          "SPRINGVALE SOUTH",
          "ST KILDA",
          "ST KILDA EAST",
          "ST KILDA WEST",
          "TECOMA",
          "THE BASIN",
          "TOORADIN",
          "TOOTGAROOK",
          "TYABB",
          "TYNONG",
          "UPPER FERNTREE GULLY",
          "UPWEY",
          "WANTIRNA",
          "WANTIRNA SOUTH",
          "WATERWAYS",
          "WINDSOR"
         ],
         "lat": [
          -37.842,
          -37.856,
          -38.025,
          -38.022778,
          -37.873,
          -38.371,
          -38.049,
          -38.196,
          -37.843,
          -38.049,
          -37.9982063,
          -37.983,
          -37.913067,
          -37.922,
          -37.921,
          -38.031,
          -38.339,
          -37.972,
          -38.36,
          -38.2138627,
          -38.062,
          -37.862,
          -38,
          -37.905,
          -37.916,
          -38.1000508,
          -38.213,
          -37.888,
          -38.076,
          -38.096,
          -37.884,
          -37.873,
          -37.891,
          -38.051111,
          -38.047,
          -37.967,
          -37.941,
          -37.947,
          -38.132,
          -38.105,
          -38.07,
          -38.1581064,
          -38.363,
          -37.981,
          -38.031,
          -38.162,
          -37.981,
          -37.988,
          -38.338,
          -38.037,
          -37.887,
          -37.884,
          -37.969,
          -37.8862,
          -38.474,
          -38.158,
          -38.123,
          -37.899,
          -38.0999051,
          -37.8927437,
          -38.017,
          -38.009,
          -37.937,
          -37.939,
          -38.029,
          -37.999,
          -38.306,
          -37.95,
          -37.95,
          -38.3813207,
          -37.895,
          -37.9084344,
          -37.989,
          -37.891,
          -38.198,
          -38.266667,
          -38.151,
          -38.1110794,
          -38.05,
          -38.0704681,
          -37.93,
          -37.858,
          -38.351,
          -37.91,
          -37.985,
          -38.39,
          -38.398,
          -37.851944,
          -38.2155589,
          -37.941,
          -37.9786237,
          -37.941,
          -38.247,
          -37.999,
          -38.228,
          -38.189,
          -38.267,
          -37.929,
          -37.899,
          -38.081944,
          -38.018,
          -37.982,
          -37.967,
          -37.942,
          -37.9030702,
          -37.917,
          -38.058056,
          -37.902081,
          -38.073568,
          -37.991,
          -38.0742262,
          -38.203,
          -37.823889,
          -38.32,
          -37.852,
          -37.8784934,
          -38.356,
          -38.377,
          -37.937,
          -38.377,
          -38.322,
          -38.081,
          -37.9525,
          -37.894,
          -38.105,
          -37.914,
          -38.427,
          -38.119,
          -38.393,
          -38.226,
          -38.338889,
          -37.835,
          -37.84,
          -37.829,
          -37.947,
          -37.977,
          -37.864,
          -37.862,
          -37.8604,
          -37.906,
          -37.86,
          -38.211111,
          -38.374,
          -38.259,
          -38.083333,
          -37.895,
          -37.904,
          -37.844,
          -37.881,
          -38.0147634,
          -37.854
         ],
         "legendgroup": "South East Water",
         "lon": [
          144.95,
          145.022,
          145.104,
          145.118889,
          144.993,
          145.118,
          145.166,
          145.157,
          145.267,
          145.371,
          145.4237893,
          145.0434,
          145.3518,
          145.036,
          145.067,
          145.344,
          145.175,
          145.021,
          144.769,
          145.339912,
          145.12,
          145.286,
          145.125,
          144.996,
          145.015,
          145.7189396,
          145.315,
          145.062,
          145.122,
          145.178,
          145.0266,
          145.025,
          145.026,
          145.121944,
          145.137,
          145.068,
          145.103,
          145.123,
          145.327,
          145.279,
          145.291,
          145.2535448,
          145.202,
          145.215,
          145.215,
          145.303,
          145.128,
          145.239,
          144.965,
          145.113,
          145.006,
          144.986,
          145.2558,
          145.2821,
          145.022,
          145.135,
          145.153,
          145.007,
          145.6800684,
          145.0410692,
          145.386,
          145.268,
          145.009,
          145.031,
          145.26,
          145.344,
          145.189,
          145.085,
          145.05,
          145.1983285,
          145.084,
          145.1086176,
          145.172,
          145.248,
          145.489,
          145.566667,
          145.181,
          145.7663288,
          145.252,
          145.2424941,
          145.301,
          145.035,
          144.922,
          145.039,
          145.068889,
          145.089,
          145.106,
          144.963056,
          145.5378941,
          145.058,
          145.1017225,
          145.0595,
          145.105,
          145.092,
          145.062,
          145.092,
          145.018,
          145.174,
          145.072,
          145.575,
          145.3,
          145.314,
          145.176,
          145.19,
          145.0962067,
          145.09,
          145.408889,
          145.0410692,
          145.4851308,
          145.08,
          145.1431018,
          145.231,
          144.911111,
          144.713,
          144.998,
          144.9956077,
          144.918,
          144.872,
          145.229,
          144.838,
          144.986,
          145.207,
          145.012311,
          145.234,
          145.132,
          145.369,
          145.05,
          145.2,
          145.163,
          145.177,
          144.740833,
          144.96,
          144.989,
          144.957,
          145.153,
          145.157,
          144.982,
          144.997,
          144.9732,
          145.344,
          145.314,
          145.38,
          144.849,
          145.189,
          145.616667,
          145.31,
          145.33,
          145.229,
          145.224,
          145.1305169,
          144.988
         ],
         "marker": {
          "color": "#B6E880",
          "opacity": 0.8
         },
         "mode": "markers",
         "name": "South East Water",
         "showlegend": true,
         "subplot": "mapbox",
         "type": "scattermapbox"
        },
        {
         "customdata": [
          [
           "Goulburn Valley Water"
          ],
          [
           "Goulburn Valley Water"
          ],
          [
           "Goulburn Valley Water"
          ],
          [
           "Goulburn Valley Water"
          ],
          [
           "Goulburn Valley Water"
          ],
          [
           "Goulburn Valley Water"
          ],
          [
           "Goulburn Valley Water"
          ],
          [
           "Goulburn Valley Water"
          ],
          [
           "Goulburn Valley Water"
          ],
          [
           "Goulburn Valley Water"
          ],
          [
           "Goulburn Valley Water"
          ],
          [
           "Goulburn Valley Water"
          ],
          [
           "Goulburn Valley Water"
          ],
          [
           "Goulburn Valley Water"
          ],
          [
           "Goulburn Valley Water"
          ],
          [
           "Goulburn Valley Water"
          ],
          [
           "Goulburn Valley Water"
          ],
          [
           "Goulburn Valley Water"
          ],
          [
           "Goulburn Valley Water"
          ],
          [
           "Goulburn Valley Water"
          ],
          [
           "Goulburn Valley Water"
          ],
          [
           "Goulburn Valley Water"
          ],
          [
           "Goulburn Valley Water"
          ],
          [
           "Goulburn Valley Water"
          ],
          [
           "Goulburn Valley Water"
          ],
          [
           "Goulburn Valley Water"
          ],
          [
           "Goulburn Valley Water"
          ],
          [
           "Goulburn Valley Water"
          ],
          [
           "Goulburn Valley Water"
          ],
          [
           "Goulburn Valley Water"
          ],
          [
           "Goulburn Valley Water"
          ],
          [
           "Goulburn Valley Water"
          ],
          [
           "Goulburn Valley Water"
          ],
          [
           "Goulburn Valley Water"
          ],
          [
           "Goulburn Valley Water"
          ],
          [
           "Goulburn Valley Water"
          ],
          [
           "Goulburn Valley Water"
          ],
          [
           "Goulburn Valley Water"
          ],
          [
           "Goulburn Valley Water"
          ],
          [
           "Goulburn Valley Water"
          ],
          [
           "Goulburn Valley Water"
          ],
          [
           "Goulburn Valley Water"
          ],
          [
           "Goulburn Valley Water"
          ],
          [
           "Goulburn Valley Water"
          ],
          [
           "Goulburn Valley Water"
          ],
          [
           "Goulburn Valley Water"
          ],
          [
           "Goulburn Valley Water"
          ],
          [
           "Goulburn Valley Water"
          ],
          [
           "Goulburn Valley Water"
          ],
          [
           "Goulburn Valley Water"
          ],
          [
           "Goulburn Valley Water"
          ]
         ],
         "hovertemplate": "<b>%{hovertext}</b><br><br>water_company=%{customdata[0]}<br>lat=%{lat}<br>lon=%{lon}<extra></extra>",
         "hovertext": [
          "ALEXANDRA",
          "AVENEL",
          "BARMAH",
          "BONNIE DOON",
          "BROADFORD",
          "BUXTON",
          "COBRAM",
          "COLBINABBIN",
          "CONGUPNA",
          "DOOKIE",
          "EILDON",
          "EUROA",
          "GIRGARRE",
          "HEATHCOTE JUNCTION",
          "KATAMATITE",
          "KATANDRA WEST",
          "KATUNGA",
          "KILMORE",
          "KILMORE EAST",
          "KYABRAM",
          "LONGWOOD",
          "MANGALORE",
          "MANSFIELD",
          "MARYSVILLE",
          "MERRIGUM",
          "MERRIJIG",
          "MOOROOPNA",
          "MURCHISON",
          "NAGAMBIE",
          "NATHALIA",
          "NUMURKAH",
          "PICOLA",
          "PYALONG",
          "RUSHWORTH",
          "SEYMOUR",
          "SHEPPARTON",
          "STANHOPE",
          "STRATHMERTON",
          "TALLAROOK",
          "TALLYGAROOPNA",
          "TATURA",
          "THORNTON",
          "TONGALA",
          "TOOLAMBA",
          "TRAWOOL",
          "VIOLET TOWN",
          "WANDONG",
          "WANDONG WEST",
          "WUNGHNU",
          "YARROWEYAH",
          "YEA"
         ],
         "lat": [
          -37.1943946,
          -36.9,
          -36.0175,
          -37.0868493,
          -37.2110528,
          -37.4363851,
          -35.966667,
          -36.6083452,
          -36.3,
          -36.3117549,
          -37.2342952,
          -36.75,
          -36.4064638,
          -37.3853254,
          -36.0527793,
          -36.2260077,
          -36.016667,
          -37.3016566,
          -37.2930364,
          -36.3139409,
          -36.8488197,
          -36.8908218,
          -37.0625288,
          -37.5083939,
          -36.3787995,
          -37.0831709,
          -36.383333,
          -36.616667,
          -36.7802263,
          -36.058333,
          -36.0883415,
          -36.0113631,
          -37.116667,
          -36.6265235,
          -37.0160797,
          -36.383333,
          -36.4388545,
          -35.9401904,
          -37.1144599,
          -36.2456008,
          -36.4366557,
          -37.2605102,
          -36.2455668,
          -36.4999437,
          -37.1089414,
          -36.6372041,
          -37.336023,
          -37.336023,
          -36.1576304,
          -35.933333,
          -37.2229373
         ],
         "legendgroup": "Goulburn Valley Water",
         "lon": [
          145.7080742,
          145.233333,
          144.965278,
          145.8615582,
          145.063089,
          145.711384,
          145.65,
          144.7724465,
          145.433333,
          145.7104485,
          145.897646,
          145.566667,
          144.9618719,
          145.0438252,
          145.6835389,
          145.5690835,
          145.466667,
          144.9497232,
          144.9811479,
          145.0468064,
          145.4080574,
          145.164489,
          146.0821493,
          145.7474205,
          145.1286167,
          146.2745848,
          145.35,
          145.216667,
          145.1528312,
          145.203611,
          145.442323,
          145.1324102,
          144.85,
          145.0672551,
          145.1619887,
          145.4,
          144.9883506,
          145.4762409,
          145.0893126,
          145.4240988,
          145.2328259,
          145.8349846,
          144.9577866,
          145.3357789,
          145.215564,
          145.7141065,
          145.0399797,
          145.0399797,
          145.4243197,
          145.55,
          145.4070195
         ],
         "marker": {
          "color": "#FF97FF",
          "opacity": 0.8
         },
         "mode": "markers",
         "name": "Goulburn Valley Water",
         "showlegend": true,
         "subplot": "mapbox",
         "type": "scattermapbox"
        },
        {
         "customdata": [
          [
           "Wannon Water"
          ],
          [
           "Wannon Water"
          ],
          [
           "Wannon Water"
          ],
          [
           "Wannon Water"
          ],
          [
           "Wannon Water"
          ],
          [
           "Wannon Water"
          ],
          [
           "Wannon Water"
          ],
          [
           "Wannon Water"
          ],
          [
           "Wannon Water"
          ],
          [
           "Wannon Water"
          ],
          [
           "Wannon Water"
          ],
          [
           "Wannon Water"
          ],
          [
           "Wannon Water"
          ],
          [
           "Wannon Water"
          ],
          [
           "Wannon Water"
          ],
          [
           "Wannon Water"
          ],
          [
           "Wannon Water"
          ],
          [
           "Wannon Water"
          ],
          [
           "Wannon Water"
          ],
          [
           "Wannon Water"
          ],
          [
           "Wannon Water"
          ],
          [
           "Wannon Water"
          ],
          [
           "Wannon Water"
          ],
          [
           "Wannon Water"
          ],
          [
           "Wannon Water"
          ],
          [
           "Wannon Water"
          ],
          [
           "Wannon Water"
          ],
          [
           "Wannon Water"
          ],
          [
           "Wannon Water"
          ],
          [
           "Wannon Water"
          ],
          [
           "Wannon Water"
          ],
          [
           "Wannon Water"
          ],
          [
           "Wannon Water"
          ]
         ],
         "hovertemplate": "<b>%{hovertext}</b><br><br>water_company=%{customdata[0]}<br>lat=%{lat}<br>lon=%{lon}<extra></extra>",
         "hovertext": [
          "ALLANSFORD",
          "BALMORAL",
          "CAMPERDOWN",
          "CARAMUT",
          "CASTERTON",
          "CAVENDISH",
          "COBDEN",
          "COLERAINE",
          "DARTMOOR",
          "DERRINALLUM",
          "DUNKELD",
          "GLENORMISTON",
          "GLENTHOMPSON",
          "HAMILTON",
          "HEYWOOD",
          "KOROIT",
          "LISMORE",
          "MACARTHUR",
          "MERINO",
          "MORTLAKE",
          "NOORAT",
          "PENSHURST",
          "PETERBOROUGH",
          "PORT CAMPBELL",
          "PORT FAIRY",
          "PORTLAND",
          "PURNIM",
          "SANDFORD",
          "SIMPSON",
          "TARRINGTON",
          "TERANG",
          "TIMBOON",
          "WARRNAMBOOL"
         ],
         "lat": [
          -38.386111,
          -37.2516966,
          -38.2355272,
          -37.9732434,
          -37.583333,
          -37.516667,
          -38.320519,
          -37.6,
          -37.9143894,
          -37.948441,
          -37.65,
          -38.149904,
          -37.6707686,
          -37.7455702,
          -38.133333,
          -38.2960425,
          -37.9552943,
          -38.027044,
          -37.7117283,
          -38.0755216,
          -38.2006511,
          -37.883333,
          -38.581127,
          -38.5920473,
          -38.3810122,
          -38.360895,
          -38.2910882,
          -37.5986077,
          -38.4987977,
          -37.766667,
          -38.2380769,
          -38.478525,
          -38.3686779
         ],
         "legendgroup": "Wannon Water",
         "lon": [
          142.593056,
          141.8235525,
          143.1426455,
          142.4698649,
          141.4,
          142.033333,
          143.0828766,
          141.7,
          141.2730001,
          143.2160297,
          142.35,
          142.964872,
          142.5338611,
          142.0178976,
          141.616667,
          142.3553505,
          143.3494538,
          142.0046427,
          141.5318089,
          142.8100364,
          142.9364881,
          142.283333,
          142.8618737,
          142.9995604,
          142.2292907,
          141.6041155,
          142.5953418,
          141.4775662,
          143.2429647,
          142.1,
          142.908047,
          142.9734629,
          142.4982086
         ],
         "marker": {
          "color": "#FECB52",
          "opacity": 0.8
         },
         "mode": "markers",
         "name": "Wannon Water",
         "showlegend": true,
         "subplot": "mapbox",
         "type": "scattermapbox"
        },
        {
         "customdata": [
          [
           "Yarra Valley Water"
          ],
          [
           "Yarra Valley Water"
          ],
          [
           "Yarra Valley Water"
          ],
          [
           "Yarra Valley Water"
          ],
          [
           "Yarra Valley Water"
          ],
          [
           "Yarra Valley Water"
          ],
          [
           "Yarra Valley Water"
          ],
          [
           "Yarra Valley Water"
          ],
          [
           "Yarra Valley Water"
          ],
          [
           "Yarra Valley Water"
          ],
          [
           "Yarra Valley Water"
          ],
          [
           "Yarra Valley Water"
          ],
          [
           "Yarra Valley Water"
          ],
          [
           "Yarra Valley Water"
          ],
          [
           "Yarra Valley Water"
          ],
          [
           "Yarra Valley Water"
          ],
          [
           "Yarra Valley Water"
          ],
          [
           "Yarra Valley Water"
          ],
          [
           "Yarra Valley Water"
          ],
          [
           "Yarra Valley Water"
          ],
          [
           "Yarra Valley Water"
          ],
          [
           "Yarra Valley Water"
          ],
          [
           "Yarra Valley Water"
          ],
          [
           "Yarra Valley Water"
          ],
          [
           "Yarra Valley Water"
          ],
          [
           "Yarra Valley Water"
          ],
          [
           "Yarra Valley Water"
          ],
          [
           "Yarra Valley Water"
          ],
          [
           "Yarra Valley Water"
          ],
          [
           "Yarra Valley Water"
          ],
          [
           "Yarra Valley Water"
          ],
          [
           "Yarra Valley Water"
          ],
          [
           "Yarra Valley Water"
          ],
          [
           "Yarra Valley Water"
          ],
          [
           "Yarra Valley Water"
          ],
          [
           "Yarra Valley Water"
          ],
          [
           "Yarra Valley Water"
          ],
          [
           "Yarra Valley Water"
          ],
          [
           "Yarra Valley Water"
          ],
          [
           "Yarra Valley Water"
          ],
          [
           "Yarra Valley Water"
          ],
          [
           "Yarra Valley Water"
          ],
          [
           "Yarra Valley Water"
          ],
          [
           "Yarra Valley Water"
          ],
          [
           "Yarra Valley Water"
          ],
          [
           "Yarra Valley Water"
          ],
          [
           "Yarra Valley Water"
          ],
          [
           "Yarra Valley Water"
          ],
          [
           "Yarra Valley Water"
          ],
          [
           "Yarra Valley Water"
          ],
          [
           "Yarra Valley Water"
          ],
          [
           "Yarra Valley Water"
          ],
          [
           "Yarra Valley Water"
          ],
          [
           "Yarra Valley Water"
          ],
          [
           "Yarra Valley Water"
          ],
          [
           "Yarra Valley Water"
          ],
          [
           "Yarra Valley Water"
          ],
          [
           "Yarra Valley Water"
          ],
          [
           "Yarra Valley Water"
          ],
          [
           "Yarra Valley Water"
          ],
          [
           "Yarra Valley Water"
          ],
          [
           "Yarra Valley Water"
          ],
          [
           "Yarra Valley Water"
          ],
          [
           "Yarra Valley Water"
          ],
          [
           "Yarra Valley Water"
          ],
          [
           "Yarra Valley Water"
          ],
          [
           "Yarra Valley Water"
          ],
          [
           "Yarra Valley Water"
          ],
          [
           "Yarra Valley Water"
          ],
          [
           "Yarra Valley Water"
          ],
          [
           "Yarra Valley Water"
          ],
          [
           "Yarra Valley Water"
          ],
          [
           "Yarra Valley Water"
          ],
          [
           "Yarra Valley Water"
          ],
          [
           "Yarra Valley Water"
          ],
          [
           "Yarra Valley Water"
          ],
          [
           "Yarra Valley Water"
          ],
          [
           "Yarra Valley Water"
          ],
          [
           "Yarra Valley Water"
          ],
          [
           "Yarra Valley Water"
          ],
          [
           "Yarra Valley Water"
          ],
          [
           "Yarra Valley Water"
          ],
          [
           "Yarra Valley Water"
          ],
          [
           "Yarra Valley Water"
          ],
          [
           "Yarra Valley Water"
          ],
          [
           "Yarra Valley Water"
          ],
          [
           "Yarra Valley Water"
          ],
          [
           "Yarra Valley Water"
          ],
          [
           "Yarra Valley Water"
          ],
          [
           "Yarra Valley Water"
          ],
          [
           "Yarra Valley Water"
          ],
          [
           "Yarra Valley Water"
          ],
          [
           "Yarra Valley Water"
          ],
          [
           "Yarra Valley Water"
          ],
          [
           "Yarra Valley Water"
          ],
          [
           "Yarra Valley Water"
          ],
          [
           "Yarra Valley Water"
          ],
          [
           "Yarra Valley Water"
          ],
          [
           "Yarra Valley Water"
          ],
          [
           "Yarra Valley Water"
          ],
          [
           "Yarra Valley Water"
          ],
          [
           "Yarra Valley Water"
          ],
          [
           "Yarra Valley Water"
          ],
          [
           "Yarra Valley Water"
          ],
          [
           "Yarra Valley Water"
          ],
          [
           "Yarra Valley Water"
          ],
          [
           "Yarra Valley Water"
          ],
          [
           "Yarra Valley Water"
          ],
          [
           "Yarra Valley Water"
          ],
          [
           "Yarra Valley Water"
          ],
          [
           "Yarra Valley Water"
          ],
          [
           "Yarra Valley Water"
          ],
          [
           "Yarra Valley Water"
          ],
          [
           "Yarra Valley Water"
          ],
          [
           "Yarra Valley Water"
          ],
          [
           "Yarra Valley Water"
          ],
          [
           "Yarra Valley Water"
          ],
          [
           "Yarra Valley Water"
          ],
          [
           "Yarra Valley Water"
          ],
          [
           "Yarra Valley Water"
          ],
          [
           "Yarra Valley Water"
          ],
          [
           "Yarra Valley Water"
          ],
          [
           "Yarra Valley Water"
          ],
          [
           "Yarra Valley Water"
          ],
          [
           "Yarra Valley Water"
          ],
          [
           "Yarra Valley Water"
          ],
          [
           "Yarra Valley Water"
          ],
          [
           "Yarra Valley Water"
          ],
          [
           "Yarra Valley Water"
          ],
          [
           "Yarra Valley Water"
          ],
          [
           "Yarra Valley Water"
          ],
          [
           "Yarra Valley Water"
          ],
          [
           "Yarra Valley Water"
          ],
          [
           "Yarra Valley Water"
          ],
          [
           "Yarra Valley Water"
          ],
          [
           "Yarra Valley Water"
          ],
          [
           "Yarra Valley Water"
          ],
          [
           "Yarra Valley Water"
          ],
          [
           "Yarra Valley Water"
          ],
          [
           "Yarra Valley Water"
          ],
          [
           "Yarra Valley Water"
          ],
          [
           "Yarra Valley Water"
          ],
          [
           "Yarra Valley Water"
          ],
          [
           "Yarra Valley Water"
          ],
          [
           "Yarra Valley Water"
          ],
          [
           "Yarra Valley Water"
          ],
          [
           "Yarra Valley Water"
          ],
          [
           "Yarra Valley Water"
          ],
          [
           "Yarra Valley Water"
          ],
          [
           "Yarra Valley Water"
          ],
          [
           "Yarra Valley Water"
          ],
          [
           "Yarra Valley Water"
          ],
          [
           "Yarra Valley Water"
          ],
          [
           "Yarra Valley Water"
          ],
          [
           "Yarra Valley Water"
          ],
          [
           "Yarra Valley Water"
          ],
          [
           "Yarra Valley Water"
          ],
          [
           "Yarra Valley Water"
          ],
          [
           "Yarra Valley Water"
          ],
          [
           "Yarra Valley Water"
          ],
          [
           "Yarra Valley Water"
          ],
          [
           "Yarra Valley Water"
          ],
          [
           "Yarra Valley Water"
          ],
          [
           "Yarra Valley Water"
          ],
          [
           "Yarra Valley Water"
          ],
          [
           "Yarra Valley Water"
          ],
          [
           "Yarra Valley Water"
          ],
          [
           "Yarra Valley Water"
          ],
          [
           "Yarra Valley Water"
          ],
          [
           "Yarra Valley Water"
          ],
          [
           "Yarra Valley Water"
          ],
          [
           "Yarra Valley Water"
          ],
          [
           "Yarra Valley Water"
          ],
          [
           "Yarra Valley Water"
          ],
          [
           "Yarra Valley Water"
          ],
          [
           "Yarra Valley Water"
          ],
          [
           "Yarra Valley Water"
          ],
          [
           "Yarra Valley Water"
          ],
          [
           "Yarra Valley Water"
          ],
          [
           "Yarra Valley Water"
          ],
          [
           "Yarra Valley Water"
          ],
          [
           "Yarra Valley Water"
          ],
          [
           "Yarra Valley Water"
          ],
          [
           "Yarra Valley Water"
          ],
          [
           "Yarra Valley Water"
          ],
          [
           "Yarra Valley Water"
          ],
          [
           "Yarra Valley Water"
          ],
          [
           "Yarra Valley Water"
          ],
          [
           "Yarra Valley Water"
          ],
          [
           "Yarra Valley Water"
          ],
          [
           "Yarra Valley Water"
          ],
          [
           "Yarra Valley Water"
          ],
          [
           "Yarra Valley Water"
          ],
          [
           "Yarra Valley Water"
          ],
          [
           "Yarra Valley Water"
          ],
          [
           "Yarra Valley Water"
          ],
          [
           "Yarra Valley Water"
          ],
          [
           "Yarra Valley Water"
          ],
          [
           "Yarra Valley Water"
          ],
          [
           "Yarra Valley Water"
          ],
          [
           "Yarra Valley Water"
          ],
          [
           "Yarra Valley Water"
          ],
          [
           "Yarra Valley Water"
          ],
          [
           "Yarra Valley Water"
          ],
          [
           "Yarra Valley Water"
          ]
         ],
         "hovertemplate": "<b>%{hovertext}</b><br><br>water_company=%{customdata[0]}<br>lat=%{lat}<br>lon=%{lon}<extra></extra>",
         "hovertext": [
          "ALPHINGTON",
          "ARMADALE",
          "ARTHURS CREEK",
          "ASHBURTON",
          "ASHWOOD",
          "ATTWOOD",
          "AVONSLEIGH",
          "BADGER CREEK",
          "BALWYN",
          "BALWYN NORTH",
          "BANYULE",
          "BAYSWATER",
          "BAYSWATER NORTH",
          "BELGRAVE",
          "BEVERIDGE",
          "BLACKBURN",
          "BLACKBURN NORTH",
          "BLACKBURN SOUTH",
          "BOX HILL",
          "BOX HILL NORTH",
          "BOX HILL SOUTH",
          "BRIAR HILL",
          "BROADMEADOWS",
          "BRUNSWICK",
          "BRUNSWICK EAST",
          "BRUNSWICK WEST",
          "BULLEEN",
          "BUNDOORA",
          "BURLEIGH",
          "BURWOOD",
          "BURWOOD EAST",
          "CAMBERWELL",
          "CAMPBELLFIELD",
          "CANTERBURY",
          "CAULFIELD EAST",
          "CHADSTONE",
          "CHIRNSIDE PARK",
          "CHUM CREEK",
          "CLAYTON",
          "CLEMATIS",
          "COBURG",
          "COBURG NORTH",
          "COCKATOO",
          "COLDSTREAM",
          "COOLAROO",
          "COTTLES BRIDGE",
          "CRAIGIEBURN",
          "CROXTON",
          "CROYDON",
          "CROYDON HILLS",
          "CROYDON NORTH",
          "CROYDON SOUTH",
          "DALLAS",
          "DEEPDENE",
          "DIAMOND CREEK",
          "DON VALLEY",
          "DONCASTER",
          "DONCASTER EAST",
          "DONVALE",
          "DOREEN",
          "EAGLEMONT",
          "ELTHAM",
          "ELTHAM NORTH",
          "EMERALD",
          "EPPING",
          "FAIRFIELD",
          "FAWKNER",
          "FERNY CREEK",
          "FOREST HILL",
          "GEMBROOK",
          "GLADSTONE PARK",
          "GLEN IRIS",
          "GLEN WAVERLEY",
          "GLENROY",
          "GOWANBRAE",
          "GREENSBOROUGH",
          "GREENVALE",
          "GREYTHORN",
          "GRUYERE",
          "HADFIELD",
          "HAWKSBURN",
          "HAWTHORN",
          "HAWTHORN EAST",
          "HEALESVILLE",
          "HEATHERDALE",
          "HEATHMONT",
          "HEIDELBERG",
          "HEIDELBERG HEIGHTS",
          "HEIDELBERG RGH",
          "HEIDELBERG WEST",
          "HIDDEN VALLEY",
          "HUGHESDALE",
          "HUNTINGDALE",
          "HURSTBRIDGE",
          "IVANHOE",
          "IVANHOE EAST",
          "JACANA",
          "KALLISTA",
          "KALORAMA",
          "KANGAROO GROUND",
          "KEON PARK",
          "KEW",
          "KEW EAST",
          "KILSYTH",
          "KILSYTH SOUTH",
          "KINGSBURY",
          "KOOYONG",
          "LALOR",
          "LAUNCHING PLACE",
          "LILYDALE",
          "LOWER PLENTY",
          "MACCLESFIELD",
          "MACLEOD",
          "MALVERN",
          "MALVERN EAST",
          "MEADOW HEIGHTS",
          "MENZIES CREEK",
          "MERNDA",
          "MICKLEHAM",
          "MILL PARK",
          "MILLGROVE",
          "MITCHAM",
          "MONBULK",
          "MONT ALBERT",
          "MONT ALBERT NORTH",
          "MONTMORENCY",
          "MONTROSE",
          "MOOROOLBARK",
          "MORELAND",
          "MOUNT DANDENONG",
          "MOUNT EVELYN",
          "MOUNT WAVERLEY",
          "MULGRAVE",
          "NORTH WARRANDYTE",
          "NORTHCOTE",
          "NOTTING HILL",
          "NUNAWADING",
          "NUTFIELD",
          "OAK PARK",
          "OAKLANDS JUNCTION",
          "OAKLEIGH",
          "OAKLEIGH EAST",
          "OLINDA",
          "PAKENHAM",
          "PANTON HILL",
          "PARK ORCHARDS",
          "PASCOE VALE",
          "PASCOE VALE SOUTH",
          "PLENTY",
          "PRESTON",
          "RESEARCH",
          "RESERVOIR",
          "RINGWOOD",
          "RINGWOOD EAST",
          "RINGWOOD NORTH",
          "ROSANNA",
          "ROXBURGH PARK",
          "SAINT HELENA",
          "SASSAFRAS",
          "SEVILLE",
          "SEVILLE EAST",
          "SHERBROOKE",
          "SILVAN",
          "SMITHS GULLY",
          "SOMERTON",
          "SOUTH MORANG",
          "STEELS CREEK",
          "SURREY HILLS",
          "SYNDAL",
          "TEMPLESTOWE",
          "TEMPLESTOWE LOWER",
          "THE PATCH",
          "THOMASTOWN",
          "THORNBURY",
          "TOORAK",
          "TREMONT",
          "TULLAMARINE",
          "UPWEY",
          "VERMONT",
          "VERMONT SOUTH",
          "VIEWBANK",
          "WALLAN",
          "WANDIN NORTH",
          "WARBURTON",
          "WARRANDYTE",
          "WARRANDYTE SOUTH",
          "WARRANWOOD",
          "WATSONIA",
          "WATTLE GLEN",
          "WESBURN",
          "WESTMEADOWS",
          "WHEELERS HILL",
          "WHITTLESEA",
          "WOLLERT",
          "WONGA PARK",
          "WOODSTOCK",
          "WOORI YALLOCK",
          "YALLAMBIE",
          "YAN YEAN",
          "YARRA GLEN",
          "YARRA JUNCTION",
          "YARRAMBAT",
          "YELLINGBO",
          "YERING",
          "YUROKE"
         ],
         "lat": [
          -37.78,
          -37.858,
          -37.583333,
          -37.866944,
          -37.867,
          -37.666,
          -37.925,
          -37.685,
          -37.808889,
          -37.793611,
          -37.7314254,
          -37.843,
          -37.827,
          -37.912067,
          -37.494525,
          -37.826,
          -37.81,
          -37.838,
          -37.8215,
          -37.807,
          -37.836,
          -37.708,
          -37.685,
          -37.7667,
          -37.776,
          -37.761,
          -37.77,
          -37.695,
          -37.8506944,
          -37.85,
          -37.852,
          -37.835,
          -37.673,
          -37.825,
          -37.876,
          -37.883,
          -37.754,
          -37.606,
          -37.915,
          -37.9322058,
          -37.7438,
          -37.726,
          -37.935,
          -37.734,
          -37.6562333,
          -37.622,
          -37.594,
          -37.76417,
          -37.796,
          -37.775,
          -37.767,
          -37.814,
          -37.668,
          -37.813056,
          -37.671,
          -37.761389,
          -37.787,
          -37.783,
          -37.797,
          -37.605,
          -37.763,
          -37.715,
          -37.698,
          -37.933056,
          -37.638,
          -37.792,
          -37.707,
          -37.878,
          -37.842,
          -37.95,
          -37.688,
          -37.856,
          -37.8856521,
          -37.706,
          -37.702,
          -37.686,
          -37.633,
          -37.7965604,
          -37.734,
          -37.71,
          -37.8447415,
          -37.826,
          -37.831,
          -37.656111,
          -37.8189559,
          -37.83,
          -37.752,
          -37.742,
          -37.755002,
          -37.744,
          -37.3952162,
          -37.893,
          -37.9064344,
          -37.638889,
          -37.7703,
          -37.772,
          -37.6889943,
          -37.883,
          -37.818,
          -37.686,
          -37.6946161,
          -37.805278,
          -37.796944,
          -37.802,
          -37.8296238,
          -37.715,
          -37.841944,
          -37.667,
          -37.774,
          -37.758,
          -37.734,
          -37.883,
          -37.714,
          -37.856,
          -37.878,
          -37.65,
          -37.931,
          -37.5892795,
          -37.562,
          -37.671,
          -37.7448481,
          -37.818,
          -37.878,
          -37.816111,
          -37.808056,
          -37.719,
          -37.81,
          -37.785,
          -37.7240653,
          -37.831111,
          -37.783,
          -37.877,
          -37.927,
          -37.726,
          -37.7722,
          -37.9048347,
          -37.817,
          -37.603,
          -37.718,
          -37.6117964,
          -37.9010702,
          -37.904859,
          -37.85599,
          -38.070568,
          -37.643,
          -37.778,
          -37.727,
          -37.7431,
          -37.669,
          -37.743,
          -37.707,
          -37.713056,
          -37.8114,
          -37.818,
          -37.799883,
          -37.737,
          -37.627,
          -37.686,
          -37.87,
          -37.777,
          -37.774,
          -37.885,
          -37.824,
          -37.619,
          -37.633,
          -37.633333,
          -37.594,
          -37.83,
          -37.8762868,
          -37.753,
          -37.765,
          -37.8887708,
          -37.682,
          -37.76,
          -37.841,
          -37.88,
          -37.701,
          -37.902,
          -37.838,
          -37.851,
          -37.731,
          -37.4081337,
          -37.769,
          -37.7525378,
          -37.738,
          -37.7605268,
          -37.777,
          -37.708,
          -37.663,
          -37.767,
          -37.678,
          -37.899,
          -37.513889,
          -37.597,
          -37.7355557,
          -37.544,
          -37.778,
          -37.726,
          -37.571,
          -37.648889,
          -37.779,
          -37.64,
          -37.81,
          -37.7002209,
          -37.6
         ],
         "legendgroup": "Yarra Valley Water",
         "lon": [
          145.023,
          145.02,
          145.2,
          145.083056,
          145.103,
          144.887,
          145.481944,
          145.538,
          145.078889,
          145.086389,
          145.082419,
          145.269,
          145.28,
          145.3558,
          145.0325382,
          145.151,
          145.152,
          145.144,
          145.126,
          145.12,
          145.124,
          145.115,
          144.925,
          144.9628,
          144.974,
          144.943,
          145.09,
          145.064,
          145.4270833,
          145.114,
          145.15,
          145.071,
          144.957,
          145.078,
          145.044,
          145.093,
          145.327,
          145.488,
          145.13,
          145.4222435,
          144.9645,
          144.96,
          145.492,
          145.383,
          144.9364069,
          145.219,
          144.934,
          144.997268,
          145.281,
          145.266,
          145.287,
          145.271,
          144.94,
          145.067778,
          145.155,
          145.584444,
          145.124,
          145.166,
          145.175,
          145.146,
          145.066,
          145.158,
          145.144,
          145.436944,
          145.01,
          145.011,
          144.968,
          145.335,
          145.172,
          145.541,
          144.892,
          145.059,
          145.165179,
          144.924,
          144.899,
          145.117,
          144.883,
          145.0984985,
          145.45,
          144.95,
          145.0022549,
          145.034,
          145.05,
          145.513889,
          145.2128826,
          145.242,
          145.07,
          145.053,
          145.047983,
          145.047,
          144.9903551,
          145.086,
          145.1086176,
          145.195,
          145.0457,
          145.066,
          144.9088858,
          145.372,
          145.366,
          145.216,
          145.0118242,
          145.035833,
          145.056944,
          145.316,
          145.3115843,
          145.034,
          145.035,
          145.02,
          145.588,
          145.35,
          145.116,
          145.477,
          145.066,
          145.037,
          145.06,
          144.922,
          145.398,
          145.103791,
          144.874,
          145.062,
          145.6507039,
          145.197,
          145.411,
          145.11,
          145.113889,
          145.126,
          145.343,
          145.315,
          144.9501708,
          145.36,
          145.385,
          145.131,
          145.174,
          145.216,
          144.9994,
          145.1458611,
          145.177,
          145.181,
          144.919,
          144.8401227,
          145.0962067,
          145.1182718,
          145.364357,
          145.4871308,
          145.239,
          145.214,
          144.942,
          144.9377,
          145.117,
          145.008,
          145.18,
          145.011944,
          145.2306,
          145.252,
          145.226877,
          145.069,
          144.929,
          145.137,
          145.353889,
          145.461,
          145.491,
          145.36,
          145.421,
          145.256,
          144.95,
          145.083333,
          145.374,
          145.106,
          145.1498177,
          145.135,
          145.114,
          145.3973329,
          145.014,
          145.007,
          145.018,
          145.324,
          144.876,
          145.33,
          145.198,
          145.183,
          145.1,
          144.9638997,
          145.411,
          145.6948397,
          145.223,
          145.2452567,
          145.249,
          145.083,
          145.183,
          145.647,
          144.893,
          145.183,
          145.113889,
          145.033,
          145.2696895,
          145.056,
          145.528,
          145.104,
          145.108,
          145.371944,
          145.606,
          145.133,
          145.51,
          145.3582514,
          144.88
         ],
         "marker": {
          "color": "#636efa",
          "opacity": 0.8
         },
         "mode": "markers",
         "name": "Yarra Valley Water",
         "showlegend": true,
         "subplot": "mapbox",
         "type": "scattermapbox"
        },
        {
         "customdata": [
          [
           "Westernport Water"
          ],
          [
           "Westernport Water"
          ],
          [
           "Westernport Water"
          ],
          [
           "Westernport Water"
          ],
          [
           "Westernport Water"
          ],
          [
           "Westernport Water"
          ],
          [
           "Westernport Water"
          ],
          [
           "Westernport Water"
          ],
          [
           "Westernport Water"
          ],
          [
           "Westernport Water"
          ],
          [
           "Westernport Water"
          ],
          [
           "Westernport Water"
          ],
          [
           "Westernport Water"
          ],
          [
           "Westernport Water"
          ],
          [
           "Westernport Water"
          ],
          [
           "Westernport Water"
          ],
          [
           "Westernport Water"
          ],
          [
           "Westernport Water"
          ],
          [
           "Westernport Water"
          ],
          [
           "Westernport Water"
          ],
          [
           "Westernport Water"
          ],
          [
           "Westernport Water"
          ],
          [
           "Westernport Water"
          ],
          [
           "Westernport Water"
          ],
          [
           "Westernport Water"
          ]
         ],
         "hovertemplate": "<b>%{hovertext}</b><br><br>water_company=%{customdata[0]}<br>lat=%{lat}<br>lon=%{lon}<extra></extra>",
         "hovertext": [
          "ANDERSON",
          "ARCHIES CREEK",
          "BASS",
          "CAPE WOOLAMAI",
          "CORINELLA",
          "CORONET BAY",
          "COWES",
          "DALYSTON",
          "GLEN FORBES",
          "GRANTVILLE",
          "KILCUNDA",
          "NEWHAVEN",
          "PIONEER BAY",
          "RHYLL",
          "SAN REMO",
          "SILVERLEAVES",
          "SMITHS BEACH",
          "SUNDERLAND BAY",
          "SUNSET STRIP",
          "SURF BEACH",
          "TENBY POINT",
          "VENTNOR",
          "WIMBLEDON HEIGHTS",
          "WOOLAMAI",
          "WOOLAMAI WATERS"
         ],
         "lat": [
          -38.5227147,
          -38.548056,
          -38.4659346,
          -38.526111,
          -38.4242265,
          -38.433333,
          -38.451111,
          -38.5648841,
          -38.449327,
          -38.4,
          -38.5498,
          -38.5125,
          -38.3805015,
          -38.463056,
          -38.5254247,
          -38.453056,
          -38.5006654,
          -38.5016289,
          -38.4958178,
          -38.5090925,
          -38.4146878,
          -38.4834062,
          -38.4799767,
          -38.5133112,
          -38.5026577
         ],
         "legendgroup": "Westernport Water",
         "lon": [
          145.4526995,
          145.563611,
          145.4755485,
          145.336944,
          145.463777,
          145.45,
          145.241944,
          145.5342757,
          145.5326969,
          145.533333,
          145.4761,
          145.358333,
          145.5503685,
          145.303889,
          145.3768484,
          145.264722,
          145.2563077,
          145.272887,
          145.2659786,
          145.2949976,
          145.473471,
          145.1727694,
          145.2328259,
          145.4921696,
          145.4814309
         ],
         "marker": {
          "color": "#EF553B",
          "opacity": 0.8
         },
         "mode": "markers",
         "name": "Westernport Water",
         "showlegend": true,
         "subplot": "mapbox",
         "type": "scattermapbox"
        },
        {
         "customdata": [
          [
           "GWMWater"
          ],
          [
           "GWMWater"
          ],
          [
           "GWMWater"
          ],
          [
           "GWMWater"
          ],
          [
           "GWMWater"
          ],
          [
           "GWMWater"
          ],
          [
           "GWMWater"
          ],
          [
           "GWMWater"
          ],
          [
           "GWMWater"
          ],
          [
           "GWMWater"
          ],
          [
           "GWMWater"
          ],
          [
           "GWMWater"
          ],
          [
           "GWMWater"
          ],
          [
           "GWMWater"
          ],
          [
           "GWMWater"
          ],
          [
           "GWMWater"
          ],
          [
           "GWMWater"
          ],
          [
           "GWMWater"
          ],
          [
           "GWMWater"
          ],
          [
           "GWMWater"
          ],
          [
           "GWMWater"
          ],
          [
           "GWMWater"
          ],
          [
           "GWMWater"
          ],
          [
           "GWMWater"
          ],
          [
           "GWMWater"
          ],
          [
           "GWMWater"
          ],
          [
           "GWMWater"
          ],
          [
           "GWMWater"
          ],
          [
           "GWMWater"
          ],
          [
           "GWMWater"
          ],
          [
           "GWMWater"
          ],
          [
           "GWMWater"
          ],
          [
           "GWMWater"
          ],
          [
           "GWMWater"
          ]
         ],
         "hovertemplate": "<b>%{hovertext}</b><br><br>water_company=%{customdata[0]}<br>lat=%{lat}<br>lon=%{lon}<extra></extra>",
         "hovertext": [
          "ARARAT",
          "BEULAH",
          "BIRCHIP",
          "BRIM",
          "CHARLTON",
          "DIMBOOLA",
          "DONALD",
          "EDENHOPE",
          "GREAT WESTERN",
          "HALLS GAP",
          "HOPETOUN",
          "HORSHAM",
          "JUNG",
          "LALBERT",
          "MANANGATANG",
          "MINYIP",
          "MURRAYVILLE",
          "MURTOA",
          "NULLAWIL",
          "OUYEN",
          "POMONAL",
          "QUAMBATOOK",
          "RAINBOW",
          "RUPANYUP",
          "SEA LAKE",
          "ST ARNAUD",
          "STAWELL",
          "ULTIMA",
          "WALPEUP",
          "WARRACKNABEAL",
          "WATCHEM",
          "WOOMELANG",
          "WYCHEPROOF",
          "NHILL"
         ],
         "lat": [
          -37.2846464,
          -35.938056,
          -35.9833179,
          -36.0337275,
          -36.2678624,
          -36.453243,
          -36.3694068,
          -37.0307143,
          -37.15,
          -37.1467982,
          -35.7243809,
          -36.7188618,
          -36.6288597,
          -35.6732662,
          -35.044592,
          -36.4577308,
          -35.262222,
          -36.6144503,
          -35.8508477,
          -35.0674787,
          -37.192222,
          -35.849937,
          -35.900833,
          -36.5943582,
          -35.5055413,
          -36.616618,
          -37.0575657,
          -35.4743019,
          -35.136111,
          -36.252755,
          -36.1545324,
          -35.683333,
          -36.077645,
          -36.35163555
         ],
         "legendgroup": "GWMWater",
         "lon": [
          142.9316441,
          142.42,
          142.9145594,
          142.413818,
          143.3510486,
          142.0290523,
          142.9819619,
          141.2834751,
          142.85,
          142.5235245,
          142.3583441,
          142.1962316,
          142.3363938,
          143.3740654,
          142.8825176,
          142.5942441,
          141.183333,
          142.4698649,
          143.1747947,
          142.319913,
          142.608889,
          143.5233295,
          141.997222,
          142.6500022,
          142.8526896,
          143.2603641,
          142.7753712,
          143.2608146,
          142.025,
          142.3919552,
          142.8617484,
          142.666667,
          143.2271185,
          141.6411076
         ],
         "marker": {
          "color": "#00cc96",
          "opacity": 0.8
         },
         "mode": "markers",
         "name": "GWMWater",
         "showlegend": true,
         "subplot": "mapbox",
         "type": "scattermapbox"
        },
        {
         "customdata": [
          [
           "Coliban Water"
          ],
          [
           "Coliban Water"
          ],
          [
           "Coliban Water"
          ],
          [
           "Coliban Water"
          ],
          [
           "Coliban Water"
          ],
          [
           "Coliban Water"
          ],
          [
           "Coliban Water"
          ],
          [
           "Coliban Water"
          ],
          [
           "Coliban Water"
          ],
          [
           "Coliban Water"
          ],
          [
           "Coliban Water"
          ],
          [
           "Coliban Water"
          ],
          [
           "Coliban Water"
          ],
          [
           "Coliban Water"
          ],
          [
           "Coliban Water"
          ],
          [
           "Coliban Water"
          ],
          [
           "Coliban Water"
          ],
          [
           "Coliban Water"
          ],
          [
           "Coliban Water"
          ],
          [
           "Coliban Water"
          ],
          [
           "Coliban Water"
          ],
          [
           "Coliban Water"
          ],
          [
           "Coliban Water"
          ],
          [
           "Coliban Water"
          ],
          [
           "Coliban Water"
          ],
          [
           "Coliban Water"
          ],
          [
           "Coliban Water"
          ],
          [
           "Coliban Water"
          ],
          [
           "Coliban Water"
          ],
          [
           "Coliban Water"
          ],
          [
           "Coliban Water"
          ],
          [
           "Coliban Water"
          ],
          [
           "Coliban Water"
          ],
          [
           "Coliban Water"
          ],
          [
           "Coliban Water"
          ],
          [
           "Coliban Water"
          ],
          [
           "Coliban Water"
          ],
          [
           "Coliban Water"
          ],
          [
           "Coliban Water"
          ],
          [
           "Coliban Water"
          ],
          [
           "Coliban Water"
          ],
          [
           "Coliban Water"
          ],
          [
           "Coliban Water"
          ],
          [
           "Coliban Water"
          ],
          [
           "Coliban Water"
          ],
          [
           "Coliban Water"
          ],
          [
           "Coliban Water"
          ],
          [
           "Coliban Water"
          ],
          [
           "Coliban Water"
          ],
          [
           "Coliban Water"
          ],
          [
           "Coliban Water"
          ],
          [
           "Coliban Water"
          ],
          [
           "Coliban Water"
          ],
          [
           "Coliban Water"
          ],
          [
           "Coliban Water"
          ],
          [
           "Coliban Water"
          ]
         ],
         "hovertemplate": "<b>%{hovertext}</b><br><br>water_company=%{customdata[0]}<br>lat=%{lat}<br>lon=%{lon}<extra></extra>",
         "hovertext": [
          "AXEDALE",
          "BEALIBA",
          "BENDIGO",
          "BOORT",
          "BRIDGEWATER",
          "CALIFORNIA GULLY",
          "CAMPBELLS CREEK",
          "CASTLEMAINE",
          "CHEWTON",
          "COHUNA",
          "DUNOLLY",
          "EAGLEHAWK",
          "ECHUCA",
          "ELMORE",
          "ELPHINSTONE",
          "EPSOM",
          "FRYERSTOWN",
          "GOLDEN SQUARE",
          "GOORNONG",
          "GUILDFORD",
          "GUNBOWER",
          "HARCOURT",
          "HEATHCOTE",
          "HUNTLY",
          "INGLEWOOD",
          "JUNORTOUN",
          "KANGAROO FLAT",
          "KENNINGTON",
          "KORONG VALE",
          "KYNETON",
          "LAANECOORIE",
          "LEITCHVILLE",
          "LOCKINGTON",
          "LONG GULLY",
          "MAIDEN GULLY",
          "MALDON",
          "MALMSBURY",
          "MARONG",
          "MYERS FLAT",
          "NEWSTEAD",
          "NORTH BENDIGO",
          "PYRAMID HILL",
          "QUARRY HILL",
          "RAYWOOD",
          "ROCHESTER",
          "SEBASTIAN",
          "SERPENTINE",
          "SPRING GULLY",
          "STRATHFIELDSAYE",
          "TARADALE",
          "TARNAGULLA",
          "TOOBORAC",
          "TRENTHAM",
          "TYLDEN",
          "WEDDERBURN",
          "WHITE HILLS"
         ],
         "lat": [
          -36.7768707,
          -36.8139252,
          -36.7570157,
          -36.1169559,
          -36.6084626,
          -36.7303149,
          -37.1,
          -37.058136,
          -37.083333,
          -35.8149095,
          -36.85,
          -36.716667,
          -36.1459548,
          -36.4967919,
          -37.1,
          -36.7,
          -37.1432659,
          -36.766667,
          -36.6432507,
          -37.1496144,
          -35.957222,
          -37,
          -36.916667,
          -36.664933,
          -36.576389,
          -36.7778248,
          -36.783333,
          -36.768937,
          -36.3557749,
          -37.233333,
          -36.8270468,
          -35.9065246,
          -36.2804685,
          -36.7425683,
          -36.743,
          -36.9979354,
          -37.188889,
          -36.733333,
          -36.7100539,
          -37.105278,
          -36.7359634,
          -36.0556784,
          -36.766667,
          -36.544166,
          -36.366667,
          -36.5937109,
          -36.4113541,
          -36.7976791,
          -36.8,
          -37.133333,
          -36.7670418,
          -37.0884579,
          -37.383333,
          -37.3194005,
          -36.416667,
          -36.733333
         ],
         "legendgroup": "Coliban Water",
         "lon": [
          144.5040073,
          143.535837,
          144.2793906,
          143.7250526,
          143.9572156,
          144.2620417,
          144.2,
          144.2185006,
          144.266667,
          144.2095074,
          143.733333,
          144.25,
          144.7448007,
          144.6087925,
          144.333333,
          144.316667,
          144.2549754,
          144.25,
          144.4930553,
          144.1754128,
          144.370556,
          144.25,
          144.7,
          144.3289536,
          143.868889,
          144.379516,
          144.233333,
          144.305733,
          143.695912,
          144.45,
          143.8796572,
          144.3016359,
          144.5320784,
          144.256582,
          144.209,
          144.0703067,
          144.385,
          144.133333,
          144.1829124,
          144.065,
          144.2784231,
          144.1341779,
          144.283333,
          144.1890489,
          144.7,
          144.2077977,
          143.9793141,
          144.2866151,
          144.366667,
          144.35,
          143.8274714,
          144.7554106,
          144.316667,
          144.4052024,
          143.616667,
          144.3
         ],
         "marker": {
          "color": "#ab63fa",
          "opacity": 0.8
         },
         "mode": "markers",
         "name": "Coliban Water",
         "showlegend": true,
         "subplot": "mapbox",
         "type": "scattermapbox"
        },
        {
         "customdata": [
          [
           "Western Water"
          ],
          [
           "Western Water"
          ],
          [
           "Western Water"
          ],
          [
           "Western Water"
          ],
          [
           "Western Water"
          ],
          [
           "Western Water"
          ],
          [
           "Western Water"
          ],
          [
           "Western Water"
          ],
          [
           "Western Water"
          ],
          [
           "Western Water"
          ],
          [
           "Western Water"
          ],
          [
           "Western Water"
          ],
          [
           "Western Water"
          ],
          [
           "Western Water"
          ],
          [
           "Western Water"
          ],
          [
           "Western Water"
          ],
          [
           "Western Water"
          ],
          [
           "Western Water"
          ],
          [
           "Western Water"
          ],
          [
           "Western Water"
          ],
          [
           "Western Water"
          ]
         ],
         "hovertemplate": "<b>%{hovertext}</b><br><br>water_company=%{customdata[0]}<br>lat=%{lat}<br>lon=%{lon}<extra></extra>",
         "hovertext": [
          "BACCHUS MARSH",
          "BULLA",
          "DARLEY",
          "DIGGERS REST",
          "GISBORNE",
          "KURUNJANG",
          "LANCEFIELD",
          "LONG FOREST ROAD",
          "MACEDON",
          "MELTON",
          "MELTON SOUTH",
          "MOUNT MACEDON",
          "MYRNIONG",
          "NEW GISBORNE",
          "PARWAN",
          "RIDDELLS CREEK",
          "ROCKBANK",
          "ROMSEY",
          "SUNBURY",
          "TOOLERN VALE",
          "WOODEND"
         ],
         "lat": [
          -37.6763789,
          -37.636944,
          -37.654722,
          -37.628056,
          -37.49,
          -37.672,
          -37.2769748,
          -37.6552358,
          -37.4281226,
          -37.677,
          -37.703056,
          -37.4,
          -37.616667,
          -37.459,
          -37.716667,
          -37.4437804,
          -37.733333,
          -37.3506332,
          -37.581111,
          -37.608056,
          -37.3613204
         ],
         "legendgroup": "Western Water",
         "lon": [
          144.4463206,
          144.803056,
          144.437222,
          144.721111,
          144.588889,
          144.585,
          144.728396,
          144.506845,
          144.5556723,
          144.612,
          144.571944,
          144.583333,
          144.333333,
          144.598,
          144.45,
          144.6832081,
          144.666667,
          144.7428496,
          144.713889,
          144.593056,
          144.5244238
         ],
         "marker": {
          "color": "#FFA15A",
          "opacity": 0.8
         },
         "mode": "markers",
         "name": "Western Water",
         "showlegend": true,
         "subplot": "mapbox",
         "type": "scattermapbox"
        },
        {
         "customdata": [
          [
           "East Gippsland Water"
          ],
          [
           "East Gippsland Water"
          ],
          [
           "East Gippsland Water"
          ],
          [
           "East Gippsland Water"
          ],
          [
           "East Gippsland Water"
          ],
          [
           "East Gippsland Water"
          ],
          [
           "East Gippsland Water"
          ],
          [
           "East Gippsland Water"
          ],
          [
           "East Gippsland Water"
          ],
          [
           "East Gippsland Water"
          ],
          [
           "East Gippsland Water"
          ],
          [
           "East Gippsland Water"
          ],
          [
           "East Gippsland Water"
          ],
          [
           "East Gippsland Water"
          ],
          [
           "East Gippsland Water"
          ],
          [
           "East Gippsland Water"
          ],
          [
           "East Gippsland Water"
          ],
          [
           "East Gippsland Water"
          ],
          [
           "East Gippsland Water"
          ],
          [
           "East Gippsland Water"
          ],
          [
           "East Gippsland Water"
          ],
          [
           "East Gippsland Water"
          ],
          [
           "East Gippsland Water"
          ],
          [
           "East Gippsland Water"
          ],
          [
           "East Gippsland Water"
          ],
          [
           "East Gippsland Water"
          ],
          [
           "East Gippsland Water"
          ],
          [
           "East Gippsland Water"
          ],
          [
           "East Gippsland Water"
          ],
          [
           "East Gippsland Water"
          ],
          [
           "East Gippsland Water"
          ],
          [
           "East Gippsland Water"
          ],
          [
           "East Gippsland Water"
          ],
          [
           "East Gippsland Water"
          ],
          [
           "East Gippsland Water"
          ],
          [
           "East Gippsland Water"
          ],
          [
           "East Gippsland Water"
          ],
          [
           "East Gippsland Water"
          ],
          [
           "East Gippsland Water"
          ],
          [
           "East Gippsland Water"
          ]
         ],
         "hovertemplate": "<b>%{hovertext}</b><br><br>water_company=%{customdata[0]}<br>lat=%{lat}<br>lon=%{lon}<extra></extra>",
         "hovertext": [
          "BAIRNSDALE",
          "BEMM RIVER",
          "BRUTHEN",
          "BUCHAN",
          "CANN RIVER",
          "DINNER PLAIN",
          "EAGLE POINT",
          "EAST BAIRNSDALE",
          "EASTWOOD",
          "GENOA",
          "GRANITE ROCK",
          "JOHNSONVILLE",
          "KALIMNA",
          "LAKE BUNGA",
          "LAKE TYERS",
          "LAKE TYERS BEACH",
          "LAKES ENTRANCE",
          "LINDENOW",
          "LINDENOW SOUTH",
          "LUCKNOW",
          "MALLACOOTA",
          "MARLO",
          "METUNG",
          "MOSSIFACE",
          "NEWLANDS ARM",
          "NEWMERELLA",
          "NICHOLSON",
          "NOWA NOWA",
          "OMEO",
          "ORBOST",
          "PAYNESVILLE",
          "RAYMOND ISLAND",
          "SARSFIELD",
          "SWAN REACH",
          "SWIFTS CREEK",
          "TAMBO UPPER",
          "TOORLOO",
          "WALPA",
          "WISELEIGH",
          "WY YUNG"
         ],
         "lat": [
          -37.833333,
          -37.7590189,
          -37.7135193,
          -37.5121541,
          -37.566667,
          -37.0238277,
          -37.8992112,
          -37.8361684,
          -37.8134091,
          -37.4510835,
          -37.7573323,
          -37.8177196,
          -37.866369,
          -37.8616357,
          -37.8396304,
          -37.8606804,
          -37.8511185,
          -37.8,
          -37.8261072,
          -37.8115088,
          -37.55,
          -37.796,
          -37.883333,
          -37.7451219,
          -37.9277583,
          -37.7514308,
          -37.816667,
          -37.7343937,
          -37.1,
          -37.7028259,
          -37.9112576,
          -37.916667,
          -37.7438718,
          -37.7911465,
          -37.250278,
          -37.7718005,
          -37.7894568,
          -37.7939691,
          -37.7125989,
          -37.8035174
         ],
         "legendgroup": "East Gippsland Water",
         "lon": [
          147.616667,
          148.9606122,
          147.8339017,
          148.165845,
          149.15,
          147.2413889,
          147.6775564,
          147.6495717,
          147.6297389,
          149.696092,
          147.6722422,
          147.8044654,
          147.9673981,
          148.0384692,
          148.1238154,
          148.0669106,
          147.995821,
          147.483333,
          147.4388572,
          147.6779106,
          149.75,
          148.531,
          147.85,
          147.8197188,
          147.692083,
          148.42875,
          147.733333,
          148.0867723,
          147.6,
          148.4653469,
          147.7123335,
          147.733333,
          147.7686461,
          147.8712905,
          147.712222,
          147.8116993,
          148.0505559,
          147.3892119,
          147.7913421,
          147.6191276
         ],
         "marker": {
          "color": "#19d3f3",
          "opacity": 0.8
         },
         "mode": "markers",
         "name": "East Gippsland Water",
         "showlegend": true,
         "subplot": "mapbox",
         "type": "scattermapbox"
        },
        {
         "customdata": [
          [
           "North East Water"
          ],
          [
           "North East Water"
          ],
          [
           "North East Water"
          ],
          [
           "North East Water"
          ],
          [
           "North East Water"
          ],
          [
           "North East Water"
          ],
          [
           "North East Water"
          ],
          [
           "North East Water"
          ],
          [
           "North East Water"
          ],
          [
           "North East Water"
          ],
          [
           "North East Water"
          ],
          [
           "North East Water"
          ],
          [
           "North East Water"
          ],
          [
           "North East Water"
          ],
          [
           "North East Water"
          ],
          [
           "North East Water"
          ],
          [
           "North East Water"
          ],
          [
           "North East Water"
          ],
          [
           "North East Water"
          ],
          [
           "North East Water"
          ],
          [
           "North East Water"
          ],
          [
           "North East Water"
          ],
          [
           "North East Water"
          ],
          [
           "North East Water"
          ],
          [
           "North East Water"
          ],
          [
           "North East Water"
          ],
          [
           "North East Water"
          ],
          [
           "North East Water"
          ],
          [
           "North East Water"
          ],
          [
           "North East Water"
          ],
          [
           "North East Water"
          ],
          [
           "North East Water"
          ],
          [
           "North East Water"
          ],
          [
           "North East Water"
          ],
          [
           "North East Water"
          ],
          [
           "North East Water"
          ],
          [
           "North East Water"
          ],
          [
           "North East Water"
          ],
          [
           "North East Water"
          ],
          [
           "North East Water"
          ],
          [
           "North East Water"
          ]
         ],
         "hovertemplate": "<b>%{hovertext}</b><br><br>water_company=%{customdata[0]}<br>lat=%{lat}<br>lon=%{lon}<extra></extra>",
         "hovertext": [
          "BANDIANA MILPO",
          "BARANDUDA",
          "BARNAWARTHA",
          "BEECHWORTH",
          "BELLBRIDGE",
          "BENALLA",
          "BONEGILLA",
          "BRIGHT",
          "BUNDALONG",
          "CHILTERN",
          "CORRYONG",
          "CUDGEWA",
          "DARTMOUTH",
          "DEVENISH",
          "EBDEN",
          "GLENROWAN",
          "GOORAMBAT",
          "HARRIETVILLE",
          "KIEWA",
          "KILLARA",
          "MOYHU",
          "MT BEAUTY",
          "MYRTLEFORD",
          "OXLEY",
          "POREPUNKAH",
          "RUTHERGLEN",
          "SPRINGHURST",
          "ST JAMES",
          "TALLANGATTA",
          "TANGAMBALANGA",
          "TAWONGA",
          "TAWONGA SOUTH",
          "TUNGAMAH",
          "WAHGUNYAH",
          "WALWA",
          "WANDILIGONG",
          "WANGARATTA",
          "WHITFIELD",
          "WODONGA",
          "YACKANDANDAH",
          "YARRAWONGA"
         ],
         "lat": [
          -37.4713077,
          -36.1933366,
          -36.112928,
          -36.3533015,
          -36.098056,
          -36.5462177,
          -36.1304904,
          -36.7321521,
          -36.02935,
          -36.15,
          -36.1966523,
          -36.1548052,
          -36.7665868,
          -36.3464064,
          -36.1415988,
          -36.4468841,
          -36.4391452,
          -36.8886692,
          -36.2732078,
          -36.138988,
          -36.5925448,
          -36.7358203,
          -36.5555446,
          -36.4349409,
          -36.694433,
          -36.055556,
          -36.183333,
          -36.2799892,
          -36.2194035,
          -36.233333,
          -36.6941469,
          -36.7304657,
          -36.1575347,
          -36.0126173,
          -35.9642807,
          -36.761389,
          -36.3682777,
          -36.7563131,
          -36.1240938,
          -36.313056,
          -36.0271135
         ],
         "legendgroup": "North East Water",
         "lon": [
          144.7851531,
          146.9496305,
          146.655462,
          146.6877247,
          147.058889,
          145.963353,
          146.9865317,
          146.9836221,
          146.1302674,
          146.6,
          147.9023498,
          147.7920514,
          147.695272,
          145.9045405,
          147.0136321,
          146.2321651,
          145.9393385,
          147.0650375,
          147.019899,
          146.951957,
          146.4181008,
          147.1768206,
          146.7237861,
          146.3554145,
          146.9264143,
          146.4625,
          146.466667,
          145.8920165,
          147.1933136,
          147.033333,
          147.1485394,
          147.152596,
          145.8697558,
          146.4001308,
          147.6814535,
          146.984167,
          146.3172149,
          146.4167014,
          146.8817639,
          146.839167,
          145.9990577
         ],
         "marker": {
          "color": "#FF6692",
          "opacity": 0.8
         },
         "mode": "markers",
         "name": "North East Water",
         "showlegend": true,
         "subplot": "mapbox",
         "type": "scattermapbox"
        },
        {
         "customdata": [
          [
           "Lower Murray Water"
          ],
          [
           "Lower Murray Water"
          ],
          [
           "Lower Murray Water"
          ],
          [
           "Lower Murray Water"
          ],
          [
           "Lower Murray Water"
          ],
          [
           "Lower Murray Water"
          ],
          [
           "Lower Murray Water"
          ],
          [
           "Lower Murray Water"
          ],
          [
           "Lower Murray Water"
          ],
          [
           "Lower Murray Water"
          ],
          [
           "Lower Murray Water"
          ],
          [
           "Lower Murray Water"
          ],
          [
           "Lower Murray Water"
          ],
          [
           "Lower Murray Water"
          ],
          [
           "Lower Murray Water"
          ],
          [
           "Lower Murray Water"
          ],
          [
           "Lower Murray Water"
          ],
          [
           "Lower Murray Water"
          ],
          [
           "Lower Murray Water"
          ],
          [
           "Lower Murray Water"
          ]
         ],
         "hovertemplate": "<b>%{hovertext}</b><br><br>water_company=%{customdata[0]}<br>lat=%{lat}<br>lon=%{lon}<extra></extra>",
         "hovertext": [
          "BIRDWOODTON",
          "CABARITA",
          "CARDROSS",
          "IRYMPLE",
          "KERANG",
          "KOONDROOK",
          "KOORLONG",
          "LAKE BOGA",
          "MERBEIN",
          "MILDURA",
          "MURRABIT",
          "MURRAY DOWNS, NSW",
          "NICHOLS POINT",
          "NYAH",
          "NYAH WEST",
          "PIANGIL",
          "RED CLIFFS",
          "ROBINVALE",
          "SWAN HILL",
          "WOORINEN SOUTH"
         ],
         "lat": [
          -34.196389,
          -34.2,
          -34.3,
          -34.233333,
          -35.7409643,
          -35.633333,
          -34.2479402,
          -35.4334504,
          -34.1613339,
          -34.2080167,
          -35.5250292,
          -35.3850155,
          -34.2076592,
          -35.166667,
          -35.1869703,
          -35.0739274,
          -34.3075,
          -34.5885119,
          -35.3396318,
          -35.2943524
         ],
         "legendgroup": "Lower Murray Water",
         "lon": [
          142.058611,
          142.083,
          142.15,
          142.166667,
          143.9261931,
          144.116667,
          142.0423986,
          143.6211297,
          142.0475029,
          142.1245535,
          143.9539977,
          143.6479568,
          142.2018502,
          143.383333,
          143.3556015,
          143.3300801,
          142.188056,
          142.777553,
          143.5524803,
          143.4771357
         ],
         "marker": {
          "color": "#B6E880",
          "opacity": 0.8
         },
         "mode": "markers",
         "name": "Lower Murray Water",
         "showlegend": true,
         "subplot": "mapbox",
         "type": "scattermapbox"
        },
        {
         "customdata": [
          [
           "Gippsland Water"
          ],
          [
           "Gippsland Water"
          ],
          [
           "Gippsland Water"
          ],
          [
           "Gippsland Water"
          ],
          [
           "Gippsland Water"
          ],
          [
           "Gippsland Water"
          ],
          [
           "Gippsland Water"
          ],
          [
           "Gippsland Water"
          ],
          [
           "Gippsland Water"
          ],
          [
           "Gippsland Water"
          ],
          [
           "Gippsland Water"
          ],
          [
           "Gippsland Water"
          ],
          [
           "Gippsland Water"
          ],
          [
           "Gippsland Water"
          ],
          [
           "Gippsland Water"
          ],
          [
           "Gippsland Water"
          ],
          [
           "Gippsland Water"
          ],
          [
           "Gippsland Water"
          ],
          [
           "Gippsland Water"
          ],
          [
           "Gippsland Water"
          ],
          [
           "Gippsland Water"
          ],
          [
           "Gippsland Water"
          ],
          [
           "Gippsland Water"
          ],
          [
           "Gippsland Water"
          ],
          [
           "Gippsland Water"
          ],
          [
           "Gippsland Water"
          ],
          [
           "Gippsland Water"
          ],
          [
           "Gippsland Water"
          ],
          [
           "Gippsland Water"
          ],
          [
           "Gippsland Water"
          ],
          [
           "Gippsland Water"
          ],
          [
           "Gippsland Water"
          ],
          [
           "Gippsland Water"
          ],
          [
           "Gippsland Water"
          ],
          [
           "Gippsland Water"
          ],
          [
           "Gippsland Water"
          ],
          [
           "Gippsland Water"
          ],
          [
           "Gippsland Water"
          ],
          [
           "Gippsland Water"
          ],
          [
           "Gippsland Water"
          ],
          [
           "Gippsland Water"
          ],
          [
           "Gippsland Water"
          ],
          [
           "Gippsland Water"
          ]
         ],
         "hovertemplate": "<b>%{hovertext}</b><br><br>water_company=%{customdata[0]}<br>lat=%{lat}<br>lon=%{lon}<extra></extra>",
         "hovertext": [
          "BOISDALE",
          "BOOLARRA",
          "BRIAGOLONG",
          "BULN BULN",
          "CHURCHILL",
          "COONGULLA",
          "COWWARR",
          "MOE",
          "DARNUM",
          "DROUIN",
          "DROUIN WEST",
          "ERICA",
          "GLENGARRY",
          "GLENMAGGIE",
          "HAZELWOOD NORTH",
          "HEYFIELD",
          "JUMBUK",
          "MAFFRA",
          "MIRBOO NORTH",
          "MORWELL",
          "NEERIM SOUTH",
          "NEWBOROUGH",
          "NILMA",
          "NOOJEE",
          "RAWSON",
          "ROKEBY",
          "ROSEDALE",
          "SALE",
          "SEASPRAY",
          "STRATFORD",
          "THORPDALE",
          "TOONGABBIE",
          "TRAFALGAR",
          "TRARALGON",
          "TRARALGON SOUTH",
          "TYERS",
          "WARRAGUL",
          "WARRAGUL SOUTH",
          "WILLOW GROVE",
          "WURRUK",
          "YALLOURN NORTH",
          "YARRAGON",
          "YINNAR"
         ],
         "lat": [
          -37.8840703,
          -38.383333,
          -37.822072,
          -38.083333,
          -38.3163383,
          -37.8863058,
          -38.0126207,
          -38.172222,
          -38.183333,
          -38.1353835,
          -38.0866074,
          -37.9756695,
          -38.1352566,
          -37.9163753,
          -38.265189,
          -37.9827396,
          -38.3747997,
          -37.9619053,
          -38.3950602,
          -38.2275886,
          -38.016667,
          -38.1760805,
          -38.1704499,
          -37.883333,
          -37.95,
          -38.066667,
          -38.15,
          -38.1026004,
          -38.2936345,
          -37.966667,
          -38.283333,
          -38.05,
          -38.2,
          -38.2033531,
          -38.2986311,
          -38.15,
          -38.1537515,
          -38.2181003,
          -38.0690534,
          -38.1077891,
          -38.1596163,
          -38.2,
          -38.316667
         ],
         "legendgroup": "Gippsland Water",
         "lon": [
          146.9945377,
          146.266667,
          147.0717292,
          145.933333,
          146.4232518,
          146.7854467,
          146.6591011,
          146.267778,
          146.016667,
          145.8487441,
          145.8523685,
          146.3768277,
          146.5637493,
          146.7461215,
          146.4851099,
          146.7911606,
          146.4051598,
          146.9886238,
          146.1498411,
          146.4146185,
          145.966667,
          146.2985284,
          145.9720608,
          146,
          146.4,
          145.933333,
          146.783,
          147.073027,
          147.1467693,
          147.083333,
          146.166667,
          146.616667,
          146.15,
          146.519786,
          146.5368986,
          146.466667,
          145.9297824,
          145.9247217,
          146.1623601,
          147.0280652,
          146.3612622,
          146.066667,
          146.316667
         ],
         "marker": {
          "color": "#FF97FF",
          "opacity": 0.8
         },
         "mode": "markers",
         "name": "Gippsland Water",
         "showlegend": true,
         "subplot": "mapbox",
         "type": "scattermapbox"
        },
        {
         "customdata": [
          [
           "Mount Buller and Mount Stirling ARMB"
          ],
          [
           "Mount Buller and Mount Stirling ARMB"
          ]
         ],
         "hovertemplate": "<b>%{hovertext}</b><br><br>water_company=%{customdata[0]}<br>lat=%{lat}<br>lon=%{lon}<extra></extra>",
         "hovertext": [
          "MIRIMBAH",
          "MOUNT BULLER"
         ],
         "lat": [
          -37.1103367,
          -37.1467949
         ],
         "legendgroup": "Mount Buller and Mount Stirling ARMB",
         "lon": [
          146.396505,
          146.4489704
         ],
         "marker": {
          "color": "#FECB52",
          "opacity": 0.8
         },
         "mode": "markers",
         "name": "Mount Buller and Mount Stirling ARMB",
         "showlegend": true,
         "subplot": "mapbox",
         "type": "scattermapbox"
        },
        {
         "customdata": [
          [
           "Mount Hotham ARMB"
          ]
         ],
         "hovertemplate": "<b>%{hovertext}</b><br><br>water_company=%{customdata[0]}<br>lat=%{lat}<br>lon=%{lon}<extra></extra>",
         "hovertext": [
          "MOUNT HOTHAM"
         ],
         "lat": [
          -36.9752778
         ],
         "legendgroup": "Mount Hotham ARMB",
         "lon": [
          147.1327778
         ],
         "marker": {
          "color": "#636efa",
          "opacity": 0.8
         },
         "mode": "markers",
         "name": "Mount Hotham ARMB",
         "showlegend": true,
         "subplot": "mapbox",
         "type": "scattermapbox"
        }
       ],
       "layout": {
        "height": 720,
        "legend": {
         "title": {
          "text": "water_company"
         },
         "tracegroupgap": 0
        },
        "mapbox": {
         "center": {
          "lat": -37.8136276,
          "lon": 144.9630576
         },
         "domain": {
          "x": [
           0,
           1
          ],
          "y": [
           0,
           1
          ]
         },
         "style": "carto-positron",
         "zoom": 8
        },
        "margin": {
         "b": 0,
         "l": 0,
         "r": 0,
         "t": 0
        },
        "template": {
         "data": {
          "bar": [
           {
            "error_x": {
             "color": "#f2f5fa"
            },
            "error_y": {
             "color": "#f2f5fa"
            },
            "marker": {
             "line": {
              "color": "rgb(17,17,17)",
              "width": 0.5
             },
             "pattern": {
              "fillmode": "overlay",
              "size": 10,
              "solidity": 0.2
             }
            },
            "type": "bar"
           }
          ],
          "barpolar": [
           {
            "marker": {
             "line": {
              "color": "rgb(17,17,17)",
              "width": 0.5
             },
             "pattern": {
              "fillmode": "overlay",
              "size": 10,
              "solidity": 0.2
             }
            },
            "type": "barpolar"
           }
          ],
          "carpet": [
           {
            "aaxis": {
             "endlinecolor": "#A2B1C6",
             "gridcolor": "#506784",
             "linecolor": "#506784",
             "minorgridcolor": "#506784",
             "startlinecolor": "#A2B1C6"
            },
            "baxis": {
             "endlinecolor": "#A2B1C6",
             "gridcolor": "#506784",
             "linecolor": "#506784",
             "minorgridcolor": "#506784",
             "startlinecolor": "#A2B1C6"
            },
            "type": "carpet"
           }
          ],
          "choropleth": [
           {
            "colorbar": {
             "outlinewidth": 0,
             "ticks": ""
            },
            "type": "choropleth"
           }
          ],
          "contour": [
           {
            "colorbar": {
             "outlinewidth": 0,
             "ticks": ""
            },
            "colorscale": [
             [
              0,
              "#0d0887"
             ],
             [
              0.1111111111111111,
              "#46039f"
             ],
             [
              0.2222222222222222,
              "#7201a8"
             ],
             [
              0.3333333333333333,
              "#9c179e"
             ],
             [
              0.4444444444444444,
              "#bd3786"
             ],
             [
              0.5555555555555556,
              "#d8576b"
             ],
             [
              0.6666666666666666,
              "#ed7953"
             ],
             [
              0.7777777777777778,
              "#fb9f3a"
             ],
             [
              0.8888888888888888,
              "#fdca26"
             ],
             [
              1,
              "#f0f921"
             ]
            ],
            "type": "contour"
           }
          ],
          "contourcarpet": [
           {
            "colorbar": {
             "outlinewidth": 0,
             "ticks": ""
            },
            "type": "contourcarpet"
           }
          ],
          "heatmap": [
           {
            "colorbar": {
             "outlinewidth": 0,
             "ticks": ""
            },
            "colorscale": [
             [
              0,
              "#0d0887"
             ],
             [
              0.1111111111111111,
              "#46039f"
             ],
             [
              0.2222222222222222,
              "#7201a8"
             ],
             [
              0.3333333333333333,
              "#9c179e"
             ],
             [
              0.4444444444444444,
              "#bd3786"
             ],
             [
              0.5555555555555556,
              "#d8576b"
             ],
             [
              0.6666666666666666,
              "#ed7953"
             ],
             [
              0.7777777777777778,
              "#fb9f3a"
             ],
             [
              0.8888888888888888,
              "#fdca26"
             ],
             [
              1,
              "#f0f921"
             ]
            ],
            "type": "heatmap"
           }
          ],
          "heatmapgl": [
           {
            "colorbar": {
             "outlinewidth": 0,
             "ticks": ""
            },
            "colorscale": [
             [
              0,
              "#0d0887"
             ],
             [
              0.1111111111111111,
              "#46039f"
             ],
             [
              0.2222222222222222,
              "#7201a8"
             ],
             [
              0.3333333333333333,
              "#9c179e"
             ],
             [
              0.4444444444444444,
              "#bd3786"
             ],
             [
              0.5555555555555556,
              "#d8576b"
             ],
             [
              0.6666666666666666,
              "#ed7953"
             ],
             [
              0.7777777777777778,
              "#fb9f3a"
             ],
             [
              0.8888888888888888,
              "#fdca26"
             ],
             [
              1,
              "#f0f921"
             ]
            ],
            "type": "heatmapgl"
           }
          ],
          "histogram": [
           {
            "marker": {
             "pattern": {
              "fillmode": "overlay",
              "size": 10,
              "solidity": 0.2
             }
            },
            "type": "histogram"
           }
          ],
          "histogram2d": [
           {
            "colorbar": {
             "outlinewidth": 0,
             "ticks": ""
            },
            "colorscale": [
             [
              0,
              "#0d0887"
             ],
             [
              0.1111111111111111,
              "#46039f"
             ],
             [
              0.2222222222222222,
              "#7201a8"
             ],
             [
              0.3333333333333333,
              "#9c179e"
             ],
             [
              0.4444444444444444,
              "#bd3786"
             ],
             [
              0.5555555555555556,
              "#d8576b"
             ],
             [
              0.6666666666666666,
              "#ed7953"
             ],
             [
              0.7777777777777778,
              "#fb9f3a"
             ],
             [
              0.8888888888888888,
              "#fdca26"
             ],
             [
              1,
              "#f0f921"
             ]
            ],
            "type": "histogram2d"
           }
          ],
          "histogram2dcontour": [
           {
            "colorbar": {
             "outlinewidth": 0,
             "ticks": ""
            },
            "colorscale": [
             [
              0,
              "#0d0887"
             ],
             [
              0.1111111111111111,
              "#46039f"
             ],
             [
              0.2222222222222222,
              "#7201a8"
             ],
             [
              0.3333333333333333,
              "#9c179e"
             ],
             [
              0.4444444444444444,
              "#bd3786"
             ],
             [
              0.5555555555555556,
              "#d8576b"
             ],
             [
              0.6666666666666666,
              "#ed7953"
             ],
             [
              0.7777777777777778,
              "#fb9f3a"
             ],
             [
              0.8888888888888888,
              "#fdca26"
             ],
             [
              1,
              "#f0f921"
             ]
            ],
            "type": "histogram2dcontour"
           }
          ],
          "mesh3d": [
           {
            "colorbar": {
             "outlinewidth": 0,
             "ticks": ""
            },
            "type": "mesh3d"
           }
          ],
          "parcoords": [
           {
            "line": {
             "colorbar": {
              "outlinewidth": 0,
              "ticks": ""
             }
            },
            "type": "parcoords"
           }
          ],
          "pie": [
           {
            "automargin": true,
            "type": "pie"
           }
          ],
          "scatter": [
           {
            "marker": {
             "line": {
              "color": "#283442"
             }
            },
            "type": "scatter"
           }
          ],
          "scatter3d": [
           {
            "line": {
             "colorbar": {
              "outlinewidth": 0,
              "ticks": ""
             }
            },
            "marker": {
             "colorbar": {
              "outlinewidth": 0,
              "ticks": ""
             }
            },
            "type": "scatter3d"
           }
          ],
          "scattercarpet": [
           {
            "marker": {
             "colorbar": {
              "outlinewidth": 0,
              "ticks": ""
             }
            },
            "type": "scattercarpet"
           }
          ],
          "scattergeo": [
           {
            "marker": {
             "colorbar": {
              "outlinewidth": 0,
              "ticks": ""
             }
            },
            "type": "scattergeo"
           }
          ],
          "scattergl": [
           {
            "marker": {
             "line": {
              "color": "#283442"
             }
            },
            "type": "scattergl"
           }
          ],
          "scattermapbox": [
           {
            "marker": {
             "colorbar": {
              "outlinewidth": 0,
              "ticks": ""
             }
            },
            "type": "scattermapbox"
           }
          ],
          "scatterpolar": [
           {
            "marker": {
             "colorbar": {
              "outlinewidth": 0,
              "ticks": ""
             }
            },
            "type": "scatterpolar"
           }
          ],
          "scatterpolargl": [
           {
            "marker": {
             "colorbar": {
              "outlinewidth": 0,
              "ticks": ""
             }
            },
            "type": "scatterpolargl"
           }
          ],
          "scatterternary": [
           {
            "marker": {
             "colorbar": {
              "outlinewidth": 0,
              "ticks": ""
             }
            },
            "type": "scatterternary"
           }
          ],
          "surface": [
           {
            "colorbar": {
             "outlinewidth": 0,
             "ticks": ""
            },
            "colorscale": [
             [
              0,
              "#0d0887"
             ],
             [
              0.1111111111111111,
              "#46039f"
             ],
             [
              0.2222222222222222,
              "#7201a8"
             ],
             [
              0.3333333333333333,
              "#9c179e"
             ],
             [
              0.4444444444444444,
              "#bd3786"
             ],
             [
              0.5555555555555556,
              "#d8576b"
             ],
             [
              0.6666666666666666,
              "#ed7953"
             ],
             [
              0.7777777777777778,
              "#fb9f3a"
             ],
             [
              0.8888888888888888,
              "#fdca26"
             ],
             [
              1,
              "#f0f921"
             ]
            ],
            "type": "surface"
           }
          ],
          "table": [
           {
            "cells": {
             "fill": {
              "color": "#506784"
             },
             "line": {
              "color": "rgb(17,17,17)"
             }
            },
            "header": {
             "fill": {
              "color": "#2a3f5f"
             },
             "line": {
              "color": "rgb(17,17,17)"
             }
            },
            "type": "table"
           }
          ]
         },
         "layout": {
          "annotationdefaults": {
           "arrowcolor": "#f2f5fa",
           "arrowhead": 0,
           "arrowwidth": 1
          },
          "autotypenumbers": "strict",
          "coloraxis": {
           "colorbar": {
            "outlinewidth": 0,
            "ticks": ""
           }
          },
          "colorscale": {
           "diverging": [
            [
             0,
             "#8e0152"
            ],
            [
             0.1,
             "#c51b7d"
            ],
            [
             0.2,
             "#de77ae"
            ],
            [
             0.3,
             "#f1b6da"
            ],
            [
             0.4,
             "#fde0ef"
            ],
            [
             0.5,
             "#f7f7f7"
            ],
            [
             0.6,
             "#e6f5d0"
            ],
            [
             0.7,
             "#b8e186"
            ],
            [
             0.8,
             "#7fbc41"
            ],
            [
             0.9,
             "#4d9221"
            ],
            [
             1,
             "#276419"
            ]
           ],
           "sequential": [
            [
             0,
             "#0d0887"
            ],
            [
             0.1111111111111111,
             "#46039f"
            ],
            [
             0.2222222222222222,
             "#7201a8"
            ],
            [
             0.3333333333333333,
             "#9c179e"
            ],
            [
             0.4444444444444444,
             "#bd3786"
            ],
            [
             0.5555555555555556,
             "#d8576b"
            ],
            [
             0.6666666666666666,
             "#ed7953"
            ],
            [
             0.7777777777777778,
             "#fb9f3a"
            ],
            [
             0.8888888888888888,
             "#fdca26"
            ],
            [
             1,
             "#f0f921"
            ]
           ],
           "sequentialminus": [
            [
             0,
             "#0d0887"
            ],
            [
             0.1111111111111111,
             "#46039f"
            ],
            [
             0.2222222222222222,
             "#7201a8"
            ],
            [
             0.3333333333333333,
             "#9c179e"
            ],
            [
             0.4444444444444444,
             "#bd3786"
            ],
            [
             0.5555555555555556,
             "#d8576b"
            ],
            [
             0.6666666666666666,
             "#ed7953"
            ],
            [
             0.7777777777777778,
             "#fb9f3a"
            ],
            [
             0.8888888888888888,
             "#fdca26"
            ],
            [
             1,
             "#f0f921"
            ]
           ]
          },
          "colorway": [
           "#636efa",
           "#EF553B",
           "#00cc96",
           "#ab63fa",
           "#FFA15A",
           "#19d3f3",
           "#FF6692",
           "#B6E880",
           "#FF97FF",
           "#FECB52"
          ],
          "font": {
           "color": "#f2f5fa"
          },
          "geo": {
           "bgcolor": "rgb(17,17,17)",
           "lakecolor": "rgb(17,17,17)",
           "landcolor": "rgb(17,17,17)",
           "showlakes": true,
           "showland": true,
           "subunitcolor": "#506784"
          },
          "hoverlabel": {
           "align": "left"
          },
          "hovermode": "closest",
          "mapbox": {
           "style": "dark"
          },
          "paper_bgcolor": "rgb(17,17,17)",
          "plot_bgcolor": "rgb(17,17,17)",
          "polar": {
           "angularaxis": {
            "gridcolor": "#506784",
            "linecolor": "#506784",
            "ticks": ""
           },
           "bgcolor": "rgb(17,17,17)",
           "radialaxis": {
            "gridcolor": "#506784",
            "linecolor": "#506784",
            "ticks": ""
           }
          },
          "scene": {
           "xaxis": {
            "backgroundcolor": "rgb(17,17,17)",
            "gridcolor": "#506784",
            "gridwidth": 2,
            "linecolor": "#506784",
            "showbackground": true,
            "ticks": "",
            "zerolinecolor": "#C8D4E3"
           },
           "yaxis": {
            "backgroundcolor": "rgb(17,17,17)",
            "gridcolor": "#506784",
            "gridwidth": 2,
            "linecolor": "#506784",
            "showbackground": true,
            "ticks": "",
            "zerolinecolor": "#C8D4E3"
           },
           "zaxis": {
            "backgroundcolor": "rgb(17,17,17)",
            "gridcolor": "#506784",
            "gridwidth": 2,
            "linecolor": "#506784",
            "showbackground": true,
            "ticks": "",
            "zerolinecolor": "#C8D4E3"
           }
          },
          "shapedefaults": {
           "line": {
            "color": "#f2f5fa"
           }
          },
          "sliderdefaults": {
           "bgcolor": "#C8D4E3",
           "bordercolor": "rgb(17,17,17)",
           "borderwidth": 1,
           "tickwidth": 0
          },
          "ternary": {
           "aaxis": {
            "gridcolor": "#506784",
            "linecolor": "#506784",
            "ticks": ""
           },
           "baxis": {
            "gridcolor": "#506784",
            "linecolor": "#506784",
            "ticks": ""
           },
           "bgcolor": "rgb(17,17,17)",
           "caxis": {
            "gridcolor": "#506784",
            "linecolor": "#506784",
            "ticks": ""
           }
          },
          "title": {
           "x": 0.05
          },
          "updatemenudefaults": {
           "bgcolor": "#506784",
           "borderwidth": 0
          },
          "xaxis": {
           "automargin": true,
           "gridcolor": "#283442",
           "linecolor": "#506784",
           "ticks": "",
           "title": {
            "standoff": 15
           },
           "zerolinecolor": "#283442",
           "zerolinewidth": 2
          },
          "yaxis": {
           "automargin": true,
           "gridcolor": "#283442",
           "linecolor": "#506784",
           "ticks": "",
           "title": {
            "standoff": 15
           },
           "zerolinecolor": "#283442",
           "zerolinewidth": 2
          }
         }
        },
        "width": 1280
       }
      }
     },
     "metadata": {},
     "output_type": "display_data"
    }
   ],
   "source": [
    "fig = px.scatter_mapbox(\n",
    "    df,\n",
    "    lat='lat',\n",
    "    lon='lon',\n",
    "    color='water_company',\n",
    "    mapbox_style='carto-positron',\n",
    "    zoom=8,\n",
    "    center={'lat': df.query('postcode == 3000')['lat'].values[0], \n",
    "            'lon': df.query('postcode == 3000')['lon'].values[0]},\n",
    "    opacity=0.8,\n",
    "    hover_name='townsuburb',\n",
    "    hover_data=['water_company'],\n",
    "    color_discrete_map={'Fluoridated': 'red', 'Not fluoridated': 'blue', 'Partly fluoridated': 'black'},\n",
    "    template='plotly_dark',\n",
    ")\n",
    "fig.update_layout(\n",
    "    margin={\"r\":0,\"t\":0,\"l\":0,\"b\":0},\n",
    "    width=1280,\n",
    "    height=720,\n",
    "    )\n",
    "\n",
    "fig.show()"
   ]
  },
  {
   "cell_type": "code",
   "execution_count": null,
   "metadata": {},
   "outputs": [],
   "source": []
  },
  {
   "cell_type": "code",
   "execution_count": null,
   "metadata": {},
   "outputs": [
    {
     "data": {
      "image/png": "[encoded data removed]",
      "text/plain": [
       "<Figure size 1000x600 with 1 Axes>"
      ]
     },
     "metadata": {},
     "output_type": "display_data"
    },
    {
     "data": {
      "text/html": [
       "<div>\n",
       "<style scoped>\n",
       "    .dataframe tbody tr th:only-of-type {\n",
       "        vertical-align: middle;\n",
       "    }\n",
       "\n",
       "    .dataframe tbody tr th {\n",
       "        vertical-align: top;\n",
       "    }\n",
       "\n",
       "    .dataframe thead th {\n",
       "        text-align: right;\n",
       "    }\n",
       "</style>\n",
       "<table border=\"1\" class=\"dataframe\">\n",
       "  <thead>\n",
       "    <tr style=\"text-align: right;\">\n",
       "      <th></th>\n",
       "      <th>Suburb</th>\n",
       "      <th>Num_Fluoridated_Companies</th>\n",
       "    </tr>\n",
       "  </thead>\n",
       "  <tbody>\n",
       "    <tr>\n",
       "      <th>22</th>\n",
       "      <td>ARMADALE</td>\n",
       "      <td>2</td>\n",
       "    </tr>\n",
       "    <tr>\n",
       "      <th>57</th>\n",
       "      <td>BAYSWATER</td>\n",
       "      <td>2</td>\n",
       "    </tr>\n",
       "    <tr>\n",
       "      <th>63</th>\n",
       "      <td>BELGRAVE</td>\n",
       "      <td>2</td>\n",
       "    </tr>\n",
       "    <tr>\n",
       "      <th>165</th>\n",
       "      <td>COBURG</td>\n",
       "      <td>2</td>\n",
       "    </tr>\n",
       "    <tr>\n",
       "      <th>331</th>\n",
       "      <td>HUGHESDALE</td>\n",
       "      <td>2</td>\n",
       "    </tr>\n",
       "    <tr>\n",
       "      <th>332</th>\n",
       "      <td>HUNTINGDALE</td>\n",
       "      <td>2</td>\n",
       "    </tr>\n",
       "    <tr>\n",
       "      <th>422</th>\n",
       "      <td>MALVERN</td>\n",
       "      <td>2</td>\n",
       "    </tr>\n",
       "    <tr>\n",
       "      <th>490</th>\n",
       "      <td>MULGRAVE</td>\n",
       "      <td>2</td>\n",
       "    </tr>\n",
       "    <tr>\n",
       "      <th>531</th>\n",
       "      <td>OAKLEIGH</td>\n",
       "      <td>2</td>\n",
       "    </tr>\n",
       "    <tr>\n",
       "      <th>540</th>\n",
       "      <td>PAKENHAM</td>\n",
       "      <td>2</td>\n",
       "    </tr>\n",
       "  </tbody>\n",
       "</table>\n",
       "</div>"
      ],
      "text/plain": [
       "          Suburb  Num_Fluoridated_Companies\n",
       "22      ARMADALE                          2\n",
       "57     BAYSWATER                          2\n",
       "63      BELGRAVE                          2\n",
       "165       COBURG                          2\n",
       "331   HUGHESDALE                          2\n",
       "332  HUNTINGDALE                          2\n",
       "422      MALVERN                          2\n",
       "490     MULGRAVE                          2\n",
       "531     OAKLEIGH                          2\n",
       "540     PAKENHAM                          2"
      ]
     },
     "execution_count": 114,
     "metadata": {},
     "output_type": "execute_result"
    }
   ],
   "source": [
    "import pandas as pd\n",
    "import matplotlib.pyplot as plt\n",
    "\n",
    "# Load the dataset\n",
    "file_path = '../data/Fluoridation by postcode - Sheet1.csv'\n",
    "data = pd.read_csv(file_path)\n",
    "\n",
    "# Filter for fluoridated companies\n",
    "fluoridated_data = data[data['fluoride_level'] == 'Fluoridated']\n",
    "\n",
    "# Count the number of fluoridated companies per suburb\n",
    "suburb_counts = fluoridated_data.groupby('townsuburb')['water_company'].nunique().reset_index()\n",
    "suburb_counts.columns = ['Suburb', 'Num_Fluoridated_Companies']\n",
    "\n",
    "# Get the top 10 suburbs with the most fluoridated companies\n",
    "top_10_suburbs = suburb_counts.nlargest(10, 'Num_Fluoridated_Companies')\n",
    "\n",
    "# Plot the histogram\n",
    "plt.figure(figsize=(10, 6))\n",
    "plt.hist(top_10_suburbs['Num_Fluoridated_Companies'], bins=range(1, top_10_suburbs['Num_Fluoridated_Companies'].max() + 2), edgecolor='black', align='left')\n",
    "plt.xlabel('Number of Fluoridated Companies')\n",
    "plt.ylabel('Number of Suburbs')\n",
    "plt.title('Histogram of Top 10 Suburbs by Number of Fluoridated Companies')\n",
    "plt.xticks(range(1, top_10_suburbs['Num_Fluoridated_Companies'].max() + 1))\n",
    "plt.grid(axis='y')\n",
    "plt.show()\n",
    "\n",
    "# Display the top 10 suburbs data\n",
    "top_10_suburbs\n"
   ]
  },
  {
   "cell_type": "code",
   "execution_count": 49,
   "metadata": {},
   "outputs": [
    {
     "data": {
      "image/png": "[encoded data removed]",
      "text/plain": [
       "<Figure size 1000x600 with 1 Axes>"
      ]
     },
     "metadata": {},
     "output_type": "display_data"
    },
    {
     "data": {
      "image/png": "[encoded data removed]",
      "text/plain": [
       "<Figure size 1000x600 with 1 Axes>"
      ]
     },
     "metadata": {},
     "output_type": "display_data"
    },
    {
     "data": {
      "text/plain": [
       "2"
      ]
     },
     "execution_count": 49,
     "metadata": {},
     "output_type": "execute_result"
    }
   ],
   "source": [
    "import pandas as pd\n",
    "from sklearn.preprocessing import LabelEncoder\n",
    "from sklearn.cluster import KMeans\n",
    "import matplotlib.pyplot as plt\n",
    "from sklearn.metrics import silhouette_score\n",
    "\n",
    "label_encoder = LabelEncoder()\n",
    "\n",
    "df['water_company_encoded'] = label_encoder.fit_transform(df['water_company'])\n",
    "df['townsuburb_encoded'] = label_encoder.fit_transform(df['townsuburb'])\n",
    "df['fluoride_level_encoded'] = label_encoder.fit_transform(df['fluoride_level'])\n",
    "\n",
    "# Select features for clustering\n",
    "features = df[['water_company_encoded', 'townsuburb_encoded', 'fluoride_level_encoded', 'lat', 'lon']]\n",
    "\n",
    "# Determine the optimal number of clusters using the Elbow method\n",
    "wcss = []\n",
    "for i in range(1, 11):\n",
    "    kmeans = KMeans(n_clusters=i, init='k-means++', max_iter=300, n_init=10, random_state=42)\n",
    "    kmeans.fit(features)\n",
    "    wcss.append(kmeans.inertia_)\n",
    "\n",
    "# Plot the Elbow method result\n",
    "plt.figure(figsize=(10, 6))\n",
    "plt.plot(range(1, 11), wcss, marker='o')\n",
    "plt.title('Elbow Method')\n",
    "plt.xlabel('Number of Clusters')\n",
    "plt.ylabel('WCSS')\n",
    "plt.show()\n",
    "\n",
    "# Using silhouette score to determine the optimal number of clusters\n",
    "silhouette_scores = []\n",
    "for n_clusters in range(2, 11):\n",
    "    clusterer = KMeans(n_clusters=n_clusters, random_state=42)\n",
    "    preds = clusterer.fit_predict(features)\n",
    "    score = silhouette_score(features, preds)\n",
    "    silhouette_scores.append(score)\n",
    "\n",
    "# Plot the silhouette scores\n",
    "plt.figure(figsize=(10, 6))\n",
    "plt.plot(range(2, 11), silhouette_scores, marker='o')\n",
    "plt.title('Silhouette Scores for Various Clusters')\n",
    "plt.xlabel('Number of Clusters')\n",
    "plt.ylabel('Silhouette Score')\n",
    "plt.show()\n",
    "\n",
    "# Choose the optimal number of clusters based on silhouette score\n",
    "optimal_clusters = silhouette_scores.index(max(silhouette_scores)) + 2  # +2 because range starts from 2\n",
    "optimal_clusters"
   ]
  },
  {
   "cell_type": "code",
   "execution_count": 44,
   "metadata": {},
   "outputs": [
    {
     "name": "stdout",
     "output_type": "stream",
     "text": [
      "Number of unique suburbs: 1046\n"
     ]
    }
   ],
   "source": [
    "# Number of unique suburbs\n",
    "num_suburbs = df['townsuburb'].nunique()\n",
    "print(f\"Number of unique suburbs: {num_suburbs}\")\n"
   ]
  },
  {
   "cell_type": "code",
   "execution_count": 48,
   "metadata": {},
   "outputs": [
    {
     "name": "stdout",
     "output_type": "stream",
     "text": [
      "Purity score: 0.7431539187913125\n"
     ]
    }
   ],
   "source": [
    "from sklearn.metrics.cluster import contingency_matrix\n",
    "import numpy as np\n",
    "# Perform K-Means clustering with the optimal number of clusters\n",
    "kmeans = KMeans(n_clusters=optimal_clusters, random_state=42)\n",
    "clusters = kmeans.fit_predict(features)\n",
    "\n",
    "# Add the cluster labels to the original data\n",
    "df['cluster'] = clusters\n",
    "\n",
    "# Calculate purity score\n",
    "def purity_score(y_true, y_pred):\n",
    "    # Compute contingency matrix (also called confusion matrix)\n",
    "    contingency = contingency_matrix(y_true, y_pred)\n",
    "    # Find the dominant cluster in each cluster and sum their counts\n",
    "    return np.sum(np.amax(contingency, axis=0)) / np.sum(contingency)\n",
    "\n",
    "# Assuming 'fluoride_level' as the ground truth for purity score\n",
    "purity = purity_score(df['fluoride_level_encoded'], df['cluster'])\n",
    "print(f\"Purity score: {purity}\")"
   ]
  }
 ],
 "metadata": {
  "kernelspec": {
   "display_name": ".mld-venv",
   "language": "python",
   "name": "python3"
  },
  "language_info": {
   "codemirror_mode": {
    "name": "ipython",
    "version": 3
   },
   "file_extension": ".py",
   "mimetype": "text/x-python",
   "name": "python",
   "nbconvert_exporter": "python",
   "pygments_lexer": "ipython3",
   "version": "3.9.6"
  }
 },
 "nbformat": 4,
 "nbformat_minor": 2
}
