{
 "cells": [
  {
   "cell_type": "code",
   "execution_count": 76,
   "metadata": {},
   "outputs": [],
   "source": [
    "import pandas as pd\n",
    "import plotly.express as px"
   ]
  },
  {
   "cell_type": "code",
   "execution_count": 77,
   "metadata": {},
   "outputs": [],
   "source": [
    "df = pd.read_csv('../data/Fluoridation by postcode - Sheet1.csv')"
   ]
  },
  {
   "cell_type": "code",
   "execution_count": 78,
   "metadata": {},
   "outputs": [
    {
     "data": {
      "text/plain": [
       "cartodb_id          int64\n",
       "melbourne            bool\n",
       "postcode            int64\n",
       "id                  int64\n",
       "fluoride_level     object\n",
       "water_company      object\n",
       "townsuburb         object\n",
       "lat               float64\n",
       "lon               float64\n",
       "dtype: object"
      ]
     },
     "execution_count": 78,
     "metadata": {},
     "output_type": "execute_result"
    }
   ],
   "source": [
    "df.dtypes"
   ]
  },
  {
   "cell_type": "code",
   "execution_count": 79,
   "metadata": {},
   "outputs": [
    {
     "data": {
      "text/plain": [
       "array(['Fluoridated', 'Not fluoridated', 'Partly fluoridated',\n",
       "       'Natural fluoride'], dtype=object)"
      ]
     },
     "execution_count": 79,
     "metadata": {},
     "output_type": "execute_result"
    }
   ],
   "source": [
    "df['fluoride_level'].unique() "
   ]
  },
  {
   "cell_type": "code",
   "execution_count": 80,
   "metadata": {},
   "outputs": [
    {
     "data": {
      "text/plain": [
       "array([False,  True])"
      ]
     },
     "execution_count": 80,
     "metadata": {},
     "output_type": "execute_result"
    }
   ],
   "source": [
    "df['melbourne'].unique()"
   ]
  },
  {
   "cell_type": "code",
   "execution_count": 81,
   "metadata": {},
   "outputs": [
    {
     "data": {
      "text/html": [
       "<div>\n",
       "<style scoped>\n",
       "    .dataframe tbody tr th:only-of-type {\n",
       "        vertical-align: middle;\n",
       "    }\n",
       "\n",
       "    .dataframe tbody tr th {\n",
       "        vertical-align: top;\n",
       "    }\n",
       "\n",
       "    .dataframe thead th {\n",
       "        text-align: right;\n",
       "    }\n",
       "</style>\n",
       "<table border=\"1\" class=\"dataframe\">\n",
       "  <thead>\n",
       "    <tr style=\"text-align: right;\">\n",
       "      <th></th>\n",
       "      <th>cartodb_id</th>\n",
       "      <th>melbourne</th>\n",
       "      <th>postcode</th>\n",
       "      <th>id</th>\n",
       "      <th>fluoride_level</th>\n",
       "      <th>water_company</th>\n",
       "      <th>townsuburb</th>\n",
       "      <th>lat</th>\n",
       "      <th>lon</th>\n",
       "    </tr>\n",
       "  </thead>\n",
       "  <tbody>\n",
       "    <tr>\n",
       "      <th>1</th>\n",
       "      <td>1</td>\n",
       "      <td>True</td>\n",
       "      <td>3067</td>\n",
       "      <td>1</td>\n",
       "      <td>Fluoridated</td>\n",
       "      <td>City West Water</td>\n",
       "      <td>ABBOTSFORD</td>\n",
       "      <td>-37.803000</td>\n",
       "      <td>145.002000</td>\n",
       "    </tr>\n",
       "    <tr>\n",
       "      <th>2</th>\n",
       "      <td>2</td>\n",
       "      <td>True</td>\n",
       "      <td>3040</td>\n",
       "      <td>2</td>\n",
       "      <td>Fluoridated</td>\n",
       "      <td>City West Water</td>\n",
       "      <td>ABERFELDIE</td>\n",
       "      <td>-37.762000</td>\n",
       "      <td>144.901000</td>\n",
       "    </tr>\n",
       "    <tr>\n",
       "      <th>7</th>\n",
       "      <td>7</td>\n",
       "      <td>True</td>\n",
       "      <td>3042</td>\n",
       "      <td>7</td>\n",
       "      <td>Fluoridated</td>\n",
       "      <td>City West Water</td>\n",
       "      <td>AIRPORT WEST</td>\n",
       "      <td>-37.724000</td>\n",
       "      <td>144.879000</td>\n",
       "    </tr>\n",
       "    <tr>\n",
       "      <th>8</th>\n",
       "      <td>8</td>\n",
       "      <td>True</td>\n",
       "      <td>3021</td>\n",
       "      <td>8</td>\n",
       "      <td>Fluoridated</td>\n",
       "      <td>City West Water</td>\n",
       "      <td>ALBANVALE</td>\n",
       "      <td>-37.746000</td>\n",
       "      <td>144.765000</td>\n",
       "    </tr>\n",
       "    <tr>\n",
       "      <th>9</th>\n",
       "      <td>9</td>\n",
       "      <td>True</td>\n",
       "      <td>3206</td>\n",
       "      <td>9</td>\n",
       "      <td>Fluoridated</td>\n",
       "      <td>South East Water</td>\n",
       "      <td>ALBERT PARK</td>\n",
       "      <td>-37.842000</td>\n",
       "      <td>144.950000</td>\n",
       "    </tr>\n",
       "    <tr>\n",
       "      <th>...</th>\n",
       "      <td>...</td>\n",
       "      <td>...</td>\n",
       "      <td>...</td>\n",
       "      <td>...</td>\n",
       "      <td>...</td>\n",
       "      <td>...</td>\n",
       "      <td>...</td>\n",
       "      <td>...</td>\n",
       "      <td>...</td>\n",
       "    </tr>\n",
       "    <tr>\n",
       "      <th>1048</th>\n",
       "      <td>1049</td>\n",
       "      <td>True</td>\n",
       "      <td>3013</td>\n",
       "      <td>1049</td>\n",
       "      <td>Fluoridated</td>\n",
       "      <td>City West Water</td>\n",
       "      <td>YARRAVILLE</td>\n",
       "      <td>-37.817000</td>\n",
       "      <td>144.890000</td>\n",
       "    </tr>\n",
       "    <tr>\n",
       "      <th>1049</th>\n",
       "      <td>1050</td>\n",
       "      <td>True</td>\n",
       "      <td>3013</td>\n",
       "      <td>1050</td>\n",
       "      <td>Fluoridated</td>\n",
       "      <td>City West Water</td>\n",
       "      <td>YARRAVILLE WEST</td>\n",
       "      <td>-37.815066</td>\n",
       "      <td>144.885260</td>\n",
       "    </tr>\n",
       "    <tr>\n",
       "      <th>1053</th>\n",
       "      <td>1054</td>\n",
       "      <td>True</td>\n",
       "      <td>3139</td>\n",
       "      <td>1054</td>\n",
       "      <td>Partly fluoridated</td>\n",
       "      <td>Yarra Valley Water</td>\n",
       "      <td>YELLINGBO</td>\n",
       "      <td>-37.810000</td>\n",
       "      <td>145.510000</td>\n",
       "    </tr>\n",
       "    <tr>\n",
       "      <th>1055</th>\n",
       "      <td>1056</td>\n",
       "      <td>True</td>\n",
       "      <td>3770</td>\n",
       "      <td>1056</td>\n",
       "      <td>Fluoridated</td>\n",
       "      <td>Yarra Valley Water</td>\n",
       "      <td>YERING</td>\n",
       "      <td>-37.700221</td>\n",
       "      <td>145.358251</td>\n",
       "    </tr>\n",
       "    <tr>\n",
       "      <th>1057</th>\n",
       "      <td>1058</td>\n",
       "      <td>True</td>\n",
       "      <td>3063</td>\n",
       "      <td>1058</td>\n",
       "      <td>Fluoridated</td>\n",
       "      <td>Yarra Valley Water</td>\n",
       "      <td>YUROKE</td>\n",
       "      <td>-37.600000</td>\n",
       "      <td>144.880000</td>\n",
       "    </tr>\n",
       "  </tbody>\n",
       "</table>\n",
       "<p>403 rows × 9 columns</p>\n",
       "</div>"
      ],
      "text/plain": [
       "      cartodb_id  melbourne  postcode    id      fluoride_level  \\\n",
       "1              1       True      3067     1         Fluoridated   \n",
       "2              2       True      3040     2         Fluoridated   \n",
       "7              7       True      3042     7         Fluoridated   \n",
       "8              8       True      3021     8         Fluoridated   \n",
       "9              9       True      3206     9         Fluoridated   \n",
       "...          ...        ...       ...   ...                 ...   \n",
       "1048        1049       True      3013  1049         Fluoridated   \n",
       "1049        1050       True      3013  1050         Fluoridated   \n",
       "1053        1054       True      3139  1054  Partly fluoridated   \n",
       "1055        1056       True      3770  1056         Fluoridated   \n",
       "1057        1058       True      3063  1058         Fluoridated   \n",
       "\n",
       "           water_company       townsuburb        lat         lon  \n",
       "1        City West Water       ABBOTSFORD -37.803000  145.002000  \n",
       "2        City West Water       ABERFELDIE -37.762000  144.901000  \n",
       "7        City West Water     AIRPORT WEST -37.724000  144.879000  \n",
       "8        City West Water        ALBANVALE -37.746000  144.765000  \n",
       "9       South East Water      ALBERT PARK -37.842000  144.950000  \n",
       "...                  ...              ...        ...         ...  \n",
       "1048     City West Water       YARRAVILLE -37.817000  144.890000  \n",
       "1049     City West Water  YARRAVILLE WEST -37.815066  144.885260  \n",
       "1053  Yarra Valley Water        YELLINGBO -37.810000  145.510000  \n",
       "1055  Yarra Valley Water           YERING -37.700221  145.358251  \n",
       "1057  Yarra Valley Water           YUROKE -37.600000  144.880000  \n",
       "\n",
       "[403 rows x 9 columns]"
      ]
     },
     "execution_count": 81,
     "metadata": {},
     "output_type": "execute_result"
    }
   ],
   "source": [
    "df[df.melbourne == True]"
   ]
  },
  {
   "cell_type": "code",
   "execution_count": null,
   "metadata": {},
   "outputs": [],
   "source": []
  },
  {
   "cell_type": "code",
   "execution_count": 82,
   "metadata": {},
   "outputs": [
    {
     "data": {
      "application/vnd.plotly.v1+json": {
       "config": {
        "plotlyServerURL": "https://plot.ly"
       },
       "data": [
        {
         "alignmentgroup": "True",
         "hovertemplate": "melbourne=False<br>fluoride_level=%{x}<br>count=%{y}<extra></extra>",
         "legendgroup": "False",
         "marker": {
          "color": "#636efa",
          "pattern": {
           "shape": ""
          }
         },
         "name": "False",
         "offsetgroup": "False",
         "orientation": "v",
         "showlegend": true,
         "textposition": "auto",
         "type": "bar",
         "x": [
          "Fluoridated",
          "Natural fluoride",
          "Not fluoridated",
          "Partly fluoridated"
         ],
         "xaxis": "x",
         "y": [
          406,
          2,
          244,
          4
         ],
         "yaxis": "y"
        },
        {
         "alignmentgroup": "True",
         "hovertemplate": "melbourne=True<br>fluoride_level=%{x}<br>count=%{y}<extra></extra>",
         "legendgroup": "True",
         "marker": {
          "color": "#EF553B",
          "pattern": {
           "shape": ""
          }
         },
         "name": "True",
         "offsetgroup": "True",
         "orientation": "v",
         "showlegend": true,
         "textposition": "auto",
         "type": "bar",
         "x": [
          "Fluoridated",
          "Not fluoridated",
          "Partly fluoridated"
         ],
         "xaxis": "x",
         "y": [
          381,
          12,
          10
         ],
         "yaxis": "y"
        }
       ],
       "layout": {
        "barmode": "relative",
        "legend": {
         "title": {
          "text": "melbourne"
         },
         "tracegroupgap": 0
        },
        "margin": {
         "t": 60
        },
        "template": {
         "data": {
          "bar": [
           {
            "error_x": {
             "color": "#2a3f5f"
            },
            "error_y": {
             "color": "#2a3f5f"
            },
            "marker": {
             "line": {
              "color": "#E5ECF6",
              "width": 0.5
             },
             "pattern": {
              "fillmode": "overlay",
              "size": 10,
              "solidity": 0.2
             }
            },
            "type": "bar"
           }
          ],
          "barpolar": [
           {
            "marker": {
             "line": {
              "color": "#E5ECF6",
              "width": 0.5
             },
             "pattern": {
              "fillmode": "overlay",
              "size": 10,
              "solidity": 0.2
             }
            },
            "type": "barpolar"
           }
          ],
          "carpet": [
           {
            "aaxis": {
             "endlinecolor": "#2a3f5f",
             "gridcolor": "white",
             "linecolor": "white",
             "minorgridcolor": "white",
             "startlinecolor": "#2a3f5f"
            },
            "baxis": {
             "endlinecolor": "#2a3f5f",
             "gridcolor": "white",
             "linecolor": "white",
             "minorgridcolor": "white",
             "startlinecolor": "#2a3f5f"
            },
            "type": "carpet"
           }
          ],
          "choropleth": [
           {
            "colorbar": {
             "outlinewidth": 0,
             "ticks": ""
            },
            "type": "choropleth"
           }
          ],
          "contour": [
           {
            "colorbar": {
             "outlinewidth": 0,
             "ticks": ""
            },
            "colorscale": [
             [
              0,
              "#0d0887"
             ],
             [
              0.1111111111111111,
              "#46039f"
             ],
             [
              0.2222222222222222,
              "#7201a8"
             ],
             [
              0.3333333333333333,
              "#9c179e"
             ],
             [
              0.4444444444444444,
              "#bd3786"
             ],
             [
              0.5555555555555556,
              "#d8576b"
             ],
             [
              0.6666666666666666,
              "#ed7953"
             ],
             [
              0.7777777777777778,
              "#fb9f3a"
             ],
             [
              0.8888888888888888,
              "#fdca26"
             ],
             [
              1,
              "#f0f921"
             ]
            ],
            "type": "contour"
           }
          ],
          "contourcarpet": [
           {
            "colorbar": {
             "outlinewidth": 0,
             "ticks": ""
            },
            "type": "contourcarpet"
           }
          ],
          "heatmap": [
           {
            "colorbar": {
             "outlinewidth": 0,
             "ticks": ""
            },
            "colorscale": [
             [
              0,
              "#0d0887"
             ],
             [
              0.1111111111111111,
              "#46039f"
             ],
             [
              0.2222222222222222,
              "#7201a8"
             ],
             [
              0.3333333333333333,
              "#9c179e"
             ],
             [
              0.4444444444444444,
              "#bd3786"
             ],
             [
              0.5555555555555556,
              "#d8576b"
             ],
             [
              0.6666666666666666,
              "#ed7953"
             ],
             [
              0.7777777777777778,
              "#fb9f3a"
             ],
             [
              0.8888888888888888,
              "#fdca26"
             ],
             [
              1,
              "#f0f921"
             ]
            ],
            "type": "heatmap"
           }
          ],
          "heatmapgl": [
           {
            "colorbar": {
             "outlinewidth": 0,
             "ticks": ""
            },
            "colorscale": [
             [
              0,
              "#0d0887"
             ],
             [
              0.1111111111111111,
              "#46039f"
             ],
             [
              0.2222222222222222,
              "#7201a8"
             ],
             [
              0.3333333333333333,
              "#9c179e"
             ],
             [
              0.4444444444444444,
              "#bd3786"
             ],
             [
              0.5555555555555556,
              "#d8576b"
             ],
             [
              0.6666666666666666,
              "#ed7953"
             ],
             [
              0.7777777777777778,
              "#fb9f3a"
             ],
             [
              0.8888888888888888,
              "#fdca26"
             ],
             [
              1,
              "#f0f921"
             ]
            ],
            "type": "heatmapgl"
           }
          ],
          "histogram": [
           {
            "marker": {
             "pattern": {
              "fillmode": "overlay",
              "size": 10,
              "solidity": 0.2
             }
            },
            "type": "histogram"
           }
          ],
          "histogram2d": [
           {
            "colorbar": {
             "outlinewidth": 0,
             "ticks": ""
            },
            "colorscale": [
             [
              0,
              "#0d0887"
             ],
             [
              0.1111111111111111,
              "#46039f"
             ],
             [
              0.2222222222222222,
              "#7201a8"
             ],
             [
              0.3333333333333333,
              "#9c179e"
             ],
             [
              0.4444444444444444,
              "#bd3786"
             ],
             [
              0.5555555555555556,
              "#d8576b"
             ],
             [
              0.6666666666666666,
              "#ed7953"
             ],
             [
              0.7777777777777778,
              "#fb9f3a"
             ],
             [
              0.8888888888888888,
              "#fdca26"
             ],
             [
              1,
              "#f0f921"
             ]
            ],
            "type": "histogram2d"
           }
          ],
          "histogram2dcontour": [
           {
            "colorbar": {
             "outlinewidth": 0,
             "ticks": ""
            },
            "colorscale": [
             [
              0,
              "#0d0887"
             ],
             [
              0.1111111111111111,
              "#46039f"
             ],
             [
              0.2222222222222222,
              "#7201a8"
             ],
             [
              0.3333333333333333,
              "#9c179e"
             ],
             [
              0.4444444444444444,
              "#bd3786"
             ],
             [
              0.5555555555555556,
              "#d8576b"
             ],
             [
              0.6666666666666666,
              "#ed7953"
             ],
             [
              0.7777777777777778,
              "#fb9f3a"
             ],
             [
              0.8888888888888888,
              "#fdca26"
             ],
             [
              1,
              "#f0f921"
             ]
            ],
            "type": "histogram2dcontour"
           }
          ],
          "mesh3d": [
           {
            "colorbar": {
             "outlinewidth": 0,
             "ticks": ""
            },
            "type": "mesh3d"
           }
          ],
          "parcoords": [
           {
            "line": {
             "colorbar": {
              "outlinewidth": 0,
              "ticks": ""
             }
            },
            "type": "parcoords"
           }
          ],
          "pie": [
           {
            "automargin": true,
            "type": "pie"
           }
          ],
          "scatter": [
           {
            "fillpattern": {
             "fillmode": "overlay",
             "size": 10,
             "solidity": 0.2
            },
            "type": "scatter"
           }
          ],
          "scatter3d": [
           {
            "line": {
             "colorbar": {
              "outlinewidth": 0,
              "ticks": ""
             }
            },
            "marker": {
             "colorbar": {
              "outlinewidth": 0,
              "ticks": ""
             }
            },
            "type": "scatter3d"
           }
          ],
          "scattercarpet": [
           {
            "marker": {
             "colorbar": {
              "outlinewidth": 0,
              "ticks": ""
             }
            },
            "type": "scattercarpet"
           }
          ],
          "scattergeo": [
           {
            "marker": {
             "colorbar": {
              "outlinewidth": 0,
              "ticks": ""
             }
            },
            "type": "scattergeo"
           }
          ],
          "scattergl": [
           {
            "marker": {
             "colorbar": {
              "outlinewidth": 0,
              "ticks": ""
             }
            },
            "type": "scattergl"
           }
          ],
          "scattermapbox": [
           {
            "marker": {
             "colorbar": {
              "outlinewidth": 0,
              "ticks": ""
             }
            },
            "type": "scattermapbox"
           }
          ],
          "scatterpolar": [
           {
            "marker": {
             "colorbar": {
              "outlinewidth": 0,
              "ticks": ""
             }
            },
            "type": "scatterpolar"
           }
          ],
          "scatterpolargl": [
           {
            "marker": {
             "colorbar": {
              "outlinewidth": 0,
              "ticks": ""
             }
            },
            "type": "scatterpolargl"
           }
          ],
          "scatterternary": [
           {
            "marker": {
             "colorbar": {
              "outlinewidth": 0,
              "ticks": ""
             }
            },
            "type": "scatterternary"
           }
          ],
          "surface": [
           {
            "colorbar": {
             "outlinewidth": 0,
             "ticks": ""
            },
            "colorscale": [
             [
              0,
              "#0d0887"
             ],
             [
              0.1111111111111111,
              "#46039f"
             ],
             [
              0.2222222222222222,
              "#7201a8"
             ],
             [
              0.3333333333333333,
              "#9c179e"
             ],
             [
              0.4444444444444444,
              "#bd3786"
             ],
             [
              0.5555555555555556,
              "#d8576b"
             ],
             [
              0.6666666666666666,
              "#ed7953"
             ],
             [
              0.7777777777777778,
              "#fb9f3a"
             ],
             [
              0.8888888888888888,
              "#fdca26"
             ],
             [
              1,
              "#f0f921"
             ]
            ],
            "type": "surface"
           }
          ],
          "table": [
           {
            "cells": {
             "fill": {
              "color": "#EBF0F8"
             },
             "line": {
              "color": "white"
             }
            },
            "header": {
             "fill": {
              "color": "#C8D4E3"
             },
             "line": {
              "color": "white"
             }
            },
            "type": "table"
           }
          ]
         },
         "layout": {
          "annotationdefaults": {
           "arrowcolor": "#2a3f5f",
           "arrowhead": 0,
           "arrowwidth": 1
          },
          "autotypenumbers": "strict",
          "coloraxis": {
           "colorbar": {
            "outlinewidth": 0,
            "ticks": ""
           }
          },
          "colorscale": {
           "diverging": [
            [
             0,
             "#8e0152"
            ],
            [
             0.1,
             "#c51b7d"
            ],
            [
             0.2,
             "#de77ae"
            ],
            [
             0.3,
             "#f1b6da"
            ],
            [
             0.4,
             "#fde0ef"
            ],
            [
             0.5,
             "#f7f7f7"
            ],
            [
             0.6,
             "#e6f5d0"
            ],
            [
             0.7,
             "#b8e186"
            ],
            [
             0.8,
             "#7fbc41"
            ],
            [
             0.9,
             "#4d9221"
            ],
            [
             1,
             "#276419"
            ]
           ],
           "sequential": [
            [
             0,
             "#0d0887"
            ],
            [
             0.1111111111111111,
             "#46039f"
            ],
            [
             0.2222222222222222,
             "#7201a8"
            ],
            [
             0.3333333333333333,
             "#9c179e"
            ],
            [
             0.4444444444444444,
             "#bd3786"
            ],
            [
             0.5555555555555556,
             "#d8576b"
            ],
            [
             0.6666666666666666,
             "#ed7953"
            ],
            [
             0.7777777777777778,
             "#fb9f3a"
            ],
            [
             0.8888888888888888,
             "#fdca26"
            ],
            [
             1,
             "#f0f921"
            ]
           ],
           "sequentialminus": [
            [
             0,
             "#0d0887"
            ],
            [
             0.1111111111111111,
             "#46039f"
            ],
            [
             0.2222222222222222,
             "#7201a8"
            ],
            [
             0.3333333333333333,
             "#9c179e"
            ],
            [
             0.4444444444444444,
             "#bd3786"
            ],
            [
             0.5555555555555556,
             "#d8576b"
            ],
            [
             0.6666666666666666,
             "#ed7953"
            ],
            [
             0.7777777777777778,
             "#fb9f3a"
            ],
            [
             0.8888888888888888,
             "#fdca26"
            ],
            [
             1,
             "#f0f921"
            ]
           ]
          },
          "colorway": [
           "#636efa",
           "#EF553B",
           "#00cc96",
           "#ab63fa",
           "#FFA15A",
           "#19d3f3",
           "#FF6692",
           "#B6E880",
           "#FF97FF",
           "#FECB52"
          ],
          "font": {
           "color": "#2a3f5f"
          },
          "geo": {
           "bgcolor": "white",
           "lakecolor": "white",
           "landcolor": "#E5ECF6",
           "showlakes": true,
           "showland": true,
           "subunitcolor": "white"
          },
          "hoverlabel": {
           "align": "left"
          },
          "hovermode": "closest",
          "mapbox": {
           "style": "light"
          },
          "paper_bgcolor": "white",
          "plot_bgcolor": "#E5ECF6",
          "polar": {
           "angularaxis": {
            "gridcolor": "white",
            "linecolor": "white",
            "ticks": ""
           },
           "bgcolor": "#E5ECF6",
           "radialaxis": {
            "gridcolor": "white",
            "linecolor": "white",
            "ticks": ""
           }
          },
          "scene": {
           "xaxis": {
            "backgroundcolor": "#E5ECF6",
            "gridcolor": "white",
            "gridwidth": 2,
            "linecolor": "white",
            "showbackground": true,
            "ticks": "",
            "zerolinecolor": "white"
           },
           "yaxis": {
            "backgroundcolor": "#E5ECF6",
            "gridcolor": "white",
            "gridwidth": 2,
            "linecolor": "white",
            "showbackground": true,
            "ticks": "",
            "zerolinecolor": "white"
           },
           "zaxis": {
            "backgroundcolor": "#E5ECF6",
            "gridcolor": "white",
            "gridwidth": 2,
            "linecolor": "white",
            "showbackground": true,
            "ticks": "",
            "zerolinecolor": "white"
           }
          },
          "shapedefaults": {
           "line": {
            "color": "#2a3f5f"
           }
          },
          "ternary": {
           "aaxis": {
            "gridcolor": "white",
            "linecolor": "white",
            "ticks": ""
           },
           "baxis": {
            "gridcolor": "white",
            "linecolor": "white",
            "ticks": ""
           },
           "bgcolor": "#E5ECF6",
           "caxis": {
            "gridcolor": "white",
            "linecolor": "white",
            "ticks": ""
           }
          },
          "title": {
           "x": 0.05
          },
          "xaxis": {
           "automargin": true,
           "gridcolor": "white",
           "linecolor": "white",
           "ticks": "",
           "title": {
            "standoff": 15
           },
           "zerolinecolor": "white",
           "zerolinewidth": 2
          },
          "yaxis": {
           "automargin": true,
           "gridcolor": "white",
           "linecolor": "white",
           "ticks": "",
           "title": {
            "standoff": 15
           },
           "zerolinecolor": "white",
           "zerolinewidth": 2
          }
         }
        },
        "xaxis": {
         "anchor": "y",
         "domain": [
          0,
          1
         ],
         "title": {
          "text": "fluoride_level"
         }
        },
        "yaxis": {
         "anchor": "x",
         "domain": [
          0,
          1
         ],
         "title": {
          "text": "count"
         }
        }
       }
      }
     },
     "metadata": {},
     "output_type": "display_data"
    }
   ],
   "source": [
    "fig = px.bar(\n",
    "    df.groupby(['fluoride_level', 'melbourne']).size().reset_index(name='count'),\n",
    "    x='fluoride_level',\n",
    "    y='count',\n",
    "    color='melbourne',\n",
    ")\n",
    "\n",
    "\n",
    "fig.show()"
   ]
  },
  {
   "cell_type": "code",
   "execution_count": 83,
   "metadata": {},
   "outputs": [
    {
     "data": {
      "text/html": [
       "<div>\n",
       "<style scoped>\n",
       "    .dataframe tbody tr th:only-of-type {\n",
       "        vertical-align: middle;\n",
       "    }\n",
       "\n",
       "    .dataframe tbody tr th {\n",
       "        vertical-align: top;\n",
       "    }\n",
       "\n",
       "    .dataframe thead th {\n",
       "        text-align: right;\n",
       "    }\n",
       "</style>\n",
       "<table border=\"1\" class=\"dataframe\">\n",
       "  <thead>\n",
       "    <tr style=\"text-align: right;\">\n",
       "      <th></th>\n",
       "      <th></th>\n",
       "      <th>water_company</th>\n",
       "      <th>fluoride_level</th>\n",
       "    </tr>\n",
       "    <tr>\n",
       "      <th>melbourne</th>\n",
       "      <th>townsuburb</th>\n",
       "      <th></th>\n",
       "      <th></th>\n",
       "    </tr>\n",
       "  </thead>\n",
       "  <tbody>\n",
       "    <tr>\n",
       "      <th rowspan=\"5\" valign=\"top\">True</th>\n",
       "      <th>UPWEY</th>\n",
       "      <td>2</td>\n",
       "      <td>2</td>\n",
       "    </tr>\n",
       "    <tr>\n",
       "      <th>COBURG</th>\n",
       "      <td>2</td>\n",
       "      <td>2</td>\n",
       "    </tr>\n",
       "    <tr>\n",
       "      <th>TULLAMARINE</th>\n",
       "      <td>2</td>\n",
       "      <td>2</td>\n",
       "    </tr>\n",
       "    <tr>\n",
       "      <th>OAKLEIGH</th>\n",
       "      <td>2</td>\n",
       "      <td>2</td>\n",
       "    </tr>\n",
       "    <tr>\n",
       "      <th>ARMADALE</th>\n",
       "      <td>2</td>\n",
       "      <td>2</td>\n",
       "    </tr>\n",
       "    <tr>\n",
       "      <th>...</th>\n",
       "      <th>...</th>\n",
       "      <td>...</td>\n",
       "      <td>...</td>\n",
       "    </tr>\n",
       "    <tr>\n",
       "      <th rowspan=\"4\" valign=\"top\">False</th>\n",
       "      <th>MERRICKS</th>\n",
       "      <td>1</td>\n",
       "      <td>1</td>\n",
       "    </tr>\n",
       "    <tr>\n",
       "      <th>MERRICKS BEACH</th>\n",
       "      <td>1</td>\n",
       "      <td>1</td>\n",
       "    </tr>\n",
       "    <tr>\n",
       "      <th>MERRIGUM</th>\n",
       "      <td>1</td>\n",
       "      <td>1</td>\n",
       "    </tr>\n",
       "    <tr>\n",
       "      <th>MERRIJIG</th>\n",
       "      <td>1</td>\n",
       "      <td>0</td>\n",
       "    </tr>\n",
       "    <tr>\n",
       "      <th>True</th>\n",
       "      <th>YUROKE</th>\n",
       "      <td>1</td>\n",
       "      <td>1</td>\n",
       "    </tr>\n",
       "  </tbody>\n",
       "</table>\n",
       "<p>1046 rows × 2 columns</p>\n",
       "</div>"
      ],
      "text/plain": [
       "                          water_company  fluoride_level\n",
       "melbourne townsuburb                                   \n",
       "True      UPWEY                       2               2\n",
       "          COBURG                      2               2\n",
       "          TULLAMARINE                 2               2\n",
       "          OAKLEIGH                    2               2\n",
       "          ARMADALE                    2               2\n",
       "...                                 ...             ...\n",
       "False     MERRICKS                    1               1\n",
       "          MERRICKS BEACH              1               1\n",
       "          MERRIGUM                    1               1\n",
       "          MERRIJIG                    1               0\n",
       "True      YUROKE                      1               1\n",
       "\n",
       "[1046 rows x 2 columns]"
      ]
     },
     "execution_count": 83,
     "metadata": {},
     "output_type": "execute_result"
    }
   ],
   "source": [
    "df.groupby(['melbourne', 'townsuburb']).agg({\n",
    "    'water_company': 'nunique',\n",
    "    'fluoride_level': lambda x: x[x=='Fluoridated'].count(),\n",
    "}).sort_values('water_company', ascending=False)"
   ]
  },
  {
   "cell_type": "code",
   "execution_count": 84,
   "metadata": {},
   "outputs": [
    {
     "data": {
      "text/html": [
       "<div>\n",
       "<style scoped>\n",
       "    .dataframe tbody tr th:only-of-type {\n",
       "        vertical-align: middle;\n",
       "    }\n",
       "\n",
       "    .dataframe tbody tr th {\n",
       "        vertical-align: top;\n",
       "    }\n",
       "\n",
       "    .dataframe thead th {\n",
       "        text-align: right;\n",
       "    }\n",
       "</style>\n",
       "<table border=\"1\" class=\"dataframe\">\n",
       "  <thead>\n",
       "    <tr style=\"text-align: right;\">\n",
       "      <th></th>\n",
       "      <th>cartodb_id</th>\n",
       "      <th>melbourne</th>\n",
       "      <th>postcode</th>\n",
       "      <th>id</th>\n",
       "      <th>fluoride_level</th>\n",
       "      <th>water_company</th>\n",
       "      <th>townsuburb</th>\n",
       "      <th>lat</th>\n",
       "      <th>lon</th>\n",
       "    </tr>\n",
       "  </thead>\n",
       "  <tbody>\n",
       "    <tr>\n",
       "      <th>588</th>\n",
       "      <td>587</td>\n",
       "      <td>True</td>\n",
       "      <td>3000</td>\n",
       "      <td>587</td>\n",
       "      <td>Fluoridated</td>\n",
       "      <td>City West Water</td>\n",
       "      <td>MELBOURNE</td>\n",
       "      <td>-37.813628</td>\n",
       "      <td>144.963058</td>\n",
       "    </tr>\n",
       "    <tr>\n",
       "      <th>589</th>\n",
       "      <td>588</td>\n",
       "      <td>True</td>\n",
       "      <td>3004</td>\n",
       "      <td>588</td>\n",
       "      <td>Fluoridated</td>\n",
       "      <td>City West Water</td>\n",
       "      <td>MELBOURNE</td>\n",
       "      <td>-37.838525</td>\n",
       "      <td>144.975608</td>\n",
       "    </tr>\n",
       "  </tbody>\n",
       "</table>\n",
       "</div>"
      ],
      "text/plain": [
       "     cartodb_id  melbourne  postcode   id fluoride_level    water_company  \\\n",
       "588         587       True      3000  587    Fluoridated  City West Water   \n",
       "589         588       True      3004  588    Fluoridated  City West Water   \n",
       "\n",
       "    townsuburb        lat         lon  \n",
       "588  MELBOURNE -37.813628  144.963058  \n",
       "589  MELBOURNE -37.838525  144.975608  "
      ]
     },
     "execution_count": 84,
     "metadata": {},
     "output_type": "execute_result"
    }
   ],
   "source": [
    "df.iloc[588:590,:]"
   ]
  },
  {
   "cell_type": "code",
   "execution_count": 85,
   "metadata": {},
   "outputs": [
    {
     "data": {
      "text/plain": [
       "588   -37.813628\n",
       "Name: lat, dtype: float64"
      ]
     },
     "execution_count": 85,
     "metadata": {},
     "output_type": "execute_result"
    }
   ],
   "source": [
    "df.query('postcode == 3000')['lat']"
   ]
  },
  {
   "cell_type": "code",
   "execution_count": 86,
   "metadata": {},
   "outputs": [
    {
     "data": {
      "text/plain": [
       "pandas.core.series.Series"
      ]
     },
     "execution_count": 86,
     "metadata": {},
     "output_type": "execute_result"
    }
   ],
   "source": [
    "type(df.query('postcode == 3000')['lat'].astype(float))"
   ]
  },
  {
   "cell_type": "code",
   "execution_count": 87,
   "metadata": {},
   "outputs": [
    {
     "data": {
      "text/plain": [
       "(1059, 9)"
      ]
     },
     "execution_count": 87,
     "metadata": {},
     "output_type": "execute_result"
    }
   ],
   "source": [
    "df.shape"
   ]
  },
  {
   "cell_type": "code",
   "execution_count": 88,
   "metadata": {},
   "outputs": [
    {
     "data": {
      "text/plain": [
       "['Melbourne (3000)', 'Melbourne (3004)', 'Melbourne airport']"
      ]
     },
     "execution_count": 88,
     "metadata": {},
     "output_type": "execute_result"
    }
   ],
   "source": [
    "# cptlized_surburbs = df.apply(lambda x: \n",
    "#                 x['townsuburb'].capitalize() + ' ' + '(' + str(x['postcode']) + ')'\n",
    "#                 if x['townsuburb'] == 'MELBOURNE'\n",
    "#                 else x['townsuburb'].capitalize(),\n",
    "#                 axis=1)\n",
    "filtered_str = filter(lambda x: \n",
    "                                'Melbourne' in x,\n",
    "                        df.apply(lambda x: \n",
    "                                        x['townsuburb'].capitalize() + ' ' + '(' + str(x['postcode']) + ')'\n",
    "                                        if x['townsuburb'] == 'MELBOURNE'\n",
    "                                        else x['townsuburb'].capitalize(),\n",
    "                                        axis=1))\n",
    "\n",
    "\n",
    "\n",
    "list(filtered_str)"
   ]
  },
  {
   "cell_type": "code",
   "execution_count": 113,
   "metadata": {},
   "outputs": [
    {
     "data": {
      "text/plain": [
       "array(['Barwon Water', 'City West Water', 'Central Highlands Water',\n",
       "       'South Gippsland Water', 'South East Water',\n",
       "       'Goulburn Valley Water', 'Wannon Water', 'Yarra Valley Water',\n",
       "       'Westernport Water', 'GWMWater', 'Coliban Water', 'Western Water',\n",
       "       'East Gippsland Water', 'North East Water', 'Lower Murray Water',\n",
       "       'Gippsland Water', 'Mount Buller and Mount Stirling ARMB',\n",
       "       'Mount Hotham ARMB'], dtype=object)"
      ]
     },
     "execution_count": 113,
     "metadata": {},
     "output_type": "execute_result"
    }
   ],
   "source": [
    "df['water_company'].unique()"
   ]
  },
  {
   "cell_type": "code",
   "execution_count": null,
   "metadata": {},
   "outputs": [],
   "source": []
  },
  {
   "cell_type": "code",
   "execution_count": 114,
   "metadata": {},
   "outputs": [
    {
     "data": {
      "application/vnd.plotly.v1+json": {
       "config": {
        "plotlyServerURL": "https://plot.ly"
       },
       "data": [
        {
         "customdata": [
          [
           "Barwon Water"
          ],
          [
           "Barwon Water"
          ],
          [
           "Barwon Water"
          ],
          [
           "Barwon Water"
          ],
          [
           "Barwon Water"
          ],
          [
           "Barwon Water"
          ],
          [
           "Barwon Water"
          ],
          [
           "Barwon Water"
          ],
          [
           "Barwon Water"
          ],
          [
           "Barwon Water"
          ],
          [
           "Barwon Water"
          ],
          [
           "Barwon Water"
          ],
          [
           "Barwon Water"
          ],
          [
           "Barwon Water"
          ],
          [
           "Barwon Water"
          ],
          [
           "Barwon Water"
          ],
          [
           "Barwon Water"
          ],
          [
           "Barwon Water"
          ],
          [
           "Barwon Water"
          ],
          [
           "Barwon Water"
          ],
          [
           "Barwon Water"
          ],
          [
           "Barwon Water"
          ],
          [
           "Barwon Water"
          ],
          [
           "Barwon Water"
          ],
          [
           "Barwon Water"
          ],
          [
           "Barwon Water"
          ],
          [
           "Barwon Water"
          ],
          [
           "Barwon Water"
          ],
          [
           "Barwon Water"
          ],
          [
           "Barwon Water"
          ],
          [
           "Barwon Water"
          ],
          [
           "Barwon Water"
          ],
          [
           "Barwon Water"
          ],
          [
           "Barwon Water"
          ],
          [
           "Barwon Water"
          ],
          [
           "Barwon Water"
          ],
          [
           "Barwon Water"
          ],
          [
           "Barwon Water"
          ],
          [
           "Barwon Water"
          ],
          [
           "Barwon Water"
          ],
          [
           "Barwon Water"
          ],
          [
           "Barwon Water"
          ],
          [
           "Barwon Water"
          ],
          [
           "Barwon Water"
          ],
          [
           "Barwon Water"
          ],
          [
           "Barwon Water"
          ],
          [
           "Barwon Water"
          ],
          [
           "Barwon Water"
          ],
          [
           "Barwon Water"
          ],
          [
           "Barwon Water"
          ],
          [
           "Barwon Water"
          ],
          [
           "Barwon Water"
          ],
          [
           "Barwon Water"
          ],
          [
           "Barwon Water"
          ],
          [
           "Barwon Water"
          ],
          [
           "Barwon Water"
          ],
          [
           "Barwon Water"
          ],
          [
           "Barwon Water"
          ],
          [
           "Barwon Water"
          ],
          [
           "Barwon Water"
          ],
          [
           "Barwon Water"
          ],
          [
           "Barwon Water"
          ],
          [
           "Barwon Water"
          ],
          [
           "Barwon Water"
          ],
          [
           "Barwon Water"
          ],
          [
           "Barwon Water"
          ],
          [
           "Barwon Water"
          ],
          [
           "Barwon Water"
          ],
          [
           "Barwon Water"
          ],
          [
           "Barwon Water"
          ],
          [
           "Barwon Water"
          ],
          [
           "Barwon Water"
          ],
          [
           "Barwon Water"
          ],
          [
           "Barwon Water"
          ],
          [
           "Barwon Water"
          ],
          [
           "Barwon Water"
          ],
          [
           "Barwon Water"
          ],
          [
           "Barwon Water"
          ],
          [
           "Barwon Water"
          ],
          [
           "Barwon Water"
          ],
          [
           "Barwon Water"
          ],
          [
           "Barwon Water"
          ],
          [
           "Barwon Water"
          ],
          [
           "Barwon Water"
          ],
          [
           "Barwon Water"
          ],
          [
           "Barwon Water"
          ],
          [
           "Barwon Water"
          ],
          [
           "Barwon Water"
          ],
          [
           "Barwon Water"
          ],
          [
           "Barwon Water"
          ],
          [
           "Barwon Water"
          ],
          [
           "Barwon Water"
          ],
          [
           "Barwon Water"
          ],
          [
           "Barwon Water"
          ],
          [
           "Barwon Water"
          ],
          [
           "Barwon Water"
          ],
          [
           "Barwon Water"
          ],
          [
           "Barwon Water"
          ],
          [
           "Barwon Water"
          ],
          [
           "Barwon Water"
          ],
          [
           "Barwon Water"
          ],
          [
           "Barwon Water"
          ],
          [
           "Barwon Water"
          ],
          [
           "Barwon Water"
          ],
          [
           "Barwon Water"
          ],
          [
           "Barwon Water"
          ],
          [
           "Barwon Water"
          ],
          [
           "Barwon Water"
          ],
          [
           "Barwon Water"
          ],
          [
           "Barwon Water"
          ]
         ],
         "hovertemplate": "<b>%{hovertext}</b><br><br>water_company=%{customdata[0]}<br>lat=%{lat}<br>lon=%{lon}<extra></extra>",
         "hovertext": [
          "CONNEWARRE",
          "AIREYS INLET",
          "ALVIE",
          "ANAKIE",
          "ANGLESEA",
          "APOLLO BAY",
          "AVALON",
          "BAMBRA",
          "BAMGANIE",
          "BANNOCKBURN",
          "BAREENA",
          "BARRABOOL",
          "BARWON HEADS",
          "BATESFORD",
          "BEEAC",
          "BELL PARK",
          "BELL POST HILL",
          "BELLARINE",
          "BELLBRAE",
          "BELLS BEACH",
          "BELMONT",
          "BIRREGURRA",
          "BREAKWATER",
          "BREAMLEA",
          "BUCKLEY",
          "CERES",
          "CLIFTON SPRINGS",
          "COLAC",
          "CORAGULAC",
          "CORIO",
          "COROROOKE",
          "CRESSY",
          "CURLEWIS",
          "DEAKIN UNIVERSITY",
          "DRUMCONDRA",
          "DRYSDALE",
          "EAST GEELONG",
          "ELLIMINYT",
          "FAIRHAVEN",
          "FORREST",
          "FRESHWATER CREEK",
          "FYANSFORD",
          "GEELONG",
          "GEELONG WEST",
          "GELLIBRAND",
          "GHERANG",
          "GHERINGHAP",
          "GROVEDALE",
          "HAMLYN HEIGHTS",
          "HERNE HILL",
          "HIGHTON",
          "WINCHELSEA",
          "INDENTED HEAD",
          "INVERLEIGH",
          "IRREWARRA",
          "JAN JUC",
          "LARA",
          "LEOPOLD",
          "LETHBRIDGE",
          "LORNE",
          "LOVELY BANKS",
          "MANIFOLD HEIGHTS",
          "MANNERIM",
          "MARCUS HILL",
          "MARENGO",
          "MARSHALL",
          "MAUDE",
          "MEREDITH",
          "MODEWARRE",
          "MOOLAP",
          "MOORABOOL",
          "MORIAC",
          "MOUNT DUNEED",
          "MOUNT MORIAC",
          "MURGHEBOLUC",
          "NEWCOMB",
          "NEWTOWN",
          "NORLANE",
          "NORTH GEELONG",
          "NORTH SHORE",
          "OCEAN GROVE",
          "OMBERSLEY",
          "ONDIT",
          "POINT LONSDALE",
          "POINT WILSON",
          "PORTARLINGTON",
          "QUEENSCLIFF",
          "RIPPLESIDE",
          "RUSSELLS BRIDGE",
          "SHE OAKS",
          "SHELFORD",
          "SKENES CREEK",
          "SOUTH GEELONG",
          "ST ALBANS PARK",
          "ST LEONARDS",
          "STAUGHTON VALE",
          "STEIGLITZ",
          "STONEHAVEN",
          "SUTHERLANDS CREEK",
          "SWAN BAY",
          "TEESDALE",
          "THOMSON",
          "TORQUAY",
          "WALLINGTON",
          "WANDANA HEIGHTS",
          "WARRION",
          "WAURN PONDS",
          "WENSLEYDALE",
          "WHITTINGTON",
          "WURDIBOLUC"
         ],
         "lat": [
          -38.2640693,
          -38.4507109,
          -38.244444,
          -37.916667,
          -38.4096639,
          -38.75,
          -38.0568548,
          -38.3667365,
          -37.914215,
          -38.05,
          -38.15375,
          -38.1605382,
          -38.2739835,
          -38.0899186,
          -38.1772101,
          -38.11,
          -38.1,
          -38.132222,
          -38.333333,
          -38.366944,
          -38.173,
          -38.3065561,
          -38.182,
          -38.3,
          -38.2444345,
          -38.1590503,
          -38.1515545,
          -38.3410186,
          -38.263392,
          -38.074,
          -38.2962142,
          -38.0325875,
          -38.1767277,
          -38.1989,
          -38.132,
          -38.1809329,
          -38.162,
          -38.3733285,
          -38.456111,
          -38.516667,
          -38.270278,
          -38.1347924,
          -38.1499181,
          -38.133333,
          -38.5271333,
          -38.303611,
          -38.0719517,
          -38.2,
          -38.12,
          -38.1329,
          -38.171,
          -38.2437824,
          -38.138056,
          -38.1028946,
          -38.3167164,
          -38.333333,
          -38.016667,
          -38.1944438,
          -37.966667,
          -38.5366556,
          -38.066667,
          -38.14,
          -38.216667,
          -38.233333,
          -38.776141,
          -38.2024817,
          -37.9242637,
          -37.8667098,
          -38.266111,
          -38.183333,
          -38.0697484,
          -38.233333,
          -38.25,
          -38.2201027,
          -38.1048122,
          -38.17,
          -38.15,
          -38.092,
          -38.1093956,
          -38.099,
          -38.25,
          -38.2042916,
          -38.2420011,
          -38.283333,
          -38.0425432,
          -38.116667,
          -38.2677746,
          -38.1235549,
          -38.024133,
          -37.916667,
          -38.016667,
          -38.7101801,
          -38.1673819,
          -38.1954052,
          -38.166667,
          -37.8396872,
          -37.894512,
          -38.1288448,
          -38.0330078,
          -38.225833,
          -38.033333,
          -38.17,
          -38.333333,
          -38.2247017,
          -38.1768917,
          -38.216667,
          -38.208813,
          -38.3405232,
          -38.18,
          -38.289167
         ],
         "legendgroup": "Barwon Water",
         "lon": [
          144.4623088,
          144.1089345,
          143.515556,
          144.25,
          144.1825171,
          143.65,
          144.4225874,
          143.9448801,
          143.9872451,
          144.166667,
          144.3443056,
          144.2484344,
          144.4862111,
          144.2847434,
          143.6420207,
          144.338,
          144.328,
          144.619722,
          144.266667,
          144.284722,
          144.341,
          143.7952389,
          144.375,
          144.383333,
          144.0895595,
          144.2640892,
          144.5738608,
          143.5854622,
          143.5365131,
          144.359,
          143.5256956,
          143.6376138,
          144.5327632,
          144.2977,
          144.354,
          144.5985292,
          144.3802,
          143.5743866,
          144.085833,
          143.716667,
          144.248056,
          144.2906169,
          144.3617186,
          144.35,
          143.5453035,
          144.090556,
          144.2299712,
          144.35,
          144.32,
          144.3305,
          144.318,
          143.9943269,
          144.71,
          144.0398618,
          143.6444066,
          144.3,
          144.416667,
          144.4670924,
          144.133333,
          143.9715484,
          144.333333,
          144.33,
          144.583333,
          144.566667,
          143.6583166,
          144.3603806,
          144.1685956,
          144.1052241,
          144.121944,
          144.433333,
          144.2954452,
          144.166667,
          144.303611,
          144.191706,
          144.1290677,
          144.396,
          144.333,
          144.356,
          144.3521811,
          144.373,
          144.516667,
          143.8651496,
          143.6176937,
          144.6,
          144.5255221,
          144.65,
          144.6286897,
          144.3562807,
          144.1909483,
          144.133333,
          143.966667,
          143.7098032,
          144.3658474,
          144.393187,
          144.716667,
          144.2818364,
          144.1861997,
          144.2504403,
          144.2187155,
          144.643889,
          144.05,
          144.381,
          144.316667,
          144.510853,
          144.3002702,
          143.566667,
          144.2709146,
          144.0419036,
          144.39,
          144.051389
         ],
         "marker": {
          "color": "#ab63fa",
          "opacity": 0.8
         },
         "mode": "markers",
         "name": "Barwon Water",
         "showlegend": true,
         "subplot": "mapbox",
         "type": "scattermapbox"
        },
        {
         "customdata": [
          [
           "City West Water"
          ],
          [
           "City West Water"
          ],
          [
           "City West Water"
          ],
          [
           "City West Water"
          ],
          [
           "City West Water"
          ],
          [
           "City West Water"
          ],
          [
           "City West Water"
          ],
          [
           "City West Water"
          ],
          [
           "City West Water"
          ],
          [
           "City West Water"
          ],
          [
           "City West Water"
          ],
          [
           "City West Water"
          ],
          [
           "City West Water"
          ],
          [
           "City West Water"
          ],
          [
           "City West Water"
          ],
          [
           "City West Water"
          ],
          [
           "City West Water"
          ],
          [
           "City West Water"
          ],
          [
           "City West Water"
          ],
          [
           "City West Water"
          ],
          [
           "City West Water"
          ],
          [
           "City West Water"
          ],
          [
           "City West Water"
          ],
          [
           "City West Water"
          ],
          [
           "City West Water"
          ],
          [
           "City West Water"
          ],
          [
           "City West Water"
          ],
          [
           "City West Water"
          ],
          [
           "City West Water"
          ],
          [
           "City West Water"
          ],
          [
           "City West Water"
          ],
          [
           "City West Water"
          ],
          [
           "City West Water"
          ],
          [
           "City West Water"
          ],
          [
           "City West Water"
          ],
          [
           "City West Water"
          ],
          [
           "City West Water"
          ],
          [
           "City West Water"
          ],
          [
           "City West Water"
          ],
          [
           "City West Water"
          ],
          [
           "City West Water"
          ],
          [
           "City West Water"
          ],
          [
           "City West Water"
          ],
          [
           "City West Water"
          ],
          [
           "City West Water"
          ],
          [
           "City West Water"
          ],
          [
           "City West Water"
          ],
          [
           "City West Water"
          ],
          [
           "City West Water"
          ],
          [
           "City West Water"
          ],
          [
           "City West Water"
          ],
          [
           "City West Water"
          ],
          [
           "City West Water"
          ],
          [
           "City West Water"
          ],
          [
           "City West Water"
          ],
          [
           "City West Water"
          ],
          [
           "City West Water"
          ],
          [
           "City West Water"
          ],
          [
           "City West Water"
          ],
          [
           "City West Water"
          ],
          [
           "City West Water"
          ],
          [
           "City West Water"
          ],
          [
           "City West Water"
          ],
          [
           "City West Water"
          ],
          [
           "City West Water"
          ],
          [
           "City West Water"
          ],
          [
           "City West Water"
          ],
          [
           "City West Water"
          ],
          [
           "City West Water"
          ],
          [
           "City West Water"
          ],
          [
           "City West Water"
          ],
          [
           "City West Water"
          ],
          [
           "City West Water"
          ],
          [
           "City West Water"
          ],
          [
           "City West Water"
          ],
          [
           "City West Water"
          ],
          [
           "City West Water"
          ],
          [
           "City West Water"
          ],
          [
           "City West Water"
          ],
          [
           "City West Water"
          ],
          [
           "City West Water"
          ],
          [
           "City West Water"
          ],
          [
           "City West Water"
          ]
         ],
         "hovertemplate": "<b>%{hovertext}</b><br><br>water_company=%{customdata[0]}<br>lat=%{lat}<br>lon=%{lon}<extra></extra>",
         "hovertext": [
          "ABBOTSFORD",
          "ABERFELDIE",
          "AIRPORT WEST",
          "ALBANVALE",
          "ALBION",
          "ALTONA",
          "ALTONA MEADOWS",
          "ALTONA NORTH",
          "ARDEER",
          "ASCOT VALE",
          "AVONDALE HEIGHTS",
          "BRAYBROOK",
          "BROOKLYN",
          "BURNLEY",
          "BURNSIDE",
          "CAIRNLEA",
          "CARLTON",
          "CARLTON NORTH",
          "CAROLINE SPRINGS",
          "CLIFTON HILL",
          "COBURG",
          "COLLINGWOOD",
          "CREMORNE",
          "DEER PARK",
          "DELAHEY",
          "DERRIMUT",
          "DOCKLANDS",
          "EAST MELBOURNE",
          "ESSENDON",
          "ESSENDON NORTH",
          "ESSENDON WEST",
          "FITZROY",
          "FITZROY NORTH",
          "FLEMINGTON",
          "FOOTSCRAY",
          "HIGHPOINT CITY",
          "HILLSIDE",
          "HOPPERS CROSSING",
          "KEALBA",
          "KEILOR",
          "KEILOR DOWNS",
          "KEILOR EAST",
          "KEILOR NORTH",
          "KEILOR PARK",
          "KENSINGTON",
          "KINGS PARK",
          "KINGSVILLE",
          "LAVERTON",
          "LAVERTON NORTH",
          "LITTLE RIVER",
          "MAIDSTONE",
          "MARIBYRNONG",
          "MELBOURNE",
          "MELBOURNE",
          "MELBOURNE AIRPORT",
          "MOONEE PONDS",
          "NEWPORT",
          "NIDDRIE",
          "NORTH MELBOURNE",
          "PARKVILLE",
          "POINT COOK",
          "RICHMOND",
          "SEABROOK",
          "SEAHOLME",
          "SEDDON",
          "SOUTH KINGSVILLE",
          "SPOTSWOOD",
          "ST ALBANS",
          "STRATHMORE",
          "STRATHMORE HEIGHTS",
          "SUNSHINE",
          "SYDENHAM",
          "TAYLORS LAKES",
          "TOTTENHAM",
          "TRAVANCORE",
          "TULLAMARINE",
          "WERRIBEE",
          "WEST FOOTSCRAY",
          "WEST MELBOURNE",
          "WILLIAMSTOWN",
          "WYNDHAM VALE",
          "YARRAVILLE",
          "YARRAVILLE WEST"
         ],
         "lat": [
          -37.803,
          -37.762,
          -37.724,
          -37.746,
          -37.781,
          -37.868,
          -37.875,
          -37.841,
          -37.7776716,
          -37.779,
          -37.762,
          -37.786,
          -37.813,
          -37.8299258,
          -37.753,
          -37.757,
          -37.8001,
          -37.7890434,
          -37.745,
          -37.789,
          -37.741534,
          -37.8019,
          -37.83,
          -37.763,
          -37.719,
          -37.7854322,
          -37.817,
          -37.813,
          -37.749,
          -37.7383196,
          -37.755,
          -37.801111,
          -37.784,
          -37.785,
          -37.798,
          -37.4713077,
          -37.687,
          -37.869,
          -37.739,
          -37.712,
          -37.722,
          -37.741667,
          -37.68,
          -37.719,
          -37.791,
          -37.734,
          -37.809,
          -37.858,
          -37.83,
          -37.9672041,
          -37.783,
          -37.77,
          -37.8136276,
          -37.838525,
          -37.6875,
          -37.765,
          -37.842,
          -37.745,
          -37.799167,
          -37.788,
          -37.9178086,
          -37.823,
          -37.876,
          -37.868,
          -37.8055831,
          -37.8300643,
          -37.831,
          -37.736111,
          -37.734,
          -37.713,
          -37.781,
          -37.702,
          -37.701,
          -37.806,
          -37.778,
          -37.701,
          -37.9,
          -37.8020576,
          -37.808,
          -37.861,
          -37.89,
          -37.817,
          -37.815066
         ],
         "legendgroup": "City West Water",
         "lon": [
          145.002,
          144.901,
          144.879,
          144.765,
          144.8145,
          144.83,
          144.782,
          144.849,
          144.7988921,
          144.919,
          144.863,
          144.856,
          144.841,
          145.0176466,
          144.754,
          144.784,
          144.9671,
          144.9694441,
          144.74,
          144.999,
          144.96272,
          144.98815,
          144.993,
          144.767,
          144.777,
          144.7661531,
          144.946,
          144.985,
          144.912,
          144.8992556,
          144.883,
          144.978889,
          144.986,
          144.928,
          144.899,
          144.7851531,
          144.743,
          144.693,
          144.828,
          144.831,
          144.803,
          144.863056,
          144.784,
          144.851,
          144.931,
          144.772,
          144.878,
          144.773,
          144.785,
          144.5083099,
          144.878,
          144.893,
          144.9630576,
          144.975608,
          144.840556,
          144.92,
          144.884,
          144.886,
          144.946667,
          144.951,
          144.7477259,
          144.998,
          144.758,
          144.841,
          144.891002,
          144.8703715,
          144.887,
          144.803889,
          144.921,
          144.897,
          144.832,
          144.767,
          144.796,
          144.857,
          144.935,
          144.876,
          144.664,
          144.8703715,
          144.927,
          144.885,
          144.63,
          144.89,
          144.88526
         ],
         "marker": {
          "color": "#FFA15A",
          "opacity": 0.8
         },
         "mode": "markers",
         "name": "City West Water",
         "showlegend": true,
         "subplot": "mapbox",
         "type": "scattermapbox"
        },
        {
         "customdata": [
          [
           "Central Highlands Water"
          ],
          [
           "Central Highlands Water"
          ],
          [
           "Central Highlands Water"
          ],
          [
           "Central Highlands Water"
          ],
          [
           "Central Highlands Water"
          ],
          [
           "Central Highlands Water"
          ],
          [
           "Central Highlands Water"
          ],
          [
           "Central Highlands Water"
          ],
          [
           "Central Highlands Water"
          ],
          [
           "Central Highlands Water"
          ],
          [
           "Central Highlands Water"
          ],
          [
           "Central Highlands Water"
          ],
          [
           "Central Highlands Water"
          ],
          [
           "Central Highlands Water"
          ],
          [
           "Central Highlands Water"
          ],
          [
           "Central Highlands Water"
          ],
          [
           "Central Highlands Water"
          ],
          [
           "Central Highlands Water"
          ],
          [
           "Central Highlands Water"
          ],
          [
           "Central Highlands Water"
          ],
          [
           "Central Highlands Water"
          ],
          [
           "Central Highlands Water"
          ],
          [
           "Central Highlands Water"
          ],
          [
           "Central Highlands Water"
          ],
          [
           "Central Highlands Water"
          ],
          [
           "Central Highlands Water"
          ],
          [
           "Central Highlands Water"
          ],
          [
           "Central Highlands Water"
          ],
          [
           "Central Highlands Water"
          ],
          [
           "Central Highlands Water"
          ],
          [
           "Central Highlands Water"
          ],
          [
           "Central Highlands Water"
          ],
          [
           "Central Highlands Water"
          ],
          [
           "Central Highlands Water"
          ],
          [
           "Central Highlands Water"
          ],
          [
           "Central Highlands Water"
          ],
          [
           "Central Highlands Water"
          ],
          [
           "Central Highlands Water"
          ],
          [
           "Central Highlands Water"
          ],
          [
           "Central Highlands Water"
          ],
          [
           "Central Highlands Water"
          ],
          [
           "Central Highlands Water"
          ],
          [
           "Central Highlands Water"
          ],
          [
           "Central Highlands Water"
          ],
          [
           "Central Highlands Water"
          ],
          [
           "Central Highlands Water"
          ],
          [
           "Central Highlands Water"
          ],
          [
           "Central Highlands Water"
          ],
          [
           "Central Highlands Water"
          ],
          [
           "Central Highlands Water"
          ],
          [
           "Central Highlands Water"
          ],
          [
           "Central Highlands Water"
          ],
          [
           "Central Highlands Water"
          ],
          [
           "Central Highlands Water"
          ],
          [
           "Central Highlands Water"
          ],
          [
           "Central Highlands Water"
          ],
          [
           "Central Highlands Water"
          ],
          [
           "Central Highlands Water"
          ],
          [
           "Central Highlands Water"
          ],
          [
           "Central Highlands Water"
          ],
          [
           "Central Highlands Water"
          ],
          [
           "Central Highlands Water"
          ],
          [
           "Central Highlands Water"
          ],
          [
           "Central Highlands Water"
          ],
          [
           "Central Highlands Water"
          ],
          [
           "Central Highlands Water"
          ],
          [
           "Central Highlands Water"
          ],
          [
           "Central Highlands Water"
          ],
          [
           "Central Highlands Water"
          ],
          [
           "Central Highlands Water"
          ],
          [
           "Central Highlands Water"
          ],
          [
           "Central Highlands Water"
          ],
          [
           "Central Highlands Water"
          ],
          [
           "Central Highlands Water"
          ],
          [
           "Central Highlands Water"
          ],
          [
           "Central Highlands Water"
          ],
          [
           "Central Highlands Water"
          ],
          [
           "Central Highlands Water"
          ],
          [
           "Central Highlands Water"
          ],
          [
           "Central Highlands Water"
          ],
          [
           "Central Highlands Water"
          ],
          [
           "Central Highlands Water"
          ],
          [
           "Central Highlands Water"
          ],
          [
           "Central Highlands Water"
          ],
          [
           "Central Highlands Water"
          ],
          [
           "Central Highlands Water"
          ],
          [
           "Central Highlands Water"
          ],
          [
           "Central Highlands Water"
          ],
          [
           "Central Highlands Water"
          ],
          [
           "Central Highlands Water"
          ],
          [
           "Central Highlands Water"
          ],
          [
           "Central Highlands Water"
          ],
          [
           "Central Highlands Water"
          ],
          [
           "Central Highlands Water"
          ],
          [
           "Central Highlands Water"
          ],
          [
           "Central Highlands Water"
          ],
          [
           "Central Highlands Water"
          ],
          [
           "Central Highlands Water"
          ],
          [
           "Central Highlands Water"
          ],
          [
           "Central Highlands Water"
          ],
          [
           "Central Highlands Water"
          ],
          [
           "Central Highlands Water"
          ],
          [
           "Central Highlands Water"
          ],
          [
           "Central Highlands Water"
          ],
          [
           "Central Highlands Water"
          ],
          [
           "Central Highlands Water"
          ],
          [
           "Central Highlands Water"
          ],
          [
           "Central Highlands Water"
          ],
          [
           "Central Highlands Water"
          ],
          [
           "Central Highlands Water"
          ],
          [
           "Central Highlands Water"
          ],
          [
           "Central Highlands Water"
          ],
          [
           "Central Highlands Water"
          ],
          [
           "Central Highlands Water"
          ],
          [
           "Central Highlands Water"
          ],
          [
           "Central Highlands Water"
          ],
          [
           "Central Highlands Water"
          ],
          [
           "Central Highlands Water"
          ]
         ],
         "hovertemplate": "<b>%{hovertext}</b><br><br>water_company=%{customdata[0]}<br>lat=%{lat}<br>lon=%{lon}<extra></extra>",
         "hovertext": [
          "ADDINGTON",
          "ADELAIDE LEAD",
          "ALFREDTON",
          "ALLENDALE",
          "ALMA",
          "AMPHITHEATRE",
          "AVOCA",
          "BALLAN",
          "BALLARAT",
          "BALLARAT NORTH",
          "BALLARAT SOUTH",
          "BARRYS REEF",
          "BEAUFORT",
          "BERRINGA",
          "BET BET",
          "BETLEY",
          "BLACK HILL",
          "BLACKWOOD",
          "BOLWARRAH",
          "BONSHAW",
          "BOWENVALE",
          "BROOMFIELD",
          "BROWN HILL",
          "BULLAROOK",
          "BUNGAREE",
          "BUNINYONG",
          "BUNKERS HILL",
          "BURRUMBEET",
          "CAMBRIAN HILL",
          "CANADIAN",
          "CARDIGAN",
          "CARISBROOK",
          "CARNGHAM",
          "CHIPSTOW",
          "CLARENDON",
          "CLARKES HILL",
          "CLUNES",
          "CORINDHAP",
          "CRAIGIE",
          "CRESWICK",
          "DAISY HILL",
          "DAYLESFORD",
          "DEAN",
          "DELACOMBE",
          "DEREEL",
          "DURHAM LEAD",
          "ENFIELD",
          "EUREKA",
          "FLAGSTAFF",
          "FLAGSTAFF RIDGE HILL",
          "GLENMORE",
          "GOLDEN POINT",
          "GORDON",
          "HADDON",
          "HAVELOCK",
          "HEPBURN",
          "HILLCREST",
          "INVERMAY",
          "KINGSTON",
          "LAKE GARDENS",
          "LAL LAL",
          "LANDSBOROUGH",
          "LEARMONTH",
          "LEIGH CREEK",
          "LEXTON",
          "LINTON",
          "LITTLE BENDIGO",
          "MAGPIE",
          "MAJORCA",
          "MARYBOROUGH",
          "MINERS REST",
          "MITCHELL PARK",
          "MOONLIGHT FLAT",
          "MOUNT CLEAR",
          "MOUNT EGERTON",
          "MOUNT HELEN",
          "MOUNT PLEASANT",
          "MOUNT ROWAN",
          "NAPOLEONS",
          "NAVARRE",
          "NAVIGATORS",
          "NERRINA",
          "NEWINGTON",
          "NEWLYN",
          "NEWLYN NORTH",
          "NINTINGBOOL",
          "PITTONG",
          "POOTILLA",
          "RAGLAN",
          "REDAN",
          "REDBANK",
          "RODBOROUGH",
          "ROKEWOOD",
          "ROSS CREEK",
          "ROWSLEY",
          "SCARSDALE",
          "SEBASTOPOL",
          "SIMSON",
          "SKIPTON",
          "SMEATON",
          "SMYTHES CREEK",
          "SMYTHESDALE",
          "SNAKE VALLEY",
          "SOLDIERS HILL",
          "SPRING HILL",
          "SPRINGBANK",
          "SPRINGMOUNT",
          "TALBOT",
          "TIMOR",
          "TIMOR WEST",
          "WALLACE",
          "WARRENHEIP",
          "WAUBRA",
          "WENDOUREE",
          "WERNETH",
          "WINDERMERE",
          "WOODMANS HILL",
          "YENDON"
         ],
         "lat": [
          -37.383333,
          -37.0838207,
          -37.555,
          -37.366667,
          -37.027222,
          -37.1878175,
          -37.088056,
          -37.6146129,
          -37.5621587,
          -37.5397,
          -37.570139,
          -37.4562523,
          -37.4228524,
          -37.7760414,
          -36.9217288,
          -36.9182683,
          -37.5502577,
          -37.4834268,
          -37.5207531,
          -37.6034859,
          -36.9961863,
          -37.3862675,
          -37.5495,
          -37.5295427,
          -37.557222,
          -37.650278,
          -37.5705876,
          -37.5093344,
          -37.6438973,
          -37.576,
          -37.538708,
          -37.048056,
          -37.5769958,
          -37.616101,
          -37.701411,
          -37.4968556,
          -37.296,
          -37.8704673,
          -37.0952972,
          -37.4241222,
          -37.1132303,
          -37.35,
          -37.4488929,
          -37.589,
          -37.8247291,
          -37.6882095,
          -37.7255403,
          -37.5648,
          -37.05,
          -37.67209,
          -37.7128105,
          -37.574,
          -37.583333,
          -37.588333,
          -36.9604672,
          -37.3118233,
          -37.6155727,
          -37.502394,
          -37.366667,
          -37.546,
          -37.6801093,
          -37.0325896,
          -37.4221835,
          -37.5622875,
          -37.2792586,
          -37.683333,
          -37.543149,
          -37.6275666,
          -37.1283598,
          -37.0473301,
          -37.4717252,
          -37.5089391,
          -37.052382,
          -37.602,
          -37.616667,
          -37.6297878,
          -37.581,
          -37.5029337,
          -37.683333,
          -36.9436225,
          -37.6172482,
          -37.533,
          -37.5655288,
          -37.416944,
          -37.3926739,
          -37.6125783,
          -37.6760324,
          -37.526444,
          -37.3590952,
          -37.577,
          -36.9565463,
          -37.1048821,
          -37.9,
          -37.649799,
          -37.7216385,
          -37.678333,
          -37.585278,
          -36.9948936,
          -37.6847168,
          -37.333333,
          -37.5941229,
          -37.6333464,
          -37.611944,
          -37.55,
          -37.296477,
          -37.5235787,
          -37.4130869,
          -37.166667,
          -36.984167,
          -36.9642713,
          -37.5608219,
          -37.575,
          -37.3629556,
          -37.532,
          -37.9291695,
          -37.5137333,
          -37.55642,
          -37.6445852
         ],
         "legendgroup": "Central Highlands Water",
         "lon": [
          143.683333,
          143.679125,
          143.8,
          143.933333,
          143.677778,
          143.4682535,
          143.473889,
          144.2415697,
          143.8502556,
          143.8676,
          143.847761,
          144.3193914,
          143.3703651,
          143.6840179,
          143.7531872,
          143.7965958,
          143.875336,
          144.3026601,
          144.0830163,
          143.8155947,
          143.698961,
          143.905224,
          143.9125,
          143.9988766,
          144.004444,
          143.883889,
          143.7423389,
          143.6783343,
          143.8183092,
          143.877,
          143.7457289,
          143.816944,
          143.5639019,
          143.504808,
          143.9813542,
          143.9813542,
          143.786,
          143.749458,
          143.7820105,
          143.8912368,
          143.7261205,
          144.15,
          143.9956369,
          143.814,
          143.7562257,
          143.8780526,
          143.803634,
          143.8822,
          143.775,
          143.5194058,
          144.3122204,
          143.868,
          144.1,
          143.699444,
          143.7720261,
          144.125661,
          143.6339403,
          143.8780526,
          143.95,
          143.82,
          144.0099222,
          143.1561318,
          143.7120932,
          143.9623147,
          143.5156517,
          143.566667,
          143.894678,
          143.8508908,
          143.79049,
          143.7446068,
          143.7911684,
          143.7747951,
          143.684042,
          143.868,
          144.1,
          143.8834861,
          143.853,
          143.8400287,
          143.833333,
          143.1151106,
          143.9269679,
          143.903,
          143.8264533,
          143.983056,
          144.0031194,
          143.7233581,
          143.4476526,
          143.9595951,
          143.3332684,
          143.844,
          143.3503162,
          143.9012866,
          143.716667,
          143.7694626,
          144.376119,
          143.676111,
          143.839444,
          143.7748884,
          143.3643289,
          143.95,
          143.7694626,
          143.6887979,
          143.584444,
          143.858,
          144.3576473,
          144.0575587,
          143.9351234,
          143.7,
          143.709167,
          143.6698303,
          144.0575587,
          143.923,
          143.6400336,
          143.823,
          143.6241243,
          143.720308,
          143.907289,
          143.9650343
         ],
         "marker": {
          "color": "#19d3f3",
          "opacity": 0.8
         },
         "mode": "markers",
         "name": "Central Highlands Water",
         "showlegend": true,
         "subplot": "mapbox",
         "type": "scattermapbox"
        },
        {
         "customdata": [
          [
           "South Gippsland Water"
          ],
          [
           "South Gippsland Water"
          ],
          [
           "South Gippsland Water"
          ],
          [
           "South Gippsland Water"
          ],
          [
           "South Gippsland Water"
          ],
          [
           "South Gippsland Water"
          ],
          [
           "South Gippsland Water"
          ],
          [
           "South Gippsland Water"
          ],
          [
           "South Gippsland Water"
          ],
          [
           "South Gippsland Water"
          ],
          [
           "South Gippsland Water"
          ],
          [
           "South Gippsland Water"
          ],
          [
           "South Gippsland Water"
          ],
          [
           "South Gippsland Water"
          ],
          [
           "South Gippsland Water"
          ],
          [
           "South Gippsland Water"
          ],
          [
           "South Gippsland Water"
          ],
          [
           "South Gippsland Water"
          ],
          [
           "South Gippsland Water"
          ],
          [
           "South Gippsland Water"
          ],
          [
           "South Gippsland Water"
          ],
          [
           "South Gippsland Water"
          ],
          [
           "South Gippsland Water"
          ],
          [
           "South Gippsland Water"
          ],
          [
           "South Gippsland Water"
          ]
         ],
         "hovertemplate": "<b>%{hovertext}</b><br><br>water_company=%{customdata[0]}<br>lat=%{lat}<br>lon=%{lon}<extra></extra>",
         "hovertext": [
          "AGNES",
          "ALBERTON",
          "BARRY BEACH",
          "BENNISON",
          "CAPE PATERSON",
          "DEVON NORTH",
          "DUMBALK",
          "FISH CREEK",
          "FOSTER",
          "HEDLEY",
          "INVERLOCH",
          "KOONWARRA",
          "KORUMBURRA",
          "LEONGATHA",
          "LOCH",
          "MEENIYAN",
          "NYORA",
          "POOWONG",
          "PORT ALBERT",
          "PORT FRANKLIN",
          "PORT WELSHPOOL",
          "TOORA",
          "WELSHPOOL",
          "WONTHAGGI",
          "YARRAM"
         ],
         "lat": [
          -38.6577757,
          -38.616667,
          -38.710362,
          -38.6707482,
          -38.6717,
          -38.5188799,
          -38.533889,
          -38.7043519,
          -38.65,
          -38.6436473,
          -38.6334,
          -38.547222,
          -38.4378364,
          -38.4740327,
          -38.3738374,
          -38.5835106,
          -38.3329,
          -38.35,
          -38.665278,
          -38.683333,
          -38.699722,
          -38.6597789,
          -38.666667,
          -38.6089501,
          -38.565594
         ],
         "legendgroup": "South Gippsland Water",
         "lon": [
          146.3819528,
          146.666667,
          146.387372,
          146.2733747,
          145.6198,
          146.6436701,
          146.094444,
          146.087727,
          146.2,
          146.4936982,
          145.7278,
          145.946944,
          145.8150854,
          145.9436663,
          145.6877037,
          146.013851,
          145.6698,
          145.75,
          146.688333,
          146.283333,
          146.464722,
          146.3041191,
          146.433333,
          145.5911028,
          146.6751045
         ],
         "marker": {
          "color": "#FF6692",
          "opacity": 0.8
         },
         "mode": "markers",
         "name": "South Gippsland Water",
         "showlegend": true,
         "subplot": "mapbox",
         "type": "scattermapbox"
        },
        {
         "customdata": [
          [
           "South East Water"
          ],
          [
           "South East Water"
          ],
          [
           "South East Water"
          ],
          [
           "South East Water"
          ],
          [
           "South East Water"
          ],
          [
           "South East Water"
          ],
          [
           "South East Water"
          ],
          [
           "South East Water"
          ],
          [
           "South East Water"
          ],
          [
           "South East Water"
          ],
          [
           "South East Water"
          ],
          [
           "South East Water"
          ],
          [
           "South East Water"
          ],
          [
           "South East Water"
          ],
          [
           "South East Water"
          ],
          [
           "South East Water"
          ],
          [
           "South East Water"
          ],
          [
           "South East Water"
          ],
          [
           "South East Water"
          ],
          [
           "South East Water"
          ],
          [
           "South East Water"
          ],
          [
           "South East Water"
          ],
          [
           "South East Water"
          ],
          [
           "South East Water"
          ],
          [
           "South East Water"
          ],
          [
           "South East Water"
          ],
          [
           "South East Water"
          ],
          [
           "South East Water"
          ],
          [
           "South East Water"
          ],
          [
           "South East Water"
          ],
          [
           "South East Water"
          ],
          [
           "South East Water"
          ],
          [
           "South East Water"
          ],
          [
           "South East Water"
          ],
          [
           "South East Water"
          ],
          [
           "South East Water"
          ],
          [
           "South East Water"
          ],
          [
           "South East Water"
          ],
          [
           "South East Water"
          ],
          [
           "South East Water"
          ],
          [
           "South East Water"
          ],
          [
           "South East Water"
          ],
          [
           "South East Water"
          ],
          [
           "South East Water"
          ],
          [
           "South East Water"
          ],
          [
           "South East Water"
          ],
          [
           "South East Water"
          ],
          [
           "South East Water"
          ],
          [
           "South East Water"
          ],
          [
           "South East Water"
          ],
          [
           "South East Water"
          ],
          [
           "South East Water"
          ],
          [
           "South East Water"
          ],
          [
           "South East Water"
          ],
          [
           "South East Water"
          ],
          [
           "South East Water"
          ],
          [
           "South East Water"
          ],
          [
           "South East Water"
          ],
          [
           "South East Water"
          ],
          [
           "South East Water"
          ],
          [
           "South East Water"
          ],
          [
           "South East Water"
          ],
          [
           "South East Water"
          ],
          [
           "South East Water"
          ],
          [
           "South East Water"
          ],
          [
           "South East Water"
          ],
          [
           "South East Water"
          ],
          [
           "South East Water"
          ],
          [
           "South East Water"
          ],
          [
           "South East Water"
          ],
          [
           "South East Water"
          ],
          [
           "South East Water"
          ],
          [
           "South East Water"
          ],
          [
           "South East Water"
          ],
          [
           "South East Water"
          ],
          [
           "South East Water"
          ],
          [
           "South East Water"
          ],
          [
           "South East Water"
          ],
          [
           "South East Water"
          ],
          [
           "South East Water"
          ],
          [
           "South East Water"
          ],
          [
           "South East Water"
          ],
          [
           "South East Water"
          ],
          [
           "South East Water"
          ],
          [
           "South East Water"
          ],
          [
           "South East Water"
          ],
          [
           "South East Water"
          ],
          [
           "South East Water"
          ],
          [
           "South East Water"
          ],
          [
           "South East Water"
          ],
          [
           "South East Water"
          ],
          [
           "South East Water"
          ],
          [
           "South East Water"
          ],
          [
           "South East Water"
          ],
          [
           "South East Water"
          ],
          [
           "South East Water"
          ],
          [
           "South East Water"
          ],
          [
           "South East Water"
          ],
          [
           "South East Water"
          ],
          [
           "South East Water"
          ],
          [
           "South East Water"
          ],
          [
           "South East Water"
          ],
          [
           "South East Water"
          ],
          [
           "South East Water"
          ],
          [
           "South East Water"
          ],
          [
           "South East Water"
          ],
          [
           "South East Water"
          ],
          [
           "South East Water"
          ],
          [
           "South East Water"
          ],
          [
           "South East Water"
          ],
          [
           "South East Water"
          ],
          [
           "South East Water"
          ],
          [
           "South East Water"
          ],
          [
           "South East Water"
          ],
          [
           "South East Water"
          ],
          [
           "South East Water"
          ],
          [
           "South East Water"
          ],
          [
           "South East Water"
          ],
          [
           "South East Water"
          ],
          [
           "South East Water"
          ],
          [
           "South East Water"
          ],
          [
           "South East Water"
          ],
          [
           "South East Water"
          ],
          [
           "South East Water"
          ],
          [
           "South East Water"
          ],
          [
           "South East Water"
          ],
          [
           "South East Water"
          ],
          [
           "South East Water"
          ],
          [
           "South East Water"
          ],
          [
           "South East Water"
          ],
          [
           "South East Water"
          ],
          [
           "South East Water"
          ],
          [
           "South East Water"
          ],
          [
           "South East Water"
          ],
          [
           "South East Water"
          ],
          [
           "South East Water"
          ],
          [
           "South East Water"
          ],
          [
           "South East Water"
          ],
          [
           "South East Water"
          ],
          [
           "South East Water"
          ],
          [
           "South East Water"
          ],
          [
           "South East Water"
          ],
          [
           "South East Water"
          ],
          [
           "South East Water"
          ],
          [
           "South East Water"
          ],
          [
           "South East Water"
          ],
          [
           "South East Water"
          ],
          [
           "South East Water"
          ],
          [
           "South East Water"
          ],
          [
           "South East Water"
          ],
          [
           "South East Water"
          ]
         ],
         "hovertemplate": "<b>%{hovertext}</b><br><br>water_company=%{customdata[0]}<br>lat=%{lat}<br>lon=%{lon}<extra></extra>",
         "hovertext": [
          "ALBERT PARK",
          "ARMADALE",
          "ASPENDALE",
          "ASPENDALE GARDENS",
          "BALACLAVA",
          "BALNARRING",
          "BANGHOLME",
          "BAXTER",
          "BAYSWATER",
          "BEACONSFIELD",
          "BEACONSFIELD UPPER",
          "BEAUMARIS",
          "BELGRAVE",
          "BENTLEIGH",
          "BENTLEIGH EAST",
          "BERWICK",
          "BITTERN",
          "BLACK ROCK",
          "BLAIRGOWRIE",
          "BLIND BIGHT",
          "BONBEACH",
          "BORONIA",
          "BRAESIDE",
          "BRIGHTON",
          "BRIGHTON EAST",
          "BUNYIP",
          "CANNONS CREEK",
          "CARNEGIE",
          "CARRUM",
          "CARRUM DOWNS",
          "CAULFIELD",
          "CAULFIELD NORTH",
          "CAULFIELD SOUTH",
          "CHELSEA",
          "CHELSEA HEIGHTS",
          "CHELTENHAM",
          "CLARINDA",
          "CLAYTON SOUTH",
          "CLYDE",
          "CRANBOURNE",
          "CRANBOURNE NORTH",
          "CRANBOURNE SOUTH",
          "CRIB POINT",
          "DANDENONG",
          "DANDENONG SOUTH",
          "DEVON MEADOWS",
          "DINGLEY VILLAGE",
          "DOVETON",
          "DROMANA",
          "EDITHVALE",
          "ELSTERNWICK",
          "ELWOOD",
          "ENDEAVOUR HILLS",
          "FERNTREE GULLY",
          "FLINDERS",
          "FRANKSTON",
          "FRANKSTON NORTH",
          "GARDENVALE",
          "GARFIELD",
          "GLEN HUNTLY",
          "GUYS HILL",
          "HALLAM",
          "HAMPTON",
          "HAMPTON EAST",
          "HAMPTON PARK",
          "HARKAWAY",
          "HASTINGS",
          "HEATHERTON",
          "HIGHETT",
          "HMAS CERBERUS",
          "HUGHESDALE",
          "HUNTINGDALE",
          "KEYSBOROUGH",
          "KNOXFIELD",
          "KOO WEE RUP",
          "LANG LANG",
          "LANGWARRIN",
          "LONGWARRY",
          "LYNBROOK",
          "LYNDHURST",
          "LYSTERFIELD",
          "MALVERN",
          "MCCRAE",
          "MCKINNON",
          "MENTONE",
          "MERRICKS",
          "MERRICKS BEACH",
          "MIDDLE PARK",
          "MONOMEITH",
          "MOORABBIN",
          "MOORABBIN AIRPORT",
          "MOORABBIN EAST",
          "MOOROODUC",
          "MORDIALLOC",
          "MORNINGTON",
          "MOUNT ELIZA",
          "MOUNT MARTHA",
          "MULGRAVE",
          "MURRUMBEENA",
          "NAR NAR GOON",
          "NARRE WARREN",
          "NARRE WARREN NORTH",
          "NOBLE PARK",
          "NOBLE PARK NORTH",
          "OAKLEIGH",
          "OAKLEIGH SOUTH",
          "OFFICER",
          "ORMOND",
          "PAKENHAM",
          "PARKDALE",
          "PATTERSON LAKES",
          "PEARCEDALE",
          "PORT MELBOURNE",
          "PORTSEA",
          "PRAHRAN",
          "RIPPONLEA",
          "ROSEBUD",
          "ROSEBUD WEST",
          "ROWVILLE",
          "RYE",
          "SAFETY BEACH",
          "SANDHURST",
          "SANDRINGHAM",
          "SCORESBY",
          "SEAFORD",
          "SELBY",
          "SHOREHAM",
          "SKYE",
          "SOMERS",
          "SOMERVILLE",
          "SORRENTO",
          "SOUTH MELBOURNE",
          "SOUTH YARRA",
          "SOUTHBANK",
          "SPRINGVALE",
          "SPRINGVALE SOUTH",
          "ST KILDA",
          "ST KILDA EAST",
          "ST KILDA WEST",
          "TECOMA",
          "THE BASIN",
          "TOORADIN",
          "TOOTGAROOK",
          "TYABB",
          "TYNONG",
          "UPPER FERNTREE GULLY",
          "UPWEY",
          "WANTIRNA",
          "WANTIRNA SOUTH",
          "WATERWAYS",
          "WINDSOR"
         ],
         "lat": [
          -37.842,
          -37.856,
          -38.025,
          -38.022778,
          -37.873,
          -38.371,
          -38.049,
          -38.196,
          -37.843,
          -38.049,
          -37.9982063,
          -37.983,
          -37.913067,
          -37.922,
          -37.921,
          -38.031,
          -38.339,
          -37.972,
          -38.36,
          -38.2138627,
          -38.062,
          -37.862,
          -38,
          -37.905,
          -37.916,
          -38.1000508,
          -38.213,
          -37.888,
          -38.076,
          -38.096,
          -37.884,
          -37.873,
          -37.891,
          -38.051111,
          -38.047,
          -37.967,
          -37.941,
          -37.947,
          -38.132,
          -38.105,
          -38.07,
          -38.1581064,
          -38.363,
          -37.981,
          -38.031,
          -38.162,
          -37.981,
          -37.988,
          -38.338,
          -38.037,
          -37.887,
          -37.884,
          -37.969,
          -37.8862,
          -38.474,
          -38.158,
          -38.123,
          -37.899,
          -38.0999051,
          -37.8927437,
          -38.017,
          -38.009,
          -37.937,
          -37.939,
          -38.029,
          -37.999,
          -38.306,
          -37.95,
          -37.95,
          -38.3813207,
          -37.895,
          -37.9084344,
          -37.989,
          -37.891,
          -38.198,
          -38.266667,
          -38.151,
          -38.1110794,
          -38.05,
          -38.0704681,
          -37.93,
          -37.858,
          -38.351,
          -37.91,
          -37.985,
          -38.39,
          -38.398,
          -37.851944,
          -38.2155589,
          -37.941,
          -37.9786237,
          -37.941,
          -38.247,
          -37.999,
          -38.228,
          -38.189,
          -38.267,
          -37.929,
          -37.899,
          -38.081944,
          -38.018,
          -37.982,
          -37.967,
          -37.942,
          -37.9030702,
          -37.917,
          -38.058056,
          -37.902081,
          -38.073568,
          -37.991,
          -38.0742262,
          -38.203,
          -37.823889,
          -38.32,
          -37.852,
          -37.8784934,
          -38.356,
          -38.377,
          -37.937,
          -38.377,
          -38.322,
          -38.081,
          -37.9525,
          -37.894,
          -38.105,
          -37.914,
          -38.427,
          -38.119,
          -38.393,
          -38.226,
          -38.338889,
          -37.835,
          -37.84,
          -37.829,
          -37.947,
          -37.977,
          -37.864,
          -37.862,
          -37.8604,
          -37.906,
          -37.86,
          -38.211111,
          -38.374,
          -38.259,
          -38.083333,
          -37.895,
          -37.904,
          -37.844,
          -37.881,
          -38.0147634,
          -37.854
         ],
         "legendgroup": "South East Water",
         "lon": [
          144.95,
          145.022,
          145.104,
          145.118889,
          144.993,
          145.118,
          145.166,
          145.157,
          145.267,
          145.371,
          145.4237893,
          145.0434,
          145.3518,
          145.036,
          145.067,
          145.344,
          145.175,
          145.021,
          144.769,
          145.339912,
          145.12,
          145.286,
          145.125,
          144.996,
          145.015,
          145.7189396,
          145.315,
          145.062,
          145.122,
          145.178,
          145.0266,
          145.025,
          145.026,
          145.121944,
          145.137,
          145.068,
          145.103,
          145.123,
          145.327,
          145.279,
          145.291,
          145.2535448,
          145.202,
          145.215,
          145.215,
          145.303,
          145.128,
          145.239,
          144.965,
          145.113,
          145.006,
          144.986,
          145.2558,
          145.2821,
          145.022,
          145.135,
          145.153,
          145.007,
          145.6800684,
          145.0410692,
          145.386,
          145.268,
          145.009,
          145.031,
          145.26,
          145.344,
          145.189,
          145.085,
          145.05,
          145.1983285,
          145.084,
          145.1086176,
          145.172,
          145.248,
          145.489,
          145.566667,
          145.181,
          145.7663288,
          145.252,
          145.2424941,
          145.301,
          145.035,
          144.922,
          145.039,
          145.068889,
          145.089,
          145.106,
          144.963056,
          145.5378941,
          145.058,
          145.1017225,
          145.0595,
          145.105,
          145.092,
          145.062,
          145.092,
          145.018,
          145.174,
          145.072,
          145.575,
          145.3,
          145.314,
          145.176,
          145.19,
          145.0962067,
          145.09,
          145.408889,
          145.0410692,
          145.4851308,
          145.08,
          145.1431018,
          145.231,
          144.911111,
          144.713,
          144.998,
          144.9956077,
          144.918,
          144.872,
          145.229,
          144.838,
          144.986,
          145.207,
          145.012311,
          145.234,
          145.132,
          145.369,
          145.05,
          145.2,
          145.163,
          145.177,
          144.740833,
          144.96,
          144.989,
          144.957,
          145.153,
          145.157,
          144.982,
          144.997,
          144.9732,
          145.344,
          145.314,
          145.38,
          144.849,
          145.189,
          145.616667,
          145.31,
          145.33,
          145.229,
          145.224,
          145.1305169,
          144.988
         ],
         "marker": {
          "color": "#B6E880",
          "opacity": 0.8
         },
         "mode": "markers",
         "name": "South East Water",
         "showlegend": true,
         "subplot": "mapbox",
         "type": "scattermapbox"
        },
        {
         "customdata": [
          [
           "Goulburn Valley Water"
          ],
          [
           "Goulburn Valley Water"
          ],
          [
           "Goulburn Valley Water"
          ],
          [
           "Goulburn Valley Water"
          ],
          [
           "Goulburn Valley Water"
          ],
          [
           "Goulburn Valley Water"
          ],
          [
           "Goulburn Valley Water"
          ],
          [
           "Goulburn Valley Water"
          ],
          [
           "Goulburn Valley Water"
          ],
          [
           "Goulburn Valley Water"
          ],
          [
           "Goulburn Valley Water"
          ],
          [
           "Goulburn Valley Water"
          ],
          [
           "Goulburn Valley Water"
          ],
          [
           "Goulburn Valley Water"
          ],
          [
           "Goulburn Valley Water"
          ],
          [
           "Goulburn Valley Water"
          ],
          [
           "Goulburn Valley Water"
          ],
          [
           "Goulburn Valley Water"
          ],
          [
           "Goulburn Valley Water"
          ],
          [
           "Goulburn Valley Water"
          ],
          [
           "Goulburn Valley Water"
          ],
          [
           "Goulburn Valley Water"
          ],
          [
           "Goulburn Valley Water"
          ],
          [
           "Goulburn Valley Water"
          ],
          [
           "Goulburn Valley Water"
          ],
          [
           "Goulburn Valley Water"
          ],
          [
           "Goulburn Valley Water"
          ],
          [
           "Goulburn Valley Water"
          ],
          [
           "Goulburn Valley Water"
          ],
          [
           "Goulburn Valley Water"
          ],
          [
           "Goulburn Valley Water"
          ],
          [
           "Goulburn Valley Water"
          ],
          [
           "Goulburn Valley Water"
          ],
          [
           "Goulburn Valley Water"
          ],
          [
           "Goulburn Valley Water"
          ],
          [
           "Goulburn Valley Water"
          ],
          [
           "Goulburn Valley Water"
          ],
          [
           "Goulburn Valley Water"
          ],
          [
           "Goulburn Valley Water"
          ],
          [
           "Goulburn Valley Water"
          ],
          [
           "Goulburn Valley Water"
          ],
          [
           "Goulburn Valley Water"
          ],
          [
           "Goulburn Valley Water"
          ],
          [
           "Goulburn Valley Water"
          ],
          [
           "Goulburn Valley Water"
          ],
          [
           "Goulburn Valley Water"
          ],
          [
           "Goulburn Valley Water"
          ],
          [
           "Goulburn Valley Water"
          ],
          [
           "Goulburn Valley Water"
          ],
          [
           "Goulburn Valley Water"
          ],
          [
           "Goulburn Valley Water"
          ]
         ],
         "hovertemplate": "<b>%{hovertext}</b><br><br>water_company=%{customdata[0]}<br>lat=%{lat}<br>lon=%{lon}<extra></extra>",
         "hovertext": [
          "ALEXANDRA",
          "AVENEL",
          "BARMAH",
          "BONNIE DOON",
          "BROADFORD",
          "BUXTON",
          "COBRAM",
          "COLBINABBIN",
          "CONGUPNA",
          "DOOKIE",
          "EILDON",
          "EUROA",
          "GIRGARRE",
          "HEATHCOTE JUNCTION",
          "KATAMATITE",
          "KATANDRA WEST",
          "KATUNGA",
          "KILMORE",
          "KILMORE EAST",
          "KYABRAM",
          "LONGWOOD",
          "MANGALORE",
          "MANSFIELD",
          "MARYSVILLE",
          "MERRIGUM",
          "MERRIJIG",
          "MOOROOPNA",
          "MURCHISON",
          "NAGAMBIE",
          "NATHALIA",
          "NUMURKAH",
          "PICOLA",
          "PYALONG",
          "RUSHWORTH",
          "SEYMOUR",
          "SHEPPARTON",
          "STANHOPE",
          "STRATHMERTON",
          "TALLAROOK",
          "TALLYGAROOPNA",
          "TATURA",
          "THORNTON",
          "TONGALA",
          "TOOLAMBA",
          "TRAWOOL",
          "VIOLET TOWN",
          "WANDONG",
          "WANDONG WEST",
          "WUNGHNU",
          "YARROWEYAH",
          "YEA"
         ],
         "lat": [
          -37.1943946,
          -36.9,
          -36.0175,
          -37.0868493,
          -37.2110528,
          -37.4363851,
          -35.966667,
          -36.6083452,
          -36.3,
          -36.3117549,
          -37.2342952,
          -36.75,
          -36.4064638,
          -37.3853254,
          -36.0527793,
          -36.2260077,
          -36.016667,
          -37.3016566,
          -37.2930364,
          -36.3139409,
          -36.8488197,
          -36.8908218,
          -37.0625288,
          -37.5083939,
          -36.3787995,
          -37.0831709,
          -36.383333,
          -36.616667,
          -36.7802263,
          -36.058333,
          -36.0883415,
          -36.0113631,
          -37.116667,
          -36.6265235,
          -37.0160797,
          -36.383333,
          -36.4388545,
          -35.9401904,
          -37.1144599,
          -36.2456008,
          -36.4366557,
          -37.2605102,
          -36.2455668,
          -36.4999437,
          -37.1089414,
          -36.6372041,
          -37.336023,
          -37.336023,
          -36.1576304,
          -35.933333,
          -37.2229373
         ],
         "legendgroup": "Goulburn Valley Water",
         "lon": [
          145.7080742,
          145.233333,
          144.965278,
          145.8615582,
          145.063089,
          145.711384,
          145.65,
          144.7724465,
          145.433333,
          145.7104485,
          145.897646,
          145.566667,
          144.9618719,
          145.0438252,
          145.6835389,
          145.5690835,
          145.466667,
          144.9497232,
          144.9811479,
          145.0468064,
          145.4080574,
          145.164489,
          146.0821493,
          145.7474205,
          145.1286167,
          146.2745848,
          145.35,
          145.216667,
          145.1528312,
          145.203611,
          145.442323,
          145.1324102,
          144.85,
          145.0672551,
          145.1619887,
          145.4,
          144.9883506,
          145.4762409,
          145.0893126,
          145.4240988,
          145.2328259,
          145.8349846,
          144.9577866,
          145.3357789,
          145.215564,
          145.7141065,
          145.0399797,
          145.0399797,
          145.4243197,
          145.55,
          145.4070195
         ],
         "marker": {
          "color": "#FF97FF",
          "opacity": 0.8
         },
         "mode": "markers",
         "name": "Goulburn Valley Water",
         "showlegend": true,
         "subplot": "mapbox",
         "type": "scattermapbox"
        },
        {
         "customdata": [
          [
           "Wannon Water"
          ],
          [
           "Wannon Water"
          ],
          [
           "Wannon Water"
          ],
          [
           "Wannon Water"
          ],
          [
           "Wannon Water"
          ],
          [
           "Wannon Water"
          ],
          [
           "Wannon Water"
          ],
          [
           "Wannon Water"
          ],
          [
           "Wannon Water"
          ],
          [
           "Wannon Water"
          ],
          [
           "Wannon Water"
          ],
          [
           "Wannon Water"
          ],
          [
           "Wannon Water"
          ],
          [
           "Wannon Water"
          ],
          [
           "Wannon Water"
          ],
          [
           "Wannon Water"
          ],
          [
           "Wannon Water"
          ],
          [
           "Wannon Water"
          ],
          [
           "Wannon Water"
          ],
          [
           "Wannon Water"
          ],
          [
           "Wannon Water"
          ],
          [
           "Wannon Water"
          ],
          [
           "Wannon Water"
          ],
          [
           "Wannon Water"
          ],
          [
           "Wannon Water"
          ],
          [
           "Wannon Water"
          ],
          [
           "Wannon Water"
          ],
          [
           "Wannon Water"
          ],
          [
           "Wannon Water"
          ],
          [
           "Wannon Water"
          ],
          [
           "Wannon Water"
          ],
          [
           "Wannon Water"
          ],
          [
           "Wannon Water"
          ]
         ],
         "hovertemplate": "<b>%{hovertext}</b><br><br>water_company=%{customdata[0]}<br>lat=%{lat}<br>lon=%{lon}<extra></extra>",
         "hovertext": [
          "ALLANSFORD",
          "BALMORAL",
          "CAMPERDOWN",
          "CARAMUT",
          "CASTERTON",
          "CAVENDISH",
          "COBDEN",
          "COLERAINE",
          "DARTMOOR",
          "DERRINALLUM",
          "DUNKELD",
          "GLENORMISTON",
          "GLENTHOMPSON",
          "HAMILTON",
          "HEYWOOD",
          "KOROIT",
          "LISMORE",
          "MACARTHUR",
          "MERINO",
          "MORTLAKE",
          "NOORAT",
          "PENSHURST",
          "PETERBOROUGH",
          "PORT CAMPBELL",
          "PORT FAIRY",
          "PORTLAND",
          "PURNIM",
          "SANDFORD",
          "SIMPSON",
          "TARRINGTON",
          "TERANG",
          "TIMBOON",
          "WARRNAMBOOL"
         ],
         "lat": [
          -38.386111,
          -37.2516966,
          -38.2355272,
          -37.9732434,
          -37.583333,
          -37.516667,
          -38.320519,
          -37.6,
          -37.9143894,
          -37.948441,
          -37.65,
          -38.149904,
          -37.6707686,
          -37.7455702,
          -38.133333,
          -38.2960425,
          -37.9552943,
          -38.027044,
          -37.7117283,
          -38.0755216,
          -38.2006511,
          -37.883333,
          -38.581127,
          -38.5920473,
          -38.3810122,
          -38.360895,
          -38.2910882,
          -37.5986077,
          -38.4987977,
          -37.766667,
          -38.2380769,
          -38.478525,
          -38.3686779
         ],
         "legendgroup": "Wannon Water",
         "lon": [
          142.593056,
          141.8235525,
          143.1426455,
          142.4698649,
          141.4,
          142.033333,
          143.0828766,
          141.7,
          141.2730001,
          143.2160297,
          142.35,
          142.964872,
          142.5338611,
          142.0178976,
          141.616667,
          142.3553505,
          143.3494538,
          142.0046427,
          141.5318089,
          142.8100364,
          142.9364881,
          142.283333,
          142.8618737,
          142.9995604,
          142.2292907,
          141.6041155,
          142.5953418,
          141.4775662,
          143.2429647,
          142.1,
          142.908047,
          142.9734629,
          142.4982086
         ],
         "marker": {
          "color": "#FECB52",
          "opacity": 0.8
         },
         "mode": "markers",
         "name": "Wannon Water",
         "showlegend": true,
         "subplot": "mapbox",
         "type": "scattermapbox"
        },
        {
         "customdata": [
          [
           "Yarra Valley Water"
          ],
          [
           "Yarra Valley Water"
          ],
          [
           "Yarra Valley Water"
          ],
          [
           "Yarra Valley Water"
          ],
          [
           "Yarra Valley Water"
          ],
          [
           "Yarra Valley Water"
          ],
          [
           "Yarra Valley Water"
          ],
          [
           "Yarra Valley Water"
          ],
          [
           "Yarra Valley Water"
          ],
          [
           "Yarra Valley Water"
          ],
          [
           "Yarra Valley Water"
          ],
          [
           "Yarra Valley Water"
          ],
          [
           "Yarra Valley Water"
          ],
          [
           "Yarra Valley Water"
          ],
          [
           "Yarra Valley Water"
          ],
          [
           "Yarra Valley Water"
          ],
          [
           "Yarra Valley Water"
          ],
          [
           "Yarra Valley Water"
          ],
          [
           "Yarra Valley Water"
          ],
          [
           "Yarra Valley Water"
          ],
          [
           "Yarra Valley Water"
          ],
          [
           "Yarra Valley Water"
          ],
          [
           "Yarra Valley Water"
          ],
          [
           "Yarra Valley Water"
          ],
          [
           "Yarra Valley Water"
          ],
          [
           "Yarra Valley Water"
          ],
          [
           "Yarra Valley Water"
          ],
          [
           "Yarra Valley Water"
          ],
          [
           "Yarra Valley Water"
          ],
          [
           "Yarra Valley Water"
          ],
          [
           "Yarra Valley Water"
          ],
          [
           "Yarra Valley Water"
          ],
          [
           "Yarra Valley Water"
          ],
          [
           "Yarra Valley Water"
          ],
          [
           "Yarra Valley Water"
          ],
          [
           "Yarra Valley Water"
          ],
          [
           "Yarra Valley Water"
          ],
          [
           "Yarra Valley Water"
          ],
          [
           "Yarra Valley Water"
          ],
          [
           "Yarra Valley Water"
          ],
          [
           "Yarra Valley Water"
          ],
          [
           "Yarra Valley Water"
          ],
          [
           "Yarra Valley Water"
          ],
          [
           "Yarra Valley Water"
          ],
          [
           "Yarra Valley Water"
          ],
          [
           "Yarra Valley Water"
          ],
          [
           "Yarra Valley Water"
          ],
          [
           "Yarra Valley Water"
          ],
          [
           "Yarra Valley Water"
          ],
          [
           "Yarra Valley Water"
          ],
          [
           "Yarra Valley Water"
          ],
          [
           "Yarra Valley Water"
          ],
          [
           "Yarra Valley Water"
          ],
          [
           "Yarra Valley Water"
          ],
          [
           "Yarra Valley Water"
          ],
          [
           "Yarra Valley Water"
          ],
          [
           "Yarra Valley Water"
          ],
          [
           "Yarra Valley Water"
          ],
          [
           "Yarra Valley Water"
          ],
          [
           "Yarra Valley Water"
          ],
          [
           "Yarra Valley Water"
          ],
          [
           "Yarra Valley Water"
          ],
          [
           "Yarra Valley Water"
          ],
          [
           "Yarra Valley Water"
          ],
          [
           "Yarra Valley Water"
          ],
          [
           "Yarra Valley Water"
          ],
          [
           "Yarra Valley Water"
          ],
          [
           "Yarra Valley Water"
          ],
          [
           "Yarra Valley Water"
          ],
          [
           "Yarra Valley Water"
          ],
          [
           "Yarra Valley Water"
          ],
          [
           "Yarra Valley Water"
          ],
          [
           "Yarra Valley Water"
          ],
          [
           "Yarra Valley Water"
          ],
          [
           "Yarra Valley Water"
          ],
          [
           "Yarra Valley Water"
          ],
          [
           "Yarra Valley Water"
          ],
          [
           "Yarra Valley Water"
          ],
          [
           "Yarra Valley Water"
          ],
          [
           "Yarra Valley Water"
          ],
          [
           "Yarra Valley Water"
          ],
          [
           "Yarra Valley Water"
          ],
          [
           "Yarra Valley Water"
          ],
          [
           "Yarra Valley Water"
          ],
          [
           "Yarra Valley Water"
          ],
          [
           "Yarra Valley Water"
          ],
          [
           "Yarra Valley Water"
          ],
          [
           "Yarra Valley Water"
          ],
          [
           "Yarra Valley Water"
          ],
          [
           "Yarra Valley Water"
          ],
          [
           "Yarra Valley Water"
          ],
          [
           "Yarra Valley Water"
          ],
          [
           "Yarra Valley Water"
          ],
          [
           "Yarra Valley Water"
          ],
          [
           "Yarra Valley Water"
          ],
          [
           "Yarra Valley Water"
          ],
          [
           "Yarra Valley Water"
          ],
          [
           "Yarra Valley Water"
          ],
          [
           "Yarra Valley Water"
          ],
          [
           "Yarra Valley Water"
          ],
          [
           "Yarra Valley Water"
          ],
          [
           "Yarra Valley Water"
          ],
          [
           "Yarra Valley Water"
          ],
          [
           "Yarra Valley Water"
          ],
          [
           "Yarra Valley Water"
          ],
          [
           "Yarra Valley Water"
          ],
          [
           "Yarra Valley Water"
          ],
          [
           "Yarra Valley Water"
          ],
          [
           "Yarra Valley Water"
          ],
          [
           "Yarra Valley Water"
          ],
          [
           "Yarra Valley Water"
          ],
          [
           "Yarra Valley Water"
          ],
          [
           "Yarra Valley Water"
          ],
          [
           "Yarra Valley Water"
          ],
          [
           "Yarra Valley Water"
          ],
          [
           "Yarra Valley Water"
          ],
          [
           "Yarra Valley Water"
          ],
          [
           "Yarra Valley Water"
          ],
          [
           "Yarra Valley Water"
          ],
          [
           "Yarra Valley Water"
          ],
          [
           "Yarra Valley Water"
          ],
          [
           "Yarra Valley Water"
          ],
          [
           "Yarra Valley Water"
          ],
          [
           "Yarra Valley Water"
          ],
          [
           "Yarra Valley Water"
          ],
          [
           "Yarra Valley Water"
          ],
          [
           "Yarra Valley Water"
          ],
          [
           "Yarra Valley Water"
          ],
          [
           "Yarra Valley Water"
          ],
          [
           "Yarra Valley Water"
          ],
          [
           "Yarra Valley Water"
          ],
          [
           "Yarra Valley Water"
          ],
          [
           "Yarra Valley Water"
          ],
          [
           "Yarra Valley Water"
          ],
          [
           "Yarra Valley Water"
          ],
          [
           "Yarra Valley Water"
          ],
          [
           "Yarra Valley Water"
          ],
          [
           "Yarra Valley Water"
          ],
          [
           "Yarra Valley Water"
          ],
          [
           "Yarra Valley Water"
          ],
          [
           "Yarra Valley Water"
          ],
          [
           "Yarra Valley Water"
          ],
          [
           "Yarra Valley Water"
          ],
          [
           "Yarra Valley Water"
          ],
          [
           "Yarra Valley Water"
          ],
          [
           "Yarra Valley Water"
          ],
          [
           "Yarra Valley Water"
          ],
          [
           "Yarra Valley Water"
          ],
          [
           "Yarra Valley Water"
          ],
          [
           "Yarra Valley Water"
          ],
          [
           "Yarra Valley Water"
          ],
          [
           "Yarra Valley Water"
          ],
          [
           "Yarra Valley Water"
          ],
          [
           "Yarra Valley Water"
          ],
          [
           "Yarra Valley Water"
          ],
          [
           "Yarra Valley Water"
          ],
          [
           "Yarra Valley Water"
          ],
          [
           "Yarra Valley Water"
          ],
          [
           "Yarra Valley Water"
          ],
          [
           "Yarra Valley Water"
          ],
          [
           "Yarra Valley Water"
          ],
          [
           "Yarra Valley Water"
          ],
          [
           "Yarra Valley Water"
          ],
          [
           "Yarra Valley Water"
          ],
          [
           "Yarra Valley Water"
          ],
          [
           "Yarra Valley Water"
          ],
          [
           "Yarra Valley Water"
          ],
          [
           "Yarra Valley Water"
          ],
          [
           "Yarra Valley Water"
          ],
          [
           "Yarra Valley Water"
          ],
          [
           "Yarra Valley Water"
          ],
          [
           "Yarra Valley Water"
          ],
          [
           "Yarra Valley Water"
          ],
          [
           "Yarra Valley Water"
          ],
          [
           "Yarra Valley Water"
          ],
          [
           "Yarra Valley Water"
          ],
          [
           "Yarra Valley Water"
          ],
          [
           "Yarra Valley Water"
          ],
          [
           "Yarra Valley Water"
          ],
          [
           "Yarra Valley Water"
          ],
          [
           "Yarra Valley Water"
          ],
          [
           "Yarra Valley Water"
          ],
          [
           "Yarra Valley Water"
          ],
          [
           "Yarra Valley Water"
          ],
          [
           "Yarra Valley Water"
          ],
          [
           "Yarra Valley Water"
          ],
          [
           "Yarra Valley Water"
          ],
          [
           "Yarra Valley Water"
          ],
          [
           "Yarra Valley Water"
          ],
          [
           "Yarra Valley Water"
          ],
          [
           "Yarra Valley Water"
          ],
          [
           "Yarra Valley Water"
          ],
          [
           "Yarra Valley Water"
          ],
          [
           "Yarra Valley Water"
          ],
          [
           "Yarra Valley Water"
          ],
          [
           "Yarra Valley Water"
          ],
          [
           "Yarra Valley Water"
          ],
          [
           "Yarra Valley Water"
          ],
          [
           "Yarra Valley Water"
          ],
          [
           "Yarra Valley Water"
          ],
          [
           "Yarra Valley Water"
          ],
          [
           "Yarra Valley Water"
          ],
          [
           "Yarra Valley Water"
          ],
          [
           "Yarra Valley Water"
          ],
          [
           "Yarra Valley Water"
          ]
         ],
         "hovertemplate": "<b>%{hovertext}</b><br><br>water_company=%{customdata[0]}<br>lat=%{lat}<br>lon=%{lon}<extra></extra>",
         "hovertext": [
          "ALPHINGTON",
          "ARMADALE",
          "ARTHURS CREEK",
          "ASHBURTON",
          "ASHWOOD",
          "ATTWOOD",
          "AVONSLEIGH",
          "BADGER CREEK",
          "BALWYN",
          "BALWYN NORTH",
          "BANYULE",
          "BAYSWATER",
          "BAYSWATER NORTH",
          "BELGRAVE",
          "BEVERIDGE",
          "BLACKBURN",
          "BLACKBURN NORTH",
          "BLACKBURN SOUTH",
          "BOX HILL",
          "BOX HILL NORTH",
          "BOX HILL SOUTH",
          "BRIAR HILL",
          "BROADMEADOWS",
          "BRUNSWICK",
          "BRUNSWICK EAST",
          "BRUNSWICK WEST",
          "BULLEEN",
          "BUNDOORA",
          "BURLEIGH",
          "BURWOOD",
          "BURWOOD EAST",
          "CAMBERWELL",
          "CAMPBELLFIELD",
          "CANTERBURY",
          "CAULFIELD EAST",
          "CHADSTONE",
          "CHIRNSIDE PARK",
          "CHUM CREEK",
          "CLAYTON",
          "CLEMATIS",
          "COBURG",
          "COBURG NORTH",
          "COCKATOO",
          "COLDSTREAM",
          "COOLAROO",
          "COTTLES BRIDGE",
          "CRAIGIEBURN",
          "CROXTON",
          "CROYDON",
          "CROYDON HILLS",
          "CROYDON NORTH",
          "CROYDON SOUTH",
          "DALLAS",
          "DEEPDENE",
          "DIAMOND CREEK",
          "DON VALLEY",
          "DONCASTER",
          "DONCASTER EAST",
          "DONVALE",
          "DOREEN",
          "EAGLEMONT",
          "ELTHAM",
          "ELTHAM NORTH",
          "EMERALD",
          "EPPING",
          "FAIRFIELD",
          "FAWKNER",
          "FERNY CREEK",
          "FOREST HILL",
          "GEMBROOK",
          "GLADSTONE PARK",
          "GLEN IRIS",
          "GLEN WAVERLEY",
          "GLENROY",
          "GOWANBRAE",
          "GREENSBOROUGH",
          "GREENVALE",
          "GREYTHORN",
          "GRUYERE",
          "HADFIELD",
          "HAWKSBURN",
          "HAWTHORN",
          "HAWTHORN EAST",
          "HEALESVILLE",
          "HEATHERDALE",
          "HEATHMONT",
          "HEIDELBERG",
          "HEIDELBERG HEIGHTS",
          "HEIDELBERG RGH",
          "HEIDELBERG WEST",
          "HIDDEN VALLEY",
          "HUGHESDALE",
          "HUNTINGDALE",
          "HURSTBRIDGE",
          "IVANHOE",
          "IVANHOE EAST",
          "JACANA",
          "KALLISTA",
          "KALORAMA",
          "KANGAROO GROUND",
          "KEON PARK",
          "KEW",
          "KEW EAST",
          "KILSYTH",
          "KILSYTH SOUTH",
          "KINGSBURY",
          "KOOYONG",
          "LALOR",
          "LAUNCHING PLACE",
          "LILYDALE",
          "LOWER PLENTY",
          "MACCLESFIELD",
          "MACLEOD",
          "MALVERN",
          "MALVERN EAST",
          "MEADOW HEIGHTS",
          "MENZIES CREEK",
          "MERNDA",
          "MICKLEHAM",
          "MILL PARK",
          "MILLGROVE",
          "MITCHAM",
          "MONBULK",
          "MONT ALBERT",
          "MONT ALBERT NORTH",
          "MONTMORENCY",
          "MONTROSE",
          "MOOROOLBARK",
          "MORELAND",
          "MOUNT DANDENONG",
          "MOUNT EVELYN",
          "MOUNT WAVERLEY",
          "MULGRAVE",
          "NORTH WARRANDYTE",
          "NORTHCOTE",
          "NOTTING HILL",
          "NUNAWADING",
          "NUTFIELD",
          "OAK PARK",
          "OAKLANDS JUNCTION",
          "OAKLEIGH",
          "OAKLEIGH EAST",
          "OLINDA",
          "PAKENHAM",
          "PANTON HILL",
          "PARK ORCHARDS",
          "PASCOE VALE",
          "PASCOE VALE SOUTH",
          "PLENTY",
          "PRESTON",
          "RESEARCH",
          "RESERVOIR",
          "RINGWOOD",
          "RINGWOOD EAST",
          "RINGWOOD NORTH",
          "ROSANNA",
          "ROXBURGH PARK",
          "SAINT HELENA",
          "SASSAFRAS",
          "SEVILLE",
          "SEVILLE EAST",
          "SHERBROOKE",
          "SILVAN",
          "SMITHS GULLY",
          "SOMERTON",
          "SOUTH MORANG",
          "STEELS CREEK",
          "SURREY HILLS",
          "SYNDAL",
          "TEMPLESTOWE",
          "TEMPLESTOWE LOWER",
          "THE PATCH",
          "THOMASTOWN",
          "THORNBURY",
          "TOORAK",
          "TREMONT",
          "TULLAMARINE",
          "UPWEY",
          "VERMONT",
          "VERMONT SOUTH",
          "VIEWBANK",
          "WALLAN",
          "WANDIN NORTH",
          "WARBURTON",
          "WARRANDYTE",
          "WARRANDYTE SOUTH",
          "WARRANWOOD",
          "WATSONIA",
          "WATTLE GLEN",
          "WESBURN",
          "WESTMEADOWS",
          "WHEELERS HILL",
          "WHITTLESEA",
          "WOLLERT",
          "WONGA PARK",
          "WOODSTOCK",
          "WOORI YALLOCK",
          "YALLAMBIE",
          "YAN YEAN",
          "YARRA GLEN",
          "YARRA JUNCTION",
          "YARRAMBAT",
          "YELLINGBO",
          "YERING",
          "YUROKE"
         ],
         "lat": [
          -37.78,
          -37.858,
          -37.583333,
          -37.866944,
          -37.867,
          -37.666,
          -37.925,
          -37.685,
          -37.808889,
          -37.793611,
          -37.7314254,
          -37.843,
          -37.827,
          -37.912067,
          -37.494525,
          -37.826,
          -37.81,
          -37.838,
          -37.8215,
          -37.807,
          -37.836,
          -37.708,
          -37.685,
          -37.7667,
          -37.776,
          -37.761,
          -37.77,
          -37.695,
          -37.8506944,
          -37.85,
          -37.852,
          -37.835,
          -37.673,
          -37.825,
          -37.876,
          -37.883,
          -37.754,
          -37.606,
          -37.915,
          -37.9322058,
          -37.7438,
          -37.726,
          -37.935,
          -37.734,
          -37.6562333,
          -37.622,
          -37.594,
          -37.76417,
          -37.796,
          -37.775,
          -37.767,
          -37.814,
          -37.668,
          -37.813056,
          -37.671,
          -37.761389,
          -37.787,
          -37.783,
          -37.797,
          -37.605,
          -37.763,
          -37.715,
          -37.698,
          -37.933056,
          -37.638,
          -37.792,
          -37.707,
          -37.878,
          -37.842,
          -37.95,
          -37.688,
          -37.856,
          -37.8856521,
          -37.706,
          -37.702,
          -37.686,
          -37.633,
          -37.7965604,
          -37.734,
          -37.71,
          -37.8447415,
          -37.826,
          -37.831,
          -37.656111,
          -37.8189559,
          -37.83,
          -37.752,
          -37.742,
          -37.755002,
          -37.744,
          -37.3952162,
          -37.893,
          -37.9064344,
          -37.638889,
          -37.7703,
          -37.772,
          -37.6889943,
          -37.883,
          -37.818,
          -37.686,
          -37.6946161,
          -37.805278,
          -37.796944,
          -37.802,
          -37.8296238,
          -37.715,
          -37.841944,
          -37.667,
          -37.774,
          -37.758,
          -37.734,
          -37.883,
          -37.714,
          -37.856,
          -37.878,
          -37.65,
          -37.931,
          -37.5892795,
          -37.562,
          -37.671,
          -37.7448481,
          -37.818,
          -37.878,
          -37.816111,
          -37.808056,
          -37.719,
          -37.81,
          -37.785,
          -37.7240653,
          -37.831111,
          -37.783,
          -37.877,
          -37.927,
          -37.726,
          -37.7722,
          -37.9048347,
          -37.817,
          -37.603,
          -37.718,
          -37.6117964,
          -37.9010702,
          -37.904859,
          -37.85599,
          -38.070568,
          -37.643,
          -37.778,
          -37.727,
          -37.7431,
          -37.669,
          -37.743,
          -37.707,
          -37.713056,
          -37.8114,
          -37.818,
          -37.799883,
          -37.737,
          -37.627,
          -37.686,
          -37.87,
          -37.777,
          -37.774,
          -37.885,
          -37.824,
          -37.619,
          -37.633,
          -37.633333,
          -37.594,
          -37.83,
          -37.8762868,
          -37.753,
          -37.765,
          -37.8887708,
          -37.682,
          -37.76,
          -37.841,
          -37.88,
          -37.701,
          -37.902,
          -37.838,
          -37.851,
          -37.731,
          -37.4081337,
          -37.769,
          -37.7525378,
          -37.738,
          -37.7605268,
          -37.777,
          -37.708,
          -37.663,
          -37.767,
          -37.678,
          -37.899,
          -37.513889,
          -37.597,
          -37.7355557,
          -37.544,
          -37.778,
          -37.726,
          -37.571,
          -37.648889,
          -37.779,
          -37.64,
          -37.81,
          -37.7002209,
          -37.6
         ],
         "legendgroup": "Yarra Valley Water",
         "lon": [
          145.023,
          145.02,
          145.2,
          145.083056,
          145.103,
          144.887,
          145.481944,
          145.538,
          145.078889,
          145.086389,
          145.082419,
          145.269,
          145.28,
          145.3558,
          145.0325382,
          145.151,
          145.152,
          145.144,
          145.126,
          145.12,
          145.124,
          145.115,
          144.925,
          144.9628,
          144.974,
          144.943,
          145.09,
          145.064,
          145.4270833,
          145.114,
          145.15,
          145.071,
          144.957,
          145.078,
          145.044,
          145.093,
          145.327,
          145.488,
          145.13,
          145.4222435,
          144.9645,
          144.96,
          145.492,
          145.383,
          144.9364069,
          145.219,
          144.934,
          144.997268,
          145.281,
          145.266,
          145.287,
          145.271,
          144.94,
          145.067778,
          145.155,
          145.584444,
          145.124,
          145.166,
          145.175,
          145.146,
          145.066,
          145.158,
          145.144,
          145.436944,
          145.01,
          145.011,
          144.968,
          145.335,
          145.172,
          145.541,
          144.892,
          145.059,
          145.165179,
          144.924,
          144.899,
          145.117,
          144.883,
          145.0984985,
          145.45,
          144.95,
          145.0022549,
          145.034,
          145.05,
          145.513889,
          145.2128826,
          145.242,
          145.07,
          145.053,
          145.047983,
          145.047,
          144.9903551,
          145.086,
          145.1086176,
          145.195,
          145.0457,
          145.066,
          144.9088858,
          145.372,
          145.366,
          145.216,
          145.0118242,
          145.035833,
          145.056944,
          145.316,
          145.3115843,
          145.034,
          145.035,
          145.02,
          145.588,
          145.35,
          145.116,
          145.477,
          145.066,
          145.037,
          145.06,
          144.922,
          145.398,
          145.103791,
          144.874,
          145.062,
          145.6507039,
          145.197,
          145.411,
          145.11,
          145.113889,
          145.126,
          145.343,
          145.315,
          144.9501708,
          145.36,
          145.385,
          145.131,
          145.174,
          145.216,
          144.9994,
          145.1458611,
          145.177,
          145.181,
          144.919,
          144.8401227,
          145.0962067,
          145.1182718,
          145.364357,
          145.4871308,
          145.239,
          145.214,
          144.942,
          144.9377,
          145.117,
          145.008,
          145.18,
          145.011944,
          145.2306,
          145.252,
          145.226877,
          145.069,
          144.929,
          145.137,
          145.353889,
          145.461,
          145.491,
          145.36,
          145.421,
          145.256,
          144.95,
          145.083333,
          145.374,
          145.106,
          145.1498177,
          145.135,
          145.114,
          145.3973329,
          145.014,
          145.007,
          145.018,
          145.324,
          144.876,
          145.33,
          145.198,
          145.183,
          145.1,
          144.9638997,
          145.411,
          145.6948397,
          145.223,
          145.2452567,
          145.249,
          145.083,
          145.183,
          145.647,
          144.893,
          145.183,
          145.113889,
          145.033,
          145.2696895,
          145.056,
          145.528,
          145.104,
          145.108,
          145.371944,
          145.606,
          145.133,
          145.51,
          145.3582514,
          144.88
         ],
         "marker": {
          "color": "#636efa",
          "opacity": 0.8
         },
         "mode": "markers",
         "name": "Yarra Valley Water",
         "showlegend": true,
         "subplot": "mapbox",
         "type": "scattermapbox"
        },
        {
         "customdata": [
          [
           "Westernport Water"
          ],
          [
           "Westernport Water"
          ],
          [
           "Westernport Water"
          ],
          [
           "Westernport Water"
          ],
          [
           "Westernport Water"
          ],
          [
           "Westernport Water"
          ],
          [
           "Westernport Water"
          ],
          [
           "Westernport Water"
          ],
          [
           "Westernport Water"
          ],
          [
           "Westernport Water"
          ],
          [
           "Westernport Water"
          ],
          [
           "Westernport Water"
          ],
          [
           "Westernport Water"
          ],
          [
           "Westernport Water"
          ],
          [
           "Westernport Water"
          ],
          [
           "Westernport Water"
          ],
          [
           "Westernport Water"
          ],
          [
           "Westernport Water"
          ],
          [
           "Westernport Water"
          ],
          [
           "Westernport Water"
          ],
          [
           "Westernport Water"
          ],
          [
           "Westernport Water"
          ],
          [
           "Westernport Water"
          ],
          [
           "Westernport Water"
          ],
          [
           "Westernport Water"
          ]
         ],
         "hovertemplate": "<b>%{hovertext}</b><br><br>water_company=%{customdata[0]}<br>lat=%{lat}<br>lon=%{lon}<extra></extra>",
         "hovertext": [
          "ANDERSON",
          "ARCHIES CREEK",
          "BASS",
          "CAPE WOOLAMAI",
          "CORINELLA",
          "CORONET BAY",
          "COWES",
          "DALYSTON",
          "GLEN FORBES",
          "GRANTVILLE",
          "KILCUNDA",
          "NEWHAVEN",
          "PIONEER BAY",
          "RHYLL",
          "SAN REMO",
          "SILVERLEAVES",
          "SMITHS BEACH",
          "SUNDERLAND BAY",
          "SUNSET STRIP",
          "SURF BEACH",
          "TENBY POINT",
          "VENTNOR",
          "WIMBLEDON HEIGHTS",
          "WOOLAMAI",
          "WOOLAMAI WATERS"
         ],
         "lat": [
          -38.5227147,
          -38.548056,
          -38.4659346,
          -38.526111,
          -38.4242265,
          -38.433333,
          -38.451111,
          -38.5648841,
          -38.449327,
          -38.4,
          -38.5498,
          -38.5125,
          -38.3805015,
          -38.463056,
          -38.5254247,
          -38.453056,
          -38.5006654,
          -38.5016289,
          -38.4958178,
          -38.5090925,
          -38.4146878,
          -38.4834062,
          -38.4799767,
          -38.5133112,
          -38.5026577
         ],
         "legendgroup": "Westernport Water",
         "lon": [
          145.4526995,
          145.563611,
          145.4755485,
          145.336944,
          145.463777,
          145.45,
          145.241944,
          145.5342757,
          145.5326969,
          145.533333,
          145.4761,
          145.358333,
          145.5503685,
          145.303889,
          145.3768484,
          145.264722,
          145.2563077,
          145.272887,
          145.2659786,
          145.2949976,
          145.473471,
          145.1727694,
          145.2328259,
          145.4921696,
          145.4814309
         ],
         "marker": {
          "color": "#EF553B",
          "opacity": 0.8
         },
         "mode": "markers",
         "name": "Westernport Water",
         "showlegend": true,
         "subplot": "mapbox",
         "type": "scattermapbox"
        },
        {
         "customdata": [
          [
           "GWMWater"
          ],
          [
           "GWMWater"
          ],
          [
           "GWMWater"
          ],
          [
           "GWMWater"
          ],
          [
           "GWMWater"
          ],
          [
           "GWMWater"
          ],
          [
           "GWMWater"
          ],
          [
           "GWMWater"
          ],
          [
           "GWMWater"
          ],
          [
           "GWMWater"
          ],
          [
           "GWMWater"
          ],
          [
           "GWMWater"
          ],
          [
           "GWMWater"
          ],
          [
           "GWMWater"
          ],
          [
           "GWMWater"
          ],
          [
           "GWMWater"
          ],
          [
           "GWMWater"
          ],
          [
           "GWMWater"
          ],
          [
           "GWMWater"
          ],
          [
           "GWMWater"
          ],
          [
           "GWMWater"
          ],
          [
           "GWMWater"
          ],
          [
           "GWMWater"
          ],
          [
           "GWMWater"
          ],
          [
           "GWMWater"
          ],
          [
           "GWMWater"
          ],
          [
           "GWMWater"
          ],
          [
           "GWMWater"
          ],
          [
           "GWMWater"
          ],
          [
           "GWMWater"
          ],
          [
           "GWMWater"
          ],
          [
           "GWMWater"
          ],
          [
           "GWMWater"
          ],
          [
           "GWMWater"
          ]
         ],
         "hovertemplate": "<b>%{hovertext}</b><br><br>water_company=%{customdata[0]}<br>lat=%{lat}<br>lon=%{lon}<extra></extra>",
         "hovertext": [
          "ARARAT",
          "BEULAH",
          "BIRCHIP",
          "BRIM",
          "CHARLTON",
          "DIMBOOLA",
          "DONALD",
          "EDENHOPE",
          "GREAT WESTERN",
          "HALLS GAP",
          "HOPETOUN",
          "HORSHAM",
          "JUNG",
          "LALBERT",
          "MANANGATANG",
          "MINYIP",
          "MURRAYVILLE",
          "MURTOA",
          "NULLAWIL",
          "OUYEN",
          "POMONAL",
          "QUAMBATOOK",
          "RAINBOW",
          "RUPANYUP",
          "SEA LAKE",
          "ST ARNAUD",
          "STAWELL",
          "ULTIMA",
          "WALPEUP",
          "WARRACKNABEAL",
          "WATCHEM",
          "WOOMELANG",
          "WYCHEPROOF",
          "NHILL"
         ],
         "lat": [
          -37.2846464,
          -35.938056,
          -35.9833179,
          -36.0337275,
          -36.2678624,
          -36.453243,
          -36.3694068,
          -37.0307143,
          -37.15,
          -37.1467982,
          -35.7243809,
          -36.7188618,
          -36.6288597,
          -35.6732662,
          -35.044592,
          -36.4577308,
          -35.262222,
          -36.6144503,
          -35.8508477,
          -35.0674787,
          -37.192222,
          -35.849937,
          -35.900833,
          -36.5943582,
          -35.5055413,
          -36.616618,
          -37.0575657,
          -35.4743019,
          -35.136111,
          -36.252755,
          -36.1545324,
          -35.683333,
          -36.077645,
          -36.35163555
         ],
         "legendgroup": "GWMWater",
         "lon": [
          142.9316441,
          142.42,
          142.9145594,
          142.413818,
          143.3510486,
          142.0290523,
          142.9819619,
          141.2834751,
          142.85,
          142.5235245,
          142.3583441,
          142.1962316,
          142.3363938,
          143.3740654,
          142.8825176,
          142.5942441,
          141.183333,
          142.4698649,
          143.1747947,
          142.319913,
          142.608889,
          143.5233295,
          141.997222,
          142.6500022,
          142.8526896,
          143.2603641,
          142.7753712,
          143.2608146,
          142.025,
          142.3919552,
          142.8617484,
          142.666667,
          143.2271185,
          141.6411076
         ],
         "marker": {
          "color": "#00cc96",
          "opacity": 0.8
         },
         "mode": "markers",
         "name": "GWMWater",
         "showlegend": true,
         "subplot": "mapbox",
         "type": "scattermapbox"
        },
        {
         "customdata": [
          [
           "Coliban Water"
          ],
          [
           "Coliban Water"
          ],
          [
           "Coliban Water"
          ],
          [
           "Coliban Water"
          ],
          [
           "Coliban Water"
          ],
          [
           "Coliban Water"
          ],
          [
           "Coliban Water"
          ],
          [
           "Coliban Water"
          ],
          [
           "Coliban Water"
          ],
          [
           "Coliban Water"
          ],
          [
           "Coliban Water"
          ],
          [
           "Coliban Water"
          ],
          [
           "Coliban Water"
          ],
          [
           "Coliban Water"
          ],
          [
           "Coliban Water"
          ],
          [
           "Coliban Water"
          ],
          [
           "Coliban Water"
          ],
          [
           "Coliban Water"
          ],
          [
           "Coliban Water"
          ],
          [
           "Coliban Water"
          ],
          [
           "Coliban Water"
          ],
          [
           "Coliban Water"
          ],
          [
           "Coliban Water"
          ],
          [
           "Coliban Water"
          ],
          [
           "Coliban Water"
          ],
          [
           "Coliban Water"
          ],
          [
           "Coliban Water"
          ],
          [
           "Coliban Water"
          ],
          [
           "Coliban Water"
          ],
          [
           "Coliban Water"
          ],
          [
           "Coliban Water"
          ],
          [
           "Coliban Water"
          ],
          [
           "Coliban Water"
          ],
          [
           "Coliban Water"
          ],
          [
           "Coliban Water"
          ],
          [
           "Coliban Water"
          ],
          [
           "Coliban Water"
          ],
          [
           "Coliban Water"
          ],
          [
           "Coliban Water"
          ],
          [
           "Coliban Water"
          ],
          [
           "Coliban Water"
          ],
          [
           "Coliban Water"
          ],
          [
           "Coliban Water"
          ],
          [
           "Coliban Water"
          ],
          [
           "Coliban Water"
          ],
          [
           "Coliban Water"
          ],
          [
           "Coliban Water"
          ],
          [
           "Coliban Water"
          ],
          [
           "Coliban Water"
          ],
          [
           "Coliban Water"
          ],
          [
           "Coliban Water"
          ],
          [
           "Coliban Water"
          ],
          [
           "Coliban Water"
          ],
          [
           "Coliban Water"
          ],
          [
           "Coliban Water"
          ],
          [
           "Coliban Water"
          ]
         ],
         "hovertemplate": "<b>%{hovertext}</b><br><br>water_company=%{customdata[0]}<br>lat=%{lat}<br>lon=%{lon}<extra></extra>",
         "hovertext": [
          "AXEDALE",
          "BEALIBA",
          "BENDIGO",
          "BOORT",
          "BRIDGEWATER",
          "CALIFORNIA GULLY",
          "CAMPBELLS CREEK",
          "CASTLEMAINE",
          "CHEWTON",
          "COHUNA",
          "DUNOLLY",
          "EAGLEHAWK",
          "ECHUCA",
          "ELMORE",
          "ELPHINSTONE",
          "EPSOM",
          "FRYERSTOWN",
          "GOLDEN SQUARE",
          "GOORNONG",
          "GUILDFORD",
          "GUNBOWER",
          "HARCOURT",
          "HEATHCOTE",
          "HUNTLY",
          "INGLEWOOD",
          "JUNORTOUN",
          "KANGAROO FLAT",
          "KENNINGTON",
          "KORONG VALE",
          "KYNETON",
          "LAANECOORIE",
          "LEITCHVILLE",
          "LOCKINGTON",
          "LONG GULLY",
          "MAIDEN GULLY",
          "MALDON",
          "MALMSBURY",
          "MARONG",
          "MYERS FLAT",
          "NEWSTEAD",
          "NORTH BENDIGO",
          "PYRAMID HILL",
          "QUARRY HILL",
          "RAYWOOD",
          "ROCHESTER",
          "SEBASTIAN",
          "SERPENTINE",
          "SPRING GULLY",
          "STRATHFIELDSAYE",
          "TARADALE",
          "TARNAGULLA",
          "TOOBORAC",
          "TRENTHAM",
          "TYLDEN",
          "WEDDERBURN",
          "WHITE HILLS"
         ],
         "lat": [
          -36.7768707,
          -36.8139252,
          -36.7570157,
          -36.1169559,
          -36.6084626,
          -36.7303149,
          -37.1,
          -37.058136,
          -37.083333,
          -35.8149095,
          -36.85,
          -36.716667,
          -36.1459548,
          -36.4967919,
          -37.1,
          -36.7,
          -37.1432659,
          -36.766667,
          -36.6432507,
          -37.1496144,
          -35.957222,
          -37,
          -36.916667,
          -36.664933,
          -36.576389,
          -36.7778248,
          -36.783333,
          -36.768937,
          -36.3557749,
          -37.233333,
          -36.8270468,
          -35.9065246,
          -36.2804685,
          -36.7425683,
          -36.743,
          -36.9979354,
          -37.188889,
          -36.733333,
          -36.7100539,
          -37.105278,
          -36.7359634,
          -36.0556784,
          -36.766667,
          -36.544166,
          -36.366667,
          -36.5937109,
          -36.4113541,
          -36.7976791,
          -36.8,
          -37.133333,
          -36.7670418,
          -37.0884579,
          -37.383333,
          -37.3194005,
          -36.416667,
          -36.733333
         ],
         "legendgroup": "Coliban Water",
         "lon": [
          144.5040073,
          143.535837,
          144.2793906,
          143.7250526,
          143.9572156,
          144.2620417,
          144.2,
          144.2185006,
          144.266667,
          144.2095074,
          143.733333,
          144.25,
          144.7448007,
          144.6087925,
          144.333333,
          144.316667,
          144.2549754,
          144.25,
          144.4930553,
          144.1754128,
          144.370556,
          144.25,
          144.7,
          144.3289536,
          143.868889,
          144.379516,
          144.233333,
          144.305733,
          143.695912,
          144.45,
          143.8796572,
          144.3016359,
          144.5320784,
          144.256582,
          144.209,
          144.0703067,
          144.385,
          144.133333,
          144.1829124,
          144.065,
          144.2784231,
          144.1341779,
          144.283333,
          144.1890489,
          144.7,
          144.2077977,
          143.9793141,
          144.2866151,
          144.366667,
          144.35,
          143.8274714,
          144.7554106,
          144.316667,
          144.4052024,
          143.616667,
          144.3
         ],
         "marker": {
          "color": "#ab63fa",
          "opacity": 0.8
         },
         "mode": "markers",
         "name": "Coliban Water",
         "showlegend": true,
         "subplot": "mapbox",
         "type": "scattermapbox"
        },
        {
         "customdata": [
          [
           "Western Water"
          ],
          [
           "Western Water"
          ],
          [
           "Western Water"
          ],
          [
           "Western Water"
          ],
          [
           "Western Water"
          ],
          [
           "Western Water"
          ],
          [
           "Western Water"
          ],
          [
           "Western Water"
          ],
          [
           "Western Water"
          ],
          [
           "Western Water"
          ],
          [
           "Western Water"
          ],
          [
           "Western Water"
          ],
          [
           "Western Water"
          ],
          [
           "Western Water"
          ],
          [
           "Western Water"
          ],
          [
           "Western Water"
          ],
          [
           "Western Water"
          ],
          [
           "Western Water"
          ],
          [
           "Western Water"
          ],
          [
           "Western Water"
          ],
          [
           "Western Water"
          ]
         ],
         "hovertemplate": "<b>%{hovertext}</b><br><br>water_company=%{customdata[0]}<br>lat=%{lat}<br>lon=%{lon}<extra></extra>",
         "hovertext": [
          "BACCHUS MARSH",
          "BULLA",
          "DARLEY",
          "DIGGERS REST",
          "GISBORNE",
          "KURUNJANG",
          "LANCEFIELD",
          "LONG FOREST ROAD",
          "MACEDON",
          "MELTON",
          "MELTON SOUTH",
          "MOUNT MACEDON",
          "MYRNIONG",
          "NEW GISBORNE",
          "PARWAN",
          "RIDDELLS CREEK",
          "ROCKBANK",
          "ROMSEY",
          "SUNBURY",
          "TOOLERN VALE",
          "WOODEND"
         ],
         "lat": [
          -37.6763789,
          -37.636944,
          -37.654722,
          -37.628056,
          -37.49,
          -37.672,
          -37.2769748,
          -37.6552358,
          -37.4281226,
          -37.677,
          -37.703056,
          -37.4,
          -37.616667,
          -37.459,
          -37.716667,
          -37.4437804,
          -37.733333,
          -37.3506332,
          -37.581111,
          -37.608056,
          -37.3613204
         ],
         "legendgroup": "Western Water",
         "lon": [
          144.4463206,
          144.803056,
          144.437222,
          144.721111,
          144.588889,
          144.585,
          144.728396,
          144.506845,
          144.5556723,
          144.612,
          144.571944,
          144.583333,
          144.333333,
          144.598,
          144.45,
          144.6832081,
          144.666667,
          144.7428496,
          144.713889,
          144.593056,
          144.5244238
         ],
         "marker": {
          "color": "#FFA15A",
          "opacity": 0.8
         },
         "mode": "markers",
         "name": "Western Water",
         "showlegend": true,
         "subplot": "mapbox",
         "type": "scattermapbox"
        },
        {
         "customdata": [
          [
           "East Gippsland Water"
          ],
          [
           "East Gippsland Water"
          ],
          [
           "East Gippsland Water"
          ],
          [
           "East Gippsland Water"
          ],
          [
           "East Gippsland Water"
          ],
          [
           "East Gippsland Water"
          ],
          [
           "East Gippsland Water"
          ],
          [
           "East Gippsland Water"
          ],
          [
           "East Gippsland Water"
          ],
          [
           "East Gippsland Water"
          ],
          [
           "East Gippsland Water"
          ],
          [
           "East Gippsland Water"
          ],
          [
           "East Gippsland Water"
          ],
          [
           "East Gippsland Water"
          ],
          [
           "East Gippsland Water"
          ],
          [
           "East Gippsland Water"
          ],
          [
           "East Gippsland Water"
          ],
          [
           "East Gippsland Water"
          ],
          [
           "East Gippsland Water"
          ],
          [
           "East Gippsland Water"
          ],
          [
           "East Gippsland Water"
          ],
          [
           "East Gippsland Water"
          ],
          [
           "East Gippsland Water"
          ],
          [
           "East Gippsland Water"
          ],
          [
           "East Gippsland Water"
          ],
          [
           "East Gippsland Water"
          ],
          [
           "East Gippsland Water"
          ],
          [
           "East Gippsland Water"
          ],
          [
           "East Gippsland Water"
          ],
          [
           "East Gippsland Water"
          ],
          [
           "East Gippsland Water"
          ],
          [
           "East Gippsland Water"
          ],
          [
           "East Gippsland Water"
          ],
          [
           "East Gippsland Water"
          ],
          [
           "East Gippsland Water"
          ],
          [
           "East Gippsland Water"
          ],
          [
           "East Gippsland Water"
          ],
          [
           "East Gippsland Water"
          ],
          [
           "East Gippsland Water"
          ],
          [
           "East Gippsland Water"
          ]
         ],
         "hovertemplate": "<b>%{hovertext}</b><br><br>water_company=%{customdata[0]}<br>lat=%{lat}<br>lon=%{lon}<extra></extra>",
         "hovertext": [
          "BAIRNSDALE",
          "BEMM RIVER",
          "BRUTHEN",
          "BUCHAN",
          "CANN RIVER",
          "DINNER PLAIN",
          "EAGLE POINT",
          "EAST BAIRNSDALE",
          "EASTWOOD",
          "GENOA",
          "GRANITE ROCK",
          "JOHNSONVILLE",
          "KALIMNA",
          "LAKE BUNGA",
          "LAKE TYERS",
          "LAKE TYERS BEACH",
          "LAKES ENTRANCE",
          "LINDENOW",
          "LINDENOW SOUTH",
          "LUCKNOW",
          "MALLACOOTA",
          "MARLO",
          "METUNG",
          "MOSSIFACE",
          "NEWLANDS ARM",
          "NEWMERELLA",
          "NICHOLSON",
          "NOWA NOWA",
          "OMEO",
          "ORBOST",
          "PAYNESVILLE",
          "RAYMOND ISLAND",
          "SARSFIELD",
          "SWAN REACH",
          "SWIFTS CREEK",
          "TAMBO UPPER",
          "TOORLOO",
          "WALPA",
          "WISELEIGH",
          "WY YUNG"
         ],
         "lat": [
          -37.833333,
          -37.7590189,
          -37.7135193,
          -37.5121541,
          -37.566667,
          -37.0238277,
          -37.8992112,
          -37.8361684,
          -37.8134091,
          -37.4510835,
          -37.7573323,
          -37.8177196,
          -37.866369,
          -37.8616357,
          -37.8396304,
          -37.8606804,
          -37.8511185,
          -37.8,
          -37.8261072,
          -37.8115088,
          -37.55,
          -37.796,
          -37.883333,
          -37.7451219,
          -37.9277583,
          -37.7514308,
          -37.816667,
          -37.7343937,
          -37.1,
          -37.7028259,
          -37.9112576,
          -37.916667,
          -37.7438718,
          -37.7911465,
          -37.250278,
          -37.7718005,
          -37.7894568,
          -37.7939691,
          -37.7125989,
          -37.8035174
         ],
         "legendgroup": "East Gippsland Water",
         "lon": [
          147.616667,
          148.9606122,
          147.8339017,
          148.165845,
          149.15,
          147.2413889,
          147.6775564,
          147.6495717,
          147.6297389,
          149.696092,
          147.6722422,
          147.8044654,
          147.9673981,
          148.0384692,
          148.1238154,
          148.0669106,
          147.995821,
          147.483333,
          147.4388572,
          147.6779106,
          149.75,
          148.531,
          147.85,
          147.8197188,
          147.692083,
          148.42875,
          147.733333,
          148.0867723,
          147.6,
          148.4653469,
          147.7123335,
          147.733333,
          147.7686461,
          147.8712905,
          147.712222,
          147.8116993,
          148.0505559,
          147.3892119,
          147.7913421,
          147.6191276
         ],
         "marker": {
          "color": "#19d3f3",
          "opacity": 0.8
         },
         "mode": "markers",
         "name": "East Gippsland Water",
         "showlegend": true,
         "subplot": "mapbox",
         "type": "scattermapbox"
        },
        {
         "customdata": [
          [
           "North East Water"
          ],
          [
           "North East Water"
          ],
          [
           "North East Water"
          ],
          [
           "North East Water"
          ],
          [
           "North East Water"
          ],
          [
           "North East Water"
          ],
          [
           "North East Water"
          ],
          [
           "North East Water"
          ],
          [
           "North East Water"
          ],
          [
           "North East Water"
          ],
          [
           "North East Water"
          ],
          [
           "North East Water"
          ],
          [
           "North East Water"
          ],
          [
           "North East Water"
          ],
          [
           "North East Water"
          ],
          [
           "North East Water"
          ],
          [
           "North East Water"
          ],
          [
           "North East Water"
          ],
          [
           "North East Water"
          ],
          [
           "North East Water"
          ],
          [
           "North East Water"
          ],
          [
           "North East Water"
          ],
          [
           "North East Water"
          ],
          [
           "North East Water"
          ],
          [
           "North East Water"
          ],
          [
           "North East Water"
          ],
          [
           "North East Water"
          ],
          [
           "North East Water"
          ],
          [
           "North East Water"
          ],
          [
           "North East Water"
          ],
          [
           "North East Water"
          ],
          [
           "North East Water"
          ],
          [
           "North East Water"
          ],
          [
           "North East Water"
          ],
          [
           "North East Water"
          ],
          [
           "North East Water"
          ],
          [
           "North East Water"
          ],
          [
           "North East Water"
          ],
          [
           "North East Water"
          ],
          [
           "North East Water"
          ],
          [
           "North East Water"
          ]
         ],
         "hovertemplate": "<b>%{hovertext}</b><br><br>water_company=%{customdata[0]}<br>lat=%{lat}<br>lon=%{lon}<extra></extra>",
         "hovertext": [
          "BANDIANA MILPO",
          "BARANDUDA",
          "BARNAWARTHA",
          "BEECHWORTH",
          "BELLBRIDGE",
          "BENALLA",
          "BONEGILLA",
          "BRIGHT",
          "BUNDALONG",
          "CHILTERN",
          "CORRYONG",
          "CUDGEWA",
          "DARTMOUTH",
          "DEVENISH",
          "EBDEN",
          "GLENROWAN",
          "GOORAMBAT",
          "HARRIETVILLE",
          "KIEWA",
          "KILLARA",
          "MOYHU",
          "MT BEAUTY",
          "MYRTLEFORD",
          "OXLEY",
          "POREPUNKAH",
          "RUTHERGLEN",
          "SPRINGHURST",
          "ST JAMES",
          "TALLANGATTA",
          "TANGAMBALANGA",
          "TAWONGA",
          "TAWONGA SOUTH",
          "TUNGAMAH",
          "WAHGUNYAH",
          "WALWA",
          "WANDILIGONG",
          "WANGARATTA",
          "WHITFIELD",
          "WODONGA",
          "YACKANDANDAH",
          "YARRAWONGA"
         ],
         "lat": [
          -37.4713077,
          -36.1933366,
          -36.112928,
          -36.3533015,
          -36.098056,
          -36.5462177,
          -36.1304904,
          -36.7321521,
          -36.02935,
          -36.15,
          -36.1966523,
          -36.1548052,
          -36.7665868,
          -36.3464064,
          -36.1415988,
          -36.4468841,
          -36.4391452,
          -36.8886692,
          -36.2732078,
          -36.138988,
          -36.5925448,
          -36.7358203,
          -36.5555446,
          -36.4349409,
          -36.694433,
          -36.055556,
          -36.183333,
          -36.2799892,
          -36.2194035,
          -36.233333,
          -36.6941469,
          -36.7304657,
          -36.1575347,
          -36.0126173,
          -35.9642807,
          -36.761389,
          -36.3682777,
          -36.7563131,
          -36.1240938,
          -36.313056,
          -36.0271135
         ],
         "legendgroup": "North East Water",
         "lon": [
          144.7851531,
          146.9496305,
          146.655462,
          146.6877247,
          147.058889,
          145.963353,
          146.9865317,
          146.9836221,
          146.1302674,
          146.6,
          147.9023498,
          147.7920514,
          147.695272,
          145.9045405,
          147.0136321,
          146.2321651,
          145.9393385,
          147.0650375,
          147.019899,
          146.951957,
          146.4181008,
          147.1768206,
          146.7237861,
          146.3554145,
          146.9264143,
          146.4625,
          146.466667,
          145.8920165,
          147.1933136,
          147.033333,
          147.1485394,
          147.152596,
          145.8697558,
          146.4001308,
          147.6814535,
          146.984167,
          146.3172149,
          146.4167014,
          146.8817639,
          146.839167,
          145.9990577
         ],
         "marker": {
          "color": "#FF6692",
          "opacity": 0.8
         },
         "mode": "markers",
         "name": "North East Water",
         "showlegend": true,
         "subplot": "mapbox",
         "type": "scattermapbox"
        },
        {
         "customdata": [
          [
           "Lower Murray Water"
          ],
          [
           "Lower Murray Water"
          ],
          [
           "Lower Murray Water"
          ],
          [
           "Lower Murray Water"
          ],
          [
           "Lower Murray Water"
          ],
          [
           "Lower Murray Water"
          ],
          [
           "Lower Murray Water"
          ],
          [
           "Lower Murray Water"
          ],
          [
           "Lower Murray Water"
          ],
          [
           "Lower Murray Water"
          ],
          [
           "Lower Murray Water"
          ],
          [
           "Lower Murray Water"
          ],
          [
           "Lower Murray Water"
          ],
          [
           "Lower Murray Water"
          ],
          [
           "Lower Murray Water"
          ],
          [
           "Lower Murray Water"
          ],
          [
           "Lower Murray Water"
          ],
          [
           "Lower Murray Water"
          ],
          [
           "Lower Murray Water"
          ],
          [
           "Lower Murray Water"
          ]
         ],
         "hovertemplate": "<b>%{hovertext}</b><br><br>water_company=%{customdata[0]}<br>lat=%{lat}<br>lon=%{lon}<extra></extra>",
         "hovertext": [
          "BIRDWOODTON",
          "CABARITA",
          "CARDROSS",
          "IRYMPLE",
          "KERANG",
          "KOONDROOK",
          "KOORLONG",
          "LAKE BOGA",
          "MERBEIN",
          "MILDURA",
          "MURRABIT",
          "MURRAY DOWNS, NSW",
          "NICHOLS POINT",
          "NYAH",
          "NYAH WEST",
          "PIANGIL",
          "RED CLIFFS",
          "ROBINVALE",
          "SWAN HILL",
          "WOORINEN SOUTH"
         ],
         "lat": [
          -34.196389,
          -34.2,
          -34.3,
          -34.233333,
          -35.7409643,
          -35.633333,
          -34.2479402,
          -35.4334504,
          -34.1613339,
          -34.2080167,
          -35.5250292,
          -35.3850155,
          -34.2076592,
          -35.166667,
          -35.1869703,
          -35.0739274,
          -34.3075,
          -34.5885119,
          -35.3396318,
          -35.2943524
         ],
         "legendgroup": "Lower Murray Water",
         "lon": [
          142.058611,
          142.083,
          142.15,
          142.166667,
          143.9261931,
          144.116667,
          142.0423986,
          143.6211297,
          142.0475029,
          142.1245535,
          143.9539977,
          143.6479568,
          142.2018502,
          143.383333,
          143.3556015,
          143.3300801,
          142.188056,
          142.777553,
          143.5524803,
          143.4771357
         ],
         "marker": {
          "color": "#B6E880",
          "opacity": 0.8
         },
         "mode": "markers",
         "name": "Lower Murray Water",
         "showlegend": true,
         "subplot": "mapbox",
         "type": "scattermapbox"
        },
        {
         "customdata": [
          [
           "Gippsland Water"
          ],
          [
           "Gippsland Water"
          ],
          [
           "Gippsland Water"
          ],
          [
           "Gippsland Water"
          ],
          [
           "Gippsland Water"
          ],
          [
           "Gippsland Water"
          ],
          [
           "Gippsland Water"
          ],
          [
           "Gippsland Water"
          ],
          [
           "Gippsland Water"
          ],
          [
           "Gippsland Water"
          ],
          [
           "Gippsland Water"
          ],
          [
           "Gippsland Water"
          ],
          [
           "Gippsland Water"
          ],
          [
           "Gippsland Water"
          ],
          [
           "Gippsland Water"
          ],
          [
           "Gippsland Water"
          ],
          [
           "Gippsland Water"
          ],
          [
           "Gippsland Water"
          ],
          [
           "Gippsland Water"
          ],
          [
           "Gippsland Water"
          ],
          [
           "Gippsland Water"
          ],
          [
           "Gippsland Water"
          ],
          [
           "Gippsland Water"
          ],
          [
           "Gippsland Water"
          ],
          [
           "Gippsland Water"
          ],
          [
           "Gippsland Water"
          ],
          [
           "Gippsland Water"
          ],
          [
           "Gippsland Water"
          ],
          [
           "Gippsland Water"
          ],
          [
           "Gippsland Water"
          ],
          [
           "Gippsland Water"
          ],
          [
           "Gippsland Water"
          ],
          [
           "Gippsland Water"
          ],
          [
           "Gippsland Water"
          ],
          [
           "Gippsland Water"
          ],
          [
           "Gippsland Water"
          ],
          [
           "Gippsland Water"
          ],
          [
           "Gippsland Water"
          ],
          [
           "Gippsland Water"
          ],
          [
           "Gippsland Water"
          ],
          [
           "Gippsland Water"
          ],
          [
           "Gippsland Water"
          ],
          [
           "Gippsland Water"
          ]
         ],
         "hovertemplate": "<b>%{hovertext}</b><br><br>water_company=%{customdata[0]}<br>lat=%{lat}<br>lon=%{lon}<extra></extra>",
         "hovertext": [
          "BOISDALE",
          "BOOLARRA",
          "BRIAGOLONG",
          "BULN BULN",
          "CHURCHILL",
          "COONGULLA",
          "COWWARR",
          "MOE",
          "DARNUM",
          "DROUIN",
          "DROUIN WEST",
          "ERICA",
          "GLENGARRY",
          "GLENMAGGIE",
          "HAZELWOOD NORTH",
          "HEYFIELD",
          "JUMBUK",
          "MAFFRA",
          "MIRBOO NORTH",
          "MORWELL",
          "NEERIM SOUTH",
          "NEWBOROUGH",
          "NILMA",
          "NOOJEE",
          "RAWSON",
          "ROKEBY",
          "ROSEDALE",
          "SALE",
          "SEASPRAY",
          "STRATFORD",
          "THORPDALE",
          "TOONGABBIE",
          "TRAFALGAR",
          "TRARALGON",
          "TRARALGON SOUTH",
          "TYERS",
          "WARRAGUL",
          "WARRAGUL SOUTH",
          "WILLOW GROVE",
          "WURRUK",
          "YALLOURN NORTH",
          "YARRAGON",
          "YINNAR"
         ],
         "lat": [
          -37.8840703,
          -38.383333,
          -37.822072,
          -38.083333,
          -38.3163383,
          -37.8863058,
          -38.0126207,
          -38.172222,
          -38.183333,
          -38.1353835,
          -38.0866074,
          -37.9756695,
          -38.1352566,
          -37.9163753,
          -38.265189,
          -37.9827396,
          -38.3747997,
          -37.9619053,
          -38.3950602,
          -38.2275886,
          -38.016667,
          -38.1760805,
          -38.1704499,
          -37.883333,
          -37.95,
          -38.066667,
          -38.15,
          -38.1026004,
          -38.2936345,
          -37.966667,
          -38.283333,
          -38.05,
          -38.2,
          -38.2033531,
          -38.2986311,
          -38.15,
          -38.1537515,
          -38.2181003,
          -38.0690534,
          -38.1077891,
          -38.1596163,
          -38.2,
          -38.316667
         ],
         "legendgroup": "Gippsland Water",
         "lon": [
          146.9945377,
          146.266667,
          147.0717292,
          145.933333,
          146.4232518,
          146.7854467,
          146.6591011,
          146.267778,
          146.016667,
          145.8487441,
          145.8523685,
          146.3768277,
          146.5637493,
          146.7461215,
          146.4851099,
          146.7911606,
          146.4051598,
          146.9886238,
          146.1498411,
          146.4146185,
          145.966667,
          146.2985284,
          145.9720608,
          146,
          146.4,
          145.933333,
          146.783,
          147.073027,
          147.1467693,
          147.083333,
          146.166667,
          146.616667,
          146.15,
          146.519786,
          146.5368986,
          146.466667,
          145.9297824,
          145.9247217,
          146.1623601,
          147.0280652,
          146.3612622,
          146.066667,
          146.316667
         ],
         "marker": {
          "color": "#FF97FF",
          "opacity": 0.8
         },
         "mode": "markers",
         "name": "Gippsland Water",
         "showlegend": true,
         "subplot": "mapbox",
         "type": "scattermapbox"
        },
        {
         "customdata": [
          [
           "Mount Buller and Mount Stirling ARMB"
          ],
          [
           "Mount Buller and Mount Stirling ARMB"
          ]
         ],
         "hovertemplate": "<b>%{hovertext}</b><br><br>water_company=%{customdata[0]}<br>lat=%{lat}<br>lon=%{lon}<extra></extra>",
         "hovertext": [
          "MIRIMBAH",
          "MOUNT BULLER"
         ],
         "lat": [
          -37.1103367,
          -37.1467949
         ],
         "legendgroup": "Mount Buller and Mount Stirling ARMB",
         "lon": [
          146.396505,
          146.4489704
         ],
         "marker": {
          "color": "#FECB52",
          "opacity": 0.8
         },
         "mode": "markers",
         "name": "Mount Buller and Mount Stirling ARMB",
         "showlegend": true,
         "subplot": "mapbox",
         "type": "scattermapbox"
        },
        {
         "customdata": [
          [
           "Mount Hotham ARMB"
          ]
         ],
         "hovertemplate": "<b>%{hovertext}</b><br><br>water_company=%{customdata[0]}<br>lat=%{lat}<br>lon=%{lon}<extra></extra>",
         "hovertext": [
          "MOUNT HOTHAM"
         ],
         "lat": [
          -36.9752778
         ],
         "legendgroup": "Mount Hotham ARMB",
         "lon": [
          147.1327778
         ],
         "marker": {
          "color": "#636efa",
          "opacity": 0.8
         },
         "mode": "markers",
         "name": "Mount Hotham ARMB",
         "showlegend": true,
         "subplot": "mapbox",
         "type": "scattermapbox"
        }
       ],
       "layout": {
        "height": 720,
        "legend": {
         "title": {
          "text": "water_company"
         },
         "tracegroupgap": 0
        },
        "mapbox": {
         "center": {
          "lat": -37.8136276,
          "lon": 144.9630576
         },
         "domain": {
          "x": [
           0,
           1
          ],
          "y": [
           0,
           1
          ]
         },
         "style": "open-street-map",
         "zoom": 8
        },
        "margin": {
         "b": 0,
         "l": 0,
         "r": 0,
         "t": 0
        },
        "template": {
         "data": {
          "bar": [
           {
            "error_x": {
             "color": "#2a3f5f"
            },
            "error_y": {
             "color": "#2a3f5f"
            },
            "marker": {
             "line": {
              "color": "#E5ECF6",
              "width": 0.5
             },
             "pattern": {
              "fillmode": "overlay",
              "size": 10,
              "solidity": 0.2
             }
            },
            "type": "bar"
           }
          ],
          "barpolar": [
           {
            "marker": {
             "line": {
              "color": "#E5ECF6",
              "width": 0.5
             },
             "pattern": {
              "fillmode": "overlay",
              "size": 10,
              "solidity": 0.2
             }
            },
            "type": "barpolar"
           }
          ],
          "carpet": [
           {
            "aaxis": {
             "endlinecolor": "#2a3f5f",
             "gridcolor": "white",
             "linecolor": "white",
             "minorgridcolor": "white",
             "startlinecolor": "#2a3f5f"
            },
            "baxis": {
             "endlinecolor": "#2a3f5f",
             "gridcolor": "white",
             "linecolor": "white",
             "minorgridcolor": "white",
             "startlinecolor": "#2a3f5f"
            },
            "type": "carpet"
           }
          ],
          "choropleth": [
           {
            "colorbar": {
             "outlinewidth": 0,
             "ticks": ""
            },
            "type": "choropleth"
           }
          ],
          "contour": [
           {
            "colorbar": {
             "outlinewidth": 0,
             "ticks": ""
            },
            "colorscale": [
             [
              0,
              "#0d0887"
             ],
             [
              0.1111111111111111,
              "#46039f"
             ],
             [
              0.2222222222222222,
              "#7201a8"
             ],
             [
              0.3333333333333333,
              "#9c179e"
             ],
             [
              0.4444444444444444,
              "#bd3786"
             ],
             [
              0.5555555555555556,
              "#d8576b"
             ],
             [
              0.6666666666666666,
              "#ed7953"
             ],
             [
              0.7777777777777778,
              "#fb9f3a"
             ],
             [
              0.8888888888888888,
              "#fdca26"
             ],
             [
              1,
              "#f0f921"
             ]
            ],
            "type": "contour"
           }
          ],
          "contourcarpet": [
           {
            "colorbar": {
             "outlinewidth": 0,
             "ticks": ""
            },
            "type": "contourcarpet"
           }
          ],
          "heatmap": [
           {
            "colorbar": {
             "outlinewidth": 0,
             "ticks": ""
            },
            "colorscale": [
             [
              0,
              "#0d0887"
             ],
             [
              0.1111111111111111,
              "#46039f"
             ],
             [
              0.2222222222222222,
              "#7201a8"
             ],
             [
              0.3333333333333333,
              "#9c179e"
             ],
             [
              0.4444444444444444,
              "#bd3786"
             ],
             [
              0.5555555555555556,
              "#d8576b"
             ],
             [
              0.6666666666666666,
              "#ed7953"
             ],
             [
              0.7777777777777778,
              "#fb9f3a"
             ],
             [
              0.8888888888888888,
              "#fdca26"
             ],
             [
              1,
              "#f0f921"
             ]
            ],
            "type": "heatmap"
           }
          ],
          "heatmapgl": [
           {
            "colorbar": {
             "outlinewidth": 0,
             "ticks": ""
            },
            "colorscale": [
             [
              0,
              "#0d0887"
             ],
             [
              0.1111111111111111,
              "#46039f"
             ],
             [
              0.2222222222222222,
              "#7201a8"
             ],
             [
              0.3333333333333333,
              "#9c179e"
             ],
             [
              0.4444444444444444,
              "#bd3786"
             ],
             [
              0.5555555555555556,
              "#d8576b"
             ],
             [
              0.6666666666666666,
              "#ed7953"
             ],
             [
              0.7777777777777778,
              "#fb9f3a"
             ],
             [
              0.8888888888888888,
              "#fdca26"
             ],
             [
              1,
              "#f0f921"
             ]
            ],
            "type": "heatmapgl"
           }
          ],
          "histogram": [
           {
            "marker": {
             "pattern": {
              "fillmode": "overlay",
              "size": 10,
              "solidity": 0.2
             }
            },
            "type": "histogram"
           }
          ],
          "histogram2d": [
           {
            "colorbar": {
             "outlinewidth": 0,
             "ticks": ""
            },
            "colorscale": [
             [
              0,
              "#0d0887"
             ],
             [
              0.1111111111111111,
              "#46039f"
             ],
             [
              0.2222222222222222,
              "#7201a8"
             ],
             [
              0.3333333333333333,
              "#9c179e"
             ],
             [
              0.4444444444444444,
              "#bd3786"
             ],
             [
              0.5555555555555556,
              "#d8576b"
             ],
             [
              0.6666666666666666,
              "#ed7953"
             ],
             [
              0.7777777777777778,
              "#fb9f3a"
             ],
             [
              0.8888888888888888,
              "#fdca26"
             ],
             [
              1,
              "#f0f921"
             ]
            ],
            "type": "histogram2d"
           }
          ],
          "histogram2dcontour": [
           {
            "colorbar": {
             "outlinewidth": 0,
             "ticks": ""
            },
            "colorscale": [
             [
              0,
              "#0d0887"
             ],
             [
              0.1111111111111111,
              "#46039f"
             ],
             [
              0.2222222222222222,
              "#7201a8"
             ],
             [
              0.3333333333333333,
              "#9c179e"
             ],
             [
              0.4444444444444444,
              "#bd3786"
             ],
             [
              0.5555555555555556,
              "#d8576b"
             ],
             [
              0.6666666666666666,
              "#ed7953"
             ],
             [
              0.7777777777777778,
              "#fb9f3a"
             ],
             [
              0.8888888888888888,
              "#fdca26"
             ],
             [
              1,
              "#f0f921"
             ]
            ],
            "type": "histogram2dcontour"
           }
          ],
          "mesh3d": [
           {
            "colorbar": {
             "outlinewidth": 0,
             "ticks": ""
            },
            "type": "mesh3d"
           }
          ],
          "parcoords": [
           {
            "line": {
             "colorbar": {
              "outlinewidth": 0,
              "ticks": ""
             }
            },
            "type": "parcoords"
           }
          ],
          "pie": [
           {
            "automargin": true,
            "type": "pie"
           }
          ],
          "scatter": [
           {
            "fillpattern": {
             "fillmode": "overlay",
             "size": 10,
             "solidity": 0.2
            },
            "type": "scatter"
           }
          ],
          "scatter3d": [
           {
            "line": {
             "colorbar": {
              "outlinewidth": 0,
              "ticks": ""
             }
            },
            "marker": {
             "colorbar": {
              "outlinewidth": 0,
              "ticks": ""
             }
            },
            "type": "scatter3d"
           }
          ],
          "scattercarpet": [
           {
            "marker": {
             "colorbar": {
              "outlinewidth": 0,
              "ticks": ""
             }
            },
            "type": "scattercarpet"
           }
          ],
          "scattergeo": [
           {
            "marker": {
             "colorbar": {
              "outlinewidth": 0,
              "ticks": ""
             }
            },
            "type": "scattergeo"
           }
          ],
          "scattergl": [
           {
            "marker": {
             "colorbar": {
              "outlinewidth": 0,
              "ticks": ""
             }
            },
            "type": "scattergl"
           }
          ],
          "scattermapbox": [
           {
            "marker": {
             "colorbar": {
              "outlinewidth": 0,
              "ticks": ""
             }
            },
            "type": "scattermapbox"
           }
          ],
          "scatterpolar": [
           {
            "marker": {
             "colorbar": {
              "outlinewidth": 0,
              "ticks": ""
             }
            },
            "type": "scatterpolar"
           }
          ],
          "scatterpolargl": [
           {
            "marker": {
             "colorbar": {
              "outlinewidth": 0,
              "ticks": ""
             }
            },
            "type": "scatterpolargl"
           }
          ],
          "scatterternary": [
           {
            "marker": {
             "colorbar": {
              "outlinewidth": 0,
              "ticks": ""
             }
            },
            "type": "scatterternary"
           }
          ],
          "surface": [
           {
            "colorbar": {
             "outlinewidth": 0,
             "ticks": ""
            },
            "colorscale": [
             [
              0,
              "#0d0887"
             ],
             [
              0.1111111111111111,
              "#46039f"
             ],
             [
              0.2222222222222222,
              "#7201a8"
             ],
             [
              0.3333333333333333,
              "#9c179e"
             ],
             [
              0.4444444444444444,
              "#bd3786"
             ],
             [
              0.5555555555555556,
              "#d8576b"
             ],
             [
              0.6666666666666666,
              "#ed7953"
             ],
             [
              0.7777777777777778,
              "#fb9f3a"
             ],
             [
              0.8888888888888888,
              "#fdca26"
             ],
             [
              1,
              "#f0f921"
             ]
            ],
            "type": "surface"
           }
          ],
          "table": [
           {
            "cells": {
             "fill": {
              "color": "#EBF0F8"
             },
             "line": {
              "color": "white"
             }
            },
            "header": {
             "fill": {
              "color": "#C8D4E3"
             },
             "line": {
              "color": "white"
             }
            },
            "type": "table"
           }
          ]
         },
         "layout": {
          "annotationdefaults": {
           "arrowcolor": "#2a3f5f",
           "arrowhead": 0,
           "arrowwidth": 1
          },
          "autotypenumbers": "strict",
          "coloraxis": {
           "colorbar": {
            "outlinewidth": 0,
            "ticks": ""
           }
          },
          "colorscale": {
           "diverging": [
            [
             0,
             "#8e0152"
            ],
            [
             0.1,
             "#c51b7d"
            ],
            [
             0.2,
             "#de77ae"
            ],
            [
             0.3,
             "#f1b6da"
            ],
            [
             0.4,
             "#fde0ef"
            ],
            [
             0.5,
             "#f7f7f7"
            ],
            [
             0.6,
             "#e6f5d0"
            ],
            [
             0.7,
             "#b8e186"
            ],
            [
             0.8,
             "#7fbc41"
            ],
            [
             0.9,
             "#4d9221"
            ],
            [
             1,
             "#276419"
            ]
           ],
           "sequential": [
            [
             0,
             "#0d0887"
            ],
            [
             0.1111111111111111,
             "#46039f"
            ],
            [
             0.2222222222222222,
             "#7201a8"
            ],
            [
             0.3333333333333333,
             "#9c179e"
            ],
            [
             0.4444444444444444,
             "#bd3786"
            ],
            [
             0.5555555555555556,
             "#d8576b"
            ],
            [
             0.6666666666666666,
             "#ed7953"
            ],
            [
             0.7777777777777778,
             "#fb9f3a"
            ],
            [
             0.8888888888888888,
             "#fdca26"
            ],
            [
             1,
             "#f0f921"
            ]
           ],
           "sequentialminus": [
            [
             0,
             "#0d0887"
            ],
            [
             0.1111111111111111,
             "#46039f"
            ],
            [
             0.2222222222222222,
             "#7201a8"
            ],
            [
             0.3333333333333333,
             "#9c179e"
            ],
            [
             0.4444444444444444,
             "#bd3786"
            ],
            [
             0.5555555555555556,
             "#d8576b"
            ],
            [
             0.6666666666666666,
             "#ed7953"
            ],
            [
             0.7777777777777778,
             "#fb9f3a"
            ],
            [
             0.8888888888888888,
             "#fdca26"
            ],
            [
             1,
             "#f0f921"
            ]
           ]
          },
          "colorway": [
           "#636efa",
           "#EF553B",
           "#00cc96",
           "#ab63fa",
           "#FFA15A",
           "#19d3f3",
           "#FF6692",
           "#B6E880",
           "#FF97FF",
           "#FECB52"
          ],
          "font": {
           "color": "#2a3f5f"
          },
          "geo": {
           "bgcolor": "white",
           "lakecolor": "white",
           "landcolor": "#E5ECF6",
           "showlakes": true,
           "showland": true,
           "subunitcolor": "white"
          },
          "hoverlabel": {
           "align": "left"
          },
          "hovermode": "closest",
          "mapbox": {
           "style": "light"
          },
          "paper_bgcolor": "white",
          "plot_bgcolor": "#E5ECF6",
          "polar": {
           "angularaxis": {
            "gridcolor": "white",
            "linecolor": "white",
            "ticks": ""
           },
           "bgcolor": "#E5ECF6",
           "radialaxis": {
            "gridcolor": "white",
            "linecolor": "white",
            "ticks": ""
           }
          },
          "scene": {
           "xaxis": {
            "backgroundcolor": "#E5ECF6",
            "gridcolor": "white",
            "gridwidth": 2,
            "linecolor": "white",
            "showbackground": true,
            "ticks": "",
            "zerolinecolor": "white"
           },
           "yaxis": {
            "backgroundcolor": "#E5ECF6",
            "gridcolor": "white",
            "gridwidth": 2,
            "linecolor": "white",
            "showbackground": true,
            "ticks": "",
            "zerolinecolor": "white"
           },
           "zaxis": {
            "backgroundcolor": "#E5ECF6",
            "gridcolor": "white",
            "gridwidth": 2,
            "linecolor": "white",
            "showbackground": true,
            "ticks": "",
            "zerolinecolor": "white"
           }
          },
          "shapedefaults": {
           "line": {
            "color": "#2a3f5f"
           }
          },
          "ternary": {
           "aaxis": {
            "gridcolor": "white",
            "linecolor": "white",
            "ticks": ""
           },
           "baxis": {
            "gridcolor": "white",
            "linecolor": "white",
            "ticks": ""
           },
           "bgcolor": "#E5ECF6",
           "caxis": {
            "gridcolor": "white",
            "linecolor": "white",
            "ticks": ""
           }
          },
          "title": {
           "x": 0.05
          },
          "xaxis": {
           "automargin": true,
           "gridcolor": "white",
           "linecolor": "white",
           "ticks": "",
           "title": {
            "standoff": 15
           },
           "zerolinecolor": "white",
           "zerolinewidth": 2
          },
          "yaxis": {
           "automargin": true,
           "gridcolor": "white",
           "linecolor": "white",
           "ticks": "",
           "title": {
            "standoff": 15
           },
           "zerolinecolor": "white",
           "zerolinewidth": 2
          }
         }
        },
        "width": 1280
       }
      }
     },
     "metadata": {},
     "output_type": "display_data"
    }
   ],
   "source": [
    "fig = px.scatter_mapbox(\n",
    "    df,\n",
    "    lat='lat',\n",
    "    lon='lon',\n",
    "    color='water_company',\n",
    "    mapbox_style='open-street-map',\n",
    "    zoom=8,\n",
    "    center={'lat': df.query('postcode == 3000')['lat'].values[0], \n",
    "            'lon': df.query('postcode == 3000')['lon'].values[0]},\n",
    "    opacity=0.8,\n",
    "    hover_name='townsuburb',\n",
    "    hover_data=['water_company'],\n",
    "    color_discrete_map={'Fluoridated': 'red', 'Not fluoridated': 'blue', 'Partly fluoridated': 'black'},\n",
    ")\n",
    "fig.update_layout(\n",
    "    margin={\"r\":0,\"t\":0,\"l\":0,\"b\":0},\n",
    "    width=1280,\n",
    "    height=720,\n",
    "    )\n",
    "\n",
    "fig.show()"
   ]
  },
  {
   "cell_type": "code",
   "execution_count": null,
   "metadata": {},
   "outputs": [
    {
     "data": {
      "text/plain": [
       "Index(['11-Sault-au-Récollet', '12-Saint-Sulpice', '13-Ahuntsic',\n",
       "       '14-Bordeaux-Cartierville', '21-Ouest', '22-Est', '23-Centre',\n",
       "       '31-Darlington', '32-Côte-des-Neiges', '33-Snowdon',\n",
       "       '34-Notre-Dame-de-Grâce', '35-Loyola', '41-du Canal',\n",
       "       '42-J.-Émery-Provost', '43-Fort-Rolland', '51-Sault-Saint-Louis',\n",
       "       '52-Cecil-P.-Newman', '61-Pierre-Foretier', '62-Denis-Benjamin-Viger',\n",
       "       '63-Jacques-Bizard', '64-Sainte-Geneviève', '71-Tétreaultville',\n",
       "       '72-MaisonneuveLongue-Pointe', '73-Hochelaga', '74-Louis-Riel',\n",
       "       '81-Marie-Clarac', '82-Ovide-Clermont', '91-Claude-Ryan',\n",
       "       '92-Joseph-Beaubien', '93-Robert-Bourassa', '94-Jeanne-Sauvé',\n",
       "       '101-Bois-de-Liesse', '102-Cap-Saint-Jacques', '111-Mile-End',\n",
       "       '113-Jeanne-Mance', '121-La Pointe-aux-Prairies',\n",
       "       '122-Pointe-aux-Trembles', '123-Rivière-des-Prairies',\n",
       "       '131-Saint-Édouard', '132-Étienne-Desmarteau', '133-Vieux-Rosemont',\n",
       "       '134-Marie-Victorin', '141-Côte-de-Liesse', '142-Norman-McLaren',\n",
       "       '151-Saint-Léonard-Est', '152-Saint-Léonard-Ouest',\n",
       "       '161-Saint-HenriPetite-BourgognePointe-Saint-Charles',\n",
       "       '162-Saint-PaulÉmard', '171-ChamplainL'Île-des-Soeurs',\n",
       "       '172-Desmarchais-Crawford', '181-Peter-McGill', '182-Saint-Jacques',\n",
       "       '183-Sainte-Marie', '191-Saint-Michel', '192-François-Perrault',\n",
       "       '193-Villeray', '194-Parc-Extension'],\n",
       "      dtype='object', name='district')"
      ]
     },
     "execution_count": 74,
     "metadata": {},
     "output_type": "execute_result"
    }
   ],
   "source": [
    "geo_df.index"
   ]
  },
  {
   "cell_type": "code",
   "execution_count": null,
   "metadata": {},
   "outputs": [
    {
     "data": {
      "text/html": [
       "<div>\n",
       "<style scoped>\n",
       "    .dataframe tbody tr th:only-of-type {\n",
       "        vertical-align: middle;\n",
       "    }\n",
       "\n",
       "    .dataframe tbody tr th {\n",
       "        vertical-align: top;\n",
       "    }\n",
       "\n",
       "    .dataframe thead th {\n",
       "        text-align: right;\n",
       "    }\n",
       "</style>\n",
       "<table border=\"1\" class=\"dataframe\">\n",
       "  <thead>\n",
       "    <tr style=\"text-align: right;\">\n",
       "      <th></th>\n",
       "      <th>name</th>\n",
       "      <th>cartodb_id</th>\n",
       "      <th>created_at</th>\n",
       "      <th>updated_at</th>\n",
       "      <th>geometry</th>\n",
       "    </tr>\n",
       "  </thead>\n",
       "  <tbody>\n",
       "    <tr>\n",
       "      <th>0</th>\n",
       "      <td>Cremorne</td>\n",
       "      <td>31</td>\n",
       "      <td>2015-03-10 04:37:29+00:00</td>\n",
       "      <td>2015-03-10 04:37:29+00:00</td>\n",
       "      <td>MULTIPOLYGON (((144.98905 -37.82341, 144.98793...</td>\n",
       "    </tr>\n",
       "    <tr>\n",
       "      <th>1</th>\n",
       "      <td>Caulfield</td>\n",
       "      <td>56</td>\n",
       "      <td>2015-03-10 04:37:29+00:00</td>\n",
       "      <td>2015-03-10 04:37:29+00:00</td>\n",
       "      <td>MULTIPOLYGON (((145.01631 -37.87916, 145.01495...</td>\n",
       "    </tr>\n",
       "    <tr>\n",
       "      <th>2</th>\n",
       "      <td>Carnegie</td>\n",
       "      <td>58</td>\n",
       "      <td>2015-03-10 04:37:29+00:00</td>\n",
       "      <td>2015-03-10 04:37:29+00:00</td>\n",
       "      <td>MULTIPOLYGON (((145.04613 -37.88727, 145.04495...</td>\n",
       "    </tr>\n",
       "    <tr>\n",
       "      <th>3</th>\n",
       "      <td>Kingsville</td>\n",
       "      <td>107</td>\n",
       "      <td>2015-03-10 04:37:29+00:00</td>\n",
       "      <td>2015-03-10 04:37:29+00:00</td>\n",
       "      <td>MULTIPOLYGON (((144.88543 -37.80259, 144.87400...</td>\n",
       "    </tr>\n",
       "    <tr>\n",
       "      <th>4</th>\n",
       "      <td>South Kingsville</td>\n",
       "      <td>111</td>\n",
       "      <td>2015-03-10 04:37:29+00:00</td>\n",
       "      <td>2015-03-10 04:37:29+00:00</td>\n",
       "      <td>MULTIPOLYGON (((144.86553 -37.83306, 144.86566...</td>\n",
       "    </tr>\n",
       "    <tr>\n",
       "      <th>...</th>\n",
       "      <td>...</td>\n",
       "      <td>...</td>\n",
       "      <td>...</td>\n",
       "      <td>...</td>\n",
       "      <td>...</td>\n",
       "    </tr>\n",
       "    <tr>\n",
       "      <th>117</th>\n",
       "      <td>Altona North</td>\n",
       "      <td>117</td>\n",
       "      <td>2015-03-10 04:37:29+00:00</td>\n",
       "      <td>2015-03-10 04:37:29+00:00</td>\n",
       "      <td>MULTIPOLYGON (((144.85293 -37.85240, 144.85333...</td>\n",
       "    </tr>\n",
       "    <tr>\n",
       "      <th>118</th>\n",
       "      <td>Altona</td>\n",
       "      <td>118</td>\n",
       "      <td>2015-03-10 04:37:29+00:00</td>\n",
       "      <td>2015-03-10 04:37:29+00:00</td>\n",
       "      <td>MULTIPOLYGON (((144.85293 -37.85240, 144.84505...</td>\n",
       "    </tr>\n",
       "    <tr>\n",
       "      <th>119</th>\n",
       "      <td>Altona Meadows</td>\n",
       "      <td>119</td>\n",
       "      <td>2015-03-10 04:37:29+00:00</td>\n",
       "      <td>2015-03-10 04:37:29+00:00</td>\n",
       "      <td>MULTIPOLYGON (((144.80832 -37.88196, 144.80521...</td>\n",
       "    </tr>\n",
       "    <tr>\n",
       "      <th>120</th>\n",
       "      <td>Seabrook</td>\n",
       "      <td>121</td>\n",
       "      <td>2015-03-10 04:37:29+00:00</td>\n",
       "      <td>2015-03-10 04:37:29+00:00</td>\n",
       "      <td>MULTIPOLYGON (((144.76670 -37.88393, 144.76577...</td>\n",
       "    </tr>\n",
       "    <tr>\n",
       "      <th>121</th>\n",
       "      <td>Melbourne (3004)</td>\n",
       "      <td>122</td>\n",
       "      <td>2015-03-10 04:37:29+00:00</td>\n",
       "      <td>2015-03-10 04:37:29+00:00</td>\n",
       "      <td>MULTIPOLYGON (((144.98492 -37.82807, 144.98500...</td>\n",
       "    </tr>\n",
       "  </tbody>\n",
       "</table>\n",
       "<p>122 rows × 5 columns</p>\n",
       "</div>"
      ],
      "text/plain": [
       "                 name  cartodb_id                created_at  \\\n",
       "0            Cremorne          31 2015-03-10 04:37:29+00:00   \n",
       "1           Caulfield          56 2015-03-10 04:37:29+00:00   \n",
       "2            Carnegie          58 2015-03-10 04:37:29+00:00   \n",
       "3          Kingsville         107 2015-03-10 04:37:29+00:00   \n",
       "4    South Kingsville         111 2015-03-10 04:37:29+00:00   \n",
       "..                ...         ...                       ...   \n",
       "117      Altona North         117 2015-03-10 04:37:29+00:00   \n",
       "118            Altona         118 2015-03-10 04:37:29+00:00   \n",
       "119    Altona Meadows         119 2015-03-10 04:37:29+00:00   \n",
       "120          Seabrook         121 2015-03-10 04:37:29+00:00   \n",
       "121  Melbourne (3004)         122 2015-03-10 04:37:29+00:00   \n",
       "\n",
       "                   updated_at  \\\n",
       "0   2015-03-10 04:37:29+00:00   \n",
       "1   2015-03-10 04:37:29+00:00   \n",
       "2   2015-03-10 04:37:29+00:00   \n",
       "3   2015-03-10 04:37:29+00:00   \n",
       "4   2015-03-10 04:37:29+00:00   \n",
       "..                        ...   \n",
       "117 2015-03-10 04:37:29+00:00   \n",
       "118 2015-03-10 04:37:29+00:00   \n",
       "119 2015-03-10 04:37:29+00:00   \n",
       "120 2015-03-10 04:37:29+00:00   \n",
       "121 2015-03-10 04:37:29+00:00   \n",
       "\n",
       "                                              geometry  \n",
       "0    MULTIPOLYGON (((144.98905 -37.82341, 144.98793...  \n",
       "1    MULTIPOLYGON (((145.01631 -37.87916, 145.01495...  \n",
       "2    MULTIPOLYGON (((145.04613 -37.88727, 145.04495...  \n",
       "3    MULTIPOLYGON (((144.88543 -37.80259, 144.87400...  \n",
       "4    MULTIPOLYGON (((144.86553 -37.83306, 144.86566...  \n",
       "..                                                 ...  \n",
       "117  MULTIPOLYGON (((144.85293 -37.85240, 144.85333...  \n",
       "118  MULTIPOLYGON (((144.85293 -37.85240, 144.84505...  \n",
       "119  MULTIPOLYGON (((144.80832 -37.88196, 144.80521...  \n",
       "120  MULTIPOLYGON (((144.76670 -37.88393, 144.76577...  \n",
       "121  MULTIPOLYGON (((144.98492 -37.82807, 144.98500...  \n",
       "\n",
       "[122 rows x 5 columns]"
      ]
     },
     "execution_count": 72,
     "metadata": {},
     "output_type": "execute_result"
    }
   ],
   "source": [
    "gpd.read_file('https://raw.githubusercontent.com/codeforgermany/click_that_hood/main/public/data/melbourne.geojson')"
   ]
  },
  {
   "cell_type": "code",
   "execution_count": null,
   "metadata": {},
   "outputs": [],
   "source": []
  }
 ],
 "metadata": {
  "kernelspec": {
   "display_name": ".mld-venv",
   "language": "python",
   "name": "python3"
  },
  "language_info": {
   "codemirror_mode": {
    "name": "ipython",
    "version": 3
   },
   "file_extension": ".py",
   "mimetype": "text/x-python",
   "name": "python",
   "nbconvert_exporter": "python",
   "pygments_lexer": "ipython3",
   "version": "3.12.3"
  }
 },
 "nbformat": 4,
 "nbformat_minor": 2
}
